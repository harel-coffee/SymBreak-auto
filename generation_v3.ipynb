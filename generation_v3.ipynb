{
 "cells": [
  {
   "cell_type": "markdown",
   "id": "41cca76a",
   "metadata": {},
   "source": [
    "To Do:\n",
    "- [x] Train random forest model on current dataset\n",
    "- [x] Random generate localities of a given window size and activation threshold\n",
    "- [x] Compute features of generated localities\n",
    "- [x] Predict the minimum dipole of a batch of generated localities, then sort\n",
    "- [x] Look at elite results (top 10) by eye across windows, compute some comparative statistics\n",
    "- [ ] Take elite results, further optimize by simulated annealing"
   ]
  },
  {
   "cell_type": "code",
   "execution_count": 1,
   "id": "22992388",
   "metadata": {},
   "outputs": [],
   "source": [
    "from itertools import product\n",
    "import pandas as pd\n",
    "import numpy as np\n",
    "from sklearn.ensemble import RandomForestRegressor\n",
    "from sklearn.linear_model import LinearRegression\n",
    "from sklearn.preprocessing import StandardScaler\n",
    "from sklearn.preprocessing import PowerTransformer\n",
    "from tqdm import tqdm\n",
    "from itertools import product\n",
    "import matplotlib.pyplot as plt"
   ]
  },
  {
   "cell_type": "markdown",
   "id": "7224a6bc",
   "metadata": {},
   "source": [
    "### Validating feature extraction"
   ]
  },
  {
   "cell_type": "code",
   "execution_count": 140,
   "id": "98912b58",
   "metadata": {},
   "outputs": [],
   "source": [
    "match3 = np.load(\"match_3.npy\")"
   ]
  },
  {
   "cell_type": "code",
   "execution_count": 142,
   "id": "60304373",
   "metadata": {},
   "outputs": [
    {
     "data": {
      "text/html": [
       "<div>\n",
       "<style scoped>\n",
       "    .dataframe tbody tr th:only-of-type {\n",
       "        vertical-align: middle;\n",
       "    }\n",
       "\n",
       "    .dataframe tbody tr th {\n",
       "        vertical-align: top;\n",
       "    }\n",
       "\n",
       "    .dataframe thead th {\n",
       "        text-align: right;\n",
       "    }\n",
       "</style>\n",
       "<table border=\"1\" class=\"dataframe\">\n",
       "  <thead>\n",
       "    <tr style=\"text-align: right;\">\n",
       "      <th></th>\n",
       "      <th>0</th>\n",
       "      <th>1</th>\n",
       "      <th>2</th>\n",
       "      <th>3</th>\n",
       "      <th>4</th>\n",
       "      <th>5</th>\n",
       "    </tr>\n",
       "  </thead>\n",
       "  <tbody>\n",
       "    <tr>\n",
       "      <th>0</th>\n",
       "      <td>1700.0</td>\n",
       "      <td>100.0</td>\n",
       "      <td>964.0</td>\n",
       "      <td>63.0</td>\n",
       "      <td>48.0</td>\n",
       "      <td>0.002954</td>\n",
       "    </tr>\n",
       "    <tr>\n",
       "      <th>1</th>\n",
       "      <td>2100.0</td>\n",
       "      <td>100.0</td>\n",
       "      <td>1182.0</td>\n",
       "      <td>48.0</td>\n",
       "      <td>22.0</td>\n",
       "      <td>0.004266</td>\n",
       "    </tr>\n",
       "    <tr>\n",
       "      <th>2</th>\n",
       "      <td>3300.0</td>\n",
       "      <td>100.0</td>\n",
       "      <td>1843.0</td>\n",
       "      <td>68.0</td>\n",
       "      <td>59.0</td>\n",
       "      <td>0.015801</td>\n",
       "    </tr>\n",
       "    <tr>\n",
       "      <th>3</th>\n",
       "      <td>5300.0</td>\n",
       "      <td>300.0</td>\n",
       "      <td>2800.0</td>\n",
       "      <td>182.0</td>\n",
       "      <td>8.0</td>\n",
       "      <td>0.004834</td>\n",
       "    </tr>\n",
       "    <tr>\n",
       "      <th>4</th>\n",
       "      <td>7900.0</td>\n",
       "      <td>500.0</td>\n",
       "      <td>4164.0</td>\n",
       "      <td>284.0</td>\n",
       "      <td>40.0</td>\n",
       "      <td>0.000000</td>\n",
       "    </tr>\n",
       "    <tr>\n",
       "      <th>...</th>\n",
       "      <td>...</td>\n",
       "      <td>...</td>\n",
       "      <td>...</td>\n",
       "      <td>...</td>\n",
       "      <td>...</td>\n",
       "      <td>...</td>\n",
       "    </tr>\n",
       "    <tr>\n",
       "      <th>80</th>\n",
       "      <td>700.0</td>\n",
       "      <td>7900.0</td>\n",
       "      <td>366.0</td>\n",
       "      <td>4069.0</td>\n",
       "      <td>43.0</td>\n",
       "      <td>0.026355</td>\n",
       "    </tr>\n",
       "    <tr>\n",
       "      <th>81</th>\n",
       "      <td>900.0</td>\n",
       "      <td>7900.0</td>\n",
       "      <td>468.0</td>\n",
       "      <td>4087.0</td>\n",
       "      <td>14.0</td>\n",
       "      <td>0.008710</td>\n",
       "    </tr>\n",
       "    <tr>\n",
       "      <th>82</th>\n",
       "      <td>4900.0</td>\n",
       "      <td>7900.0</td>\n",
       "      <td>2497.0</td>\n",
       "      <td>4136.0</td>\n",
       "      <td>98.0</td>\n",
       "      <td>0.014241</td>\n",
       "    </tr>\n",
       "    <tr>\n",
       "      <th>83</th>\n",
       "      <td>5100.0</td>\n",
       "      <td>7900.0</td>\n",
       "      <td>2673.0</td>\n",
       "      <td>4092.0</td>\n",
       "      <td>23.0</td>\n",
       "      <td>0.002915</td>\n",
       "    </tr>\n",
       "    <tr>\n",
       "      <th>84</th>\n",
       "      <td>7500.0</td>\n",
       "      <td>7900.0</td>\n",
       "      <td>3872.0</td>\n",
       "      <td>4222.0</td>\n",
       "      <td>168.0</td>\n",
       "      <td>0.066220</td>\n",
       "    </tr>\n",
       "  </tbody>\n",
       "</table>\n",
       "<p>85 rows × 6 columns</p>\n",
       "</div>"
      ],
      "text/plain": [
       "         0       1       2       3      4         5\n",
       "0   1700.0   100.0   964.0    63.0   48.0  0.002954\n",
       "1   2100.0   100.0  1182.0    48.0   22.0  0.004266\n",
       "2   3300.0   100.0  1843.0    68.0   59.0  0.015801\n",
       "3   5300.0   300.0  2800.0   182.0    8.0  0.004834\n",
       "4   7900.0   500.0  4164.0   284.0   40.0  0.000000\n",
       "..     ...     ...     ...     ...    ...       ...\n",
       "80   700.0  7900.0   366.0  4069.0   43.0  0.026355\n",
       "81   900.0  7900.0   468.0  4087.0   14.0  0.008710\n",
       "82  4900.0  7900.0  2497.0  4136.0   98.0  0.014241\n",
       "83  5100.0  7900.0  2673.0  4092.0   23.0  0.002915\n",
       "84  7500.0  7900.0  3872.0  4222.0  168.0  0.066220\n",
       "\n",
       "[85 rows x 6 columns]"
      ]
     },
     "execution_count": 142,
     "metadata": {},
     "output_type": "execute_result"
    }
   ],
   "source": [
    "pd.DataFrame(match3)"
   ]
  },
  {
   "cell_type": "code",
   "execution_count": 147,
   "id": "f107efea",
   "metadata": {},
   "outputs": [],
   "source": [
    "x, y = match3[:, :2][:, 0], match3[:, :2][:, 1]"
   ]
  },
  {
   "cell_type": "code",
   "execution_count": null,
   "id": "14b4df2d",
   "metadata": {},
   "outputs": [],
   "source": [
    "extract_features(centroid_x, centroid_y, 40, 1000, 200)"
   ]
  },
  {
   "cell_type": "code",
   "execution_count": null,
   "id": "eafa53be",
   "metadata": {},
   "outputs": [],
   "source": []
  },
  {
   "cell_type": "code",
   "execution_count": null,
   "id": "515e2a78",
   "metadata": {},
   "outputs": [],
   "source": []
  },
  {
   "cell_type": "code",
   "execution_count": null,
   "id": "d22140a9",
   "metadata": {},
   "outputs": [],
   "source": []
  },
  {
   "cell_type": "code",
   "execution_count": null,
   "id": "b369f14d",
   "metadata": {},
   "outputs": [],
   "source": []
  },
  {
   "cell_type": "code",
   "execution_count": null,
   "id": "881ed66d",
   "metadata": {},
   "outputs": [],
   "source": []
  },
  {
   "cell_type": "code",
   "execution_count": null,
   "id": "9f641b1f",
   "metadata": {},
   "outputs": [],
   "source": []
  },
  {
   "cell_type": "markdown",
   "id": "96beaf7d",
   "metadata": {},
   "source": [
    "### Data Preprocessing"
   ]
  },
  {
   "cell_type": "code",
   "execution_count": 2,
   "id": "a385a311",
   "metadata": {},
   "outputs": [],
   "source": [
    "df = pd.read_csv(\"dfRandomVer1V4.csv\")\n",
    "subCols = [\"density_1000\",\"lap_1000\",\"dipole\"]\n",
    "subColsTest = [\"density_1000\",\"grad_1000\",\"dipole\"]\n",
    "dfSub = df[subCols]\n",
    "dfSubTest = df[subColsTest]"
   ]
  },
  {
   "cell_type": "code",
   "execution_count": 54,
   "id": "2b7eaf6b",
   "metadata": {},
   "outputs": [
    {
     "data": {
      "text/html": [
       "<div>\n",
       "<style scoped>\n",
       "    .dataframe tbody tr th:only-of-type {\n",
       "        vertical-align: middle;\n",
       "    }\n",
       "\n",
       "    .dataframe tbody tr th {\n",
       "        vertical-align: top;\n",
       "    }\n",
       "\n",
       "    .dataframe thead th {\n",
       "        text-align: right;\n",
       "    }\n",
       "</style>\n",
       "<table border=\"1\" class=\"dataframe\">\n",
       "  <thead>\n",
       "    <tr style=\"text-align: right;\">\n",
       "      <th></th>\n",
       "      <th>coord_x</th>\n",
       "      <th>coord_y</th>\n",
       "      <th>coord_x.1</th>\n",
       "      <th>coord_y.1</th>\n",
       "      <th>skeleton_length</th>\n",
       "      <th>dipole</th>\n",
       "      <th>density_200</th>\n",
       "      <th>density_500</th>\n",
       "      <th>density_800</th>\n",
       "      <th>density_1000</th>\n",
       "      <th>...</th>\n",
       "      <th>lap_1200</th>\n",
       "      <th>lap_1500</th>\n",
       "      <th>lap_2000</th>\n",
       "      <th>count_200</th>\n",
       "      <th>count_500</th>\n",
       "      <th>count_800</th>\n",
       "      <th>count_1000</th>\n",
       "      <th>count_1200</th>\n",
       "      <th>count_1500</th>\n",
       "      <th>count_2000</th>\n",
       "    </tr>\n",
       "  </thead>\n",
       "  <tbody>\n",
       "    <tr>\n",
       "      <th>0</th>\n",
       "      <td>300.0</td>\n",
       "      <td>3500.0</td>\n",
       "      <td>211.0</td>\n",
       "      <td>1798.0</td>\n",
       "      <td>14.0</td>\n",
       "      <td>0.008938</td>\n",
       "      <td>0.0</td>\n",
       "      <td>0.000000</td>\n",
       "      <td>0.000000e+00</td>\n",
       "      <td>3.183099e-07</td>\n",
       "      <td>...</td>\n",
       "      <td>-107.999998</td>\n",
       "      <td>-175.999998</td>\n",
       "      <td>-303.999997</td>\n",
       "      <td>0.0</td>\n",
       "      <td>0.0</td>\n",
       "      <td>0.0</td>\n",
       "      <td>1.0</td>\n",
       "      <td>1.0</td>\n",
       "      <td>1.0</td>\n",
       "      <td>6.0</td>\n",
       "    </tr>\n",
       "    <tr>\n",
       "      <th>1</th>\n",
       "      <td>500.0</td>\n",
       "      <td>1300.0</td>\n",
       "      <td>310.0</td>\n",
       "      <td>660.0</td>\n",
       "      <td>39.0</td>\n",
       "      <td>0.018261</td>\n",
       "      <td>0.0</td>\n",
       "      <td>0.000001</td>\n",
       "      <td>4.973592e-07</td>\n",
       "      <td>3.183099e-07</td>\n",
       "      <td>...</td>\n",
       "      <td>-107.999993</td>\n",
       "      <td>-175.999992</td>\n",
       "      <td>-303.999990</td>\n",
       "      <td>0.0</td>\n",
       "      <td>1.0</td>\n",
       "      <td>1.0</td>\n",
       "      <td>1.0</td>\n",
       "      <td>2.0</td>\n",
       "      <td>3.0</td>\n",
       "      <td>8.0</td>\n",
       "    </tr>\n",
       "    <tr>\n",
       "      <th>2</th>\n",
       "      <td>700.0</td>\n",
       "      <td>6500.0</td>\n",
       "      <td>381.0</td>\n",
       "      <td>3345.0</td>\n",
       "      <td>31.0</td>\n",
       "      <td>0.028706</td>\n",
       "      <td>0.0</td>\n",
       "      <td>0.000000</td>\n",
       "      <td>0.000000e+00</td>\n",
       "      <td>3.183099e-07</td>\n",
       "      <td>...</td>\n",
       "      <td>-107.999998</td>\n",
       "      <td>-175.999995</td>\n",
       "      <td>-303.999994</td>\n",
       "      <td>0.0</td>\n",
       "      <td>0.0</td>\n",
       "      <td>0.0</td>\n",
       "      <td>1.0</td>\n",
       "      <td>2.0</td>\n",
       "      <td>8.0</td>\n",
       "      <td>11.0</td>\n",
       "    </tr>\n",
       "    <tr>\n",
       "      <th>3</th>\n",
       "      <td>700.0</td>\n",
       "      <td>7900.0</td>\n",
       "      <td>366.0</td>\n",
       "      <td>4069.0</td>\n",
       "      <td>43.0</td>\n",
       "      <td>0.014058</td>\n",
       "      <td>0.0</td>\n",
       "      <td>0.000001</td>\n",
       "      <td>4.973592e-07</td>\n",
       "      <td>3.183099e-07</td>\n",
       "      <td>...</td>\n",
       "      <td>-107.999975</td>\n",
       "      <td>-175.999974</td>\n",
       "      <td>-303.999974</td>\n",
       "      <td>0.0</td>\n",
       "      <td>1.0</td>\n",
       "      <td>1.0</td>\n",
       "      <td>1.0</td>\n",
       "      <td>1.0</td>\n",
       "      <td>2.0</td>\n",
       "      <td>5.0</td>\n",
       "    </tr>\n",
       "    <tr>\n",
       "      <th>4</th>\n",
       "      <td>900.0</td>\n",
       "      <td>1300.0</td>\n",
       "      <td>522.0</td>\n",
       "      <td>644.0</td>\n",
       "      <td>79.0</td>\n",
       "      <td>0.090741</td>\n",
       "      <td>0.0</td>\n",
       "      <td>0.000001</td>\n",
       "      <td>9.947184e-07</td>\n",
       "      <td>6.366198e-07</td>\n",
       "      <td>...</td>\n",
       "      <td>-107.999989</td>\n",
       "      <td>-175.999988</td>\n",
       "      <td>-303.999987</td>\n",
       "      <td>0.0</td>\n",
       "      <td>1.0</td>\n",
       "      <td>2.0</td>\n",
       "      <td>2.0</td>\n",
       "      <td>4.0</td>\n",
       "      <td>7.0</td>\n",
       "      <td>10.0</td>\n",
       "    </tr>\n",
       "  </tbody>\n",
       "</table>\n",
       "<p>5 rows × 34 columns</p>\n",
       "</div>"
      ],
      "text/plain": [
       "   coord_x  coord_y  coord_x.1  coord_y.1  skeleton_length    dipole  \\\n",
       "0    300.0   3500.0      211.0     1798.0             14.0  0.008938   \n",
       "1    500.0   1300.0      310.0      660.0             39.0  0.018261   \n",
       "2    700.0   6500.0      381.0     3345.0             31.0  0.028706   \n",
       "3    700.0   7900.0      366.0     4069.0             43.0  0.014058   \n",
       "4    900.0   1300.0      522.0      644.0             79.0  0.090741   \n",
       "\n",
       "   density_200  density_500   density_800  density_1000  ...    lap_1200  \\\n",
       "0          0.0     0.000000  0.000000e+00  3.183099e-07  ... -107.999998   \n",
       "1          0.0     0.000001  4.973592e-07  3.183099e-07  ... -107.999993   \n",
       "2          0.0     0.000000  0.000000e+00  3.183099e-07  ... -107.999998   \n",
       "3          0.0     0.000001  4.973592e-07  3.183099e-07  ... -107.999975   \n",
       "4          0.0     0.000001  9.947184e-07  6.366198e-07  ... -107.999989   \n",
       "\n",
       "     lap_1500    lap_2000  count_200  count_500  count_800  count_1000  \\\n",
       "0 -175.999998 -303.999997        0.0        0.0        0.0         1.0   \n",
       "1 -175.999992 -303.999990        0.0        1.0        1.0         1.0   \n",
       "2 -175.999995 -303.999994        0.0        0.0        0.0         1.0   \n",
       "3 -175.999974 -303.999974        0.0        1.0        1.0         1.0   \n",
       "4 -175.999988 -303.999987        0.0        1.0        2.0         2.0   \n",
       "\n",
       "   count_1200  count_1500  count_2000  \n",
       "0         1.0         1.0         6.0  \n",
       "1         2.0         3.0         8.0  \n",
       "2         2.0         8.0        11.0  \n",
       "3         1.0         2.0         5.0  \n",
       "4         4.0         7.0        10.0  \n",
       "\n",
       "[5 rows x 34 columns]"
      ]
     },
     "execution_count": 54,
     "metadata": {},
     "output_type": "execute_result"
    }
   ],
   "source": [
    "df.head()"
   ]
  },
  {
   "cell_type": "code",
   "execution_count": 18,
   "id": "2f3098d4",
   "metadata": {},
   "outputs": [
    {
     "data": {
      "text/html": [
       "<div>\n",
       "<style scoped>\n",
       "    .dataframe tbody tr th:only-of-type {\n",
       "        vertical-align: middle;\n",
       "    }\n",
       "\n",
       "    .dataframe tbody tr th {\n",
       "        vertical-align: top;\n",
       "    }\n",
       "\n",
       "    .dataframe thead th {\n",
       "        text-align: right;\n",
       "    }\n",
       "</style>\n",
       "<table border=\"1\" class=\"dataframe\">\n",
       "  <thead>\n",
       "    <tr style=\"text-align: right;\">\n",
       "      <th></th>\n",
       "      <th>density_1000</th>\n",
       "      <th>lap_1000</th>\n",
       "      <th>dipole</th>\n",
       "    </tr>\n",
       "  </thead>\n",
       "  <tbody>\n",
       "    <tr>\n",
       "      <th>0</th>\n",
       "      <td>3.183099e-07</td>\n",
       "      <td>-67.999998</td>\n",
       "      <td>0.008938</td>\n",
       "    </tr>\n",
       "    <tr>\n",
       "      <th>1</th>\n",
       "      <td>3.183099e-07</td>\n",
       "      <td>-67.999994</td>\n",
       "      <td>0.018261</td>\n",
       "    </tr>\n",
       "    <tr>\n",
       "      <th>2</th>\n",
       "      <td>3.183099e-07</td>\n",
       "      <td>-67.999999</td>\n",
       "      <td>0.028706</td>\n",
       "    </tr>\n",
       "    <tr>\n",
       "      <th>3</th>\n",
       "      <td>3.183099e-07</td>\n",
       "      <td>-67.999975</td>\n",
       "      <td>0.014058</td>\n",
       "    </tr>\n",
       "    <tr>\n",
       "      <th>4</th>\n",
       "      <td>6.366198e-07</td>\n",
       "      <td>-67.999991</td>\n",
       "      <td>0.090741</td>\n",
       "    </tr>\n",
       "  </tbody>\n",
       "</table>\n",
       "</div>"
      ],
      "text/plain": [
       "   density_1000   lap_1000    dipole\n",
       "0  3.183099e-07 -67.999998  0.008938\n",
       "1  3.183099e-07 -67.999994  0.018261\n",
       "2  3.183099e-07 -67.999999  0.028706\n",
       "3  3.183099e-07 -67.999975  0.014058\n",
       "4  6.366198e-07 -67.999991  0.090741"
      ]
     },
     "execution_count": 18,
     "metadata": {},
     "output_type": "execute_result"
    }
   ],
   "source": [
    "dfSub.head()"
   ]
  },
  {
   "cell_type": "code",
   "execution_count": 104,
   "id": "2cf61c75",
   "metadata": {},
   "outputs": [
    {
     "data": {
      "text/html": [
       "<div>\n",
       "<style scoped>\n",
       "    .dataframe tbody tr th:only-of-type {\n",
       "        vertical-align: middle;\n",
       "    }\n",
       "\n",
       "    .dataframe tbody tr th {\n",
       "        vertical-align: top;\n",
       "    }\n",
       "\n",
       "    .dataframe thead th {\n",
       "        text-align: right;\n",
       "    }\n",
       "</style>\n",
       "<table border=\"1\" class=\"dataframe\">\n",
       "  <thead>\n",
       "    <tr style=\"text-align: right;\">\n",
       "      <th></th>\n",
       "      <th>density_1000</th>\n",
       "      <th>grad_1000</th>\n",
       "      <th>dipole</th>\n",
       "    </tr>\n",
       "  </thead>\n",
       "  <tbody>\n",
       "    <tr>\n",
       "      <th>0</th>\n",
       "      <td>3.183099e-07</td>\n",
       "      <td>60.352647</td>\n",
       "      <td>0.008938</td>\n",
       "    </tr>\n",
       "    <tr>\n",
       "      <th>1</th>\n",
       "      <td>3.183099e-07</td>\n",
       "      <td>60.352643</td>\n",
       "      <td>0.018261</td>\n",
       "    </tr>\n",
       "    <tr>\n",
       "      <th>2</th>\n",
       "      <td>3.183099e-07</td>\n",
       "      <td>60.352646</td>\n",
       "      <td>0.028706</td>\n",
       "    </tr>\n",
       "    <tr>\n",
       "      <th>3</th>\n",
       "      <td>3.183099e-07</td>\n",
       "      <td>60.352630</td>\n",
       "      <td>0.014058</td>\n",
       "    </tr>\n",
       "    <tr>\n",
       "      <th>4</th>\n",
       "      <td>6.366198e-07</td>\n",
       "      <td>60.352641</td>\n",
       "      <td>0.090741</td>\n",
       "    </tr>\n",
       "    <tr>\n",
       "      <th>...</th>\n",
       "      <td>...</td>\n",
       "      <td>...</td>\n",
       "      <td>...</td>\n",
       "    </tr>\n",
       "    <tr>\n",
       "      <th>542</th>\n",
       "      <td>1.591549e-06</td>\n",
       "      <td>60.352637</td>\n",
       "      <td>0.018604</td>\n",
       "    </tr>\n",
       "    <tr>\n",
       "      <th>543</th>\n",
       "      <td>9.549297e-07</td>\n",
       "      <td>60.352639</td>\n",
       "      <td>0.008876</td>\n",
       "    </tr>\n",
       "    <tr>\n",
       "      <th>544</th>\n",
       "      <td>0.000000e+00</td>\n",
       "      <td>60.352648</td>\n",
       "      <td>0.027096</td>\n",
       "    </tr>\n",
       "    <tr>\n",
       "      <th>545</th>\n",
       "      <td>0.000000e+00</td>\n",
       "      <td>60.352648</td>\n",
       "      <td>0.184917</td>\n",
       "    </tr>\n",
       "    <tr>\n",
       "      <th>546</th>\n",
       "      <td>6.366198e-07</td>\n",
       "      <td>60.352644</td>\n",
       "      <td>0.099175</td>\n",
       "    </tr>\n",
       "  </tbody>\n",
       "</table>\n",
       "<p>547 rows × 3 columns</p>\n",
       "</div>"
      ],
      "text/plain": [
       "     density_1000  grad_1000    dipole\n",
       "0    3.183099e-07  60.352647  0.008938\n",
       "1    3.183099e-07  60.352643  0.018261\n",
       "2    3.183099e-07  60.352646  0.028706\n",
       "3    3.183099e-07  60.352630  0.014058\n",
       "4    6.366198e-07  60.352641  0.090741\n",
       "..            ...        ...       ...\n",
       "542  1.591549e-06  60.352637  0.018604\n",
       "543  9.549297e-07  60.352639  0.008876\n",
       "544  0.000000e+00  60.352648  0.027096\n",
       "545  0.000000e+00  60.352648  0.184917\n",
       "546  6.366198e-07  60.352644  0.099175\n",
       "\n",
       "[547 rows x 3 columns]"
      ]
     },
     "execution_count": 104,
     "metadata": {},
     "output_type": "execute_result"
    }
   ],
   "source": [
    "dfSubTest"
   ]
  },
  {
   "cell_type": "code",
   "execution_count": 17,
   "id": "c39950c9",
   "metadata": {
    "scrolled": true
   },
   "outputs": [
    {
     "data": {
      "text/plain": [
       "(array([ 57., 106., 131., 105.,  77.,  36.,  21.,   4.,   7.,   3.]),\n",
       " array([0.00000000e+00, 3.50140875e-07, 7.00281750e-07, 1.05042262e-06,\n",
       "        1.40056350e-06, 1.75070437e-06, 2.10084525e-06, 2.45098612e-06,\n",
       "        2.80112700e-06, 3.15126787e-06, 3.50140875e-06]),\n",
       " <BarContainer object of 10 artists>)"
      ]
     },
     "execution_count": 17,
     "metadata": {},
     "output_type": "execute_result"
    },
    {
     "data": {
      "image/png": "[encoded data removed]",
      "text/plain": [
       "<Figure size 432x288 with 1 Axes>"
      ]
     },
     "metadata": {
      "needs_background": "light"
     },
     "output_type": "display_data"
    }
   ],
   "source": [
    "plt.hist(dfSub.density_1000)"
   ]
  },
  {
   "cell_type": "code",
   "execution_count": 19,
   "id": "1ff2ec51",
   "metadata": {},
   "outputs": [
    {
     "data": {
      "text/plain": [
       "(array([204., 146.,  58.,  71.,  37.,  13.,   7.,   7.,   2.,   2.]),\n",
       " array([-68.        , -67.99999154, -67.99998308, -67.99997462,\n",
       "        -67.99996616, -67.9999577 , -67.99994924, -67.99994078,\n",
       "        -67.99993232, -67.99992386, -67.9999154 ]),\n",
       " <BarContainer object of 10 artists>)"
      ]
     },
     "execution_count": 19,
     "metadata": {},
     "output_type": "execute_result"
    },
    {
     "data": {
      "image/png": "[encoded data removed]",
      "text/plain": [
       "<Figure size 432x288 with 1 Axes>"
      ]
     },
     "metadata": {
      "needs_background": "light"
     },
     "output_type": "display_data"
    }
   ],
   "source": [
    "plt.hist(dfSub.lap_1000)"
   ]
  },
  {
   "cell_type": "code",
   "execution_count": 20,
   "id": "3da7abff",
   "metadata": {},
   "outputs": [
    {
     "data": {
      "text/plain": [
       "(array([372.,  93.,  29.,  27.,   9.,   4.,   7.,   3.,   2.,   1.]),\n",
       " array([0.        , 0.12185011, 0.24370022, 0.36555034, 0.48740045,\n",
       "        0.60925056, 0.73110067, 0.85295078, 0.9748009 , 1.09665101,\n",
       "        1.21850112]),\n",
       " <BarContainer object of 10 artists>)"
      ]
     },
     "execution_count": 20,
     "metadata": {},
     "output_type": "execute_result"
    },
    {
     "data": {
      "image/png": "[encoded data removed]",
      "text/plain": [
       "<Figure size 432x288 with 1 Axes>"
      ]
     },
     "metadata": {
      "needs_background": "light"
     },
     "output_type": "display_data"
    }
   ],
   "source": [
    "plt.hist(dfSub.iloc[:, -1])"
   ]
  },
  {
   "cell_type": "markdown",
   "id": "09a234fc",
   "metadata": {},
   "source": [
    "### Function Definitions"
   ]
  },
  {
   "cell_type": "markdown",
   "id": "4f34f5fd",
   "metadata": {},
   "source": [
    " Models"
   ]
  },
  {
   "cell_type": "code",
   "execution_count": 15,
   "id": "5e0187a7",
   "metadata": {},
   "outputs": [],
   "source": [
    "def rf_model(df):\n",
    "    X, y = df.iloc[:, :-1], df.iloc[:, -1]\n",
    "    discriminator = RandomForestRegressor(max_depth=2)\n",
    "    discriminator.fit(X, y)\n",
    "    return discriminator"
   ]
  },
  {
   "cell_type": "code",
   "execution_count": 95,
   "id": "5f3afb08",
   "metadata": {},
   "outputs": [],
   "source": [
    "def linear_model(df):\n",
    "    X, y = df.iloc[:, :-1], df.iloc[:, -1]\n",
    "    scaler = StandardScaler()\n",
    "    X_scaled = scaler.fit_transform(X)\n",
    "    discriminator = LinearRegression()\n",
    "    discriminator.fit(X_scaled, y)\n",
    "    return discriminator, scaler"
   ]
  },
  {
   "cell_type": "code",
   "execution_count": 100,
   "id": "53be5517",
   "metadata": {},
   "outputs": [],
   "source": [
    "hi, scaler = linear_model(dfSub)"
   ]
  },
  {
   "cell_type": "code",
   "execution_count": 101,
   "id": "77fa3f93",
   "metadata": {},
   "outputs": [
    {
     "data": {
      "text/plain": [
       "array([0.01717031, 0.08132392])"
      ]
     },
     "execution_count": 101,
     "metadata": {},
     "output_type": "execute_result"
    }
   ],
   "source": [
    "hi.coef_"
   ]
  },
  {
   "cell_type": "code",
   "execution_count": null,
   "id": "b8ef8ad2",
   "metadata": {},
   "outputs": [],
   "source": []
  },
  {
   "cell_type": "code",
   "execution_count": 102,
   "id": "9e8fb029",
   "metadata": {},
   "outputs": [],
   "source": [
    "hi1, scaler = linear_model(dfSubTest)"
   ]
  },
  {
   "cell_type": "code",
   "execution_count": 103,
   "id": "604d1b6b",
   "metadata": {},
   "outputs": [
    {
     "data": {
      "text/plain": [
       "array([ 0.01380557, -0.08119717])"
      ]
     },
     "execution_count": 103,
     "metadata": {},
     "output_type": "execute_result"
    }
   ],
   "source": [
    "hi1.coef_"
   ]
  },
  {
   "cell_type": "markdown",
   "id": "a1443e7d",
   "metadata": {},
   "source": [
    "Random generate localities of a given window size and activation threshold"
   ]
  },
  {
   "cell_type": "code",
   "execution_count": 5,
   "id": "ca7b4068",
   "metadata": {},
   "outputs": [],
   "source": [
    "def generate_pattern(pattern_dim, threshold):\n",
    "    random_pattern = np.random.rand(pattern_dim, pattern_dim)\n",
    "    binary_pattern = np.where(random_pattern < threshold, 1, 0)\n",
    "    \n",
    "    org_locs = np.where(binary_pattern == 1)\n",
    "    \n",
    "    return org_locs[0], org_locs[1]#, binary_pattern"
   ]
  },
  {
   "cell_type": "markdown",
   "id": "a80194c9",
   "metadata": {},
   "source": [
    "Compute features of generated localities"
   ]
  },
  {
   "cell_type": "code",
   "execution_count": 64,
   "id": "6bd81dc8",
   "metadata": {},
   "outputs": [],
   "source": [
    "def extract_features(centroid_x, centroid_y, pattern_dim: int, local_radius: int, scale: int):\n",
    "    pad = local_radius // scale + 1\n",
    "    n=0\n",
    "\n",
    "    cx_scaled = centroid_x + pad\n",
    "    cy_scaled = centroid_y + pad\n",
    "\n",
    "    mask_dim = pattern_dim + 2*pad\n",
    "    mask = np.zeros((mask_dim, mask_dim))\n",
    "    mask[cx_scaled, cy_scaled] = 1\n",
    "\n",
    "    obj_exists = mask.flatten()\n",
    "\n",
    "    coords = [i for i in range(0, mask_dim*scale, scale)]\n",
    "    coords_scaled = np.array(list(product(coords, coords)))\n",
    "\n",
    "    non_zero_coords = np.nonzero(obj_exists)\n",
    "\n",
    "    non_zero_coords = coords_scaled[non_zero_coords]\n",
    "\n",
    "    feats = []\n",
    "    for coord in non_zero_coords:\n",
    "        repeat = np.repeat([coord], len(coords_scaled), axis=0)\n",
    "        diff = coords_scaled - repeat\n",
    "        dists = np.sqrt(np.sum(diff**2, axis = 1))\n",
    "\n",
    "        window_ids = np.argwhere((dists < local_radius) & (dists > 0))\n",
    "\n",
    "        window_objs = obj_exists[window_ids]\n",
    "        count = np.sum(window_objs)\n",
    "        density = count/(np.pi*local_radius**2)\n",
    "\n",
    "        window_dists = dists[window_ids]\n",
    "        weights = (1/(window_dists**2))*window_objs - 1\n",
    "        lap = np.sum(weights)\n",
    "\n",
    "        diffs_window = diff[window_ids].squeeze()\n",
    "        \n",
    "        grad = weights*(diffs_window/window_dists)\n",
    "        grad = np.sum(np.abs(grad), axis = 0)\n",
    "        grad = np.sqrt(np.sum(grad**2))\n",
    "        grad = np.around(grad, decimals = 10)\n",
    "\n",
    "        feats.append([grad, density, lap])\n",
    "\n",
    "    return non_zero_coords, np.array(feats)"
   ]
  },
  {
   "cell_type": "markdown",
   "id": "9d264359",
   "metadata": {},
   "source": [
    "### Predict the minimum dipole of a batch of generated localities, then sort"
   ]
  },
  {
   "cell_type": "markdown",
   "id": "3163b7e8",
   "metadata": {},
   "source": [
    "Using Density and Laplace features"
   ]
  },
  {
   "cell_type": "code",
   "execution_count": 65,
   "id": "f01ee2b4",
   "metadata": {},
   "outputs": [],
   "source": [
    "pattern_dim = 5\n",
    "threshold = 0.5\n",
    "local_radius = 1000\n",
    "scale = 200"
   ]
  },
  {
   "cell_type": "markdown",
   "id": "4f2687db",
   "metadata": {},
   "source": [
    "Random Forest model discriminator"
   ]
  },
  {
   "cell_type": "code",
   "execution_count": 66,
   "id": "dd48ed88",
   "metadata": {},
   "outputs": [],
   "source": [
    "discriminator = rf_model(dfSub)"
   ]
  },
  {
   "cell_type": "code",
   "execution_count": 67,
   "id": "b8203d30",
   "metadata": {},
   "outputs": [
    {
     "name": "stderr",
     "output_type": "stream",
     "text": [
      "100%|███████████████████████████████████████| 1000/1000 [00:12<00:00, 82.75it/s]\n"
     ]
    }
   ],
   "source": [
    "coords_predmin = []\n",
    "for _ in tqdm(range(1000)):\n",
    "    xs, ys = generate_pattern(pattern_dim, threshold)\n",
    "    if len(xs) != 0:\n",
    "        coords, feats = extract_features(xs, ys, pattern_dim, local_radius, scale)\n",
    "        preds = discriminator.predict(scaler.transform(feats[:, 1:]))\n",
    "        pattern_min = np.min(preds)\n",
    "        pattern_mean = np.mean(preds)\n",
    "        coords_predmin.append((coords, pattern_min, pattern_mean))\n"
   ]
  },
  {
   "cell_type": "code",
   "execution_count": 68,
   "id": "cbda8189",
   "metadata": {},
   "outputs": [
    {
     "data": {
      "text/plain": [
       "array([[ 6.03525961e+01,  3.18309886e-06, -6.79999296e+01],\n",
       "       [ 6.03525797e+01,  3.81971863e-06, -6.79999136e+01],\n",
       "       [ 6.03525801e+01,  4.13802852e-06, -6.79999128e+01],\n",
       "       [ 6.03525846e+01,  4.13802852e-06, -6.79999156e+01],\n",
       "       [ 6.03526041e+01,  3.81971863e-06, -6.79999420e+01],\n",
       "       [ 6.03525921e+01,  3.81971863e-06, -6.79999337e+01],\n",
       "       [ 6.03525625e+01,  4.13802852e-06, -6.79998950e+01],\n",
       "       [ 6.03525705e+01,  4.13802852e-06, -6.79999033e+01],\n",
       "       [ 6.03526080e+01,  3.81971863e-06, -6.79999479e+01],\n",
       "       [ 6.03525951e+01,  4.13802852e-06, -6.79999349e+01],\n",
       "       [ 6.03525516e+01,  4.13802852e-06, -6.79998780e+01],\n",
       "       [ 6.03525578e+01,  3.81971863e-06, -6.79998858e+01],\n",
       "       [ 6.03525774e+01,  3.81971863e-06, -6.79999116e+01],\n",
       "       [ 6.03525835e+01,  3.18309886e-06, -6.79999180e+01]])"
      ]
     },
     "execution_count": 68,
     "metadata": {},
     "output_type": "execute_result"
    }
   ],
   "source": [
    "feats"
   ]
  },
  {
   "cell_type": "markdown",
   "id": "a8f037e4",
   "metadata": {},
   "source": [
    "Sort according to maximum minimum dipoles"
   ]
  },
  {
   "cell_type": "code",
   "execution_count": 69,
   "id": "e004ca26",
   "metadata": {},
   "outputs": [],
   "source": [
    "localities_sorted = sorted(coords_predmin, key = lambda x: x[1], reverse = True)"
   ]
  },
  {
   "cell_type": "code",
   "execution_count": 70,
   "id": "5037ae58",
   "metadata": {},
   "outputs": [],
   "source": [
    "# Look at elite results (top 10) by eye across windows, compute some comparative statistics"
   ]
  },
  {
   "cell_type": "code",
   "execution_count": 71,
   "id": "4bae7a22",
   "metadata": {},
   "outputs": [],
   "source": [
    "best_locals = localities_sorted[:10]"
   ]
  },
  {
   "cell_type": "code",
   "execution_count": 72,
   "id": "f6f8b14b",
   "metadata": {},
   "outputs": [
    {
     "data": {
      "image/png": "[encoded data removed]",
      "text/plain": [
       "<Figure size 432x288 with 1 Axes>"
      ]
     },
     "metadata": {
      "needs_background": "light"
     },
     "output_type": "display_data"
    },
    {
     "name": "stdout",
     "output_type": "stream",
     "text": [
      "0.5452609388893618 0.5452609388893618\n"
     ]
    },
    {
     "data": {
      "image/png": "[encoded data removed]",
      "text/plain": [
       "<Figure size 432x288 with 1 Axes>"
      ]
     },
     "metadata": {
      "needs_background": "light"
     },
     "output_type": "display_data"
    },
    {
     "name": "stdout",
     "output_type": "stream",
     "text": [
      "0.5452609388893618 0.5452609388893618\n"
     ]
    },
    {
     "data": {
      "image/png": "[encoded data removed]",
      "text/plain": [
       "<Figure size 432x288 with 1 Axes>"
      ]
     },
     "metadata": {
      "needs_background": "light"
     },
     "output_type": "display_data"
    },
    {
     "name": "stdout",
     "output_type": "stream",
     "text": [
      "0.5452609388893618 0.5452609388893618\n"
     ]
    },
    {
     "data": {
      "image/png": "[encoded data removed]",
      "text/plain": [
       "<Figure size 432x288 with 1 Axes>"
      ]
     },
     "metadata": {
      "needs_background": "light"
     },
     "output_type": "display_data"
    },
    {
     "name": "stdout",
     "output_type": "stream",
     "text": [
      "0.5452609388893618 0.5452609388893618\n"
     ]
    },
    {
     "data": {
      "image/png": "[encoded data removed]",
      "text/plain": [
       "<Figure size 432x288 with 1 Axes>"
      ]
     },
     "metadata": {
      "needs_background": "light"
     },
     "output_type": "display_data"
    },
    {
     "name": "stdout",
     "output_type": "stream",
     "text": [
      "0.5452609388893618 0.5452609388893618\n"
     ]
    },
    {
     "data": {
      "image/png": "[encoded data removed]",
      "text/plain": [
       "<Figure size 432x288 with 1 Axes>"
      ]
     },
     "metadata": {
      "needs_background": "light"
     },
     "output_type": "display_data"
    },
    {
     "name": "stdout",
     "output_type": "stream",
     "text": [
      "0.5452609388893618 0.5452609388893618\n"
     ]
    },
    {
     "data": {
      "image/png": "[encoded data removed]",
      "text/plain": [
       "<Figure size 432x288 with 1 Axes>"
      ]
     },
     "metadata": {
      "needs_background": "light"
     },
     "output_type": "display_data"
    },
    {
     "name": "stdout",
     "output_type": "stream",
     "text": [
      "0.5452609388893618 0.5452609388893618\n"
     ]
    },
    {
     "data": {
      "image/png": "[encoded data removed]",
      "text/plain": [
       "<Figure size 432x288 with 1 Axes>"
      ]
     },
     "metadata": {
      "needs_background": "light"
     },
     "output_type": "display_data"
    },
    {
     "name": "stdout",
     "output_type": "stream",
     "text": [
      "0.5452609388893618 0.5452609388893618\n"
     ]
    },
    {
     "data": {
      "image/png": "[encoded data removed]",
      "text/plain": [
       "<Figure size 432x288 with 1 Axes>"
      ]
     },
     "metadata": {
      "needs_background": "light"
     },
     "output_type": "display_data"
    },
    {
     "name": "stdout",
     "output_type": "stream",
     "text": [
      "0.5452609388893618 0.5452609388893618\n"
     ]
    },
    {
     "data": {
      "image/png": "[encoded data removed]",
      "text/plain": [
       "<Figure size 432x288 with 1 Axes>"
      ]
     },
     "metadata": {
      "needs_background": "light"
     },
     "output_type": "display_data"
    },
    {
     "name": "stdout",
     "output_type": "stream",
     "text": [
      "0.5452609388893618 0.5452609388893618\n"
     ]
    }
   ],
   "source": [
    "for coords, predmin, predmean in best_locals:\n",
    "    mask = np.zeros((pattern_dim + 2*6, pattern_dim + 2*6))\n",
    "    mask[coords[:,0] // 200, coords[:,1] // 200] = 1\n",
    "    plt.imshow(mask)\n",
    "    plt.show()\n",
    "    print(predmin, predmean)"
   ]
  },
  {
   "cell_type": "markdown",
   "id": "80f98914",
   "metadata": {},
   "source": [
    "Sort according to the maximimum mean dipoles"
   ]
  },
  {
   "cell_type": "code",
   "execution_count": 73,
   "id": "e579e060",
   "metadata": {},
   "outputs": [],
   "source": [
    "localities_sorted = sorted(coords_predmin, key = lambda x: x[2], reverse = True)"
   ]
  },
  {
   "cell_type": "code",
   "execution_count": 74,
   "id": "94ab0c47",
   "metadata": {},
   "outputs": [],
   "source": [
    "best_locals = localities_sorted[:10]"
   ]
  },
  {
   "cell_type": "code",
   "execution_count": 75,
   "id": "05c92c2d",
   "metadata": {},
   "outputs": [
    {
     "data": {
      "image/png": "[encoded data removed]",
      "text/plain": [
       "<Figure size 432x288 with 1 Axes>"
      ]
     },
     "metadata": {
      "needs_background": "light"
     },
     "output_type": "display_data"
    },
    {
     "name": "stdout",
     "output_type": "stream",
     "text": [
      "0.5452609388893618 0.5452609388893618\n"
     ]
    },
    {
     "data": {
      "image/png": "[encoded data removed]",
      "text/plain": [
       "<Figure size 432x288 with 1 Axes>"
      ]
     },
     "metadata": {
      "needs_background": "light"
     },
     "output_type": "display_data"
    },
    {
     "name": "stdout",
     "output_type": "stream",
     "text": [
      "0.5452609388893618 0.5452609388893618\n"
     ]
    },
    {
     "data": {
      "image/png": "[encoded data removed]",
      "text/plain": [
       "<Figure size 432x288 with 1 Axes>"
      ]
     },
     "metadata": {
      "needs_background": "light"
     },
     "output_type": "display_data"
    },
    {
     "name": "stdout",
     "output_type": "stream",
     "text": [
      "0.5452609388893618 0.5452609388893618\n"
     ]
    },
    {
     "data": {
      "image/png": "[encoded data removed]",
      "text/plain": [
       "<Figure size 432x288 with 1 Axes>"
      ]
     },
     "metadata": {
      "needs_background": "light"
     },
     "output_type": "display_data"
    },
    {
     "name": "stdout",
     "output_type": "stream",
     "text": [
      "0.5452609388893618 0.5452609388893618\n"
     ]
    },
    {
     "data": {
      "image/png": "[encoded data removed]",
      "text/plain": [
       "<Figure size 432x288 with 1 Axes>"
      ]
     },
     "metadata": {
      "needs_background": "light"
     },
     "output_type": "display_data"
    },
    {
     "name": "stdout",
     "output_type": "stream",
     "text": [
      "0.5452609388893618 0.5452609388893618\n"
     ]
    },
    {
     "data": {
      "image/png": "[encoded data removed]",
      "text/plain": [
       "<Figure size 432x288 with 1 Axes>"
      ]
     },
     "metadata": {
      "needs_background": "light"
     },
     "output_type": "display_data"
    },
    {
     "name": "stdout",
     "output_type": "stream",
     "text": [
      "0.5452609388893618 0.5452609388893618\n"
     ]
    },
    {
     "data": {
      "image/png": "[encoded data removed]",
      "text/plain": [
       "<Figure size 432x288 with 1 Axes>"
      ]
     },
     "metadata": {
      "needs_background": "light"
     },
     "output_type": "display_data"
    },
    {
     "name": "stdout",
     "output_type": "stream",
     "text": [
      "0.5452609388893618 0.5452609388893618\n"
     ]
    },
    {
     "data": {
      "image/png": "[encoded data removed]",
      "text/plain": [
       "<Figure size 432x288 with 1 Axes>"
      ]
     },
     "metadata": {
      "needs_background": "light"
     },
     "output_type": "display_data"
    },
    {
     "name": "stdout",
     "output_type": "stream",
     "text": [
      "0.5452609388893618 0.5452609388893618\n"
     ]
    },
    {
     "data": {
      "image/png": "[encoded data removed]",
      "text/plain": [
       "<Figure size 432x288 with 1 Axes>"
      ]
     },
     "metadata": {
      "needs_background": "light"
     },
     "output_type": "display_data"
    },
    {
     "name": "stdout",
     "output_type": "stream",
     "text": [
      "0.5452609388893618 0.5452609388893618\n"
     ]
    },
    {
     "data": {
      "image/png": "[encoded data removed]",
      "text/plain": [
       "<Figure size 432x288 with 1 Axes>"
      ]
     },
     "metadata": {
      "needs_background": "light"
     },
     "output_type": "display_data"
    },
    {
     "name": "stdout",
     "output_type": "stream",
     "text": [
      "0.5452609388893618 0.5452609388893618\n"
     ]
    }
   ],
   "source": [
    "for coords, predmin, predmean in best_locals:\n",
    "    mask = np.zeros((pattern_dim + 2*6, pattern_dim + 2*6))\n",
    "    mask[coords[:,0] // 200, coords[:,1] // 200] = 1\n",
    "    plt.imshow(mask)\n",
    "    plt.show()\n",
    "    print(predmin, predmean)"
   ]
  },
  {
   "cell_type": "markdown",
   "id": "0e47d0d9",
   "metadata": {},
   "source": [
    "### check scores across windows of varying sizes"
   ]
  },
  {
   "cell_type": "code",
   "execution_count": 83,
   "id": "8a9b23ab",
   "metadata": {},
   "outputs": [],
   "source": [
    "discriminator = rf_model(dfSub)"
   ]
  },
  {
   "cell_type": "code",
   "execution_count": 79,
   "id": "1befb5a5",
   "metadata": {},
   "outputs": [
    {
     "name": "stderr",
     "output_type": "stream",
     "text": [
      "100%|█████████████████████████████████████████| 100/100 [00:01<00:00, 77.35it/s]\n",
      "100%|█████████████████████████████████████████| 100/100 [00:01<00:00, 95.86it/s]\n",
      "100%|█████████████████████████████████████████| 100/100 [00:01<00:00, 79.47it/s]\n",
      "100%|█████████████████████████████████████████| 100/100 [00:01<00:00, 66.49it/s]\n",
      "100%|█████████████████████████████████████████| 100/100 [00:01<00:00, 79.04it/s]\n",
      "100%|█████████████████████████████████████████| 100/100 [00:01<00:00, 71.39it/s]\n",
      "100%|█████████████████████████████████████████| 100/100 [00:01<00:00, 68.60it/s]\n",
      "100%|█████████████████████████████████████████| 100/100 [00:01<00:00, 62.71it/s]\n"
     ]
    }
   ],
   "source": [
    "elite_stats = []\n",
    "for pattern_dim in range(3,11):\n",
    "    coords_preds = []\n",
    "    for _ in tqdm(range(100)):\n",
    "        xs, ys = generate_pattern(pattern_dim, 0.5)\n",
    "        if len(xs) != 0:\n",
    "            coords, feats = extract_features(xs, ys, pattern_dim, local_radius, scale)\n",
    "            preds = discriminator.predict(feats[:, 1:])\n",
    "            pattern_min = np.min(preds)\n",
    "            pattern_mean = np.mean(preds)\n",
    "            coords_preds.append((pattern_min, pattern_mean))\n",
    "\n",
    "    localities_sorted = sorted(coords_preds, key = lambda x: x[0], reverse = True)\n",
    "    elite_stats.append(np.mean(np.array(localities_sorted[:20]), axis = 0))"
   ]
  },
  {
   "cell_type": "code",
   "execution_count": 80,
   "id": "24e4c7e3",
   "metadata": {},
   "outputs": [
    {
     "data": {
      "text/plain": [
       "[array([0.2481174 , 0.25616254]),\n",
       " array([0.54020005, 0.55759669]),\n",
       " array([0.54933419, 0.56018267]),\n",
       " array([0.54394217, 0.55991312]),\n",
       " array([0.54581029, 0.56023492]),\n",
       " array([0.54440944, 0.56025548]),\n",
       " array([0.54154348, 0.55993428]),\n",
       " array([0.53813636, 0.56031159])]"
      ]
     },
     "execution_count": 80,
     "metadata": {},
     "output_type": "execute_result"
    }
   ],
   "source": [
    "elite_stats"
   ]
  },
  {
   "cell_type": "markdown",
   "id": "5c430b37",
   "metadata": {},
   "source": [
    "Check differences across probabilities holding window size to 5x5"
   ]
  },
  {
   "cell_type": "code",
   "execution_count": 86,
   "id": "cd14b663",
   "metadata": {},
   "outputs": [
    {
     "name": "stderr",
     "output_type": "stream",
     "text": [
      "100%|████████████████████████████████████████| 100/100 [00:00<00:00, 102.16it/s]\n",
      "100%|█████████████████████████████████████████| 100/100 [00:01<00:00, 94.39it/s]\n",
      "100%|████████████████████████████████████████| 100/100 [00:00<00:00, 100.20it/s]\n",
      "100%|█████████████████████████████████████████| 100/100 [00:01<00:00, 94.95it/s]\n",
      "100%|█████████████████████████████████████████| 100/100 [00:01<00:00, 64.24it/s]\n",
      "100%|█████████████████████████████████████████| 100/100 [00:01<00:00, 70.79it/s]\n",
      "100%|█████████████████████████████████████████| 100/100 [00:01<00:00, 61.23it/s]\n",
      "100%|█████████████████████████████████████████| 100/100 [00:01<00:00, 69.40it/s]\n",
      "100%|█████████████████████████████████████████| 100/100 [00:01<00:00, 55.93it/s]\n",
      "100%|█████████████████████████████████████████| 100/100 [00:01<00:00, 60.30it/s]\n",
      "100%|█████████████████████████████████████████| 100/100 [00:01<00:00, 71.69it/s]\n",
      "100%|█████████████████████████████████████████| 100/100 [00:01<00:00, 61.97it/s]\n"
     ]
    }
   ],
   "source": [
    "localities_sorted_windows = []\n",
    "elite_stats = []\n",
    "for prob in np.linspace(0.1,.9,12):\n",
    "    coords_preds = []\n",
    "    for _ in tqdm(range(100)):\n",
    "        xs, ys = generate_pattern(5, prob)\n",
    "        if len(xs) != 0:\n",
    "            coords, feats = extract_features(xs, ys, 5, local_radius, scale)\n",
    "            preds = discriminator.predict(feats[:, 1:])\n",
    "            pattern_min = np.min(preds)\n",
    "            pattern_mean = np.mean(preds)\n",
    "            coords_preds.append((pattern_min, pattern_mean))\n",
    "\n",
    "    localities_sorted = sorted(coords_preds, key = lambda x: x[0], reverse = True)\n",
    "    localities_sorted_windows.append(localities_sorted)\n",
    "    elite_stats.append(np.mean(np.array(localities_sorted[:20]), axis = 0))"
   ]
  },
  {
   "cell_type": "code",
   "execution_count": 85,
   "id": "36809d43",
   "metadata": {},
   "outputs": [
    {
     "data": {
      "text/plain": [
       "array([0.1       , 0.21428571, 0.32857143, 0.44285714, 0.55714286,\n",
       "       0.67142857, 0.78571429, 0.9       ])"
      ]
     },
     "execution_count": 85,
     "metadata": {},
     "output_type": "execute_result"
    }
   ],
   "source": []
  },
  {
   "cell_type": "code",
   "execution_count": 94,
   "id": "dd2fde43",
   "metadata": {},
   "outputs": [
    {
     "data": {
      "text/plain": [
       "Text(0, 0.5, 'Predicted Dipole')"
      ]
     },
     "execution_count": 94,
     "metadata": {},
     "output_type": "execute_result"
    },
    {
     "data": {
      "image/png": "[encoded data removed]",
      "text/plain": [
       "<Figure size 432x288 with 1 Axes>"
      ]
     },
     "metadata": {
      "needs_background": "light"
     },
     "output_type": "display_data"
    }
   ],
   "source": [
    "plt.scatter(np.linspace(0.1,.9,12), np.array(elite_stats)[:, 0])\n",
    "plt.xlabel(\"p\")\n",
    "plt.ylabel(\"Predicted Dipole\")"
   ]
  },
  {
   "cell_type": "code",
   "execution_count": 31,
   "id": "ce2a2e74",
   "metadata": {},
   "outputs": [],
   "source": [
    "# generate fully one windows and predict"
   ]
  },
  {
   "cell_type": "code",
   "execution_count": 117,
   "id": "452c5745",
   "metadata": {},
   "outputs": [],
   "source": [
    "discriminator, scaler = get_discriminator(dfSub, 'linear')"
   ]
  },
  {
   "cell_type": "code",
   "execution_count": 118,
   "id": "a32b6975",
   "metadata": {},
   "outputs": [],
   "source": [
    "arr5 = np.ones((5,5))\n",
    "arr10 = np.ones((10,10))\n",
    "arr20 = np.ones((20,20))\n",
    "arr40 = np.ones((40,40))"
   ]
  },
  {
   "cell_type": "code",
   "execution_count": 119,
   "id": "66cfa1f3",
   "metadata": {},
   "outputs": [],
   "source": [
    "arrs = [arr5, arr10, arr20, arr40]"
   ]
  },
  {
   "cell_type": "code",
   "execution_count": 120,
   "id": "6d39e692",
   "metadata": {},
   "outputs": [
    {
     "name": "stdout",
     "output_type": "stream",
     "text": [
      "[7.38478936e+06 3.64242531e+03]\n",
      "159213858938.51477 175896034498.2334\n",
      "[1.37509871e+07 3.64241863e+03]\n",
      "159213858938.51477 327552175620.88696\n",
      "[1.75070437e+07 3.64241486e+03]\n",
      "159213858938.51477 417029298882.1289\n",
      "[1.95283115e+07 3.64241286e+03]\n",
      "159213858938.51477 465180123687.72876\n"
     ]
    }
   ],
   "source": [
    "\n",
    "pattern_dims = [5, 10 , 20, 40]\n",
    "for i, arr in enumerate(arrs):\n",
    "    xs, ys = np.nonzero(arr)\n",
    "    coords, feats = extract_features(xs, ys, pattern_dims[i], local_radius, scale)\n",
    "    preds = discriminator.predict(scaler.transform(feats[:, 1:]))\n",
    "    print(np.mean(feats[:, 1:], axis=0))\n",
    "    predMin = np.min(preds)\n",
    "    predMean = np.mean(preds)\n",
    "    print(predMin, predMean)\n",
    "    \n",
    "    "
   ]
  },
  {
   "cell_type": "code",
   "execution_count": 114,
   "id": "931f0d78",
   "metadata": {},
   "outputs": [
    {
     "data": {
      "text/plain": [
       "array([1.13125122e-06, 6.03526334e+01, 1.30408502e-01])"
      ]
     },
     "execution_count": 114,
     "metadata": {},
     "output_type": "execute_result"
    }
   ],
   "source": [
    "np.mean(dfSub.values, axis = 0)"
   ]
  },
  {
   "cell_type": "code",
   "execution_count": 131,
   "id": "382fa59c",
   "metadata": {},
   "outputs": [],
   "source": [
    "xs, ys = np.nonzero(np.ones((5,5)))"
   ]
  },
  {
   "cell_type": "code",
   "execution_count": 132,
   "id": "5986cba0",
   "metadata": {},
   "outputs": [
    {
     "data": {
      "text/plain": [
       "(array([0, 0, 0, 0, 0, 1, 1, 1, 1, 1, 2, 2, 2, 2, 2, 3, 3, 3, 3, 3, 4, 4,\n",
       "        4, 4, 4]),\n",
       " array([0, 1, 2, 3, 4, 0, 1, 2, 3, 4, 0, 1, 2, 3, 4, 0, 1, 2, 3, 4, 0, 1,\n",
       "        2, 3, 4]))"
      ]
     },
     "execution_count": 132,
     "metadata": {},
     "output_type": "execute_result"
    }
   ],
   "source": [
    "xs, ys"
   ]
  },
  {
   "cell_type": "code",
   "execution_count": 133,
   "id": "83a59fe1",
   "metadata": {},
   "outputs": [],
   "source": [
    "coords, feats = extract_features(xs, ys, 5, 1000, 200)"
   ]
  },
  {
   "cell_type": "code",
   "execution_count": 134,
   "id": "9bc958cc",
   "metadata": {},
   "outputs": [
    {
     "data": {
      "text/plain": [
       "array([[1200, 1200],\n",
       "       [1200, 1400],\n",
       "       [1200, 1600],\n",
       "       [1200, 1800],\n",
       "       [1200, 2000],\n",
       "       [1400, 1200],\n",
       "       [1400, 1400],\n",
       "       [1400, 1600],\n",
       "       [1400, 1800],\n",
       "       [1400, 2000],\n",
       "       [1600, 1200],\n",
       "       [1600, 1400],\n",
       "       [1600, 1600],\n",
       "       [1600, 1800],\n",
       "       [1600, 2000],\n",
       "       [1800, 1200],\n",
       "       [1800, 1400],\n",
       "       [1800, 1600],\n",
       "       [1800, 1800],\n",
       "       [1800, 2000],\n",
       "       [2000, 1200],\n",
       "       [2000, 1400],\n",
       "       [2000, 1600],\n",
       "       [2000, 1800],\n",
       "       [2000, 2000]])"
      ]
     },
     "execution_count": 134,
     "metadata": {},
     "output_type": "execute_result"
    }
   ],
   "source": [
    "coords"
   ]
  },
  {
   "cell_type": "code",
   "execution_count": 135,
   "id": "ba1865a0",
   "metadata": {},
   "outputs": [
    {
     "data": {
      "text/plain": [
       "array([[6.79998875e+01, 6.68450761e+06, 3.64243121e+03],\n",
       "       [6.79998453e+01, 7.32112738e+06, 3.64242700e+03],\n",
       "       [6.79998364e+01, 7.63943727e+06, 3.64242605e+03],\n",
       "       [6.79998453e+01, 7.32112738e+06, 3.64242700e+03],\n",
       "       [6.79998875e+01, 6.68450761e+06, 3.64243121e+03],\n",
       "       [6.79998453e+01, 7.32112738e+06, 3.64242700e+03],\n",
       "       [6.79997936e+01, 7.63943727e+06, 3.64242159e+03],\n",
       "       [6.79997834e+01, 7.63943727e+06, 3.64242048e+03],\n",
       "       [6.79997936e+01, 7.63943727e+06, 3.64242159e+03],\n",
       "       [6.79998453e+01, 7.32112738e+06, 3.64242700e+03],\n",
       "       [6.79998364e+01, 7.63943727e+06, 3.64242605e+03],\n",
       "       [6.79997834e+01, 7.63943727e+06, 3.64242048e+03],\n",
       "       [6.79997725e+01, 7.63943727e+06, 3.64241928e+03],\n",
       "       [6.79997834e+01, 7.63943727e+06, 3.64242048e+03],\n",
       "       [6.79998364e+01, 7.63943727e+06, 3.64242605e+03],\n",
       "       [6.79998453e+01, 7.32112738e+06, 3.64242700e+03],\n",
       "       [6.79997936e+01, 7.63943727e+06, 3.64242159e+03],\n",
       "       [6.79997834e+01, 7.63943727e+06, 3.64242048e+03],\n",
       "       [6.79997936e+01, 7.63943727e+06, 3.64242159e+03],\n",
       "       [6.79998453e+01, 7.32112738e+06, 3.64242700e+03],\n",
       "       [6.79998875e+01, 6.68450761e+06, 3.64243121e+03],\n",
       "       [6.79998453e+01, 7.32112738e+06, 3.64242700e+03],\n",
       "       [6.79998364e+01, 7.63943727e+06, 3.64242605e+03],\n",
       "       [6.79998453e+01, 7.32112738e+06, 3.64242700e+03],\n",
       "       [6.79998875e+01, 6.68450761e+06, 3.64243121e+03]])"
      ]
     },
     "execution_count": 135,
     "metadata": {},
     "output_type": "execute_result"
    }
   ],
   "source": [
    "feats"
   ]
  },
  {
   "cell_type": "code",
   "execution_count": null,
   "id": "1defdb1b",
   "metadata": {},
   "outputs": [],
   "source": []
  },
  {
   "cell_type": "markdown",
   "id": "871d224b",
   "metadata": {},
   "source": [
    "### simulated annealing algorithm"
   ]
  },
  {
   "cell_type": "code",
   "execution_count": 203,
   "id": "992a2ff9",
   "metadata": {},
   "outputs": [],
   "source": [
    "coords_best = best_locals[0][0]"
   ]
  },
  {
   "cell_type": "code",
   "execution_count": 204,
   "id": "8bb0140a",
   "metadata": {},
   "outputs": [],
   "source": [
    "coords_best //= 200"
   ]
  },
  {
   "cell_type": "code",
   "execution_count": 205,
   "id": "dfaeba8c",
   "metadata": {},
   "outputs": [
    {
     "data": {
      "text/plain": [
       "array([[6, 6],\n",
       "       [6, 7],\n",
       "       [6, 8],\n",
       "       [7, 6],\n",
       "       [7, 8],\n",
       "       [7, 9],\n",
       "       [8, 6],\n",
       "       [8, 8],\n",
       "       [9, 6],\n",
       "       [9, 7],\n",
       "       [9, 8]])"
      ]
     },
     "execution_count": 205,
     "metadata": {},
     "output_type": "execute_result"
    }
   ],
   "source": [
    "coords_best"
   ]
  },
  {
   "cell_type": "code",
   "execution_count": 206,
   "id": "fb37a607",
   "metadata": {},
   "outputs": [],
   "source": [
    "mask = np.zeros((pattern_dim + 2*6, pattern_dim + 2*6))"
   ]
  },
  {
   "cell_type": "code",
   "execution_count": 208,
   "id": "64f8846a",
   "metadata": {},
   "outputs": [],
   "source": [
    "mask[coords_best[:,0], coords_best[:,1]] = 1"
   ]
  },
  {
   "cell_type": "code",
   "execution_count": 209,
   "id": "d5ed6e84",
   "metadata": {},
   "outputs": [
    {
     "data": {
      "text/plain": [
       "<matplotlib.image.AxesImage at 0x124c26d90>"
      ]
     },
     "execution_count": 209,
     "metadata": {},
     "output_type": "execute_result"
    },
    {
     "data": {
      "image/png": "[encoded data removed]",
      "text/plain": [
       "<Figure size 432x288 with 1 Axes>"
      ]
     },
     "metadata": {
      "needs_background": "light"
     },
     "output_type": "display_data"
    }
   ],
   "source": [
    "plt.imshow(mask)"
   ]
  },
  {
   "cell_type": "code",
   "execution_count": 283,
   "id": "3f07f9c4",
   "metadata": {},
   "outputs": [],
   "source": [
    "# number of organoids\n",
    "n = len(coords_best)\n",
    "# pick one among them\n",
    "choose_org = np.random.randint(n)"
   ]
  },
  {
   "cell_type": "code",
   "execution_count": 284,
   "id": "8cd1c353",
   "metadata": {},
   "outputs": [],
   "source": [
    "curr_coord = coords_best[choose_org]"
   ]
  },
  {
   "cell_type": "code",
   "execution_count": 285,
   "id": "9419a853",
   "metadata": {},
   "outputs": [],
   "source": [
    "y,x = curr_coord[0], curr_coord[1]"
   ]
  },
  {
   "cell_type": "code",
   "execution_count": 286,
   "id": "4dc5a776",
   "metadata": {},
   "outputs": [],
   "source": [
    "nbors = mask[x-1:x+2, y-1:y+2]"
   ]
  },
  {
   "cell_type": "code",
   "execution_count": 287,
   "id": "a6dfa350",
   "metadata": {},
   "outputs": [
    {
     "data": {
      "text/plain": [
       "array([[0., 1., 0.],\n",
       "       [0., 1., 0.],\n",
       "       [0., 1., 1.]])"
      ]
     },
     "execution_count": 287,
     "metadata": {},
     "output_type": "execute_result"
    }
   ],
   "source": [
    "nbors"
   ]
  },
  {
   "cell_type": "code",
   "execution_count": 288,
   "id": "b1bc6233",
   "metadata": {},
   "outputs": [],
   "source": [
    "zx, zy = np.where(nbors == 0)"
   ]
  },
  {
   "cell_type": "code",
   "execution_count": 289,
   "id": "3c33adc7",
   "metadata": {},
   "outputs": [],
   "source": [
    "n_zeros = len(zx)"
   ]
  },
  {
   "cell_type": "code",
   "execution_count": 290,
   "id": "4e439cc3",
   "metadata": {},
   "outputs": [],
   "source": [
    "zx_scaled, zy_scaled = zx+x-1, zy+y-1"
   ]
  },
  {
   "cell_type": "code",
   "execution_count": 292,
   "id": "044cba1c",
   "metadata": {},
   "outputs": [
    {
     "data": {
      "text/plain": [
       "array([0., 0., 0., 0., 0.])"
      ]
     },
     "execution_count": 292,
     "metadata": {},
     "output_type": "execute_result"
    }
   ],
   "source": [
    "mask[zx_scaled, zy_scaled]"
   ]
  },
  {
   "cell_type": "code",
   "execution_count": 294,
   "id": "c991be78",
   "metadata": {},
   "outputs": [],
   "source": [
    "choose_direction = np.random.randint(n_zeros)"
   ]
  },
  {
   "cell_type": "code",
   "execution_count": 296,
   "id": "ce3d47e4",
   "metadata": {},
   "outputs": [
    {
     "data": {
      "text/plain": [
       "4"
      ]
     },
     "execution_count": 296,
     "metadata": {},
     "output_type": "execute_result"
    }
   ],
   "source": [
    "choose_direction"
   ]
  }
 ],
 "metadata": {
  "kernelspec": {
   "display_name": "neuralTube",
   "language": "python",
   "name": "neuraltube"
  },
  "language_info": {
   "codemirror_mode": {
    "name": "ipython",
    "version": 3
   },
   "file_extension": ".py",
   "mimetype": "text/x-python",
   "name": "python",
   "nbconvert_exporter": "python",
   "pygments_lexer": "ipython3",
   "version": "3.9.6"
  }
 },
 "nbformat": 4,
 "nbformat_minor": 5
}
