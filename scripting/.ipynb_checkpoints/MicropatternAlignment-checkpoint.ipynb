{
 "cells": [
  {
   "cell_type": "code",
   "execution_count": 2,
   "id": "cf084b70",
   "metadata": {},
   "outputs": [],
   "source": [
    "import numpy as np\n",
    "import matplotlib.pyplot as plt\n",
    "import cv2\n",
    "import pandas as pd\n",
    "from collections import Counter\n",
    "import re"
   ]
  },
  {
   "cell_type": "markdown",
   "id": "9daa5ce9",
   "metadata": {},
   "source": [
    "### Notes:\n",
    "- There should be standardized approaches for generating centroids of the design and the phenotype images\n",
    "- Inputs to matching function should be the x,y coordinates of centroids\n",
    "- ..."
   ]
  },
  {
   "cell_type": "markdown",
   "id": "c61226f1",
   "metadata": {},
   "source": [
    "# POST PROCESSING OF COLORING"
   ]
  },
  {
   "cell_type": "code",
   "execution_count": 1,
   "id": "8fbd319c",
   "metadata": {},
   "outputs": [],
   "source": [
    "import numpy as np\n",
    "import matplotlib.pyplot as plt\n",
    "import cv2\n",
    "import pandas as pd\n",
    "from collections import Counter\n",
    "import re"
   ]
  },
  {
   "cell_type": "code",
   "execution_count": 2,
   "id": "e9f87709",
   "metadata": {
    "scrolled": true
   },
   "outputs": [
    {
     "data": {
      "text/html": [
       "<div>\n",
       "<style scoped>\n",
       "    .dataframe tbody tr th:only-of-type {\n",
       "        vertical-align: middle;\n",
       "    }\n",
       "\n",
       "    .dataframe tbody tr th {\n",
       "        vertical-align: top;\n",
       "    }\n",
       "\n",
       "    .dataframe thead th {\n",
       "        text-align: right;\n",
       "    }\n",
       "</style>\n",
       "<table border=\"1\" class=\"dataframe\">\n",
       "  <thead>\n",
       "    <tr style=\"text-align: right;\">\n",
       "      <th></th>\n",
       "      <th>xInit</th>\n",
       "      <th>yInit</th>\n",
       "      <th>colorInit</th>\n",
       "      <th>xPheno</th>\n",
       "      <th>yPheno</th>\n",
       "      <th>colorPheno</th>\n",
       "    </tr>\n",
       "  </thead>\n",
       "  <tbody>\n",
       "    <tr>\n",
       "      <th>0</th>\n",
       "      <td>2400</td>\n",
       "      <td>600</td>\n",
       "      <td>m</td>\n",
       "      <td>1465</td>\n",
       "      <td>631</td>\n",
       "      <td>m</td>\n",
       "    </tr>\n",
       "    <tr>\n",
       "      <th>1</th>\n",
       "      <td>3000</td>\n",
       "      <td>600</td>\n",
       "      <td>m</td>\n",
       "      <td>1819</td>\n",
       "      <td>607</td>\n",
       "      <td>m</td>\n",
       "    </tr>\n",
       "    <tr>\n",
       "      <th>2</th>\n",
       "      <td>3600</td>\n",
       "      <td>600</td>\n",
       "      <td>m</td>\n",
       "      <td>2130</td>\n",
       "      <td>612</td>\n",
       "      <td>m</td>\n",
       "    </tr>\n",
       "    <tr>\n",
       "      <th>3</th>\n",
       "      <td>4200</td>\n",
       "      <td>600</td>\n",
       "      <td>m</td>\n",
       "      <td>2444</td>\n",
       "      <td>617</td>\n",
       "      <td>m</td>\n",
       "    </tr>\n",
       "    <tr>\n",
       "      <th>4</th>\n",
       "      <td>4800</td>\n",
       "      <td>600</td>\n",
       "      <td>m</td>\n",
       "      <td>2774</td>\n",
       "      <td>592</td>\n",
       "      <td>m</td>\n",
       "    </tr>\n",
       "    <tr>\n",
       "      <th>...</th>\n",
       "      <td>...</td>\n",
       "      <td>...</td>\n",
       "      <td>...</td>\n",
       "      <td>...</td>\n",
       "      <td>...</td>\n",
       "      <td>...</td>\n",
       "    </tr>\n",
       "    <tr>\n",
       "      <th>95</th>\n",
       "      <td>6000</td>\n",
       "      <td>3150</td>\n",
       "      <td>g</td>\n",
       "      <td>3403</td>\n",
       "      <td>1969</td>\n",
       "      <td>g</td>\n",
       "    </tr>\n",
       "    <tr>\n",
       "      <th>96</th>\n",
       "      <td>6600</td>\n",
       "      <td>3150</td>\n",
       "      <td>g</td>\n",
       "      <td>3742</td>\n",
       "      <td>1938</td>\n",
       "      <td>g</td>\n",
       "    </tr>\n",
       "    <tr>\n",
       "      <th>97</th>\n",
       "      <td>7200</td>\n",
       "      <td>3150</td>\n",
       "      <td>g</td>\n",
       "      <td>4018</td>\n",
       "      <td>1915</td>\n",
       "      <td>g</td>\n",
       "    </tr>\n",
       "    <tr>\n",
       "      <th>98</th>\n",
       "      <td>7800</td>\n",
       "      <td>3150</td>\n",
       "      <td>g</td>\n",
       "      <td>4379</td>\n",
       "      <td>1934</td>\n",
       "      <td>g</td>\n",
       "    </tr>\n",
       "    <tr>\n",
       "      <th>99</th>\n",
       "      <td>8400</td>\n",
       "      <td>3150</td>\n",
       "      <td>g</td>\n",
       "      <td>4621</td>\n",
       "      <td>1904</td>\n",
       "      <td>g</td>\n",
       "    </tr>\n",
       "  </tbody>\n",
       "</table>\n",
       "<p>100 rows × 6 columns</p>\n",
       "</div>"
      ],
      "text/plain": [
       "    xInit  yInit colorInit  xPheno  yPheno colorPheno\n",
       "0    2400    600         m    1465     631          m\n",
       "1    3000    600         m    1819     607          m\n",
       "2    3600    600         m    2130     612          m\n",
       "3    4200    600         m    2444     617          m\n",
       "4    4800    600         m    2774     592          m\n",
       "..    ...    ...       ...     ...     ...        ...\n",
       "95   6000   3150         g    3403    1969          g\n",
       "96   6600   3150         g    3742    1938          g\n",
       "97   7200   3150         g    4018    1915          g\n",
       "98   7800   3150         g    4379    1934          g\n",
       "99   8400   3150         g    4621    1904          g\n",
       "\n",
       "[100 rows x 6 columns]"
      ]
     },
     "execution_count": 2,
     "metadata": {},
     "output_type": "execute_result"
    }
   ],
   "source": [
    "df = pd.read_csv(\"matchedDF.csv\")\n",
    "df.head(100)"
   ]
  },
  {
   "cell_type": "code",
   "execution_count": 3,
   "id": "ac70db4d",
   "metadata": {},
   "outputs": [],
   "source": [
    "colOrd = ['m','g','b','y','r']\n",
    "cnts = list(Counter(df.yInit.values).values())\n",
    "nCols = len(colOrd)\n",
    "colors = [colOrd[i % nCols] for i, _ in enumerate(cnts)]\n",
    "\n",
    "\n",
    "\n",
    "initIdx = []\n",
    "for c in colOrd:\n",
    "    cCnts = [cnt for col, cnt in list(zip(colors, cnts)) if col == c]\n",
    "    dfc = df[df.colorInit == c].sort_values(by=['yInit'])\n",
    "    start = 0\n",
    "    idxs = []\n",
    "    for cnt in cCnts:\n",
    "        idxs.extend(dfc.iloc[start:start + cnt, :].sort_values(by=[\"xInit\"]).index.values)\n",
    "        start += cnt\n",
    "\n",
    "    initIdx.extend(idxs)\n",
    "\n",
    "\n",
    "phenoIdx = []\n",
    "for c in colOrd:\n",
    "    cCnts = [cnt for col, cnt in list(zip(colors, cnts)) if col == c]\n",
    "    dfc = df[df.colorPheno == c].sort_values(by=['yPheno'])\n",
    "    start = 0\n",
    "    idxs = []\n",
    "    for cnt in cCnts:\n",
    "        idxs.extend(dfc.iloc[start:start + cnt, :].sort_values(by=[\"xPheno\"]).index.values)\n",
    "        start += cnt\n",
    "\n",
    "    phenoIdx.extend(idxs)\n"
   ]
  },
  {
   "cell_type": "code",
   "execution_count": 4,
   "id": "7d5e6592",
   "metadata": {},
   "outputs": [
    {
     "data": {
      "text/plain": [
       "(350, 350)"
      ]
     },
     "execution_count": 4,
     "metadata": {},
     "output_type": "execute_result"
    }
   ],
   "source": [
    "len(np.unique(initIdx)), len(np.unique(phenoIdx))"
   ]
  },
  {
   "cell_type": "code",
   "execution_count": 6,
   "id": "c3ff55b0",
   "metadata": {},
   "outputs": [
    {
     "data": {
      "text/plain": [
       "False"
      ]
     },
     "execution_count": 6,
     "metadata": {},
     "output_type": "execute_result"
    }
   ],
   "source": [
    "initIdx==phenoIdx"
   ]
  },
  {
   "cell_type": "code",
   "execution_count": 7,
   "id": "ac715763",
   "metadata": {},
   "outputs": [],
   "source": [
    "dfINIT = df.iloc[initIdx][df.iloc[initIdx].columns[:3]].copy()"
   ]
  },
  {
   "cell_type": "code",
   "execution_count": 8,
   "id": "8e9a6ee7",
   "metadata": {},
   "outputs": [],
   "source": [
    "dfPHENO = df.iloc[phenoIdx][df.iloc[phenoIdx].columns[3:6]].copy()"
   ]
  },
  {
   "cell_type": "code",
   "execution_count": 9,
   "id": "22f12e25",
   "metadata": {},
   "outputs": [
    {
     "data": {
      "text/plain": [
       "True"
      ]
     },
     "execution_count": 9,
     "metadata": {},
     "output_type": "execute_result"
    }
   ],
   "source": [
    "np.all(dfINIT.colorInit.values == dfPHENO.colorPheno.values)"
   ]
  },
  {
   "cell_type": "code",
   "execution_count": 10,
   "id": "c6fc6318",
   "metadata": {},
   "outputs": [
    {
     "data": {
      "text/plain": [
       "((350, 3), (350, 3))"
      ]
     },
     "execution_count": 10,
     "metadata": {},
     "output_type": "execute_result"
    }
   ],
   "source": [
    "dfINIT.shape, dfPHENO.shape"
   ]
  },
  {
   "cell_type": "code",
   "execution_count": null,
   "id": "e52ea803",
   "metadata": {},
   "outputs": [],
   "source": []
  },
  {
   "cell_type": "code",
   "execution_count": 12,
   "id": "974f22cf",
   "metadata": {},
   "outputs": [
    {
     "data": {
      "text/plain": [
       "<matplotlib.collections.PathCollection at 0x7f761f0844c0>"
      ]
     },
     "execution_count": 12,
     "metadata": {},
     "output_type": "execute_result"
    },
    {
     "data": {
      "image/png": "[encoded data removed]",
      "text/plain": [
       "<Figure size 1152x576 with 2 Axes>"
      ]
     },
     "metadata": {
      "needs_background": "light"
     },
     "output_type": "display_data"
    }
   ],
   "source": [
    "num = np.random.randint(low = 0, high = 350, size=1)\n",
    "\n",
    "#for num in range(350):\n",
    "\n",
    "fig, axes = plt.subplots(1,2, figsize=(16,8))\n",
    "#plt.figure(figsize = (8,8))\n",
    "axes[0].scatter(dfINIT.xInit.values, dfINIT.yInit.values, c=dfINIT.colorInit.values)\n",
    "axes[0].scatter(dfINIT.xInit.values[num], dfINIT.yInit.values[num], c='black', s=100)\n",
    "\n",
    "#plt.figure(figsize = (8,8))\n",
    "axes[1].scatter(dfPHENO.xPheno.values, dfPHENO.yPheno.values, c=dfPHENO.colorPheno.values)\n",
    "axes[1].scatter(dfPHENO.xPheno.values[num], dfPHENO.yPheno.values[num], c='black', s=100)\n",
    "\n",
    "#plt.pause(0.0001)"
   ]
  },
  {
   "cell_type": "code",
   "execution_count": 90,
   "id": "a33a1e7e",
   "metadata": {},
   "outputs": [
    {
     "data": {
      "text/html": [
       "<div>\n",
       "<style scoped>\n",
       "    .dataframe tbody tr th:only-of-type {\n",
       "        vertical-align: middle;\n",
       "    }\n",
       "\n",
       "    .dataframe tbody tr th {\n",
       "        vertical-align: top;\n",
       "    }\n",
       "\n",
       "    .dataframe thead th {\n",
       "        text-align: right;\n",
       "    }\n",
       "</style>\n",
       "<table border=\"1\" class=\"dataframe\">\n",
       "  <thead>\n",
       "    <tr style=\"text-align: right;\">\n",
       "      <th></th>\n",
       "      <th>xInit</th>\n",
       "      <th>yInit</th>\n",
       "      <th>colorInit</th>\n",
       "    </tr>\n",
       "  </thead>\n",
       "  <tbody>\n",
       "    <tr>\n",
       "      <th>0</th>\n",
       "      <td>2400</td>\n",
       "      <td>600</td>\n",
       "      <td>m</td>\n",
       "    </tr>\n",
       "    <tr>\n",
       "      <th>1</th>\n",
       "      <td>3000</td>\n",
       "      <td>600</td>\n",
       "      <td>m</td>\n",
       "    </tr>\n",
       "    <tr>\n",
       "      <th>2</th>\n",
       "      <td>3600</td>\n",
       "      <td>600</td>\n",
       "      <td>m</td>\n",
       "    </tr>\n",
       "    <tr>\n",
       "      <th>3</th>\n",
       "      <td>4200</td>\n",
       "      <td>600</td>\n",
       "      <td>m</td>\n",
       "    </tr>\n",
       "    <tr>\n",
       "      <th>4</th>\n",
       "      <td>4800</td>\n",
       "      <td>600</td>\n",
       "      <td>m</td>\n",
       "    </tr>\n",
       "  </tbody>\n",
       "</table>\n",
       "</div>"
      ],
      "text/plain": [
       "   xInit  yInit colorInit\n",
       "0   2400    600         m\n",
       "1   3000    600         m\n",
       "2   3600    600         m\n",
       "3   4200    600         m\n",
       "4   4800    600         m"
      ]
     },
     "execution_count": 90,
     "metadata": {},
     "output_type": "execute_result"
    }
   ],
   "source": [
    "dfINIT.head()"
   ]
  },
  {
   "cell_type": "code",
   "execution_count": 91,
   "id": "ec8a01eb",
   "metadata": {},
   "outputs": [
    {
     "data": {
      "text/html": [
       "<div>\n",
       "<style scoped>\n",
       "    .dataframe tbody tr th:only-of-type {\n",
       "        vertical-align: middle;\n",
       "    }\n",
       "\n",
       "    .dataframe tbody tr th {\n",
       "        vertical-align: top;\n",
       "    }\n",
       "\n",
       "    .dataframe thead th {\n",
       "        text-align: right;\n",
       "    }\n",
       "</style>\n",
       "<table border=\"1\" class=\"dataframe\">\n",
       "  <thead>\n",
       "    <tr style=\"text-align: right;\">\n",
       "      <th></th>\n",
       "      <th>xPheno</th>\n",
       "      <th>yPheno</th>\n",
       "      <th>colorPheno</th>\n",
       "    </tr>\n",
       "  </thead>\n",
       "  <tbody>\n",
       "    <tr>\n",
       "      <th>0</th>\n",
       "      <td>1465</td>\n",
       "      <td>631</td>\n",
       "      <td>m</td>\n",
       "    </tr>\n",
       "    <tr>\n",
       "      <th>1</th>\n",
       "      <td>1819</td>\n",
       "      <td>607</td>\n",
       "      <td>m</td>\n",
       "    </tr>\n",
       "    <tr>\n",
       "      <th>2</th>\n",
       "      <td>2130</td>\n",
       "      <td>612</td>\n",
       "      <td>m</td>\n",
       "    </tr>\n",
       "    <tr>\n",
       "      <th>3</th>\n",
       "      <td>2444</td>\n",
       "      <td>617</td>\n",
       "      <td>m</td>\n",
       "    </tr>\n",
       "    <tr>\n",
       "      <th>4</th>\n",
       "      <td>2774</td>\n",
       "      <td>592</td>\n",
       "      <td>m</td>\n",
       "    </tr>\n",
       "  </tbody>\n",
       "</table>\n",
       "</div>"
      ],
      "text/plain": [
       "   xPheno  yPheno colorPheno\n",
       "0    1465     631          m\n",
       "1    1819     607          m\n",
       "2    2130     612          m\n",
       "3    2444     617          m\n",
       "4    2774     592          m"
      ]
     },
     "execution_count": 91,
     "metadata": {},
     "output_type": "execute_result"
    }
   ],
   "source": [
    "dfPHENO.head()"
   ]
  },
  {
   "cell_type": "code",
   "execution_count": 13,
   "id": "99e79f49",
   "metadata": {
    "scrolled": true
   },
   "outputs": [],
   "source": [
    "s = dfINIT.reset_index(drop=True)\n",
    "e = dfPHENO.reset_index(drop=True)\n",
    "dfPaired = s.join(e)"
   ]
  },
  {
   "cell_type": "code",
   "execution_count": 14,
   "id": "0c8dad6e",
   "metadata": {},
   "outputs": [
    {
     "data": {
      "text/html": [
       "<div>\n",
       "<style scoped>\n",
       "    .dataframe tbody tr th:only-of-type {\n",
       "        vertical-align: middle;\n",
       "    }\n",
       "\n",
       "    .dataframe tbody tr th {\n",
       "        vertical-align: top;\n",
       "    }\n",
       "\n",
       "    .dataframe thead th {\n",
       "        text-align: right;\n",
       "    }\n",
       "</style>\n",
       "<table border=\"1\" class=\"dataframe\">\n",
       "  <thead>\n",
       "    <tr style=\"text-align: right;\">\n",
       "      <th></th>\n",
       "      <th>xInit</th>\n",
       "      <th>yInit</th>\n",
       "      <th>colorInit</th>\n",
       "      <th>xPheno</th>\n",
       "      <th>yPheno</th>\n",
       "      <th>colorPheno</th>\n",
       "    </tr>\n",
       "  </thead>\n",
       "  <tbody>\n",
       "    <tr>\n",
       "      <th>0</th>\n",
       "      <td>2400</td>\n",
       "      <td>600</td>\n",
       "      <td>m</td>\n",
       "      <td>1465</td>\n",
       "      <td>631</td>\n",
       "      <td>m</td>\n",
       "    </tr>\n",
       "    <tr>\n",
       "      <th>1</th>\n",
       "      <td>3000</td>\n",
       "      <td>600</td>\n",
       "      <td>m</td>\n",
       "      <td>1819</td>\n",
       "      <td>607</td>\n",
       "      <td>m</td>\n",
       "    </tr>\n",
       "    <tr>\n",
       "      <th>2</th>\n",
       "      <td>3600</td>\n",
       "      <td>600</td>\n",
       "      <td>m</td>\n",
       "      <td>2130</td>\n",
       "      <td>612</td>\n",
       "      <td>m</td>\n",
       "    </tr>\n",
       "    <tr>\n",
       "      <th>3</th>\n",
       "      <td>4200</td>\n",
       "      <td>600</td>\n",
       "      <td>m</td>\n",
       "      <td>2444</td>\n",
       "      <td>617</td>\n",
       "      <td>m</td>\n",
       "    </tr>\n",
       "    <tr>\n",
       "      <th>4</th>\n",
       "      <td>4800</td>\n",
       "      <td>600</td>\n",
       "      <td>m</td>\n",
       "      <td>2774</td>\n",
       "      <td>592</td>\n",
       "      <td>m</td>\n",
       "    </tr>\n",
       "    <tr>\n",
       "      <th>...</th>\n",
       "      <td>...</td>\n",
       "      <td>...</td>\n",
       "      <td>...</td>\n",
       "      <td>...</td>\n",
       "      <td>...</td>\n",
       "      <td>...</td>\n",
       "    </tr>\n",
       "    <tr>\n",
       "      <th>345</th>\n",
       "      <td>8400</td>\n",
       "      <td>8500</td>\n",
       "      <td>r</td>\n",
       "      <td>4689</td>\n",
       "      <td>4720</td>\n",
       "      <td>r</td>\n",
       "    </tr>\n",
       "    <tr>\n",
       "      <th>346</th>\n",
       "      <td>9000</td>\n",
       "      <td>8500</td>\n",
       "      <td>r</td>\n",
       "      <td>5059</td>\n",
       "      <td>4713</td>\n",
       "      <td>r</td>\n",
       "    </tr>\n",
       "    <tr>\n",
       "      <th>347</th>\n",
       "      <td>9600</td>\n",
       "      <td>8500</td>\n",
       "      <td>r</td>\n",
       "      <td>5387</td>\n",
       "      <td>4669</td>\n",
       "      <td>r</td>\n",
       "    </tr>\n",
       "    <tr>\n",
       "      <th>348</th>\n",
       "      <td>10200</td>\n",
       "      <td>8500</td>\n",
       "      <td>r</td>\n",
       "      <td>5698</td>\n",
       "      <td>4751</td>\n",
       "      <td>r</td>\n",
       "    </tr>\n",
       "    <tr>\n",
       "      <th>349</th>\n",
       "      <td>3000</td>\n",
       "      <td>10800</td>\n",
       "      <td>r</td>\n",
       "      <td>1971</td>\n",
       "      <td>5985</td>\n",
       "      <td>r</td>\n",
       "    </tr>\n",
       "  </tbody>\n",
       "</table>\n",
       "<p>350 rows × 6 columns</p>\n",
       "</div>"
      ],
      "text/plain": [
       "     xInit  yInit colorInit  xPheno  yPheno colorPheno\n",
       "0     2400    600         m    1465     631          m\n",
       "1     3000    600         m    1819     607          m\n",
       "2     3600    600         m    2130     612          m\n",
       "3     4200    600         m    2444     617          m\n",
       "4     4800    600         m    2774     592          m\n",
       "..     ...    ...       ...     ...     ...        ...\n",
       "345   8400   8500         r    4689    4720          r\n",
       "346   9000   8500         r    5059    4713          r\n",
       "347   9600   8500         r    5387    4669          r\n",
       "348  10200   8500         r    5698    4751          r\n",
       "349   3000  10800         r    1971    5985          r\n",
       "\n",
       "[350 rows x 6 columns]"
      ]
     },
     "execution_count": 14,
     "metadata": {},
     "output_type": "execute_result"
    }
   ],
   "source": [
    "dfPaired"
   ]
  },
  {
   "cell_type": "code",
   "execution_count": 16,
   "id": "edc4dcf5",
   "metadata": {},
   "outputs": [
    {
     "data": {
      "text/plain": [
       "True"
      ]
     },
     "execution_count": 16,
     "metadata": {},
     "output_type": "execute_result"
    }
   ],
   "source": [
    "np.all(dfPaired.colorInit == dfPaired.colorPheno)"
   ]
  },
  {
   "cell_type": "code",
   "execution_count": 22,
   "id": "ec0b5210",
   "metadata": {},
   "outputs": [],
   "source": [
    "dfRewards = pd.read_csv(\"exported_metrics_updated.csv\")"
   ]
  },
  {
   "cell_type": "code",
   "execution_count": 23,
   "id": "a3021bab",
   "metadata": {},
   "outputs": [
    {
     "data": {
      "text/html": [
       "<div>\n",
       "<style scoped>\n",
       "    .dataframe tbody tr th:only-of-type {\n",
       "        vertical-align: middle;\n",
       "    }\n",
       "\n",
       "    .dataframe tbody tr th {\n",
       "        vertical-align: top;\n",
       "    }\n",
       "\n",
       "    .dataframe thead th {\n",
       "        text-align: right;\n",
       "    }\n",
       "</style>\n",
       "<table border=\"1\" class=\"dataframe\">\n",
       "  <thead>\n",
       "    <tr style=\"text-align: right;\">\n",
       "      <th></th>\n",
       "      <th>Dipole</th>\n",
       "      <th>Elongation</th>\n",
       "      <th>Aspect_Ratio</th>\n",
       "      <th>Centroid_x</th>\n",
       "      <th>Centroid_y</th>\n",
       "    </tr>\n",
       "  </thead>\n",
       "  <tbody>\n",
       "    <tr>\n",
       "      <th>0</th>\n",
       "      <td>0.118863</td>\n",
       "      <td>137.0</td>\n",
       "      <td>0.637681</td>\n",
       "      <td>5985</td>\n",
       "      <td>1971</td>\n",
       "    </tr>\n",
       "    <tr>\n",
       "      <th>1</th>\n",
       "      <td>1.025394</td>\n",
       "      <td>222.0</td>\n",
       "      <td>0.369176</td>\n",
       "      <td>5790</td>\n",
       "      <td>1609</td>\n",
       "    </tr>\n",
       "    <tr>\n",
       "      <th>2</th>\n",
       "      <td>3.039071</td>\n",
       "      <td>300.0</td>\n",
       "      <td>0.409836</td>\n",
       "      <td>5821</td>\n",
       "      <td>1886</td>\n",
       "    </tr>\n",
       "    <tr>\n",
       "      <th>3</th>\n",
       "      <td>3.822027</td>\n",
       "      <td>298.0</td>\n",
       "      <td>0.344729</td>\n",
       "      <td>5769</td>\n",
       "      <td>2206</td>\n",
       "    </tr>\n",
       "    <tr>\n",
       "      <th>4</th>\n",
       "      <td>4.193993</td>\n",
       "      <td>263.0</td>\n",
       "      <td>0.429032</td>\n",
       "      <td>5747</td>\n",
       "      <td>3140</td>\n",
       "    </tr>\n",
       "  </tbody>\n",
       "</table>\n",
       "</div>"
      ],
      "text/plain": [
       "     Dipole  Elongation  Aspect_Ratio  Centroid_x  Centroid_y\n",
       "0  0.118863       137.0      0.637681        5985        1971\n",
       "1  1.025394       222.0      0.369176        5790        1609\n",
       "2  3.039071       300.0      0.409836        5821        1886\n",
       "3  3.822027       298.0      0.344729        5769        2206\n",
       "4  4.193993       263.0      0.429032        5747        3140"
      ]
     },
     "execution_count": 23,
     "metadata": {},
     "output_type": "execute_result"
    }
   ],
   "source": [
    "dfRewards.head()"
   ]
  },
  {
   "cell_type": "code",
   "execution_count": 27,
   "id": "fcb8ef32",
   "metadata": {},
   "outputs": [
    {
     "data": {
      "text/plain": [
       "(True, True)"
      ]
     },
     "execution_count": 27,
     "metadata": {},
     "output_type": "execute_result"
    }
   ],
   "source": [
    "set(dfRewards.Centroid_x.values) == set(dfPaired.yPheno.values), set(dfRewards.Centroid_y.values) == set(dfPaired.xPheno.values)"
   ]
  },
  {
   "cell_type": "code",
   "execution_count": 76,
   "id": "a258fb48",
   "metadata": {
    "scrolled": true
   },
   "outputs": [],
   "source": [
    "newIX = [np.where((posP[i] == posR).all(axis=1))[0][0] for i in range(posP.shape[0])]"
   ]
  },
  {
   "cell_type": "code",
   "execution_count": 90,
   "id": "ac929e4e",
   "metadata": {},
   "outputs": [],
   "source": [
    "dfRSorted = dfRewards.iloc[newIX]#[['Dipole', 'Elongation', 'Aspect_Ratio']]"
   ]
  },
  {
   "cell_type": "code",
   "execution_count": 92,
   "id": "d2e97db5",
   "metadata": {},
   "outputs": [
    {
     "data": {
      "text/html": [
       "<div>\n",
       "<style scoped>\n",
       "    .dataframe tbody tr th:only-of-type {\n",
       "        vertical-align: middle;\n",
       "    }\n",
       "\n",
       "    .dataframe tbody tr th {\n",
       "        vertical-align: top;\n",
       "    }\n",
       "\n",
       "    .dataframe thead th {\n",
       "        text-align: right;\n",
       "    }\n",
       "</style>\n",
       "<table border=\"1\" class=\"dataframe\">\n",
       "  <thead>\n",
       "    <tr style=\"text-align: right;\">\n",
       "      <th></th>\n",
       "      <th>Dipole</th>\n",
       "      <th>Elongation</th>\n",
       "      <th>Aspect_Ratio</th>\n",
       "    </tr>\n",
       "  </thead>\n",
       "  <tbody>\n",
       "    <tr>\n",
       "      <th>339</th>\n",
       "      <td>4.183770</td>\n",
       "      <td>276.0</td>\n",
       "      <td>0.481707</td>\n",
       "    </tr>\n",
       "    <tr>\n",
       "      <th>342</th>\n",
       "      <td>3.083914</td>\n",
       "      <td>260.0</td>\n",
       "      <td>0.372093</td>\n",
       "    </tr>\n",
       "    <tr>\n",
       "      <th>344</th>\n",
       "      <td>5.660618</td>\n",
       "      <td>292.0</td>\n",
       "      <td>0.397183</td>\n",
       "    </tr>\n",
       "    <tr>\n",
       "      <th>340</th>\n",
       "      <td>4.689636</td>\n",
       "      <td>247.0</td>\n",
       "      <td>0.402730</td>\n",
       "    </tr>\n",
       "    <tr>\n",
       "      <th>346</th>\n",
       "      <td>4.927941</td>\n",
       "      <td>277.0</td>\n",
       "      <td>0.390244</td>\n",
       "    </tr>\n",
       "    <tr>\n",
       "      <th>...</th>\n",
       "      <td>...</td>\n",
       "      <td>...</td>\n",
       "      <td>...</td>\n",
       "    </tr>\n",
       "    <tr>\n",
       "      <th>63</th>\n",
       "      <td>0.058833</td>\n",
       "      <td>55.0</td>\n",
       "      <td>0.724359</td>\n",
       "    </tr>\n",
       "    <tr>\n",
       "      <th>62</th>\n",
       "      <td>0.355173</td>\n",
       "      <td>70.0</td>\n",
       "      <td>0.613793</td>\n",
       "    </tr>\n",
       "    <tr>\n",
       "      <th>67</th>\n",
       "      <td>0.796311</td>\n",
       "      <td>71.0</td>\n",
       "      <td>0.739130</td>\n",
       "    </tr>\n",
       "    <tr>\n",
       "      <th>64</th>\n",
       "      <td>3.274894</td>\n",
       "      <td>204.0</td>\n",
       "      <td>1.010101</td>\n",
       "    </tr>\n",
       "    <tr>\n",
       "      <th>0</th>\n",
       "      <td>0.118863</td>\n",
       "      <td>137.0</td>\n",
       "      <td>0.637681</td>\n",
       "    </tr>\n",
       "  </tbody>\n",
       "</table>\n",
       "<p>350 rows × 3 columns</p>\n",
       "</div>"
      ],
      "text/plain": [
       "       Dipole  Elongation  Aspect_Ratio\n",
       "339  4.183770       276.0      0.481707\n",
       "342  3.083914       260.0      0.372093\n",
       "344  5.660618       292.0      0.397183\n",
       "340  4.689636       247.0      0.402730\n",
       "346  4.927941       277.0      0.390244\n",
       "..        ...         ...           ...\n",
       "63   0.058833        55.0      0.724359\n",
       "62   0.355173        70.0      0.613793\n",
       "67   0.796311        71.0      0.739130\n",
       "64   3.274894       204.0      1.010101\n",
       "0    0.118863       137.0      0.637681\n",
       "\n",
       "[350 rows x 3 columns]"
      ]
     },
     "execution_count": 92,
     "metadata": {},
     "output_type": "execute_result"
    }
   ],
   "source": [
    "dfRSorted[['Dipole', 'Elongation', 'Aspect_Ratio']].reset_in"
   ]
  },
  {
   "cell_type": "code",
   "execution_count": 116,
   "id": "904d93e8",
   "metadata": {},
   "outputs": [
    {
     "data": {
      "text/html": [
       "<div>\n",
       "<style scoped>\n",
       "    .dataframe tbody tr th:only-of-type {\n",
       "        vertical-align: middle;\n",
       "    }\n",
       "\n",
       "    .dataframe tbody tr th {\n",
       "        vertical-align: top;\n",
       "    }\n",
       "\n",
       "    .dataframe thead th {\n",
       "        text-align: right;\n",
       "    }\n",
       "</style>\n",
       "<table border=\"1\" class=\"dataframe\">\n",
       "  <thead>\n",
       "    <tr style=\"text-align: right;\">\n",
       "      <th></th>\n",
       "      <th>Dipole</th>\n",
       "      <th>Elongation</th>\n",
       "      <th>Aspect_Ratio</th>\n",
       "      <th>Centroid_x</th>\n",
       "      <th>Centroid_y</th>\n",
       "    </tr>\n",
       "  </thead>\n",
       "  <tbody>\n",
       "    <tr>\n",
       "      <th>0</th>\n",
       "      <td>4.183770</td>\n",
       "      <td>276.0</td>\n",
       "      <td>0.481707</td>\n",
       "      <td>631</td>\n",
       "      <td>1465</td>\n",
       "    </tr>\n",
       "    <tr>\n",
       "      <th>1</th>\n",
       "      <td>3.083914</td>\n",
       "      <td>260.0</td>\n",
       "      <td>0.372093</td>\n",
       "      <td>607</td>\n",
       "      <td>1819</td>\n",
       "    </tr>\n",
       "    <tr>\n",
       "      <th>2</th>\n",
       "      <td>5.660618</td>\n",
       "      <td>292.0</td>\n",
       "      <td>0.397183</td>\n",
       "      <td>612</td>\n",
       "      <td>2130</td>\n",
       "    </tr>\n",
       "    <tr>\n",
       "      <th>3</th>\n",
       "      <td>4.689636</td>\n",
       "      <td>247.0</td>\n",
       "      <td>0.402730</td>\n",
       "      <td>617</td>\n",
       "      <td>2444</td>\n",
       "    </tr>\n",
       "    <tr>\n",
       "      <th>4</th>\n",
       "      <td>4.927941</td>\n",
       "      <td>277.0</td>\n",
       "      <td>0.390244</td>\n",
       "      <td>592</td>\n",
       "      <td>2774</td>\n",
       "    </tr>\n",
       "    <tr>\n",
       "      <th>...</th>\n",
       "      <td>...</td>\n",
       "      <td>...</td>\n",
       "      <td>...</td>\n",
       "      <td>...</td>\n",
       "      <td>...</td>\n",
       "    </tr>\n",
       "    <tr>\n",
       "      <th>345</th>\n",
       "      <td>0.058833</td>\n",
       "      <td>55.0</td>\n",
       "      <td>0.724359</td>\n",
       "      <td>4720</td>\n",
       "      <td>4689</td>\n",
       "    </tr>\n",
       "    <tr>\n",
       "      <th>346</th>\n",
       "      <td>0.355173</td>\n",
       "      <td>70.0</td>\n",
       "      <td>0.613793</td>\n",
       "      <td>4713</td>\n",
       "      <td>5059</td>\n",
       "    </tr>\n",
       "    <tr>\n",
       "      <th>347</th>\n",
       "      <td>0.796311</td>\n",
       "      <td>71.0</td>\n",
       "      <td>0.739130</td>\n",
       "      <td>4669</td>\n",
       "      <td>5387</td>\n",
       "    </tr>\n",
       "    <tr>\n",
       "      <th>348</th>\n",
       "      <td>3.274894</td>\n",
       "      <td>204.0</td>\n",
       "      <td>1.010101</td>\n",
       "      <td>4751</td>\n",
       "      <td>5698</td>\n",
       "    </tr>\n",
       "    <tr>\n",
       "      <th>349</th>\n",
       "      <td>0.118863</td>\n",
       "      <td>137.0</td>\n",
       "      <td>0.637681</td>\n",
       "      <td>5985</td>\n",
       "      <td>1971</td>\n",
       "    </tr>\n",
       "  </tbody>\n",
       "</table>\n",
       "<p>350 rows × 5 columns</p>\n",
       "</div>"
      ],
      "text/plain": [
       "       Dipole  Elongation  Aspect_Ratio  Centroid_x  Centroid_y\n",
       "0    4.183770       276.0      0.481707         631        1465\n",
       "1    3.083914       260.0      0.372093         607        1819\n",
       "2    5.660618       292.0      0.397183         612        2130\n",
       "3    4.689636       247.0      0.402730         617        2444\n",
       "4    4.927941       277.0      0.390244         592        2774\n",
       "..        ...         ...           ...         ...         ...\n",
       "345  0.058833        55.0      0.724359        4720        4689\n",
       "346  0.355173        70.0      0.613793        4713        5059\n",
       "347  0.796311        71.0      0.739130        4669        5387\n",
       "348  3.274894       204.0      1.010101        4751        5698\n",
       "349  0.118863       137.0      0.637681        5985        1971\n",
       "\n",
       "[350 rows x 5 columns]"
      ]
     },
     "execution_count": 116,
     "metadata": {},
     "output_type": "execute_result"
    }
   ],
   "source": [
    "dfRSorted.reset_index(drop=True)"
   ]
  },
  {
   "cell_type": "code",
   "execution_count": 120,
   "id": "f39eca50",
   "metadata": {},
   "outputs": [],
   "source": [
    "dfMatched = pd.concat([dfPaired,dfRSorted.reset_index(drop=True)], axis=1)#"
   ]
  },
  {
   "cell_type": "code",
   "execution_count": 121,
   "id": "760bbd03",
   "metadata": {},
   "outputs": [
    {
     "data": {
      "text/html": [
       "<div>\n",
       "<style scoped>\n",
       "    .dataframe tbody tr th:only-of-type {\n",
       "        vertical-align: middle;\n",
       "    }\n",
       "\n",
       "    .dataframe tbody tr th {\n",
       "        vertical-align: top;\n",
       "    }\n",
       "\n",
       "    .dataframe thead th {\n",
       "        text-align: right;\n",
       "    }\n",
       "</style>\n",
       "<table border=\"1\" class=\"dataframe\">\n",
       "  <thead>\n",
       "    <tr style=\"text-align: right;\">\n",
       "      <th></th>\n",
       "      <th>xInit</th>\n",
       "      <th>yInit</th>\n",
       "      <th>colorInit</th>\n",
       "      <th>xPheno</th>\n",
       "      <th>yPheno</th>\n",
       "      <th>colorPheno</th>\n",
       "      <th>Dipole</th>\n",
       "      <th>Elongation</th>\n",
       "      <th>Aspect_Ratio</th>\n",
       "      <th>Centroid_x</th>\n",
       "      <th>Centroid_y</th>\n",
       "    </tr>\n",
       "  </thead>\n",
       "  <tbody>\n",
       "    <tr>\n",
       "      <th>0</th>\n",
       "      <td>2400</td>\n",
       "      <td>600</td>\n",
       "      <td>m</td>\n",
       "      <td>1465</td>\n",
       "      <td>631</td>\n",
       "      <td>m</td>\n",
       "      <td>4.183770</td>\n",
       "      <td>276.0</td>\n",
       "      <td>0.481707</td>\n",
       "      <td>631</td>\n",
       "      <td>1465</td>\n",
       "    </tr>\n",
       "    <tr>\n",
       "      <th>1</th>\n",
       "      <td>3000</td>\n",
       "      <td>600</td>\n",
       "      <td>m</td>\n",
       "      <td>1819</td>\n",
       "      <td>607</td>\n",
       "      <td>m</td>\n",
       "      <td>3.083914</td>\n",
       "      <td>260.0</td>\n",
       "      <td>0.372093</td>\n",
       "      <td>607</td>\n",
       "      <td>1819</td>\n",
       "    </tr>\n",
       "    <tr>\n",
       "      <th>2</th>\n",
       "      <td>3600</td>\n",
       "      <td>600</td>\n",
       "      <td>m</td>\n",
       "      <td>2130</td>\n",
       "      <td>612</td>\n",
       "      <td>m</td>\n",
       "      <td>5.660618</td>\n",
       "      <td>292.0</td>\n",
       "      <td>0.397183</td>\n",
       "      <td>612</td>\n",
       "      <td>2130</td>\n",
       "    </tr>\n",
       "    <tr>\n",
       "      <th>3</th>\n",
       "      <td>4200</td>\n",
       "      <td>600</td>\n",
       "      <td>m</td>\n",
       "      <td>2444</td>\n",
       "      <td>617</td>\n",
       "      <td>m</td>\n",
       "      <td>4.689636</td>\n",
       "      <td>247.0</td>\n",
       "      <td>0.402730</td>\n",
       "      <td>617</td>\n",
       "      <td>2444</td>\n",
       "    </tr>\n",
       "    <tr>\n",
       "      <th>4</th>\n",
       "      <td>4800</td>\n",
       "      <td>600</td>\n",
       "      <td>m</td>\n",
       "      <td>2774</td>\n",
       "      <td>592</td>\n",
       "      <td>m</td>\n",
       "      <td>4.927941</td>\n",
       "      <td>277.0</td>\n",
       "      <td>0.390244</td>\n",
       "      <td>592</td>\n",
       "      <td>2774</td>\n",
       "    </tr>\n",
       "    <tr>\n",
       "      <th>...</th>\n",
       "      <td>...</td>\n",
       "      <td>...</td>\n",
       "      <td>...</td>\n",
       "      <td>...</td>\n",
       "      <td>...</td>\n",
       "      <td>...</td>\n",
       "      <td>...</td>\n",
       "      <td>...</td>\n",
       "      <td>...</td>\n",
       "      <td>...</td>\n",
       "      <td>...</td>\n",
       "    </tr>\n",
       "    <tr>\n",
       "      <th>345</th>\n",
       "      <td>8400</td>\n",
       "      <td>8500</td>\n",
       "      <td>r</td>\n",
       "      <td>4689</td>\n",
       "      <td>4720</td>\n",
       "      <td>r</td>\n",
       "      <td>0.058833</td>\n",
       "      <td>55.0</td>\n",
       "      <td>0.724359</td>\n",
       "      <td>4720</td>\n",
       "      <td>4689</td>\n",
       "    </tr>\n",
       "    <tr>\n",
       "      <th>346</th>\n",
       "      <td>9000</td>\n",
       "      <td>8500</td>\n",
       "      <td>r</td>\n",
       "      <td>5059</td>\n",
       "      <td>4713</td>\n",
       "      <td>r</td>\n",
       "      <td>0.355173</td>\n",
       "      <td>70.0</td>\n",
       "      <td>0.613793</td>\n",
       "      <td>4713</td>\n",
       "      <td>5059</td>\n",
       "    </tr>\n",
       "    <tr>\n",
       "      <th>347</th>\n",
       "      <td>9600</td>\n",
       "      <td>8500</td>\n",
       "      <td>r</td>\n",
       "      <td>5387</td>\n",
       "      <td>4669</td>\n",
       "      <td>r</td>\n",
       "      <td>0.796311</td>\n",
       "      <td>71.0</td>\n",
       "      <td>0.739130</td>\n",
       "      <td>4669</td>\n",
       "      <td>5387</td>\n",
       "    </tr>\n",
       "    <tr>\n",
       "      <th>348</th>\n",
       "      <td>10200</td>\n",
       "      <td>8500</td>\n",
       "      <td>r</td>\n",
       "      <td>5698</td>\n",
       "      <td>4751</td>\n",
       "      <td>r</td>\n",
       "      <td>3.274894</td>\n",
       "      <td>204.0</td>\n",
       "      <td>1.010101</td>\n",
       "      <td>4751</td>\n",
       "      <td>5698</td>\n",
       "    </tr>\n",
       "    <tr>\n",
       "      <th>349</th>\n",
       "      <td>3000</td>\n",
       "      <td>10800</td>\n",
       "      <td>r</td>\n",
       "      <td>1971</td>\n",
       "      <td>5985</td>\n",
       "      <td>r</td>\n",
       "      <td>0.118863</td>\n",
       "      <td>137.0</td>\n",
       "      <td>0.637681</td>\n",
       "      <td>5985</td>\n",
       "      <td>1971</td>\n",
       "    </tr>\n",
       "  </tbody>\n",
       "</table>\n",
       "<p>350 rows × 11 columns</p>\n",
       "</div>"
      ],
      "text/plain": [
       "     xInit  yInit colorInit  xPheno  yPheno colorPheno    Dipole  Elongation  \\\n",
       "0     2400    600         m    1465     631          m  4.183770       276.0   \n",
       "1     3000    600         m    1819     607          m  3.083914       260.0   \n",
       "2     3600    600         m    2130     612          m  5.660618       292.0   \n",
       "3     4200    600         m    2444     617          m  4.689636       247.0   \n",
       "4     4800    600         m    2774     592          m  4.927941       277.0   \n",
       "..     ...    ...       ...     ...     ...        ...       ...         ...   \n",
       "345   8400   8500         r    4689    4720          r  0.058833        55.0   \n",
       "346   9000   8500         r    5059    4713          r  0.355173        70.0   \n",
       "347   9600   8500         r    5387    4669          r  0.796311        71.0   \n",
       "348  10200   8500         r    5698    4751          r  3.274894       204.0   \n",
       "349   3000  10800         r    1971    5985          r  0.118863       137.0   \n",
       "\n",
       "     Aspect_Ratio  Centroid_x  Centroid_y  \n",
       "0        0.481707         631        1465  \n",
       "1        0.372093         607        1819  \n",
       "2        0.397183         612        2130  \n",
       "3        0.402730         617        2444  \n",
       "4        0.390244         592        2774  \n",
       "..            ...         ...         ...  \n",
       "345      0.724359        4720        4689  \n",
       "346      0.613793        4713        5059  \n",
       "347      0.739130        4669        5387  \n",
       "348      1.010101        4751        5698  \n",
       "349      0.637681        5985        1971  \n",
       "\n",
       "[350 rows x 11 columns]"
      ]
     },
     "execution_count": 121,
     "metadata": {},
     "output_type": "execute_result"
    }
   ],
   "source": [
    "dfMatched"
   ]
  },
  {
   "cell_type": "code",
   "execution_count": 122,
   "id": "b708fdee",
   "metadata": {},
   "outputs": [],
   "source": [
    "dfMatched.to_csv('dfMatchedFinal')"
   ]
  },
  {
   "cell_type": "markdown",
   "id": "14c0c38a",
   "metadata": {},
   "source": [
    "# FINDING NEIGHBORHOODS OF DESIGN MATRIX"
   ]
  },
  {
   "cell_type": "code",
   "execution_count": 127,
   "id": "25b74df8",
   "metadata": {},
   "outputs": [],
   "source": [
    "coords = np.array(list(zip(dfMatched.xInit.values, dfMatched.yInit.values)))"
   ]
  },
  {
   "cell_type": "code",
   "execution_count": 164,
   "id": "0052c405",
   "metadata": {},
   "outputs": [],
   "source": [
    "def findNeighbors(coords, searchLen):\n",
    "    # INPUTS ########\n",
    "        # coords: coordinates of design matrix\n",
    "        # searchLen: side length of box within which neighbors will be searched for\n",
    "    # OUTPUTS #######\n",
    "        # bbox: matrix of neighborhood\n",
    "        # associated coordinates\n",
    "    \n",
    "    searchLenNorm = searchLen//50\n",
    "    coordsNorm = coords//50\n",
    "    \n",
    "    xRange = (np.max(coordsNorm[:,0]) - np.min(coordsNorm[:,0])) + 3*searchLenNorm\n",
    "    yRange = (np.max(coordsNorm[:,1]) - np.min(coordsNorm[:,1])) + 3*searchLenNorm\n",
    "    globalLen = max(xRange, yRange)\n",
    "    \n",
    "    newMat = np.zeros((globalLen, globalLen))\n",
    "    newx, newy = coordsNorm[:,0]+searchLenNorm, coordsNorm[:,1]+searchLenNorm\n",
    "    \n",
    "    for x,y in list(zip(newx,newy)):\n",
    "        bLeftx, bLefty = x-1, y-1\n",
    "        for xShift in range(4):\n",
    "            for yShift in range(4):\n",
    "                newMat[bLeftx + xShift, bLefty + yShift] = 1\n",
    "                \n",
    "    bBoxes = []            \n",
    "    pad = 1 \n",
    "    # search length and boxSideLen in microns\n",
    "    for coordX, coordY in list(zip(newx, newy)):\n",
    "        #testX = newx[130]\n",
    "        #testY = newy[130]\n",
    "\n",
    "        #newMat[testX,testY] = 255\n",
    "\n",
    "        xbndL, xbndU = coordX - searchLenNorm, coordX + searchLenNorm + pad\n",
    "        ybndL, ybndU = coordY - searchLenNorm, coordY + searchLenNorm + pad\n",
    "\n",
    "        bbox = newMat[xbndL:xbndU, ybndL:ybndU]        \n",
    "        \n",
    "\n",
    "        #xBBox = (coordsNorm[:,0] >= xbndL) & (coordsNorm[:,0] <= xbndU)\n",
    "        #yBBox = (coordsNorm[:,1] >= ybndL) & (coordsNorm[:,1] <= ybndU)\n",
    "        #neighborIX = np.where(xbool & ybool)\n",
    "\n",
    "        bBoxes.append(bbox)\n",
    "    \n",
    "    return bBoxes\n",
    "    \n",
    "neighbors = findNeighbors(coords, 1000) "
   ]
  },
  {
   "cell_type": "code",
   "execution_count": 256,
   "id": "51007a11",
   "metadata": {},
   "outputs": [
    {
     "data": {
      "text/plain": [
       "<matplotlib.image.AxesImage at 0x7f7616a6edc0>"
      ]
     },
     "execution_count": 256,
     "metadata": {},
     "output_type": "execute_result"
    },
    {
     "data": {
      "image/png": "[encoded data removed]",
      "text/plain": [
       "<Figure size 432x288 with 1 Axes>"
      ]
     },
     "metadata": {
      "needs_background": "light"
     },
     "output_type": "display_data"
    }
   ],
   "source": [
    "plt.imshow(neighbors[0])"
   ]
  },
  {
   "cell_type": "code",
   "execution_count": 231,
   "id": "cc7f3ebb",
   "metadata": {},
   "outputs": [
    {
     "data": {
      "text/plain": [
       "350"
      ]
     },
     "execution_count": 231,
     "metadata": {},
     "output_type": "execute_result"
    }
   ],
   "source": [
    "len(neighbors)"
   ]
  },
  {
   "cell_type": "code",
   "execution_count": 295,
   "id": "7260c250",
   "metadata": {},
   "outputs": [],
   "source": [
    "flatLocals = pd.DataFrame([neighbor.flatten().astype(int) for neighbor in neighbors])"
   ]
  },
  {
   "cell_type": "code",
   "execution_count": 297,
   "id": "d3e5441f",
   "metadata": {},
   "outputs": [],
   "source": [
    "dfMatched = pd.concat([dfMatched, flatLocals], axis = 1)"
   ]
  },
  {
   "cell_type": "code",
   "execution_count": 234,
   "id": "c5aff349",
   "metadata": {},
   "outputs": [],
   "source": [
    "np.save(\"pairedLocalities\", np.array(neighbors))"
   ]
  },
  {
   "cell_type": "code",
   "execution_count": 344,
   "id": "00487ecc",
   "metadata": {},
   "outputs": [],
   "source": [
    "dfMatched.to_csv(\"dfPairedFull.csv\", index=False)"
   ]
  },
  {
   "cell_type": "markdown",
   "id": "10c695cf",
   "metadata": {},
   "source": [
    "# CNN"
   ]
  },
  {
   "cell_type": "code",
   "execution_count": 345,
   "id": "7614ffd3",
   "metadata": {},
   "outputs": [],
   "source": [
    "df = pd.read_csv(\"dfPairedFull.csv\")"
   ]
  },
  {
   "cell_type": "code",
   "execution_count": 346,
   "id": "b0461925",
   "metadata": {},
   "outputs": [
    {
     "data": {
      "text/html": [
       "<div>\n",
       "<style scoped>\n",
       "    .dataframe tbody tr th:only-of-type {\n",
       "        vertical-align: middle;\n",
       "    }\n",
       "\n",
       "    .dataframe tbody tr th {\n",
       "        vertical-align: top;\n",
       "    }\n",
       "\n",
       "    .dataframe thead th {\n",
       "        text-align: right;\n",
       "    }\n",
       "</style>\n",
       "<table border=\"1\" class=\"dataframe\">\n",
       "  <thead>\n",
       "    <tr style=\"text-align: right;\">\n",
       "      <th></th>\n",
       "      <th>xInit</th>\n",
       "      <th>yInit</th>\n",
       "      <th>colorInit</th>\n",
       "      <th>xPheno</th>\n",
       "      <th>yPheno</th>\n",
       "      <th>colorPheno</th>\n",
       "      <th>Dipole</th>\n",
       "      <th>Elongation</th>\n",
       "      <th>Aspect_Ratio</th>\n",
       "      <th>Centroid_x</th>\n",
       "      <th>...</th>\n",
       "      <th>1671</th>\n",
       "      <th>1672</th>\n",
       "      <th>1673</th>\n",
       "      <th>1674</th>\n",
       "      <th>1675</th>\n",
       "      <th>1676</th>\n",
       "      <th>1677</th>\n",
       "      <th>1678</th>\n",
       "      <th>1679</th>\n",
       "      <th>1680</th>\n",
       "    </tr>\n",
       "  </thead>\n",
       "  <tbody>\n",
       "    <tr>\n",
       "      <th>0</th>\n",
       "      <td>2400</td>\n",
       "      <td>600</td>\n",
       "      <td>m</td>\n",
       "      <td>1465</td>\n",
       "      <td>631</td>\n",
       "      <td>m</td>\n",
       "      <td>4.183770</td>\n",
       "      <td>276.0</td>\n",
       "      <td>0.481707</td>\n",
       "      <td>631</td>\n",
       "      <td>...</td>\n",
       "      <td>0</td>\n",
       "      <td>0</td>\n",
       "      <td>0</td>\n",
       "      <td>0</td>\n",
       "      <td>0</td>\n",
       "      <td>0</td>\n",
       "      <td>0</td>\n",
       "      <td>0</td>\n",
       "      <td>0</td>\n",
       "      <td>0</td>\n",
       "    </tr>\n",
       "    <tr>\n",
       "      <th>1</th>\n",
       "      <td>3000</td>\n",
       "      <td>600</td>\n",
       "      <td>m</td>\n",
       "      <td>1819</td>\n",
       "      <td>607</td>\n",
       "      <td>m</td>\n",
       "      <td>3.083914</td>\n",
       "      <td>260.0</td>\n",
       "      <td>0.372093</td>\n",
       "      <td>607</td>\n",
       "      <td>...</td>\n",
       "      <td>0</td>\n",
       "      <td>0</td>\n",
       "      <td>0</td>\n",
       "      <td>0</td>\n",
       "      <td>0</td>\n",
       "      <td>0</td>\n",
       "      <td>0</td>\n",
       "      <td>0</td>\n",
       "      <td>0</td>\n",
       "      <td>0</td>\n",
       "    </tr>\n",
       "    <tr>\n",
       "      <th>2</th>\n",
       "      <td>3600</td>\n",
       "      <td>600</td>\n",
       "      <td>m</td>\n",
       "      <td>2130</td>\n",
       "      <td>612</td>\n",
       "      <td>m</td>\n",
       "      <td>5.660618</td>\n",
       "      <td>292.0</td>\n",
       "      <td>0.397183</td>\n",
       "      <td>612</td>\n",
       "      <td>...</td>\n",
       "      <td>0</td>\n",
       "      <td>0</td>\n",
       "      <td>0</td>\n",
       "      <td>0</td>\n",
       "      <td>0</td>\n",
       "      <td>0</td>\n",
       "      <td>0</td>\n",
       "      <td>0</td>\n",
       "      <td>0</td>\n",
       "      <td>0</td>\n",
       "    </tr>\n",
       "    <tr>\n",
       "      <th>3</th>\n",
       "      <td>4200</td>\n",
       "      <td>600</td>\n",
       "      <td>m</td>\n",
       "      <td>2444</td>\n",
       "      <td>617</td>\n",
       "      <td>m</td>\n",
       "      <td>4.689636</td>\n",
       "      <td>247.0</td>\n",
       "      <td>0.402730</td>\n",
       "      <td>617</td>\n",
       "      <td>...</td>\n",
       "      <td>0</td>\n",
       "      <td>0</td>\n",
       "      <td>0</td>\n",
       "      <td>0</td>\n",
       "      <td>0</td>\n",
       "      <td>0</td>\n",
       "      <td>0</td>\n",
       "      <td>0</td>\n",
       "      <td>0</td>\n",
       "      <td>0</td>\n",
       "    </tr>\n",
       "    <tr>\n",
       "      <th>4</th>\n",
       "      <td>4800</td>\n",
       "      <td>600</td>\n",
       "      <td>m</td>\n",
       "      <td>2774</td>\n",
       "      <td>592</td>\n",
       "      <td>m</td>\n",
       "      <td>4.927941</td>\n",
       "      <td>277.0</td>\n",
       "      <td>0.390244</td>\n",
       "      <td>592</td>\n",
       "      <td>...</td>\n",
       "      <td>0</td>\n",
       "      <td>0</td>\n",
       "      <td>0</td>\n",
       "      <td>0</td>\n",
       "      <td>0</td>\n",
       "      <td>0</td>\n",
       "      <td>0</td>\n",
       "      <td>0</td>\n",
       "      <td>0</td>\n",
       "      <td>0</td>\n",
       "    </tr>\n",
       "  </tbody>\n",
       "</table>\n",
       "<p>5 rows × 1692 columns</p>\n",
       "</div>"
      ],
      "text/plain": [
       "   xInit  yInit colorInit  xPheno  yPheno colorPheno    Dipole  Elongation  \\\n",
       "0   2400    600         m    1465     631          m  4.183770       276.0   \n",
       "1   3000    600         m    1819     607          m  3.083914       260.0   \n",
       "2   3600    600         m    2130     612          m  5.660618       292.0   \n",
       "3   4200    600         m    2444     617          m  4.689636       247.0   \n",
       "4   4800    600         m    2774     592          m  4.927941       277.0   \n",
       "\n",
       "   Aspect_Ratio  Centroid_x  ...  1671  1672  1673  1674  1675  1676  1677  \\\n",
       "0      0.481707         631  ...     0     0     0     0     0     0     0   \n",
       "1      0.372093         607  ...     0     0     0     0     0     0     0   \n",
       "2      0.397183         612  ...     0     0     0     0     0     0     0   \n",
       "3      0.402730         617  ...     0     0     0     0     0     0     0   \n",
       "4      0.390244         592  ...     0     0     0     0     0     0     0   \n",
       "\n",
       "   1678  1679  1680  \n",
       "0     0     0     0  \n",
       "1     0     0     0  \n",
       "2     0     0     0  \n",
       "3     0     0     0  \n",
       "4     0     0     0  \n",
       "\n",
       "[5 rows x 1692 columns]"
      ]
     },
     "execution_count": 346,
     "metadata": {},
     "output_type": "execute_result"
    }
   ],
   "source": [
    "df.head()"
   ]
  },
  {
   "cell_type": "code",
   "execution_count": 349,
   "id": "a4e55945",
   "metadata": {},
   "outputs": [],
   "source": [
    "dfLocalityReward = pd.concat([df.Elongation, df.loc[:, '0':]], axis = 1)"
   ]
  },
  {
   "cell_type": "code",
   "execution_count": 363,
   "id": "f587cf8b",
   "metadata": {},
   "outputs": [
    {
     "data": {
      "text/html": [
       "<div>\n",
       "<style scoped>\n",
       "    .dataframe tbody tr th:only-of-type {\n",
       "        vertical-align: middle;\n",
       "    }\n",
       "\n",
       "    .dataframe tbody tr th {\n",
       "        vertical-align: top;\n",
       "    }\n",
       "\n",
       "    .dataframe thead th {\n",
       "        text-align: right;\n",
       "    }\n",
       "</style>\n",
       "<table border=\"1\" class=\"dataframe\">\n",
       "  <thead>\n",
       "    <tr style=\"text-align: right;\">\n",
       "      <th></th>\n",
       "      <th>Elongation</th>\n",
       "      <th>0</th>\n",
       "      <th>1</th>\n",
       "      <th>2</th>\n",
       "      <th>3</th>\n",
       "      <th>4</th>\n",
       "      <th>5</th>\n",
       "      <th>6</th>\n",
       "      <th>7</th>\n",
       "      <th>8</th>\n",
       "      <th>...</th>\n",
       "      <th>1671</th>\n",
       "      <th>1672</th>\n",
       "      <th>1673</th>\n",
       "      <th>1674</th>\n",
       "      <th>1675</th>\n",
       "      <th>1676</th>\n",
       "      <th>1677</th>\n",
       "      <th>1678</th>\n",
       "      <th>1679</th>\n",
       "      <th>1680</th>\n",
       "    </tr>\n",
       "  </thead>\n",
       "  <tbody>\n",
       "    <tr>\n",
       "      <th>0</th>\n",
       "      <td>276.0</td>\n",
       "      <td>0</td>\n",
       "      <td>0</td>\n",
       "      <td>0</td>\n",
       "      <td>0</td>\n",
       "      <td>0</td>\n",
       "      <td>0</td>\n",
       "      <td>0</td>\n",
       "      <td>0</td>\n",
       "      <td>0</td>\n",
       "      <td>...</td>\n",
       "      <td>0</td>\n",
       "      <td>0</td>\n",
       "      <td>0</td>\n",
       "      <td>0</td>\n",
       "      <td>0</td>\n",
       "      <td>0</td>\n",
       "      <td>0</td>\n",
       "      <td>0</td>\n",
       "      <td>0</td>\n",
       "      <td>0</td>\n",
       "    </tr>\n",
       "    <tr>\n",
       "      <th>1</th>\n",
       "      <td>260.0</td>\n",
       "      <td>0</td>\n",
       "      <td>0</td>\n",
       "      <td>0</td>\n",
       "      <td>0</td>\n",
       "      <td>0</td>\n",
       "      <td>0</td>\n",
       "      <td>0</td>\n",
       "      <td>0</td>\n",
       "      <td>0</td>\n",
       "      <td>...</td>\n",
       "      <td>0</td>\n",
       "      <td>0</td>\n",
       "      <td>0</td>\n",
       "      <td>0</td>\n",
       "      <td>0</td>\n",
       "      <td>0</td>\n",
       "      <td>0</td>\n",
       "      <td>0</td>\n",
       "      <td>0</td>\n",
       "      <td>0</td>\n",
       "    </tr>\n",
       "    <tr>\n",
       "      <th>2</th>\n",
       "      <td>292.0</td>\n",
       "      <td>0</td>\n",
       "      <td>0</td>\n",
       "      <td>0</td>\n",
       "      <td>0</td>\n",
       "      <td>0</td>\n",
       "      <td>0</td>\n",
       "      <td>0</td>\n",
       "      <td>0</td>\n",
       "      <td>0</td>\n",
       "      <td>...</td>\n",
       "      <td>0</td>\n",
       "      <td>0</td>\n",
       "      <td>0</td>\n",
       "      <td>0</td>\n",
       "      <td>0</td>\n",
       "      <td>0</td>\n",
       "      <td>0</td>\n",
       "      <td>0</td>\n",
       "      <td>0</td>\n",
       "      <td>0</td>\n",
       "    </tr>\n",
       "    <tr>\n",
       "      <th>3</th>\n",
       "      <td>247.0</td>\n",
       "      <td>0</td>\n",
       "      <td>0</td>\n",
       "      <td>0</td>\n",
       "      <td>0</td>\n",
       "      <td>0</td>\n",
       "      <td>0</td>\n",
       "      <td>0</td>\n",
       "      <td>0</td>\n",
       "      <td>0</td>\n",
       "      <td>...</td>\n",
       "      <td>0</td>\n",
       "      <td>0</td>\n",
       "      <td>0</td>\n",
       "      <td>0</td>\n",
       "      <td>0</td>\n",
       "      <td>0</td>\n",
       "      <td>0</td>\n",
       "      <td>0</td>\n",
       "      <td>0</td>\n",
       "      <td>0</td>\n",
       "    </tr>\n",
       "    <tr>\n",
       "      <th>4</th>\n",
       "      <td>277.0</td>\n",
       "      <td>0</td>\n",
       "      <td>0</td>\n",
       "      <td>0</td>\n",
       "      <td>0</td>\n",
       "      <td>0</td>\n",
       "      <td>0</td>\n",
       "      <td>0</td>\n",
       "      <td>0</td>\n",
       "      <td>0</td>\n",
       "      <td>...</td>\n",
       "      <td>0</td>\n",
       "      <td>0</td>\n",
       "      <td>0</td>\n",
       "      <td>0</td>\n",
       "      <td>0</td>\n",
       "      <td>0</td>\n",
       "      <td>0</td>\n",
       "      <td>0</td>\n",
       "      <td>0</td>\n",
       "      <td>0</td>\n",
       "    </tr>\n",
       "  </tbody>\n",
       "</table>\n",
       "<p>5 rows × 1682 columns</p>\n",
       "</div>"
      ],
      "text/plain": [
       "   Elongation  0  1  2  3  4  5  6  7  8  ...  1671  1672  1673  1674  1675  \\\n",
       "0       276.0  0  0  0  0  0  0  0  0  0  ...     0     0     0     0     0   \n",
       "1       260.0  0  0  0  0  0  0  0  0  0  ...     0     0     0     0     0   \n",
       "2       292.0  0  0  0  0  0  0  0  0  0  ...     0     0     0     0     0   \n",
       "3       247.0  0  0  0  0  0  0  0  0  0  ...     0     0     0     0     0   \n",
       "4       277.0  0  0  0  0  0  0  0  0  0  ...     0     0     0     0     0   \n",
       "\n",
       "   1676  1677  1678  1679  1680  \n",
       "0     0     0     0     0     0  \n",
       "1     0     0     0     0     0  \n",
       "2     0     0     0     0     0  \n",
       "3     0     0     0     0     0  \n",
       "4     0     0     0     0     0  \n",
       "\n",
       "[5 rows x 1682 columns]"
      ]
     },
     "execution_count": 363,
     "metadata": {},
     "output_type": "execute_result"
    }
   ],
   "source": [
    "dfLocalityReward.head()"
   ]
  },
  {
   "cell_type": "code",
   "execution_count": 350,
   "id": "e9a4f3df",
   "metadata": {},
   "outputs": [],
   "source": [
    "dfLocalityReward.to_csv(\"dfLocalityReward.csv\", index = False)"
   ]
  },
  {
   "cell_type": "code",
   "execution_count": 352,
   "id": "fb6c8bdd",
   "metadata": {},
   "outputs": [],
   "source": [
    "checkDF = pd.read_csv(\"dfLocalityReward.csv\")"
   ]
  },
  {
   "cell_type": "code",
   "execution_count": 354,
   "id": "1a2514b7",
   "metadata": {},
   "outputs": [],
   "source": [
    "df = np.loadtxt('dfLocalityReward.csv', delimiter=',', dtype=np.float32, skiprows=1)"
   ]
  },
  {
   "cell_type": "code",
   "execution_count": 362,
   "id": "cd29bcb5",
   "metadata": {},
   "outputs": [
    {
     "data": {
      "text/plain": [
       "array([[276.,   0.,   0., ...,   0.,   0.,   0.],\n",
       "       [260.,   0.,   0., ...,   0.,   0.,   0.],\n",
       "       [292.,   0.,   0., ...,   0.,   0.,   0.],\n",
       "       ...,\n",
       "       [ 71.,   0.,   0., ...,   0.,   0.,   0.],\n",
       "       [204.,   0.,   0., ...,   0.,   0.,   0.],\n",
       "       [137.,   0.,   0., ...,   0.,   0.,   0.]], dtype=float32)"
      ]
     },
     "execution_count": 362,
     "metadata": {},
     "output_type": "execute_result"
    }
   ],
   "source": [
    "df"
   ]
  },
  {
   "cell_type": "code",
   "execution_count": 361,
   "id": "98468505",
   "metadata": {},
   "outputs": [
    {
     "data": {
      "text/plain": [
       "<matplotlib.image.AxesImage at 0x7f750a4201f0>"
      ]
     },
     "execution_count": 361,
     "metadata": {},
     "output_type": "execute_result"
    },
    {
     "data": {
      "image/png": "[encoded data removed]",
      "text/plain": [
       "<Figure size 432x288 with 1 Axes>"
      ]
     },
     "metadata": {
      "needs_background": "light"
     },
     "output_type": "display_data"
    }
   ],
   "source": [
    "plt.imshow(df[0][1:].reshape(41, 41))"
   ]
  },
  {
   "cell_type": "code",
   "execution_count": null,
   "id": "6adc2d7a",
   "metadata": {},
   "outputs": [],
   "source": [
    "! pip install \"torchmetrics\" \"torch\" \"torchvision\" \"lightning-bolts\" \"pytorch-lightning\""
   ]
  },
  {
   "cell_type": "code",
   "execution_count": 368,
   "id": "b8a3ef9c",
   "metadata": {},
   "outputs": [],
   "source": [
    "import torch\n",
    "import torchvision\n",
    "from torch.utils.data import Dataset, DataLoader\n",
    "import numpy as np\n",
    "import torch\n",
    "import torch.nn as nn\n",
    "import torchvision\n",
    "import torchvision.transforms as transforms\n",
    "import matplotlib.pyplot as plt\n",
    "\n",
    "\n",
    "class OrganoidDataset(Dataset):\n",
    "\n",
    "    def __init__(self, transform=None):\n",
    "        df = np.loadtxt('dfLocalityReward.csv', delimiter=',', dtype=np.float32, skiprows=1)\n",
    "        self.n_samples = df.shape[0]\n",
    "\n",
    "        self.x_data = df[:, 1:]\n",
    "        self.y_data = df[:, [0]]\n",
    "\n",
    "        self.transform = transform\n",
    "\n",
    "    def __getitem__(self, index):\n",
    "        sample = self.x_data[index], self.y_data[index]\n",
    "\n",
    "        if self.transform:\n",
    "            sample = self.transform(sample)\n",
    "\n",
    "        return sample\n",
    "\n",
    "    def __len__(self):\n",
    "        return self.n_samples\n",
    "\n",
    "class ToTensor:\n",
    "    # Convert ndarrays to Tensors\n",
    "    def __call__(self, sample):\n",
    "        inputs, targets = sample\n",
    "        return torch.from_numpy(inputs), torch.from_numpy(targets)"
   ]
  },
  {
   "cell_type": "code",
   "execution_count": 365,
   "id": "a5cc9c4a",
   "metadata": {},
   "outputs": [
    {
     "data": {
      "text/plain": [
       "1681"
      ]
     },
     "execution_count": 365,
     "metadata": {},
     "output_type": "execute_result"
    }
   ],
   "source": [
    "41*41"
   ]
  },
  {
   "cell_type": "code",
   "execution_count": 372,
   "id": "9fee95b7",
   "metadata": {},
   "outputs": [
    {
     "name": "stderr",
     "output_type": "stream",
     "text": [
      "/home/iamsmurph/.virtualenvs/neuralTube/lib/python3.8/site-packages/torch/cuda/__init__.py:106: UserWarning: \n",
      "GeForce RTX 3080 with CUDA capability sm_86 is not compatible with the current PyTorch installation.\n",
      "The current PyTorch install supports CUDA capabilities sm_37 sm_50 sm_60 sm_70.\n",
      "If you want to use the GeForce RTX 3080 GPU with PyTorch, please check the instructions at https://pytorch.org/get-started/locally/\n",
      "\n",
      "  warnings.warn(incompatible_device_warn.format(device_name, capability, \" \".join(arch_list), device_name))\n"
     ]
    },
    {
     "ename": "RuntimeError",
     "evalue": "CUDA error: no kernel image is available for execution on the device\nCUDA kernel errors might be asynchronously reported at some other API call,so the stacktrace below might be incorrect.\nFor debugging consider passing CUDA_LAUNCH_BLOCKING=1.",
     "output_type": "error",
     "traceback": [
      "\u001b[0;31m---------------------------------------------------------------------------\u001b[0m",
      "\u001b[0;31mRuntimeError\u001b[0m                              Traceback (most recent call last)",
      "\u001b[0;32m/tmp/ipykernel_32005/1172832235.py\u001b[0m in \u001b[0;36m<module>\u001b[0;34m\u001b[0m\n\u001b[1;32m     53\u001b[0m \u001b[0;34m\u001b[0m\u001b[0m\n\u001b[1;32m     54\u001b[0m         \u001b[0;31m# Forward pass\u001b[0m\u001b[0;34m\u001b[0m\u001b[0;34m\u001b[0m\u001b[0;34m\u001b[0m\u001b[0m\n\u001b[0;32m---> 55\u001b[0;31m         \u001b[0moutputs\u001b[0m \u001b[0;34m=\u001b[0m \u001b[0mmodel\u001b[0m\u001b[0;34m(\u001b[0m\u001b[0mimages\u001b[0m\u001b[0;34m)\u001b[0m\u001b[0;34m\u001b[0m\u001b[0;34m\u001b[0m\u001b[0m\n\u001b[0m\u001b[1;32m     56\u001b[0m         \u001b[0mloss\u001b[0m \u001b[0;34m=\u001b[0m \u001b[0mcriterion\u001b[0m\u001b[0;34m(\u001b[0m\u001b[0moutputs\u001b[0m\u001b[0;34m,\u001b[0m \u001b[0mlabels\u001b[0m\u001b[0;34m)\u001b[0m\u001b[0;34m\u001b[0m\u001b[0;34m\u001b[0m\u001b[0m\n\u001b[1;32m     57\u001b[0m \u001b[0;34m\u001b[0m\u001b[0m\n",
      "\u001b[0;32m~/.virtualenvs/neuralTube/lib/python3.8/site-packages/torch/nn/modules/module.py\u001b[0m in \u001b[0;36m_call_impl\u001b[0;34m(self, *input, **kwargs)\u001b[0m\n\u001b[1;32m   1049\u001b[0m         if not (self._backward_hooks or self._forward_hooks or self._forward_pre_hooks or _global_backward_hooks\n\u001b[1;32m   1050\u001b[0m                 or _global_forward_hooks or _global_forward_pre_hooks):\n\u001b[0;32m-> 1051\u001b[0;31m             \u001b[0;32mreturn\u001b[0m \u001b[0mforward_call\u001b[0m\u001b[0;34m(\u001b[0m\u001b[0;34m*\u001b[0m\u001b[0minput\u001b[0m\u001b[0;34m,\u001b[0m \u001b[0;34m**\u001b[0m\u001b[0mkwargs\u001b[0m\u001b[0;34m)\u001b[0m\u001b[0;34m\u001b[0m\u001b[0;34m\u001b[0m\u001b[0m\n\u001b[0m\u001b[1;32m   1052\u001b[0m         \u001b[0;31m# Do not call functions when jit is used\u001b[0m\u001b[0;34m\u001b[0m\u001b[0;34m\u001b[0m\u001b[0;34m\u001b[0m\u001b[0m\n\u001b[1;32m   1053\u001b[0m         \u001b[0mfull_backward_hooks\u001b[0m\u001b[0;34m,\u001b[0m \u001b[0mnon_full_backward_hooks\u001b[0m \u001b[0;34m=\u001b[0m \u001b[0;34m[\u001b[0m\u001b[0;34m]\u001b[0m\u001b[0;34m,\u001b[0m \u001b[0;34m[\u001b[0m\u001b[0;34m]\u001b[0m\u001b[0;34m\u001b[0m\u001b[0;34m\u001b[0m\u001b[0m\n",
      "\u001b[0;32m/tmp/ipykernel_32005/1172832235.py\u001b[0m in \u001b[0;36mforward\u001b[0;34m(self, x)\u001b[0m\n\u001b[1;32m     29\u001b[0m \u001b[0;34m\u001b[0m\u001b[0m\n\u001b[1;32m     30\u001b[0m     \u001b[0;32mdef\u001b[0m \u001b[0mforward\u001b[0m\u001b[0;34m(\u001b[0m\u001b[0mself\u001b[0m\u001b[0;34m,\u001b[0m \u001b[0mx\u001b[0m\u001b[0;34m)\u001b[0m\u001b[0;34m:\u001b[0m\u001b[0;34m\u001b[0m\u001b[0;34m\u001b[0m\u001b[0m\n\u001b[0;32m---> 31\u001b[0;31m         \u001b[0mout\u001b[0m \u001b[0;34m=\u001b[0m \u001b[0mself\u001b[0m\u001b[0;34m.\u001b[0m\u001b[0ml1\u001b[0m\u001b[0;34m(\u001b[0m\u001b[0mx\u001b[0m\u001b[0;34m)\u001b[0m\u001b[0;34m\u001b[0m\u001b[0;34m\u001b[0m\u001b[0m\n\u001b[0m\u001b[1;32m     32\u001b[0m         \u001b[0mout\u001b[0m \u001b[0;34m=\u001b[0m \u001b[0mself\u001b[0m\u001b[0;34m.\u001b[0m\u001b[0mrelu\u001b[0m\u001b[0;34m(\u001b[0m\u001b[0mout\u001b[0m\u001b[0;34m)\u001b[0m\u001b[0;34m\u001b[0m\u001b[0;34m\u001b[0m\u001b[0m\n\u001b[1;32m     33\u001b[0m         \u001b[0mout\u001b[0m \u001b[0;34m=\u001b[0m \u001b[0mself\u001b[0m\u001b[0;34m.\u001b[0m\u001b[0ml2\u001b[0m\u001b[0;34m(\u001b[0m\u001b[0mout\u001b[0m\u001b[0;34m)\u001b[0m\u001b[0;34m\u001b[0m\u001b[0;34m\u001b[0m\u001b[0m\n",
      "\u001b[0;32m~/.virtualenvs/neuralTube/lib/python3.8/site-packages/torch/nn/modules/module.py\u001b[0m in \u001b[0;36m_call_impl\u001b[0;34m(self, *input, **kwargs)\u001b[0m\n\u001b[1;32m   1049\u001b[0m         if not (self._backward_hooks or self._forward_hooks or self._forward_pre_hooks or _global_backward_hooks\n\u001b[1;32m   1050\u001b[0m                 or _global_forward_hooks or _global_forward_pre_hooks):\n\u001b[0;32m-> 1051\u001b[0;31m             \u001b[0;32mreturn\u001b[0m \u001b[0mforward_call\u001b[0m\u001b[0;34m(\u001b[0m\u001b[0;34m*\u001b[0m\u001b[0minput\u001b[0m\u001b[0;34m,\u001b[0m \u001b[0;34m**\u001b[0m\u001b[0mkwargs\u001b[0m\u001b[0;34m)\u001b[0m\u001b[0;34m\u001b[0m\u001b[0;34m\u001b[0m\u001b[0m\n\u001b[0m\u001b[1;32m   1052\u001b[0m         \u001b[0;31m# Do not call functions when jit is used\u001b[0m\u001b[0;34m\u001b[0m\u001b[0;34m\u001b[0m\u001b[0;34m\u001b[0m\u001b[0m\n\u001b[1;32m   1053\u001b[0m         \u001b[0mfull_backward_hooks\u001b[0m\u001b[0;34m,\u001b[0m \u001b[0mnon_full_backward_hooks\u001b[0m \u001b[0;34m=\u001b[0m \u001b[0;34m[\u001b[0m\u001b[0;34m]\u001b[0m\u001b[0;34m,\u001b[0m \u001b[0;34m[\u001b[0m\u001b[0;34m]\u001b[0m\u001b[0;34m\u001b[0m\u001b[0;34m\u001b[0m\u001b[0m\n",
      "\u001b[0;32m~/.virtualenvs/neuralTube/lib/python3.8/site-packages/torch/nn/modules/linear.py\u001b[0m in \u001b[0;36mforward\u001b[0;34m(self, input)\u001b[0m\n\u001b[1;32m     94\u001b[0m \u001b[0;34m\u001b[0m\u001b[0m\n\u001b[1;32m     95\u001b[0m     \u001b[0;32mdef\u001b[0m \u001b[0mforward\u001b[0m\u001b[0;34m(\u001b[0m\u001b[0mself\u001b[0m\u001b[0;34m,\u001b[0m \u001b[0minput\u001b[0m\u001b[0;34m:\u001b[0m \u001b[0mTensor\u001b[0m\u001b[0;34m)\u001b[0m \u001b[0;34m->\u001b[0m \u001b[0mTensor\u001b[0m\u001b[0;34m:\u001b[0m\u001b[0;34m\u001b[0m\u001b[0;34m\u001b[0m\u001b[0m\n\u001b[0;32m---> 96\u001b[0;31m         \u001b[0;32mreturn\u001b[0m \u001b[0mF\u001b[0m\u001b[0;34m.\u001b[0m\u001b[0mlinear\u001b[0m\u001b[0;34m(\u001b[0m\u001b[0minput\u001b[0m\u001b[0;34m,\u001b[0m \u001b[0mself\u001b[0m\u001b[0;34m.\u001b[0m\u001b[0mweight\u001b[0m\u001b[0;34m,\u001b[0m \u001b[0mself\u001b[0m\u001b[0;34m.\u001b[0m\u001b[0mbias\u001b[0m\u001b[0;34m)\u001b[0m\u001b[0;34m\u001b[0m\u001b[0;34m\u001b[0m\u001b[0m\n\u001b[0m\u001b[1;32m     97\u001b[0m \u001b[0;34m\u001b[0m\u001b[0m\n\u001b[1;32m     98\u001b[0m     \u001b[0;32mdef\u001b[0m \u001b[0mextra_repr\u001b[0m\u001b[0;34m(\u001b[0m\u001b[0mself\u001b[0m\u001b[0;34m)\u001b[0m \u001b[0;34m->\u001b[0m \u001b[0mstr\u001b[0m\u001b[0;34m:\u001b[0m\u001b[0;34m\u001b[0m\u001b[0;34m\u001b[0m\u001b[0m\n",
      "\u001b[0;32m~/.virtualenvs/neuralTube/lib/python3.8/site-packages/torch/nn/functional.py\u001b[0m in \u001b[0;36mlinear\u001b[0;34m(input, weight, bias)\u001b[0m\n\u001b[1;32m   1845\u001b[0m     \u001b[0;32mif\u001b[0m \u001b[0mhas_torch_function_variadic\u001b[0m\u001b[0;34m(\u001b[0m\u001b[0minput\u001b[0m\u001b[0;34m,\u001b[0m \u001b[0mweight\u001b[0m\u001b[0;34m)\u001b[0m\u001b[0;34m:\u001b[0m\u001b[0;34m\u001b[0m\u001b[0;34m\u001b[0m\u001b[0m\n\u001b[1;32m   1846\u001b[0m         \u001b[0;32mreturn\u001b[0m \u001b[0mhandle_torch_function\u001b[0m\u001b[0;34m(\u001b[0m\u001b[0mlinear\u001b[0m\u001b[0;34m,\u001b[0m \u001b[0;34m(\u001b[0m\u001b[0minput\u001b[0m\u001b[0;34m,\u001b[0m \u001b[0mweight\u001b[0m\u001b[0;34m)\u001b[0m\u001b[0;34m,\u001b[0m \u001b[0minput\u001b[0m\u001b[0;34m,\u001b[0m \u001b[0mweight\u001b[0m\u001b[0;34m,\u001b[0m \u001b[0mbias\u001b[0m\u001b[0;34m=\u001b[0m\u001b[0mbias\u001b[0m\u001b[0;34m)\u001b[0m\u001b[0;34m\u001b[0m\u001b[0;34m\u001b[0m\u001b[0m\n\u001b[0;32m-> 1847\u001b[0;31m     \u001b[0;32mreturn\u001b[0m \u001b[0mtorch\u001b[0m\u001b[0;34m.\u001b[0m\u001b[0m_C\u001b[0m\u001b[0;34m.\u001b[0m\u001b[0m_nn\u001b[0m\u001b[0;34m.\u001b[0m\u001b[0mlinear\u001b[0m\u001b[0;34m(\u001b[0m\u001b[0minput\u001b[0m\u001b[0;34m,\u001b[0m \u001b[0mweight\u001b[0m\u001b[0;34m,\u001b[0m \u001b[0mbias\u001b[0m\u001b[0;34m)\u001b[0m\u001b[0;34m\u001b[0m\u001b[0;34m\u001b[0m\u001b[0m\n\u001b[0m\u001b[1;32m   1848\u001b[0m \u001b[0;34m\u001b[0m\u001b[0m\n\u001b[1;32m   1849\u001b[0m \u001b[0;34m\u001b[0m\u001b[0m\n",
      "\u001b[0;31mRuntimeError\u001b[0m: CUDA error: no kernel image is available for execution on the device\nCUDA kernel errors might be asynchronously reported at some other API call,so the stacktrace below might be incorrect.\nFor debugging consider passing CUDA_LAUNCH_BLOCKING=1."
     ]
    }
   ],
   "source": [
    "# Device configuration\n",
    "device = torch.device('cuda' if torch.cuda.is_available() else 'cpu')\n",
    "\n",
    "# Hyper-parameters \n",
    "input_size = 1681 # 41x41\n",
    "hidden_size = 500 \n",
    "output_size = 1\n",
    "num_epochs = 2\n",
    "batch_size = 10\n",
    "learning_rate = 0.01\n",
    "\n",
    "dataset = OrganoidDataset(transform=ToTensor())\n",
    "features, labels = first_data\n",
    "\n",
    "train_loader = DataLoader(dataset=dataset,\n",
    "                          batch_size=10,\n",
    "                          shuffle=True,\n",
    "                          num_workers=2)\n",
    "\n",
    "# Fully connected neural network with one hidden layer\n",
    "class NeuralNet(nn.Module):\n",
    "    def __init__(self, input_size, hidden_size, output_size):\n",
    "        super().__init__()\n",
    "        self.input_size = input_size\n",
    "        self.relu = nn.ReLU()\n",
    "        self.l1 = nn.Linear(input_size, 128)\n",
    "        self.l2 = nn.Linear(128, 64)\n",
    "        self.l3 = nn.Linear(64, output_size)\n",
    "    \n",
    "    def forward(self, x):\n",
    "        out = self.l1(x)\n",
    "        out = self.relu(out)\n",
    "        out = self.l2(out)\n",
    "        out = self.relu(out)\n",
    "        out = self.l3(out)\n",
    "        out = self.relu(out)\n",
    "        return out\n",
    "\n",
    "model = NeuralNet(input_size, hidden_size, output_size).to(device)\n",
    "\n",
    "# Loss and optimizer\n",
    "criterion = nn.MSELoss()\n",
    "optimizer = torch.optim.Adam(model.parameters(), lr=learning_rate)  \n",
    "\n",
    "\n",
    "# Train the model\n",
    "n_total_steps = len(train_loader)\n",
    "for epoch in range(num_epochs):\n",
    "    for i, (images, labels) in enumerate(train_loader):  \n",
    "        \n",
    "        images = images.reshape(-1, 41*41).to(device)\n",
    "        labels = labels.to(device)\n",
    "        \n",
    "        # Forward pass\n",
    "        outputs = model(images)\n",
    "        loss = criterion(outputs, labels)\n",
    "        \n",
    "        # Backward and optimize\n",
    "        optimizer.zero_grad()\n",
    "        loss.backward()\n",
    "        optimizer.step()\n",
    "        \n",
    "        if (i+1) % 100 == 0:\n",
    "            print (f'Epoch [{epoch+1}/{num_epochs}], Step [{i+1}/{n_total_steps}], Loss: {loss.item():.4f}')"
   ]
  },
  {
   "cell_type": "code",
   "execution_count": 374,
   "id": "5494a3fe",
   "metadata": {},
   "outputs": [],
   "source": [
    "import torch"
   ]
  },
  {
   "cell_type": "code",
   "execution_count": null,
   "id": "42f6d155",
   "metadata": {},
   "outputs": [],
   "source": [
    "print(torch)"
   ]
  },
  {
   "cell_type": "code",
   "execution_count": null,
   "id": "c975308d",
   "metadata": {},
   "outputs": [],
   "source": []
  },
  {
   "cell_type": "code",
   "execution_count": null,
   "id": "80ff90b1",
   "metadata": {},
   "outputs": [],
   "source": []
  },
  {
   "cell_type": "code",
   "execution_count": null,
   "id": "4efae810",
   "metadata": {},
   "outputs": [],
   "source": []
  },
  {
   "cell_type": "code",
   "execution_count": null,
   "id": "0c1d7494",
   "metadata": {},
   "outputs": [],
   "source": []
  },
  {
   "cell_type": "code",
   "execution_count": null,
   "id": "fc715f70",
   "metadata": {},
   "outputs": [],
   "source": []
  },
  {
   "cell_type": "code",
   "execution_count": null,
   "id": "1d576650",
   "metadata": {},
   "outputs": [],
   "source": []
  },
  {
   "cell_type": "code",
   "execution_count": null,
   "id": "cb3d777c",
   "metadata": {},
   "outputs": [],
   "source": []
  },
  {
   "cell_type": "code",
   "execution_count": null,
   "id": "346b7b0a",
   "metadata": {},
   "outputs": [],
   "source": []
  },
  {
   "cell_type": "code",
   "execution_count": null,
   "id": "f83a2249",
   "metadata": {},
   "outputs": [],
   "source": []
  },
  {
   "cell_type": "code",
   "execution_count": null,
   "id": "639cea45",
   "metadata": {},
   "outputs": [],
   "source": []
  },
  {
   "cell_type": "code",
   "execution_count": null,
   "id": "056d3c45",
   "metadata": {},
   "outputs": [],
   "source": []
  },
  {
   "cell_type": "code",
   "execution_count": null,
   "id": "a50ef5fc",
   "metadata": {},
   "outputs": [],
   "source": []
  },
  {
   "cell_type": "code",
   "execution_count": null,
   "id": "c755c494",
   "metadata": {},
   "outputs": [],
   "source": []
  },
  {
   "cell_type": "code",
   "execution_count": null,
   "id": "bc57bf15",
   "metadata": {},
   "outputs": [],
   "source": []
  },
  {
   "cell_type": "code",
   "execution_count": 166,
   "id": "9062d10a",
   "metadata": {},
   "outputs": [],
   "source": [
    "# Other"
   ]
  },
  {
   "cell_type": "code",
   "execution_count": 16,
   "id": "f6ef1b96",
   "metadata": {},
   "outputs": [],
   "source": [
    "xR = dfRewards.Centroid_y.values\n",
    "yR = dfRewards.Centroid_x.values\n",
    "xRel = df.xPheno.values\n",
    "yRel = df.yPheno.values\n",
    "\n",
    "coordR = np.array(list(zip(xR, yR)))\n",
    "coordRel = np.array(list(zip(xRel, yRel)))"
   ]
  },
  {
   "cell_type": "code",
   "execution_count": 32,
   "id": "75f532c0",
   "metadata": {},
   "outputs": [
    {
     "data": {
      "text/plain": [
       "(array([22., 37., 30., 47., 45., 28., 44., 40., 30., 27.]),\n",
       " array([ 543. , 1064.5, 1586. , 2107.5, 2629. , 3150.5, 3672. , 4193.5,\n",
       "        4715. , 5236.5, 5758. ]),\n",
       " <BarContainer object of 10 artists>)"
      ]
     },
     "execution_count": 32,
     "metadata": {},
     "output_type": "execute_result"
    },
    {
     "data": {
      "image/png": "[encoded data removed]",
      "text/plain": [
       "<Figure size 432x288 with 1 Axes>"
      ]
     },
     "metadata": {
      "needs_background": "light"
     },
     "output_type": "display_data"
    }
   ],
   "source": [
    "plt.hist(xR)"
   ]
  },
  {
   "cell_type": "code",
   "execution_count": 33,
   "id": "6335c693",
   "metadata": {},
   "outputs": [
    {
     "data": {
      "text/plain": [
       "(array([22., 37., 30., 47., 45., 28., 44., 40., 30., 27.]),\n",
       " array([ 353.965 ,  692.8759, 1031.7868, 1370.6977, 1709.6086, 2048.5195,\n",
       "        2387.4304, 2726.3413, 3065.2522, 3404.1631, 3743.074 ]),\n",
       " <BarContainer object of 10 artists>)"
      ]
     },
     "execution_count": 33,
     "metadata": {},
     "output_type": "execute_result"
    },
    {
     "data": {
      "image/png": "[encoded data removed]",
      "text/plain": [
       "<Figure size 432x288 with 1 Axes>"
      ]
     },
     "metadata": {
      "needs_background": "light"
     },
     "output_type": "display_data"
    }
   ],
   "source": [
    "plt.hist(xRel)"
   ]
  },
  {
   "cell_type": "code",
   "execution_count": 17,
   "id": "46ac62fc",
   "metadata": {},
   "outputs": [
    {
     "data": {
      "text/plain": [
       "(350, 350)"
      ]
     },
     "execution_count": 17,
     "metadata": {},
     "output_type": "execute_result"
    }
   ],
   "source": [
    "len(coordR), len(coordRel)"
   ]
  },
  {
   "cell_type": "code",
   "execution_count": 29,
   "id": "5e24e4d7",
   "metadata": {},
   "outputs": [],
   "source": [
    "ixVec = []\n",
    "N = len(coordRel)\n",
    "for coord in coordR:    \n",
    "    v = np.tile(coord, (350, 1))\n",
    "    diff = v - coordRel\n",
    "    hi = np.absolute(diff)\n",
    "    ixVec.append(np.argmin(hi))\n",
    "    #sumSqDiff = np.sum(diff*diff, axis=1)\n",
    "    #ix = (sumSqDiff)\n",
    "    #ixVec.append(ix)"
   ]
  },
  {
   "cell_type": "code",
   "execution_count": 31,
   "id": "9eb33cdd",
   "metadata": {},
   "outputs": [
    {
     "data": {
      "text/plain": [
       "(183, 350)"
      ]
     },
     "execution_count": 31,
     "metadata": {},
     "output_type": "execute_result"
    }
   ],
   "source": [
    "len(np.unique(ixVec)), len(ixVec)"
   ]
  },
  {
   "cell_type": "code",
   "execution_count": 34,
   "id": "e36f4692",
   "metadata": {},
   "outputs": [
    {
     "data": {
      "text/plain": [
       "[62,\n",
       " 310,\n",
       " 682,\n",
       " 64,\n",
       " 668,\n",
       " 16,\n",
       " 266,\n",
       " 692,\n",
       " 564,\n",
       " 696,\n",
       " 696,\n",
       " 699,\n",
       " 696,\n",
       " 56,\n",
       " 136,\n",
       " 696,\n",
       " 536,\n",
       " 696,\n",
       " 696,\n",
       " 604,\n",
       " 638,\n",
       " 699,\n",
       " 696,\n",
       " 468,\n",
       " 680,\n",
       " 570,\n",
       " 32,\n",
       " 604,\n",
       " 162,\n",
       " 530,\n",
       " 696,\n",
       " 696,\n",
       " 22,\n",
       " 392,\n",
       " 696,\n",
       " 699,\n",
       " 120,\n",
       " 696,\n",
       " 699,\n",
       " 698,\n",
       " 696,\n",
       " 668,\n",
       " 162,\n",
       " 699,\n",
       " 692,\n",
       " 266,\n",
       " 604,\n",
       " 696,\n",
       " 696,\n",
       " 696,\n",
       " 158,\n",
       " 699,\n",
       " 699,\n",
       " 120,\n",
       " 62,\n",
       " 434,\n",
       " 18,\n",
       " 620,\n",
       " 696,\n",
       " 162,\n",
       " 668,\n",
       " 696,\n",
       " 699,\n",
       " 699,\n",
       " 699,\n",
       " 572,\n",
       " 520,\n",
       " 699,\n",
       " 698,\n",
       " 638,\n",
       " 696,\n",
       " 696,\n",
       " 468,\n",
       " 100,\n",
       " 362,\n",
       " 696,\n",
       " 668,\n",
       " 699,\n",
       " 699,\n",
       " 699,\n",
       " 699,\n",
       " 520,\n",
       " 32,\n",
       " 358,\n",
       " 694,\n",
       " 638,\n",
       " 64,\n",
       " 699,\n",
       " 506,\n",
       " 699,\n",
       " 628,\n",
       " 696,\n",
       " 696,\n",
       " 699,\n",
       " 699,\n",
       " 699,\n",
       " 604,\n",
       " 120,\n",
       " 266,\n",
       " 668,\n",
       " 18,\n",
       " 162,\n",
       " 64,\n",
       " 696,\n",
       " 699,\n",
       " 699,\n",
       " 699,\n",
       " 699,\n",
       " 699,\n",
       " 699,\n",
       " 654,\n",
       " 26,\n",
       " 120,\n",
       " 64,\n",
       " 699,\n",
       " 100,\n",
       " 520,\n",
       " 668,\n",
       " 699,\n",
       " 677,\n",
       " 696,\n",
       " 266,\n",
       " 677,\n",
       " 677,\n",
       " 677,\n",
       " 677,\n",
       " 675,\n",
       " 679,\n",
       " 260,\n",
       " 520,\n",
       " 683,\n",
       " 696,\n",
       " 695,\n",
       " 683,\n",
       " 691,\n",
       " 694,\n",
       " 693,\n",
       " 691,\n",
       " 697,\n",
       " 665,\n",
       " 158,\n",
       " 625,\n",
       " 698,\n",
       " 629,\n",
       " 100,\n",
       " 629,\n",
       " 266,\n",
       " 631,\n",
       " 629,\n",
       " 631,\n",
       " 536,\n",
       " 639,\n",
       " 631,\n",
       " 637,\n",
       " 647,\n",
       " 676,\n",
       " 643,\n",
       " 18,\n",
       " 595,\n",
       " 613,\n",
       " 623,\n",
       " 694,\n",
       " 605,\n",
       " 603,\n",
       " 601,\n",
       " 617,\n",
       " 617,\n",
       " 621,\n",
       " 422,\n",
       " 589,\n",
       " 591,\n",
       " 541,\n",
       " 567,\n",
       " 539,\n",
       " 428,\n",
       " 474,\n",
       " 551,\n",
       " 553,\n",
       " 592,\n",
       " 266,\n",
       " 561,\n",
       " 78,\n",
       " 561,\n",
       " 563,\n",
       " 563,\n",
       " 565,\n",
       " 565,\n",
       " 654,\n",
       " 520,\n",
       " 94,\n",
       " 88,\n",
       " 513,\n",
       " 164,\n",
       " 513,\n",
       " 513,\n",
       " 513,\n",
       " 668,\n",
       " 519,\n",
       " 517,\n",
       " 525,\n",
       " 453,\n",
       " 505,\n",
       " 509,\n",
       " 451,\n",
       " 94,\n",
       " 180,\n",
       " 457,\n",
       " 457,\n",
       " 457,\n",
       " 457,\n",
       " 457,\n",
       " 694,\n",
       " 696,\n",
       " 463,\n",
       " 463,\n",
       " 465,\n",
       " 477,\n",
       " 682,\n",
       " 84,\n",
       " 455,\n",
       " 427,\n",
       " 94,\n",
       " 427,\n",
       " 18,\n",
       " 443,\n",
       " 443,\n",
       " 447,\n",
       " 395,\n",
       " 447,\n",
       " 447,\n",
       " 592,\n",
       " 395,\n",
       " 419,\n",
       " 375,\n",
       " 373,\n",
       " 386,\n",
       " 381,\n",
       " 383,\n",
       " 381,\n",
       " 250,\n",
       " 391,\n",
       " 592,\n",
       " 391,\n",
       " 393,\n",
       " 393,\n",
       " 393,\n",
       " 393,\n",
       " 148,\n",
       " 335,\n",
       " 335,\n",
       " 422,\n",
       " 464,\n",
       " 335,\n",
       " 94,\n",
       " 337,\n",
       " 500,\n",
       " 339,\n",
       " 343,\n",
       " 357,\n",
       " 349,\n",
       " 333,\n",
       " 333,\n",
       " 359,\n",
       " 309,\n",
       " 269,\n",
       " 269,\n",
       " 28,\n",
       " 269,\n",
       " 271,\n",
       " 380,\n",
       " 277,\n",
       " 275,\n",
       " 279,\n",
       " 291,\n",
       " 293,\n",
       " 279,\n",
       " 299,\n",
       " 283,\n",
       " 297,\n",
       " 273,\n",
       " 249,\n",
       " 253,\n",
       " 251,\n",
       " 253,\n",
       " 520,\n",
       " 263,\n",
       " 688,\n",
       " 267,\n",
       " 257,\n",
       " 261,\n",
       " 267,\n",
       " 267,\n",
       " 267,\n",
       " 142,\n",
       " 207,\n",
       " 205,\n",
       " 179,\n",
       " 348,\n",
       " 191,\n",
       " 624,\n",
       " 173,\n",
       " 195,\n",
       " 199,\n",
       " 197,\n",
       " 199,\n",
       " 203,\n",
       " 199,\n",
       " 203,\n",
       " 532,\n",
       " 203,\n",
       " 203,\n",
       " 250,\n",
       " 660,\n",
       " 143,\n",
       " 552,\n",
       " 141,\n",
       " 165,\n",
       " 169,\n",
       " 165,\n",
       " 169,\n",
       " 161,\n",
       " 127,\n",
       " 109,\n",
       " 458,\n",
       " 127,\n",
       " 127,\n",
       " 85,\n",
       " 83,\n",
       " 83,\n",
       " 89,\n",
       " 122,\n",
       " 103,\n",
       " 558,\n",
       " 97,\n",
       " 105,\n",
       " 53,\n",
       " 105,\n",
       " 53,\n",
       " 622,\n",
       " 572,\n",
       " 470,\n",
       " 166,\n",
       " 154,\n",
       " 35,\n",
       " 660,\n",
       " 27,\n",
       " 100,\n",
       " 27,\n",
       " 27,\n",
       " 35]"
      ]
     },
     "execution_count": 34,
     "metadata": {},
     "output_type": "execute_result"
    }
   ],
   "source": [
    "ixVec"
   ]
  },
  {
   "cell_type": "code",
   "execution_count": null,
   "id": "a0403b06",
   "metadata": {},
   "outputs": [],
   "source": []
  },
  {
   "cell_type": "markdown",
   "id": "fa119c9e",
   "metadata": {},
   "source": [
    "### Developmental Excess"
   ]
  },
  {
   "cell_type": "code",
   "execution_count": null,
   "id": "8ba05db8",
   "metadata": {},
   "outputs": [],
   "source": [
    "# swap coordinates between groups\n",
    "def swap(str1, int1, str2, int2):\n",
    "    patternDict[str1][int1], patternDict[str2][int2] = patternDict[str2][int2], patternDict[str1][int1]\n",
    "# move coordinate to a group\n",
    "def move(str1, int1, str2):\n",
    "    popEl = patternDict[str1].pop(int1)\n",
    "    patternDict[str2].append(popEl)\n",
    "    patternDict[str2] = sorted(patternDict[str2], key = lambda x: x[0])\n",
    "    "
   ]
  },
  {
   "cell_type": "code",
   "execution_count": null,
   "id": "3f3d392f",
   "metadata": {},
   "outputs": [],
   "source": []
  },
  {
   "cell_type": "code",
   "execution_count": 4,
   "id": "d384ea47",
   "metadata": {},
   "outputs": [
    {
     "name": "stdout",
     "output_type": "stream",
     "text": [
      "221 177\n",
      "204 174\n",
      "177\n",
      "174\n"
     ]
    },
    {
     "data": {
      "image/png": "[encoded data removed]",
      "text/plain": [
       "<Figure size 432x288 with 1 Axes>"
      ]
     },
     "metadata": {
      "needs_background": "light"
     },
     "output_type": "display_data"
    },
    {
     "data": {
      "image/png": "[encoded data removed]",
      "text/plain": [
       "<Figure size 432x288 with 1 Axes>"
      ]
     },
     "metadata": {
      "needs_background": "light"
     },
     "output_type": "display_data"
    },
    {
     "data": {
      "image/png": "[encoded data removed]",
      "text/plain": [
       "<Figure size 432x288 with 1 Axes>"
      ]
     },
     "metadata": {
      "needs_background": "light"
     },
     "output_type": "display_data"
    }
   ],
   "source": [
    "\n",
    "# RANDOM ARRAY\n",
    "# each pixel is 200 x 200 micron (150 x 150 micron square with 25 µm padding)\n",
    "# overall patterning area is 8000 x 8000 micron (40 x 40 pixels)\n",
    "# 1/16 of pixels (100/1600 pixels) are filled on average\n",
    "\n",
    "np.random.seed(3) # set random seed for reproducibility\n",
    "f = 1/16\n",
    "a = np.random.rand(40,40) \n",
    "b = np.where(a < f, 1, 0) # binary image\n",
    "plt.figure()\n",
    "plt.imshow(b, plt.cm.gray)\n",
    "\n",
    "# generate full array, where each pixel is now 1 x 1 micron\n",
    "res_lo = np.argwhere(b == 1)\n",
    "res = res_lo*200+25\n",
    "im = np.zeros((8000, 8000))\n",
    "for k in range(res.shape[0]):\n",
    "    y, x = res[k][0], res[k][1]\n",
    "    im[y:y+150,x:x+150] = 1\n",
    "plt.figure()\n",
    "plt.imshow(im, plt.cm.gray)\n",
    "plt.show()"
   ]
  },
  {
   "cell_type": "code",
   "execution_count": 13,
   "id": "1b739c15",
   "metadata": {},
   "outputs": [
    {
     "data": {
      "image/png": "[encoded data removed]",
      "text/plain": [
       "<Figure size 432x288 with 1 Axes>"
      ]
     },
     "metadata": {
      "needs_background": "light"
     },
     "output_type": "display_data"
    }
   ],
   "source": [
    "x = [1,2,3,1,2,3,1,2,3,3,4,5]\n",
    "y = [2,2,2,4,4,4,6,6,6,8,8,8]\n",
    "c_ = ['b', 'b', 'b', 'g','g', 'g','r', 'r','r','b', 'b', 'b']\n",
    "\n",
    "for i, (x,y) in enumerate(zip(x,y)):\n",
    "        an = plt.scatter(x,y,c=c_[i],picker=5)\n"
   ]
  },
  {
   "cell_type": "code",
   "execution_count": null,
   "id": "71e50272",
   "metadata": {},
   "outputs": [],
   "source": [
    "colorArrs = np.load('colorArrs.npz')\n",
    "fs = hi.files\n",
    "orig = colorArrs[fs[0]]\n",
    "mod = colorArrs[fs[1]]\n",
    "np.sum([orig[i] == mod[i] for i in range(len(orig))])"
   ]
  },
  {
   "cell_type": "markdown",
   "id": "d999f0c3",
   "metadata": {},
   "source": [
    "1294.898 3878.795\n",
    "Color mod options: magenta/green/blue/yellow/red\n",
    "Enter value m/g/b/y/r: m\n",
    "Current Color is r.\n",
    "New Color is m.\n",
    "Figures 2 has been closed.\n",
    "Figures 1 has been closed.\n",
    "349\n",
    "m"
   ]
  },
  {
   "cell_type": "code",
   "execution_count": null,
   "id": "75c474f0",
   "metadata": {},
   "outputs": [],
   "source": []
  },
  {
   "cell_type": "markdown",
   "id": "56e80c2d",
   "metadata": {},
   "source": [
    "# Preparing Input Coordinates for Matching Algorithm (DEPRECATED)"
   ]
  },
  {
   "cell_type": "markdown",
   "id": "602bf407",
   "metadata": {},
   "source": [
    "ASSUMPTIONS: \n",
    "- Design and Phenotype Images have already been segmented\n",
    "- The centroids of segments have already been computed "
   ]
  },
  {
   "cell_type": "markdown",
   "id": "7ede2281",
   "metadata": {},
   "source": [
    "### Phenotype coordinates"
   ]
  },
  {
   "cell_type": "code",
   "execution_count": 2,
   "id": "cefbe201",
   "metadata": {},
   "outputs": [
    {
     "data": {
      "text/plain": [
       "(350, 7)"
      ]
     },
     "execution_count": 2,
     "metadata": {},
     "output_type": "execute_result"
    }
   ],
   "source": [
    "df = pd.read_csv(\"BMS-tile-ROI-centroids.csv\")\n",
    "df.shape"
   ]
  },
  {
   "cell_type": "code",
   "execution_count": 3,
   "id": "28b17ba9",
   "metadata": {},
   "outputs": [
    {
     "data": {
      "text/plain": [
       "array([[2993.604,  353.666],\n",
       "       [2616.486,  362.567],\n",
       "       [2191.657,  374.522],\n",
       "       [1801.586,  398.023],\n",
       "       [1388.121,  410.17 ]])"
      ]
     },
     "execution_count": 3,
     "metadata": {},
     "output_type": "execute_result"
    }
   ],
   "source": [
    "phenoCoords = np.array(list(zip(df.XM, df.YM)))\n",
    "phenoCoords[:5]"
   ]
  },
  {
   "cell_type": "code",
   "execution_count": 4,
   "id": "27b108bd",
   "metadata": {},
   "outputs": [
    {
     "data": {
      "text/plain": [
       "<matplotlib.collections.PathCollection at 0x7f675e7cf550>"
      ]
     },
     "execution_count": 4,
     "metadata": {},
     "output_type": "execute_result"
    },
    {
     "data": {
      "image/png": "[encoded data removed]",
      "text/plain": [
       "<Figure size 432x288 with 1 Axes>"
      ]
     },
     "metadata": {
      "needs_background": "light"
     },
     "output_type": "display_data"
    }
   ],
   "source": [
    "plt.gca().invert_yaxis()\n",
    "plt.scatter(phenoCoords[:,0],phenoCoords[:,1])"
   ]
  },
  {
   "cell_type": "code",
   "execution_count": 5,
   "id": "389a89e5",
   "metadata": {},
   "outputs": [],
   "source": [
    "dfRewards = pd.read_csv(\"exported_metrics.cvs\")"
   ]
  },
  {
   "cell_type": "code",
   "execution_count": 37,
   "id": "ee1164e7",
   "metadata": {},
   "outputs": [],
   "source": [
    "np.save('heitorCentroids', np.array(list(zip(dfRewards.Centroid_y, dfRewards.Centroid_x))))"
   ]
  },
  {
   "cell_type": "code",
   "execution_count": 39,
   "id": "897f5d9b",
   "metadata": {},
   "outputs": [],
   "source": [
    "hi = np.load('heitorCentroids.npy')"
   ]
  },
  {
   "cell_type": "code",
   "execution_count": 41,
   "id": "446b4d0d",
   "metadata": {},
   "outputs": [],
   "source": [
    "pattInit = np.load(\"centroidsInitCorrected.npy\")"
   ]
  },
  {
   "cell_type": "code",
   "execution_count": 44,
   "id": "80a25e74",
   "metadata": {},
   "outputs": [
    {
     "data": {
      "text/plain": [
       "350"
      ]
     },
     "execution_count": 44,
     "metadata": {},
     "output_type": "execute_result"
    }
   ],
   "source": [
    "len(hi)"
   ]
  },
  {
   "cell_type": "code",
   "execution_count": 43,
   "id": "17b17b78",
   "metadata": {},
   "outputs": [
    {
     "data": {
      "text/plain": [
       "350"
      ]
     },
     "execution_count": 43,
     "metadata": {},
     "output_type": "execute_result"
    }
   ],
   "source": [
    "len(pattInit)"
   ]
  },
  {
   "cell_type": "code",
   "execution_count": 6,
   "id": "5a555e0a",
   "metadata": {
    "scrolled": false
   },
   "outputs": [
    {
     "data": {
      "text/html": [
       "<div>\n",
       "<style scoped>\n",
       "    .dataframe tbody tr th:only-of-type {\n",
       "        vertical-align: middle;\n",
       "    }\n",
       "\n",
       "    .dataframe tbody tr th {\n",
       "        vertical-align: top;\n",
       "    }\n",
       "\n",
       "    .dataframe thead th {\n",
       "        text-align: right;\n",
       "    }\n",
       "</style>\n",
       "<table border=\"1\" class=\"dataframe\">\n",
       "  <thead>\n",
       "    <tr style=\"text-align: right;\">\n",
       "      <th></th>\n",
       "      <th>Dipole</th>\n",
       "      <th>Elongation</th>\n",
       "      <th>Aspect_Ratio</th>\n",
       "      <th>Centroid_x</th>\n",
       "      <th>Centroid_y</th>\n",
       "    </tr>\n",
       "  </thead>\n",
       "  <tbody>\n",
       "    <tr>\n",
       "      <th>0</th>\n",
       "      <td>0.951783</td>\n",
       "      <td>137.0</td>\n",
       "      <td>0.637681</td>\n",
       "      <td>5985</td>\n",
       "      <td>1971</td>\n",
       "    </tr>\n",
       "    <tr>\n",
       "      <th>1</th>\n",
       "      <td>0.950630</td>\n",
       "      <td>222.0</td>\n",
       "      <td>0.369176</td>\n",
       "      <td>5790</td>\n",
       "      <td>1609</td>\n",
       "    </tr>\n",
       "    <tr>\n",
       "      <th>2</th>\n",
       "      <td>0.877684</td>\n",
       "      <td>300.0</td>\n",
       "      <td>0.409836</td>\n",
       "      <td>5821</td>\n",
       "      <td>1886</td>\n",
       "    </tr>\n",
       "    <tr>\n",
       "      <th>3</th>\n",
       "      <td>0.843055</td>\n",
       "      <td>298.0</td>\n",
       "      <td>0.344729</td>\n",
       "      <td>5769</td>\n",
       "      <td>2206</td>\n",
       "    </tr>\n",
       "    <tr>\n",
       "      <th>4</th>\n",
       "      <td>0.858235</td>\n",
       "      <td>263.0</td>\n",
       "      <td>0.429032</td>\n",
       "      <td>5747</td>\n",
       "      <td>3140</td>\n",
       "    </tr>\n",
       "  </tbody>\n",
       "</table>\n",
       "</div>"
      ],
      "text/plain": [
       "     Dipole  Elongation  Aspect_Ratio  Centroid_x  Centroid_y\n",
       "0  0.951783       137.0      0.637681        5985        1971\n",
       "1  0.950630       222.0      0.369176        5790        1609\n",
       "2  0.877684       300.0      0.409836        5821        1886\n",
       "3  0.843055       298.0      0.344729        5769        2206\n",
       "4  0.858235       263.0      0.429032        5747        3140"
      ]
     },
     "execution_count": 6,
     "metadata": {},
     "output_type": "execute_result"
    }
   ],
   "source": [
    "dfRewards.head()"
   ]
  },
  {
   "cell_type": "code",
   "execution_count": 7,
   "id": "36877c11",
   "metadata": {},
   "outputs": [
    {
     "data": {
      "text/plain": [
       "(array([22., 37., 30., 47., 45., 28., 44., 40., 30., 27.]),\n",
       " array([ 543. , 1064.5, 1586. , 2107.5, 2629. , 3150.5, 3672. , 4193.5,\n",
       "        4715. , 5236.5, 5758. ]),\n",
       " <BarContainer object of 10 artists>)"
      ]
     },
     "execution_count": 7,
     "metadata": {},
     "output_type": "execute_result"
    },
    {
     "data": {
      "image/png": "[encoded data removed]",
      "text/plain": [
       "<Figure size 432x288 with 1 Axes>"
      ]
     },
     "metadata": {
      "needs_background": "light"
     },
     "output_type": "display_data"
    }
   ],
   "source": [
    "plt.hist(dfRewards.Centroid_y.values)"
   ]
  },
  {
   "cell_type": "code",
   "execution_count": 8,
   "id": "e7c0187d",
   "metadata": {},
   "outputs": [
    {
     "data": {
      "text/plain": [
       "(array([22., 37., 30., 47., 45., 28., 44., 40., 30., 27.]),\n",
       " array([ 353.965 ,  692.8759, 1031.7868, 1370.6977, 1709.6086, 2048.5195,\n",
       "        2387.4304, 2726.3413, 3065.2522, 3404.1631, 3743.074 ]),\n",
       " <BarContainer object of 10 artists>)"
      ]
     },
     "execution_count": 8,
     "metadata": {},
     "output_type": "execute_result"
    },
    {
     "data": {
      "image/png": "[encoded data removed]",
      "text/plain": [
       "<Figure size 432x288 with 1 Axes>"
      ]
     },
     "metadata": {
      "needs_background": "light"
     },
     "output_type": "display_data"
    }
   ],
   "source": [
    "plt.hist(df.XM.values)"
   ]
  },
  {
   "cell_type": "code",
   "execution_count": null,
   "id": "ee894621",
   "metadata": {},
   "outputs": [],
   "source": []
  },
  {
   "cell_type": "code",
   "execution_count": null,
   "id": "a4748376",
   "metadata": {},
   "outputs": [],
   "source": []
  },
  {
   "cell_type": "markdown",
   "id": "889331ac",
   "metadata": {},
   "source": [
    "### CAD Coordinates"
   ]
  },
  {
   "cell_type": "code",
   "execution_count": 19,
   "id": "7d7b9c30",
   "metadata": {},
   "outputs": [
    {
     "data": {
      "image/png": "[encoded data removed]",
      "text/plain": [
       "<Figure size 1152x1152 with 1 Axes>"
      ]
     },
     "metadata": {
      "needs_background": "light"
     },
     "output_type": "display_data"
    }
   ],
   "source": [
    "# PAIRED ARRAY GENERATION\n",
    "\n",
    "b1 = np.ones((13,17))\n",
    "b2 = np.ones((12,17))\n",
    "res1_lo = np.argwhere(b1 == 1)\n",
    "res2_lo = np.argwhere(b2 == 1)\n",
    "res1_empty = np.array(\n",
    "    [0,1,2,15,16,17,\n",
    "     17*2-1,17*3-1,17*4-1,17*5-1,17*6-1,\n",
    "     17*6,17*7-1,17*7,17*7+2,17*8-1,\n",
    "     17*8,17*8+1,17*9,17*9+1,17*9+11,\n",
    "     17*10,17*10+1,17*11,17*11+1,17*11+7,17*11+9,\n",
    "     17*12-1,17*12,17*12+1,17*12+2,17*12+3,17*12+5,\n",
    "     17*12+6,17*12+7,17*12+8,17*12+9,17*12+10,17*12+11,\n",
    "     17*12+12,17*12+13,17*12+14,17*12+15,17*12+16])\n",
    "res2_empty = np.array(\n",
    "    [0,1,14,15,16,17,\n",
    "     17*2-1,17*3-1,17*4-1,17*5-1,17*6-1,\n",
    "     17*6,17*6+4,17*7-1,17*7,17*8-1,\n",
    "     17*8,17*8+1,17*8+2,17*9,17*9+1,17*9+2,\n",
    "     17*10,17*10+1,17*10+5,17*11-1,17*11,17*11+1,\n",
    "     17*11+2,17*11+14,17*11+15])\n",
    "\n",
    "res1_lo = np.delete(res1_lo, res1_empty, axis=0)\n",
    "res2_lo = np.delete(res2_lo, res2_empty, axis=0)\n",
    "\n",
    "res1 = np.array([np.array([yi*850, xi*600])+500 for yi, xi in res1_lo])\n",
    "res2 = np.array([np.array([yi*850, xi*600])+500 for yi, xi in res2_lo])\n",
    "centroids = []\n",
    "\n",
    "im = np.zeros((12000, 12000))\n",
    "for k in range(res1.shape[0]):\n",
    "    y, x = res1[k][0], res1[k][1]\n",
    "    im[y:y+200,x:x+200] = 255\n",
    "    centroids.append((x+100, y+100))\n",
    "    #im[y+90:y+100, x+90:x+100] = 0\n",
    "for k in range(res2.shape[0]):\n",
    "    y, x = res2[k][0], res2[k][1]\n",
    "    im[y+250:y+450,x:x+200] = 255\n",
    "    #im[y+340:y+350, x+90:x+100] = 0\n",
    "    centroids.append((x+100, y+350))\n",
    "\n",
    "plt.figure(figsize=(16,16))\n",
    "plt.imshow(im, plt.cm.gray)\n",
    "plt.show()\n",
    "\n"
   ]
  },
  {
   "cell_type": "code",
   "execution_count": 20,
   "id": "e75b3f5b",
   "metadata": {},
   "outputs": [
    {
     "data": {
      "text/plain": [
       "array([[0., 0., 0., ..., 0., 0., 0.],\n",
       "       [0., 0., 0., ..., 0., 0., 0.],\n",
       "       [0., 0., 0., ..., 0., 0., 0.],\n",
       "       ...,\n",
       "       [0., 0., 0., ..., 0., 0., 0.],\n",
       "       [0., 0., 0., ..., 0., 0., 0.],\n",
       "       [0., 0., 0., ..., 0., 0., 0.]])"
      ]
     },
     "execution_count": 20,
     "metadata": {},
     "output_type": "execute_result"
    }
   ],
   "source": [
    "im"
   ]
  },
  {
   "cell_type": "code",
   "execution_count": null,
   "id": "05b857ce",
   "metadata": {},
   "outputs": [],
   "source": [
    "# Find Canny edges\n",
    "edged = cv2.Canny(im.astype(np.uint8), 30, 200)\n",
    "\n",
    "contours, hierarchy = cv2.findContours(edged, cv2.RETR_EXTERNAL, cv2.CHAIN_APPROX_NONE)\n",
    "len(contours)"
   ]
  },
  {
   "cell_type": "code",
   "execution_count": 6,
   "id": "0a39cc49",
   "metadata": {},
   "outputs": [
    {
     "data": {
      "text/plain": [
       "array([[ 2999, 10799],\n",
       "       [10199, 10199],\n",
       "       [ 8399, 10199],\n",
       "       [ 7799, 10199],\n",
       "       [ 7199, 10199]])"
      ]
     },
     "execution_count": 6,
     "metadata": {},
     "output_type": "execute_result"
    }
   ],
   "source": [
    "CADcoords = []\n",
    "\n",
    "for cnt in contours:\n",
    "    M = cv2.moments(cnt)\n",
    "    cX = int(M[\"m10\"] / M[\"m00\"])\n",
    "    cY = int(M[\"m01\"] / M[\"m00\"])\n",
    "    CADcoords.append((cX, cY))\n",
    "    \n",
    "CADcoords = np.array(CADcoords)\n",
    "CADcoords[:5]"
   ]
  },
  {
   "cell_type": "code",
   "execution_count": 143,
   "id": "b757f227",
   "metadata": {},
   "outputs": [],
   "source": [
    "centroids = np.array(centroids)"
   ]
  },
  {
   "cell_type": "code",
   "execution_count": 154,
   "id": "a15e7960",
   "metadata": {},
   "outputs": [],
   "source": [
    "np.save('centroidsInitCorrected', centroids)"
   ]
  },
  {
   "cell_type": "code",
   "execution_count": 146,
   "id": "309c1689",
   "metadata": {},
   "outputs": [
    {
     "data": {
      "text/plain": [
       "<matplotlib.collections.PathCollection at 0x7f6f9de18c40>"
      ]
     },
     "execution_count": 146,
     "metadata": {},
     "output_type": "execute_result"
    },
    {
     "data": {
      "image/png": "[encoded data removed]",
      "text/plain": [
       "<Figure size 432x288 with 1 Axes>"
      ]
     },
     "metadata": {
      "needs_background": "light"
     },
     "output_type": "display_data"
    }
   ],
   "source": [
    "plt.scatter(centroids[:,0], centroids[:,1])"
   ]
  },
  {
   "cell_type": "code",
   "execution_count": 7,
   "id": "ff92ee87",
   "metadata": {},
   "outputs": [
    {
     "data": {
      "text/plain": [
       "<matplotlib.collections.PathCollection at 0x7f6f335f8280>"
      ]
     },
     "execution_count": 7,
     "metadata": {},
     "output_type": "execute_result"
    },
    {
     "data": {
      "image/png": "[encoded data removed]",
      "text/plain": [
       "<Figure size 432x288 with 1 Axes>"
      ]
     },
     "metadata": {
      "needs_background": "light"
     },
     "output_type": "display_data"
    }
   ],
   "source": [
    "plt.gca().invert_yaxis()\n",
    "plt.scatter(CADcoords[:,0], CADcoords[:,1])"
   ]
  },
  {
   "cell_type": "code",
   "execution_count": 8,
   "id": "1fc45e80",
   "metadata": {},
   "outputs": [
    {
     "data": {
      "text/plain": [
       "((350, 2), (350, 2))"
      ]
     },
     "execution_count": 8,
     "metadata": {},
     "output_type": "execute_result"
    }
   ],
   "source": [
    "CADcoords.shape, phenoCoords.shape"
   ]
  },
  {
   "cell_type": "code",
   "execution_count": null,
   "id": "b6ae2c7f",
   "metadata": {},
   "outputs": [],
   "source": []
  },
  {
   "cell_type": "markdown",
   "id": "68cfd445",
   "metadata": {},
   "source": [
    "# Grouping Algorithm ((DEPRECATED)"
   ]
  },
  {
   "cell_type": "code",
   "execution_count": 13,
   "id": "9243016d",
   "metadata": {},
   "outputs": [],
   "source": [
    "def grouping(coordsTrue, coordsPheno, plot=False):\n",
    "    \n",
    "    orgNumsYaxisAscending = NumOrgs(coordsTrue)\n",
    "    \n",
    "    # outputs dictionary of color keys and associated coordinates\n",
    "    groupsTrue = groupOrgs(coordsTrue, orgNumsYaxisAscending, showPlot = plot)\n",
    "    groupsPheno = groupOrgs(coordsPheno, orgNumsYaxisAscending, showPlot = plot)\n",
    "    \n",
    "    # returns array of coordinates and list of colors\n",
    "    return ColorDict2Arr(groupsTrue), ColorDict2Arr(groupsPheno)\n",
    "\n",
    "def ColorDict2Arr(colsDict):\n",
    "    keys = list(colsDict.keys())\n",
    "\n",
    "    coordList = []\n",
    "    colList = []\n",
    "    for key in keys:\n",
    "        col = re.sub(r'[0-9]+', '', key)\n",
    "        colList.extend([col for _ in range(len(colsDict[key]))])\n",
    "        coordList.append(np.array(colsDict[key]))\n",
    "\n",
    "    return np.vstack(coordList), colList\n",
    "\n",
    "def NumOrgs(designCoords):\n",
    "    # get counts of organoids wrt y axis values\n",
    "    OrgsCnts = Counter(designCoords[:,1])\n",
    "    # sort y axis keys in ascending order\n",
    "    OrgsCntsSorted = sorted(OrgsCnts.items())\n",
    "    # return sorted counts\n",
    "    return np.array(OrgsCntsSorted)[:,1]\n",
    "\n",
    "def groupOrgs(coords, cnts, showPlot = False):\n",
    "    # sort y coordinates in ascending order \n",
    "    coordsYsort = sorted(coords, key = lambda x: x[1])\n",
    "\n",
    "    # make dictionary for grouping organoids\n",
    "    patternDict = {}\n",
    "    colors_used = [0,0,0,0,0,0]\n",
    "\n",
    "    # Colors used for plot and grouping organoids\n",
    "    colors = ['magenta','green', 'brown', 'blue','orange', 'red']\n",
    "    \n",
    "    if showPlot:\n",
    "        plt.figure(figsize=(8,8))\n",
    "\n",
    "    num_col = len(colors)\n",
    "    start = 0\n",
    "    # loop through y axis layers, plot groups and save in dictionary\n",
    "    for ix, num in enumerate(cnts):\n",
    "        col_ix = ix % num_col\n",
    "        vals = np.array(coordsYsort[start:start+num])\n",
    "        valsXsort = sorted(vals, key = lambda x: x[0])\n",
    "        currColor = colors[col_ix]\n",
    "\n",
    "        # if color not in dictionary, add color\n",
    "        # else denote its index e.g. blue3\n",
    "        if currColor not in patternDict:\n",
    "            patternDict[currColor] = valsXsort\n",
    "        else:\n",
    "            key_num = colors_used[col_ix]\n",
    "            newKey_num = key_num + 1\n",
    "            key_name = currColor + str(newKey_num)\n",
    "            patternDict[key_name] = valsXsort\n",
    "            colors_used[col_ix] = newKey_num\n",
    "\n",
    "        if showPlot:\n",
    "            plt.scatter(np.array(vals)[:,0], np.array(vals)[:,1], c = currColor)\n",
    "        \n",
    "        start = start+num\n",
    "    \n",
    "    if showPlot:\n",
    "        # flip y axis for plotting purposes\n",
    "        plt.gca().invert_yaxis()\n",
    "        plt.show()\n",
    "    \n",
    "    return patternDict"
   ]
  },
  {
   "cell_type": "code",
   "execution_count": 14,
   "id": "4efde851",
   "metadata": {},
   "outputs": [],
   "source": [
    "cadColors, phenoColors = grouping(CADcoords, phenoCoords)"
   ]
  },
  {
   "cell_type": "markdown",
   "id": "56f0cf04",
   "metadata": {},
   "source": [
    "# Matching Algorithm (DEPRECATED)"
   ]
  },
  {
   "cell_type": "markdown",
   "id": "49f90901",
   "metadata": {},
   "source": [
    "### Input Formatting for Matching"
   ]
  },
  {
   "cell_type": "code",
   "execution_count": 17,
   "id": "7033072d",
   "metadata": {},
   "outputs": [],
   "source": [
    "egClicks = [(1290.89, 3878.795), (1286.881, 3878.795), (1286.881, 3889.166), (1294.898, 3863.238)]"
   ]
  },
  {
   "cell_type": "code",
   "execution_count": 25,
   "id": "967a23d8",
   "metadata": {},
   "outputs": [],
   "source": [
    "clickTile = np.tile(np.array(egClicks[0]), (phenoColors[0].shape[0],1))"
   ]
  },
  {
   "cell_type": "code",
   "execution_count": 35,
   "id": "8c7fe06d",
   "metadata": {},
   "outputs": [
    {
     "data": {
      "text/plain": [
       "112621.319281"
      ]
     },
     "execution_count": 35,
     "metadata": {},
     "output_type": "execute_result"
    }
   ],
   "source": [
    "335.591**2"
   ]
  },
  {
   "cell_type": "code",
   "execution_count": 34,
   "id": "e3031428",
   "metadata": {},
   "outputs": [
    {
     "data": {
      "text/plain": [
       "array([[  335.591,  3459.281],\n",
       "       [  106.704,  3475.161],\n",
       "       [  -97.231,  3468.625],\n",
       "       [ -301.935,  3463.222],\n",
       "       [ -510.696,  3480.772],\n",
       "       [ -689.553,  3491.939],\n",
       "       [ -900.767,  3504.273],\n",
       "       [-1089.245,  3493.168],\n",
       "       [-1325.596,  3516.228],\n",
       "       [-1528.383,  3510.476],\n",
       "       [-1702.714,  3525.129],\n",
       "       [-1904.134,  3524.375],\n",
       "       [  543.632,  3385.723],\n",
       "       [  315.244,  3322.759],\n",
       "       [  113.395,  3351.963],\n",
       "       [ -104.309,  3331.196],\n",
       "       [ -306.645,  3349.71 ],\n",
       "       [ -478.362,  3336.507],\n",
       "       [ -703.358,  3360.005],\n",
       "       [ -948.426,  3369.35 ],\n",
       "       [-1129.055,  3391.968],\n",
       "       [-1329.742,  3377.762],\n",
       "       [-1549.636,  3357.856],\n",
       "       [-1676.023,  3381.472],\n",
       "       [  708.571,  3167.757],\n",
       "       [  506.865,  3183.904],\n",
       "       [  309.187,  3127.115],\n",
       "       [   99.988,  3119.493],\n",
       "       [  -96.459,  3117.85 ],\n",
       "       [ -296.749,  3145.545],\n",
       "       [ -521.942,  3180.682],\n",
       "       [ -683.897,  3175.78 ],\n",
       "       [ -913.865,  3157.595],\n",
       "       [-1121.973,  3178.179],\n",
       "       [-1302.299,  3175.518],\n",
       "       [-1544.343,  3222.266],\n",
       "       [-1707.342,  3228.262],\n",
       "       [-1935.046,  3229.137],\n",
       "       [-2164.999,  3227.791],\n",
       "       [  748.048,  3050.93 ],\n",
       "       [  526.15 ,  3031.607],\n",
       "       [  300.532,  3042.323],\n",
       "       [   80.186,  3024.246],\n",
       "       [  -99.412,  3025.517],\n",
       "       [ -286.509,  3068.075],\n",
       "       [ -507.102,  3061.858],\n",
       "       [ -704.419,  3095.486],\n",
       "       [ -887.538,  3088.485],\n",
       "       [-1078.925,  3095.841],\n",
       "       [-1317.   ,  3072.256],\n",
       "       [-1515.415,  3073.125],\n",
       "       [-1736.695,  3076.384],\n",
       "       [-1936.405,  3112.652],\n",
       "       [-2160.48 ,  3099.949],\n",
       "       [  907.779,  2869.577],\n",
       "       [  682.876,  2855.549],\n",
       "       [  527.335,  2858.401],\n",
       "       [  292.322,  2843.659],\n",
       "       [   86.262,  2857.05 ],\n",
       "       [ -106.151,  2891.593],\n",
       "       [ -285.08 ,  2875.556],\n",
       "       [ -516.607,  2860.167],\n",
       "       [ -712.128,  2890.641],\n",
       "       [ -899.541,  2876.024],\n",
       "       [-1121.779,  2897.602],\n",
       "       [-1318.388,  2899.842],\n",
       "       [-1540.105,  2903.098],\n",
       "       [-1737.107,  2895.143],\n",
       "       [-1953.03 ,  2939.865],\n",
       "       [-2162.825,  2957.828],\n",
       "       [  925.776,  2768.785],\n",
       "       [  701.377,  2743.529],\n",
       "       [  522.495,  2759.563],\n",
       "       [  301.006,  2746.067],\n",
       "       [   91.285,  2761.371],\n",
       "       [ -118.011,  2777.228],\n",
       "       [ -290.765,  2773.584],\n",
       "       [ -528.619,  2774.372],\n",
       "       [ -726.746,  2787.526],\n",
       "       [ -901.92 ,  2788.17 ],\n",
       "       [-1092.823,  2792.614],\n",
       "       [-1299.773,  2810.532],\n",
       "       [-1531.433,  2798.552],\n",
       "       [-1752.633,  2816.306],\n",
       "       [-1929.202,  2802.392],\n",
       "       [-2185.198,  2787.861],\n",
       "       [  883.462,  2578.563],\n",
       "       [  720.626,  2578.345],\n",
       "       [  509.076,  2554.806],\n",
       "       [  295.654,  2574.607],\n",
       "       [  105.247,  2579.952],\n",
       "       [ -124.95 ,  2584.513],\n",
       "       [ -335.92 ,  2601.205],\n",
       "       [ -525.015,  2584.54 ],\n",
       "       [ -714.166,  2585.864],\n",
       "       [ -921.978,  2597.742],\n",
       "       [-1142.16 ,  2617.388],\n",
       "       [-1321.792,  2632.042],\n",
       "       [-1555.854,  2621.128],\n",
       "       [-1713.819,  2639.564],\n",
       "       [-1918.518,  2634.376],\n",
       "       [-2167.739,  2659.709],\n",
       "       [  922.245,  2479.037],\n",
       "       [  680.819,  2446.269],\n",
       "       [  472.154,  2482.296],\n",
       "       [  295.499,  2494.013],\n",
       "       [   99.799,  2497.189],\n",
       "       [ -131.016,  2505.314],\n",
       "       [ -297.67 ,  2496.452],\n",
       "       [ -510.353,  2495.091],\n",
       "       [ -701.638,  2492.675],\n",
       "       [ -925.657,  2523.479],\n",
       "       [-1119.451,  2509.249],\n",
       "       [-1334.448,  2503.414],\n",
       "       [-1542.349,  2537.212],\n",
       "       [-1720.3  ,  2524.544],\n",
       "       [-1980.069,  2551.071],\n",
       "       [-2179.395,  2546.023],\n",
       "       [  923.205,  2282.767],\n",
       "       [  683.386,  2264.051],\n",
       "       [  503.022,  2275.51 ],\n",
       "       [  269.218,  2277.484],\n",
       "       [   64.086,  2274.86 ],\n",
       "       [ -127.468,  2283.652],\n",
       "       [ -351.805,  2289.548],\n",
       "       [ -541.432,  2303.165],\n",
       "       [ -733.451,  2314.073],\n",
       "       [ -924.204,  2316.278],\n",
       "       [-1123.163,  2359.165],\n",
       "       [-1339.112,  2357.998],\n",
       "       [-1543.222,  2360.479],\n",
       "       [-1732.718,  2336.804],\n",
       "       [-1946.377,  2352.083],\n",
       "       [-2154.334,  2369.557],\n",
       "       [  896.183,  2160.49 ],\n",
       "       [  699.961,  2172.599],\n",
       "       [  517.358,  2196.774],\n",
       "       [  280.05 ,  2179.801],\n",
       "       [   73.31 ,  2188.669],\n",
       "       [ -117.993,  2202.142],\n",
       "       [ -323.239,  2202.901],\n",
       "       [ -525.298,  2219.129],\n",
       "       [ -730.155,  2217.251],\n",
       "       [ -942.097,  2213.749],\n",
       "       [-1142.032,  2226.649],\n",
       "       [-1335.901,  2217.811],\n",
       "       [-1567.32 ,  2212.58 ],\n",
       "       [-1749.844,  2230.294],\n",
       "       [-1940.036,  2242.336],\n",
       "       [-2179.987,  2233.114],\n",
       "       [  686.77 ,  1982.592],\n",
       "       [  474.575,  2000.297],\n",
       "       [  265.606,  2011.215],\n",
       "       [   84.872,  2003.892],\n",
       "       [ -117.816,  2005.32 ],\n",
       "       [ -318.699,  1996.502],\n",
       "       [ -542.903,  2027.921],\n",
       "       [ -737.569,  2038.99 ],\n",
       "       [ -934.896,  2036.374],\n",
       "       [-1123.761,  2025.189],\n",
       "       [-1327.815,  2028.416],\n",
       "       [-1555.459,  2061.285],\n",
       "       [-1746.152,  2036.625],\n",
       "       [-1939.251,  2055.41 ],\n",
       "       [-1948.252,  1980.363],\n",
       "       [-2167.015,  2073.761],\n",
       "       [  936.925,  1963.996],\n",
       "       [  885.353,  1877.254],\n",
       "       [  684.769,  1887.518],\n",
       "       [  471.842,  1908.861],\n",
       "       [  242.97 ,  1918.693],\n",
       "       [   64.383,  1911.192],\n",
       "       [ -112.423,  1905.497],\n",
       "       [ -323.067,  1924.203],\n",
       "       [ -571.619,  1941.678],\n",
       "       [ -733.346,  1937.118],\n",
       "       [ -949.585,  1955.801],\n",
       "       [-1119.536,  1955.476],\n",
       "       [-1318.815,  1940.024],\n",
       "       [-1566.183,  1973.308],\n",
       "       [-1730.857,  1961.887],\n",
       "       [-2189.429,  1960.206],\n",
       "       [  675.289,  1705.608],\n",
       "       [  491.577,  1717.19 ],\n",
       "       [  257.57 ,  1701.108],\n",
       "       [ -112.342,  1725.289],\n",
       "       [ -320.011,  1735.154],\n",
       "       [ -538.881,  1725.292],\n",
       "       [ -732.516,  1737.983],\n",
       "       [ -947.218,  1743.607],\n",
       "       [-1140.451,  1750.245],\n",
       "       [-1363.23 ,  1752.095],\n",
       "       [-1535.657,  1757.741],\n",
       "       [-1768.319,  1767.982],\n",
       "       [-1973.765,  1692.089],\n",
       "       [-1974.817,  1767.224],\n",
       "       [-2200.296,  1789.927],\n",
       "       [  682.996,  1570.903],\n",
       "       [  457.389,  1624.992],\n",
       "       [  277.17 ,  1625.761],\n",
       "       [   68.076,  1680.368],\n",
       "       [ -135.654,  1604.082],\n",
       "       [ -351.108,  1643.361],\n",
       "       [ -533.411,  1648.792],\n",
       "       [ -743.943,  1653.155],\n",
       "       [ -950.844,  1664.135],\n",
       "       [-1134.67 ,  1669.603],\n",
       "       [-1360.096,  1665.288],\n",
       "       [-1537.043,  1672.141],\n",
       "       [-1776.341,  1675.751],\n",
       "       [-2192.255,  1651.581],\n",
       "       [  670.104,  1484.022],\n",
       "       [   83.461,  1448.383],\n",
       "       [ -127.263,  1433.366],\n",
       "       [ -320.568,  1442.557],\n",
       "       [ -551.819,  1447.861],\n",
       "       [ -730.783,  1465.942],\n",
       "       [ -961.748,  1461.598],\n",
       "       [-1143.293,  1462.041],\n",
       "       [-1347.372,  1463.586],\n",
       "       [-1551.251,  1463.453],\n",
       "       [-1762.867,  1475.562],\n",
       "       [-1949.787,  1493.402],\n",
       "       [-2177.704,  1514.132],\n",
       "       [-2269.903,  1421.861],\n",
       "       [  656.551,  1282.283],\n",
       "       [  471.212,  1270.408],\n",
       "       [  288.073,  1415.537],\n",
       "       [  285.258,  1319.762],\n",
       "       [   86.939,  1359.495],\n",
       "       [ -144.495,  1358.516],\n",
       "       [ -323.262,  1355.46 ],\n",
       "       [ -529.347,  1363.727],\n",
       "       [ -739.633,  1368.097],\n",
       "       [ -937.826,  1378.745],\n",
       "       [-1153.03 ,  1383.887],\n",
       "       [-1337.933,  1382.817],\n",
       "       [-1570.209,  1389.228],\n",
       "       [-1766.034,  1393.63 ],\n",
       "       [-1972.359,  1405.576],\n",
       "       [  278.797,  1159.813],\n",
       "       [   55.702,  1147.193],\n",
       "       [ -141.481,  1175.911],\n",
       "       [ -359.937,  1168.813],\n",
       "       [ -541.921,  1158.967],\n",
       "       [ -736.153,  1168.38 ],\n",
       "       [ -946.707,  1163.177],\n",
       "       [-1154.825,  1189.551],\n",
       "       [-1354.227,  1202.803],\n",
       "       [-1570.01 ,  1213.666],\n",
       "       [-1792.584,  1195.348],\n",
       "       [-1973.33 ,  1212.273],\n",
       "       [-2182.588,  1230.514],\n",
       "       [-2217.548,  1130.527],\n",
       "       [-2394.438,  1257.973],\n",
       "       [  479.763,  1108.02 ],\n",
       "       [  253.432,  1028.985],\n",
       "       [   84.852,  1020.777],\n",
       "       [ -143.426,  1080.021],\n",
       "       [ -328.624,  1075.397],\n",
       "       [ -565.094,  1076.335],\n",
       "       [ -726.328,  1073.084],\n",
       "       [ -992.323,  1102.308],\n",
       "       [-1158.086,  1113.282],\n",
       "       [-1372.317,  1114.526],\n",
       "       [-1582.973,  1096.29 ],\n",
       "       [-1778.487,  1107.565],\n",
       "       [-1957.915,  1111.348],\n",
       "       [-2443.704,  1110.837],\n",
       "       [  449.776,   876.167],\n",
       "       [   78.384,   853.506],\n",
       "       [ -159.477,   880.8  ],\n",
       "       [ -345.   ,   877.442],\n",
       "       [ -536.591,   886.767],\n",
       "       [ -750.419,   916.261],\n",
       "       [ -971.597,   894.625],\n",
       "       [-1150.398,   895.633],\n",
       "       [-1369.505,   861.712],\n",
       "       [-1534.322,   884.858],\n",
       "       [-1777.686,   917.441],\n",
       "       [-1981.278,   931.078],\n",
       "       [-2182.895,   943.979],\n",
       "       [-2428.352,   975.235],\n",
       "       [  307.639,   846.706],\n",
       "       [  279.298,   704.702],\n",
       "       [   18.912,   757.839],\n",
       "       [ -172.087,   784.486],\n",
       "       [ -378.246,   806.378],\n",
       "       [ -542.368,   800.543],\n",
       "       [ -756.918,   802.101],\n",
       "       [-1003.459,   803.304],\n",
       "       [-1156.625,   802.485],\n",
       "       [-1586.488,   822.143],\n",
       "       [-1757.834,   810.614],\n",
       "       [-1997.864,   814.434],\n",
       "       [-2211.609,   843.896],\n",
       "       [-2414.834,   790.159],\n",
       "       [  440.964,   575.29 ],\n",
       "       [  268.228,   549.487],\n",
       "       [   40.721,   605.791],\n",
       "       [ -136.506,   619.369],\n",
       "       [ -388.014,   609.277],\n",
       "       [ -598.865,   607.137],\n",
       "       [ -755.934,   601.584],\n",
       "       [ -948.589,   604.48 ],\n",
       "       [-1158.163,   626.859],\n",
       "       [-1365.347,   578.643],\n",
       "       [-1535.871,   638.768],\n",
       "       [-1787.106,   629.903],\n",
       "       [-2006.317,   639.449],\n",
       "       [-2235.183,   646.821],\n",
       "       [-2389.678,   597.129],\n",
       "       [  468.934,   417.921],\n",
       "       [  250.1  ,   459.035],\n",
       "       [   49.09 ,   457.817],\n",
       "       [ -366.991,   487.331],\n",
       "       [ -574.59 ,   507.229],\n",
       "       [ -773.85 ,   509.923],\n",
       "       [ -978.726,   517.218],\n",
       "       [-1160.081,   497.978],\n",
       "       [-1392.521,   511.723],\n",
       "       [-1592.474,   537.579],\n",
       "       [-1781.781,   527.391],\n",
       "       [-1977.555,   530.955],\n",
       "       [-2215.213,   517.578],\n",
       "       [  422.458,   260.016],\n",
       "       [  169.353,   389.357],\n",
       "       [   39.891,   327.765],\n",
       "       [ -160.791,   333.653],\n",
       "       [ -335.517,   334.711],\n",
       "       [ -819.831,   286.747],\n",
       "       [-1131.856,   308.968],\n",
       "       [-1434.135,   327.961],\n",
       "       [-1543.273,   324.569],\n",
       "       [-1834.371,   301.849],\n",
       "       [-2018.031,   325.935],\n",
       "       [-2243.021,   286.37 ],\n",
       "       [  244.41 ,   118.862],\n",
       "       [   63.775,    96.141],\n",
       "       [ -143.485,   136.299],\n",
       "       [ -409.488,   157.487],\n",
       "       [ -597.812,   164.29 ],\n",
       "       [ -751.562,   142.29 ],\n",
       "       [ -934.436,   155.383],\n",
       "       [-1129.146,   151.062],\n",
       "       [-1405.416,   196.773],\n",
       "       [-1609.475,   191.998],\n",
       "       [-1817.798,   160.011],\n",
       "       [-2452.184,   249.47 ],\n",
       "       [    8.342,   -10.527]])"
      ]
     },
     "execution_count": 34,
     "metadata": {},
     "output_type": "execute_result"
    }
   ],
   "source": [
    "(clickTile - phenoColors[0])"
   ]
  },
  {
   "cell_type": "code",
   "execution_count": 33,
   "id": "6e228514",
   "metadata": {},
   "outputs": [
    {
     "data": {
      "text/plain": [
       "array([[1.12621319e+05, 1.19666250e+07],\n",
       "       [1.13857436e+04, 1.20767440e+07],\n",
       "       [9.45386736e+03, 1.20313594e+07],\n",
       "       [9.11647442e+04, 1.19939066e+07],\n",
       "       [2.60810404e+05, 1.21157737e+07],\n",
       "       [4.75483340e+05, 1.21936380e+07],\n",
       "       [8.11381188e+05, 1.22799293e+07],\n",
       "       [1.18645467e+06, 1.22022227e+07],\n",
       "       [1.75720476e+06, 1.23638593e+07],\n",
       "       [2.33595459e+06, 1.23234417e+07],\n",
       "       [2.89923497e+06, 1.24265345e+07],\n",
       "       [3.62572629e+06, 1.24212191e+07],\n",
       "       [2.95535751e+05, 1.14631202e+07],\n",
       "       [9.93787795e+04, 1.10407274e+07],\n",
       "       [1.28584260e+04, 1.12356560e+07],\n",
       "       [1.08803675e+04, 1.10968668e+07],\n",
       "       [9.40311560e+04, 1.12205571e+07],\n",
       "       [2.28830203e+05, 1.11322790e+07],\n",
       "       [4.94712476e+05, 1.12896336e+07],\n",
       "       [8.99511877e+05, 1.13525194e+07],\n",
       "       [1.27476519e+06, 1.15054469e+07],\n",
       "       [1.76821379e+06, 1.14092761e+07],\n",
       "       [2.40137173e+06, 1.12751969e+07],\n",
       "       [2.80905310e+06, 1.14343529e+07],\n",
       "       [5.02072862e+05, 1.00346844e+07],\n",
       "       [2.56912128e+05, 1.01372447e+07],\n",
       "       [9.55966010e+04, 9.77884822e+06],\n",
       "       [9.99760014e+03, 9.73123658e+06],\n",
       "       [9.30433868e+03, 9.72098862e+06],\n",
       "       [8.80599690e+04, 9.89445335e+06],\n",
       "       [2.72423451e+05, 1.01167380e+07],\n",
       "       [4.67715107e+05, 1.00855786e+07],\n",
       "       [8.35149238e+05, 9.97040618e+06],\n",
       "       [1.25882341e+06, 1.01008218e+07],\n",
       "       [1.69598269e+06, 1.00839146e+07],\n",
       "       [2.38499530e+06, 1.03829982e+07],\n",
       "       [2.91501670e+06, 1.04216755e+07],\n",
       "       [3.74440302e+06, 1.04273258e+07],\n",
       "       [4.68722067e+06, 1.04186347e+07],\n",
       "       [5.59575810e+05, 9.30817386e+06],\n",
       "       [2.76833823e+05, 9.19064100e+06],\n",
       "       [9.03194830e+04, 9.25572924e+06],\n",
       "       [6.42979460e+03, 9.14606387e+06],\n",
       "       [9.88274574e+03, 9.15375312e+06],\n",
       "       [8.20874071e+04, 9.41308421e+06],\n",
       "       [2.57152438e+05, 9.37497441e+06],\n",
       "       [4.96206128e+05, 9.58203358e+06],\n",
       "       [7.87723701e+05, 9.53873960e+06],\n",
       "       [1.16407916e+06, 9.58423150e+06],\n",
       "       [1.73448900e+06, 9.43875693e+06],\n",
       "       [2.29648262e+06, 9.44409727e+06],\n",
       "       [3.01610952e+06, 9.46413852e+06],\n",
       "       [3.74966432e+06, 9.68860247e+06],\n",
       "       [4.66767383e+06, 9.60968380e+06],\n",
       "       [8.24062713e+05, 8.23447216e+06],\n",
       "       [4.66319631e+05, 8.15416009e+06],\n",
       "       [2.78082202e+05, 8.17045628e+06],\n",
       "       [8.54521517e+04, 8.08639651e+06],\n",
       "       [7.44113264e+03, 8.16273470e+06],\n",
       "       [1.12680348e+04, 8.36131008e+06],\n",
       "       [8.12706064e+04, 8.26882231e+06],\n",
       "       [2.66882792e+05, 8.18055527e+06],\n",
       "       [5.07126288e+05, 8.35580539e+06],\n",
       "       [8.09174011e+05, 8.27151405e+06],\n",
       "       [1.25838812e+06, 8.39609735e+06],\n",
       "       [1.73814692e+06, 8.40908362e+06],\n",
       "       [2.37192341e+06, 8.42797800e+06],\n",
       "       [3.01754073e+06, 8.38185299e+06],\n",
       "       [3.81432618e+06, 8.64280622e+06],\n",
       "       [4.67781198e+06, 8.74874648e+06],\n",
       "       [8.57061202e+05, 7.66617038e+06],\n",
       "       [4.91929696e+05, 7.52695137e+06],\n",
       "       [2.73001025e+05, 7.61518795e+06],\n",
       "       [9.06046120e+04, 7.54088397e+06],\n",
       "       [8.33295123e+03, 7.62516980e+06],\n",
       "       [1.39265961e+04, 7.71299536e+06],\n",
       "       [8.45442852e+04, 7.69276821e+06],\n",
       "       [2.79438047e+05, 7.69713999e+06],\n",
       "       [5.28159749e+05, 7.77030120e+06],\n",
       "       [8.13459686e+05, 7.77389195e+06],\n",
       "       [1.19426211e+06, 7.79869295e+06],\n",
       "       [1.68940985e+06, 7.89909012e+06],\n",
       "       [2.34528703e+06, 7.83189330e+06],\n",
       "       [3.07172243e+06, 7.93157949e+06],\n",
       "       [3.72182036e+06, 7.85340092e+06],\n",
       "       [4.77509030e+06, 7.77216896e+06],\n",
       "       [7.80505105e+05, 6.64898714e+06],\n",
       "       [5.19301832e+05, 6.64786294e+06],\n",
       "       [2.59158374e+05, 6.52703370e+06],\n",
       "       [8.74112877e+04, 6.62860120e+06],\n",
       "       [1.10769310e+04, 6.65615232e+06],\n",
       "       [1.56125025e+04, 6.67970745e+06],\n",
       "       [1.12842246e+05, 6.76626745e+06],\n",
       "       [2.75640750e+05, 6.67984701e+06],\n",
       "       [5.10033076e+05, 6.68669263e+06],\n",
       "       [8.50043432e+05, 6.74826350e+06],\n",
       "       [1.30452947e+06, 6.85071994e+06],\n",
       "       [1.74713409e+06, 6.92764509e+06],\n",
       "       [2.42068167e+06, 6.87031199e+06],\n",
       "       [2.93717556e+06, 6.96729811e+06],\n",
       "       [3.68071132e+06, 6.93993691e+06],\n",
       "       [4.69909237e+06, 7.07405196e+06],\n",
       "       [8.50535840e+05, 6.14562445e+06],\n",
       "       [4.63514511e+05, 5.98423202e+06],\n",
       "       [2.22929400e+05, 6.16179343e+06],\n",
       "       [8.73196590e+04, 6.22010084e+06],\n",
       "       [9.95984040e+03, 6.23595290e+06],\n",
       "       [1.71651923e+04, 6.27659824e+06],\n",
       "       [8.86074289e+04, 6.23227259e+06],\n",
       "       [2.60460185e+05, 6.22547910e+06],\n",
       "       [4.92295883e+05, 6.21342866e+06],\n",
       "       [8.56840882e+05, 6.36794626e+06],\n",
       "       [1.25317054e+06, 6.29633054e+06],\n",
       "       [1.78075146e+06, 6.26708166e+06],\n",
       "       [2.37884044e+06, 6.43744473e+06],\n",
       "       [2.95943209e+06, 6.37332241e+06],\n",
       "       [3.92067324e+06, 6.50796325e+06],\n",
       "       [4.74976257e+06, 6.48223312e+06],\n",
       "       [8.52307472e+05, 5.21102518e+06],\n",
       "       [4.67016425e+05, 5.12592693e+06],\n",
       "       [2.53031132e+05, 5.17794576e+06],\n",
       "       [7.24783315e+04, 5.18693337e+06],\n",
       "       [4.10701540e+03, 5.17498802e+06],\n",
       "       [1.62480910e+04, 5.21506646e+06],\n",
       "       [1.23766758e+05, 5.24203004e+06],\n",
       "       [2.93148611e+05, 5.30456902e+06],\n",
       "       [5.37950369e+05, 5.35493385e+06],\n",
       "       [8.54153034e+05, 5.36514377e+06],\n",
       "       [1.26149512e+06, 5.56565950e+06],\n",
       "       [1.79322095e+06, 5.56015457e+06],\n",
       "       [2.38153414e+06, 5.57186111e+06],\n",
       "       [3.00231167e+06, 5.46065293e+06],\n",
       "       [3.78838343e+06, 5.53229444e+06],\n",
       "       [4.64115498e+06, 5.61480038e+06],\n",
       "       [8.03143969e+05, 4.66771704e+06],\n",
       "       [4.89945402e+05, 4.72018641e+06],\n",
       "       [2.67659300e+05, 4.82581601e+06],\n",
       "       [7.84280025e+04, 4.75153240e+06],\n",
       "       [5.37435610e+03, 4.79027199e+06],\n",
       "       [1.39223480e+04, 4.84942939e+06],\n",
       "       [1.04483451e+05, 4.85277282e+06],\n",
       "       [2.75937989e+05, 4.92453352e+06],\n",
       "       [5.33126324e+05, 4.91620200e+06],\n",
       "       [8.87546757e+05, 4.90068464e+06],\n",
       "       [1.30423709e+06, 4.95796577e+06],\n",
       "       [1.78463148e+06, 4.91868563e+06],\n",
       "       [2.45649198e+06, 4.89551026e+06],\n",
       "       [3.06195402e+06, 4.97421133e+06],\n",
       "       [3.76373968e+06, 5.02807074e+06],\n",
       "       [4.75234332e+06, 4.98679814e+06],\n",
       "       [4.71653033e+05, 3.93067104e+06],\n",
       "       [2.25221431e+05, 4.00118809e+06],\n",
       "       [7.05465472e+04, 4.04498578e+06],\n",
       "       [7.20325638e+03, 4.01558315e+06],\n",
       "       [1.38806099e+04, 4.02130830e+06],\n",
       "       [1.01569053e+05, 3.98602024e+06],\n",
       "       [2.94743667e+05, 4.11246358e+06],\n",
       "       [5.44008030e+05, 4.15748022e+06],\n",
       "       [8.74030531e+05, 4.14681907e+06],\n",
       "       [1.26283879e+06, 4.10139049e+06],\n",
       "       [1.76309267e+06, 4.11447147e+06],\n",
       "       [2.41945270e+06, 4.24889585e+06],\n",
       "       [3.04904681e+06, 4.14784139e+06],\n",
       "       [3.76069444e+06, 4.22471027e+06],\n",
       "       [3.79568586e+06, 3.92183761e+06],\n",
       "       [4.69595401e+06, 4.30048469e+06],\n",
       "       [8.77828456e+05, 3.85728029e+06],\n",
       "       [7.83849935e+05, 3.52408258e+06],\n",
       "       [4.68908583e+05, 3.56272420e+06],\n",
       "       [2.22634873e+05, 3.64375032e+06],\n",
       "       [5.90344209e+04, 3.68138283e+06],\n",
       "       [4.14517069e+03, 3.65265486e+06],\n",
       "       [1.26389309e+04, 3.63091882e+06],\n",
       "       [1.04372286e+05, 3.70255719e+06],\n",
       "       [3.26748281e+05, 3.77011346e+06],\n",
       "       [5.37796356e+05, 3.75242615e+06],\n",
       "       [9.01711672e+05, 3.82515755e+06],\n",
       "       [1.25336086e+06, 3.82388639e+06],\n",
       "       [1.73927300e+06, 3.76369312e+06],\n",
       "       [2.45292919e+06, 3.89394446e+06],\n",
       "       [2.99586595e+06, 3.84900060e+06],\n",
       "       [4.79359935e+06, 3.84240756e+06],\n",
       "       [4.56015234e+05, 2.90909865e+06],\n",
       "       [2.41647947e+05, 2.94874150e+06],\n",
       "       [6.63423049e+04, 2.89376843e+06],\n",
       "       [1.26207250e+04, 2.97662213e+06],\n",
       "       [1.02407040e+05, 3.01075940e+06],\n",
       "       [2.90392732e+05, 2.97663249e+06],\n",
       "       [5.36579690e+05, 3.02058491e+06],\n",
       "       [8.97221940e+05, 3.04016537e+06],\n",
       "       [1.30062848e+06, 3.06335756e+06],\n",
       "       [1.85839603e+06, 3.06983689e+06],\n",
       "       [2.35824242e+06, 3.08965342e+06],\n",
       "       [3.12695209e+06, 3.12576035e+06],\n",
       "       [3.89574828e+06, 2.86316518e+06],\n",
       "       [3.89990218e+06, 3.12308067e+06],\n",
       "       [4.84130249e+06, 3.20383867e+06],\n",
       "       [4.66483536e+05, 2.46773624e+06],\n",
       "       [2.09204697e+05, 2.64059900e+06],\n",
       "       [7.68232089e+04, 2.64309883e+06],\n",
       "       [4.63434178e+03, 2.82363662e+06],\n",
       "       [1.84020077e+04, 2.57307906e+06],\n",
       "       [1.23276828e+05, 2.70063538e+06],\n",
       "       [2.84527295e+05, 2.71851506e+06],\n",
       "       [5.53451187e+05, 2.73292145e+06],\n",
       "       [9.04104312e+05, 2.76934530e+06],\n",
       "       [1.28747601e+06, 2.78757418e+06],\n",
       "       [1.84986113e+06, 2.77318412e+06],\n",
       "       [2.36250118e+06, 2.79605552e+06],\n",
       "       [3.15538735e+06, 2.80814141e+06],\n",
       "       [4.80598199e+06, 2.72771980e+06],\n",
       "       [4.49039371e+05, 2.20232130e+06],\n",
       "       [6.96573852e+03, 2.09781331e+06],\n",
       "       [1.61958712e+04, 2.05453809e+06],\n",
       "       [1.02763843e+05, 2.08097070e+06],\n",
       "       [3.04504209e+05, 2.09630148e+06],\n",
       "       [5.34043793e+05, 2.14898595e+06],\n",
       "       [9.24959216e+05, 2.13626871e+06],\n",
       "       [1.30711888e+06, 2.13756389e+06],\n",
       "       [1.81541131e+06, 2.14208398e+06],\n",
       "       [2.40637967e+06, 2.14169468e+06],\n",
       "       [3.10770006e+06, 2.17728322e+06],\n",
       "       [3.80166935e+06, 2.23024953e+06],\n",
       "       [4.74239471e+06, 2.29259571e+06],\n",
       "       [5.15245963e+06, 2.02168870e+06],\n",
       "       [4.31059216e+05, 1.64424969e+06],\n",
       "       [2.22040749e+05, 1.61393649e+06],\n",
       "       [8.29860533e+04, 2.00374500e+06],\n",
       "       [8.13721266e+04, 1.74177174e+06],\n",
       "       [7.55838972e+03, 1.84822666e+06],\n",
       "       [2.08788050e+04, 1.84556572e+06],\n",
       "       [1.04498321e+05, 1.83727181e+06],\n",
       "       [2.80208246e+05, 1.85975133e+06],\n",
       "       [5.47056975e+05, 1.87168940e+06],\n",
       "       [8.79517606e+05, 1.90093778e+06],\n",
       "       [1.32947818e+06, 1.91514323e+06],\n",
       "       [1.79006471e+06, 1.91218286e+06],\n",
       "       [2.46555630e+06, 1.92995444e+06],\n",
       "       [3.11887609e+06, 1.94220458e+06],\n",
       "       [3.89020002e+06, 1.97564389e+06],\n",
       "       [7.77277672e+04, 1.34516619e+06],\n",
       "       [3.10271280e+03, 1.31605178e+06],\n",
       "       [2.00168734e+04, 1.38276668e+06],\n",
       "       [1.29554644e+05, 1.36612383e+06],\n",
       "       [2.93678370e+05, 1.34320451e+06],\n",
       "       [5.41921239e+05, 1.36511182e+06],\n",
       "       [8.96254144e+05, 1.35298073e+06],\n",
       "       [1.33362078e+06, 1.41503158e+06],\n",
       "       [1.83393077e+06, 1.44673506e+06],\n",
       "       [2.46493140e+06, 1.47298516e+06],\n",
       "       [3.21335740e+06, 1.42885684e+06],\n",
       "       [3.89403129e+06, 1.46960583e+06],\n",
       "       [4.76369038e+06, 1.51416470e+06],\n",
       "       [4.91751913e+06, 1.27809130e+06],\n",
       "       [5.73333334e+06, 1.58249607e+06],\n",
       "       [2.30172536e+05, 1.22770832e+06],\n",
       "       [6.42277786e+04, 1.05881013e+06],\n",
       "       [7.19986190e+03, 1.04198568e+06],\n",
       "       [2.05710175e+04, 1.16644536e+06],\n",
       "       [1.07993733e+05, 1.15647871e+06],\n",
       "       [3.19331229e+05, 1.15849703e+06],\n",
       "       [5.27552364e+05, 1.15150927e+06],\n",
       "       [9.84704936e+05, 1.21508293e+06],\n",
       "       [1.34116318e+06, 1.23939681e+06],\n",
       "       [1.88325395e+06, 1.24216820e+06],\n",
       "       [2.50580352e+06, 1.20185176e+06],\n",
       "       [3.16301601e+06, 1.22670023e+06],\n",
       "       [3.83343115e+06, 1.23509438e+06],\n",
       "       [5.97168924e+06, 1.23395884e+06],\n",
       "       [2.02298450e+05, 7.67668612e+05],\n",
       "       [6.14405146e+03, 7.28472492e+05],\n",
       "       [2.54329135e+04, 7.75808640e+05],\n",
       "       [1.19025000e+05, 7.69904463e+05],\n",
       "       [2.87929901e+05, 7.86355712e+05],\n",
       "       [5.63128676e+05, 8.39534220e+05],\n",
       "       [9.44000730e+05, 8.00353891e+05],\n",
       "       [1.32341556e+06, 8.02158471e+05],\n",
       "       [1.87554395e+06, 7.42547571e+05],\n",
       "       [2.35414400e+06, 7.82973680e+05],\n",
       "       [3.16016751e+06, 8.41697988e+05],\n",
       "       [3.92546251e+06, 8.66906242e+05],\n",
       "       [4.76503058e+06, 8.91096352e+05],\n",
       "       [5.89689344e+06, 9.51083305e+05],\n",
       "       [9.46417543e+04, 7.16911050e+05],\n",
       "       [7.80073728e+04, 4.96604909e+05],\n",
       "       [3.57663744e+02, 5.74319950e+05],\n",
       "       [2.96139356e+04, 6.15418284e+05],\n",
       "       [1.43070037e+05, 6.50245479e+05],\n",
       "       [2.94163047e+05, 6.40869095e+05],\n",
       "       [5.72924859e+05, 6.43366014e+05],\n",
       "       [1.00692996e+06, 6.45297316e+05],\n",
       "       [1.33778139e+06, 6.43982175e+05],\n",
       "       [2.51694417e+06, 6.75919112e+05],\n",
       "       [3.08998037e+06, 6.57095057e+05],\n",
       "       [3.99146056e+06, 6.63302740e+05],\n",
       "       [4.89121437e+06, 7.12160459e+05],\n",
       "       [5.83142325e+06, 6.24351245e+05],\n",
       "       [1.94449249e+05, 3.30958584e+05],\n",
       "       [7.19462600e+04, 3.01935963e+05],\n",
       "       [1.65819984e+03, 3.66982736e+05],\n",
       "       [1.86338880e+04, 3.83617958e+05],\n",
       "       [1.50554864e+05, 3.71218463e+05],\n",
       "       [3.58639288e+05, 3.68615337e+05],\n",
       "       [5.71436212e+05, 3.61903309e+05],\n",
       "       [8.99821091e+05, 3.65396070e+05],\n",
       "       [1.34134153e+06, 3.92952206e+05],\n",
       "       [1.86417243e+06, 3.34827721e+05],\n",
       "       [2.35889973e+06, 4.08024558e+05],\n",
       "       [3.19374786e+06, 3.96777789e+05],\n",
       "       [4.02530790e+06, 4.08895024e+05],\n",
       "       [4.99604304e+06, 4.18377406e+05],\n",
       "       [5.71056094e+06, 3.56563043e+05],\n",
       "       [2.19899096e+05, 1.74657962e+05],\n",
       "       [6.25500100e+04, 2.10713131e+05],\n",
       "       [2.40982810e+03, 2.09596405e+05],\n",
       "       [1.34682394e+05, 2.37491504e+05],\n",
       "       [3.30153668e+05, 2.57281258e+05],\n",
       "       [5.98843822e+05, 2.60021466e+05],\n",
       "       [9.57904583e+05, 2.67514460e+05],\n",
       "       [1.34578793e+06, 2.47982088e+05],\n",
       "       [1.93911474e+06, 2.61860429e+05],\n",
       "       [2.53597344e+06, 2.88991181e+05],\n",
       "       [3.17474353e+06, 2.78141267e+05],\n",
       "       [3.91072378e+06, 2.81913212e+05],\n",
       "       [4.90716864e+06, 2.67886986e+05],\n",
       "       [1.78470762e+05, 6.76083203e+04],\n",
       "       [2.86804386e+04, 1.51598873e+05],\n",
       "       [1.59129188e+03, 1.07429895e+05],\n",
       "       [2.58537457e+04, 1.11324324e+05],\n",
       "       [1.12571657e+05, 1.12031454e+05],\n",
       "       [6.72122869e+05, 8.22238420e+04],\n",
       "       [1.28109800e+06, 9.54612250e+04],\n",
       "       [2.05674320e+06, 1.07558418e+05],\n",
       "       [2.38169155e+06, 1.05345036e+05],\n",
       "       [3.36491697e+06, 9.11128188e+04],\n",
       "       [4.07244912e+06, 1.06233624e+05],\n",
       "       [5.03114321e+06, 8.20077769e+04],\n",
       "       [5.97362481e+04, 1.41281750e+04],\n",
       "       [4.06725063e+03, 9.24309188e+03],\n",
       "       [2.05879452e+04, 1.85774174e+04],\n",
       "       [1.67680422e+05, 2.48021552e+04],\n",
       "       [3.57379187e+05, 2.69912041e+04],\n",
       "       [5.64845440e+05, 2.02464441e+04],\n",
       "       [8.73170638e+05, 2.41438767e+04],\n",
       "       [1.27497069e+06, 2.28197278e+04],\n",
       "       [1.97519413e+06, 3.87196135e+04],\n",
       "       [2.59040978e+06, 3.68632320e+04],\n",
       "       [3.30438957e+06, 2.56035201e+04],\n",
       "       [6.01320637e+06, 6.22352809e+04],\n",
       "       [6.95889640e+01, 1.10817729e+02]])"
      ]
     },
     "execution_count": 33,
     "metadata": {},
     "output_type": "execute_result"
    }
   ],
   "source": [
    "(clickTile - phenoColors[0])*(clickTile - phenoColors[0])"
   ]
  },
  {
   "cell_type": "code",
   "execution_count": 37,
   "id": "8d708d3b",
   "metadata": {},
   "outputs": [
    {
     "data": {
      "text/plain": [
       "array([1.20792464e+07, 1.20881297e+07, 1.20408133e+07, 1.20850714e+07,\n",
       "       1.23765841e+07, 1.26691213e+07, 1.30913104e+07, 1.33886773e+07,\n",
       "       1.41210641e+07, 1.46593963e+07, 1.53257694e+07, 1.60469454e+07,\n",
       "       1.17586560e+07, 1.11401062e+07, 1.12485144e+07, 1.11077472e+07,\n",
       "       1.13145882e+07, 1.13611092e+07, 1.17843461e+07, 1.22520313e+07,\n",
       "       1.27802121e+07, 1.31774899e+07, 1.36765686e+07, 1.42434060e+07,\n",
       "       1.05367573e+07, 1.03941568e+07, 9.87444482e+06, 9.74123418e+06,\n",
       "       9.73029296e+06, 9.98251332e+06, 1.03891614e+07, 1.05532937e+07,\n",
       "       1.08055554e+07, 1.13596452e+07, 1.17798973e+07, 1.27679935e+07,\n",
       "       1.33366922e+07, 1.41717288e+07, 1.51058554e+07, 9.86774968e+06,\n",
       "       9.46747482e+06, 9.34604872e+06, 9.15249366e+06, 9.16363586e+06,\n",
       "       9.49517161e+06, 9.63212685e+06, 1.00782397e+07, 1.03264633e+07,\n",
       "       1.07483107e+07, 1.11732459e+07, 1.17405799e+07, 1.24802480e+07,\n",
       "       1.34382668e+07, 1.42773576e+07, 9.05853487e+06, 8.62047972e+06,\n",
       "       8.44853848e+06, 8.17184866e+06, 8.17017584e+06, 8.37257811e+06,\n",
       "       8.35009292e+06, 8.44743806e+06, 8.86293168e+06, 9.08068806e+06,\n",
       "       9.65448548e+06, 1.01472305e+07, 1.07999014e+07, 1.13993937e+07,\n",
       "       1.24571324e+07, 1.34265585e+07, 8.52323158e+06, 8.01888107e+06,\n",
       "       7.88818898e+06, 7.63148858e+06, 7.63350275e+06, 7.72692196e+06,\n",
       "       7.77731249e+06, 7.97657804e+06, 8.29846095e+06, 8.58735164e+06,\n",
       "       8.99295506e+06, 9.58849997e+06, 1.01771803e+07, 1.10033019e+07,\n",
       "       1.15752213e+07, 1.25472593e+07, 7.42949225e+06, 7.16716477e+06,\n",
       "       6.78619207e+06, 6.71601249e+06, 6.66722925e+06, 6.69531995e+06,\n",
       "       6.87910970e+06, 6.95548776e+06, 7.19672570e+06, 7.59830693e+06,\n",
       "       8.15524941e+06, 8.67477918e+06, 9.29099366e+06, 9.90447367e+06,\n",
       "       1.06206482e+07, 1.17731443e+07, 6.99616029e+06, 6.44774653e+06,\n",
       "       6.38472283e+06, 6.30742050e+06, 6.24591274e+06, 6.29376343e+06,\n",
       "       6.32088002e+06, 6.48593928e+06, 6.70572454e+06, 7.22478715e+06,\n",
       "       7.54950109e+06, 8.04783312e+06, 8.81628517e+06, 9.33275450e+06,\n",
       "       1.04286365e+07, 1.12319957e+07, 6.06333265e+06, 5.59294336e+06,\n",
       "       5.43097689e+06, 5.25941170e+06, 5.17909503e+06, 5.23131455e+06,\n",
       "       5.36579680e+06, 5.59771763e+06, 5.89288422e+06, 6.21929681e+06,\n",
       "       6.82715462e+06, 7.35337552e+06, 7.95339525e+06, 8.46296460e+06,\n",
       "       9.32067787e+06, 1.02559554e+07, 5.47086101e+06, 5.21013182e+06,\n",
       "       5.09347531e+06, 4.82996040e+06, 4.79564635e+06, 4.86335174e+06,\n",
       "       4.95725627e+06, 5.20047151e+06, 5.44932832e+06, 5.78823139e+06,\n",
       "       6.26220286e+06, 6.70331711e+06, 7.35200224e+06, 8.03616535e+06,\n",
       "       8.79181042e+06, 9.73914146e+06, 4.40232407e+06, 4.22640952e+06,\n",
       "       4.11553232e+06, 4.02278640e+06, 4.03518891e+06, 4.08758929e+06,\n",
       "       4.40720725e+06, 4.70148825e+06, 5.02084960e+06, 5.36422927e+06,\n",
       "       5.87756414e+06, 6.66834855e+06, 7.19688820e+06, 7.98540471e+06,\n",
       "       7.71752347e+06, 8.99643870e+06, 4.73510874e+06, 4.30793252e+06,\n",
       "       4.03163278e+06, 3.86638519e+06, 3.74041725e+06, 3.65680003e+06,\n",
       "       3.64355775e+06, 3.80692947e+06, 4.09686174e+06, 4.29022250e+06,\n",
       "       4.72686922e+06, 5.07724724e+06, 5.50296612e+06, 6.34687365e+06,\n",
       "       6.84486656e+06, 8.63600691e+06, 3.36511388e+06, 3.19038944e+06,\n",
       "       2.96011073e+06, 2.98924286e+06, 3.11316644e+06, 3.26702522e+06,\n",
       "       3.55716460e+06, 3.93738731e+06, 4.36398604e+06, 4.92823292e+06,\n",
       "       5.44789584e+06, 6.25271244e+06, 6.75891346e+06, 7.02298285e+06,\n",
       "       8.04514115e+06, 2.93421977e+06, 2.84980370e+06, 2.71992204e+06,\n",
       "       2.82827096e+06, 2.59148107e+06, 2.82391220e+06, 3.00304235e+06,\n",
       "       3.28637264e+06, 3.67344961e+06, 4.07505019e+06, 4.62304525e+06,\n",
       "       5.15855671e+06, 5.96352876e+06, 7.53370178e+06, 2.65136067e+06,\n",
       "       2.10477905e+06, 2.07073396e+06, 2.18373454e+06, 2.40080568e+06,\n",
       "       2.68302974e+06, 3.06122793e+06, 3.44468277e+06, 3.95749529e+06,\n",
       "       4.54807435e+06, 5.28498328e+06, 6.03191888e+06, 7.03499043e+06,\n",
       "       7.17414833e+06, 2.07530891e+06, 1.83597724e+06, 2.08673105e+06,\n",
       "       1.82314386e+06, 1.85578504e+06, 1.86644453e+06, 1.94177013e+06,\n",
       "       2.13995958e+06, 2.41874638e+06, 2.78045538e+06, 3.24462141e+06,\n",
       "       3.70224757e+06, 4.39551074e+06, 5.06108067e+06, 5.86584392e+06,\n",
       "       1.42289396e+06, 1.31915449e+06, 1.40278355e+06, 1.49567847e+06,\n",
       "       1.63688288e+06, 1.90703306e+06, 2.24923488e+06, 2.74865236e+06,\n",
       "       3.28066582e+06, 3.93791656e+06, 4.64221424e+06, 5.36363712e+06,\n",
       "       6.27785508e+06, 6.19561043e+06, 7.31582940e+06, 1.45788086e+06,\n",
       "       1.12303791e+06, 1.04918555e+06, 1.18701638e+06, 1.26447244e+06,\n",
       "       1.47782826e+06, 1.67906163e+06, 2.19978786e+06, 2.58055999e+06,\n",
       "       3.12542215e+06, 3.70765528e+06, 4.38971624e+06, 5.06852552e+06,\n",
       "       7.20564808e+06, 9.69967062e+05, 7.34616543e+05, 8.01241554e+05,\n",
       "       8.88929463e+05, 1.07428561e+06, 1.40266290e+06, 1.74435462e+06,\n",
       "       2.12557403e+06, 2.61809152e+06, 3.13711768e+06, 4.00186550e+06,\n",
       "       4.79236876e+06, 5.65612693e+06, 6.84797674e+06, 8.11552805e+05,\n",
       "       5.74612282e+05, 5.74677614e+05, 6.45032220e+05, 7.93315515e+05,\n",
       "       9.35032142e+05, 1.21629087e+06, 1.65222728e+06, 1.98176357e+06,\n",
       "       3.19286329e+06, 3.74707543e+06, 4.65476330e+06, 5.60337483e+06,\n",
       "       6.45577449e+06, 5.25407833e+05, 3.73882223e+05, 3.68640936e+05,\n",
       "       4.02251846e+05, 5.21773327e+05, 7.27254625e+05, 9.33339521e+05,\n",
       "       1.26521716e+06, 1.73429374e+06, 2.19900015e+06, 2.76692429e+06,\n",
       "       3.59052564e+06, 4.43420293e+06, 5.41442045e+06, 6.06712399e+06,\n",
       "       3.94557059e+05, 2.73263141e+05, 2.12006234e+05, 3.72173898e+05,\n",
       "       5.87434927e+05, 8.58865288e+05, 1.22541904e+06, 1.59377002e+06,\n",
       "       2.20097516e+06, 2.82496462e+06, 3.45288480e+06, 4.19263699e+06,\n",
       "       5.17505562e+06, 2.46079082e+05, 1.80279312e+05, 1.09021187e+05,\n",
       "       1.37178070e+05, 2.24603111e+05, 7.54346711e+05, 1.37655923e+06,\n",
       "       2.16430162e+06, 2.48703659e+06, 3.45602978e+06, 4.17868274e+06,\n",
       "       5.11315098e+06, 7.38644231e+04, 1.33103425e+04, 3.91653626e+04,\n",
       "       1.92482577e+05, 3.84370391e+05, 5.85091884e+05, 8.97314515e+05,\n",
       "       1.29779042e+06, 2.01391375e+06, 2.62727301e+06, 3.32999309e+06,\n",
       "       6.07544165e+06, 1.80406693e+02])"
      ]
     },
     "execution_count": 37,
     "metadata": {},
     "output_type": "execute_result"
    }
   ],
   "source": [
    "np.sum((clickTile - phenoColors[0])*(clickTile - phenoColors[0]), 1)"
   ]
  },
  {
   "cell_type": "code",
   "execution_count": 38,
   "id": "0fd61d08",
   "metadata": {},
   "outputs": [
    {
     "data": {
      "text/plain": [
       "349"
      ]
     },
     "execution_count": 38,
     "metadata": {},
     "output_type": "execute_result"
    }
   ],
   "source": [
    "np.argmin(np.sum((clickTile - phenoColors[0])*(clickTile - phenoColors[0]), 1))"
   ]
  },
  {
   "cell_type": "code",
   "execution_count": 39,
   "id": "5c3f7453",
   "metadata": {},
   "outputs": [
    {
     "data": {
      "text/plain": [
       "array([1282.548, 3889.322])"
      ]
     },
     "execution_count": 39,
     "metadata": {},
     "output_type": "execute_result"
    }
   ],
   "source": [
    "phenoColors[0][349]"
   ]
  },
  {
   "cell_type": "code",
   "execution_count": 43,
   "id": "ec1571a3",
   "metadata": {},
   "outputs": [
    {
     "data": {
      "text/plain": [
       "['b',\n",
       " 'b',\n",
       " 'b',\n",
       " 'b',\n",
       " 'b',\n",
       " 'b',\n",
       " 'b',\n",
       " 'b',\n",
       " 'b',\n",
       " 'b',\n",
       " 'b',\n",
       " 'b',\n",
       " 'b',\n",
       " 'b',\n",
       " 'b',\n",
       " 'b',\n",
       " 'b',\n",
       " 'b',\n",
       " 'b',\n",
       " 'b',\n",
       " 'b',\n",
       " 'b',\n",
       " 'b',\n",
       " 'b',\n",
       " 'b',\n",
       " 'b',\n",
       " 'b',\n",
       " 'b',\n",
       " 'b',\n",
       " 'b',\n",
       " 'b',\n",
       " 'b',\n",
       " 'b',\n",
       " 'b',\n",
       " 'b',\n",
       " 'b',\n",
       " 'b',\n",
       " 'b',\n",
       " 'b',\n",
       " 'b',\n",
       " 'b',\n",
       " 'b',\n",
       " 'b',\n",
       " 'b',\n",
       " 'b',\n",
       " 'b',\n",
       " 'b',\n",
       " 'b',\n",
       " 'b',\n",
       " 'b',\n",
       " 'b',\n",
       " 'b',\n",
       " 'b',\n",
       " 'b',\n",
       " 'b',\n",
       " 'b',\n",
       " 'b',\n",
       " 'b',\n",
       " 'b',\n",
       " 'b',\n",
       " 'b',\n",
       " 'b',\n",
       " 'b',\n",
       " 'b',\n",
       " 'b',\n",
       " 'b',\n",
       " 'b',\n",
       " 'b',\n",
       " 'b',\n",
       " 'b',\n",
       " 'b',\n",
       " 'b',\n",
       " 'b',\n",
       " 'b',\n",
       " 'b',\n",
       " 'b',\n",
       " 'b',\n",
       " 'b',\n",
       " 'b',\n",
       " 'b',\n",
       " 'b',\n",
       " 'b',\n",
       " 'b',\n",
       " 'b',\n",
       " 'b',\n",
       " 'b',\n",
       " 'b',\n",
       " 'b',\n",
       " 'b',\n",
       " 'b',\n",
       " 'b',\n",
       " 'b',\n",
       " 'b',\n",
       " 'b',\n",
       " 'b',\n",
       " 'b',\n",
       " 'b',\n",
       " 'b',\n",
       " 'b',\n",
       " 'b',\n",
       " 'b',\n",
       " 'b',\n",
       " 'b',\n",
       " 'b',\n",
       " 'b',\n",
       " 'b',\n",
       " 'b',\n",
       " 'b',\n",
       " 'b',\n",
       " 'b',\n",
       " 'b',\n",
       " 'b',\n",
       " 'b',\n",
       " 'b',\n",
       " 'b',\n",
       " 'b',\n",
       " 'b',\n",
       " 'b',\n",
       " 'b',\n",
       " 'b',\n",
       " 'b',\n",
       " 'b',\n",
       " 'b',\n",
       " 'b',\n",
       " 'b',\n",
       " 'b',\n",
       " 'b',\n",
       " 'b',\n",
       " 'b',\n",
       " 'b',\n",
       " 'b',\n",
       " 'b',\n",
       " 'b',\n",
       " 'b',\n",
       " 'b',\n",
       " 'b',\n",
       " 'b',\n",
       " 'b',\n",
       " 'b',\n",
       " 'b',\n",
       " 'b',\n",
       " 'b',\n",
       " 'b',\n",
       " 'b',\n",
       " 'b',\n",
       " 'b',\n",
       " 'b',\n",
       " 'b',\n",
       " 'b',\n",
       " 'b',\n",
       " 'b',\n",
       " 'b',\n",
       " 'b',\n",
       " 'b',\n",
       " 'b',\n",
       " 'b',\n",
       " 'b',\n",
       " 'b',\n",
       " 'b',\n",
       " 'b',\n",
       " 'b',\n",
       " 'b',\n",
       " 'b',\n",
       " 'b',\n",
       " 'b',\n",
       " 'b',\n",
       " 'b',\n",
       " 'b',\n",
       " 'b',\n",
       " 'b',\n",
       " 'b',\n",
       " 'b',\n",
       " 'b',\n",
       " 'b',\n",
       " 'b',\n",
       " 'b',\n",
       " 'b',\n",
       " 'b',\n",
       " 'b',\n",
       " 'b',\n",
       " 'b',\n",
       " 'b',\n",
       " 'b',\n",
       " 'b',\n",
       " 'b',\n",
       " 'b',\n",
       " 'b',\n",
       " 'b',\n",
       " 'b',\n",
       " 'b',\n",
       " 'b',\n",
       " 'b',\n",
       " 'b',\n",
       " 'b',\n",
       " 'b',\n",
       " 'b',\n",
       " 'b',\n",
       " 'b',\n",
       " 'b',\n",
       " 'b',\n",
       " 'b',\n",
       " 'b',\n",
       " 'b',\n",
       " 'b',\n",
       " 'b',\n",
       " 'b',\n",
       " 'b',\n",
       " 'b',\n",
       " 'b',\n",
       " 'b',\n",
       " 'b',\n",
       " 'b',\n",
       " 'b',\n",
       " 'b',\n",
       " 'b',\n",
       " 'b',\n",
       " 'b',\n",
       " 'b',\n",
       " 'b',\n",
       " 'b',\n",
       " 'b',\n",
       " 'b',\n",
       " 'b',\n",
       " 'b',\n",
       " 'b',\n",
       " 'b',\n",
       " 'b',\n",
       " 'b',\n",
       " 'b',\n",
       " 'b',\n",
       " 'b',\n",
       " 'b',\n",
       " 'b',\n",
       " 'b',\n",
       " 'b',\n",
       " 'b',\n",
       " 'b',\n",
       " 'b',\n",
       " 'b',\n",
       " 'b',\n",
       " 'b',\n",
       " 'b',\n",
       " 'b',\n",
       " 'b',\n",
       " 'b',\n",
       " 'b',\n",
       " 'b',\n",
       " 'b',\n",
       " 'b',\n",
       " 'b',\n",
       " 'b',\n",
       " 'b',\n",
       " 'b',\n",
       " 'b',\n",
       " 'b',\n",
       " 'b',\n",
       " 'b',\n",
       " 'b',\n",
       " 'b',\n",
       " 'b',\n",
       " 'b',\n",
       " 'b',\n",
       " 'b',\n",
       " 'b',\n",
       " 'b',\n",
       " 'b',\n",
       " 'b',\n",
       " 'b',\n",
       " 'b',\n",
       " 'b',\n",
       " 'b',\n",
       " 'b',\n",
       " 'b',\n",
       " 'b',\n",
       " 'b',\n",
       " 'b',\n",
       " 'b',\n",
       " 'b',\n",
       " 'b',\n",
       " 'b',\n",
       " 'b',\n",
       " 'b',\n",
       " 'b',\n",
       " 'b',\n",
       " 'b',\n",
       " 'b',\n",
       " 'b',\n",
       " 'b',\n",
       " 'b',\n",
       " 'b',\n",
       " 'b',\n",
       " 'b',\n",
       " 'b',\n",
       " 'b',\n",
       " 'b',\n",
       " 'b',\n",
       " 'b',\n",
       " 'b',\n",
       " 'b',\n",
       " 'b',\n",
       " 'b',\n",
       " 'b',\n",
       " 'b',\n",
       " 'b',\n",
       " 'b',\n",
       " 'b',\n",
       " 'b',\n",
       " 'b',\n",
       " 'b',\n",
       " 'b',\n",
       " 'b',\n",
       " 'b',\n",
       " 'b',\n",
       " 'b',\n",
       " 'b',\n",
       " 'b',\n",
       " 'b',\n",
       " 'b',\n",
       " 'b',\n",
       " 'b',\n",
       " 'b',\n",
       " 'b',\n",
       " 'b',\n",
       " 'b',\n",
       " 'b',\n",
       " 'b',\n",
       " 'b',\n",
       " 'b',\n",
       " 'b',\n",
       " 'b',\n",
       " 'b',\n",
       " 'b',\n",
       " 'b',\n",
       " 'b',\n",
       " 'b',\n",
       " 'b',\n",
       " 'b',\n",
       " 'b',\n",
       " 'b',\n",
       " 'b',\n",
       " 'b',\n",
       " 'b',\n",
       " 'b',\n",
       " 'b',\n",
       " 'b',\n",
       " 'b',\n",
       " 'b',\n",
       " 'b',\n",
       " 'b',\n",
       " 'r']"
      ]
     },
     "execution_count": 43,
     "metadata": {},
     "output_type": "execute_result"
    }
   ],
   "source": [
    "colors = ['b']*350\n",
    "colors[349] = 'r'\n",
    "colors"
   ]
  },
  {
   "cell_type": "code",
   "execution_count": 44,
   "id": "2379378a",
   "metadata": {
    "scrolled": true
   },
   "outputs": [
    {
     "data": {
      "text/plain": [
       "<matplotlib.collections.PathCollection at 0x7f6f6c8b8fa0>"
      ]
     },
     "execution_count": 44,
     "metadata": {},
     "output_type": "execute_result"
    },
    {
     "data": {
      "image/png": "[encoded data removed]",
      "text/plain": [
       "<Figure size 432x288 with 1 Axes>"
      ]
     },
     "metadata": {
      "needs_background": "light"
     },
     "output_type": "display_data"
    }
   ],
   "source": [
    "plt.scatter(phenoColors[0][:,0], phenoColors[0][:,1], c=colors)"
   ]
  },
  {
   "cell_type": "code",
   "execution_count": 211,
   "id": "4b48cde0",
   "metadata": {},
   "outputs": [],
   "source": [
    "import matplotlib.pyplot as plt\n",
    "import numpy as np\n",
    "import pickle\n",
    "import os\n",
    "import sys\n",
    "\n",
    "class Organoid:\n",
    "    def __init__(self, saveDir, saveLog = False):\n",
    "        self.saveDir = saveDir\n",
    "        self.saveLog = saveLog\n",
    "\n",
    "    def coloring(self, coords, colors):\n",
    "        X = coords[:,0]\n",
    "        Y = coords[:,1]\n",
    "        assert(len(X) == len(Y) == len(colors))\n",
    "        DataLog = []\n",
    "\n",
    "        figColor = plt.figure()\n",
    "        for i, (x,y) in enumerate(zip(X,Y)):\n",
    "            plt.scatter(x, y, c = colors[i], picker=5)\n",
    "\n",
    "        def onclick_color(event):\n",
    "            print()\n",
    "            print('*** MODIFYING COLOR ***')\n",
    "            val = input(\"Enter value g/r/b: \")\n",
    "            event.artist.set_color(val)\n",
    "            figColor.canvas.draw()\n",
    "            data = np.frombuffer(figColor.canvas.tostring_rgb(), dtype=np.uint8) #sep=''\n",
    "            data = data.reshape(figColor.canvas.get_width_height()[::-1] + (3,))\n",
    "            DataLog.append(data)\n",
    "            print(len(DataLog))\n",
    "            print(DataLog[-1].shape)\n",
    "            plt.savefig(os.path.join(self.saveDir, \"outputFig.png\"), bbox_inches=0, pad_inches = 0)\n",
    "\n",
    "        cid = figColor.canvas.mpl_connect('pick_event', onclick_color)\n",
    "\n",
    "        plt.show()\n",
    "\n",
    "    def removal(self, coords):\n",
    "        X = coords[:,0]\n",
    "        Y = coords[:,1]\n",
    "        assert(len(X) == len(Y))\n",
    "        DataLog = []\n",
    "\n",
    "        figRm = plt.figure()\n",
    "        for i, (x,y) in enumerate(zip(X,Y)):\n",
    "            plt.scatter(x, y, c = 'b', picker=5)\n",
    "\n",
    "        def onclick_remove(event):\n",
    "            event.artist.remove()\n",
    "            figRm.canvas.draw()\n",
    "            data = np.frombuffer(figRm.canvas.tostring_rgb(), dtype=np.uint8)\n",
    "            data = data.reshape(figRm.canvas.get_width_height()[::-1] + (3,))\n",
    "            DataLog.append(data)\n",
    "            plt.savefig(os.path.join(self.saveDir, \"outputFig.png\"), bbox_inches=0, pad_inches = 0)\n",
    "\n",
    "        cid = figRm.canvas.mpl_connect('pick_event', onclick_remove)\n",
    "        plt.gca().invert_yaxis()\n",
    "        plt.show()"
   ]
  },
  {
   "cell_type": "code",
   "execution_count": null,
   "id": "27db6fe2",
   "metadata": {},
   "outputs": [],
   "source": []
  },
  {
   "cell_type": "code",
   "execution_count": null,
   "id": "f2ed2097",
   "metadata": {},
   "outputs": [],
   "source": []
  },
  {
   "cell_type": "code",
   "execution_count": null,
   "id": "3682a0a3",
   "metadata": {},
   "outputs": [],
   "source": []
  },
  {
   "cell_type": "markdown",
   "id": "dc0c6e38",
   "metadata": {},
   "source": [
    "# Making 50 by 50 localities (DEPRECATED)"
   ]
  },
  {
   "cell_type": "code",
   "execution_count": 47,
   "id": "fc2c3160",
   "metadata": {},
   "outputs": [
    {
     "data": {
      "text/html": [
       "<div>\n",
       "<style scoped>\n",
       "    .dataframe tbody tr th:only-of-type {\n",
       "        vertical-align: middle;\n",
       "    }\n",
       "\n",
       "    .dataframe tbody tr th {\n",
       "        vertical-align: top;\n",
       "    }\n",
       "\n",
       "    .dataframe thead th {\n",
       "        text-align: right;\n",
       "    }\n",
       "</style>\n",
       "<table border=\"1\" class=\"dataframe\">\n",
       "  <thead>\n",
       "    <tr style=\"text-align: right;\">\n",
       "      <th></th>\n",
       "      <th>xInit</th>\n",
       "      <th>yInit</th>\n",
       "      <th>colorInit</th>\n",
       "      <th>xPheno</th>\n",
       "      <th>yPheno</th>\n",
       "      <th>colorPheno</th>\n",
       "    </tr>\n",
       "  </thead>\n",
       "  <tbody>\n",
       "    <tr>\n",
       "      <th>0</th>\n",
       "      <td>2400</td>\n",
       "      <td>600</td>\n",
       "      <td>m</td>\n",
       "      <td>955.299</td>\n",
       "      <td>419.514</td>\n",
       "      <td>m</td>\n",
       "    </tr>\n",
       "    <tr>\n",
       "      <th>1</th>\n",
       "      <td>3000</td>\n",
       "      <td>600</td>\n",
       "      <td>m</td>\n",
       "      <td>1184.186</td>\n",
       "      <td>403.634</td>\n",
       "      <td>m</td>\n",
       "    </tr>\n",
       "    <tr>\n",
       "      <th>2</th>\n",
       "      <td>3600</td>\n",
       "      <td>600</td>\n",
       "      <td>m</td>\n",
       "      <td>1388.121</td>\n",
       "      <td>410.170</td>\n",
       "      <td>m</td>\n",
       "    </tr>\n",
       "    <tr>\n",
       "      <th>3</th>\n",
       "      <td>4200</td>\n",
       "      <td>600</td>\n",
       "      <td>m</td>\n",
       "      <td>1592.825</td>\n",
       "      <td>415.573</td>\n",
       "      <td>m</td>\n",
       "    </tr>\n",
       "    <tr>\n",
       "      <th>4</th>\n",
       "      <td>4800</td>\n",
       "      <td>600</td>\n",
       "      <td>m</td>\n",
       "      <td>1801.586</td>\n",
       "      <td>398.023</td>\n",
       "      <td>m</td>\n",
       "    </tr>\n",
       "  </tbody>\n",
       "</table>\n",
       "</div>"
      ],
      "text/plain": [
       "   xInit  yInit colorInit    xPheno   yPheno colorPheno\n",
       "0   2400    600         m   955.299  419.514          m\n",
       "1   3000    600         m  1184.186  403.634          m\n",
       "2   3600    600         m  1388.121  410.170          m\n",
       "3   4200    600         m  1592.825  415.573          m\n",
       "4   4800    600         m  1801.586  398.023          m"
      ]
     },
     "execution_count": 47,
     "metadata": {},
     "output_type": "execute_result"
    }
   ],
   "source": [
    "df = pd.read_csv(\"matchedDF.csv\")\n",
    "df.head()"
   ]
  },
  {
   "cell_type": "code",
   "execution_count": 48,
   "id": "24169961",
   "metadata": {},
   "outputs": [
    {
     "data": {
      "text/html": [
       "<div>\n",
       "<style scoped>\n",
       "    .dataframe tbody tr th:only-of-type {\n",
       "        vertical-align: middle;\n",
       "    }\n",
       "\n",
       "    .dataframe tbody tr th {\n",
       "        vertical-align: top;\n",
       "    }\n",
       "\n",
       "    .dataframe thead th {\n",
       "        text-align: right;\n",
       "    }\n",
       "</style>\n",
       "<table border=\"1\" class=\"dataframe\">\n",
       "  <thead>\n",
       "    <tr style=\"text-align: right;\">\n",
       "      <th></th>\n",
       "      <th>xInit</th>\n",
       "      <th>yInit</th>\n",
       "      <th>colorInit</th>\n",
       "      <th>xPheno</th>\n",
       "      <th>yPheno</th>\n",
       "      <th>colorPheno</th>\n",
       "    </tr>\n",
       "  </thead>\n",
       "  <tbody>\n",
       "    <tr>\n",
       "      <th>0</th>\n",
       "      <td>2400</td>\n",
       "      <td>600</td>\n",
       "      <td>m</td>\n",
       "      <td>955.299</td>\n",
       "      <td>419.514</td>\n",
       "      <td>m</td>\n",
       "    </tr>\n",
       "    <tr>\n",
       "      <th>1</th>\n",
       "      <td>3000</td>\n",
       "      <td>600</td>\n",
       "      <td>m</td>\n",
       "      <td>1184.186</td>\n",
       "      <td>403.634</td>\n",
       "      <td>m</td>\n",
       "    </tr>\n",
       "    <tr>\n",
       "      <th>2</th>\n",
       "      <td>3600</td>\n",
       "      <td>600</td>\n",
       "      <td>m</td>\n",
       "      <td>1388.121</td>\n",
       "      <td>410.170</td>\n",
       "      <td>m</td>\n",
       "    </tr>\n",
       "    <tr>\n",
       "      <th>3</th>\n",
       "      <td>4200</td>\n",
       "      <td>600</td>\n",
       "      <td>m</td>\n",
       "      <td>1592.825</td>\n",
       "      <td>415.573</td>\n",
       "      <td>m</td>\n",
       "    </tr>\n",
       "    <tr>\n",
       "      <th>4</th>\n",
       "      <td>4800</td>\n",
       "      <td>600</td>\n",
       "      <td>m</td>\n",
       "      <td>1801.586</td>\n",
       "      <td>398.023</td>\n",
       "      <td>m</td>\n",
       "    </tr>\n",
       "    <tr>\n",
       "      <th>5</th>\n",
       "      <td>5400</td>\n",
       "      <td>600</td>\n",
       "      <td>m</td>\n",
       "      <td>1980.443</td>\n",
       "      <td>386.856</td>\n",
       "      <td>m</td>\n",
       "    </tr>\n",
       "    <tr>\n",
       "      <th>6</th>\n",
       "      <td>6000</td>\n",
       "      <td>600</td>\n",
       "      <td>m</td>\n",
       "      <td>2191.657</td>\n",
       "      <td>374.522</td>\n",
       "      <td>m</td>\n",
       "    </tr>\n",
       "    <tr>\n",
       "      <th>7</th>\n",
       "      <td>6600</td>\n",
       "      <td>600</td>\n",
       "      <td>m</td>\n",
       "      <td>2380.135</td>\n",
       "      <td>385.627</td>\n",
       "      <td>m</td>\n",
       "    </tr>\n",
       "    <tr>\n",
       "      <th>8</th>\n",
       "      <td>7200</td>\n",
       "      <td>600</td>\n",
       "      <td>m</td>\n",
       "      <td>2616.486</td>\n",
       "      <td>362.567</td>\n",
       "      <td>m</td>\n",
       "    </tr>\n",
       "    <tr>\n",
       "      <th>9</th>\n",
       "      <td>7800</td>\n",
       "      <td>600</td>\n",
       "      <td>m</td>\n",
       "      <td>2819.273</td>\n",
       "      <td>368.319</td>\n",
       "      <td>m</td>\n",
       "    </tr>\n",
       "    <tr>\n",
       "      <th>10</th>\n",
       "      <td>8400</td>\n",
       "      <td>600</td>\n",
       "      <td>m</td>\n",
       "      <td>2993.604</td>\n",
       "      <td>353.666</td>\n",
       "      <td>m</td>\n",
       "    </tr>\n",
       "    <tr>\n",
       "      <th>11</th>\n",
       "      <td>9000</td>\n",
       "      <td>600</td>\n",
       "      <td>m</td>\n",
       "      <td>3195.024</td>\n",
       "      <td>354.420</td>\n",
       "      <td>m</td>\n",
       "    </tr>\n",
       "  </tbody>\n",
       "</table>\n",
       "</div>"
      ],
      "text/plain": [
       "    xInit  yInit colorInit    xPheno   yPheno colorPheno\n",
       "0    2400    600         m   955.299  419.514          m\n",
       "1    3000    600         m  1184.186  403.634          m\n",
       "2    3600    600         m  1388.121  410.170          m\n",
       "3    4200    600         m  1592.825  415.573          m\n",
       "4    4800    600         m  1801.586  398.023          m\n",
       "5    5400    600         m  1980.443  386.856          m\n",
       "6    6000    600         m  2191.657  374.522          m\n",
       "7    6600    600         m  2380.135  385.627          m\n",
       "8    7200    600         m  2616.486  362.567          m\n",
       "9    7800    600         m  2819.273  368.319          m\n",
       "10   8400    600         m  2993.604  353.666          m\n",
       "11   9000    600         m  3195.024  354.420          m"
      ]
     },
     "execution_count": 48,
     "metadata": {},
     "output_type": "execute_result"
    }
   ],
   "source": [
    "df[df.yInit == 600].xvalues"
   ]
  },
  {
   "cell_type": "code",
   "execution_count": null,
   "id": "b0f308c0",
   "metadata": {},
   "outputs": [],
   "source": []
  },
  {
   "cell_type": "code",
   "execution_count": null,
   "id": "7da1ced5",
   "metadata": {},
   "outputs": [],
   "source": []
  },
  {
   "cell_type": "code",
   "execution_count": 3,
   "id": "cecabb4a",
   "metadata": {},
   "outputs": [
    {
     "data": {
      "text/plain": [
       "<matplotlib.collections.PathCollection at 0x7f12b2f096d0>"
      ]
     },
     "execution_count": 3,
     "metadata": {},
     "output_type": "execute_result"
    },
    {
     "data": {
      "image/png": "[encoded data removed]",
      "text/plain": [
       "<Figure size 864x432 with 2 Axes>"
      ]
     },
     "metadata": {
      "needs_background": "light"
     },
     "output_type": "display_data"
    }
   ],
   "source": [
    "fig, (ax1, ax2) = plt.subplots(1, 2)\n",
    "fig.set_size_inches(12,6)\n",
    "#plt.figure(figsize=(6,6))\n",
    "ax1.scatter(df.xInit, df.yInit, c=df.colorInit)\n",
    "ax2.scatter(df.xPheno, df.yPheno, c=df.colorPheno)"
   ]
  },
  {
   "cell_type": "code",
   "execution_count": 4,
   "id": "df2f226a",
   "metadata": {},
   "outputs": [],
   "source": [
    "coords = np.array(list(zip(df.xInit.values, df.yInit.values)))"
   ]
  },
  {
   "cell_type": "code",
   "execution_count": 8,
   "id": "eef62129",
   "metadata": {},
   "outputs": [],
   "source": [
    "coordsNorm = coords//50"
   ]
  },
  {
   "cell_type": "code",
   "execution_count": 9,
   "id": "7a1f0f4e",
   "metadata": {},
   "outputs": [
    {
     "data": {
      "text/plain": [
       "<matplotlib.collections.PathCollection at 0x7f6133ba44c0>"
      ]
     },
     "execution_count": 9,
     "metadata": {},
     "output_type": "execute_result"
    },
    {
     "data": {
      "image/png": "[encoded data removed]",
      "text/plain": [
       "<Figure size 432x288 with 1 Axes>"
      ]
     },
     "metadata": {
      "needs_background": "light"
     },
     "output_type": "display_data"
    }
   ],
   "source": [
    "plt.scatter(coordsNorm[:,0],coordsNorm[:,1], s=1)"
   ]
  },
  {
   "cell_type": "code",
   "execution_count": 10,
   "id": "58cd9c18",
   "metadata": {},
   "outputs": [],
   "source": [
    "paddingNorm = 1000//50 # relative to normed sideLen"
   ]
  },
  {
   "cell_type": "code",
   "execution_count": 11,
   "id": "bd22cb80",
   "metadata": {},
   "outputs": [
    {
     "data": {
      "text/plain": [
       "192"
      ]
     },
     "execution_count": 11,
     "metadata": {},
     "output_type": "execute_result"
    }
   ],
   "source": [
    "np.max(coordsNorm[:,0]) - np.min(coordsNorm[:,0])"
   ]
  },
  {
   "cell_type": "code",
   "execution_count": 12,
   "id": "084414c9",
   "metadata": {},
   "outputs": [],
   "source": [
    "xRange = (np.max(coordsNorm[:,0]) - np.min(coordsNorm[:,0])) + 3*paddingNorm\n",
    "yRange = (np.max(coordsNorm[:,1]) - np.min(coordsNorm[:,1])) + 3*paddingNorm\n",
    "globalLen = max(xRange, yRange)"
   ]
  },
  {
   "cell_type": "code",
   "execution_count": 13,
   "id": "fcfa7d84",
   "metadata": {},
   "outputs": [
    {
     "data": {
      "text/plain": [
       "264"
      ]
     },
     "execution_count": 13,
     "metadata": {},
     "output_type": "execute_result"
    }
   ],
   "source": [
    "globalLen"
   ]
  },
  {
   "cell_type": "code",
   "execution_count": 65,
   "id": "edb9eb3f",
   "metadata": {},
   "outputs": [
    {
     "data": {
      "text/plain": [
       "(0.0, 264.0)"
      ]
     },
     "execution_count": 65,
     "metadata": {},
     "output_type": "execute_result"
    },
    {
     "data": {
      "image/png": "[encoded data removed]",
      "text/plain": [
       "<Figure size 432x288 with 1 Axes>"
      ]
     },
     "metadata": {
      "needs_background": "light"
     },
     "output_type": "display_data"
    }
   ],
   "source": [
    "newx, newy = coordsNorm[:,0]+paddingNorm, coordsNorm[:,1]+paddingNorm\n",
    "plt.scatter(coordsNorm[:,0]+paddingNorm, coordsNorm[:,1]+paddingNorm)\n",
    "plt.xlim(0,globalLen)\n",
    "plt.ylim(0,globalLen)\n"
   ]
  },
  {
   "cell_type": "code",
   "execution_count": 90,
   "id": "b96e7cbf",
   "metadata": {},
   "outputs": [],
   "source": [
    "newMat = np.zeros((globalLen, globalLen))"
   ]
  },
  {
   "cell_type": "code",
   "execution_count": 91,
   "id": "37747832",
   "metadata": {},
   "outputs": [
    {
     "data": {
      "text/plain": [
       "(264, 264)"
      ]
     },
     "execution_count": 91,
     "metadata": {},
     "output_type": "execute_result"
    }
   ],
   "source": [
    "newMat.shape"
   ]
  },
  {
   "cell_type": "code",
   "execution_count": 92,
   "id": "a83211f6",
   "metadata": {},
   "outputs": [],
   "source": [
    "for x,y in list(zip(newx,newy)):\n",
    "    bLeftx, bLefty = x-1, y-1\n",
    "    for xShift in range(4):\n",
    "        for yShift in range(4):\n",
    "            newMat[bLeftx + xShift, bLefty + yShift] = 1"
   ]
  },
  {
   "cell_type": "code",
   "execution_count": 93,
   "id": "9a3e8b2b",
   "metadata": {},
   "outputs": [
    {
     "data": {
      "text/plain": [
       "<matplotlib.image.AxesImage at 0x7fc06f5d0fd0>"
      ]
     },
     "execution_count": 93,
     "metadata": {},
     "output_type": "execute_result"
    },
    {
     "data": {
      "image/png": "[encoded data removed]",
      "text/plain": [
       "<Figure size 864x864 with 1 Axes>"
      ]
     },
     "metadata": {
      "needs_background": "light"
     },
     "output_type": "display_data"
    }
   ],
   "source": [
    "plt.figure(figsize=(12,12))\n",
    "plt.imshow(newMat)"
   ]
  },
  {
   "cell_type": "code",
   "execution_count": 94,
   "id": "113e3ddc",
   "metadata": {},
   "outputs": [
    {
     "data": {
      "text/plain": [
       "array([156,  80])"
      ]
     },
     "execution_count": 94,
     "metadata": {},
     "output_type": "execute_result"
    }
   ],
   "source": [
    "coordsNorm[130]"
   ]
  },
  {
   "cell_type": "code",
   "execution_count": 95,
   "id": "baa687e8",
   "metadata": {},
   "outputs": [
    {
     "data": {
      "text/plain": [
       "array([[0., 0., 0., ..., 0., 0., 0.],\n",
       "       [0., 0., 0., ..., 0., 0., 0.],\n",
       "       [0., 0., 0., ..., 0., 0., 0.],\n",
       "       ...,\n",
       "       [0., 0., 0., ..., 0., 0., 0.],\n",
       "       [0., 0., 0., ..., 0., 0., 0.],\n",
       "       [0., 0., 0., ..., 0., 0., 0.]])"
      ]
     },
     "execution_count": 95,
     "metadata": {},
     "output_type": "execute_result"
    }
   ],
   "source": [
    "newMat"
   ]
  }
 ],
 "metadata": {
  "kernelspec": {
   "display_name": "neuralTube",
   "language": "python",
   "name": "neuraltube"
  },
  "language_info": {
   "codemirror_mode": {
    "name": "ipython",
    "version": 3
   },
   "file_extension": ".py",
   "mimetype": "text/x-python",
   "name": "python",
   "nbconvert_exporter": "python",
   "pygments_lexer": "ipython3",
   "version": "3.8.10"
  }
 },
 "nbformat": 4,
 "nbformat_minor": 5
}
