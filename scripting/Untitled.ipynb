{
 "cells": [
  {
   "cell_type": "code",
   "execution_count": 1,
   "id": "dde927bb",
   "metadata": {},
   "outputs": [],
   "source": [
    "import torch"
   ]
  },
  {
   "cell_type": "code",
   "execution_count": 2,
   "id": "fbe5e95f",
   "metadata": {},
   "outputs": [],
   "source": [
    "import numpy as np"
   ]
  },
  {
   "cell_type": "code",
   "execution_count": 24,
   "id": "54e3ec97",
   "metadata": {},
   "outputs": [],
   "source": [
    "hi = np.random.randn(10)"
   ]
  },
  {
   "cell_type": "code",
   "execution_count": 11,
   "id": "ba009b3f",
   "metadata": {},
   "outputs": [
    {
     "data": {
      "text/plain": [
       "array([-0.50778962,  1.99319214,  0.98350006,  1.20996316,  0.35012933,\n",
       "        0.36670392,  0.69103874, -0.31796391,  0.46783552, -0.39743495])"
      ]
     },
     "execution_count": 11,
     "metadata": {},
     "output_type": "execute_result"
    }
   ],
   "source": [
    "hi"
   ]
  },
  {
   "cell_type": "code",
   "execution_count": 12,
   "id": "705d1ecd",
   "metadata": {},
   "outputs": [
    {
     "data": {
      "text/plain": [
       "array([-0.39743495,  0.46783552, -0.31796391,  0.69103874,  0.36670392,\n",
       "        0.35012933,  1.20996316,  0.98350006,  1.99319214, -0.50778962])"
      ]
     },
     "execution_count": 12,
     "metadata": {},
     "output_type": "execute_result"
    }
   ],
   "source": [
    "np.flip(hi)"
   ]
  },
  {
   "cell_type": "code",
   "execution_count": 28,
   "id": "42620f73",
   "metadata": {},
   "outputs": [],
   "source": [
    "hi = np.random.randn(2,2)"
   ]
  },
  {
   "cell_type": "code",
   "execution_count": 29,
   "id": "8a2efcad",
   "metadata": {},
   "outputs": [
    {
     "data": {
      "text/plain": [
       "array([[-4.64911938e-04, -1.93186553e+00],\n",
       "       [-1.67901790e+00,  6.31876058e-01]])"
      ]
     },
     "execution_count": 29,
     "metadata": {},
     "output_type": "execute_result"
    }
   ],
   "source": [
    "hi"
   ]
  },
  {
   "cell_type": "code",
   "execution_count": 30,
   "id": "81275afb",
   "metadata": {},
   "outputs": [
    {
     "data": {
      "text/plain": [
       "array([[ 6.31876058e-01, -1.67901790e+00],\n",
       "       [-1.93186553e+00, -4.64911938e-04]])"
      ]
     },
     "execution_count": 30,
     "metadata": {},
     "output_type": "execute_result"
    }
   ],
   "source": [
    "np.flip(hi)"
   ]
  },
  {
   "cell_type": "code",
   "execution_count": 31,
   "id": "ffb2fda2",
   "metadata": {},
   "outputs": [],
   "source": [
    "hitorch = torch.from_numpy(hi)"
   ]
  },
  {
   "cell_type": "code",
   "execution_count": 32,
   "id": "24a427a3",
   "metadata": {},
   "outputs": [
    {
     "data": {
      "text/plain": [
       "tensor([[-4.6491e-04, -1.9319e+00],\n",
       "        [-1.6790e+00,  6.3188e-01]], dtype=torch.float64)"
      ]
     },
     "execution_count": 32,
     "metadata": {},
     "output_type": "execute_result"
    }
   ],
   "source": [
    "hitorch"
   ]
  },
  {
   "cell_type": "code",
   "execution_count": 36,
   "id": "2e1be2a9",
   "metadata": {},
   "outputs": [],
   "source": [
    "hiflip = torch.flip(hitorch, [0, 1])"
   ]
  },
  {
   "cell_type": "code",
   "execution_count": 39,
   "id": "0442c9a3",
   "metadata": {},
   "outputs": [
    {
     "data": {
      "text/plain": [
       "tensor([[ 6.3188e-01, -1.6790e+00],\n",
       "        [-1.9319e+00, -4.6491e-04]], dtype=torch.float64)"
      ]
     },
     "execution_count": 39,
     "metadata": {},
     "output_type": "execute_result"
    }
   ],
   "source": [
    "hiflip"
   ]
  },
  {
   "cell_type": "code",
   "execution_count": 38,
   "id": "fbfacbd3",
   "metadata": {},
   "outputs": [
    {
     "data": {
      "text/plain": [
       "tensor([[-4.6491e-04, -1.9319e+00],\n",
       "        [-1.6790e+00,  6.3188e-01],\n",
       "        [ 6.3188e-01, -1.6790e+00],\n",
       "        [-1.9319e+00, -4.6491e-04]], dtype=torch.float64)"
      ]
     },
     "execution_count": 38,
     "metadata": {},
     "output_type": "execute_result"
    }
   ],
   "source": [
    "torch.cat((hitorch, hiflip))"
   ]
  },
  {
   "cell_type": "code",
   "execution_count": 40,
   "id": "83269c26",
   "metadata": {},
   "outputs": [],
   "source": [
    "hi = np.random.randn(10)"
   ]
  },
  {
   "cell_type": "code",
   "execution_count": 44,
   "id": "451d0028",
   "metadata": {},
   "outputs": [
    {
     "data": {
      "text/plain": [
       "tensor([ 0.0767, -0.3316,  0.4066, -2.1075, -1.0412, -1.1955,  1.0281,  1.4729,\n",
       "        -0.1998,  1.6925], dtype=torch.float64)"
      ]
     },
     "execution_count": 44,
     "metadata": {},
     "output_type": "execute_result"
    }
   ],
   "source": [
    "torch.from_numpy(hi)"
   ]
  },
  {
   "cell_type": "code",
   "execution_count": 42,
   "id": "4c961c66",
   "metadata": {},
   "outputs": [
    {
     "data": {
      "text/plain": [
       "tensor([ 1.6925, -0.1998,  1.4729,  1.0281, -1.1955, -1.0412, -2.1075,  0.4066,\n",
       "        -0.3316,  0.0767], dtype=torch.float64)"
      ]
     },
     "execution_count": 42,
     "metadata": {},
     "output_type": "execute_result"
    }
   ],
   "source": [
    "torch.flip(torch.from_numpy(hi), [0])"
   ]
  },
  {
   "cell_type": "code",
   "execution_count": 46,
   "id": "64a5e0c6",
   "metadata": {},
   "outputs": [
    {
     "data": {
      "text/plain": [
       "array([0., 0., 0., 1., 0., 1., 0., 1., 1., 0.])"
      ]
     },
     "execution_count": 46,
     "metadata": {},
     "output_type": "execute_result"
    }
   ],
   "source": [
    "np.round(np.random.rand(10),0)"
   ]
  },
  {
   "cell_type": "code",
   "execution_count": null,
   "id": "4cedefbe",
   "metadata": {},
   "outputs": [],
   "source": []
  }
 ],
 "metadata": {
  "kernelspec": {
   "display_name": "pytorch",
   "language": "python",
   "name": "pytorch"
  },
  "language_info": {
   "codemirror_mode": {
    "name": "ipython",
    "version": 3
   },
   "file_extension": ".py",
   "mimetype": "text/x-python",
   "name": "python",
   "nbconvert_exporter": "python",
   "pygments_lexer": "ipython3",
   "version": "3.6.12"
  }
 },
 "nbformat": 4,
 "nbformat_minor": 5
}
