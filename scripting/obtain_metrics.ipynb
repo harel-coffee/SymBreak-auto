{
 "cells": [
  {
   "cell_type": "code",
   "execution_count": 27,
   "id": "16d76d90",
   "metadata": {},
   "outputs": [
    {
     "data": {
      "text/plain": [
       "34483"
      ]
     },
     "execution_count": 27,
     "metadata": {},
     "output_type": "execute_result"
    }
   ],
   "source": [
    "from PIL import Image\n",
    "import matplotlib.pyplot as plt\n",
    "import numpy as np\n",
    "import pandas as pd\n",
    "from scipy.spatial.distance import cdist\n",
    "from scipy import ndimage, misc\n",
    "import cv2\n",
    "from skimage.morphology import skeletonize\n",
    "from fil_finder import FilFinder2D\n",
    "import astropy.units as u\n",
    "import gc\n",
    "import sklearn.metrics\n",
    "import timeit\n",
    "from scipy.interpolate import CubicSpline\n",
    "gc.collect()\n"
   ]
  },
  {
   "cell_type": "code",
   "execution_count": 28,
   "id": "35042f14",
   "metadata": {},
   "outputs": [],
   "source": [
    "img =cv2.imread('BMS-tile DAPI annotated eroded.tif') #segmented and eroded image\n",
    "img_gene1=cv2.imread('BMS-tile_gene1.tif') #image of CDX2 gene expression\n",
    "img_gene2=cv2.imread('BMS-tile_gene2.tif') #image of SOX1 gene expression"
   ]
  },
  {
   "cell_type": "code",
   "execution_count": 42,
   "id": "5da2357e",
   "metadata": {},
   "outputs": [],
   "source": [
    "def get_intersection(hey,initial_pos,epsilon,contour): #function that finds the intersection points and also returns sides of region(normal line)\n",
    "    x_vec=hey[:,0]\n",
    "    y_vec=hey[:,1]\n",
    "    fit=np.polyfit(x=x_vec[initial_pos-epsilon:initial_pos+epsilon], y=y_vec[initial_pos-epsilon:initial_pos+epsilon], deg=1)\n",
    "    m_normal=-1/fit[0]\n",
    "    b_normal=y_vec[initial_pos]-(m_normal*x_vec[initial_pos])\n",
    "        \n",
    "    if abs(m_normal)>1000:\n",
    "        y_list=np.linspace(y_vec[initial_pos]-100,y_vec[initial_pos]+100,100000)\n",
    "        x_list=np.repeat(x_vec[initial_pos], np.shape(y_list)[0])\n",
    "        y_list = [int(x) for x in y_list]\n",
    "        x_list=[int(x) for x in x_list]\n",
    "    else:\n",
    "        x_list=np.linspace(x_vec[initial_pos]-100,x_vec[initial_pos]+100,100000)\n",
    "        y_list=m_normal*x_list+b_normal\n",
    "        y_list = [int(x) for x in y_list]\n",
    "        x_list=[int(x) for x in x_list]\n",
    "    coord_list=list(zip(y_list, x_list))\n",
    "    arr2_2=np.array(coord_list)\n",
    "    arr1=np.squeeze(contour)\n",
    "    for hh in range(np.shape(arr2_2)[0]-1):\n",
    "        if arr2_2[hh+1,0]==arr2_2[hh,0]+1 and arr2_2[hh+1,1]==arr2_2[hh,1]+1:\n",
    "            temp=np.append(arr2_2[0:hh+1,:],[arr2_2[hh,:]+[1,0]],axis=0)\n",
    "            arr2_2=np.append(temp,arr2_2[hh+1:],axis=0)\n",
    "        if arr2_2[hh+1,0]==arr2_2[hh,0]-1 and arr2_2[hh+1,1]==arr2_2[hh,1]+1:\n",
    "            temp=np.append(arr2_2[0:hh+1,:],[arr2_2[hh,:]-[1,0]],axis=0)\n",
    "            arr2_2=np.append(temp,arr2_2[hh+1:],axis=0)\n",
    "        \n",
    "    intersection=np.array([x for x in set(tuple(x) for x in arr2_2) & set(tuple(x) for x in arr1)])\n",
    "    if np.shape(intersection)[0]<2:\n",
    "        arr1=np.concatenate((arr1,arr1+1),axis=0)\n",
    "        intersection=np.array([x for x in set(tuple(x) for x in arr2_2) & set(tuple(x) for x in arr1)])\n",
    "    if np.shape(intersection)[0]>2: #fix this make more general\n",
    "        dist_1=sklearn.metrics.pairwise_distances(intersection)\n",
    "        np.fill_diagonal(dist_1, 100)\n",
    "        dist_1=np.tril(dist_1, k=0)\n",
    "        dist_1[dist_1==0]=100\n",
    "        a=np.where(dist_1<5)\n",
    "        mid_point=np.delete(intersection, a[0][:],0)\n",
    "        intersection=mid_point\n",
    "        if np.shape(mid_point)[0]>2:\n",
    "            repe=np.repeat([[y_vec[initial_pos],x_vec[initial_pos]]],np.shape(mid_point)[0], axis=0)\n",
    "            dist=np.sqrt((mid_point[:,0]-repe[:,0])**2+(mid_point[:,1]-repe[:,1])**2)\n",
    "            mins=np.partition(dist,2)[0:2]\n",
    "            min_id1=np.where(dist==mins[0])\n",
    "            min_id2=np.where(dist==mins[1])\n",
    "            intersection=mid_point[[min_id1[0][0],min_id2[0][0]],:]\n",
    "        \n",
    "    id1=np.where((arr2_2[:,1]==intersection[0,1]) & (arr2_2[:,0]==intersection[0,0]))\n",
    "    id2=np.where((arr2_2[:,1]==intersection[1,1]) & (arr2_2[:,0]==intersection[1,0]))\n",
    "    id_min=np.min([id1[0][0],id2[0][0]])\n",
    "    id_max=np.max([id1[0][0],id2[0][0]])\n",
    "    side=coord_list[id_min:id_max]\n",
    "    \n",
    "    edge1=np.where((arr1[:,1]==intersection[0,1]) & (arr1[:,0]==intersection[0,0]))\n",
    "    edge2=np.where((arr1[:,1]==intersection[1,1]) & (arr1[:,0]==intersection[1,0]))\n",
    "    \n",
    "    return side, edge1, edge2, arr1"
   ]
  },
  {
   "cell_type": "code",
   "execution_count": 87,
   "id": "5fb61008",
   "metadata": {},
   "outputs": [],
   "source": [
    "def get_gene_dipole(hey,contour,epsilon,img_gene1,img_gene2): #function that separates organoids into sections and returns gene dipole\n",
    "    jj=0\n",
    "    \n",
    "    #n_segments=20 #number of segments\n",
    "    #epsilon=np.shape(hey)[0]//n_segments\n",
    "    \n",
    "    epsilon=epsilon\n",
    "    n_segments=np.shape(hey)[0]//epsilon\n",
    "    initial_pos=epsilon\n",
    "    gene1=np.empty([1,0])\n",
    "    gene2=np.empty([1,0])\n",
    "    position=np.empty([1,0])\n",
    "    \n",
    "    # if organoid only has two section aka small skeleton\n",
    "    if initial_pos+epsilon>(np.shape(hey)[0]):\n",
    "        mid_point=np.shape(hey)[0]//2\n",
    "        eps=mid_point-1\n",
    "        side1, edge1, edge2, arr1 = get_intersection(hey,mid_point,eps,contour)\n",
    "        edges=np.sort([edge1[0][0],edge2[0][0]])\n",
    "        #first half\n",
    "        if edges[0]==edges[1]:\n",
    "            edges[1]=edges[1]+1\n",
    "        \n",
    "        line1=arr1[edges[0]:edges[1]]\n",
    "    \n",
    "        if np.sum(line1[0,:]-line1[-1,:]) <0:\n",
    "            line1=np.flip(line1,0)\n",
    "        region_cont=np.concatenate((line1,side1))\n",
    "        im_zer = np.zeros( (img.shape[0],img.shape[1]) ) # create a single channel 200x200 pixel black image \n",
    "        filled_array = cv2.fillPoly(im_zer, pts =[region_cont], color=(255))\n",
    "\n",
    "        region = np.argwhere(filled_array == 255)\n",
    "        #plt.plot(region[:,0],region[:,1],'bo')\n",
    "        \n",
    "        segment=np.squeeze(img_gene1[:,:,0])*filled_array\n",
    "        segment[segment == 0] = np.nan\n",
    "        gene1=np.append(gene1, np.nanmean(segment)/255)\n",
    "        segment=np.squeeze(img_gene2[:,:,0])*filled_array\n",
    "        segment[segment == 0] = np.nan\n",
    "        gene2=np.append(gene2, np.nanmean(segment)/255)\n",
    "        position=np.append(position, mid_point-eps/2)\n",
    "        \n",
    "         \n",
    "    \n",
    "        # second half\n",
    "        if edges[0]==edges[1]:\n",
    "            edges[1]=edges[1]+1\n",
    "        \n",
    "        line1=np.concatenate((arr1[edges[1]:-1],arr1[0:edges[0]]))\n",
    "    \n",
    "        if np.sum(line1[0,:]-line1[-1,:]) <0:\n",
    "            line1=np.flip(line1,0)\n",
    "        region_cont=np.concatenate((line1,side1))\n",
    "        im_zer = np.zeros( (img.shape[0],img.shape[1]) ) # create a single channel 200x200 pixel black image \n",
    "        filled_array = cv2.fillPoly(im_zer, pts =[region_cont], color=(255))\n",
    "\n",
    "        region = np.argwhere(filled_array == 255)\n",
    "        \n",
    "        region = np.argwhere(filled_array == 255)\n",
    "        #plt.plot(region[:,0],region[:,1],'ro')\n",
    "        #plt.show()\n",
    "        segment=np.squeeze(img_gene1[:,:,0])*filled_array\n",
    "        segment[segment == 0] = np.nan\n",
    "        gene1=np.append(gene1, np.nanmean(segment)/255)\n",
    "        segment=np.squeeze(img_gene2[:,:,0])*filled_array\n",
    "        segment[segment == 0] = np.nan\n",
    "        gene2=np.append(gene2, np.nanmean(segment)/255)\n",
    "        position=np.append(position, mid_point+eps/2)\n",
    "       \n",
    "         \n",
    "        if np.shape(gene1)[0]==1:\n",
    "            area_red=gene1[0]\n",
    "            area_blue=gene2[0]\n",
    "        else:\n",
    "            area_red = np.trapz(gene1/np.max(gene1), dx=position[1]-position[0])\n",
    "            area_blue = np.trapz(gene2/np.max(gene1), dx=position[1]-position[0])\n",
    "        \n",
    "        dipole=area_red/(area_red+area_blue)\n",
    "    \n",
    "    \n",
    "    #long skeleton organoid\n",
    "    n=0\n",
    "    while (initial_pos+epsilon)<(np.shape(hey)[0]): #iterate through every point on skeleton to get normal lines\n",
    "        #first section (fix path,sometimes wrong, take shortest path?)\n",
    "        if n==0:\n",
    "            mid_point=initial_pos\n",
    "            eps=epsilon\n",
    "            side1, edge1, edge2, arr1 = get_intersection(hey,mid_point,eps,contour)\n",
    "            edges=np.sort([edge1[0][0],edge2[0][0]])\n",
    "            \n",
    "            if edges[0]==edges[1]:\n",
    "                edges[1]=edges[1]+1\n",
    "        \n",
    "            #line1=arr1[edges[0]:edges[1]]\n",
    "            path1=np.concatenate((arr1[edges[1]:-1],arr1[0:edges[0]]))\n",
    "            path2=arr1[edges[0]:edges[1]]\n",
    "            if np.shape(path1)[0]>np.shape(path2)[0]:\n",
    "                line1=path2\n",
    "            else:\n",
    "                line1=path1\n",
    "            \n",
    "            if np.sum(line1[0,:]-line1[-1,:]) <0:\n",
    "                line1=np.flip(line1,0)\n",
    "            region_cont=np.concatenate((line1,side1))\n",
    "            im_zer = np.zeros( (img.shape[0],img.shape[1]) ) # create a single channel 200x200 pixel black image \n",
    "            filled_array = cv2.fillPoly(im_zer, pts =[region_cont], color=(255))\n",
    "\n",
    "            region = np.argwhere(filled_array == 255)\n",
    "            #plt.plot(region[:,0],region[:,1],'go')\n",
    "            \n",
    "            segment=np.squeeze(img_gene1[:,:,0])*filled_array\n",
    "            segment[segment == 0] = np.nan\n",
    "            gene1=np.append(gene1, np.nanmean(segment)/255)\n",
    "            segment=np.squeeze(img_gene2[:,:,0])*filled_array\n",
    "            segment[segment == 0] = np.nan\n",
    "            gene2=np.append(gene2, np.nanmean(segment)/255)\n",
    "            position=np.append(position, mid_point-eps/2)  \n",
    "            \n",
    "        \n",
    "        n=n+1\n",
    "        side1, edge1, edge2, arr1 = get_intersection(hey,initial_pos,epsilon,contour)\n",
    "        #edge_min_1=np.min([edge1,edge2])\n",
    "        #edge_max_2=np.max([edge1,edge2])\n",
    "    \n",
    "        \n",
    "        \n",
    "        \n",
    "        initial_pos=initial_pos+epsilon\n",
    "        \n",
    "        \n",
    "        side2, edge3, edge4, arr1 = get_intersection(hey,initial_pos,epsilon,contour)\n",
    "        #edge_min_3=np.min([edge3,edge4])\n",
    "        #edge_max_4=np.max([edge3,edge4])\n",
    "        edges=np.sort([edge1[0][0],edge2[0][0],edge3[0][0],edge4[0][0]])\n",
    "        if edges[0]==edges[1]:\n",
    "            edges[1]=edges[1]+1\n",
    "        if edges[2]==edges[3]:\n",
    "            edges[3]=edges[3]+1\n",
    "        line1=arr1[edges[0]:edges[1]]\n",
    "        line2=arr1[edges[2]:edges[3]]\n",
    "        if np.sum(line1[0,:]-line1[-1,:]) <0:\n",
    "            line1=np.flip(line1,0)\n",
    "        if np.sum(line2[0,:]-line2[-1,:]) >0:\n",
    "            line2=np.flip(line2,0)\n",
    "        side2=np.flip(side2,0)\n",
    "        region_cont=np.concatenate((line1,side1,line2,side2))\n",
    "        side_cross=np.array([x for x in set(tuple(x) for x in side1) & set(tuple(x) for x in side2)])\n",
    "        if np.shape(side_cross)[0]>0:\n",
    "            line1=np.flip(line1,0)\n",
    "            line2=np.flip(line2,0)\n",
    "        im_zer = np.zeros( (img.shape[0],img.shape[1]) ) # create a single channel 200x200 pixel black image \n",
    "        filled_array = cv2.fillPoly(im_zer, pts =[region_cont], color=(255))\n",
    "\n",
    "        region = np.argwhere(filled_array == 255)\n",
    "        segment=np.squeeze(img_gene1[:,:,0])*filled_array\n",
    "        segment[segment == 0] = np.nan\n",
    "        gene1=np.append(gene1, np.nanmean(segment)/255)\n",
    "        segment=np.squeeze(img_gene2[:,:,0])*filled_array\n",
    "        segment[segment == 0] = np.nan\n",
    "        gene2=np.append(gene2, np.nanmean(segment)/255)\n",
    "        position=np.append(position, initial_pos-epsilon/2)\n",
    "        initial_pos=initial_pos\n",
    "        #last section\n",
    "        if n==n_segments-1:\n",
    "            mid_point=initial_pos-epsilon//4\n",
    "            eps=epsilon//4\n",
    "            side1, edge1, edge2, arr1 = get_intersection(hey,mid_point,eps,contour)\n",
    "            edges=np.sort([edge1[0][0],edge2[0][0]])\n",
    "            \n",
    "            if edges[0]==edges[1]:\n",
    "                edges[1]=edges[1]+1\n",
    "        \n",
    "            path1=np.concatenate((arr1[edges[1]:-1],arr1[0:edges[0]]))\n",
    "            path2=arr1[edges[0]:edges[1]]\n",
    "            if np.shape(path2)[0]>np.shape(path1)[0]:\n",
    "                line1=path1\n",
    "            else:\n",
    "                line1=path2\n",
    "    \n",
    "            if np.sum(line1[0,:]-line1[-1,:]) <0:\n",
    "                line1=np.flip(line1,0)\n",
    "            region_cont=np.concatenate((line1,side1))\n",
    "            im_zer = np.zeros( (img.shape[0],img.shape[1]) ) # create a single channel 200x200 pixel black image \n",
    "            filled_array = cv2.fillPoly(im_zer, pts =[region_cont], color=(255))\n",
    "\n",
    "            region = np.argwhere(filled_array == 255)\n",
    "           # plt.plot(region[:,0],region[:,1],'ro')\n",
    "            #plt.show()\n",
    "            segment=np.squeeze(img_gene1[:,:,0])*filled_array\n",
    "            segment[segment == 0] = np.nan\n",
    "            gene1=np.append(gene1, np.nanmean(segment)/255)\n",
    "            segment=np.squeeze(img_gene2[:,:,0])*filled_array\n",
    "            segment[segment == 0] = np.nan\n",
    "            gene2=np.append(gene2, np.nanmean(segment)/255)\n",
    "            position=np.append(position, mid_point-eps/2)\n",
    "             \n",
    "    \n",
    "    #gene_1_mean=np.mean(np.squeeze(img_gene1[:,:,0]))/np.max(gene1)\n",
    "    #gene_2_mean=np.mean(np.squeeze(img_gene2[:,:,0]))/np.max(gene2)\n",
    "    \n",
    "   # print(dip_1)\n",
    "    #print(dip_2)\n",
    "    if np.shape(gene1)[0]==1:\n",
    "        dip_1=0\n",
    "        dip_2=0    \n",
    "        dipole=np.abs(np.sum(dip_1)-np.sum(dip_2))/(np.shape(hey)[0]/2)\n",
    "    else:\n",
    "        area_red = np.trapz(gene1/np.max(gene1), dx=position[1]-position[0])\n",
    "        area_blue = np.trapz(gene2/np.max(gene1), dx=position[1]-position[0])\n",
    "        dip_1=gene1/np.max(gene1)*(position-np.shape(hey)[0]/2)\n",
    "        dip_2=gene2/np.max(gene2)*(position-np.shape(hey)[0]/2)    \n",
    "        dipole=np.abs(np.sum(dip_1)-np.sum(dip_2))/(np.shape(hey)[0]/2)#area_red/(area_red+area_blue)#np.abs(gene_1_mean*r_1-gene_2_mean*r_2)/np.abs(r_1-r_2)#\n",
    "    #yp=np.linspace(0, 1, 1000)\n",
    "    #plt.plot(position, gene1/np.max(gene1),'r.')\n",
    "    #plt.plot(position, gene2/np.max(gene2),'b.')\n",
    "    #plt.plot(yp,fit_1(yp),'r--')\n",
    "    #plt.plot(yp,fit_2(yp),'b--')\n",
    "    #plt.axis([0, position[-1]+50, 0, 1])\n",
    "    #plt.show()\n",
    "    if dipole.size == 0:\n",
    "        dipole=0\n",
    "    return dipole"
   ]
  },
  {
   "cell_type": "code",
   "execution_count": 88,
   "id": "51b22032",
   "metadata": {
    "scrolled": true
   },
   "outputs": [
    {
     "name": "stderr",
     "output_type": "stream",
     "text": [
      "C:\\Users\\heito\\anaconda3\\lib\\site-packages\\numpy\\core\\_asarray.py:102: VisibleDeprecationWarning: Creating an ndarray from ragged nested sequences (which is a list-or-tuple of lists-or-tuples-or ndarrays with different lengths or shapes) is deprecated. If you meant to do this, you must specify 'dtype=object' when creating the ndarray.\n",
      "  return array(a, dtype, copy=False, order=order)\n"
     ]
    },
    {
     "name": "stdout",
     "output_type": "stream",
     "text": [
      "dipole gene= 0.11886289621929128\n",
      "elongation= 137\n",
      "aspect ratio= 0.6376811594202898\n",
      "centroid= [5985 1971]\n"
     ]
    },
    {
     "name": "stderr",
     "output_type": "stream",
     "text": [
      "C:\\Users\\heito\\anaconda3\\lib\\site-packages\\fil_finder\\filfinder2D.py:138: UserWarning: No beam width given. Using 0 pixels.\n",
      "  warnings.warn(\"No beam width given. Using 0 pixels.\")\n",
      "C:\\Users\\heito\\anaconda3\\lib\\site-packages\\astropy\\units\\quantity.py:479: RuntimeWarning: divide by zero encountered in true_divide\n",
      "  result = super().__array_ufunc__(function, method, *arrays, **kwargs)\n",
      "C:\\Users\\heito\\anaconda3\\lib\\site-packages\\astropy\\units\\quantity.py:479: RuntimeWarning: invalid value encountered in true_divide\n",
      "  result = super().__array_ufunc__(function, method, *arrays, **kwargs)\n",
      "C:\\Users\\heito\\anaconda3\\lib\\site-packages\\fil_finder\\filfinder2D.py:288: UserWarning: Using inputted mask. Skipping creation of anew mask.\n",
      "  warnings.warn(\"Using inputted mask. Skipping creation of a\"\n",
      "C:\\Users\\heito\\anaconda3\\lib\\site-packages\\fil_finder\\filament.py:326: UserWarning: Graph pruning reached max iterations.\n",
      "  warnings.warn(\"Graph pruning reached max iterations.\")\n"
     ]
    },
    {
     "name": "stdout",
     "output_type": "stream",
     "text": [
      "dipole gene= 1.025393700124519\n",
      "elongation= 222\n",
      "aspect ratio= 0.36917562724014336\n",
      "centroid= [5790 1609]\n",
      "dipole gene= 3.039070558003641\n",
      "elongation= 300\n",
      "aspect ratio= 0.4098360655737705\n",
      "centroid= [5821 1886]\n"
     ]
    },
    {
     "name": "stderr",
     "output_type": "stream",
     "text": [
      "C:\\Users\\heito\\anaconda3\\lib\\site-packages\\fil_finder\\filfinder2D.py:138: UserWarning: No beam width given. Using 0 pixels.\n",
      "  warnings.warn(\"No beam width given. Using 0 pixels.\")\n",
      "C:\\Users\\heito\\anaconda3\\lib\\site-packages\\astropy\\units\\quantity.py:479: RuntimeWarning: divide by zero encountered in true_divide\n",
      "  result = super().__array_ufunc__(function, method, *arrays, **kwargs)\n",
      "C:\\Users\\heito\\anaconda3\\lib\\site-packages\\astropy\\units\\quantity.py:479: RuntimeWarning: invalid value encountered in true_divide\n",
      "  result = super().__array_ufunc__(function, method, *arrays, **kwargs)\n",
      "C:\\Users\\heito\\anaconda3\\lib\\site-packages\\fil_finder\\filfinder2D.py:288: UserWarning: Using inputted mask. Skipping creation of anew mask.\n",
      "  warnings.warn(\"Using inputted mask. Skipping creation of a\"\n",
      "C:\\Users\\heito\\anaconda3\\lib\\site-packages\\fil_finder\\filament.py:326: UserWarning: Graph pruning reached max iterations.\n",
      "  warnings.warn(\"Graph pruning reached max iterations.\")\n"
     ]
    },
    {
     "name": "stdout",
     "output_type": "stream",
     "text": [
      "dipole gene= 3.822026940846741\n",
      "elongation= 298\n",
      "aspect ratio= 0.34472934472934474\n",
      "centroid= [5769 2206]\n"
     ]
    },
    {
     "name": "stderr",
     "output_type": "stream",
     "text": [
      "C:\\Users\\heito\\anaconda3\\lib\\site-packages\\fil_finder\\filfinder2D.py:138: UserWarning: No beam width given. Using 0 pixels.\n",
      "  warnings.warn(\"No beam width given. Using 0 pixels.\")\n",
      "C:\\Users\\heito\\anaconda3\\lib\\site-packages\\astropy\\units\\quantity.py:479: RuntimeWarning: divide by zero encountered in true_divide\n",
      "  result = super().__array_ufunc__(function, method, *arrays, **kwargs)\n",
      "C:\\Users\\heito\\anaconda3\\lib\\site-packages\\astropy\\units\\quantity.py:479: RuntimeWarning: invalid value encountered in true_divide\n",
      "  result = super().__array_ufunc__(function, method, *arrays, **kwargs)\n",
      "C:\\Users\\heito\\anaconda3\\lib\\site-packages\\fil_finder\\filfinder2D.py:288: UserWarning: Using inputted mask. Skipping creation of anew mask.\n",
      "  warnings.warn(\"Using inputted mask. Skipping creation of a\"\n",
      "C:\\Users\\heito\\anaconda3\\lib\\site-packages\\fil_finder\\filament.py:326: UserWarning: Graph pruning reached max iterations.\n",
      "  warnings.warn(\"Graph pruning reached max iterations.\")\n"
     ]
    },
    {
     "name": "stdout",
     "output_type": "stream",
     "text": [
      "dipole gene= 4.1939925274016545\n",
      "elongation= 263\n",
      "aspect ratio= 0.4290322580645161\n",
      "centroid= [5747 3140]\n"
     ]
    },
    {
     "name": "stderr",
     "output_type": "stream",
     "text": [
      "C:\\Users\\heito\\anaconda3\\lib\\site-packages\\fil_finder\\filfinder2D.py:138: UserWarning: No beam width given. Using 0 pixels.\n",
      "  warnings.warn(\"No beam width given. Using 0 pixels.\")\n",
      "C:\\Users\\heito\\anaconda3\\lib\\site-packages\\astropy\\units\\quantity.py:479: RuntimeWarning: divide by zero encountered in true_divide\n",
      "  result = super().__array_ufunc__(function, method, *arrays, **kwargs)\n",
      "C:\\Users\\heito\\anaconda3\\lib\\site-packages\\astropy\\units\\quantity.py:479: RuntimeWarning: invalid value encountered in true_divide\n",
      "  result = super().__array_ufunc__(function, method, *arrays, **kwargs)\n",
      "C:\\Users\\heito\\anaconda3\\lib\\site-packages\\fil_finder\\filfinder2D.py:288: UserWarning: Using inputted mask. Skipping creation of anew mask.\n",
      "  warnings.warn(\"Using inputted mask. Skipping creation of a\"\n",
      "C:\\Users\\heito\\anaconda3\\lib\\site-packages\\fil_finder\\filament.py:326: UserWarning: Graph pruning reached max iterations.\n",
      "  warnings.warn(\"Graph pruning reached max iterations.\")\n"
     ]
    },
    {
     "name": "stdout",
     "output_type": "stream",
     "text": [
      "dipole gene= 3.32654929635648\n",
      "elongation= 235\n",
      "aspect ratio= 0.5119453924914675\n",
      "centroid= [5724 2616]\n"
     ]
    },
    {
     "name": "stderr",
     "output_type": "stream",
     "text": [
      "C:\\Users\\heito\\anaconda3\\lib\\site-packages\\fil_finder\\filfinder2D.py:138: UserWarning: No beam width given. Using 0 pixels.\n",
      "  warnings.warn(\"No beam width given. Using 0 pixels.\")\n",
      "C:\\Users\\heito\\anaconda3\\lib\\site-packages\\astropy\\units\\quantity.py:479: RuntimeWarning: divide by zero encountered in true_divide\n",
      "  result = super().__array_ufunc__(function, method, *arrays, **kwargs)\n",
      "C:\\Users\\heito\\anaconda3\\lib\\site-packages\\astropy\\units\\quantity.py:479: RuntimeWarning: invalid value encountered in true_divide\n",
      "  result = super().__array_ufunc__(function, method, *arrays, **kwargs)\n",
      "C:\\Users\\heito\\anaconda3\\lib\\site-packages\\fil_finder\\filfinder2D.py:288: UserWarning: Using inputted mask. Skipping creation of anew mask.\n",
      "  warnings.warn(\"Using inputted mask. Skipping creation of a\"\n",
      "C:\\Users\\heito\\anaconda3\\lib\\site-packages\\fil_finder\\filament.py:326: UserWarning: Graph pruning reached max iterations.\n",
      "  warnings.warn(\"Graph pruning reached max iterations.\")\n"
     ]
    },
    {
     "name": "stdout",
     "output_type": "stream",
     "text": [
      "dipole gene= 3.6986921010643825\n",
      "elongation= 227\n",
      "aspect ratio= 0.5359712230215827\n",
      "centroid= [5723 3424]\n"
     ]
    },
    {
     "name": "stderr",
     "output_type": "stream",
     "text": [
      "C:\\Users\\heito\\anaconda3\\lib\\site-packages\\fil_finder\\filfinder2D.py:138: UserWarning: No beam width given. Using 0 pixels.\n",
      "  warnings.warn(\"No beam width given. Using 0 pixels.\")\n",
      "C:\\Users\\heito\\anaconda3\\lib\\site-packages\\astropy\\units\\quantity.py:479: RuntimeWarning: divide by zero encountered in true_divide\n",
      "  result = super().__array_ufunc__(function, method, *arrays, **kwargs)\n",
      "C:\\Users\\heito\\anaconda3\\lib\\site-packages\\astropy\\units\\quantity.py:479: RuntimeWarning: invalid value encountered in true_divide\n",
      "  result = super().__array_ufunc__(function, method, *arrays, **kwargs)\n",
      "C:\\Users\\heito\\anaconda3\\lib\\site-packages\\fil_finder\\filfinder2D.py:288: UserWarning: Using inputted mask. Skipping creation of anew mask.\n",
      "  warnings.warn(\"Using inputted mask. Skipping creation of a\"\n",
      "C:\\Users\\heito\\anaconda3\\lib\\site-packages\\fil_finder\\filament.py:326: UserWarning: Graph pruning reached max iterations.\n",
      "  warnings.warn(\"Graph pruning reached max iterations.\")\n"
     ]
    },
    {
     "name": "stdout",
     "output_type": "stream",
     "text": [
      "dipole gene= 3.811485583654031\n",
      "elongation= 249\n",
      "aspect ratio= 0.5117845117845118\n",
      "centroid= [5716 2908]\n"
     ]
    },
    {
     "name": "stderr",
     "output_type": "stream",
     "text": [
      "C:\\Users\\heito\\anaconda3\\lib\\site-packages\\fil_finder\\filfinder2D.py:138: UserWarning: No beam width given. Using 0 pixels.\n",
      "  warnings.warn(\"No beam width given. Using 0 pixels.\")\n",
      "C:\\Users\\heito\\anaconda3\\lib\\site-packages\\astropy\\units\\quantity.py:479: RuntimeWarning: divide by zero encountered in true_divide\n",
      "  result = super().__array_ufunc__(function, method, *arrays, **kwargs)\n",
      "C:\\Users\\heito\\anaconda3\\lib\\site-packages\\astropy\\units\\quantity.py:479: RuntimeWarning: invalid value encountered in true_divide\n",
      "  result = super().__array_ufunc__(function, method, *arrays, **kwargs)\n",
      "C:\\Users\\heito\\anaconda3\\lib\\site-packages\\fil_finder\\filfinder2D.py:288: UserWarning: Using inputted mask. Skipping creation of anew mask.\n",
      "  warnings.warn(\"Using inputted mask. Skipping creation of a\"\n",
      "C:\\Users\\heito\\anaconda3\\lib\\site-packages\\fil_finder\\filament.py:326: UserWarning: Graph pruning reached max iterations.\n",
      "  warnings.warn(\"Graph pruning reached max iterations.\")\n"
     ]
    },
    {
     "name": "stdout",
     "output_type": "stream",
     "text": [
      "dipole gene= 5.611944744919745\n",
      "elongation= 343\n",
      "aspect ratio= 0.610738255033557\n",
      "centroid= [5729 3725]\n"
     ]
    },
    {
     "name": "stderr",
     "output_type": "stream",
     "text": [
      "C:\\Users\\heito\\anaconda3\\lib\\site-packages\\fil_finder\\filfinder2D.py:138: UserWarning: No beam width given. Using 0 pixels.\n",
      "  warnings.warn(\"No beam width given. Using 0 pixels.\")\n",
      "C:\\Users\\heito\\anaconda3\\lib\\site-packages\\astropy\\units\\quantity.py:479: RuntimeWarning: divide by zero encountered in true_divide\n",
      "  result = super().__array_ufunc__(function, method, *arrays, **kwargs)\n",
      "C:\\Users\\heito\\anaconda3\\lib\\site-packages\\astropy\\units\\quantity.py:479: RuntimeWarning: invalid value encountered in true_divide\n",
      "  result = super().__array_ufunc__(function, method, *arrays, **kwargs)\n",
      "C:\\Users\\heito\\anaconda3\\lib\\site-packages\\fil_finder\\filfinder2D.py:288: UserWarning: Using inputted mask. Skipping creation of anew mask.\n",
      "  warnings.warn(\"Using inputted mask. Skipping creation of a\"\n",
      "C:\\Users\\heito\\anaconda3\\lib\\site-packages\\fil_finder\\filament.py:326: UserWarning: Graph pruning reached max iterations.\n",
      "  warnings.warn(\"Graph pruning reached max iterations.\")\n"
     ]
    },
    {
     "name": "stdout",
     "output_type": "stream",
     "text": [
      "dipole gene= 6.339270500176332\n",
      "elongation= 364\n",
      "aspect ratio= 0.5548780487804879\n",
      "centroid= [5718 4781]\n"
     ]
    },
    {
     "name": "stderr",
     "output_type": "stream",
     "text": [
      "C:\\Users\\heito\\anaconda3\\lib\\site-packages\\fil_finder\\filfinder2D.py:138: UserWarning: No beam width given. Using 0 pixels.\n",
      "  warnings.warn(\"No beam width given. Using 0 pixels.\")\n",
      "C:\\Users\\heito\\anaconda3\\lib\\site-packages\\astropy\\units\\quantity.py:479: RuntimeWarning: divide by zero encountered in true_divide\n",
      "  result = super().__array_ufunc__(function, method, *arrays, **kwargs)\n",
      "C:\\Users\\heito\\anaconda3\\lib\\site-packages\\astropy\\units\\quantity.py:479: RuntimeWarning: invalid value encountered in true_divide\n",
      "  result = super().__array_ufunc__(function, method, *arrays, **kwargs)\n",
      "C:\\Users\\heito\\anaconda3\\lib\\site-packages\\fil_finder\\filfinder2D.py:288: UserWarning: Using inputted mask. Skipping creation of anew mask.\n",
      "  warnings.warn(\"Using inputted mask. Skipping creation of a\"\n",
      "C:\\Users\\heito\\anaconda3\\lib\\site-packages\\fil_finder\\filament.py:326: UserWarning: Graph pruning reached max iterations.\n",
      "  warnings.warn(\"Graph pruning reached max iterations.\")\n"
     ]
    },
    {
     "name": "stdout",
     "output_type": "stream",
     "text": [
      "dipole gene= 4.485628446979802\n",
      "elongation= 272\n",
      "aspect ratio= 0.6245847176079734\n",
      "centroid= [5675 4461]\n"
     ]
    },
    {
     "name": "stderr",
     "output_type": "stream",
     "text": [
      "C:\\Users\\heito\\anaconda3\\lib\\site-packages\\fil_finder\\filfinder2D.py:138: UserWarning: No beam width given. Using 0 pixels.\n",
      "  warnings.warn(\"No beam width given. Using 0 pixels.\")\n",
      "C:\\Users\\heito\\anaconda3\\lib\\site-packages\\astropy\\units\\quantity.py:479: RuntimeWarning: divide by zero encountered in true_divide\n",
      "  result = super().__array_ufunc__(function, method, *arrays, **kwargs)\n",
      "C:\\Users\\heito\\anaconda3\\lib\\site-packages\\astropy\\units\\quantity.py:479: RuntimeWarning: invalid value encountered in true_divide\n",
      "  result = super().__array_ufunc__(function, method, *arrays, **kwargs)\n",
      "C:\\Users\\heito\\anaconda3\\lib\\site-packages\\fil_finder\\filfinder2D.py:288: UserWarning: Using inputted mask. Skipping creation of anew mask.\n",
      "  warnings.warn(\"Using inputted mask. Skipping creation of a\"\n",
      "C:\\Users\\heito\\anaconda3\\lib\\site-packages\\fil_finder\\filament.py:326: UserWarning: Graph pruning reached max iterations.\n",
      "  warnings.warn(\"Graph pruning reached max iterations.\")\n"
     ]
    },
    {
     "name": "stdout",
     "output_type": "stream",
     "text": [
      "dipole gene= 0.028036921312230272\n",
      "elongation= 145\n",
      "aspect ratio= 1.4899328859060403\n",
      "centroid= [5584 5758]\n"
     ]
    },
    {
     "name": "stderr",
     "output_type": "stream",
     "text": [
      "C:\\Users\\heito\\anaconda3\\lib\\site-packages\\fil_finder\\filfinder2D.py:138: UserWarning: No beam width given. Using 0 pixels.\n",
      "  warnings.warn(\"No beam width given. Using 0 pixels.\")\n",
      "C:\\Users\\heito\\anaconda3\\lib\\site-packages\\astropy\\units\\quantity.py:479: RuntimeWarning: divide by zero encountered in true_divide\n",
      "  result = super().__array_ufunc__(function, method, *arrays, **kwargs)\n",
      "C:\\Users\\heito\\anaconda3\\lib\\site-packages\\astropy\\units\\quantity.py:479: RuntimeWarning: invalid value encountered in true_divide\n",
      "  result = super().__array_ufunc__(function, method, *arrays, **kwargs)\n",
      "C:\\Users\\heito\\anaconda3\\lib\\site-packages\\fil_finder\\filfinder2D.py:288: UserWarning: Using inputted mask. Skipping creation of anew mask.\n",
      "  warnings.warn(\"Using inputted mask. Skipping creation of a\"\n",
      "C:\\Users\\heito\\anaconda3\\lib\\site-packages\\fil_finder\\filament.py:326: UserWarning: Graph pruning reached max iterations.\n",
      "  warnings.warn(\"Graph pruning reached max iterations.\")\n"
     ]
    },
    {
     "name": "stdout",
     "output_type": "stream",
     "text": [
      "dipole gene= 4.743980543455801\n",
      "elongation= 262\n",
      "aspect ratio= 0.36538461538461536\n",
      "centroid= [5665 4147]\n"
     ]
    },
    {
     "name": "stderr",
     "output_type": "stream",
     "text": [
      "C:\\Users\\heito\\anaconda3\\lib\\site-packages\\fil_finder\\filfinder2D.py:138: UserWarning: No beam width given. Using 0 pixels.\n",
      "  warnings.warn(\"No beam width given. Using 0 pixels.\")\n",
      "C:\\Users\\heito\\anaconda3\\lib\\site-packages\\astropy\\units\\quantity.py:479: RuntimeWarning: divide by zero encountered in true_divide\n",
      "  result = super().__array_ufunc__(function, method, *arrays, **kwargs)\n",
      "C:\\Users\\heito\\anaconda3\\lib\\site-packages\\astropy\\units\\quantity.py:479: RuntimeWarning: invalid value encountered in true_divide\n",
      "  result = super().__array_ufunc__(function, method, *arrays, **kwargs)\n",
      "C:\\Users\\heito\\anaconda3\\lib\\site-packages\\fil_finder\\filfinder2D.py:288: UserWarning: Using inputted mask. Skipping creation of anew mask.\n",
      "  warnings.warn(\"Using inputted mask. Skipping creation of a\"\n",
      "C:\\Users\\heito\\anaconda3\\lib\\site-packages\\fil_finder\\filament.py:326: UserWarning: Graph pruning reached max iterations.\n",
      "  warnings.warn(\"Graph pruning reached max iterations.\")\n"
     ]
    },
    {
     "name": "stdout",
     "output_type": "stream",
     "text": [
      "dipole gene= 0.057970509063179784\n",
      "elongation= 117\n",
      "aspect ratio= 0.5\n",
      "centroid= [5567 1335]\n",
      "dipole gene= 0.7824278839485003\n",
      "elongation= 95\n",
      "aspect ratio= 0.9024390243902439\n",
      "centroid= [5526 3246]\n",
      "dipole gene= 0.6757137145406553\n",
      "elongation= 79\n",
      "aspect ratio= 1.1214285714285714\n",
      "centroid= [5502 4806]\n",
      "dipole gene= 1.4137612022728825\n",
      "elongation= 131\n",
      "aspect ratio= 1.256578947368421\n",
      "centroid= [5489 3728]\n"
     ]
    },
    {
     "name": "stderr",
     "output_type": "stream",
     "text": [
      "C:\\Users\\heito\\anaconda3\\lib\\site-packages\\fil_finder\\filfinder2D.py:138: UserWarning: No beam width given. Using 0 pixels.\n",
      "  warnings.warn(\"No beam width given. Using 0 pixels.\")\n",
      "C:\\Users\\heito\\anaconda3\\lib\\site-packages\\astropy\\units\\quantity.py:479: RuntimeWarning: divide by zero encountered in true_divide\n",
      "  result = super().__array_ufunc__(function, method, *arrays, **kwargs)\n",
      "C:\\Users\\heito\\anaconda3\\lib\\site-packages\\astropy\\units\\quantity.py:479: RuntimeWarning: invalid value encountered in true_divide\n",
      "  result = super().__array_ufunc__(function, method, *arrays, **kwargs)\n",
      "C:\\Users\\heito\\anaconda3\\lib\\site-packages\\fil_finder\\filfinder2D.py:288: UserWarning: Using inputted mask. Skipping creation of anew mask.\n",
      "  warnings.warn(\"Using inputted mask. Skipping creation of a\"\n",
      "C:\\Users\\heito\\anaconda3\\lib\\site-packages\\fil_finder\\filament.py:326: UserWarning: Graph pruning reached max iterations.\n",
      "  warnings.warn(\"Graph pruning reached max iterations.\")\n"
     ]
    },
    {
     "name": "stdout",
     "output_type": "stream",
     "text": [
      "dipole gene= 0.8018726120256474\n",
      "elongation= 90\n",
      "aspect ratio= 1.2536231884057971\n",
      "centroid= [5466 4361]\n"
     ]
    },
    {
     "name": "stderr",
     "output_type": "stream",
     "text": [
      "C:\\Users\\heito\\anaconda3\\lib\\site-packages\\fil_finder\\filfinder2D.py:138: UserWarning: No beam width given. Using 0 pixels.\n",
      "  warnings.warn(\"No beam width given. Using 0 pixels.\")\n",
      "C:\\Users\\heito\\anaconda3\\lib\\site-packages\\astropy\\units\\quantity.py:479: RuntimeWarning: divide by zero encountered in true_divide\n",
      "  result = super().__array_ufunc__(function, method, *arrays, **kwargs)\n",
      "C:\\Users\\heito\\anaconda3\\lib\\site-packages\\astropy\\units\\quantity.py:479: RuntimeWarning: invalid value encountered in true_divide\n",
      "  result = super().__array_ufunc__(function, method, *arrays, **kwargs)\n",
      "C:\\Users\\heito\\anaconda3\\lib\\site-packages\\fil_finder\\filfinder2D.py:288: UserWarning: Using inputted mask. Skipping creation of anew mask.\n",
      "  warnings.warn(\"Using inputted mask. Skipping creation of a\"\n",
      "C:\\Users\\heito\\anaconda3\\lib\\site-packages\\fil_finder\\filament.py:326: UserWarning: Graph pruning reached max iterations.\n",
      "  warnings.warn(\"Graph pruning reached max iterations.\")\n"
     ]
    },
    {
     "name": "stdout",
     "output_type": "stream",
     "text": [
      "dipole gene= 0.7270543697309967\n",
      "elongation= 113\n",
      "aspect ratio= 1.0890410958904109\n",
      "centroid= [5464 4193]\n"
     ]
    },
    {
     "name": "stderr",
     "output_type": "stream",
     "text": [
      "C:\\Users\\heito\\anaconda3\\lib\\site-packages\\fil_finder\\filfinder2D.py:138: UserWarning: No beam width given. Using 0 pixels.\n",
      "  warnings.warn(\"No beam width given. Using 0 pixels.\")\n",
      "C:\\Users\\heito\\anaconda3\\lib\\site-packages\\astropy\\units\\quantity.py:479: RuntimeWarning: divide by zero encountered in true_divide\n",
      "  result = super().__array_ufunc__(function, method, *arrays, **kwargs)\n",
      "C:\\Users\\heito\\anaconda3\\lib\\site-packages\\astropy\\units\\quantity.py:479: RuntimeWarning: invalid value encountered in true_divide\n",
      "  result = super().__array_ufunc__(function, method, *arrays, **kwargs)\n",
      "C:\\Users\\heito\\anaconda3\\lib\\site-packages\\fil_finder\\filfinder2D.py:288: UserWarning: Using inputted mask. Skipping creation of anew mask.\n",
      "  warnings.warn(\"Using inputted mask. Skipping creation of a\"\n",
      "C:\\Users\\heito\\anaconda3\\lib\\site-packages\\fil_finder\\filament.py:326: UserWarning: Graph pruning reached max iterations.\n",
      "  warnings.warn(\"Graph pruning reached max iterations.\")\n"
     ]
    },
    {
     "name": "stdout",
     "output_type": "stream",
     "text": [
      "dipole gene= 1.1597780075544293\n",
      "elongation= 145\n",
      "aspect ratio= 0.6470588235294118\n",
      "centroid= [5462 1923]\n"
     ]
    },
    {
     "name": "stderr",
     "output_type": "stream",
     "text": [
      "C:\\Users\\heito\\anaconda3\\lib\\site-packages\\fil_finder\\filfinder2D.py:138: UserWarning: No beam width given. Using 0 pixels.\n",
      "  warnings.warn(\"No beam width given. Using 0 pixels.\")\n",
      "C:\\Users\\heito\\anaconda3\\lib\\site-packages\\astropy\\units\\quantity.py:479: RuntimeWarning: divide by zero encountered in true_divide\n",
      "  result = super().__array_ufunc__(function, method, *arrays, **kwargs)\n",
      "C:\\Users\\heito\\anaconda3\\lib\\site-packages\\astropy\\units\\quantity.py:479: RuntimeWarning: invalid value encountered in true_divide\n",
      "  result = super().__array_ufunc__(function, method, *arrays, **kwargs)\n",
      "C:\\Users\\heito\\anaconda3\\lib\\site-packages\\fil_finder\\filfinder2D.py:288: UserWarning: Using inputted mask. Skipping creation of anew mask.\n",
      "  warnings.warn(\"Using inputted mask. Skipping creation of a\"\n",
      "C:\\Users\\heito\\anaconda3\\lib\\site-packages\\fil_finder\\filament.py:326: UserWarning: Graph pruning reached max iterations.\n",
      "  warnings.warn(\"Graph pruning reached max iterations.\")\n"
     ]
    },
    {
     "name": "stdout",
     "output_type": "stream",
     "text": [
      "dipole gene= 0.6324898157305151\n",
      "elongation= 100\n",
      "aspect ratio= 1.0476190476190477\n",
      "centroid= [5450 2501]\n"
     ]
    },
    {
     "name": "stderr",
     "output_type": "stream",
     "text": [
      "C:\\Users\\heito\\anaconda3\\lib\\site-packages\\fil_finder\\filfinder2D.py:138: UserWarning: No beam width given. Using 0 pixels.\n",
      "  warnings.warn(\"No beam width given. Using 0 pixels.\")\n",
      "C:\\Users\\heito\\anaconda3\\lib\\site-packages\\astropy\\units\\quantity.py:479: RuntimeWarning: divide by zero encountered in true_divide\n",
      "  result = super().__array_ufunc__(function, method, *arrays, **kwargs)\n",
      "C:\\Users\\heito\\anaconda3\\lib\\site-packages\\astropy\\units\\quantity.py:479: RuntimeWarning: invalid value encountered in true_divide\n",
      "  result = super().__array_ufunc__(function, method, *arrays, **kwargs)\n",
      "C:\\Users\\heito\\anaconda3\\lib\\site-packages\\fil_finder\\filfinder2D.py:288: UserWarning: Using inputted mask. Skipping creation of anew mask.\n",
      "  warnings.warn(\"Using inputted mask. Skipping creation of a\"\n",
      "C:\\Users\\heito\\anaconda3\\lib\\site-packages\\fil_finder\\filament.py:326: UserWarning: Graph pruning reached max iterations.\n",
      "  warnings.warn(\"Graph pruning reached max iterations.\")\n"
     ]
    },
    {
     "name": "stdout",
     "output_type": "stream",
     "text": [
      "dipole gene= 4.036096967100149\n",
      "elongation= 303\n",
      "aspect ratio= 0.7547770700636943\n",
      "centroid= [5534 5438]\n"
     ]
    },
    {
     "name": "stderr",
     "output_type": "stream",
     "text": [
      "C:\\Users\\heito\\anaconda3\\lib\\site-packages\\fil_finder\\filfinder2D.py:138: UserWarning: No beam width given. Using 0 pixels.\n",
      "  warnings.warn(\"No beam width given. Using 0 pixels.\")\n",
      "C:\\Users\\heito\\anaconda3\\lib\\site-packages\\astropy\\units\\quantity.py:479: RuntimeWarning: divide by zero encountered in true_divide\n",
      "  result = super().__array_ufunc__(function, method, *arrays, **kwargs)\n",
      "C:\\Users\\heito\\anaconda3\\lib\\site-packages\\astropy\\units\\quantity.py:479: RuntimeWarning: invalid value encountered in true_divide\n",
      "  result = super().__array_ufunc__(function, method, *arrays, **kwargs)\n",
      "C:\\Users\\heito\\anaconda3\\lib\\site-packages\\fil_finder\\filfinder2D.py:288: UserWarning: Using inputted mask. Skipping creation of anew mask.\n",
      "  warnings.warn(\"Using inputted mask. Skipping creation of a\"\n",
      "C:\\Users\\heito\\anaconda3\\lib\\site-packages\\fil_finder\\filament.py:326: UserWarning: Graph pruning reached max iterations.\n",
      "  warnings.warn(\"Graph pruning reached max iterations.\")\n"
     ]
    },
    {
     "name": "stdout",
     "output_type": "stream",
     "text": [
      "dipole gene= 2.529629316140523\n",
      "elongation= 218\n",
      "aspect ratio= 0.6596491228070176\n",
      "centroid= [5469 5092]\n"
     ]
    },
    {
     "name": "stderr",
     "output_type": "stream",
     "text": [
      "C:\\Users\\heito\\anaconda3\\lib\\site-packages\\fil_finder\\filfinder2D.py:138: UserWarning: No beam width given. Using 0 pixels.\n",
      "  warnings.warn(\"No beam width given. Using 0 pixels.\")\n",
      "C:\\Users\\heito\\anaconda3\\lib\\site-packages\\astropy\\units\\quantity.py:479: RuntimeWarning: divide by zero encountered in true_divide\n",
      "  result = super().__array_ufunc__(function, method, *arrays, **kwargs)\n",
      "C:\\Users\\heito\\anaconda3\\lib\\site-packages\\astropy\\units\\quantity.py:479: RuntimeWarning: invalid value encountered in true_divide\n",
      "  result = super().__array_ufunc__(function, method, *arrays, **kwargs)\n",
      "C:\\Users\\heito\\anaconda3\\lib\\site-packages\\fil_finder\\filfinder2D.py:288: UserWarning: Using inputted mask. Skipping creation of anew mask.\n",
      "  warnings.warn(\"Using inputted mask. Skipping creation of a\"\n",
      "C:\\Users\\heito\\anaconda3\\lib\\site-packages\\fil_finder\\filament.py:326: UserWarning: Graph pruning reached max iterations.\n",
      "  warnings.warn(\"Graph pruning reached max iterations.\")\n"
     ]
    },
    {
     "name": "stdout",
     "output_type": "stream",
     "text": [
      "dipole gene= 1.6711272055280157\n",
      "elongation= 119\n",
      "aspect ratio= 0.5808080808080808\n",
      "centroid= [5439 2228]\n"
     ]
    },
    {
     "name": "stderr",
     "output_type": "stream",
     "text": [
      "C:\\Users\\heito\\anaconda3\\lib\\site-packages\\fil_finder\\filfinder2D.py:138: UserWarning: No beam width given. Using 0 pixels.\n",
      "  warnings.warn(\"No beam width given. Using 0 pixels.\")\n",
      "C:\\Users\\heito\\anaconda3\\lib\\site-packages\\astropy\\units\\quantity.py:479: RuntimeWarning: divide by zero encountered in true_divide\n",
      "  result = super().__array_ufunc__(function, method, *arrays, **kwargs)\n",
      "C:\\Users\\heito\\anaconda3\\lib\\site-packages\\astropy\\units\\quantity.py:479: RuntimeWarning: invalid value encountered in true_divide\n",
      "  result = super().__array_ufunc__(function, method, *arrays, **kwargs)\n",
      "C:\\Users\\heito\\anaconda3\\lib\\site-packages\\fil_finder\\filfinder2D.py:288: UserWarning: Using inputted mask. Skipping creation of anew mask.\n",
      "  warnings.warn(\"Using inputted mask. Skipping creation of a\"\n",
      "C:\\Users\\heito\\anaconda3\\lib\\site-packages\\fil_finder\\filament.py:326: UserWarning: Graph pruning reached max iterations.\n",
      "  warnings.warn(\"Graph pruning reached max iterations.\")\n"
     ]
    },
    {
     "name": "stdout",
     "output_type": "stream",
     "text": [
      "dipole gene= 3.0026555408521363\n",
      "elongation= 284\n",
      "aspect ratio= 0.7878787878787878\n",
      "centroid= [5378 1717]\n"
     ]
    },
    {
     "name": "stderr",
     "output_type": "stream",
     "text": [
      "C:\\Users\\heito\\anaconda3\\lib\\site-packages\\fil_finder\\filfinder2D.py:138: UserWarning: No beam width given. Using 0 pixels.\n",
      "  warnings.warn(\"No beam width given. Using 0 pixels.\")\n",
      "C:\\Users\\heito\\anaconda3\\lib\\site-packages\\astropy\\units\\quantity.py:479: RuntimeWarning: divide by zero encountered in true_divide\n",
      "  result = super().__array_ufunc__(function, method, *arrays, **kwargs)\n",
      "C:\\Users\\heito\\anaconda3\\lib\\site-packages\\astropy\\units\\quantity.py:479: RuntimeWarning: invalid value encountered in true_divide\n",
      "  result = super().__array_ufunc__(function, method, *arrays, **kwargs)\n",
      "C:\\Users\\heito\\anaconda3\\lib\\site-packages\\fil_finder\\filfinder2D.py:288: UserWarning: Using inputted mask. Skipping creation of anew mask.\n",
      "  warnings.warn(\"Using inputted mask. Skipping creation of a\"\n",
      "C:\\Users\\heito\\anaconda3\\lib\\site-packages\\fil_finder\\filament.py:326: UserWarning: Graph pruning reached max iterations.\n",
      "  warnings.warn(\"Graph pruning reached max iterations.\")\n"
     ]
    },
    {
     "name": "stdout",
     "output_type": "stream",
     "text": [
      "dipole gene= 0.6969117334166283\n",
      "elongation= 124\n",
      "aspect ratio= 1.0175438596491229\n",
      "centroid= [5324 1262]\n"
     ]
    },
    {
     "name": "stderr",
     "output_type": "stream",
     "text": [
      "C:\\Users\\heito\\anaconda3\\lib\\site-packages\\fil_finder\\filfinder2D.py:138: UserWarning: No beam width given. Using 0 pixels.\n",
      "  warnings.warn(\"No beam width given. Using 0 pixels.\")\n",
      "C:\\Users\\heito\\anaconda3\\lib\\site-packages\\astropy\\units\\quantity.py:479: RuntimeWarning: divide by zero encountered in true_divide\n",
      "  result = super().__array_ufunc__(function, method, *arrays, **kwargs)\n",
      "C:\\Users\\heito\\anaconda3\\lib\\site-packages\\astropy\\units\\quantity.py:479: RuntimeWarning: invalid value encountered in true_divide\n",
      "  result = super().__array_ufunc__(function, method, *arrays, **kwargs)\n",
      "C:\\Users\\heito\\anaconda3\\lib\\site-packages\\fil_finder\\filfinder2D.py:288: UserWarning: Using inputted mask. Skipping creation of anew mask.\n",
      "  warnings.warn(\"Using inputted mask. Skipping creation of a\"\n",
      "C:\\Users\\heito\\anaconda3\\lib\\site-packages\\fil_finder\\filament.py:326: UserWarning: Graph pruning reached max iterations.\n",
      "  warnings.warn(\"Graph pruning reached max iterations.\")\n"
     ]
    },
    {
     "name": "stdout",
     "output_type": "stream",
     "text": [
      "dipole gene= 0.6179039946633417\n",
      "elongation= 86\n",
      "aspect ratio= 0.9844961240310077\n",
      "centroid= [5262 1599]\n"
     ]
    },
    {
     "name": "stderr",
     "output_type": "stream",
     "text": [
      "C:\\Users\\heito\\anaconda3\\lib\\site-packages\\fil_finder\\filfinder2D.py:138: UserWarning: No beam width given. Using 0 pixels.\n",
      "  warnings.warn(\"No beam width given. Using 0 pixels.\")\n",
      "C:\\Users\\heito\\anaconda3\\lib\\site-packages\\astropy\\units\\quantity.py:479: RuntimeWarning: divide by zero encountered in true_divide\n",
      "  result = super().__array_ufunc__(function, method, *arrays, **kwargs)\n",
      "C:\\Users\\heito\\anaconda3\\lib\\site-packages\\astropy\\units\\quantity.py:479: RuntimeWarning: invalid value encountered in true_divide\n",
      "  result = super().__array_ufunc__(function, method, *arrays, **kwargs)\n",
      "C:\\Users\\heito\\anaconda3\\lib\\site-packages\\fil_finder\\filfinder2D.py:288: UserWarning: Using inputted mask. Skipping creation of anew mask.\n",
      "  warnings.warn(\"Using inputted mask. Skipping creation of a\"\n",
      "C:\\Users\\heito\\anaconda3\\lib\\site-packages\\fil_finder\\filament.py:326: UserWarning: Graph pruning reached max iterations.\n",
      "  warnings.warn(\"Graph pruning reached max iterations.\")\n"
     ]
    },
    {
     "name": "stdout",
     "output_type": "stream",
     "text": [
      "dipole gene= 2.73366731633686\n",
      "elongation= 165\n",
      "aspect ratio= 0.5345622119815668\n",
      "centroid= [5265 1908]\n"
     ]
    },
    {
     "name": "stderr",
     "output_type": "stream",
     "text": [
      "C:\\Users\\heito\\anaconda3\\lib\\site-packages\\fil_finder\\filfinder2D.py:138: UserWarning: No beam width given. Using 0 pixels.\n",
      "  warnings.warn(\"No beam width given. Using 0 pixels.\")\n",
      "C:\\Users\\heito\\anaconda3\\lib\\site-packages\\astropy\\units\\quantity.py:479: RuntimeWarning: divide by zero encountered in true_divide\n",
      "  result = super().__array_ufunc__(function, method, *arrays, **kwargs)\n",
      "C:\\Users\\heito\\anaconda3\\lib\\site-packages\\astropy\\units\\quantity.py:479: RuntimeWarning: invalid value encountered in true_divide\n",
      "  result = super().__array_ufunc__(function, method, *arrays, **kwargs)\n",
      "C:\\Users\\heito\\anaconda3\\lib\\site-packages\\fil_finder\\filfinder2D.py:288: UserWarning: Using inputted mask. Skipping creation of anew mask.\n",
      "  warnings.warn(\"Using inputted mask. Skipping creation of a\"\n",
      "C:\\Users\\heito\\anaconda3\\lib\\site-packages\\fil_finder\\filament.py:326: UserWarning: Graph pruning reached max iterations.\n",
      "  warnings.warn(\"Graph pruning reached max iterations.\")\n"
     ]
    },
    {
     "name": "stdout",
     "output_type": "stream",
     "text": [
      "dipole gene= 0.720752437616153\n",
      "elongation= 62\n",
      "aspect ratio= 0.7919463087248322\n",
      "centroid= [5217 2550]\n"
     ]
    },
    {
     "name": "stderr",
     "output_type": "stream",
     "text": [
      "C:\\Users\\heito\\anaconda3\\lib\\site-packages\\fil_finder\\filfinder2D.py:138: UserWarning: No beam width given. Using 0 pixels.\n",
      "  warnings.warn(\"No beam width given. Using 0 pixels.\")\n",
      "C:\\Users\\heito\\anaconda3\\lib\\site-packages\\astropy\\units\\quantity.py:479: RuntimeWarning: divide by zero encountered in true_divide\n",
      "  result = super().__array_ufunc__(function, method, *arrays, **kwargs)\n",
      "C:\\Users\\heito\\anaconda3\\lib\\site-packages\\astropy\\units\\quantity.py:479: RuntimeWarning: invalid value encountered in true_divide\n",
      "  result = super().__array_ufunc__(function, method, *arrays, **kwargs)\n",
      "C:\\Users\\heito\\anaconda3\\lib\\site-packages\\fil_finder\\filfinder2D.py:288: UserWarning: Using inputted mask. Skipping creation of anew mask.\n",
      "  warnings.warn(\"Using inputted mask. Skipping creation of a\"\n",
      "C:\\Users\\heito\\anaconda3\\lib\\site-packages\\fil_finder\\filament.py:326: UserWarning: Graph pruning reached max iterations.\n",
      "  warnings.warn(\"Graph pruning reached max iterations.\")\n"
     ]
    },
    {
     "name": "stdout",
     "output_type": "stream",
     "text": [
      "dipole gene= 0.35400455040152373\n",
      "elongation= 61\n",
      "aspect ratio= 0.7133333333333334\n",
      "centroid= [5187 2869]\n"
     ]
    },
    {
     "name": "stderr",
     "output_type": "stream",
     "text": [
      "C:\\Users\\heito\\anaconda3\\lib\\site-packages\\fil_finder\\filfinder2D.py:138: UserWarning: No beam width given. Using 0 pixels.\n",
      "  warnings.warn(\"No beam width given. Using 0 pixels.\")\n",
      "C:\\Users\\heito\\anaconda3\\lib\\site-packages\\astropy\\units\\quantity.py:479: RuntimeWarning: divide by zero encountered in true_divide\n",
      "  result = super().__array_ufunc__(function, method, *arrays, **kwargs)\n",
      "C:\\Users\\heito\\anaconda3\\lib\\site-packages\\astropy\\units\\quantity.py:479: RuntimeWarning: invalid value encountered in true_divide\n",
      "  result = super().__array_ufunc__(function, method, *arrays, **kwargs)\n",
      "C:\\Users\\heito\\anaconda3\\lib\\site-packages\\fil_finder\\filfinder2D.py:288: UserWarning: Using inputted mask. Skipping creation of anew mask.\n",
      "  warnings.warn(\"Using inputted mask. Skipping creation of a\"\n",
      "C:\\Users\\heito\\anaconda3\\lib\\site-packages\\fil_finder\\filament.py:326: UserWarning: Graph pruning reached max iterations.\n",
      "  warnings.warn(\"Graph pruning reached max iterations.\")\n"
     ]
    },
    {
     "name": "stdout",
     "output_type": "stream",
     "text": [
      "dipole gene= 0.7631847536807959\n",
      "elongation= 93\n",
      "aspect ratio= 0.5815217391304348\n",
      "centroid= [5200 3770]\n",
      "dipole gene= 0.5750595146860318\n",
      "elongation= 66\n",
      "aspect ratio= 0.7246376811594203\n",
      "centroid= [5179 4127]\n"
     ]
    },
    {
     "name": "stderr",
     "output_type": "stream",
     "text": [
      "C:\\Users\\heito\\anaconda3\\lib\\site-packages\\fil_finder\\filfinder2D.py:138: UserWarning: No beam width given. Using 0 pixels.\n",
      "  warnings.warn(\"No beam width given. Using 0 pixels.\")\n",
      "C:\\Users\\heito\\anaconda3\\lib\\site-packages\\astropy\\units\\quantity.py:479: RuntimeWarning: divide by zero encountered in true_divide\n",
      "  result = super().__array_ufunc__(function, method, *arrays, **kwargs)\n",
      "C:\\Users\\heito\\anaconda3\\lib\\site-packages\\astropy\\units\\quantity.py:479: RuntimeWarning: invalid value encountered in true_divide\n",
      "  result = super().__array_ufunc__(function, method, *arrays, **kwargs)\n",
      "C:\\Users\\heito\\anaconda3\\lib\\site-packages\\fil_finder\\filfinder2D.py:288: UserWarning: Using inputted mask. Skipping creation of anew mask.\n",
      "  warnings.warn(\"Using inputted mask. Skipping creation of a\"\n",
      "C:\\Users\\heito\\anaconda3\\lib\\site-packages\\fil_finder\\filament.py:326: UserWarning: Graph pruning reached max iterations.\n",
      "  warnings.warn(\"Graph pruning reached max iterations.\")\n"
     ]
    },
    {
     "name": "stdout",
     "output_type": "stream",
     "text": [
      "dipole gene= 0.30872078640382083\n",
      "elongation= 91\n",
      "aspect ratio= 0.8709677419354839\n",
      "centroid= [5184 3177]\n"
     ]
    },
    {
     "name": "stderr",
     "output_type": "stream",
     "text": [
      "C:\\Users\\heito\\anaconda3\\lib\\site-packages\\fil_finder\\filfinder2D.py:138: UserWarning: No beam width given. Using 0 pixels.\n",
      "  warnings.warn(\"No beam width given. Using 0 pixels.\")\n",
      "C:\\Users\\heito\\anaconda3\\lib\\site-packages\\astropy\\units\\quantity.py:479: RuntimeWarning: divide by zero encountered in true_divide\n",
      "  result = super().__array_ufunc__(function, method, *arrays, **kwargs)\n",
      "C:\\Users\\heito\\anaconda3\\lib\\site-packages\\astropy\\units\\quantity.py:479: RuntimeWarning: invalid value encountered in true_divide\n",
      "  result = super().__array_ufunc__(function, method, *arrays, **kwargs)\n",
      "C:\\Users\\heito\\anaconda3\\lib\\site-packages\\fil_finder\\filfinder2D.py:288: UserWarning: Using inputted mask. Skipping creation of anew mask.\n",
      "  warnings.warn(\"Using inputted mask. Skipping creation of a\"\n",
      "C:\\Users\\heito\\anaconda3\\lib\\site-packages\\fil_finder\\filament.py:326: UserWarning: Graph pruning reached max iterations.\n",
      "  warnings.warn(\"Graph pruning reached max iterations.\")\n"
     ]
    },
    {
     "name": "stdout",
     "output_type": "stream",
     "text": [
      "dipole gene= 0.2693515639828432\n",
      "elongation= 38\n",
      "aspect ratio= 0.8285714285714286\n",
      "centroid= [5172 3491]\n",
      "dipole gene= 0.28875583734537585\n",
      "elongation= 15\n",
      "aspect ratio= 1.1304347826086956\n",
      "centroid= [5139 4436]\n"
     ]
    },
    {
     "name": "stderr",
     "output_type": "stream",
     "text": [
      "C:\\Users\\heito\\anaconda3\\lib\\site-packages\\fil_finder\\filfinder2D.py:138: UserWarning: No beam width given. Using 0 pixels.\n",
      "  warnings.warn(\"No beam width given. Using 0 pixels.\")\n",
      "C:\\Users\\heito\\anaconda3\\lib\\site-packages\\astropy\\units\\quantity.py:479: RuntimeWarning: divide by zero encountered in true_divide\n",
      "  result = super().__array_ufunc__(function, method, *arrays, **kwargs)\n",
      "C:\\Users\\heito\\anaconda3\\lib\\site-packages\\astropy\\units\\quantity.py:479: RuntimeWarning: invalid value encountered in true_divide\n",
      "  result = super().__array_ufunc__(function, method, *arrays, **kwargs)\n",
      "C:\\Users\\heito\\anaconda3\\lib\\site-packages\\fil_finder\\filfinder2D.py:288: UserWarning: Using inputted mask. Skipping creation of anew mask.\n",
      "  warnings.warn(\"Using inputted mask. Skipping creation of a\"\n",
      "C:\\Users\\heito\\anaconda3\\lib\\site-packages\\fil_finder\\filament.py:326: UserWarning: Graph pruning reached max iterations.\n",
      "  warnings.warn(\"Graph pruning reached max iterations.\")\n"
     ]
    },
    {
     "name": "stdout",
     "output_type": "stream",
     "text": [
      "dipole gene= 3.66477682661954\n",
      "elongation= 213\n",
      "aspect ratio= 1.0633484162895928\n",
      "centroid= [5175 5400]\n"
     ]
    },
    {
     "name": "stderr",
     "output_type": "stream",
     "text": [
      "C:\\Users\\heito\\anaconda3\\lib\\site-packages\\fil_finder\\filfinder2D.py:138: UserWarning: No beam width given. Using 0 pixels.\n",
      "  warnings.warn(\"No beam width given. Using 0 pixels.\")\n",
      "C:\\Users\\heito\\anaconda3\\lib\\site-packages\\astropy\\units\\quantity.py:479: RuntimeWarning: divide by zero encountered in true_divide\n",
      "  result = super().__array_ufunc__(function, method, *arrays, **kwargs)\n",
      "C:\\Users\\heito\\anaconda3\\lib\\site-packages\\astropy\\units\\quantity.py:479: RuntimeWarning: invalid value encountered in true_divide\n",
      "  result = super().__array_ufunc__(function, method, *arrays, **kwargs)\n",
      "C:\\Users\\heito\\anaconda3\\lib\\site-packages\\fil_finder\\filfinder2D.py:288: UserWarning: Using inputted mask. Skipping creation of anew mask.\n",
      "  warnings.warn(\"Using inputted mask. Skipping creation of a\"\n",
      "C:\\Users\\heito\\anaconda3\\lib\\site-packages\\fil_finder\\filament.py:326: UserWarning: Graph pruning reached max iterations.\n",
      "  warnings.warn(\"Graph pruning reached max iterations.\")\n"
     ]
    },
    {
     "name": "stdout",
     "output_type": "stream",
     "text": [
      "dipole gene= 0.3359519047161355\n",
      "elongation= 88\n",
      "aspect ratio= 1.2300884955752212\n",
      "centroid= [5124 1567]\n"
     ]
    },
    {
     "name": "stderr",
     "output_type": "stream",
     "text": [
      "C:\\Users\\heito\\anaconda3\\lib\\site-packages\\fil_finder\\filfinder2D.py:138: UserWarning: No beam width given. Using 0 pixels.\n",
      "  warnings.warn(\"No beam width given. Using 0 pixels.\")\n",
      "C:\\Users\\heito\\anaconda3\\lib\\site-packages\\astropy\\units\\quantity.py:479: RuntimeWarning: divide by zero encountered in true_divide\n",
      "  result = super().__array_ufunc__(function, method, *arrays, **kwargs)\n",
      "C:\\Users\\heito\\anaconda3\\lib\\site-packages\\astropy\\units\\quantity.py:479: RuntimeWarning: invalid value encountered in true_divide\n",
      "  result = super().__array_ufunc__(function, method, *arrays, **kwargs)\n",
      "C:\\Users\\heito\\anaconda3\\lib\\site-packages\\fil_finder\\filfinder2D.py:288: UserWarning: Using inputted mask. Skipping creation of anew mask.\n",
      "  warnings.warn(\"Using inputted mask. Skipping creation of a\"\n",
      "C:\\Users\\heito\\anaconda3\\lib\\site-packages\\fil_finder\\filament.py:326: UserWarning: Graph pruning reached max iterations.\n",
      "  warnings.warn(\"Graph pruning reached max iterations.\")\n"
     ]
    },
    {
     "name": "stdout",
     "output_type": "stream",
     "text": [
      "dipole gene= 0.3450294134197204\n",
      "elongation= 77\n",
      "aspect ratio= 0.7159763313609467\n",
      "centroid= [5155 4726]\n",
      "dipole gene= 0.21601721308964475\n",
      "elongation= 56\n",
      "aspect ratio= 0.75\n",
      "centroid= [5149 5028]\n"
     ]
    },
    {
     "name": "stderr",
     "output_type": "stream",
     "text": [
      "C:\\Users\\heito\\anaconda3\\lib\\site-packages\\fil_finder\\filfinder2D.py:138: UserWarning: No beam width given. Using 0 pixels.\n",
      "  warnings.warn(\"No beam width given. Using 0 pixels.\")\n",
      "C:\\Users\\heito\\anaconda3\\lib\\site-packages\\astropy\\units\\quantity.py:479: RuntimeWarning: divide by zero encountered in true_divide\n",
      "  result = super().__array_ufunc__(function, method, *arrays, **kwargs)\n",
      "C:\\Users\\heito\\anaconda3\\lib\\site-packages\\astropy\\units\\quantity.py:479: RuntimeWarning: invalid value encountered in true_divide\n",
      "  result = super().__array_ufunc__(function, method, *arrays, **kwargs)\n",
      "C:\\Users\\heito\\anaconda3\\lib\\site-packages\\fil_finder\\filfinder2D.py:288: UserWarning: Using inputted mask. Skipping creation of anew mask.\n",
      "  warnings.warn(\"Using inputted mask. Skipping creation of a\"\n",
      "C:\\Users\\heito\\anaconda3\\lib\\site-packages\\fil_finder\\filament.py:326: UserWarning: Graph pruning reached max iterations.\n",
      "  warnings.warn(\"Graph pruning reached max iterations.\")\n"
     ]
    },
    {
     "name": "stdout",
     "output_type": "stream",
     "text": [
      "dipole gene= 0.010882056557540366\n",
      "elongation= 44\n",
      "aspect ratio= 1.4933333333333334\n",
      "centroid= [5081 1307]\n"
     ]
    },
    {
     "name": "stderr",
     "output_type": "stream",
     "text": [
      "C:\\Users\\heito\\anaconda3\\lib\\site-packages\\fil_finder\\filfinder2D.py:138: UserWarning: No beam width given. Using 0 pixels.\n",
      "  warnings.warn(\"No beam width given. Using 0 pixels.\")\n",
      "C:\\Users\\heito\\anaconda3\\lib\\site-packages\\astropy\\units\\quantity.py:479: RuntimeWarning: divide by zero encountered in true_divide\n",
      "  result = super().__array_ufunc__(function, method, *arrays, **kwargs)\n",
      "C:\\Users\\heito\\anaconda3\\lib\\site-packages\\astropy\\units\\quantity.py:479: RuntimeWarning: invalid value encountered in true_divide\n",
      "  result = super().__array_ufunc__(function, method, *arrays, **kwargs)\n",
      "C:\\Users\\heito\\anaconda3\\lib\\site-packages\\fil_finder\\filfinder2D.py:288: UserWarning: Using inputted mask. Skipping creation of anew mask.\n",
      "  warnings.warn(\"Using inputted mask. Skipping creation of a\"\n",
      "C:\\Users\\heito\\anaconda3\\lib\\site-packages\\fil_finder\\filament.py:326: UserWarning: Graph pruning reached max iterations.\n",
      "  warnings.warn(\"Graph pruning reached max iterations.\")\n"
     ]
    },
    {
     "name": "stdout",
     "output_type": "stream",
     "text": [
      "dipole gene= 0.546561214127017\n",
      "elongation= 88\n",
      "aspect ratio= 0.7738095238095238\n",
      "centroid= [5076 4086]\n"
     ]
    },
    {
     "name": "stderr",
     "output_type": "stream",
     "text": [
      "C:\\Users\\heito\\anaconda3\\lib\\site-packages\\fil_finder\\filfinder2D.py:138: UserWarning: No beam width given. Using 0 pixels.\n",
      "  warnings.warn(\"No beam width given. Using 0 pixels.\")\n",
      "C:\\Users\\heito\\anaconda3\\lib\\site-packages\\astropy\\units\\quantity.py:479: RuntimeWarning: divide by zero encountered in true_divide\n",
      "  result = super().__array_ufunc__(function, method, *arrays, **kwargs)\n",
      "C:\\Users\\heito\\anaconda3\\lib\\site-packages\\astropy\\units\\quantity.py:479: RuntimeWarning: invalid value encountered in true_divide\n",
      "  result = super().__array_ufunc__(function, method, *arrays, **kwargs)\n",
      "C:\\Users\\heito\\anaconda3\\lib\\site-packages\\fil_finder\\filfinder2D.py:288: UserWarning: Using inputted mask. Skipping creation of anew mask.\n",
      "  warnings.warn(\"Using inputted mask. Skipping creation of a\"\n",
      "C:\\Users\\heito\\anaconda3\\lib\\site-packages\\fil_finder\\filament.py:326: UserWarning: Graph pruning reached max iterations.\n",
      "  warnings.warn(\"Graph pruning reached max iterations.\")\n"
     ]
    },
    {
     "name": "stdout",
     "output_type": "stream",
     "text": [
      "dipole gene= 0.04200936510780953\n",
      "elongation= 60\n",
      "aspect ratio= 0.6370967741935484\n",
      "centroid= [5039 3148]\n"
     ]
    },
    {
     "name": "stderr",
     "output_type": "stream",
     "text": [
      "C:\\Users\\heito\\anaconda3\\lib\\site-packages\\fil_finder\\filfinder2D.py:138: UserWarning: No beam width given. Using 0 pixels.\n",
      "  warnings.warn(\"No beam width given. Using 0 pixels.\")\n",
      "C:\\Users\\heito\\anaconda3\\lib\\site-packages\\astropy\\units\\quantity.py:479: RuntimeWarning: divide by zero encountered in true_divide\n",
      "  result = super().__array_ufunc__(function, method, *arrays, **kwargs)\n",
      "C:\\Users\\heito\\anaconda3\\lib\\site-packages\\astropy\\units\\quantity.py:479: RuntimeWarning: invalid value encountered in true_divide\n",
      "  result = super().__array_ufunc__(function, method, *arrays, **kwargs)\n",
      "C:\\Users\\heito\\anaconda3\\lib\\site-packages\\fil_finder\\filfinder2D.py:288: UserWarning: Using inputted mask. Skipping creation of anew mask.\n",
      "  warnings.warn(\"Using inputted mask. Skipping creation of a\"\n",
      "C:\\Users\\heito\\anaconda3\\lib\\site-packages\\fil_finder\\filament.py:326: UserWarning: Graph pruning reached max iterations.\n",
      "  warnings.warn(\"Graph pruning reached max iterations.\")\n"
     ]
    },
    {
     "name": "stdout",
     "output_type": "stream",
     "text": [
      "dipole gene= 0.43317570266530936\n",
      "elongation= 39\n",
      "aspect ratio= 1.0803571428571428\n",
      "centroid= [5028 2582]\n"
     ]
    },
    {
     "name": "stderr",
     "output_type": "stream",
     "text": [
      "<ipython-input-87-db5abb40a3bd>:167: RankWarning: Polyfit may be poorly conditioned\n",
      "  side1, edge1, edge2, arr1 = get_intersection(hey,mid_point,eps,contour)\n"
     ]
    },
    {
     "name": "stdout",
     "output_type": "stream",
     "text": [
      "dipole gene= 0.09027704074628233\n",
      "elongation= 84\n",
      "aspect ratio= 0.9933333333333333\n",
      "centroid= [5048 5663]\n"
     ]
    },
    {
     "name": "stderr",
     "output_type": "stream",
     "text": [
      "C:\\Users\\heito\\anaconda3\\lib\\site-packages\\fil_finder\\filfinder2D.py:138: UserWarning: No beam width given. Using 0 pixels.\n",
      "  warnings.warn(\"No beam width given. Using 0 pixels.\")\n",
      "C:\\Users\\heito\\anaconda3\\lib\\site-packages\\astropy\\units\\quantity.py:479: RuntimeWarning: divide by zero encountered in true_divide\n",
      "  result = super().__array_ufunc__(function, method, *arrays, **kwargs)\n",
      "C:\\Users\\heito\\anaconda3\\lib\\site-packages\\astropy\\units\\quantity.py:479: RuntimeWarning: invalid value encountered in true_divide\n",
      "  result = super().__array_ufunc__(function, method, *arrays, **kwargs)\n",
      "C:\\Users\\heito\\anaconda3\\lib\\site-packages\\fil_finder\\filfinder2D.py:288: UserWarning: Using inputted mask. Skipping creation of anew mask.\n",
      "  warnings.warn(\"Using inputted mask. Skipping creation of a\"\n",
      "C:\\Users\\heito\\anaconda3\\lib\\site-packages\\fil_finder\\filament.py:326: UserWarning: Graph pruning reached max iterations.\n",
      "  warnings.warn(\"Graph pruning reached max iterations.\")\n"
     ]
    },
    {
     "name": "stdout",
     "output_type": "stream",
     "text": [
      "dipole gene= 0.0057234591298134345\n",
      "elongation= 43\n",
      "aspect ratio= 0.823076923076923\n",
      "centroid= [5031 2907]\n"
     ]
    },
    {
     "name": "stderr",
     "output_type": "stream",
     "text": [
      "C:\\Users\\heito\\anaconda3\\lib\\site-packages\\fil_finder\\filfinder2D.py:138: UserWarning: No beam width given. Using 0 pixels.\n",
      "  warnings.warn(\"No beam width given. Using 0 pixels.\")\n",
      "C:\\Users\\heito\\anaconda3\\lib\\site-packages\\astropy\\units\\quantity.py:479: RuntimeWarning: divide by zero encountered in true_divide\n",
      "  result = super().__array_ufunc__(function, method, *arrays, **kwargs)\n",
      "C:\\Users\\heito\\anaconda3\\lib\\site-packages\\astropy\\units\\quantity.py:479: RuntimeWarning: invalid value encountered in true_divide\n",
      "  result = super().__array_ufunc__(function, method, *arrays, **kwargs)\n",
      "C:\\Users\\heito\\anaconda3\\lib\\site-packages\\fil_finder\\filfinder2D.py:288: UserWarning: Using inputted mask. Skipping creation of anew mask.\n",
      "  warnings.warn(\"Using inputted mask. Skipping creation of a\"\n",
      "C:\\Users\\heito\\anaconda3\\lib\\site-packages\\fil_finder\\filament.py:326: UserWarning: Graph pruning reached max iterations.\n",
      "  warnings.warn(\"Graph pruning reached max iterations.\")\n"
     ]
    },
    {
     "name": "stdout",
     "output_type": "stream",
     "text": [
      "dipole gene= 0.24138410374968286\n",
      "elongation= 46\n",
      "aspect ratio= 0.7222222222222222\n",
      "centroid= [5034 3444]\n"
     ]
    },
    {
     "name": "stderr",
     "output_type": "stream",
     "text": [
      "C:\\Users\\heito\\anaconda3\\lib\\site-packages\\fil_finder\\filfinder2D.py:138: UserWarning: No beam width given. Using 0 pixels.\n",
      "  warnings.warn(\"No beam width given. Using 0 pixels.\")\n",
      "C:\\Users\\heito\\anaconda3\\lib\\site-packages\\astropy\\units\\quantity.py:479: RuntimeWarning: divide by zero encountered in true_divide\n",
      "  result = super().__array_ufunc__(function, method, *arrays, **kwargs)\n",
      "C:\\Users\\heito\\anaconda3\\lib\\site-packages\\astropy\\units\\quantity.py:479: RuntimeWarning: invalid value encountered in true_divide\n",
      "  result = super().__array_ufunc__(function, method, *arrays, **kwargs)\n",
      "C:\\Users\\heito\\anaconda3\\lib\\site-packages\\fil_finder\\filfinder2D.py:288: UserWarning: Using inputted mask. Skipping creation of anew mask.\n",
      "  warnings.warn(\"Using inputted mask. Skipping creation of a\"\n",
      "C:\\Users\\heito\\anaconda3\\lib\\site-packages\\fil_finder\\filament.py:326: UserWarning: Graph pruning reached max iterations.\n",
      "  warnings.warn(\"Graph pruning reached max iterations.\")\n"
     ]
    },
    {
     "name": "stdout",
     "output_type": "stream",
     "text": [
      "dipole gene= 1.5286308265434132\n",
      "elongation= 114\n",
      "aspect ratio= 0.578125\n",
      "centroid= [5028 1921]\n"
     ]
    },
    {
     "name": "stderr",
     "output_type": "stream",
     "text": [
      "C:\\Users\\heito\\anaconda3\\lib\\site-packages\\fil_finder\\filfinder2D.py:138: UserWarning: No beam width given. Using 0 pixels.\n",
      "  warnings.warn(\"No beam width given. Using 0 pixels.\")\n",
      "C:\\Users\\heito\\anaconda3\\lib\\site-packages\\astropy\\units\\quantity.py:479: RuntimeWarning: divide by zero encountered in true_divide\n",
      "  result = super().__array_ufunc__(function, method, *arrays, **kwargs)\n",
      "C:\\Users\\heito\\anaconda3\\lib\\site-packages\\astropy\\units\\quantity.py:479: RuntimeWarning: invalid value encountered in true_divide\n",
      "  result = super().__array_ufunc__(function, method, *arrays, **kwargs)\n",
      "C:\\Users\\heito\\anaconda3\\lib\\site-packages\\fil_finder\\filfinder2D.py:288: UserWarning: Using inputted mask. Skipping creation of anew mask.\n",
      "  warnings.warn(\"Using inputted mask. Skipping creation of a\"\n",
      "C:\\Users\\heito\\anaconda3\\lib\\site-packages\\fil_finder\\filament.py:326: UserWarning: Graph pruning reached max iterations.\n",
      "  warnings.warn(\"Graph pruning reached max iterations.\")\n"
     ]
    },
    {
     "name": "stdout",
     "output_type": "stream",
     "text": [
      "dipole gene= 0.1940998422730146\n",
      "elongation= 33\n",
      "aspect ratio= 0.7132352941176471\n",
      "centroid= [5001 3767]\n",
      "dipole gene= 0.02041358411361943\n",
      "elongation= 22\n",
      "aspect ratio= 1.0287769784172662\n",
      "centroid= [4997 4735]\n"
     ]
    },
    {
     "name": "stderr",
     "output_type": "stream",
     "text": [
      "C:\\Users\\heito\\anaconda3\\lib\\site-packages\\fil_finder\\filfinder2D.py:138: UserWarning: No beam width given. Using 0 pixels.\n",
      "  warnings.warn(\"No beam width given. Using 0 pixels.\")\n",
      "C:\\Users\\heito\\anaconda3\\lib\\site-packages\\astropy\\units\\quantity.py:479: RuntimeWarning: divide by zero encountered in true_divide\n",
      "  result = super().__array_ufunc__(function, method, *arrays, **kwargs)\n",
      "C:\\Users\\heito\\anaconda3\\lib\\site-packages\\astropy\\units\\quantity.py:479: RuntimeWarning: invalid value encountered in true_divide\n",
      "  result = super().__array_ufunc__(function, method, *arrays, **kwargs)\n",
      "C:\\Users\\heito\\anaconda3\\lib\\site-packages\\fil_finder\\filfinder2D.py:288: UserWarning: Using inputted mask. Skipping creation of anew mask.\n",
      "  warnings.warn(\"Using inputted mask. Skipping creation of a\"\n",
      "C:\\Users\\heito\\anaconda3\\lib\\site-packages\\fil_finder\\filament.py:326: UserWarning: Graph pruning reached max iterations.\n",
      "  warnings.warn(\"Graph pruning reached max iterations.\")\n"
     ]
    },
    {
     "name": "stdout",
     "output_type": "stream",
     "text": [
      "dipole gene= 0.3381134863030739\n",
      "elongation= 74\n",
      "aspect ratio= 1.4732142857142858\n",
      "centroid= [4983 4347]\n"
     ]
    },
    {
     "name": "stderr",
     "output_type": "stream",
     "text": [
      "C:\\Users\\heito\\anaconda3\\lib\\site-packages\\fil_finder\\filfinder2D.py:138: UserWarning: No beam width given. Using 0 pixels.\n",
      "  warnings.warn(\"No beam width given. Using 0 pixels.\")\n",
      "C:\\Users\\heito\\anaconda3\\lib\\site-packages\\astropy\\units\\quantity.py:479: RuntimeWarning: divide by zero encountered in true_divide\n",
      "  result = super().__array_ufunc__(function, method, *arrays, **kwargs)\n",
      "C:\\Users\\heito\\anaconda3\\lib\\site-packages\\astropy\\units\\quantity.py:479: RuntimeWarning: invalid value encountered in true_divide\n",
      "  result = super().__array_ufunc__(function, method, *arrays, **kwargs)\n",
      "C:\\Users\\heito\\anaconda3\\lib\\site-packages\\fil_finder\\filfinder2D.py:288: UserWarning: Using inputted mask. Skipping creation of anew mask.\n",
      "  warnings.warn(\"Using inputted mask. Skipping creation of a\"\n",
      "C:\\Users\\heito\\anaconda3\\lib\\site-packages\\fil_finder\\filament.py:326: UserWarning: Graph pruning reached max iterations.\n",
      "  warnings.warn(\"Graph pruning reached max iterations.\")\n"
     ]
    },
    {
     "name": "stdout",
     "output_type": "stream",
     "text": [
      "dipole gene= 1.180943235283254\n",
      "elongation= 84\n",
      "aspect ratio= 0.691358024691358\n",
      "centroid= [5012 2194]\n"
     ]
    },
    {
     "name": "stderr",
     "output_type": "stream",
     "text": [
      "C:\\Users\\heito\\anaconda3\\lib\\site-packages\\fil_finder\\filfinder2D.py:138: UserWarning: No beam width given. Using 0 pixels.\n",
      "  warnings.warn(\"No beam width given. Using 0 pixels.\")\n",
      "C:\\Users\\heito\\anaconda3\\lib\\site-packages\\astropy\\units\\quantity.py:479: RuntimeWarning: divide by zero encountered in true_divide\n",
      "  result = super().__array_ufunc__(function, method, *arrays, **kwargs)\n",
      "C:\\Users\\heito\\anaconda3\\lib\\site-packages\\astropy\\units\\quantity.py:479: RuntimeWarning: invalid value encountered in true_divide\n",
      "  result = super().__array_ufunc__(function, method, *arrays, **kwargs)\n",
      "C:\\Users\\heito\\anaconda3\\lib\\site-packages\\fil_finder\\filfinder2D.py:288: UserWarning: Using inputted mask. Skipping creation of anew mask.\n",
      "  warnings.warn(\"Using inputted mask. Skipping creation of a\"\n",
      "C:\\Users\\heito\\anaconda3\\lib\\site-packages\\fil_finder\\filament.py:326: UserWarning: Graph pruning reached max iterations.\n",
      "  warnings.warn(\"Graph pruning reached max iterations.\")\n"
     ]
    },
    {
     "name": "stdout",
     "output_type": "stream",
     "text": [
      "dipole gene= 3.0325748613103407\n",
      "elongation= 186\n",
      "aspect ratio= 1.7903225806451613\n",
      "centroid= [4973 5426]\n"
     ]
    },
    {
     "name": "stderr",
     "output_type": "stream",
     "text": [
      "C:\\Users\\heito\\anaconda3\\lib\\site-packages\\fil_finder\\filfinder2D.py:138: UserWarning: No beam width given. Using 0 pixels.\n",
      "  warnings.warn(\"No beam width given. Using 0 pixels.\")\n",
      "C:\\Users\\heito\\anaconda3\\lib\\site-packages\\astropy\\units\\quantity.py:479: RuntimeWarning: divide by zero encountered in true_divide\n",
      "  result = super().__array_ufunc__(function, method, *arrays, **kwargs)\n",
      "C:\\Users\\heito\\anaconda3\\lib\\site-packages\\astropy\\units\\quantity.py:479: RuntimeWarning: invalid value encountered in true_divide\n",
      "  result = super().__array_ufunc__(function, method, *arrays, **kwargs)\n",
      "C:\\Users\\heito\\anaconda3\\lib\\site-packages\\fil_finder\\filfinder2D.py:288: UserWarning: Using inputted mask. Skipping creation of anew mask.\n",
      "  warnings.warn(\"Using inputted mask. Skipping creation of a\"\n",
      "C:\\Users\\heito\\anaconda3\\lib\\site-packages\\fil_finder\\filament.py:326: UserWarning: Graph pruning reached max iterations.\n",
      "  warnings.warn(\"Graph pruning reached max iterations.\")\n"
     ]
    },
    {
     "name": "stdout",
     "output_type": "stream",
     "text": [
      "dipole gene= 0.07353360509149479\n",
      "elongation= 56\n",
      "aspect ratio= 1.146153846153846\n",
      "centroid= [4983 5071]\n",
      "dipole gene= 1.8933357752807065\n",
      "elongation= 199\n",
      "aspect ratio= 0.5041666666666667\n",
      "centroid= [4883 1555]\n"
     ]
    },
    {
     "name": "stderr",
     "output_type": "stream",
     "text": [
      "C:\\Users\\heito\\anaconda3\\lib\\site-packages\\fil_finder\\filfinder2D.py:138: UserWarning: No beam width given. Using 0 pixels.\n",
      "  warnings.warn(\"No beam width given. Using 0 pixels.\")\n",
      "C:\\Users\\heito\\anaconda3\\lib\\site-packages\\astropy\\units\\quantity.py:479: RuntimeWarning: divide by zero encountered in true_divide\n",
      "  result = super().__array_ufunc__(function, method, *arrays, **kwargs)\n",
      "C:\\Users\\heito\\anaconda3\\lib\\site-packages\\astropy\\units\\quantity.py:479: RuntimeWarning: invalid value encountered in true_divide\n",
      "  result = super().__array_ufunc__(function, method, *arrays, **kwargs)\n",
      "C:\\Users\\heito\\anaconda3\\lib\\site-packages\\fil_finder\\filfinder2D.py:288: UserWarning: Using inputted mask. Skipping creation of anew mask.\n",
      "  warnings.warn(\"Using inputted mask. Skipping creation of a\"\n",
      "C:\\Users\\heito\\anaconda3\\lib\\site-packages\\fil_finder\\filament.py:326: UserWarning: Graph pruning reached max iterations.\n",
      "  warnings.warn(\"Graph pruning reached max iterations.\")\n"
     ]
    },
    {
     "name": "stdout",
     "output_type": "stream",
     "text": [
      "dipole gene= 2.4175287870171647\n",
      "elongation= 156\n",
      "aspect ratio= 0.3781094527363184\n",
      "centroid= [4807 1956]\n"
     ]
    },
    {
     "name": "stderr",
     "output_type": "stream",
     "text": [
      "C:\\Users\\heito\\anaconda3\\lib\\site-packages\\fil_finder\\filfinder2D.py:138: UserWarning: No beam width given. Using 0 pixels.\n",
      "  warnings.warn(\"No beam width given. Using 0 pixels.\")\n",
      "C:\\Users\\heito\\anaconda3\\lib\\site-packages\\astropy\\units\\quantity.py:479: RuntimeWarning: divide by zero encountered in true_divide\n",
      "  result = super().__array_ufunc__(function, method, *arrays, **kwargs)\n",
      "C:\\Users\\heito\\anaconda3\\lib\\site-packages\\astropy\\units\\quantity.py:479: RuntimeWarning: invalid value encountered in true_divide\n",
      "  result = super().__array_ufunc__(function, method, *arrays, **kwargs)\n",
      "C:\\Users\\heito\\anaconda3\\lib\\site-packages\\fil_finder\\filfinder2D.py:288: UserWarning: Using inputted mask. Skipping creation of anew mask.\n",
      "  warnings.warn(\"Using inputted mask. Skipping creation of a\"\n",
      "C:\\Users\\heito\\anaconda3\\lib\\site-packages\\fil_finder\\filament.py:326: UserWarning: Graph pruning reached max iterations.\n",
      "  warnings.warn(\"Graph pruning reached max iterations.\")\n"
     ]
    },
    {
     "name": "stdout",
     "output_type": "stream",
     "text": [
      "dipole gene= 0.4193771908430955\n",
      "elongation= 66\n",
      "aspect ratio= 0.6666666666666666\n",
      "centroid= [4760 2249]\n"
     ]
    },
    {
     "name": "stderr",
     "output_type": "stream",
     "text": [
      "C:\\Users\\heito\\anaconda3\\lib\\site-packages\\fil_finder\\filfinder2D.py:138: UserWarning: No beam width given. Using 0 pixels.\n",
      "  warnings.warn(\"No beam width given. Using 0 pixels.\")\n",
      "C:\\Users\\heito\\anaconda3\\lib\\site-packages\\astropy\\units\\quantity.py:479: RuntimeWarning: divide by zero encountered in true_divide\n",
      "  result = super().__array_ufunc__(function, method, *arrays, **kwargs)\n",
      "C:\\Users\\heito\\anaconda3\\lib\\site-packages\\astropy\\units\\quantity.py:479: RuntimeWarning: invalid value encountered in true_divide\n",
      "  result = super().__array_ufunc__(function, method, *arrays, **kwargs)\n",
      "C:\\Users\\heito\\anaconda3\\lib\\site-packages\\fil_finder\\filfinder2D.py:288: UserWarning: Using inputted mask. Skipping creation of anew mask.\n",
      "  warnings.warn(\"Using inputted mask. Skipping creation of a\"\n",
      "C:\\Users\\heito\\anaconda3\\lib\\site-packages\\fil_finder\\filament.py:326: UserWarning: Graph pruning reached max iterations.\n",
      "  warnings.warn(\"Graph pruning reached max iterations.\")\n"
     ]
    },
    {
     "name": "stdout",
     "output_type": "stream",
     "text": [
      "dipole gene= 0.22135395406774458\n",
      "elongation= 46\n",
      "aspect ratio= 0.7709923664122137\n",
      "centroid= [4736 2819]\n",
      "dipole gene= 0.048057606912724794\n",
      "elongation= 49\n",
      "aspect ratio= 1.0145985401459854\n",
      "centroid= [4730 3529]\n"
     ]
    },
    {
     "name": "stderr",
     "output_type": "stream",
     "text": [
      "C:\\Users\\heito\\anaconda3\\lib\\site-packages\\fil_finder\\filfinder2D.py:138: UserWarning: No beam width given. Using 0 pixels.\n",
      "  warnings.warn(\"No beam width given. Using 0 pixels.\")\n",
      "C:\\Users\\heito\\anaconda3\\lib\\site-packages\\astropy\\units\\quantity.py:479: RuntimeWarning: divide by zero encountered in true_divide\n",
      "  result = super().__array_ufunc__(function, method, *arrays, **kwargs)\n",
      "C:\\Users\\heito\\anaconda3\\lib\\site-packages\\astropy\\units\\quantity.py:479: RuntimeWarning: invalid value encountered in true_divide\n",
      "  result = super().__array_ufunc__(function, method, *arrays, **kwargs)\n",
      "C:\\Users\\heito\\anaconda3\\lib\\site-packages\\fil_finder\\filfinder2D.py:288: UserWarning: Using inputted mask. Skipping creation of anew mask.\n",
      "  warnings.warn(\"Using inputted mask. Skipping creation of a\"\n",
      "C:\\Users\\heito\\anaconda3\\lib\\site-packages\\fil_finder\\filament.py:326: UserWarning: Graph pruning reached max iterations.\n",
      "  warnings.warn(\"Graph pruning reached max iterations.\")\n"
     ]
    },
    {
     "name": "stdout",
     "output_type": "stream",
     "text": [
      "dipole gene= 0.2246352524572624\n",
      "elongation= 67\n",
      "aspect ratio= 0.6824324324324325\n",
      "centroid= [4732 3765]\n"
     ]
    },
    {
     "name": "stderr",
     "output_type": "stream",
     "text": [
      "C:\\Users\\heito\\anaconda3\\lib\\site-packages\\fil_finder\\filfinder2D.py:138: UserWarning: No beam width given. Using 0 pixels.\n",
      "  warnings.warn(\"No beam width given. Using 0 pixels.\")\n",
      "C:\\Users\\heito\\anaconda3\\lib\\site-packages\\astropy\\units\\quantity.py:479: RuntimeWarning: divide by zero encountered in true_divide\n",
      "  result = super().__array_ufunc__(function, method, *arrays, **kwargs)\n",
      "C:\\Users\\heito\\anaconda3\\lib\\site-packages\\astropy\\units\\quantity.py:479: RuntimeWarning: invalid value encountered in true_divide\n",
      "  result = super().__array_ufunc__(function, method, *arrays, **kwargs)\n",
      "C:\\Users\\heito\\anaconda3\\lib\\site-packages\\fil_finder\\filfinder2D.py:288: UserWarning: Using inputted mask. Skipping creation of anew mask.\n",
      "  warnings.warn(\"Using inputted mask. Skipping creation of a\"\n",
      "C:\\Users\\heito\\anaconda3\\lib\\site-packages\\fil_finder\\filament.py:326: UserWarning: Graph pruning reached max iterations.\n",
      "  warnings.warn(\"Graph pruning reached max iterations.\")\n"
     ]
    },
    {
     "name": "stdout",
     "output_type": "stream",
     "text": [
      "dipole gene= 0.22044882775149413\n",
      "elongation= 31\n",
      "aspect ratio= 0.75177304964539\n",
      "centroid= [4726 2567]\n"
     ]
    },
    {
     "name": "stderr",
     "output_type": "stream",
     "text": [
      "C:\\Users\\heito\\anaconda3\\lib\\site-packages\\fil_finder\\filfinder2D.py:138: UserWarning: No beam width given. Using 0 pixels.\n",
      "  warnings.warn(\"No beam width given. Using 0 pixels.\")\n",
      "C:\\Users\\heito\\anaconda3\\lib\\site-packages\\astropy\\units\\quantity.py:479: RuntimeWarning: divide by zero encountered in true_divide\n",
      "  result = super().__array_ufunc__(function, method, *arrays, **kwargs)\n",
      "C:\\Users\\heito\\anaconda3\\lib\\site-packages\\astropy\\units\\quantity.py:479: RuntimeWarning: invalid value encountered in true_divide\n",
      "  result = super().__array_ufunc__(function, method, *arrays, **kwargs)\n",
      "C:\\Users\\heito\\anaconda3\\lib\\site-packages\\fil_finder\\filfinder2D.py:288: UserWarning: Using inputted mask. Skipping creation of anew mask.\n",
      "  warnings.warn(\"Using inputted mask. Skipping creation of a\"\n",
      "C:\\Users\\heito\\anaconda3\\lib\\site-packages\\fil_finder\\filament.py:326: UserWarning: Graph pruning reached max iterations.\n",
      "  warnings.warn(\"Graph pruning reached max iterations.\")\n"
     ]
    },
    {
     "name": "stdout",
     "output_type": "stream",
     "text": [
      "dipole gene= 0.0593281210341976\n",
      "elongation= 34\n",
      "aspect ratio= 0.8417721518987342\n",
      "centroid= [4733 3149]\n",
      "dipole gene= 0.17386613736158577\n",
      "elongation= 42\n",
      "aspect ratio= 1.0689655172413792\n",
      "centroid= [4702 4426]\n"
     ]
    },
    {
     "name": "stderr",
     "output_type": "stream",
     "text": [
      "C:\\Users\\heito\\anaconda3\\lib\\site-packages\\fil_finder\\filfinder2D.py:138: UserWarning: No beam width given. Using 0 pixels.\n",
      "  warnings.warn(\"No beam width given. Using 0 pixels.\")\n",
      "C:\\Users\\heito\\anaconda3\\lib\\site-packages\\astropy\\units\\quantity.py:479: RuntimeWarning: divide by zero encountered in true_divide\n",
      "  result = super().__array_ufunc__(function, method, *arrays, **kwargs)\n",
      "C:\\Users\\heito\\anaconda3\\lib\\site-packages\\astropy\\units\\quantity.py:479: RuntimeWarning: invalid value encountered in true_divide\n",
      "  result = super().__array_ufunc__(function, method, *arrays, **kwargs)\n",
      "C:\\Users\\heito\\anaconda3\\lib\\site-packages\\fil_finder\\filfinder2D.py:288: UserWarning: Using inputted mask. Skipping creation of anew mask.\n",
      "  warnings.warn(\"Using inputted mask. Skipping creation of a\"\n",
      "C:\\Users\\heito\\anaconda3\\lib\\site-packages\\fil_finder\\filament.py:326: UserWarning: Graph pruning reached max iterations.\n",
      "  warnings.warn(\"Graph pruning reached max iterations.\")\n"
     ]
    },
    {
     "name": "stdout",
     "output_type": "stream",
     "text": [
      "dipole gene= 0.35517343511302135\n",
      "elongation= 70\n",
      "aspect ratio= 0.6137931034482759\n",
      "centroid= [4713 5059]\n",
      "dipole gene= 0.05883262580105802\n",
      "elongation= 55\n",
      "aspect ratio= 0.7243589743589743\n",
      "centroid= [4720 4689]\n"
     ]
    },
    {
     "name": "stderr",
     "output_type": "stream",
     "text": [
      "C:\\Users\\heito\\anaconda3\\lib\\site-packages\\fil_finder\\filfinder2D.py:138: UserWarning: No beam width given. Using 0 pixels.\n",
      "  warnings.warn(\"No beam width given. Using 0 pixels.\")\n",
      "C:\\Users\\heito\\anaconda3\\lib\\site-packages\\astropy\\units\\quantity.py:479: RuntimeWarning: divide by zero encountered in true_divide\n",
      "  result = super().__array_ufunc__(function, method, *arrays, **kwargs)\n",
      "C:\\Users\\heito\\anaconda3\\lib\\site-packages\\astropy\\units\\quantity.py:479: RuntimeWarning: invalid value encountered in true_divide\n",
      "  result = super().__array_ufunc__(function, method, *arrays, **kwargs)\n",
      "C:\\Users\\heito\\anaconda3\\lib\\site-packages\\fil_finder\\filfinder2D.py:288: UserWarning: Using inputted mask. Skipping creation of anew mask.\n",
      "  warnings.warn(\"Using inputted mask. Skipping creation of a\"\n",
      "C:\\Users\\heito\\anaconda3\\lib\\site-packages\\fil_finder\\filament.py:326: UserWarning: Graph pruning reached max iterations.\n",
      "  warnings.warn(\"Graph pruning reached max iterations.\")\n"
     ]
    },
    {
     "name": "stdout",
     "output_type": "stream",
     "text": [
      "dipole gene= 3.2748944600611134\n",
      "elongation= 204\n",
      "aspect ratio= 1.0101010101010102\n",
      "centroid= [4751 5698]\n"
     ]
    },
    {
     "name": "stderr",
     "output_type": "stream",
     "text": [
      "C:\\Users\\heito\\anaconda3\\lib\\site-packages\\fil_finder\\filfinder2D.py:138: UserWarning: No beam width given. Using 0 pixels.\n",
      "  warnings.warn(\"No beam width given. Using 0 pixels.\")\n",
      "C:\\Users\\heito\\anaconda3\\lib\\site-packages\\astropy\\units\\quantity.py:479: RuntimeWarning: divide by zero encountered in true_divide\n",
      "  result = super().__array_ufunc__(function, method, *arrays, **kwargs)\n",
      "C:\\Users\\heito\\anaconda3\\lib\\site-packages\\astropy\\units\\quantity.py:479: RuntimeWarning: invalid value encountered in true_divide\n",
      "  result = super().__array_ufunc__(function, method, *arrays, **kwargs)\n",
      "C:\\Users\\heito\\anaconda3\\lib\\site-packages\\fil_finder\\filfinder2D.py:288: UserWarning: Using inputted mask. Skipping creation of anew mask.\n",
      "  warnings.warn(\"Using inputted mask. Skipping creation of a\"\n",
      "C:\\Users\\heito\\anaconda3\\lib\\site-packages\\fil_finder\\filament.py:326: UserWarning: Graph pruning reached max iterations.\n",
      "  warnings.warn(\"Graph pruning reached max iterations.\")\n"
     ]
    },
    {
     "name": "stdout",
     "output_type": "stream",
     "text": [
      "dipole gene= 2.4003230293311595\n",
      "elongation= 198\n",
      "aspect ratio= 2.730337078651685\n",
      "centroid= [4664 1517]\n",
      "dipole gene= 0.681790503577698\n",
      "elongation= 73\n",
      "aspect ratio= 1.6\n",
      "centroid= [4653 1859]\n"
     ]
    },
    {
     "name": "stderr",
     "output_type": "stream",
     "text": [
      "C:\\Users\\heito\\anaconda3\\lib\\site-packages\\fil_finder\\filfinder2D.py:138: UserWarning: No beam width given. Using 0 pixels.\n",
      "  warnings.warn(\"No beam width given. Using 0 pixels.\")\n",
      "C:\\Users\\heito\\anaconda3\\lib\\site-packages\\astropy\\units\\quantity.py:479: RuntimeWarning: divide by zero encountered in true_divide\n",
      "  result = super().__array_ufunc__(function, method, *arrays, **kwargs)\n",
      "C:\\Users\\heito\\anaconda3\\lib\\site-packages\\astropy\\units\\quantity.py:479: RuntimeWarning: invalid value encountered in true_divide\n",
      "  result = super().__array_ufunc__(function, method, *arrays, **kwargs)\n",
      "C:\\Users\\heito\\anaconda3\\lib\\site-packages\\fil_finder\\filfinder2D.py:288: UserWarning: Using inputted mask. Skipping creation of anew mask.\n",
      "  warnings.warn(\"Using inputted mask. Skipping creation of a\"\n",
      "C:\\Users\\heito\\anaconda3\\lib\\site-packages\\fil_finder\\filament.py:326: UserWarning: Graph pruning reached max iterations.\n",
      "  warnings.warn(\"Graph pruning reached max iterations.\")\n"
     ]
    },
    {
     "name": "stdout",
     "output_type": "stream",
     "text": [
      "dipole gene= 0.7963107865112462\n",
      "elongation= 71\n",
      "aspect ratio= 0.7391304347826086\n",
      "centroid= [4669 5387]\n"
     ]
    },
    {
     "name": "stderr",
     "output_type": "stream",
     "text": [
      "C:\\Users\\heito\\anaconda3\\lib\\site-packages\\fil_finder\\filfinder2D.py:138: UserWarning: No beam width given. Using 0 pixels.\n",
      "  warnings.warn(\"No beam width given. Using 0 pixels.\")\n",
      "C:\\Users\\heito\\anaconda3\\lib\\site-packages\\astropy\\units\\quantity.py:479: RuntimeWarning: divide by zero encountered in true_divide\n",
      "  result = super().__array_ufunc__(function, method, *arrays, **kwargs)\n",
      "C:\\Users\\heito\\anaconda3\\lib\\site-packages\\astropy\\units\\quantity.py:479: RuntimeWarning: invalid value encountered in true_divide\n",
      "  result = super().__array_ufunc__(function, method, *arrays, **kwargs)\n",
      "C:\\Users\\heito\\anaconda3\\lib\\site-packages\\fil_finder\\filfinder2D.py:288: UserWarning: Using inputted mask. Skipping creation of anew mask.\n",
      "  warnings.warn(\"Using inputted mask. Skipping creation of a\"\n",
      "C:\\Users\\heito\\anaconda3\\lib\\site-packages\\fil_finder\\filament.py:326: UserWarning: Graph pruning reached max iterations.\n",
      "  warnings.warn(\"Graph pruning reached max iterations.\")\n"
     ]
    },
    {
     "name": "stdout",
     "output_type": "stream",
     "text": [
      "dipole gene= 0.020846577583121896\n",
      "elongation= 42\n",
      "aspect ratio= 0.8181818181818182\n",
      "centroid= [4618 1291]\n"
     ]
    },
    {
     "name": "stderr",
     "output_type": "stream",
     "text": [
      "C:\\Users\\heito\\anaconda3\\lib\\site-packages\\fil_finder\\filfinder2D.py:138: UserWarning: No beam width given. Using 0 pixels.\n",
      "  warnings.warn(\"No beam width given. Using 0 pixels.\")\n",
      "C:\\Users\\heito\\anaconda3\\lib\\site-packages\\astropy\\units\\quantity.py:479: RuntimeWarning: divide by zero encountered in true_divide\n",
      "  result = super().__array_ufunc__(function, method, *arrays, **kwargs)\n",
      "C:\\Users\\heito\\anaconda3\\lib\\site-packages\\astropy\\units\\quantity.py:479: RuntimeWarning: invalid value encountered in true_divide\n",
      "  result = super().__array_ufunc__(function, method, *arrays, **kwargs)\n",
      "C:\\Users\\heito\\anaconda3\\lib\\site-packages\\fil_finder\\filfinder2D.py:288: UserWarning: Using inputted mask. Skipping creation of anew mask.\n",
      "  warnings.warn(\"Using inputted mask. Skipping creation of a\"\n",
      "C:\\Users\\heito\\anaconda3\\lib\\site-packages\\fil_finder\\filament.py:326: UserWarning: Graph pruning reached max iterations.\n",
      "  warnings.warn(\"Graph pruning reached max iterations.\")\n"
     ]
    },
    {
     "name": "stdout",
     "output_type": "stream",
     "text": [
      "dipole gene= 0.027337182991483265\n",
      "elongation= 31\n",
      "aspect ratio= 0.7964601769911505\n",
      "centroid= [4616 2516]\n"
     ]
    },
    {
     "name": "stderr",
     "output_type": "stream",
     "text": [
      "C:\\Users\\heito\\anaconda3\\lib\\site-packages\\fil_finder\\filfinder2D.py:138: UserWarning: No beam width given. Using 0 pixels.\n",
      "  warnings.warn(\"No beam width given. Using 0 pixels.\")\n",
      "C:\\Users\\heito\\anaconda3\\lib\\site-packages\\astropy\\units\\quantity.py:479: RuntimeWarning: divide by zero encountered in true_divide\n",
      "  result = super().__array_ufunc__(function, method, *arrays, **kwargs)\n",
      "C:\\Users\\heito\\anaconda3\\lib\\site-packages\\astropy\\units\\quantity.py:479: RuntimeWarning: invalid value encountered in true_divide\n",
      "  result = super().__array_ufunc__(function, method, *arrays, **kwargs)\n",
      "C:\\Users\\heito\\anaconda3\\lib\\site-packages\\fil_finder\\filfinder2D.py:288: UserWarning: Using inputted mask. Skipping creation of anew mask.\n",
      "  warnings.warn(\"Using inputted mask. Skipping creation of a\"\n",
      "C:\\Users\\heito\\anaconda3\\lib\\site-packages\\fil_finder\\filament.py:326: UserWarning: Graph pruning reached max iterations.\n",
      "  warnings.warn(\"Graph pruning reached max iterations.\")\n"
     ]
    },
    {
     "name": "stdout",
     "output_type": "stream",
     "text": [
      "dipole gene= 0.5926248843532463\n",
      "elongation= 107\n",
      "aspect ratio= 0.7604790419161677\n",
      "centroid= [4639 4093]\n"
     ]
    },
    {
     "name": "stderr",
     "output_type": "stream",
     "text": [
      "C:\\Users\\heito\\anaconda3\\lib\\site-packages\\fil_finder\\filfinder2D.py:138: UserWarning: No beam width given. Using 0 pixels.\n",
      "  warnings.warn(\"No beam width given. Using 0 pixels.\")\n",
      "C:\\Users\\heito\\anaconda3\\lib\\site-packages\\astropy\\units\\quantity.py:479: RuntimeWarning: divide by zero encountered in true_divide\n",
      "  result = super().__array_ufunc__(function, method, *arrays, **kwargs)\n",
      "C:\\Users\\heito\\anaconda3\\lib\\site-packages\\astropy\\units\\quantity.py:479: RuntimeWarning: invalid value encountered in true_divide\n",
      "  result = super().__array_ufunc__(function, method, *arrays, **kwargs)\n",
      "C:\\Users\\heito\\anaconda3\\lib\\site-packages\\fil_finder\\filfinder2D.py:288: UserWarning: Using inputted mask. Skipping creation of anew mask.\n",
      "  warnings.warn(\"Using inputted mask. Skipping creation of a\"\n",
      "C:\\Users\\heito\\anaconda3\\lib\\site-packages\\fil_finder\\filament.py:326: UserWarning: Graph pruning reached max iterations.\n",
      "  warnings.warn(\"Graph pruning reached max iterations.\")\n"
     ]
    },
    {
     "name": "stdout",
     "output_type": "stream",
     "text": [
      "dipole gene= 0.2671966566733211\n",
      "elongation= 14\n",
      "aspect ratio= 0.9186991869918699\n",
      "centroid= [4605 4345]\n",
      "dipole gene= 0.007535003654179728\n",
      "elongation= 47\n",
      "aspect ratio= 0.8108108108108109\n",
      "centroid= [4611 2230]\n"
     ]
    },
    {
     "name": "stderr",
     "output_type": "stream",
     "text": [
      "C:\\Users\\heito\\anaconda3\\lib\\site-packages\\fil_finder\\filfinder2D.py:138: UserWarning: No beam width given. Using 0 pixels.\n",
      "  warnings.warn(\"No beam width given. Using 0 pixels.\")\n",
      "C:\\Users\\heito\\anaconda3\\lib\\site-packages\\astropy\\units\\quantity.py:479: RuntimeWarning: divide by zero encountered in true_divide\n",
      "  result = super().__array_ufunc__(function, method, *arrays, **kwargs)\n",
      "C:\\Users\\heito\\anaconda3\\lib\\site-packages\\astropy\\units\\quantity.py:479: RuntimeWarning: invalid value encountered in true_divide\n",
      "  result = super().__array_ufunc__(function, method, *arrays, **kwargs)\n",
      "C:\\Users\\heito\\anaconda3\\lib\\site-packages\\fil_finder\\filfinder2D.py:288: UserWarning: Using inputted mask. Skipping creation of anew mask.\n",
      "  warnings.warn(\"Using inputted mask. Skipping creation of a\"\n",
      "C:\\Users\\heito\\anaconda3\\lib\\site-packages\\fil_finder\\filament.py:326: UserWarning: Graph pruning reached max iterations.\n",
      "  warnings.warn(\"Graph pruning reached max iterations.\")\n"
     ]
    },
    {
     "name": "stdout",
     "output_type": "stream",
     "text": [
      "dipole gene= 0.6859799403334872\n",
      "elongation= 66\n",
      "aspect ratio= 0.6356589147286822\n",
      "centroid= [4602 2810]\n"
     ]
    },
    {
     "name": "stderr",
     "output_type": "stream",
     "text": [
      "C:\\Users\\heito\\anaconda3\\lib\\site-packages\\fil_finder\\filfinder2D.py:138: UserWarning: No beam width given. Using 0 pixels.\n",
      "  warnings.warn(\"No beam width given. Using 0 pixels.\")\n",
      "C:\\Users\\heito\\anaconda3\\lib\\site-packages\\astropy\\units\\quantity.py:479: RuntimeWarning: divide by zero encountered in true_divide\n",
      "  result = super().__array_ufunc__(function, method, *arrays, **kwargs)\n",
      "C:\\Users\\heito\\anaconda3\\lib\\site-packages\\astropy\\units\\quantity.py:479: RuntimeWarning: invalid value encountered in true_divide\n",
      "  result = super().__array_ufunc__(function, method, *arrays, **kwargs)\n",
      "C:\\Users\\heito\\anaconda3\\lib\\site-packages\\fil_finder\\filfinder2D.py:288: UserWarning: Using inputted mask. Skipping creation of anew mask.\n",
      "  warnings.warn(\"Using inputted mask. Skipping creation of a\"\n",
      "C:\\Users\\heito\\anaconda3\\lib\\site-packages\\fil_finder\\filament.py:326: UserWarning: Graph pruning reached max iterations.\n",
      "  warnings.warn(\"Graph pruning reached max iterations.\")\n"
     ]
    },
    {
     "name": "stdout",
     "output_type": "stream",
     "text": [
      "dipole gene= 0.07369253428719702\n",
      "elongation= 29\n",
      "aspect ratio= 0.7410714285714286\n",
      "centroid= [4589 3479]\n"
     ]
    },
    {
     "name": "stderr",
     "output_type": "stream",
     "text": [
      "C:\\Users\\heito\\anaconda3\\lib\\site-packages\\fil_finder\\filfinder2D.py:138: UserWarning: No beam width given. Using 0 pixels.\n",
      "  warnings.warn(\"No beam width given. Using 0 pixels.\")\n",
      "C:\\Users\\heito\\anaconda3\\lib\\site-packages\\astropy\\units\\quantity.py:479: RuntimeWarning: divide by zero encountered in true_divide\n",
      "  result = super().__array_ufunc__(function, method, *arrays, **kwargs)\n",
      "C:\\Users\\heito\\anaconda3\\lib\\site-packages\\astropy\\units\\quantity.py:479: RuntimeWarning: invalid value encountered in true_divide\n",
      "  result = super().__array_ufunc__(function, method, *arrays, **kwargs)\n",
      "C:\\Users\\heito\\anaconda3\\lib\\site-packages\\fil_finder\\filfinder2D.py:288: UserWarning: Using inputted mask. Skipping creation of anew mask.\n",
      "  warnings.warn(\"Using inputted mask. Skipping creation of a\"\n",
      "C:\\Users\\heito\\anaconda3\\lib\\site-packages\\fil_finder\\filament.py:326: UserWarning: Graph pruning reached max iterations.\n",
      "  warnings.warn(\"Graph pruning reached max iterations.\")\n"
     ]
    },
    {
     "name": "stdout",
     "output_type": "stream",
     "text": [
      "dipole gene= 0.12103280584418773\n",
      "elongation= 39\n",
      "aspect ratio= 0.7244094488188977\n",
      "centroid= [4589 3755]\n",
      "dipole gene= 0.018833743274483943\n",
      "elongation= 38\n",
      "aspect ratio= 0.7712418300653595\n",
      "centroid= [4556 3139]\n"
     ]
    },
    {
     "name": "stderr",
     "output_type": "stream",
     "text": [
      "C:\\Users\\heito\\anaconda3\\lib\\site-packages\\fil_finder\\filfinder2D.py:138: UserWarning: No beam width given. Using 0 pixels.\n",
      "  warnings.warn(\"No beam width given. Using 0 pixels.\")\n",
      "C:\\Users\\heito\\anaconda3\\lib\\site-packages\\astropy\\units\\quantity.py:479: RuntimeWarning: divide by zero encountered in true_divide\n",
      "  result = super().__array_ufunc__(function, method, *arrays, **kwargs)\n",
      "C:\\Users\\heito\\anaconda3\\lib\\site-packages\\astropy\\units\\quantity.py:479: RuntimeWarning: invalid value encountered in true_divide\n",
      "  result = super().__array_ufunc__(function, method, *arrays, **kwargs)\n",
      "C:\\Users\\heito\\anaconda3\\lib\\site-packages\\fil_finder\\filfinder2D.py:288: UserWarning: Using inputted mask. Skipping creation of anew mask.\n",
      "  warnings.warn(\"Using inputted mask. Skipping creation of a\"\n",
      "C:\\Users\\heito\\anaconda3\\lib\\site-packages\\fil_finder\\filament.py:326: UserWarning: Graph pruning reached max iterations.\n",
      "  warnings.warn(\"Graph pruning reached max iterations.\")\n"
     ]
    },
    {
     "name": "stdout",
     "output_type": "stream",
     "text": [
      "dipole gene= 0.0003113146832657832\n",
      "elongation= 51\n",
      "aspect ratio= 0.7857142857142857\n",
      "centroid= [4554 4720]\n",
      "dipole gene= 0.015569385747361289\n",
      "elongation= 42\n",
      "aspect ratio= 0.8780487804878049\n",
      "centroid= [4533 5033]\n"
     ]
    },
    {
     "name": "stderr",
     "output_type": "stream",
     "text": [
      "C:\\Users\\heito\\anaconda3\\lib\\site-packages\\fil_finder\\filfinder2D.py:138: UserWarning: No beam width given. Using 0 pixels.\n",
      "  warnings.warn(\"No beam width given. Using 0 pixels.\")\n",
      "C:\\Users\\heito\\anaconda3\\lib\\site-packages\\astropy\\units\\quantity.py:479: RuntimeWarning: divide by zero encountered in true_divide\n",
      "  result = super().__array_ufunc__(function, method, *arrays, **kwargs)\n",
      "C:\\Users\\heito\\anaconda3\\lib\\site-packages\\astropy\\units\\quantity.py:479: RuntimeWarning: invalid value encountered in true_divide\n",
      "  result = super().__array_ufunc__(function, method, *arrays, **kwargs)\n",
      "C:\\Users\\heito\\anaconda3\\lib\\site-packages\\fil_finder\\filfinder2D.py:288: UserWarning: Using inputted mask. Skipping creation of anew mask.\n",
      "  warnings.warn(\"Using inputted mask. Skipping creation of a\"\n",
      "C:\\Users\\heito\\anaconda3\\lib\\site-packages\\fil_finder\\filament.py:326: UserWarning: Graph pruning reached max iterations.\n",
      "  warnings.warn(\"Graph pruning reached max iterations.\")\n"
     ]
    },
    {
     "name": "stdout",
     "output_type": "stream",
     "text": [
      "dipole gene= 0.28814544385364416\n",
      "elongation= 43\n",
      "aspect ratio= 1.1571428571428573\n",
      "centroid= [4513 5343]\n"
     ]
    },
    {
     "name": "stderr",
     "output_type": "stream",
     "text": [
      "C:\\Users\\heito\\anaconda3\\lib\\site-packages\\fil_finder\\filfinder2D.py:138: UserWarning: No beam width given. Using 0 pixels.\n",
      "  warnings.warn(\"No beam width given. Using 0 pixels.\")\n",
      "C:\\Users\\heito\\anaconda3\\lib\\site-packages\\astropy\\units\\quantity.py:479: RuntimeWarning: divide by zero encountered in true_divide\n",
      "  result = super().__array_ufunc__(function, method, *arrays, **kwargs)\n",
      "C:\\Users\\heito\\anaconda3\\lib\\site-packages\\astropy\\units\\quantity.py:479: RuntimeWarning: invalid value encountered in true_divide\n",
      "  result = super().__array_ufunc__(function, method, *arrays, **kwargs)\n",
      "C:\\Users\\heito\\anaconda3\\lib\\site-packages\\fil_finder\\filfinder2D.py:288: UserWarning: Using inputted mask. Skipping creation of anew mask.\n",
      "  warnings.warn(\"Using inputted mask. Skipping creation of a\"\n",
      "C:\\Users\\heito\\anaconda3\\lib\\site-packages\\fil_finder\\filament.py:326: UserWarning: Graph pruning reached max iterations.\n",
      "  warnings.warn(\"Graph pruning reached max iterations.\")\n"
     ]
    },
    {
     "name": "stdout",
     "output_type": "stream",
     "text": [
      "dipole gene= 3.847521883136099\n",
      "elongation= 268\n",
      "aspect ratio= 1.0387596899224807\n",
      "centroid= [4461 5723]\n"
     ]
    },
    {
     "name": "stderr",
     "output_type": "stream",
     "text": [
      "C:\\Users\\heito\\anaconda3\\lib\\site-packages\\fil_finder\\filfinder2D.py:138: UserWarning: No beam width given. Using 0 pixels.\n",
      "  warnings.warn(\"No beam width given. Using 0 pixels.\")\n",
      "C:\\Users\\heito\\anaconda3\\lib\\site-packages\\astropy\\units\\quantity.py:479: RuntimeWarning: divide by zero encountered in true_divide\n",
      "  result = super().__array_ufunc__(function, method, *arrays, **kwargs)\n",
      "C:\\Users\\heito\\anaconda3\\lib\\site-packages\\astropy\\units\\quantity.py:479: RuntimeWarning: invalid value encountered in true_divide\n",
      "  result = super().__array_ufunc__(function, method, *arrays, **kwargs)\n",
      "C:\\Users\\heito\\anaconda3\\lib\\site-packages\\fil_finder\\filfinder2D.py:288: UserWarning: Using inputted mask. Skipping creation of anew mask.\n",
      "  warnings.warn(\"Using inputted mask. Skipping creation of a\"\n",
      "C:\\Users\\heito\\anaconda3\\lib\\site-packages\\fil_finder\\filament.py:326: UserWarning: Graph pruning reached max iterations.\n",
      "  warnings.warn(\"Graph pruning reached max iterations.\")\n"
     ]
    },
    {
     "name": "stdout",
     "output_type": "stream",
     "text": [
      "dipole gene= 0.2798737453666478\n",
      "elongation= 46\n",
      "aspect ratio= 0.7916666666666666\n",
      "centroid= [4395 1854]\n"
     ]
    },
    {
     "name": "stderr",
     "output_type": "stream",
     "text": [
      "C:\\Users\\heito\\anaconda3\\lib\\site-packages\\fil_finder\\filfinder2D.py:138: UserWarning: No beam width given. Using 0 pixels.\n",
      "  warnings.warn(\"No beam width given. Using 0 pixels.\")\n",
      "C:\\Users\\heito\\anaconda3\\lib\\site-packages\\astropy\\units\\quantity.py:479: RuntimeWarning: divide by zero encountered in true_divide\n",
      "  result = super().__array_ufunc__(function, method, *arrays, **kwargs)\n",
      "C:\\Users\\heito\\anaconda3\\lib\\site-packages\\astropy\\units\\quantity.py:479: RuntimeWarning: invalid value encountered in true_divide\n",
      "  result = super().__array_ufunc__(function, method, *arrays, **kwargs)\n",
      "C:\\Users\\heito\\anaconda3\\lib\\site-packages\\fil_finder\\filfinder2D.py:288: UserWarning: Using inputted mask. Skipping creation of anew mask.\n",
      "  warnings.warn(\"Using inputted mask. Skipping creation of a\"\n",
      "C:\\Users\\heito\\anaconda3\\lib\\site-packages\\fil_finder\\filament.py:326: UserWarning: Graph pruning reached max iterations.\n",
      "  warnings.warn(\"Graph pruning reached max iterations.\")\n"
     ]
    },
    {
     "name": "stdout",
     "output_type": "stream",
     "text": [
      "dipole gene= 0.9835359795822517\n",
      "elongation= 114\n",
      "aspect ratio= 0.842391304347826\n",
      "centroid= [4382 1596]\n"
     ]
    },
    {
     "name": "stderr",
     "output_type": "stream",
     "text": [
      "C:\\Users\\heito\\anaconda3\\lib\\site-packages\\fil_finder\\filfinder2D.py:138: UserWarning: No beam width given. Using 0 pixels.\n",
      "  warnings.warn(\"No beam width given. Using 0 pixels.\")\n",
      "C:\\Users\\heito\\anaconda3\\lib\\site-packages\\astropy\\units\\quantity.py:479: RuntimeWarning: divide by zero encountered in true_divide\n",
      "  result = super().__array_ufunc__(function, method, *arrays, **kwargs)\n",
      "C:\\Users\\heito\\anaconda3\\lib\\site-packages\\astropy\\units\\quantity.py:479: RuntimeWarning: invalid value encountered in true_divide\n",
      "  result = super().__array_ufunc__(function, method, *arrays, **kwargs)\n",
      "C:\\Users\\heito\\anaconda3\\lib\\site-packages\\fil_finder\\filfinder2D.py:288: UserWarning: Using inputted mask. Skipping creation of anew mask.\n",
      "  warnings.warn(\"Using inputted mask. Skipping creation of a\"\n",
      "C:\\Users\\heito\\anaconda3\\lib\\site-packages\\fil_finder\\filament.py:326: UserWarning: Graph pruning reached max iterations.\n",
      "  warnings.warn(\"Graph pruning reached max iterations.\")\n"
     ]
    },
    {
     "name": "stdout",
     "output_type": "stream",
     "text": [
      "dipole gene= 0.06440066313185562\n",
      "elongation= 22\n",
      "aspect ratio= 1.1071428571428572\n",
      "centroid= [4311 2855]\n"
     ]
    },
    {
     "name": "stderr",
     "output_type": "stream",
     "text": [
      "C:\\Users\\heito\\anaconda3\\lib\\site-packages\\fil_finder\\filfinder2D.py:138: UserWarning: No beam width given. Using 0 pixels.\n",
      "  warnings.warn(\"No beam width given. Using 0 pixels.\")\n",
      "C:\\Users\\heito\\anaconda3\\lib\\site-packages\\astropy\\units\\quantity.py:479: RuntimeWarning: divide by zero encountered in true_divide\n",
      "  result = super().__array_ufunc__(function, method, *arrays, **kwargs)\n",
      "C:\\Users\\heito\\anaconda3\\lib\\site-packages\\astropy\\units\\quantity.py:479: RuntimeWarning: invalid value encountered in true_divide\n",
      "  result = super().__array_ufunc__(function, method, *arrays, **kwargs)\n",
      "C:\\Users\\heito\\anaconda3\\lib\\site-packages\\fil_finder\\filfinder2D.py:288: UserWarning: Using inputted mask. Skipping creation of anew mask.\n",
      "  warnings.warn(\"Using inputted mask. Skipping creation of a\"\n",
      "C:\\Users\\heito\\anaconda3\\lib\\site-packages\\fil_finder\\filament.py:326: UserWarning: Graph pruning reached max iterations.\n",
      "  warnings.warn(\"Graph pruning reached max iterations.\")\n"
     ]
    },
    {
     "name": "stdout",
     "output_type": "stream",
     "text": [
      "dipole gene= 0.0\n",
      "elongation= 40\n",
      "aspect ratio= 0.8222222222222222\n",
      "centroid= [4316 3102]\n",
      "dipole gene= 0.08629177188642291\n",
      "elongation= 54\n",
      "aspect ratio= 0.8157894736842105\n",
      "centroid= [4313 2490]\n"
     ]
    },
    {
     "name": "stderr",
     "output_type": "stream",
     "text": [
      "C:\\Users\\heito\\anaconda3\\lib\\site-packages\\fil_finder\\filfinder2D.py:138: UserWarning: No beam width given. Using 0 pixels.\n",
      "  warnings.warn(\"No beam width given. Using 0 pixels.\")\n",
      "C:\\Users\\heito\\anaconda3\\lib\\site-packages\\astropy\\units\\quantity.py:479: RuntimeWarning: divide by zero encountered in true_divide\n",
      "  result = super().__array_ufunc__(function, method, *arrays, **kwargs)\n",
      "C:\\Users\\heito\\anaconda3\\lib\\site-packages\\astropy\\units\\quantity.py:479: RuntimeWarning: invalid value encountered in true_divide\n",
      "  result = super().__array_ufunc__(function, method, *arrays, **kwargs)\n",
      "C:\\Users\\heito\\anaconda3\\lib\\site-packages\\fil_finder\\filfinder2D.py:288: UserWarning: Using inputted mask. Skipping creation of anew mask.\n",
      "  warnings.warn(\"Using inputted mask. Skipping creation of a\"\n",
      "C:\\Users\\heito\\anaconda3\\lib\\site-packages\\fil_finder\\filament.py:326: UserWarning: Graph pruning reached max iterations.\n",
      "  warnings.warn(\"Graph pruning reached max iterations.\")\n"
     ]
    },
    {
     "name": "stdout",
     "output_type": "stream",
     "text": [
      "dipole gene= 0.6144995220437168\n",
      "elongation= 77\n",
      "aspect ratio= 0.7638888888888888\n",
      "centroid= [4306 2205]\n"
     ]
    },
    {
     "name": "stderr",
     "output_type": "stream",
     "text": [
      "C:\\Users\\heito\\anaconda3\\lib\\site-packages\\fil_finder\\filfinder2D.py:138: UserWarning: No beam width given. Using 0 pixels.\n",
      "  warnings.warn(\"No beam width given. Using 0 pixels.\")\n",
      "C:\\Users\\heito\\anaconda3\\lib\\site-packages\\astropy\\units\\quantity.py:479: RuntimeWarning: divide by zero encountered in true_divide\n",
      "  result = super().__array_ufunc__(function, method, *arrays, **kwargs)\n",
      "C:\\Users\\heito\\anaconda3\\lib\\site-packages\\astropy\\units\\quantity.py:479: RuntimeWarning: invalid value encountered in true_divide\n",
      "  result = super().__array_ufunc__(function, method, *arrays, **kwargs)\n",
      "C:\\Users\\heito\\anaconda3\\lib\\site-packages\\fil_finder\\filfinder2D.py:288: UserWarning: Using inputted mask. Skipping creation of anew mask.\n",
      "  warnings.warn(\"Using inputted mask. Skipping creation of a\"\n",
      "C:\\Users\\heito\\anaconda3\\lib\\site-packages\\fil_finder\\filament.py:326: UserWarning: Graph pruning reached max iterations.\n",
      "  warnings.warn(\"Graph pruning reached max iterations.\")\n"
     ]
    },
    {
     "name": "stdout",
     "output_type": "stream",
     "text": [
      "dipole gene= 0.18014186824498588\n",
      "elongation= 36\n",
      "aspect ratio= 1.0619469026548674\n",
      "centroid= [4280 4421]\n"
     ]
    },
    {
     "name": "stderr",
     "output_type": "stream",
     "text": [
      "C:\\Users\\heito\\anaconda3\\lib\\site-packages\\fil_finder\\filfinder2D.py:138: UserWarning: No beam width given. Using 0 pixels.\n",
      "  warnings.warn(\"No beam width given. Using 0 pixels.\")\n",
      "C:\\Users\\heito\\anaconda3\\lib\\site-packages\\astropy\\units\\quantity.py:479: RuntimeWarning: divide by zero encountered in true_divide\n",
      "  result = super().__array_ufunc__(function, method, *arrays, **kwargs)\n",
      "C:\\Users\\heito\\anaconda3\\lib\\site-packages\\astropy\\units\\quantity.py:479: RuntimeWarning: invalid value encountered in true_divide\n",
      "  result = super().__array_ufunc__(function, method, *arrays, **kwargs)\n",
      "C:\\Users\\heito\\anaconda3\\lib\\site-packages\\fil_finder\\filfinder2D.py:288: UserWarning: Using inputted mask. Skipping creation of anew mask.\n",
      "  warnings.warn(\"Using inputted mask. Skipping creation of a\"\n"
     ]
    },
    {
     "name": "stdout",
     "output_type": "stream",
     "text": [
      "dipole gene= 0.03524934864659897\n",
      "elongation= 10\n",
      "aspect ratio= 1.065040650406504\n",
      "centroid= [4271 3511]\n"
     ]
    },
    {
     "name": "stderr",
     "output_type": "stream",
     "text": [
      "C:\\Users\\heito\\anaconda3\\lib\\site-packages\\fil_finder\\filament.py:326: UserWarning: Graph pruning reached max iterations.\n",
      "  warnings.warn(\"Graph pruning reached max iterations.\")\n"
     ]
    },
    {
     "name": "stdout",
     "output_type": "stream",
     "text": [
      "dipole gene= 1.9715920172494152\n",
      "elongation= 198\n",
      "aspect ratio= 2.2966101694915255\n",
      "centroid= [4258 5745]\n"
     ]
    },
    {
     "name": "stderr",
     "output_type": "stream",
     "text": [
      "C:\\Users\\heito\\anaconda3\\lib\\site-packages\\fil_finder\\filfinder2D.py:138: UserWarning: No beam width given. Using 0 pixels.\n",
      "  warnings.warn(\"No beam width given. Using 0 pixels.\")\n",
      "C:\\Users\\heito\\anaconda3\\lib\\site-packages\\astropy\\units\\quantity.py:479: RuntimeWarning: divide by zero encountered in true_divide\n",
      "  result = super().__array_ufunc__(function, method, *arrays, **kwargs)\n",
      "C:\\Users\\heito\\anaconda3\\lib\\site-packages\\astropy\\units\\quantity.py:479: RuntimeWarning: invalid value encountered in true_divide\n",
      "  result = super().__array_ufunc__(function, method, *arrays, **kwargs)\n",
      "C:\\Users\\heito\\anaconda3\\lib\\site-packages\\fil_finder\\filfinder2D.py:288: UserWarning: Using inputted mask. Skipping creation of anew mask.\n",
      "  warnings.warn(\"Using inputted mask. Skipping creation of a\"\n",
      "C:\\Users\\heito\\anaconda3\\lib\\site-packages\\fil_finder\\filament.py:326: UserWarning: Graph pruning reached max iterations.\n",
      "  warnings.warn(\"Graph pruning reached max iterations.\")\n"
     ]
    },
    {
     "name": "stdout",
     "output_type": "stream",
     "text": [
      "dipole gene= 0.1792214219961854\n",
      "elongation= 83\n",
      "aspect ratio= 1.0538461538461539\n",
      "centroid= [4264 1244]\n"
     ]
    },
    {
     "name": "stderr",
     "output_type": "stream",
     "text": [
      "C:\\Users\\heito\\anaconda3\\lib\\site-packages\\fil_finder\\filfinder2D.py:138: UserWarning: No beam width given. Using 0 pixels.\n",
      "  warnings.warn(\"No beam width given. Using 0 pixels.\")\n",
      "C:\\Users\\heito\\anaconda3\\lib\\site-packages\\astropy\\units\\quantity.py:479: RuntimeWarning: divide by zero encountered in true_divide\n",
      "  result = super().__array_ufunc__(function, method, *arrays, **kwargs)\n",
      "C:\\Users\\heito\\anaconda3\\lib\\site-packages\\astropy\\units\\quantity.py:479: RuntimeWarning: invalid value encountered in true_divide\n",
      "  result = super().__array_ufunc__(function, method, *arrays, **kwargs)\n",
      "C:\\Users\\heito\\anaconda3\\lib\\site-packages\\fil_finder\\filfinder2D.py:288: UserWarning: Using inputted mask. Skipping creation of anew mask.\n",
      "  warnings.warn(\"Using inputted mask. Skipping creation of a\"\n",
      "C:\\Users\\heito\\anaconda3\\lib\\site-packages\\fil_finder\\filament.py:326: UserWarning: Graph pruning reached max iterations.\n",
      "  warnings.warn(\"Graph pruning reached max iterations.\")\n"
     ]
    },
    {
     "name": "stdout",
     "output_type": "stream",
     "text": [
      "dipole gene= 0.13102685256716262\n",
      "elongation= 41\n",
      "aspect ratio= 0.8067226890756303\n",
      "centroid= [4252 4096]\n"
     ]
    },
    {
     "name": "stderr",
     "output_type": "stream",
     "text": [
      "C:\\Users\\heito\\anaconda3\\lib\\site-packages\\fil_finder\\filfinder2D.py:138: UserWarning: No beam width given. Using 0 pixels.\n",
      "  warnings.warn(\"No beam width given. Using 0 pixels.\")\n",
      "C:\\Users\\heito\\anaconda3\\lib\\site-packages\\astropy\\units\\quantity.py:479: RuntimeWarning: divide by zero encountered in true_divide\n",
      "  result = super().__array_ufunc__(function, method, *arrays, **kwargs)\n",
      "C:\\Users\\heito\\anaconda3\\lib\\site-packages\\astropy\\units\\quantity.py:479: RuntimeWarning: invalid value encountered in true_divide\n",
      "  result = super().__array_ufunc__(function, method, *arrays, **kwargs)\n",
      "C:\\Users\\heito\\anaconda3\\lib\\site-packages\\fil_finder\\filfinder2D.py:288: UserWarning: Using inputted mask. Skipping creation of anew mask.\n",
      "  warnings.warn(\"Using inputted mask. Skipping creation of a\"\n",
      "C:\\Users\\heito\\anaconda3\\lib\\site-packages\\fil_finder\\filament.py:326: UserWarning: Graph pruning reached max iterations.\n",
      "  warnings.warn(\"Graph pruning reached max iterations.\")\n"
     ]
    },
    {
     "name": "stdout",
     "output_type": "stream",
     "text": [
      "dipole gene= 0.06970081670656725\n",
      "elongation= 34\n",
      "aspect ratio= 0.8538461538461538\n",
      "centroid= [4255 3767]\n"
     ]
    },
    {
     "name": "stderr",
     "output_type": "stream",
     "text": [
      "C:\\Users\\heito\\anaconda3\\lib\\site-packages\\fil_finder\\filfinder2D.py:138: UserWarning: No beam width given. Using 0 pixels.\n",
      "  warnings.warn(\"No beam width given. Using 0 pixels.\")\n",
      "C:\\Users\\heito\\anaconda3\\lib\\site-packages\\astropy\\units\\quantity.py:479: RuntimeWarning: divide by zero encountered in true_divide\n",
      "  result = super().__array_ufunc__(function, method, *arrays, **kwargs)\n",
      "C:\\Users\\heito\\anaconda3\\lib\\site-packages\\astropy\\units\\quantity.py:479: RuntimeWarning: invalid value encountered in true_divide\n",
      "  result = super().__array_ufunc__(function, method, *arrays, **kwargs)\n",
      "C:\\Users\\heito\\anaconda3\\lib\\site-packages\\fil_finder\\filfinder2D.py:288: UserWarning: Using inputted mask. Skipping creation of anew mask.\n",
      "  warnings.warn(\"Using inputted mask. Skipping creation of a\"\n",
      "C:\\Users\\heito\\anaconda3\\lib\\site-packages\\fil_finder\\filament.py:326: UserWarning: Graph pruning reached max iterations.\n",
      "  warnings.warn(\"Graph pruning reached max iterations.\")\n"
     ]
    },
    {
     "name": "stdout",
     "output_type": "stream",
     "text": [
      "dipole gene= 0.15477837040372727\n",
      "elongation= 73\n",
      "aspect ratio= 0.6601307189542484\n",
      "centroid= [4264 4722]\n"
     ]
    },
    {
     "name": "stderr",
     "output_type": "stream",
     "text": [
      "C:\\Users\\heito\\anaconda3\\lib\\site-packages\\fil_finder\\filfinder2D.py:138: UserWarning: No beam width given. Using 0 pixels.\n",
      "  warnings.warn(\"No beam width given. Using 0 pixels.\")\n",
      "C:\\Users\\heito\\anaconda3\\lib\\site-packages\\astropy\\units\\quantity.py:479: RuntimeWarning: divide by zero encountered in true_divide\n",
      "  result = super().__array_ufunc__(function, method, *arrays, **kwargs)\n",
      "C:\\Users\\heito\\anaconda3\\lib\\site-packages\\astropy\\units\\quantity.py:479: RuntimeWarning: invalid value encountered in true_divide\n",
      "  result = super().__array_ufunc__(function, method, *arrays, **kwargs)\n",
      "C:\\Users\\heito\\anaconda3\\lib\\site-packages\\fil_finder\\filfinder2D.py:288: UserWarning: Using inputted mask. Skipping creation of anew mask.\n",
      "  warnings.warn(\"Using inputted mask. Skipping creation of a\"\n",
      "C:\\Users\\heito\\anaconda3\\lib\\site-packages\\fil_finder\\filament.py:326: UserWarning: Graph pruning reached max iterations.\n",
      "  warnings.warn(\"Graph pruning reached max iterations.\")\n"
     ]
    },
    {
     "name": "stdout",
     "output_type": "stream",
     "text": [
      "dipole gene= 0.039734209799190394\n",
      "elongation= 55\n",
      "aspect ratio= 0.7792207792207793\n",
      "centroid= [4258 4997]\n",
      "dipole gene= 0.6377052881906778\n",
      "elongation= 83\n",
      "aspect ratio= 1.0774647887323943\n",
      "centroid= [4227 5396]\n"
     ]
    },
    {
     "name": "stderr",
     "output_type": "stream",
     "text": [
      "C:\\Users\\heito\\anaconda3\\lib\\site-packages\\fil_finder\\filfinder2D.py:138: UserWarning: No beam width given. Using 0 pixels.\n",
      "  warnings.warn(\"No beam width given. Using 0 pixels.\")\n",
      "C:\\Users\\heito\\anaconda3\\lib\\site-packages\\astropy\\units\\quantity.py:479: RuntimeWarning: divide by zero encountered in true_divide\n",
      "  result = super().__array_ufunc__(function, method, *arrays, **kwargs)\n",
      "C:\\Users\\heito\\anaconda3\\lib\\site-packages\\astropy\\units\\quantity.py:479: RuntimeWarning: invalid value encountered in true_divide\n",
      "  result = super().__array_ufunc__(function, method, *arrays, **kwargs)\n",
      "C:\\Users\\heito\\anaconda3\\lib\\site-packages\\fil_finder\\filfinder2D.py:288: UserWarning: Using inputted mask. Skipping creation of anew mask.\n",
      "  warnings.warn(\"Using inputted mask. Skipping creation of a\"\n",
      "C:\\Users\\heito\\anaconda3\\lib\\site-packages\\fil_finder\\filament.py:326: UserWarning: Graph pruning reached max iterations.\n",
      "  warnings.warn(\"Graph pruning reached max iterations.\")\n"
     ]
    },
    {
     "name": "stdout",
     "output_type": "stream",
     "text": [
      "dipole gene= 0.10658524098309406\n",
      "elongation= 21\n",
      "aspect ratio= 0.916030534351145\n",
      "centroid= [4201 1898]\n"
     ]
    },
    {
     "name": "stderr",
     "output_type": "stream",
     "text": [
      "C:\\Users\\heito\\anaconda3\\lib\\site-packages\\fil_finder\\filfinder2D.py:138: UserWarning: No beam width given. Using 0 pixels.\n",
      "  warnings.warn(\"No beam width given. Using 0 pixels.\")\n",
      "C:\\Users\\heito\\anaconda3\\lib\\site-packages\\astropy\\units\\quantity.py:479: RuntimeWarning: divide by zero encountered in true_divide\n",
      "  result = super().__array_ufunc__(function, method, *arrays, **kwargs)\n",
      "C:\\Users\\heito\\anaconda3\\lib\\site-packages\\astropy\\units\\quantity.py:479: RuntimeWarning: invalid value encountered in true_divide\n",
      "  result = super().__array_ufunc__(function, method, *arrays, **kwargs)\n",
      "C:\\Users\\heito\\anaconda3\\lib\\site-packages\\fil_finder\\filfinder2D.py:288: UserWarning: Using inputted mask. Skipping creation of anew mask.\n",
      "  warnings.warn(\"Using inputted mask. Skipping creation of a\"\n",
      "C:\\Users\\heito\\anaconda3\\lib\\site-packages\\fil_finder\\filament.py:326: UserWarning: Graph pruning reached max iterations.\n",
      "  warnings.warn(\"Graph pruning reached max iterations.\")\n"
     ]
    },
    {
     "name": "stdout",
     "output_type": "stream",
     "text": [
      "dipole gene= 0.45966500524151366\n",
      "elongation= 77\n",
      "aspect ratio= 1.4285714285714286\n",
      "centroid= [4182 1556]\n"
     ]
    },
    {
     "name": "stderr",
     "output_type": "stream",
     "text": [
      "C:\\Users\\heito\\anaconda3\\lib\\site-packages\\fil_finder\\filfinder2D.py:138: UserWarning: No beam width given. Using 0 pixels.\n",
      "  warnings.warn(\"No beam width given. Using 0 pixels.\")\n",
      "C:\\Users\\heito\\anaconda3\\lib\\site-packages\\astropy\\units\\quantity.py:479: RuntimeWarning: divide by zero encountered in true_divide\n",
      "  result = super().__array_ufunc__(function, method, *arrays, **kwargs)\n",
      "C:\\Users\\heito\\anaconda3\\lib\\site-packages\\astropy\\units\\quantity.py:479: RuntimeWarning: invalid value encountered in true_divide\n",
      "  result = super().__array_ufunc__(function, method, *arrays, **kwargs)\n",
      "C:\\Users\\heito\\anaconda3\\lib\\site-packages\\fil_finder\\filfinder2D.py:288: UserWarning: Using inputted mask. Skipping creation of anew mask.\n",
      "  warnings.warn(\"Using inputted mask. Skipping creation of a\"\n",
      "C:\\Users\\heito\\anaconda3\\lib\\site-packages\\fil_finder\\filament.py:326: UserWarning: Graph pruning reached max iterations.\n",
      "  warnings.warn(\"Graph pruning reached max iterations.\")\n"
     ]
    },
    {
     "name": "stdout",
     "output_type": "stream",
     "text": [
      "dipole gene= 0.0056653361835597455\n",
      "elongation= 31\n",
      "aspect ratio= 1.087378640776699\n",
      "centroid= [4177 3442]\n"
     ]
    },
    {
     "name": "stderr",
     "output_type": "stream",
     "text": [
      "C:\\Users\\heito\\anaconda3\\lib\\site-packages\\fil_finder\\filfinder2D.py:138: UserWarning: No beam width given. Using 0 pixels.\n",
      "  warnings.warn(\"No beam width given. Using 0 pixels.\")\n",
      "C:\\Users\\heito\\anaconda3\\lib\\site-packages\\astropy\\units\\quantity.py:479: RuntimeWarning: divide by zero encountered in true_divide\n",
      "  result = super().__array_ufunc__(function, method, *arrays, **kwargs)\n",
      "C:\\Users\\heito\\anaconda3\\lib\\site-packages\\astropy\\units\\quantity.py:479: RuntimeWarning: invalid value encountered in true_divide\n",
      "  result = super().__array_ufunc__(function, method, *arrays, **kwargs)\n",
      "C:\\Users\\heito\\anaconda3\\lib\\site-packages\\fil_finder\\filfinder2D.py:288: UserWarning: Using inputted mask. Skipping creation of anew mask.\n",
      "  warnings.warn(\"Using inputted mask. Skipping creation of a\"\n",
      "C:\\Users\\heito\\anaconda3\\lib\\site-packages\\fil_finder\\filament.py:326: UserWarning: Graph pruning reached max iterations.\n",
      "  warnings.warn(\"Graph pruning reached max iterations.\")\n"
     ]
    },
    {
     "name": "stdout",
     "output_type": "stream",
     "text": [
      "dipole gene= 0.0016120647278891817\n",
      "elongation= 31\n",
      "aspect ratio= 0.8914728682170543\n",
      "centroid= [4170 3118]\n",
      "dipole gene= 0.052587379065912127\n",
      "elongation= 55\n",
      "aspect ratio= 0.7484276729559748\n",
      "centroid= [4184 2818]\n"
     ]
    },
    {
     "name": "stderr",
     "output_type": "stream",
     "text": [
      "C:\\Users\\heito\\anaconda3\\lib\\site-packages\\fil_finder\\filfinder2D.py:138: UserWarning: No beam width given. Using 0 pixels.\n",
      "  warnings.warn(\"No beam width given. Using 0 pixels.\")\n",
      "C:\\Users\\heito\\anaconda3\\lib\\site-packages\\astropy\\units\\quantity.py:479: RuntimeWarning: divide by zero encountered in true_divide\n",
      "  result = super().__array_ufunc__(function, method, *arrays, **kwargs)\n",
      "C:\\Users\\heito\\anaconda3\\lib\\site-packages\\astropy\\units\\quantity.py:479: RuntimeWarning: invalid value encountered in true_divide\n",
      "  result = super().__array_ufunc__(function, method, *arrays, **kwargs)\n",
      "C:\\Users\\heito\\anaconda3\\lib\\site-packages\\fil_finder\\filfinder2D.py:288: UserWarning: Using inputted mask. Skipping creation of anew mask.\n",
      "  warnings.warn(\"Using inputted mask. Skipping creation of a\"\n",
      "C:\\Users\\heito\\anaconda3\\lib\\site-packages\\fil_finder\\filament.py:326: UserWarning: Graph pruning reached max iterations.\n",
      "  warnings.warn(\"Graph pruning reached max iterations.\")\n"
     ]
    },
    {
     "name": "stdout",
     "output_type": "stream",
     "text": [
      "dipole gene= 0.2707448749051771\n",
      "elongation= 71\n",
      "aspect ratio= 0.7132867132867133\n",
      "centroid= [4168 2540]\n"
     ]
    },
    {
     "name": "stderr",
     "output_type": "stream",
     "text": [
      "C:\\Users\\heito\\anaconda3\\lib\\site-packages\\fil_finder\\filfinder2D.py:138: UserWarning: No beam width given. Using 0 pixels.\n",
      "  warnings.warn(\"No beam width given. Using 0 pixels.\")\n",
      "C:\\Users\\heito\\anaconda3\\lib\\site-packages\\astropy\\units\\quantity.py:479: RuntimeWarning: divide by zero encountered in true_divide\n",
      "  result = super().__array_ufunc__(function, method, *arrays, **kwargs)\n",
      "C:\\Users\\heito\\anaconda3\\lib\\site-packages\\astropy\\units\\quantity.py:479: RuntimeWarning: invalid value encountered in true_divide\n",
      "  result = super().__array_ufunc__(function, method, *arrays, **kwargs)\n",
      "C:\\Users\\heito\\anaconda3\\lib\\site-packages\\fil_finder\\filfinder2D.py:288: UserWarning: Using inputted mask. Skipping creation of anew mask.\n",
      "  warnings.warn(\"Using inputted mask. Skipping creation of a\"\n",
      "C:\\Users\\heito\\anaconda3\\lib\\site-packages\\fil_finder\\filament.py:326: UserWarning: Graph pruning reached max iterations.\n",
      "  warnings.warn(\"Graph pruning reached max iterations.\")\n"
     ]
    },
    {
     "name": "stdout",
     "output_type": "stream",
     "text": [
      "dipole gene= 0.014255522944074617\n",
      "elongation= 44\n",
      "aspect ratio= 0.8\n",
      "centroid= [4157 2202]\n",
      "dipole gene= 0.0024683325523238153\n",
      "elongation= 14\n",
      "aspect ratio= 1.1386138613861385\n",
      "centroid= [4137 3762]\n",
      "dipole gene= 0.059596027616507494\n",
      "elongation= 17\n",
      "aspect ratio= 0.8842975206611571\n",
      "centroid= [4127 4743]\n",
      "dipole gene= 0.008318921961584614\n",
      "elongation= 17\n",
      "aspect ratio= 1.062992125984252\n",
      "centroid= [4115 4068]\n",
      "dipole gene= 0.01660150199745589\n",
      "elongation= 9\n",
      "aspect ratio= 1.0275229357798166\n",
      "centroid= [4099 4400]\n"
     ]
    },
    {
     "name": "stderr",
     "output_type": "stream",
     "text": [
      "C:\\Users\\heito\\anaconda3\\lib\\site-packages\\fil_finder\\filfinder2D.py:138: UserWarning: No beam width given. Using 0 pixels.\n",
      "  warnings.warn(\"No beam width given. Using 0 pixels.\")\n",
      "C:\\Users\\heito\\anaconda3\\lib\\site-packages\\astropy\\units\\quantity.py:479: RuntimeWarning: divide by zero encountered in true_divide\n",
      "  result = super().__array_ufunc__(function, method, *arrays, **kwargs)\n",
      "C:\\Users\\heito\\anaconda3\\lib\\site-packages\\astropy\\units\\quantity.py:479: RuntimeWarning: invalid value encountered in true_divide\n",
      "  result = super().__array_ufunc__(function, method, *arrays, **kwargs)\n",
      "C:\\Users\\heito\\anaconda3\\lib\\site-packages\\fil_finder\\filfinder2D.py:288: UserWarning: Using inputted mask. Skipping creation of anew mask.\n",
      "  warnings.warn(\"Using inputted mask. Skipping creation of a\"\n",
      "C:\\Users\\heito\\anaconda3\\lib\\site-packages\\fil_finder\\filament.py:326: UserWarning: Graph pruning reached max iterations.\n",
      "  warnings.warn(\"Graph pruning reached max iterations.\")\n"
     ]
    },
    {
     "name": "stdout",
     "output_type": "stream",
     "text": [
      "dipole gene= 0.0014056328324965352\n",
      "elongation= 46\n",
      "aspect ratio= 0.8053691275167785\n",
      "centroid= [4101 5021]\n"
     ]
    },
    {
     "name": "stderr",
     "output_type": "stream",
     "text": [
      "C:\\Users\\heito\\anaconda3\\lib\\site-packages\\fil_finder\\filfinder2D.py:138: UserWarning: No beam width given. Using 0 pixels.\n",
      "  warnings.warn(\"No beam width given. Using 0 pixels.\")\n",
      "C:\\Users\\heito\\anaconda3\\lib\\site-packages\\astropy\\units\\quantity.py:479: RuntimeWarning: divide by zero encountered in true_divide\n",
      "  result = super().__array_ufunc__(function, method, *arrays, **kwargs)\n",
      "C:\\Users\\heito\\anaconda3\\lib\\site-packages\\astropy\\units\\quantity.py:479: RuntimeWarning: invalid value encountered in true_divide\n",
      "  result = super().__array_ufunc__(function, method, *arrays, **kwargs)\n",
      "C:\\Users\\heito\\anaconda3\\lib\\site-packages\\fil_finder\\filfinder2D.py:288: UserWarning: Using inputted mask. Skipping creation of anew mask.\n",
      "  warnings.warn(\"Using inputted mask. Skipping creation of a\"\n",
      "C:\\Users\\heito\\anaconda3\\lib\\site-packages\\fil_finder\\filament.py:326: UserWarning: Graph pruning reached max iterations.\n",
      "  warnings.warn(\"Graph pruning reached max iterations.\")\n"
     ]
    },
    {
     "name": "stdout",
     "output_type": "stream",
     "text": [
      "dipole gene= 0.4359621242575229\n",
      "elongation= 65\n",
      "aspect ratio= 0.9727891156462585\n",
      "centroid= [4072 5343]\n",
      "dipole gene= 1.4806793609472595\n",
      "elongation= 194\n",
      "aspect ratio= 1.20625\n",
      "centroid= [4031 5672]\n"
     ]
    },
    {
     "name": "stderr",
     "output_type": "stream",
     "text": [
      "C:\\Users\\heito\\anaconda3\\lib\\site-packages\\fil_finder\\filfinder2D.py:138: UserWarning: No beam width given. Using 0 pixels.\n",
      "  warnings.warn(\"No beam width given. Using 0 pixels.\")\n",
      "C:\\Users\\heito\\anaconda3\\lib\\site-packages\\astropy\\units\\quantity.py:479: RuntimeWarning: divide by zero encountered in true_divide\n",
      "  result = super().__array_ufunc__(function, method, *arrays, **kwargs)\n",
      "C:\\Users\\heito\\anaconda3\\lib\\site-packages\\astropy\\units\\quantity.py:479: RuntimeWarning: invalid value encountered in true_divide\n",
      "  result = super().__array_ufunc__(function, method, *arrays, **kwargs)\n",
      "C:\\Users\\heito\\anaconda3\\lib\\site-packages\\fil_finder\\filfinder2D.py:288: UserWarning: Using inputted mask. Skipping creation of anew mask.\n",
      "  warnings.warn(\"Using inputted mask. Skipping creation of a\"\n",
      "C:\\Users\\heito\\anaconda3\\lib\\site-packages\\fil_finder\\filament.py:326: UserWarning: Graph pruning reached max iterations.\n",
      "  warnings.warn(\"Graph pruning reached max iterations.\")\n",
      "<ipython-input-87-db5abb40a3bd>:167: RankWarning: Polyfit may be poorly conditioned\n",
      "  side1, edge1, edge2, arr1 = get_intersection(hey,mid_point,eps,contour)\n"
     ]
    },
    {
     "name": "stdout",
     "output_type": "stream",
     "text": [
      "dipole gene= 2.1554791343961512\n",
      "elongation= 175\n",
      "aspect ratio= 0.9075144508670521\n",
      "centroid= [4012 1259]\n"
     ]
    },
    {
     "name": "stderr",
     "output_type": "stream",
     "text": [
      "C:\\Users\\heito\\anaconda3\\lib\\site-packages\\fil_finder\\filfinder2D.py:138: UserWarning: No beam width given. Using 0 pixels.\n",
      "  warnings.warn(\"No beam width given. Using 0 pixels.\")\n",
      "C:\\Users\\heito\\anaconda3\\lib\\site-packages\\astropy\\units\\quantity.py:479: RuntimeWarning: divide by zero encountered in true_divide\n",
      "  result = super().__array_ufunc__(function, method, *arrays, **kwargs)\n",
      "C:\\Users\\heito\\anaconda3\\lib\\site-packages\\astropy\\units\\quantity.py:479: RuntimeWarning: invalid value encountered in true_divide\n",
      "  result = super().__array_ufunc__(function, method, *arrays, **kwargs)\n",
      "C:\\Users\\heito\\anaconda3\\lib\\site-packages\\fil_finder\\filfinder2D.py:288: UserWarning: Using inputted mask. Skipping creation of anew mask.\n",
      "  warnings.warn(\"Using inputted mask. Skipping creation of a\"\n",
      "C:\\Users\\heito\\anaconda3\\lib\\site-packages\\fil_finder\\filament.py:326: UserWarning: Graph pruning reached max iterations.\n",
      "  warnings.warn(\"Graph pruning reached max iterations.\")\n"
     ]
    },
    {
     "name": "stdout",
     "output_type": "stream",
     "text": [
      "dipole gene= 0.15680825885781174\n",
      "elongation= 100\n",
      "aspect ratio= 0.5402298850574713\n",
      "centroid= [3996  974]\n"
     ]
    },
    {
     "name": "stderr",
     "output_type": "stream",
     "text": [
      "C:\\Users\\heito\\anaconda3\\lib\\site-packages\\fil_finder\\filfinder2D.py:138: UserWarning: No beam width given. Using 0 pixels.\n",
      "  warnings.warn(\"No beam width given. Using 0 pixels.\")\n",
      "C:\\Users\\heito\\anaconda3\\lib\\site-packages\\astropy\\units\\quantity.py:479: RuntimeWarning: divide by zero encountered in true_divide\n",
      "  result = super().__array_ufunc__(function, method, *arrays, **kwargs)\n",
      "C:\\Users\\heito\\anaconda3\\lib\\site-packages\\astropy\\units\\quantity.py:479: RuntimeWarning: invalid value encountered in true_divide\n",
      "  result = super().__array_ufunc__(function, method, *arrays, **kwargs)\n",
      "C:\\Users\\heito\\anaconda3\\lib\\site-packages\\fil_finder\\filfinder2D.py:288: UserWarning: Using inputted mask. Skipping creation of anew mask.\n",
      "  warnings.warn(\"Using inputted mask. Skipping creation of a\"\n",
      "C:\\Users\\heito\\anaconda3\\lib\\site-packages\\fil_finder\\filament.py:326: UserWarning: Graph pruning reached max iterations.\n",
      "  warnings.warn(\"Graph pruning reached max iterations.\")\n"
     ]
    },
    {
     "name": "stdout",
     "output_type": "stream",
     "text": [
      "dipole gene= 0.8041186461815149\n",
      "elongation= 83\n",
      "aspect ratio= 0.7070063694267515\n",
      "centroid= [3937 1545]\n"
     ]
    },
    {
     "name": "stderr",
     "output_type": "stream",
     "text": [
      "C:\\Users\\heito\\anaconda3\\lib\\site-packages\\fil_finder\\filfinder2D.py:138: UserWarning: No beam width given. Using 0 pixels.\n",
      "  warnings.warn(\"No beam width given. Using 0 pixels.\")\n",
      "C:\\Users\\heito\\anaconda3\\lib\\site-packages\\astropy\\units\\quantity.py:479: RuntimeWarning: divide by zero encountered in true_divide\n",
      "  result = super().__array_ufunc__(function, method, *arrays, **kwargs)\n",
      "C:\\Users\\heito\\anaconda3\\lib\\site-packages\\astropy\\units\\quantity.py:479: RuntimeWarning: invalid value encountered in true_divide\n",
      "  result = super().__array_ufunc__(function, method, *arrays, **kwargs)\n",
      "C:\\Users\\heito\\anaconda3\\lib\\site-packages\\fil_finder\\filfinder2D.py:288: UserWarning: Using inputted mask. Skipping creation of anew mask.\n",
      "  warnings.warn(\"Using inputted mask. Skipping creation of a\"\n",
      "C:\\Users\\heito\\anaconda3\\lib\\site-packages\\fil_finder\\filament.py:326: UserWarning: Graph pruning reached max iterations.\n",
      "  warnings.warn(\"Graph pruning reached max iterations.\")\n"
     ]
    },
    {
     "name": "stdout",
     "output_type": "stream",
     "text": [
      "dipole gene= 0.009796488660647883\n",
      "elongation= 22\n",
      "aspect ratio= 0.9831932773109243\n",
      "centroid= [3876 2207]\n",
      "dipole gene= 0.0387629501274605\n",
      "elongation= 53\n",
      "aspect ratio= 0.7651515151515151\n",
      "centroid= [3881 2481]\n"
     ]
    },
    {
     "name": "stderr",
     "output_type": "stream",
     "text": [
      "C:\\Users\\heito\\anaconda3\\lib\\site-packages\\fil_finder\\filfinder2D.py:138: UserWarning: No beam width given. Using 0 pixels.\n",
      "  warnings.warn(\"No beam width given. Using 0 pixels.\")\n",
      "C:\\Users\\heito\\anaconda3\\lib\\site-packages\\astropy\\units\\quantity.py:479: RuntimeWarning: divide by zero encountered in true_divide\n",
      "  result = super().__array_ufunc__(function, method, *arrays, **kwargs)\n",
      "C:\\Users\\heito\\anaconda3\\lib\\site-packages\\astropy\\units\\quantity.py:479: RuntimeWarning: invalid value encountered in true_divide\n",
      "  result = super().__array_ufunc__(function, method, *arrays, **kwargs)\n",
      "C:\\Users\\heito\\anaconda3\\lib\\site-packages\\fil_finder\\filfinder2D.py:288: UserWarning: Using inputted mask. Skipping creation of anew mask.\n",
      "  warnings.warn(\"Using inputted mask. Skipping creation of a\"\n",
      "C:\\Users\\heito\\anaconda3\\lib\\site-packages\\fil_finder\\filament.py:326: UserWarning: Graph pruning reached max iterations.\n",
      "  warnings.warn(\"Graph pruning reached max iterations.\")\n"
     ]
    },
    {
     "name": "stdout",
     "output_type": "stream",
     "text": [
      "dipole gene= 0.06266006340678089\n",
      "elongation= 25\n",
      "aspect ratio= 0.9609375\n",
      "centroid= [3869 2798]\n",
      "dipole gene= 0.2397942989566022\n",
      "elongation= 57\n",
      "aspect ratio= 0.6838235294117647\n",
      "centroid= [3874 1850]\n"
     ]
    },
    {
     "name": "stderr",
     "output_type": "stream",
     "text": [
      "C:\\Users\\heito\\anaconda3\\lib\\site-packages\\fil_finder\\filfinder2D.py:138: UserWarning: No beam width given. Using 0 pixels.\n",
      "  warnings.warn(\"No beam width given. Using 0 pixels.\")\n",
      "C:\\Users\\heito\\anaconda3\\lib\\site-packages\\astropy\\units\\quantity.py:479: RuntimeWarning: divide by zero encountered in true_divide\n",
      "  result = super().__array_ufunc__(function, method, *arrays, **kwargs)\n",
      "C:\\Users\\heito\\anaconda3\\lib\\site-packages\\astropy\\units\\quantity.py:479: RuntimeWarning: invalid value encountered in true_divide\n",
      "  result = super().__array_ufunc__(function, method, *arrays, **kwargs)\n",
      "C:\\Users\\heito\\anaconda3\\lib\\site-packages\\fil_finder\\filfinder2D.py:288: UserWarning: Using inputted mask. Skipping creation of anew mask.\n",
      "  warnings.warn(\"Using inputted mask. Skipping creation of a\"\n",
      "C:\\Users\\heito\\anaconda3\\lib\\site-packages\\fil_finder\\filament.py:326: UserWarning: Graph pruning reached max iterations.\n",
      "  warnings.warn(\"Graph pruning reached max iterations.\")\n"
     ]
    },
    {
     "name": "stdout",
     "output_type": "stream",
     "text": [
      "dipole gene= 0.03857554506375469\n",
      "elongation= 33\n",
      "aspect ratio= 0.7816901408450704\n",
      "centroid= [3862 3123]\n",
      "dipole gene= 0.03581579706965066\n",
      "elongation= 21\n",
      "aspect ratio= 1.0892857142857142\n",
      "centroid= [3839 4043]\n"
     ]
    },
    {
     "name": "stderr",
     "output_type": "stream",
     "text": [
      "<ipython-input-87-db5abb40a3bd>:18: RankWarning: Polyfit may be poorly conditioned\n",
      "  side1, edge1, edge2, arr1 = get_intersection(hey,mid_point,eps,contour)\n"
     ]
    },
    {
     "name": "stdout",
     "output_type": "stream",
     "text": [
      "dipole gene= 0.0020185822636003734\n",
      "elongation= 18\n",
      "aspect ratio= 1.1130434782608696\n",
      "centroid= [3828 4401]\n"
     ]
    },
    {
     "name": "stderr",
     "output_type": "stream",
     "text": [
      "C:\\Users\\heito\\anaconda3\\lib\\site-packages\\fil_finder\\filfinder2D.py:138: UserWarning: No beam width given. Using 0 pixels.\n",
      "  warnings.warn(\"No beam width given. Using 0 pixels.\")\n",
      "C:\\Users\\heito\\anaconda3\\lib\\site-packages\\astropy\\units\\quantity.py:479: RuntimeWarning: divide by zero encountered in true_divide\n",
      "  result = super().__array_ufunc__(function, method, *arrays, **kwargs)\n",
      "C:\\Users\\heito\\anaconda3\\lib\\site-packages\\astropy\\units\\quantity.py:479: RuntimeWarning: invalid value encountered in true_divide\n",
      "  result = super().__array_ufunc__(function, method, *arrays, **kwargs)\n",
      "C:\\Users\\heito\\anaconda3\\lib\\site-packages\\fil_finder\\filfinder2D.py:288: UserWarning: Using inputted mask. Skipping creation of anew mask.\n",
      "  warnings.warn(\"Using inputted mask. Skipping creation of a\"\n",
      "C:\\Users\\heito\\anaconda3\\lib\\site-packages\\fil_finder\\filament.py:326: UserWarning: Graph pruning reached max iterations.\n",
      "  warnings.warn(\"Graph pruning reached max iterations.\")\n"
     ]
    },
    {
     "name": "stdout",
     "output_type": "stream",
     "text": [
      "dipole gene= 0.035585096030596765\n",
      "elongation= 22\n",
      "aspect ratio= 0.9230769230769231\n",
      "centroid= [3837 3759]\n",
      "dipole gene= 0.05100619284071007\n",
      "elongation= 83\n",
      "aspect ratio= 0.5855263157894737\n",
      "centroid= [3844 3426]\n"
     ]
    },
    {
     "name": "stderr",
     "output_type": "stream",
     "text": [
      "C:\\Users\\heito\\anaconda3\\lib\\site-packages\\fil_finder\\filfinder2D.py:138: UserWarning: No beam width given. Using 0 pixels.\n",
      "  warnings.warn(\"No beam width given. Using 0 pixels.\")\n",
      "C:\\Users\\heito\\anaconda3\\lib\\site-packages\\astropy\\units\\quantity.py:479: RuntimeWarning: divide by zero encountered in true_divide\n",
      "  result = super().__array_ufunc__(function, method, *arrays, **kwargs)\n",
      "C:\\Users\\heito\\anaconda3\\lib\\site-packages\\astropy\\units\\quantity.py:479: RuntimeWarning: invalid value encountered in true_divide\n",
      "  result = super().__array_ufunc__(function, method, *arrays, **kwargs)\n",
      "C:\\Users\\heito\\anaconda3\\lib\\site-packages\\fil_finder\\filfinder2D.py:288: UserWarning: Using inputted mask. Skipping creation of anew mask.\n",
      "  warnings.warn(\"Using inputted mask. Skipping creation of a\"\n",
      "C:\\Users\\heito\\anaconda3\\lib\\site-packages\\fil_finder\\filament.py:326: UserWarning: Graph pruning reached max iterations.\n",
      "  warnings.warn(\"Graph pruning reached max iterations.\")\n"
     ]
    },
    {
     "name": "stdout",
     "output_type": "stream",
     "text": [
      "dipole gene= 0.023537756576598155\n",
      "elongation= 36\n",
      "aspect ratio= 0.8409090909090909\n",
      "centroid= [3822 4702]\n"
     ]
    },
    {
     "name": "stderr",
     "output_type": "stream",
     "text": [
      "C:\\Users\\heito\\anaconda3\\lib\\site-packages\\fil_finder\\filfinder2D.py:138: UserWarning: No beam width given. Using 0 pixels.\n",
      "  warnings.warn(\"No beam width given. Using 0 pixels.\")\n",
      "C:\\Users\\heito\\anaconda3\\lib\\site-packages\\astropy\\units\\quantity.py:479: RuntimeWarning: divide by zero encountered in true_divide\n",
      "  result = super().__array_ufunc__(function, method, *arrays, **kwargs)\n",
      "C:\\Users\\heito\\anaconda3\\lib\\site-packages\\astropy\\units\\quantity.py:479: RuntimeWarning: invalid value encountered in true_divide\n",
      "  result = super().__array_ufunc__(function, method, *arrays, **kwargs)\n",
      "C:\\Users\\heito\\anaconda3\\lib\\site-packages\\fil_finder\\filfinder2D.py:288: UserWarning: Using inputted mask. Skipping creation of anew mask.\n",
      "  warnings.warn(\"Using inputted mask. Skipping creation of a\"\n",
      "C:\\Users\\heito\\anaconda3\\lib\\site-packages\\fil_finder\\filament.py:326: UserWarning: Graph pruning reached max iterations.\n",
      "  warnings.warn(\"Graph pruning reached max iterations.\")\n"
     ]
    },
    {
     "name": "stdout",
     "output_type": "stream",
     "text": [
      "dipole gene= 0.07862893442171227\n",
      "elongation= 31\n",
      "aspect ratio= 1.1282051282051282\n",
      "centroid= [3802 5019]\n"
     ]
    },
    {
     "name": "stderr",
     "output_type": "stream",
     "text": [
      "<ipython-input-87-db5abb40a3bd>:131: RankWarning: Polyfit may be poorly conditioned\n",
      "  side2, edge3, edge4, arr1 = get_intersection(hey,initial_pos,epsilon,contour)\n",
      "<ipython-input-87-db5abb40a3bd>:121: RankWarning: Polyfit may be poorly conditioned\n",
      "  side1, edge1, edge2, arr1 = get_intersection(hey,initial_pos,epsilon,contour)\n",
      "<ipython-input-87-db5abb40a3bd>:131: RankWarning: Polyfit may be poorly conditioned\n",
      "  side2, edge3, edge4, arr1 = get_intersection(hey,initial_pos,epsilon,contour)\n",
      "<ipython-input-87-db5abb40a3bd>:121: RankWarning: Polyfit may be poorly conditioned\n",
      "  side1, edge1, edge2, arr1 = get_intersection(hey,initial_pos,epsilon,contour)\n"
     ]
    },
    {
     "name": "stdout",
     "output_type": "stream",
     "text": [
      "dipole gene= 3.208519906121144\n",
      "elongation= 294\n",
      "aspect ratio= 3.7395833333333335\n",
      "centroid= [3777 5507]\n"
     ]
    },
    {
     "name": "stderr",
     "output_type": "stream",
     "text": [
      "C:\\Users\\heito\\anaconda3\\lib\\site-packages\\fil_finder\\filfinder2D.py:138: UserWarning: No beam width given. Using 0 pixels.\n",
      "  warnings.warn(\"No beam width given. Using 0 pixels.\")\n",
      "C:\\Users\\heito\\anaconda3\\lib\\site-packages\\astropy\\units\\quantity.py:479: RuntimeWarning: divide by zero encountered in true_divide\n",
      "  result = super().__array_ufunc__(function, method, *arrays, **kwargs)\n",
      "C:\\Users\\heito\\anaconda3\\lib\\site-packages\\astropy\\units\\quantity.py:479: RuntimeWarning: invalid value encountered in true_divide\n",
      "  result = super().__array_ufunc__(function, method, *arrays, **kwargs)\n",
      "C:\\Users\\heito\\anaconda3\\lib\\site-packages\\fil_finder\\filfinder2D.py:288: UserWarning: Using inputted mask. Skipping creation of anew mask.\n",
      "  warnings.warn(\"Using inputted mask. Skipping creation of a\"\n",
      "C:\\Users\\heito\\anaconda3\\lib\\site-packages\\fil_finder\\filament.py:326: UserWarning: Graph pruning reached max iterations.\n",
      "  warnings.warn(\"Graph pruning reached max iterations.\")\n"
     ]
    },
    {
     "name": "stdout",
     "output_type": "stream",
     "text": [
      "dipole gene= 0.24167679058758026\n",
      "elongation= 33\n",
      "aspect ratio= 1.119047619047619\n",
      "centroid= [3787 1541]\n",
      "dipole gene= 0.040480573255397334\n",
      "elongation= 8\n",
      "aspect ratio= 0.9907407407407407\n",
      "centroid= [3760 2181]\n",
      "dipole gene= 0.020901960318258694\n",
      "elongation= 16\n",
      "aspect ratio= 1.0300751879699248\n",
      "centroid= [3746 2478]\n",
      "dipole gene= 0.017516216799229677\n",
      "elongation= 20\n",
      "aspect ratio= 0.8671875\n",
      "centroid= [3739 2834]\n",
      "dipole gene= 0.09455333297328146\n",
      "elongation= 35\n",
      "aspect ratio= 0.9606299212598425\n",
      "centroid= [3738 1856]\n",
      "dipole gene= 0.030171560725613174\n",
      "elongation= 18\n",
      "aspect ratio= 0.8695652173913043\n",
      "centroid= [3716 4372]\n",
      "dipole gene= 0.08875568752375496\n",
      "elongation= 12\n",
      "aspect ratio= 1.0925925925925926\n",
      "centroid= [3717 3743]\n",
      "dipole gene= 0.02031192143347974\n",
      "elongation= 15\n",
      "aspect ratio= 1.0423728813559323\n",
      "centroid= [3717 3465]\n",
      "dipole gene= 0.00404288828035444\n",
      "elongation= 5\n",
      "aspect ratio= 1.023076923076923\n",
      "centroid= [3714 4058]\n",
      "dipole gene= 0.16004725429322497\n",
      "elongation= 23\n",
      "aspect ratio= 1.1333333333333333\n",
      "centroid= [3683  954]\n"
     ]
    },
    {
     "name": "stderr",
     "output_type": "stream",
     "text": [
      "C:\\Users\\heito\\anaconda3\\lib\\site-packages\\fil_finder\\filfinder2D.py:138: UserWarning: No beam width given. Using 0 pixels.\n",
      "  warnings.warn(\"No beam width given. Using 0 pixels.\")\n",
      "C:\\Users\\heito\\anaconda3\\lib\\site-packages\\astropy\\units\\quantity.py:479: RuntimeWarning: divide by zero encountered in true_divide\n",
      "  result = super().__array_ufunc__(function, method, *arrays, **kwargs)\n",
      "C:\\Users\\heito\\anaconda3\\lib\\site-packages\\astropy\\units\\quantity.py:479: RuntimeWarning: invalid value encountered in true_divide\n",
      "  result = super().__array_ufunc__(function, method, *arrays, **kwargs)\n",
      "C:\\Users\\heito\\anaconda3\\lib\\site-packages\\fil_finder\\filfinder2D.py:288: UserWarning: Using inputted mask. Skipping creation of anew mask.\n",
      "  warnings.warn(\"Using inputted mask. Skipping creation of a\"\n",
      "C:\\Users\\heito\\anaconda3\\lib\\site-packages\\fil_finder\\filament.py:326: UserWarning: Graph pruning reached max iterations.\n",
      "  warnings.warn(\"Graph pruning reached max iterations.\")\n"
     ]
    },
    {
     "name": "stdout",
     "output_type": "stream",
     "text": [
      "dipole gene= 0.0028805389348303487\n",
      "elongation= 49\n",
      "aspect ratio= 0.7266187050359713\n",
      "centroid= [3711 3108]\n",
      "dipole gene= 0.016783067873309715\n",
      "elongation= 19\n",
      "aspect ratio= 0.923728813559322\n",
      "centroid= [3696 4697]\n",
      "dipole gene= 0.12699491681092864\n",
      "elongation= 55\n",
      "aspect ratio= 0.8243243243243243\n",
      "centroid= [3669 4985]\n",
      "dipole gene= 2.3535803945442764\n",
      "elongation= 122\n",
      "aspect ratio= 1.1283783783783783\n",
      "centroid= [3635 5335]\n"
     ]
    },
    {
     "name": "stderr",
     "output_type": "stream",
     "text": [
      "C:\\Users\\heito\\anaconda3\\lib\\site-packages\\fil_finder\\filfinder2D.py:138: UserWarning: No beam width given. Using 0 pixels.\n",
      "  warnings.warn(\"No beam width given. Using 0 pixels.\")\n",
      "C:\\Users\\heito\\anaconda3\\lib\\site-packages\\astropy\\units\\quantity.py:479: RuntimeWarning: divide by zero encountered in true_divide\n",
      "  result = super().__array_ufunc__(function, method, *arrays, **kwargs)\n",
      "C:\\Users\\heito\\anaconda3\\lib\\site-packages\\astropy\\units\\quantity.py:479: RuntimeWarning: invalid value encountered in true_divide\n",
      "  result = super().__array_ufunc__(function, method, *arrays, **kwargs)\n",
      "C:\\Users\\heito\\anaconda3\\lib\\site-packages\\fil_finder\\filfinder2D.py:288: UserWarning: Using inputted mask. Skipping creation of anew mask.\n",
      "  warnings.warn(\"Using inputted mask. Skipping creation of a\"\n",
      "C:\\Users\\heito\\anaconda3\\lib\\site-packages\\fil_finder\\filament.py:326: UserWarning: Graph pruning reached max iterations.\n",
      "  warnings.warn(\"Graph pruning reached max iterations.\")\n"
     ]
    },
    {
     "name": "stdout",
     "output_type": "stream",
     "text": [
      "dipole gene= 0.32134867415297813\n",
      "elongation= 91\n",
      "aspect ratio= 0.9333333333333333\n",
      "centroid= [3549  936]\n",
      "dipole gene= 0.023895874421894447\n",
      "elongation= 20\n",
      "aspect ratio= 1.0756302521008403\n",
      "centroid= [3500 2194]\n",
      "dipole gene= 0.40302407389524914\n",
      "elongation= 57\n",
      "aspect ratio= 0.7419354838709677\n",
      "centroid= [3466 1559]\n",
      "dipole gene= 0.8983266628457647\n",
      "elongation= 81\n",
      "aspect ratio= 0.6375838926174496\n",
      "centroid= [3467 1281]\n"
     ]
    },
    {
     "name": "stderr",
     "output_type": "stream",
     "text": [
      "C:\\Users\\heito\\anaconda3\\lib\\site-packages\\fil_finder\\filfinder2D.py:138: UserWarning: No beam width given. Using 0 pixels.\n",
      "  warnings.warn(\"No beam width given. Using 0 pixels.\")\n",
      "C:\\Users\\heito\\anaconda3\\lib\\site-packages\\astropy\\units\\quantity.py:479: RuntimeWarning: divide by zero encountered in true_divide\n",
      "  result = super().__array_ufunc__(function, method, *arrays, **kwargs)\n",
      "C:\\Users\\heito\\anaconda3\\lib\\site-packages\\astropy\\units\\quantity.py:479: RuntimeWarning: invalid value encountered in true_divide\n",
      "  result = super().__array_ufunc__(function, method, *arrays, **kwargs)\n",
      "C:\\Users\\heito\\anaconda3\\lib\\site-packages\\fil_finder\\filfinder2D.py:288: UserWarning: Using inputted mask. Skipping creation of anew mask.\n",
      "  warnings.warn(\"Using inputted mask. Skipping creation of a\"\n",
      "C:\\Users\\heito\\anaconda3\\lib\\site-packages\\fil_finder\\filament.py:326: UserWarning: Graph pruning reached max iterations.\n",
      "  warnings.warn(\"Graph pruning reached max iterations.\")\n"
     ]
    },
    {
     "name": "stdout",
     "output_type": "stream",
     "text": [
      "dipole gene= 0.0017907302498421675\n",
      "elongation= 46\n",
      "aspect ratio= 0.8235294117647058\n",
      "centroid= [3438 2526]\n"
     ]
    },
    {
     "name": "stderr",
     "output_type": "stream",
     "text": [
      "C:\\Users\\heito\\anaconda3\\lib\\site-packages\\fil_finder\\filfinder2D.py:138: UserWarning: No beam width given. Using 0 pixels.\n",
      "  warnings.warn(\"No beam width given. Using 0 pixels.\")\n",
      "C:\\Users\\heito\\anaconda3\\lib\\site-packages\\astropy\\units\\quantity.py:479: RuntimeWarning: divide by zero encountered in true_divide\n",
      "  result = super().__array_ufunc__(function, method, *arrays, **kwargs)\n",
      "C:\\Users\\heito\\anaconda3\\lib\\site-packages\\astropy\\units\\quantity.py:479: RuntimeWarning: invalid value encountered in true_divide\n",
      "  result = super().__array_ufunc__(function, method, *arrays, **kwargs)\n",
      "C:\\Users\\heito\\anaconda3\\lib\\site-packages\\fil_finder\\filfinder2D.py:288: UserWarning: Using inputted mask. Skipping creation of anew mask.\n",
      "  warnings.warn(\"Using inputted mask. Skipping creation of a\"\n"
     ]
    },
    {
     "name": "stdout",
     "output_type": "stream",
     "text": [
      "dipole gene= 0.01930268172735713\n",
      "elongation= 7\n",
      "aspect ratio= 1.0272727272727273\n",
      "centroid= [3430 2806]\n"
     ]
    },
    {
     "name": "stderr",
     "output_type": "stream",
     "text": [
      "C:\\Users\\heito\\anaconda3\\lib\\site-packages\\fil_finder\\filament.py:326: UserWarning: Graph pruning reached max iterations.\n",
      "  warnings.warn(\"Graph pruning reached max iterations.\")\n"
     ]
    },
    {
     "name": "stdout",
     "output_type": "stream",
     "text": [
      "dipole gene= 0.017937701935173602\n",
      "elongation= 14\n",
      "aspect ratio= 0.9767441860465116\n",
      "centroid= [3424 3130]\n",
      "dipole gene= 0.131535476410978\n",
      "elongation= 44\n",
      "aspect ratio= 0.803030303030303\n",
      "centroid= [3407 3447]\n"
     ]
    },
    {
     "name": "stderr",
     "output_type": "stream",
     "text": [
      "C:\\Users\\heito\\anaconda3\\lib\\site-packages\\fil_finder\\filfinder2D.py:138: UserWarning: No beam width given. Using 0 pixels.\n",
      "  warnings.warn(\"No beam width given. Using 0 pixels.\")\n",
      "C:\\Users\\heito\\anaconda3\\lib\\site-packages\\astropy\\units\\quantity.py:479: RuntimeWarning: divide by zero encountered in true_divide\n",
      "  result = super().__array_ufunc__(function, method, *arrays, **kwargs)\n",
      "C:\\Users\\heito\\anaconda3\\lib\\site-packages\\astropy\\units\\quantity.py:479: RuntimeWarning: invalid value encountered in true_divide\n",
      "  result = super().__array_ufunc__(function, method, *arrays, **kwargs)\n",
      "C:\\Users\\heito\\anaconda3\\lib\\site-packages\\fil_finder\\filfinder2D.py:288: UserWarning: Using inputted mask. Skipping creation of anew mask.\n",
      "  warnings.warn(\"Using inputted mask. Skipping creation of a\"\n",
      "C:\\Users\\heito\\anaconda3\\lib\\site-packages\\fil_finder\\filament.py:326: UserWarning: Graph pruning reached max iterations.\n",
      "  warnings.warn(\"Graph pruning reached max iterations.\")\n"
     ]
    },
    {
     "name": "stdout",
     "output_type": "stream",
     "text": [
      "dipole gene= 0.016257708451094446\n",
      "elongation= 54\n",
      "aspect ratio= 0.7593984962406015\n",
      "centroid= [3405 4078]\n"
     ]
    },
    {
     "name": "stderr",
     "output_type": "stream",
     "text": [
      "C:\\Users\\heito\\anaconda3\\lib\\site-packages\\fil_finder\\filfinder2D.py:138: UserWarning: No beam width given. Using 0 pixels.\n",
      "  warnings.warn(\"No beam width given. Using 0 pixels.\")\n",
      "C:\\Users\\heito\\anaconda3\\lib\\site-packages\\astropy\\units\\quantity.py:479: RuntimeWarning: divide by zero encountered in true_divide\n",
      "  result = super().__array_ufunc__(function, method, *arrays, **kwargs)\n",
      "C:\\Users\\heito\\anaconda3\\lib\\site-packages\\astropy\\units\\quantity.py:479: RuntimeWarning: invalid value encountered in true_divide\n",
      "  result = super().__array_ufunc__(function, method, *arrays, **kwargs)\n",
      "C:\\Users\\heito\\anaconda3\\lib\\site-packages\\fil_finder\\filfinder2D.py:288: UserWarning: Using inputted mask. Skipping creation of anew mask.\n",
      "  warnings.warn(\"Using inputted mask. Skipping creation of a\"\n",
      "C:\\Users\\heito\\anaconda3\\lib\\site-packages\\fil_finder\\filament.py:326: UserWarning: Graph pruning reached max iterations.\n",
      "  warnings.warn(\"Graph pruning reached max iterations.\")\n"
     ]
    },
    {
     "name": "stdout",
     "output_type": "stream",
     "text": [
      "dipole gene= 3.7370870587433926\n",
      "elongation= 223\n",
      "aspect ratio= 1.369942196531792\n",
      "centroid= [3429 5365]\n"
     ]
    },
    {
     "name": "stderr",
     "output_type": "stream",
     "text": [
      "C:\\Users\\heito\\anaconda3\\lib\\site-packages\\fil_finder\\filfinder2D.py:138: UserWarning: No beam width given. Using 0 pixels.\n",
      "  warnings.warn(\"No beam width given. Using 0 pixels.\")\n",
      "C:\\Users\\heito\\anaconda3\\lib\\site-packages\\astropy\\units\\quantity.py:479: RuntimeWarning: divide by zero encountered in true_divide\n",
      "  result = super().__array_ufunc__(function, method, *arrays, **kwargs)\n",
      "C:\\Users\\heito\\anaconda3\\lib\\site-packages\\astropy\\units\\quantity.py:479: RuntimeWarning: invalid value encountered in true_divide\n",
      "  result = super().__array_ufunc__(function, method, *arrays, **kwargs)\n",
      "C:\\Users\\heito\\anaconda3\\lib\\site-packages\\fil_finder\\filfinder2D.py:288: UserWarning: Using inputted mask. Skipping creation of anew mask.\n",
      "  warnings.warn(\"Using inputted mask. Skipping creation of a\"\n",
      "C:\\Users\\heito\\anaconda3\\lib\\site-packages\\fil_finder\\filament.py:326: UserWarning: Graph pruning reached max iterations.\n",
      "  warnings.warn(\"Graph pruning reached max iterations.\")\n"
     ]
    },
    {
     "name": "stdout",
     "output_type": "stream",
     "text": [
      "dipole gene= 0.022235692041936227\n",
      "elongation= 11\n",
      "aspect ratio= 0.8861788617886179\n",
      "centroid= [3394 4349]\n",
      "dipole gene= 0.04119239172354465\n",
      "elongation= 49\n",
      "aspect ratio= 0.7571428571428571\n",
      "centroid= [3399 3730]\n",
      "dipole gene= 0.21385672520637505\n",
      "elongation= 37\n",
      "aspect ratio= 1.096774193548387\n",
      "centroid= [3384 1880]\n"
     ]
    },
    {
     "name": "stderr",
     "output_type": "stream",
     "text": [
      "C:\\Users\\heito\\anaconda3\\lib\\site-packages\\fil_finder\\filfinder2D.py:138: UserWarning: No beam width given. Using 0 pixels.\n",
      "  warnings.warn(\"No beam width given. Using 0 pixels.\")\n",
      "C:\\Users\\heito\\anaconda3\\lib\\site-packages\\astropy\\units\\quantity.py:479: RuntimeWarning: divide by zero encountered in true_divide\n",
      "  result = super().__array_ufunc__(function, method, *arrays, **kwargs)\n",
      "C:\\Users\\heito\\anaconda3\\lib\\site-packages\\astropy\\units\\quantity.py:479: RuntimeWarning: invalid value encountered in true_divide\n",
      "  result = super().__array_ufunc__(function, method, *arrays, **kwargs)\n",
      "C:\\Users\\heito\\anaconda3\\lib\\site-packages\\fil_finder\\filfinder2D.py:288: UserWarning: Using inputted mask. Skipping creation of anew mask.\n",
      "  warnings.warn(\"Using inputted mask. Skipping creation of a\"\n",
      "C:\\Users\\heito\\anaconda3\\lib\\site-packages\\fil_finder\\filament.py:326: UserWarning: Graph pruning reached max iterations.\n",
      "  warnings.warn(\"Graph pruning reached max iterations.\")\n"
     ]
    },
    {
     "name": "stdout",
     "output_type": "stream",
     "text": [
      "dipole gene= 0.019773910139396653\n",
      "elongation= 36\n",
      "aspect ratio= 0.8602941176470589\n",
      "centroid= [3388 4718]\n",
      "dipole gene= 0.20736816000642352\n",
      "elongation= 34\n",
      "aspect ratio= 0.875\n",
      "centroid= [3364 5022]\n"
     ]
    },
    {
     "name": "stderr",
     "output_type": "stream",
     "text": [
      "C:\\Users\\heito\\anaconda3\\lib\\site-packages\\fil_finder\\filfinder2D.py:138: UserWarning: No beam width given. Using 0 pixels.\n",
      "  warnings.warn(\"No beam width given. Using 0 pixels.\")\n",
      "C:\\Users\\heito\\anaconda3\\lib\\site-packages\\astropy\\units\\quantity.py:479: RuntimeWarning: divide by zero encountered in true_divide\n",
      "  result = super().__array_ufunc__(function, method, *arrays, **kwargs)\n",
      "C:\\Users\\heito\\anaconda3\\lib\\site-packages\\astropy\\units\\quantity.py:479: RuntimeWarning: invalid value encountered in true_divide\n",
      "  result = super().__array_ufunc__(function, method, *arrays, **kwargs)\n",
      "C:\\Users\\heito\\anaconda3\\lib\\site-packages\\fil_finder\\filfinder2D.py:288: UserWarning: Using inputted mask. Skipping creation of anew mask.\n",
      "  warnings.warn(\"Using inputted mask. Skipping creation of a\"\n",
      "C:\\Users\\heito\\anaconda3\\lib\\site-packages\\fil_finder\\filament.py:326: UserWarning: Graph pruning reached max iterations.\n",
      "  warnings.warn(\"Graph pruning reached max iterations.\")\n"
     ]
    },
    {
     "name": "stdout",
     "output_type": "stream",
     "text": [
      "dipole gene= 0.34306095443754175\n",
      "elongation= 27\n",
      "aspect ratio= 0.8269230769230769\n",
      "centroid= [3348 1589]\n",
      "dipole gene= 0.19273970644593702\n",
      "elongation= 55\n",
      "aspect ratio= 1.3394495412844036\n",
      "centroid= [3324 1228]\n",
      "dipole gene= 0.30563004268981964\n",
      "elongation= 94\n",
      "aspect ratio= 0.6125\n",
      "centroid= [3344  939]\n"
     ]
    },
    {
     "name": "stderr",
     "output_type": "stream",
     "text": [
      "C:\\Users\\heito\\anaconda3\\lib\\site-packages\\fil_finder\\filfinder2D.py:138: UserWarning: No beam width given. Using 0 pixels.\n",
      "  warnings.warn(\"No beam width given. Using 0 pixels.\")\n",
      "C:\\Users\\heito\\anaconda3\\lib\\site-packages\\astropy\\units\\quantity.py:479: RuntimeWarning: divide by zero encountered in true_divide\n",
      "  result = super().__array_ufunc__(function, method, *arrays, **kwargs)\n",
      "C:\\Users\\heito\\anaconda3\\lib\\site-packages\\astropy\\units\\quantity.py:479: RuntimeWarning: invalid value encountered in true_divide\n",
      "  result = super().__array_ufunc__(function, method, *arrays, **kwargs)\n",
      "C:\\Users\\heito\\anaconda3\\lib\\site-packages\\fil_finder\\filfinder2D.py:288: UserWarning: Using inputted mask. Skipping creation of anew mask.\n",
      "  warnings.warn(\"Using inputted mask. Skipping creation of a\"\n",
      "C:\\Users\\heito\\anaconda3\\lib\\site-packages\\fil_finder\\filament.py:326: UserWarning: Graph pruning reached max iterations.\n",
      "  warnings.warn(\"Graph pruning reached max iterations.\")\n"
     ]
    },
    {
     "name": "stdout",
     "output_type": "stream",
     "text": [
      "dipole gene= 0.07695129287208705\n",
      "elongation= 35\n",
      "aspect ratio= 0.8582677165354331\n",
      "centroid= [3310 2814]\n",
      "dipole gene= 0.0017213121877868904\n",
      "elongation= 24\n",
      "aspect ratio= 0.8394160583941606\n",
      "centroid= [3312 2157]\n",
      "dipole gene= 0.040194177660429015\n",
      "elongation= 44\n",
      "aspect ratio= 0.823076923076923\n",
      "centroid= [3297 2475]\n"
     ]
    },
    {
     "name": "stderr",
     "output_type": "stream",
     "text": [
      "C:\\Users\\heito\\anaconda3\\lib\\site-packages\\fil_finder\\filfinder2D.py:138: UserWarning: No beam width given. Using 0 pixels.\n",
      "  warnings.warn(\"No beam width given. Using 0 pixels.\")\n",
      "C:\\Users\\heito\\anaconda3\\lib\\site-packages\\astropy\\units\\quantity.py:479: RuntimeWarning: divide by zero encountered in true_divide\n",
      "  result = super().__array_ufunc__(function, method, *arrays, **kwargs)\n",
      "C:\\Users\\heito\\anaconda3\\lib\\site-packages\\astropy\\units\\quantity.py:479: RuntimeWarning: invalid value encountered in true_divide\n",
      "  result = super().__array_ufunc__(function, method, *arrays, **kwargs)\n",
      "C:\\Users\\heito\\anaconda3\\lib\\site-packages\\fil_finder\\filfinder2D.py:288: UserWarning: Using inputted mask. Skipping creation of anew mask.\n",
      "  warnings.warn(\"Using inputted mask. Skipping creation of a\"\n",
      "C:\\Users\\heito\\anaconda3\\lib\\site-packages\\fil_finder\\filament.py:326: UserWarning: Graph pruning reached max iterations.\n",
      "  warnings.warn(\"Graph pruning reached max iterations.\")\n"
     ]
    },
    {
     "name": "stdout",
     "output_type": "stream",
     "text": [
      "dipole gene= 0.014901680926144622\n",
      "elongation= 19\n",
      "aspect ratio= 0.8317757009345794\n",
      "centroid= [3283 3442]\n",
      "dipole gene= 0.017469931162256907\n",
      "elongation= 19\n",
      "aspect ratio= 0.8615384615384616\n",
      "centroid= [3292 3112]\n",
      "dipole gene= 0.001949191469592056\n",
      "elongation= 15\n",
      "aspect ratio= 0.8818181818181818\n",
      "centroid= [3272 3739]\n"
     ]
    },
    {
     "name": "stderr",
     "output_type": "stream",
     "text": [
      "C:\\Users\\heito\\anaconda3\\lib\\site-packages\\fil_finder\\filfinder2D.py:138: UserWarning: No beam width given. Using 0 pixels.\n",
      "  warnings.warn(\"No beam width given. Using 0 pixels.\")\n",
      "C:\\Users\\heito\\anaconda3\\lib\\site-packages\\astropy\\units\\quantity.py:479: RuntimeWarning: divide by zero encountered in true_divide\n",
      "  result = super().__array_ufunc__(function, method, *arrays, **kwargs)\n",
      "C:\\Users\\heito\\anaconda3\\lib\\site-packages\\astropy\\units\\quantity.py:479: RuntimeWarning: invalid value encountered in true_divide\n",
      "  result = super().__array_ufunc__(function, method, *arrays, **kwargs)\n",
      "C:\\Users\\heito\\anaconda3\\lib\\site-packages\\fil_finder\\filfinder2D.py:288: UserWarning: Using inputted mask. Skipping creation of anew mask.\n",
      "  warnings.warn(\"Using inputted mask. Skipping creation of a\"\n",
      "C:\\Users\\heito\\anaconda3\\lib\\site-packages\\fil_finder\\filament.py:326: UserWarning: Graph pruning reached max iterations.\n",
      "  warnings.warn(\"Graph pruning reached max iterations.\")\n"
     ]
    },
    {
     "name": "stdout",
     "output_type": "stream",
     "text": [
      "dipole gene= 0.012499810677566644\n",
      "elongation= 25\n",
      "aspect ratio= 0.8145161290322581\n",
      "centroid= [3270 4082]\n"
     ]
    },
    {
     "name": "stderr",
     "output_type": "stream",
     "text": [
      "C:\\Users\\heito\\anaconda3\\lib\\site-packages\\fil_finder\\filfinder2D.py:138: UserWarning: No beam width given. Using 0 pixels.\n",
      "  warnings.warn(\"No beam width given. Using 0 pixels.\")\n",
      "C:\\Users\\heito\\anaconda3\\lib\\site-packages\\astropy\\units\\quantity.py:479: RuntimeWarning: divide by zero encountered in true_divide\n",
      "  result = super().__array_ufunc__(function, method, *arrays, **kwargs)\n",
      "C:\\Users\\heito\\anaconda3\\lib\\site-packages\\astropy\\units\\quantity.py:479: RuntimeWarning: invalid value encountered in true_divide\n",
      "  result = super().__array_ufunc__(function, method, *arrays, **kwargs)\n",
      "C:\\Users\\heito\\anaconda3\\lib\\site-packages\\fil_finder\\filfinder2D.py:288: UserWarning: Using inputted mask. Skipping creation of anew mask.\n",
      "  warnings.warn(\"Using inputted mask. Skipping creation of a\"\n"
     ]
    },
    {
     "name": "stdout",
     "output_type": "stream",
     "text": [
      "dipole gene= 0.008940035215603222\n",
      "elongation= 9\n",
      "aspect ratio= 1.0\n",
      "centroid= [3262 4347]\n"
     ]
    },
    {
     "name": "stderr",
     "output_type": "stream",
     "text": [
      "C:\\Users\\heito\\anaconda3\\lib\\site-packages\\fil_finder\\filament.py:326: UserWarning: Graph pruning reached max iterations.\n",
      "  warnings.warn(\"Graph pruning reached max iterations.\")\n"
     ]
    },
    {
     "name": "stdout",
     "output_type": "stream",
     "text": [
      "dipole gene= 0.367941951036986\n",
      "elongation= 39\n",
      "aspect ratio= 0.9203539823008849\n",
      "centroid= [3246 5023]\n",
      "dipole gene= 0.0007035308307170786\n",
      "elongation= 22\n",
      "aspect ratio= 0.855072463768116\n",
      "centroid= [3246 4705]\n"
     ]
    },
    {
     "name": "stderr",
     "output_type": "stream",
     "text": [
      "C:\\Users\\heito\\anaconda3\\lib\\site-packages\\fil_finder\\filfinder2D.py:138: UserWarning: No beam width given. Using 0 pixels.\n",
      "  warnings.warn(\"No beam width given. Using 0 pixels.\")\n",
      "C:\\Users\\heito\\anaconda3\\lib\\site-packages\\astropy\\units\\quantity.py:479: RuntimeWarning: divide by zero encountered in true_divide\n",
      "  result = super().__array_ufunc__(function, method, *arrays, **kwargs)\n",
      "C:\\Users\\heito\\anaconda3\\lib\\site-packages\\astropy\\units\\quantity.py:479: RuntimeWarning: invalid value encountered in true_divide\n",
      "  result = super().__array_ufunc__(function, method, *arrays, **kwargs)\n",
      "C:\\Users\\heito\\anaconda3\\lib\\site-packages\\fil_finder\\filfinder2D.py:288: UserWarning: Using inputted mask. Skipping creation of anew mask.\n",
      "  warnings.warn(\"Using inputted mask. Skipping creation of a\"\n",
      "C:\\Users\\heito\\anaconda3\\lib\\site-packages\\fil_finder\\filament.py:326: UserWarning: Graph pruning reached max iterations.\n",
      "  warnings.warn(\"Graph pruning reached max iterations.\")\n"
     ]
    },
    {
     "name": "stdout",
     "output_type": "stream",
     "text": [
      "dipole gene= 2.4939979398488563\n",
      "elongation= 150\n",
      "aspect ratio= 1.149171270718232\n",
      "centroid= [3208 5375]\n"
     ]
    },
    {
     "name": "stderr",
     "output_type": "stream",
     "text": [
      "C:\\Users\\heito\\anaconda3\\lib\\site-packages\\fil_finder\\filfinder2D.py:138: UserWarning: No beam width given. Using 0 pixels.\n",
      "  warnings.warn(\"No beam width given. Using 0 pixels.\")\n",
      "C:\\Users\\heito\\anaconda3\\lib\\site-packages\\astropy\\units\\quantity.py:479: RuntimeWarning: divide by zero encountered in true_divide\n",
      "  result = super().__array_ufunc__(function, method, *arrays, **kwargs)\n",
      "C:\\Users\\heito\\anaconda3\\lib\\site-packages\\astropy\\units\\quantity.py:479: RuntimeWarning: invalid value encountered in true_divide\n",
      "  result = super().__array_ufunc__(function, method, *arrays, **kwargs)\n",
      "C:\\Users\\heito\\anaconda3\\lib\\site-packages\\fil_finder\\filfinder2D.py:288: UserWarning: Using inputted mask. Skipping creation of anew mask.\n",
      "  warnings.warn(\"Using inputted mask. Skipping creation of a\"\n",
      "C:\\Users\\heito\\anaconda3\\lib\\site-packages\\fil_finder\\filament.py:326: UserWarning: Graph pruning reached max iterations.\n",
      "  warnings.warn(\"Graph pruning reached max iterations.\")\n"
     ]
    },
    {
     "name": "stdout",
     "output_type": "stream",
     "text": [
      "dipole gene= 1.551895418623921\n",
      "elongation= 159\n",
      "aspect ratio= 1.2262773722627738\n",
      "centroid= [3078  621]\n"
     ]
    },
    {
     "name": "stderr",
     "output_type": "stream",
     "text": [
      "C:\\Users\\heito\\anaconda3\\lib\\site-packages\\fil_finder\\filfinder2D.py:138: UserWarning: No beam width given. Using 0 pixels.\n",
      "  warnings.warn(\"No beam width given. Using 0 pixels.\")\n",
      "C:\\Users\\heito\\anaconda3\\lib\\site-packages\\astropy\\units\\quantity.py:479: RuntimeWarning: divide by zero encountered in true_divide\n",
      "  result = super().__array_ufunc__(function, method, *arrays, **kwargs)\n",
      "C:\\Users\\heito\\anaconda3\\lib\\site-packages\\astropy\\units\\quantity.py:479: RuntimeWarning: invalid value encountered in true_divide\n",
      "  result = super().__array_ufunc__(function, method, *arrays, **kwargs)\n",
      "C:\\Users\\heito\\anaconda3\\lib\\site-packages\\fil_finder\\filfinder2D.py:288: UserWarning: Using inputted mask. Skipping creation of anew mask.\n",
      "  warnings.warn(\"Using inputted mask. Skipping creation of a\"\n",
      "C:\\Users\\heito\\anaconda3\\lib\\site-packages\\fil_finder\\filament.py:326: UserWarning: Graph pruning reached max iterations.\n",
      "  warnings.warn(\"Graph pruning reached max iterations.\")\n"
     ]
    },
    {
     "name": "stdout",
     "output_type": "stream",
     "text": [
      "dipole gene= 1.3015060750036322\n",
      "elongation= 101\n",
      "aspect ratio= 0.6198830409356725\n",
      "centroid= [3066  930]\n"
     ]
    },
    {
     "name": "stderr",
     "output_type": "stream",
     "text": [
      "C:\\Users\\heito\\anaconda3\\lib\\site-packages\\fil_finder\\filfinder2D.py:138: UserWarning: No beam width given. Using 0 pixels.\n",
      "  warnings.warn(\"No beam width given. Using 0 pixels.\")\n",
      "C:\\Users\\heito\\anaconda3\\lib\\site-packages\\astropy\\units\\quantity.py:479: RuntimeWarning: divide by zero encountered in true_divide\n",
      "  result = super().__array_ufunc__(function, method, *arrays, **kwargs)\n",
      "C:\\Users\\heito\\anaconda3\\lib\\site-packages\\astropy\\units\\quantity.py:479: RuntimeWarning: invalid value encountered in true_divide\n",
      "  result = super().__array_ufunc__(function, method, *arrays, **kwargs)\n",
      "C:\\Users\\heito\\anaconda3\\lib\\site-packages\\fil_finder\\filfinder2D.py:288: UserWarning: Using inputted mask. Skipping creation of anew mask.\n",
      "  warnings.warn(\"Using inputted mask. Skipping creation of a\"\n",
      "C:\\Users\\heito\\anaconda3\\lib\\site-packages\\fil_finder\\filament.py:326: UserWarning: Graph pruning reached max iterations.\n",
      "  warnings.warn(\"Graph pruning reached max iterations.\")\n"
     ]
    },
    {
     "name": "stdout",
     "output_type": "stream",
     "text": [
      "dipole gene= 0.006581964856813905\n",
      "elongation= 20\n",
      "aspect ratio= 0.8943089430894309\n",
      "centroid= [3036 2156]\n",
      "dipole gene= 0.01727553162694579\n",
      "elongation= 7\n",
      "aspect ratio= 0.9596774193548387\n",
      "centroid= [3027 1885]\n",
      "dipole gene= 0.1679534537749605\n",
      "elongation= 41\n",
      "aspect ratio= 0.7602739726027398\n",
      "centroid= [3031 1259]\n"
     ]
    },
    {
     "name": "stderr",
     "output_type": "stream",
     "text": [
      "C:\\Users\\heito\\anaconda3\\lib\\site-packages\\fil_finder\\filfinder2D.py:138: UserWarning: No beam width given. Using 0 pixels.\n",
      "  warnings.warn(\"No beam width given. Using 0 pixels.\")\n",
      "C:\\Users\\heito\\anaconda3\\lib\\site-packages\\astropy\\units\\quantity.py:479: RuntimeWarning: divide by zero encountered in true_divide\n",
      "  result = super().__array_ufunc__(function, method, *arrays, **kwargs)\n",
      "C:\\Users\\heito\\anaconda3\\lib\\site-packages\\astropy\\units\\quantity.py:479: RuntimeWarning: invalid value encountered in true_divide\n",
      "  result = super().__array_ufunc__(function, method, *arrays, **kwargs)\n",
      "C:\\Users\\heito\\anaconda3\\lib\\site-packages\\fil_finder\\filfinder2D.py:288: UserWarning: Using inputted mask. Skipping creation of anew mask.\n",
      "  warnings.warn(\"Using inputted mask. Skipping creation of a\"\n",
      "C:\\Users\\heito\\anaconda3\\lib\\site-packages\\fil_finder\\filament.py:326: UserWarning: Graph pruning reached max iterations.\n",
      "  warnings.warn(\"Graph pruning reached max iterations.\")\n"
     ]
    },
    {
     "name": "stdout",
     "output_type": "stream",
     "text": [
      "dipole gene= 0.10104965319004548\n",
      "elongation= 24\n",
      "aspect ratio= 0.8558558558558559\n",
      "centroid= [3008 2482]\n",
      "dipole gene= 0.12233636606666966\n",
      "elongation= 50\n",
      "aspect ratio= 0.7279411764705882\n",
      "centroid= [3015 1612]\n"
     ]
    },
    {
     "name": "stderr",
     "output_type": "stream",
     "text": [
      "C:\\Users\\heito\\anaconda3\\lib\\site-packages\\fil_finder\\filfinder2D.py:138: UserWarning: No beam width given. Using 0 pixels.\n",
      "  warnings.warn(\"No beam width given. Using 0 pixels.\")\n",
      "C:\\Users\\heito\\anaconda3\\lib\\site-packages\\astropy\\units\\quantity.py:479: RuntimeWarning: divide by zero encountered in true_divide\n",
      "  result = super().__array_ufunc__(function, method, *arrays, **kwargs)\n",
      "C:\\Users\\heito\\anaconda3\\lib\\site-packages\\astropy\\units\\quantity.py:479: RuntimeWarning: invalid value encountered in true_divide\n",
      "  result = super().__array_ufunc__(function, method, *arrays, **kwargs)\n",
      "C:\\Users\\heito\\anaconda3\\lib\\site-packages\\fil_finder\\filfinder2D.py:288: UserWarning: Using inputted mask. Skipping creation of anew mask.\n",
      "  warnings.warn(\"Using inputted mask. Skipping creation of a\"\n"
     ]
    },
    {
     "name": "stdout",
     "output_type": "stream",
     "text": [
      "dipole gene= 0.04256305493050553\n",
      "elongation= 6\n",
      "aspect ratio= 1.0\n",
      "centroid= [2979 2865]\n"
     ]
    },
    {
     "name": "stderr",
     "output_type": "stream",
     "text": [
      "C:\\Users\\heito\\anaconda3\\lib\\site-packages\\fil_finder\\filfinder2D.py:138: UserWarning: No beam width given. Using 0 pixels.\n",
      "  warnings.warn(\"No beam width given. Using 0 pixels.\")\n",
      "C:\\Users\\heito\\anaconda3\\lib\\site-packages\\astropy\\units\\quantity.py:479: RuntimeWarning: divide by zero encountered in true_divide\n",
      "  result = super().__array_ufunc__(function, method, *arrays, **kwargs)\n",
      "C:\\Users\\heito\\anaconda3\\lib\\site-packages\\astropy\\units\\quantity.py:479: RuntimeWarning: invalid value encountered in true_divide\n",
      "  result = super().__array_ufunc__(function, method, *arrays, **kwargs)\n",
      "C:\\Users\\heito\\anaconda3\\lib\\site-packages\\fil_finder\\filfinder2D.py:288: UserWarning: Using inputted mask. Skipping creation of anew mask.\n",
      "  warnings.warn(\"Using inputted mask. Skipping creation of a\"\n",
      "C:\\Users\\heito\\anaconda3\\lib\\site-packages\\fil_finder\\filament.py:326: UserWarning: Graph pruning reached max iterations.\n",
      "  warnings.warn(\"Graph pruning reached max iterations.\")\n"
     ]
    },
    {
     "name": "stdout",
     "output_type": "stream",
     "text": [
      "dipole gene= 0.046834560075134854\n",
      "elongation= 31\n",
      "aspect ratio= 0.8345864661654135\n",
      "centroid= [2987 3113]\n"
     ]
    },
    {
     "name": "stderr",
     "output_type": "stream",
     "text": [
      "C:\\Users\\heito\\anaconda3\\lib\\site-packages\\fil_finder\\filfinder2D.py:138: UserWarning: No beam width given. Using 0 pixels.\n",
      "  warnings.warn(\"No beam width given. Using 0 pixels.\")\n",
      "C:\\Users\\heito\\anaconda3\\lib\\site-packages\\astropy\\units\\quantity.py:479: RuntimeWarning: divide by zero encountered in true_divide\n",
      "  result = super().__array_ufunc__(function, method, *arrays, **kwargs)\n",
      "C:\\Users\\heito\\anaconda3\\lib\\site-packages\\astropy\\units\\quantity.py:479: RuntimeWarning: invalid value encountered in true_divide\n",
      "  result = super().__array_ufunc__(function, method, *arrays, **kwargs)\n",
      "C:\\Users\\heito\\anaconda3\\lib\\site-packages\\fil_finder\\filfinder2D.py:288: UserWarning: Using inputted mask. Skipping creation of anew mask.\n",
      "  warnings.warn(\"Using inputted mask. Skipping creation of a\"\n",
      "C:\\Users\\heito\\anaconda3\\lib\\site-packages\\fil_finder\\filament.py:326: UserWarning: Graph pruning reached max iterations.\n",
      "  warnings.warn(\"Graph pruning reached max iterations.\")\n"
     ]
    },
    {
     "name": "stdout",
     "output_type": "stream",
     "text": [
      "dipole gene= 0.12340416040499491\n",
      "elongation= 71\n",
      "aspect ratio= 0.6\n",
      "centroid= [2983 4013]\n"
     ]
    },
    {
     "name": "stderr",
     "output_type": "stream",
     "text": [
      "C:\\Users\\heito\\anaconda3\\lib\\site-packages\\fil_finder\\filfinder2D.py:138: UserWarning: No beam width given. Using 0 pixels.\n",
      "  warnings.warn(\"No beam width given. Using 0 pixels.\")\n",
      "C:\\Users\\heito\\anaconda3\\lib\\site-packages\\astropy\\units\\quantity.py:479: RuntimeWarning: divide by zero encountered in true_divide\n",
      "  result = super().__array_ufunc__(function, method, *arrays, **kwargs)\n",
      "C:\\Users\\heito\\anaconda3\\lib\\site-packages\\astropy\\units\\quantity.py:479: RuntimeWarning: invalid value encountered in true_divide\n",
      "  result = super().__array_ufunc__(function, method, *arrays, **kwargs)\n",
      "C:\\Users\\heito\\anaconda3\\lib\\site-packages\\fil_finder\\filfinder2D.py:288: UserWarning: Using inputted mask. Skipping creation of anew mask.\n",
      "  warnings.warn(\"Using inputted mask. Skipping creation of a\"\n",
      "C:\\Users\\heito\\anaconda3\\lib\\site-packages\\fil_finder\\filament.py:326: UserWarning: Graph pruning reached max iterations.\n",
      "  warnings.warn(\"Graph pruning reached max iterations.\")\n"
     ]
    },
    {
     "name": "stdout",
     "output_type": "stream",
     "text": [
      "dipole gene= 0.023484532858461193\n",
      "elongation= 37\n",
      "aspect ratio= 0.7685185185185185\n",
      "centroid= [2958 3707]\n",
      "dipole gene= 0.009939825789324109\n",
      "elongation= 27\n",
      "aspect ratio= 1.0275229357798166\n",
      "centroid= [2957 3446]\n",
      "dipole gene= 0.037146744118156744\n",
      "elongation= 75\n",
      "aspect ratio= 0.6153846153846154\n",
      "centroid= [2949 4647]\n"
     ]
    },
    {
     "name": "stderr",
     "output_type": "stream",
     "text": [
      "C:\\Users\\heito\\anaconda3\\lib\\site-packages\\fil_finder\\filfinder2D.py:138: UserWarning: No beam width given. Using 0 pixels.\n",
      "  warnings.warn(\"No beam width given. Using 0 pixels.\")\n",
      "C:\\Users\\heito\\anaconda3\\lib\\site-packages\\astropy\\units\\quantity.py:479: RuntimeWarning: divide by zero encountered in true_divide\n",
      "  result = super().__array_ufunc__(function, method, *arrays, **kwargs)\n",
      "C:\\Users\\heito\\anaconda3\\lib\\site-packages\\astropy\\units\\quantity.py:479: RuntimeWarning: invalid value encountered in true_divide\n",
      "  result = super().__array_ufunc__(function, method, *arrays, **kwargs)\n",
      "C:\\Users\\heito\\anaconda3\\lib\\site-packages\\fil_finder\\filfinder2D.py:288: UserWarning: Using inputted mask. Skipping creation of anew mask.\n",
      "  warnings.warn(\"Using inputted mask. Skipping creation of a\"\n",
      "C:\\Users\\heito\\anaconda3\\lib\\site-packages\\fil_finder\\filament.py:326: UserWarning: Graph pruning reached max iterations.\n",
      "  warnings.warn(\"Graph pruning reached max iterations.\")\n"
     ]
    },
    {
     "name": "stdout",
     "output_type": "stream",
     "text": [
      "dipole gene= 2.477636937791625\n",
      "elongation= 214\n",
      "aspect ratio= 1.3470588235294119\n",
      "centroid= [2945  543]\n"
     ]
    },
    {
     "name": "stderr",
     "output_type": "stream",
     "text": [
      "C:\\Users\\heito\\anaconda3\\lib\\site-packages\\fil_finder\\filfinder2D.py:138: UserWarning: No beam width given. Using 0 pixels.\n",
      "  warnings.warn(\"No beam width given. Using 0 pixels.\")\n",
      "C:\\Users\\heito\\anaconda3\\lib\\site-packages\\astropy\\units\\quantity.py:479: RuntimeWarning: divide by zero encountered in true_divide\n",
      "  result = super().__array_ufunc__(function, method, *arrays, **kwargs)\n",
      "C:\\Users\\heito\\anaconda3\\lib\\site-packages\\astropy\\units\\quantity.py:479: RuntimeWarning: invalid value encountered in true_divide\n",
      "  result = super().__array_ufunc__(function, method, *arrays, **kwargs)\n",
      "C:\\Users\\heito\\anaconda3\\lib\\site-packages\\fil_finder\\filfinder2D.py:288: UserWarning: Using inputted mask. Skipping creation of anew mask.\n",
      "  warnings.warn(\"Using inputted mask. Skipping creation of a\"\n",
      "C:\\Users\\heito\\anaconda3\\lib\\site-packages\\fil_finder\\filament.py:326: UserWarning: Graph pruning reached max iterations.\n",
      "  warnings.warn(\"Graph pruning reached max iterations.\")\n"
     ]
    },
    {
     "name": "stdout",
     "output_type": "stream",
     "text": [
      "dipole gene= 3.691498469561355\n",
      "elongation= 216\n",
      "aspect ratio= 1.5534591194968554\n",
      "centroid= [2954 5362]\n"
     ]
    },
    {
     "name": "stderr",
     "output_type": "stream",
     "text": [
      "C:\\Users\\heito\\anaconda3\\lib\\site-packages\\fil_finder\\filfinder2D.py:138: UserWarning: No beam width given. Using 0 pixels.\n",
      "  warnings.warn(\"No beam width given. Using 0 pixels.\")\n",
      "C:\\Users\\heito\\anaconda3\\lib\\site-packages\\astropy\\units\\quantity.py:479: RuntimeWarning: divide by zero encountered in true_divide\n",
      "  result = super().__array_ufunc__(function, method, *arrays, **kwargs)\n",
      "C:\\Users\\heito\\anaconda3\\lib\\site-packages\\astropy\\units\\quantity.py:479: RuntimeWarning: invalid value encountered in true_divide\n",
      "  result = super().__array_ufunc__(function, method, *arrays, **kwargs)\n",
      "C:\\Users\\heito\\anaconda3\\lib\\site-packages\\fil_finder\\filfinder2D.py:288: UserWarning: Using inputted mask. Skipping creation of anew mask.\n",
      "  warnings.warn(\"Using inputted mask. Skipping creation of a\"\n",
      "C:\\Users\\heito\\anaconda3\\lib\\site-packages\\fil_finder\\filament.py:326: UserWarning: Graph pruning reached max iterations.\n",
      "  warnings.warn(\"Graph pruning reached max iterations.\")\n"
     ]
    },
    {
     "name": "stdout",
     "output_type": "stream",
     "text": [
      "dipole gene= 0.028772608672727934\n",
      "elongation= 35\n",
      "aspect ratio= 0.8110236220472441\n",
      "centroid= [2931 4395]\n",
      "dipole gene= 0.03413357080569096\n",
      "elongation= 32\n",
      "aspect ratio= 1.2844827586206897\n",
      "centroid= [2920 4982]\n",
      "dipole gene= 0.060179021261115524\n",
      "elongation= 31\n",
      "aspect ratio= 1.1008403361344539\n",
      "centroid= [2916  928]\n",
      "dipole gene= 0.07870734532984783\n",
      "elongation= 22\n",
      "aspect ratio= 0.9035087719298246\n",
      "centroid= [2894 2475]\n",
      "dipole gene= 0.018470344834954928\n",
      "elongation= 19\n",
      "aspect ratio= 0.9302325581395349\n",
      "centroid= [2889 1255]\n",
      "dipole gene= 0.023474940155876346\n",
      "elongation= 17\n",
      "aspect ratio= 0.875\n",
      "centroid= [2883 1853]\n",
      "dipole gene= 0.013629886809723147\n",
      "elongation= 25\n",
      "aspect ratio= 0.8656716417910447\n",
      "centroid= [2881 2166]\n"
     ]
    },
    {
     "name": "stderr",
     "output_type": "stream",
     "text": [
      "C:\\Users\\heito\\anaconda3\\lib\\site-packages\\fil_finder\\filfinder2D.py:138: UserWarning: No beam width given. Using 0 pixels.\n",
      "  warnings.warn(\"No beam width given. Using 0 pixels.\")\n",
      "C:\\Users\\heito\\anaconda3\\lib\\site-packages\\astropy\\units\\quantity.py:479: RuntimeWarning: divide by zero encountered in true_divide\n",
      "  result = super().__array_ufunc__(function, method, *arrays, **kwargs)\n",
      "C:\\Users\\heito\\anaconda3\\lib\\site-packages\\astropy\\units\\quantity.py:479: RuntimeWarning: invalid value encountered in true_divide\n",
      "  result = super().__array_ufunc__(function, method, *arrays, **kwargs)\n",
      "C:\\Users\\heito\\anaconda3\\lib\\site-packages\\fil_finder\\filfinder2D.py:288: UserWarning: Using inputted mask. Skipping creation of anew mask.\n",
      "  warnings.warn(\"Using inputted mask. Skipping creation of a\"\n",
      "C:\\Users\\heito\\anaconda3\\lib\\site-packages\\fil_finder\\filament.py:326: UserWarning: Graph pruning reached max iterations.\n",
      "  warnings.warn(\"Graph pruning reached max iterations.\")\n"
     ]
    },
    {
     "name": "stdout",
     "output_type": "stream",
     "text": [
      "dipole gene= 0.012689351916059395\n",
      "elongation= 22\n",
      "aspect ratio= 0.95\n",
      "centroid= [2871 1579]\n",
      "dipole gene= 0.021586440152673775\n",
      "elongation= 39\n",
      "aspect ratio= 0.9439252336448598\n",
      "centroid= [2849 3714]\n"
     ]
    },
    {
     "name": "stderr",
     "output_type": "stream",
     "text": [
      "<ipython-input-87-db5abb40a3bd>:18: RankWarning: Polyfit may be poorly conditioned\n",
      "  side1, edge1, edge2, arr1 = get_intersection(hey,mid_point,eps,contour)\n"
     ]
    },
    {
     "name": "stdout",
     "output_type": "stream",
     "text": [
      "dipole gene= 0.010740333272185895\n",
      "elongation= 24\n",
      "aspect ratio= 1.1904761904761905\n",
      "centroid= [2846 2821]\n",
      "dipole gene= 0.0007207304486000488\n",
      "elongation= 8\n",
      "aspect ratio= 0.9210526315789473\n",
      "centroid= [2833 4671]\n",
      "dipole gene= 0.0179252764456188\n",
      "elongation= 45\n",
      "aspect ratio= 0.7246376811594203\n",
      "centroid= [2845 4027]\n"
     ]
    },
    {
     "name": "stderr",
     "output_type": "stream",
     "text": [
      "C:\\Users\\heito\\anaconda3\\lib\\site-packages\\fil_finder\\filfinder2D.py:138: UserWarning: No beam width given. Using 0 pixels.\n",
      "  warnings.warn(\"No beam width given. Using 0 pixels.\")\n",
      "C:\\Users\\heito\\anaconda3\\lib\\site-packages\\astropy\\units\\quantity.py:479: RuntimeWarning: divide by zero encountered in true_divide\n",
      "  result = super().__array_ufunc__(function, method, *arrays, **kwargs)\n",
      "C:\\Users\\heito\\anaconda3\\lib\\site-packages\\astropy\\units\\quantity.py:479: RuntimeWarning: invalid value encountered in true_divide\n",
      "  result = super().__array_ufunc__(function, method, *arrays, **kwargs)\n",
      "C:\\Users\\heito\\anaconda3\\lib\\site-packages\\fil_finder\\filfinder2D.py:288: UserWarning: Using inputted mask. Skipping creation of anew mask.\n",
      "  warnings.warn(\"Using inputted mask. Skipping creation of a\"\n",
      "C:\\Users\\heito\\anaconda3\\lib\\site-packages\\fil_finder\\filament.py:326: UserWarning: Graph pruning reached max iterations.\n",
      "  warnings.warn(\"Graph pruning reached max iterations.\")\n"
     ]
    },
    {
     "name": "stdout",
     "output_type": "stream",
     "text": [
      "dipole gene= 0.010367585171010356\n",
      "elongation= 34\n",
      "aspect ratio= 0.8571428571428571\n",
      "centroid= [2832 3423]\n",
      "dipole gene= 0.0036640719067487304\n",
      "elongation= 28\n",
      "aspect ratio= 0.8461538461538461\n",
      "centroid= [2829 3120]\n",
      "dipole gene= 0.39218484524702624\n",
      "elongation= 30\n",
      "aspect ratio= 1.0258620689655173\n",
      "centroid= [2804 4968]\n",
      "dipole gene= 0.0086031020082645\n",
      "elongation= 44\n",
      "aspect ratio= 0.8085106382978723\n",
      "centroid= [2795 4379]\n",
      "dipole gene= 2.8982780507938553\n",
      "elongation= 168\n",
      "aspect ratio= 1.5777777777777777\n",
      "centroid= [2774 5324]\n"
     ]
    },
    {
     "name": "stderr",
     "output_type": "stream",
     "text": [
      "C:\\Users\\heito\\anaconda3\\lib\\site-packages\\fil_finder\\filfinder2D.py:138: UserWarning: No beam width given. Using 0 pixels.\n",
      "  warnings.warn(\"No beam width given. Using 0 pixels.\")\n",
      "C:\\Users\\heito\\anaconda3\\lib\\site-packages\\astropy\\units\\quantity.py:479: RuntimeWarning: divide by zero encountered in true_divide\n",
      "  result = super().__array_ufunc__(function, method, *arrays, **kwargs)\n",
      "C:\\Users\\heito\\anaconda3\\lib\\site-packages\\astropy\\units\\quantity.py:479: RuntimeWarning: invalid value encountered in true_divide\n",
      "  result = super().__array_ufunc__(function, method, *arrays, **kwargs)\n",
      "C:\\Users\\heito\\anaconda3\\lib\\site-packages\\fil_finder\\filfinder2D.py:288: UserWarning: Using inputted mask. Skipping creation of anew mask.\n",
      "  warnings.warn(\"Using inputted mask. Skipping creation of a\"\n",
      "C:\\Users\\heito\\anaconda3\\lib\\site-packages\\fil_finder\\filament.py:326: UserWarning: Graph pruning reached max iterations.\n",
      "  warnings.warn(\"Graph pruning reached max iterations.\")\n"
     ]
    },
    {
     "name": "stdout",
     "output_type": "stream",
     "text": [
      "dipole gene= 0.12364849785647573\n",
      "elongation= 14\n",
      "aspect ratio= 1.0\n",
      "centroid= [2612 1555]\n",
      "dipole gene= 2.99051717930666\n",
      "elongation= 199\n",
      "aspect ratio= 1.4625\n",
      "centroid= [2645  600]\n"
     ]
    },
    {
     "name": "stderr",
     "output_type": "stream",
     "text": [
      "C:\\Users\\heito\\anaconda3\\lib\\site-packages\\fil_finder\\filfinder2D.py:138: UserWarning: No beam width given. Using 0 pixels.\n",
      "  warnings.warn(\"No beam width given. Using 0 pixels.\")\n",
      "C:\\Users\\heito\\anaconda3\\lib\\site-packages\\astropy\\units\\quantity.py:479: RuntimeWarning: divide by zero encountered in true_divide\n",
      "  result = super().__array_ufunc__(function, method, *arrays, **kwargs)\n",
      "C:\\Users\\heito\\anaconda3\\lib\\site-packages\\astropy\\units\\quantity.py:479: RuntimeWarning: invalid value encountered in true_divide\n",
      "  result = super().__array_ufunc__(function, method, *arrays, **kwargs)\n",
      "C:\\Users\\heito\\anaconda3\\lib\\site-packages\\fil_finder\\filfinder2D.py:288: UserWarning: Using inputted mask. Skipping creation of anew mask.\n",
      "  warnings.warn(\"Using inputted mask. Skipping creation of a\"\n",
      "C:\\Users\\heito\\anaconda3\\lib\\site-packages\\fil_finder\\filament.py:326: UserWarning: Graph pruning reached max iterations.\n",
      "  warnings.warn(\"Graph pruning reached max iterations.\")\n"
     ]
    },
    {
     "name": "stdout",
     "output_type": "stream",
     "text": [
      "dipole gene= 0.19937265733816964\n",
      "elongation= 70\n",
      "aspect ratio= 0.6862745098039216\n",
      "centroid= [2625  907]\n",
      "dipole gene= 0.09304288788692198\n",
      "elongation= 45\n",
      "aspect ratio= 0.7777777777777778\n",
      "centroid= [2600 1873]\n"
     ]
    },
    {
     "name": "stderr",
     "output_type": "stream",
     "text": [
      "C:\\Users\\heito\\anaconda3\\lib\\site-packages\\fil_finder\\filfinder2D.py:138: UserWarning: No beam width given. Using 0 pixels.\n",
      "  warnings.warn(\"No beam width given. Using 0 pixels.\")\n",
      "C:\\Users\\heito\\anaconda3\\lib\\site-packages\\astropy\\units\\quantity.py:479: RuntimeWarning: divide by zero encountered in true_divide\n",
      "  result = super().__array_ufunc__(function, method, *arrays, **kwargs)\n",
      "C:\\Users\\heito\\anaconda3\\lib\\site-packages\\astropy\\units\\quantity.py:479: RuntimeWarning: invalid value encountered in true_divide\n",
      "  result = super().__array_ufunc__(function, method, *arrays, **kwargs)\n",
      "C:\\Users\\heito\\anaconda3\\lib\\site-packages\\fil_finder\\filfinder2D.py:288: UserWarning: Using inputted mask. Skipping creation of anew mask.\n",
      "  warnings.warn(\"Using inputted mask. Skipping creation of a\"\n"
     ]
    },
    {
     "name": "stdout",
     "output_type": "stream",
     "text": [
      "dipole gene= 0.032433660529642375\n",
      "elongation= 7\n",
      "aspect ratio= 0.9203539823008849\n",
      "centroid= [2579 2166]\n"
     ]
    },
    {
     "name": "stderr",
     "output_type": "stream",
     "text": [
      "C:\\Users\\heito\\anaconda3\\lib\\site-packages\\fil_finder\\filfinder2D.py:138: UserWarning: No beam width given. Using 0 pixels.\n",
      "  warnings.warn(\"No beam width given. Using 0 pixels.\")\n",
      "C:\\Users\\heito\\anaconda3\\lib\\site-packages\\astropy\\units\\quantity.py:479: RuntimeWarning: divide by zero encountered in true_divide\n",
      "  result = super().__array_ufunc__(function, method, *arrays, **kwargs)\n",
      "C:\\Users\\heito\\anaconda3\\lib\\site-packages\\astropy\\units\\quantity.py:479: RuntimeWarning: invalid value encountered in true_divide\n",
      "  result = super().__array_ufunc__(function, method, *arrays, **kwargs)\n",
      "C:\\Users\\heito\\anaconda3\\lib\\site-packages\\fil_finder\\filfinder2D.py:288: UserWarning: Using inputted mask. Skipping creation of anew mask.\n",
      "  warnings.warn(\"Using inputted mask. Skipping creation of a\"\n",
      "C:\\Users\\heito\\anaconda3\\lib\\site-packages\\fil_finder\\filament.py:326: UserWarning: Graph pruning reached max iterations.\n",
      "  warnings.warn(\"Graph pruning reached max iterations.\")\n"
     ]
    },
    {
     "name": "stdout",
     "output_type": "stream",
     "text": [
      "dipole gene= 0.035857139933959725\n",
      "elongation= 16\n",
      "aspect ratio= 0.9206349206349206\n",
      "centroid= [2586 1188]\n"
     ]
    },
    {
     "name": "stderr",
     "output_type": "stream",
     "text": [
      "C:\\Users\\heito\\anaconda3\\lib\\site-packages\\fil_finder\\filfinder2D.py:138: UserWarning: No beam width given. Using 0 pixels.\n",
      "  warnings.warn(\"No beam width given. Using 0 pixels.\")\n",
      "C:\\Users\\heito\\anaconda3\\lib\\site-packages\\astropy\\units\\quantity.py:479: RuntimeWarning: divide by zero encountered in true_divide\n",
      "  result = super().__array_ufunc__(function, method, *arrays, **kwargs)\n",
      "C:\\Users\\heito\\anaconda3\\lib\\site-packages\\astropy\\units\\quantity.py:479: RuntimeWarning: invalid value encountered in true_divide\n",
      "  result = super().__array_ufunc__(function, method, *arrays, **kwargs)\n",
      "C:\\Users\\heito\\anaconda3\\lib\\site-packages\\fil_finder\\filfinder2D.py:288: UserWarning: Using inputted mask. Skipping creation of anew mask.\n",
      "  warnings.warn(\"Using inputted mask. Skipping creation of a\"\n",
      "C:\\Users\\heito\\anaconda3\\lib\\site-packages\\fil_finder\\filament.py:326: UserWarning: Graph pruning reached max iterations.\n",
      "  warnings.warn(\"Graph pruning reached max iterations.\")\n"
     ]
    },
    {
     "name": "stdout",
     "output_type": "stream",
     "text": [
      "dipole gene= 0.03581365843083551\n",
      "elongation= 27\n",
      "aspect ratio= 0.9516129032258065\n",
      "centroid= [2577 2482]\n",
      "dipole gene= 0.11369845975407414\n",
      "elongation= 20\n",
      "aspect ratio= 0.911504424778761\n",
      "centroid= [2562 4397]\n",
      "dipole gene= 0.023290978003916076\n",
      "elongation= 14\n",
      "aspect ratio= 0.98\n",
      "centroid= [2554 4040]\n"
     ]
    },
    {
     "name": "stderr",
     "output_type": "stream",
     "text": [
      "C:\\Users\\heito\\anaconda3\\lib\\site-packages\\fil_finder\\filfinder2D.py:138: UserWarning: No beam width given. Using 0 pixels.\n",
      "  warnings.warn(\"No beam width given. Using 0 pixels.\")\n",
      "C:\\Users\\heito\\anaconda3\\lib\\site-packages\\astropy\\units\\quantity.py:479: RuntimeWarning: divide by zero encountered in true_divide\n",
      "  result = super().__array_ufunc__(function, method, *arrays, **kwargs)\n",
      "C:\\Users\\heito\\anaconda3\\lib\\site-packages\\astropy\\units\\quantity.py:479: RuntimeWarning: invalid value encountered in true_divide\n",
      "  result = super().__array_ufunc__(function, method, *arrays, **kwargs)\n",
      "C:\\Users\\heito\\anaconda3\\lib\\site-packages\\fil_finder\\filfinder2D.py:288: UserWarning: Using inputted mask. Skipping creation of anew mask.\n",
      "  warnings.warn(\"Using inputted mask. Skipping creation of a\"\n",
      "C:\\Users\\heito\\anaconda3\\lib\\site-packages\\fil_finder\\filament.py:326: UserWarning: Graph pruning reached max iterations.\n",
      "  warnings.warn(\"Graph pruning reached max iterations.\")\n"
     ]
    },
    {
     "name": "stdout",
     "output_type": "stream",
     "text": [
      "dipole gene= 0.02380526422843186\n",
      "elongation= 27\n",
      "aspect ratio= 0.8968253968253969\n",
      "centroid= [2560 3434]\n"
     ]
    },
    {
     "name": "stderr",
     "output_type": "stream",
     "text": [
      "C:\\Users\\heito\\anaconda3\\lib\\site-packages\\fil_finder\\filfinder2D.py:138: UserWarning: No beam width given. Using 0 pixels.\n",
      "  warnings.warn(\"No beam width given. Using 0 pixels.\")\n",
      "C:\\Users\\heito\\anaconda3\\lib\\site-packages\\astropy\\units\\quantity.py:479: RuntimeWarning: divide by zero encountered in true_divide\n",
      "  result = super().__array_ufunc__(function, method, *arrays, **kwargs)\n",
      "C:\\Users\\heito\\anaconda3\\lib\\site-packages\\astropy\\units\\quantity.py:479: RuntimeWarning: invalid value encountered in true_divide\n",
      "  result = super().__array_ufunc__(function, method, *arrays, **kwargs)\n",
      "C:\\Users\\heito\\anaconda3\\lib\\site-packages\\fil_finder\\filfinder2D.py:288: UserWarning: Using inputted mask. Skipping creation of anew mask.\n",
      "  warnings.warn(\"Using inputted mask. Skipping creation of a\"\n",
      "C:\\Users\\heito\\anaconda3\\lib\\site-packages\\fil_finder\\filament.py:326: UserWarning: Graph pruning reached max iterations.\n",
      "  warnings.warn(\"Graph pruning reached max iterations.\")\n"
     ]
    },
    {
     "name": "stdout",
     "output_type": "stream",
     "text": [
      "dipole gene= 0.020358769223678196\n",
      "elongation= 25\n",
      "aspect ratio= 0.8548387096774194\n",
      "centroid= [2551 2793]\n",
      "dipole gene= 0.007425494517686115\n",
      "elongation= 33\n",
      "aspect ratio= 0.841726618705036\n",
      "centroid= [2553 3108]\n",
      "dipole gene= 0.008862216818637915\n",
      "elongation= 23\n",
      "aspect ratio= 0.936\n",
      "centroid= [2538 3742]\n",
      "dipole gene= 3.2180725028268595\n",
      "elongation= 181\n",
      "aspect ratio= 2.1666666666666665\n",
      "centroid= [2531 5344]\n"
     ]
    },
    {
     "name": "stderr",
     "output_type": "stream",
     "text": [
      "C:\\Users\\heito\\anaconda3\\lib\\site-packages\\fil_finder\\filfinder2D.py:138: UserWarning: No beam width given. Using 0 pixels.\n",
      "  warnings.warn(\"No beam width given. Using 0 pixels.\")\n",
      "C:\\Users\\heito\\anaconda3\\lib\\site-packages\\astropy\\units\\quantity.py:479: RuntimeWarning: divide by zero encountered in true_divide\n",
      "  result = super().__array_ufunc__(function, method, *arrays, **kwargs)\n",
      "C:\\Users\\heito\\anaconda3\\lib\\site-packages\\astropy\\units\\quantity.py:479: RuntimeWarning: invalid value encountered in true_divide\n",
      "  result = super().__array_ufunc__(function, method, *arrays, **kwargs)\n",
      "C:\\Users\\heito\\anaconda3\\lib\\site-packages\\fil_finder\\filfinder2D.py:288: UserWarning: Using inputted mask. Skipping creation of anew mask.\n",
      "  warnings.warn(\"Using inputted mask. Skipping creation of a\"\n",
      "C:\\Users\\heito\\anaconda3\\lib\\site-packages\\fil_finder\\filament.py:326: UserWarning: Graph pruning reached max iterations.\n",
      "  warnings.warn(\"Graph pruning reached max iterations.\")\n"
     ]
    },
    {
     "name": "stdout",
     "output_type": "stream",
     "text": [
      "dipole gene= 0.10637555379809983\n",
      "elongation= 42\n",
      "aspect ratio= 0.8333333333333334\n",
      "centroid= [2534 4677]\n"
     ]
    },
    {
     "name": "stderr",
     "output_type": "stream",
     "text": [
      "C:\\Users\\heito\\anaconda3\\lib\\site-packages\\fil_finder\\filfinder2D.py:138: UserWarning: No beam width given. Using 0 pixels.\n",
      "  warnings.warn(\"No beam width given. Using 0 pixels.\")\n",
      "C:\\Users\\heito\\anaconda3\\lib\\site-packages\\astropy\\units\\quantity.py:479: RuntimeWarning: divide by zero encountered in true_divide\n",
      "  result = super().__array_ufunc__(function, method, *arrays, **kwargs)\n",
      "C:\\Users\\heito\\anaconda3\\lib\\site-packages\\astropy\\units\\quantity.py:479: RuntimeWarning: invalid value encountered in true_divide\n",
      "  result = super().__array_ufunc__(function, method, *arrays, **kwargs)\n",
      "C:\\Users\\heito\\anaconda3\\lib\\site-packages\\fil_finder\\filfinder2D.py:288: UserWarning: Using inputted mask. Skipping creation of anew mask.\n",
      "  warnings.warn(\"Using inputted mask. Skipping creation of a\"\n",
      "C:\\Users\\heito\\anaconda3\\lib\\site-packages\\fil_finder\\filament.py:326: UserWarning: Graph pruning reached max iterations.\n",
      "  warnings.warn(\"Graph pruning reached max iterations.\")\n"
     ]
    },
    {
     "name": "stdout",
     "output_type": "stream",
     "text": [
      "dipole gene= 0.027691973755081763\n",
      "elongation= 18\n",
      "aspect ratio= 0.9338842975206612\n",
      "centroid= [2515 4969]\n",
      "dipole gene= 0.005818639612233395\n",
      "elongation= 42\n",
      "aspect ratio= 0.875968992248062\n",
      "centroid= [2482  933]\n"
     ]
    },
    {
     "name": "stderr",
     "output_type": "stream",
     "text": [
      "C:\\Users\\heito\\anaconda3\\lib\\site-packages\\fil_finder\\filfinder2D.py:138: UserWarning: No beam width given. Using 0 pixels.\n",
      "  warnings.warn(\"No beam width given. Using 0 pixels.\")\n",
      "C:\\Users\\heito\\anaconda3\\lib\\site-packages\\astropy\\units\\quantity.py:479: RuntimeWarning: divide by zero encountered in true_divide\n",
      "  result = super().__array_ufunc__(function, method, *arrays, **kwargs)\n",
      "C:\\Users\\heito\\anaconda3\\lib\\site-packages\\astropy\\units\\quantity.py:479: RuntimeWarning: invalid value encountered in true_divide\n",
      "  result = super().__array_ufunc__(function, method, *arrays, **kwargs)\n",
      "C:\\Users\\heito\\anaconda3\\lib\\site-packages\\fil_finder\\filfinder2D.py:288: UserWarning: Using inputted mask. Skipping creation of anew mask.\n",
      "  warnings.warn(\"Using inputted mask. Skipping creation of a\"\n"
     ]
    },
    {
     "name": "stdout",
     "output_type": "stream",
     "text": [
      "dipole gene= 0.019972539186792586\n",
      "elongation= 7\n",
      "aspect ratio= 0.9478260869565217\n",
      "centroid= [2466 1887]\n"
     ]
    },
    {
     "name": "stderr",
     "output_type": "stream",
     "text": [
      "C:\\Users\\heito\\anaconda3\\lib\\site-packages\\fil_finder\\filament.py:326: UserWarning: Graph pruning reached max iterations.\n",
      "  warnings.warn(\"Graph pruning reached max iterations.\")\n"
     ]
    },
    {
     "name": "stdout",
     "output_type": "stream",
     "text": [
      "dipole gene= 0.0\n",
      "elongation= 60\n",
      "aspect ratio= 0.7165354330708661\n",
      "centroid= [2467 1211]\n",
      "dipole gene= 0.04326564120503588\n",
      "elongation= 14\n",
      "aspect ratio= 0.9217391304347826\n",
      "centroid= [2462 1571]\n",
      "dipole gene= 4.4741753713444385\n",
      "elongation= 248\n",
      "aspect ratio= 2.220689655172414\n",
      "centroid= [2451  552]\n"
     ]
    },
    {
     "name": "stderr",
     "output_type": "stream",
     "text": [
      "C:\\Users\\heito\\anaconda3\\lib\\site-packages\\fil_finder\\filfinder2D.py:138: UserWarning: No beam width given. Using 0 pixels.\n",
      "  warnings.warn(\"No beam width given. Using 0 pixels.\")\n",
      "C:\\Users\\heito\\anaconda3\\lib\\site-packages\\astropy\\units\\quantity.py:479: RuntimeWarning: divide by zero encountered in true_divide\n",
      "  result = super().__array_ufunc__(function, method, *arrays, **kwargs)\n",
      "C:\\Users\\heito\\anaconda3\\lib\\site-packages\\astropy\\units\\quantity.py:479: RuntimeWarning: invalid value encountered in true_divide\n",
      "  result = super().__array_ufunc__(function, method, *arrays, **kwargs)\n",
      "C:\\Users\\heito\\anaconda3\\lib\\site-packages\\fil_finder\\filfinder2D.py:288: UserWarning: Using inputted mask. Skipping creation of anew mask.\n",
      "  warnings.warn(\"Using inputted mask. Skipping creation of a\"\n",
      "C:\\Users\\heito\\anaconda3\\lib\\site-packages\\fil_finder\\filament.py:326: UserWarning: Graph pruning reached max iterations.\n",
      "  warnings.warn(\"Graph pruning reached max iterations.\")\n"
     ]
    },
    {
     "name": "stdout",
     "output_type": "stream",
     "text": [
      "dipole gene= 0.0\n",
      "elongation= 40\n",
      "aspect ratio= 0.7894736842105263\n",
      "centroid= [2453 2181]\n",
      "dipole gene= 0.0053111849287540425\n",
      "elongation= 6\n",
      "aspect ratio= 0.85\n",
      "centroid= [2444 2526]\n",
      "dipole gene= 0.0028182215027982545\n",
      "elongation= 23\n",
      "aspect ratio= 0.8076923076923077\n",
      "centroid= [2423 2818]\n",
      "dipole gene= 0.0036151066192005032\n",
      "elongation= 11\n",
      "aspect ratio= 0.968503937007874\n",
      "centroid= [2403 3407]\n"
     ]
    },
    {
     "name": "stderr",
     "output_type": "stream",
     "text": [
      "C:\\Users\\heito\\anaconda3\\lib\\site-packages\\fil_finder\\filfinder2D.py:138: UserWarning: No beam width given. Using 0 pixels.\n",
      "  warnings.warn(\"No beam width given. Using 0 pixels.\")\n",
      "C:\\Users\\heito\\anaconda3\\lib\\site-packages\\astropy\\units\\quantity.py:479: RuntimeWarning: divide by zero encountered in true_divide\n",
      "  result = super().__array_ufunc__(function, method, *arrays, **kwargs)\n",
      "C:\\Users\\heito\\anaconda3\\lib\\site-packages\\astropy\\units\\quantity.py:479: RuntimeWarning: invalid value encountered in true_divide\n",
      "  result = super().__array_ufunc__(function, method, *arrays, **kwargs)\n",
      "C:\\Users\\heito\\anaconda3\\lib\\site-packages\\fil_finder\\filfinder2D.py:288: UserWarning: Using inputted mask. Skipping creation of anew mask.\n",
      "  warnings.warn(\"Using inputted mask. Skipping creation of a\"\n",
      "C:\\Users\\heito\\anaconda3\\lib\\site-packages\\fil_finder\\filament.py:326: UserWarning: Graph pruning reached max iterations.\n",
      "  warnings.warn(\"Graph pruning reached max iterations.\")\n"
     ]
    },
    {
     "name": "stdout",
     "output_type": "stream",
     "text": [
      "dipole gene= 0.025758746462310175\n",
      "elongation= 49\n",
      "aspect ratio= 0.7083333333333334\n",
      "centroid= [2407 3114]\n"
     ]
    },
    {
     "name": "stderr",
     "output_type": "stream",
     "text": [
      "C:\\Users\\heito\\anaconda3\\lib\\site-packages\\fil_finder\\filfinder2D.py:138: UserWarning: No beam width given. Using 0 pixels.\n",
      "  warnings.warn(\"No beam width given. Using 0 pixels.\")\n",
      "C:\\Users\\heito\\anaconda3\\lib\\site-packages\\astropy\\units\\quantity.py:479: RuntimeWarning: divide by zero encountered in true_divide\n",
      "  result = super().__array_ufunc__(function, method, *arrays, **kwargs)\n",
      "C:\\Users\\heito\\anaconda3\\lib\\site-packages\\astropy\\units\\quantity.py:479: RuntimeWarning: invalid value encountered in true_divide\n",
      "  result = super().__array_ufunc__(function, method, *arrays, **kwargs)\n",
      "C:\\Users\\heito\\anaconda3\\lib\\site-packages\\fil_finder\\filfinder2D.py:288: UserWarning: Using inputted mask. Skipping creation of anew mask.\n",
      "  warnings.warn(\"Using inputted mask. Skipping creation of a\"\n"
     ]
    },
    {
     "name": "stdout",
     "output_type": "stream",
     "text": [
      "dipole gene= 0.10955867611524678\n",
      "elongation= 9\n",
      "aspect ratio= 0.9814814814814815\n",
      "centroid= [2372 4650]\n"
     ]
    },
    {
     "name": "stderr",
     "output_type": "stream",
     "text": [
      "C:\\Users\\heito\\anaconda3\\lib\\site-packages\\fil_finder\\filament.py:326: UserWarning: Graph pruning reached max iterations.\n",
      "  warnings.warn(\"Graph pruning reached max iterations.\")\n"
     ]
    },
    {
     "name": "stdout",
     "output_type": "stream",
     "text": [
      "dipole gene= 0.023210831338373577\n",
      "elongation= 21\n",
      "aspect ratio= 1.1730769230769231\n",
      "centroid= [2335 4359]\n",
      "dipole gene= 0.0\n",
      "elongation= 40\n",
      "aspect ratio= 0.8968253968253969\n",
      "centroid= [2337 4044]\n",
      "dipole gene= 0.7459034216394497\n",
      "elongation= 66\n",
      "aspect ratio= 0.7354838709677419\n",
      "centroid= [2349 4979]\n"
     ]
    },
    {
     "name": "stderr",
     "output_type": "stream",
     "text": [
      "C:\\Users\\heito\\anaconda3\\lib\\site-packages\\fil_finder\\filfinder2D.py:138: UserWarning: No beam width given. Using 0 pixels.\n",
      "  warnings.warn(\"No beam width given. Using 0 pixels.\")\n",
      "C:\\Users\\heito\\anaconda3\\lib\\site-packages\\astropy\\units\\quantity.py:479: RuntimeWarning: divide by zero encountered in true_divide\n",
      "  result = super().__array_ufunc__(function, method, *arrays, **kwargs)\n",
      "C:\\Users\\heito\\anaconda3\\lib\\site-packages\\astropy\\units\\quantity.py:479: RuntimeWarning: invalid value encountered in true_divide\n",
      "  result = super().__array_ufunc__(function, method, *arrays, **kwargs)\n",
      "C:\\Users\\heito\\anaconda3\\lib\\site-packages\\fil_finder\\filfinder2D.py:288: UserWarning: Using inputted mask. Skipping creation of anew mask.\n",
      "  warnings.warn(\"Using inputted mask. Skipping creation of a\"\n",
      "C:\\Users\\heito\\anaconda3\\lib\\site-packages\\fil_finder\\filament.py:326: UserWarning: Graph pruning reached max iterations.\n",
      "  warnings.warn(\"Graph pruning reached max iterations.\")\n"
     ]
    },
    {
     "name": "stdout",
     "output_type": "stream",
     "text": [
      "dipole gene= 0.01288121572929303\n",
      "elongation= 34\n",
      "aspect ratio= 0.8524590163934426\n",
      "centroid= [2335 3712]\n"
     ]
    },
    {
     "name": "stderr",
     "output_type": "stream",
     "text": [
      "C:\\Users\\heito\\anaconda3\\lib\\site-packages\\fil_finder\\filfinder2D.py:138: UserWarning: No beam width given. Using 0 pixels.\n",
      "  warnings.warn(\"No beam width given. Using 0 pixels.\")\n",
      "C:\\Users\\heito\\anaconda3\\lib\\site-packages\\astropy\\units\\quantity.py:479: RuntimeWarning: divide by zero encountered in true_divide\n",
      "  result = super().__array_ufunc__(function, method, *arrays, **kwargs)\n",
      "C:\\Users\\heito\\anaconda3\\lib\\site-packages\\astropy\\units\\quantity.py:479: RuntimeWarning: invalid value encountered in true_divide\n",
      "  result = super().__array_ufunc__(function, method, *arrays, **kwargs)\n",
      "C:\\Users\\heito\\anaconda3\\lib\\site-packages\\fil_finder\\filfinder2D.py:288: UserWarning: Using inputted mask. Skipping creation of anew mask.\n",
      "  warnings.warn(\"Using inputted mask. Skipping creation of a\"\n",
      "C:\\Users\\heito\\anaconda3\\lib\\site-packages\\fil_finder\\filament.py:326: UserWarning: Graph pruning reached max iterations.\n",
      "  warnings.warn(\"Graph pruning reached max iterations.\")\n"
     ]
    },
    {
     "name": "stdout",
     "output_type": "stream",
     "text": [
      "dipole gene= 2.7360534620634382\n",
      "elongation= 199\n",
      "aspect ratio= 0.9067357512953368\n",
      "centroid= [2321 5300]\n"
     ]
    },
    {
     "name": "stderr",
     "output_type": "stream",
     "text": [
      "C:\\Users\\heito\\anaconda3\\lib\\site-packages\\fil_finder\\filfinder2D.py:138: UserWarning: No beam width given. Using 0 pixels.\n",
      "  warnings.warn(\"No beam width given. Using 0 pixels.\")\n",
      "C:\\Users\\heito\\anaconda3\\lib\\site-packages\\astropy\\units\\quantity.py:479: RuntimeWarning: divide by zero encountered in true_divide\n",
      "  result = super().__array_ufunc__(function, method, *arrays, **kwargs)\n",
      "C:\\Users\\heito\\anaconda3\\lib\\site-packages\\astropy\\units\\quantity.py:479: RuntimeWarning: invalid value encountered in true_divide\n",
      "  result = super().__array_ufunc__(function, method, *arrays, **kwargs)\n",
      "C:\\Users\\heito\\anaconda3\\lib\\site-packages\\fil_finder\\filfinder2D.py:288: UserWarning: Using inputted mask. Skipping creation of anew mask.\n",
      "  warnings.warn(\"Using inputted mask. Skipping creation of a\"\n",
      "C:\\Users\\heito\\anaconda3\\lib\\site-packages\\fil_finder\\filament.py:326: UserWarning: Graph pruning reached max iterations.\n",
      "  warnings.warn(\"Graph pruning reached max iterations.\")\n"
     ]
    },
    {
     "name": "stdout",
     "output_type": "stream",
     "text": [
      "dipole gene= 0.11477441652729169\n",
      "elongation= 35\n",
      "aspect ratio= 0.7647058823529411\n",
      "centroid= [2204  938]\n",
      "dipole gene= 2.1987044309133728\n",
      "elongation= 165\n",
      "aspect ratio= 1.9243697478991597\n",
      "centroid= [2152  561]\n"
     ]
    },
    {
     "name": "stderr",
     "output_type": "stream",
     "text": [
      "C:\\Users\\heito\\anaconda3\\lib\\site-packages\\fil_finder\\filfinder2D.py:138: UserWarning: No beam width given. Using 0 pixels.\n",
      "  warnings.warn(\"No beam width given. Using 0 pixels.\")\n",
      "C:\\Users\\heito\\anaconda3\\lib\\site-packages\\astropy\\units\\quantity.py:479: RuntimeWarning: divide by zero encountered in true_divide\n",
      "  result = super().__array_ufunc__(function, method, *arrays, **kwargs)\n",
      "C:\\Users\\heito\\anaconda3\\lib\\site-packages\\astropy\\units\\quantity.py:479: RuntimeWarning: invalid value encountered in true_divide\n",
      "  result = super().__array_ufunc__(function, method, *arrays, **kwargs)\n",
      "C:\\Users\\heito\\anaconda3\\lib\\site-packages\\fil_finder\\filfinder2D.py:288: UserWarning: Using inputted mask. Skipping creation of anew mask.\n",
      "  warnings.warn(\"Using inputted mask. Skipping creation of a\"\n"
     ]
    },
    {
     "name": "stdout",
     "output_type": "stream",
     "text": [
      "dipole gene= 0.11920955440354328\n",
      "elongation= 10\n",
      "aspect ratio= 0.8407079646017699\n",
      "centroid= [2148 1259]\n",
      "dipole gene= 0.008944301756797291\n",
      "elongation= 9\n",
      "aspect ratio= 0.9391304347826087\n",
      "centroid= [2132 3062]\n"
     ]
    },
    {
     "name": "stderr",
     "output_type": "stream",
     "text": [
      "C:\\Users\\heito\\anaconda3\\lib\\site-packages\\fil_finder\\filament.py:326: UserWarning: Graph pruning reached max iterations.\n",
      "  warnings.warn(\"Graph pruning reached max iterations.\")\n"
     ]
    },
    {
     "name": "stdout",
     "output_type": "stream",
     "text": [
      "dipole gene= 0.011868631838298926\n",
      "elongation= 37\n",
      "aspect ratio= 0.8559322033898306\n",
      "centroid= [2130 1530]\n",
      "dipole gene= 0.03835728089592607\n",
      "elongation= 25\n",
      "aspect ratio= 1.0940170940170941\n",
      "centroid= [2126 2443]\n",
      "dipole gene= 0.02600287629292512\n",
      "elongation= 9\n",
      "aspect ratio= 0.9512195121951219\n",
      "centroid= [2128 2770]\n",
      "dipole gene= 0.003602527861777105\n",
      "elongation= 25\n",
      "aspect ratio= 0.9576271186440678\n",
      "centroid= [2124 1832]\n"
     ]
    },
    {
     "name": "stderr",
     "output_type": "stream",
     "text": [
      "C:\\Users\\heito\\anaconda3\\lib\\site-packages\\fil_finder\\filfinder2D.py:138: UserWarning: No beam width given. Using 0 pixels.\n",
      "  warnings.warn(\"No beam width given. Using 0 pixels.\")\n",
      "C:\\Users\\heito\\anaconda3\\lib\\site-packages\\astropy\\units\\quantity.py:479: RuntimeWarning: divide by zero encountered in true_divide\n",
      "  result = super().__array_ufunc__(function, method, *arrays, **kwargs)\n",
      "C:\\Users\\heito\\anaconda3\\lib\\site-packages\\astropy\\units\\quantity.py:479: RuntimeWarning: invalid value encountered in true_divide\n",
      "  result = super().__array_ufunc__(function, method, *arrays, **kwargs)\n",
      "C:\\Users\\heito\\anaconda3\\lib\\site-packages\\fil_finder\\filfinder2D.py:288: UserWarning: Using inputted mask. Skipping creation of anew mask.\n",
      "  warnings.warn(\"Using inputted mask. Skipping creation of a\"\n",
      "C:\\Users\\heito\\anaconda3\\lib\\site-packages\\fil_finder\\filament.py:326: UserWarning: Graph pruning reached max iterations.\n",
      "  warnings.warn(\"Graph pruning reached max iterations.\")\n"
     ]
    },
    {
     "name": "stdout",
     "output_type": "stream",
     "text": [
      "dipole gene= 0.04729010738296649\n",
      "elongation= 13\n",
      "aspect ratio= 0.905982905982906\n",
      "centroid= [2115 4038]\n",
      "dipole gene= 0.0391214332290631\n",
      "elongation= 13\n",
      "aspect ratio= 0.9401709401709402\n",
      "centroid= [2106 3706]\n",
      "dipole gene= 0.05796613251479108\n",
      "elongation= 42\n",
      "aspect ratio= 0.8\n",
      "centroid= [2112 2187]\n",
      "dipole gene= 0.04230935037294815\n",
      "elongation= 23\n",
      "aspect ratio= 0.9230769230769231\n",
      "centroid= [2085 3408]\n",
      "dipole gene= 0.09595421460969628\n",
      "elongation= 42\n",
      "aspect ratio= 0.75\n",
      "centroid= [2083 4631]\n"
     ]
    },
    {
     "name": "stderr",
     "output_type": "stream",
     "text": [
      "C:\\Users\\heito\\anaconda3\\lib\\site-packages\\fil_finder\\filfinder2D.py:138: UserWarning: No beam width given. Using 0 pixels.\n",
      "  warnings.warn(\"No beam width given. Using 0 pixels.\")\n",
      "C:\\Users\\heito\\anaconda3\\lib\\site-packages\\astropy\\units\\quantity.py:479: RuntimeWarning: divide by zero encountered in true_divide\n",
      "  result = super().__array_ufunc__(function, method, *arrays, **kwargs)\n",
      "C:\\Users\\heito\\anaconda3\\lib\\site-packages\\astropy\\units\\quantity.py:479: RuntimeWarning: invalid value encountered in true_divide\n",
      "  result = super().__array_ufunc__(function, method, *arrays, **kwargs)\n",
      "C:\\Users\\heito\\anaconda3\\lib\\site-packages\\fil_finder\\filfinder2D.py:288: UserWarning: Using inputted mask. Skipping creation of anew mask.\n",
      "  warnings.warn(\"Using inputted mask. Skipping creation of a\"\n",
      "C:\\Users\\heito\\anaconda3\\lib\\site-packages\\fil_finder\\filament.py:326: UserWarning: Graph pruning reached max iterations.\n",
      "  warnings.warn(\"Graph pruning reached max iterations.\")\n"
     ]
    },
    {
     "name": "stdout",
     "output_type": "stream",
     "text": [
      "dipole gene= 0.03295281530934976\n",
      "elongation= 12\n",
      "aspect ratio= 0.9365079365079365\n",
      "centroid= [2063 4358]\n"
     ]
    },
    {
     "name": "stderr",
     "output_type": "stream",
     "text": [
      "C:\\Users\\heito\\anaconda3\\lib\\site-packages\\fil_finder\\filfinder2D.py:138: UserWarning: No beam width given. Using 0 pixels.\n",
      "  warnings.warn(\"No beam width given. Using 0 pixels.\")\n",
      "C:\\Users\\heito\\anaconda3\\lib\\site-packages\\astropy\\units\\quantity.py:479: RuntimeWarning: divide by zero encountered in true_divide\n",
      "  result = super().__array_ufunc__(function, method, *arrays, **kwargs)\n",
      "C:\\Users\\heito\\anaconda3\\lib\\site-packages\\astropy\\units\\quantity.py:479: RuntimeWarning: invalid value encountered in true_divide\n",
      "  result = super().__array_ufunc__(function, method, *arrays, **kwargs)\n",
      "C:\\Users\\heito\\anaconda3\\lib\\site-packages\\fil_finder\\filfinder2D.py:288: UserWarning: Using inputted mask. Skipping creation of anew mask.\n",
      "  warnings.warn(\"Using inputted mask. Skipping creation of a\"\n",
      "C:\\Users\\heito\\anaconda3\\lib\\site-packages\\fil_finder\\filament.py:326: UserWarning: Graph pruning reached max iterations.\n",
      "  warnings.warn(\"Graph pruning reached max iterations.\")\n"
     ]
    },
    {
     "name": "stdout",
     "output_type": "stream",
     "text": [
      "dipole gene= 3.0382119457488224\n",
      "elongation= 194\n",
      "aspect ratio= 1.937984496124031\n",
      "centroid= [2051 5347]\n"
     ]
    },
    {
     "name": "stderr",
     "output_type": "stream",
     "text": [
      "C:\\Users\\heito\\anaconda3\\lib\\site-packages\\fil_finder\\filfinder2D.py:138: UserWarning: No beam width given. Using 0 pixels.\n",
      "  warnings.warn(\"No beam width given. Using 0 pixels.\")\n",
      "C:\\Users\\heito\\anaconda3\\lib\\site-packages\\astropy\\units\\quantity.py:479: RuntimeWarning: divide by zero encountered in true_divide\n",
      "  result = super().__array_ufunc__(function, method, *arrays, **kwargs)\n",
      "C:\\Users\\heito\\anaconda3\\lib\\site-packages\\astropy\\units\\quantity.py:479: RuntimeWarning: invalid value encountered in true_divide\n",
      "  result = super().__array_ufunc__(function, method, *arrays, **kwargs)\n",
      "C:\\Users\\heito\\anaconda3\\lib\\site-packages\\fil_finder\\filfinder2D.py:288: UserWarning: Using inputted mask. Skipping creation of anew mask.\n",
      "  warnings.warn(\"Using inputted mask. Skipping creation of a\"\n",
      "C:\\Users\\heito\\anaconda3\\lib\\site-packages\\fil_finder\\filament.py:326: UserWarning: Graph pruning reached max iterations.\n",
      "  warnings.warn(\"Graph pruning reached max iterations.\")\n"
     ]
    },
    {
     "name": "stdout",
     "output_type": "stream",
     "text": [
      "dipole gene= 0.14613128662343952\n",
      "elongation= 28\n",
      "aspect ratio= 1.015625\n",
      "centroid= [2035 1201]\n",
      "dipole gene= 0.2929014931259048\n",
      "elongation= 81\n",
      "aspect ratio= 1.1690140845070423\n",
      "centroid= [2042 5032]\n"
     ]
    },
    {
     "name": "stderr",
     "output_type": "stream",
     "text": [
      "C:\\Users\\heito\\anaconda3\\lib\\site-packages\\fil_finder\\filfinder2D.py:138: UserWarning: No beam width given. Using 0 pixels.\n",
      "  warnings.warn(\"No beam width given. Using 0 pixels.\")\n",
      "C:\\Users\\heito\\anaconda3\\lib\\site-packages\\astropy\\units\\quantity.py:479: RuntimeWarning: divide by zero encountered in true_divide\n",
      "  result = super().__array_ufunc__(function, method, *arrays, **kwargs)\n",
      "C:\\Users\\heito\\anaconda3\\lib\\site-packages\\astropy\\units\\quantity.py:479: RuntimeWarning: invalid value encountered in true_divide\n",
      "  result = super().__array_ufunc__(function, method, *arrays, **kwargs)\n",
      "C:\\Users\\heito\\anaconda3\\lib\\site-packages\\fil_finder\\filfinder2D.py:288: UserWarning: Using inputted mask. Skipping creation of anew mask.\n",
      "  warnings.warn(\"Using inputted mask. Skipping creation of a\"\n",
      "C:\\Users\\heito\\anaconda3\\lib\\site-packages\\fil_finder\\filament.py:326: UserWarning: Graph pruning reached max iterations.\n",
      "  warnings.warn(\"Graph pruning reached max iterations.\")\n"
     ]
    },
    {
     "name": "stdout",
     "output_type": "stream",
     "text": [
      "dipole gene= 0.7131042381437938\n",
      "elongation= 105\n",
      "aspect ratio= 1.7064220183486238\n",
      "centroid= [1997  875]\n"
     ]
    },
    {
     "name": "stderr",
     "output_type": "stream",
     "text": [
      "C:\\Users\\heito\\anaconda3\\lib\\site-packages\\fil_finder\\filfinder2D.py:138: UserWarning: No beam width given. Using 0 pixels.\n",
      "  warnings.warn(\"No beam width given. Using 0 pixels.\")\n",
      "C:\\Users\\heito\\anaconda3\\lib\\site-packages\\astropy\\units\\quantity.py:479: RuntimeWarning: divide by zero encountered in true_divide\n",
      "  result = super().__array_ufunc__(function, method, *arrays, **kwargs)\n",
      "C:\\Users\\heito\\anaconda3\\lib\\site-packages\\astropy\\units\\quantity.py:479: RuntimeWarning: invalid value encountered in true_divide\n",
      "  result = super().__array_ufunc__(function, method, *arrays, **kwargs)\n",
      "C:\\Users\\heito\\anaconda3\\lib\\site-packages\\fil_finder\\filfinder2D.py:288: UserWarning: Using inputted mask. Skipping creation of anew mask.\n",
      "  warnings.warn(\"Using inputted mask. Skipping creation of a\"\n",
      "C:\\Users\\heito\\anaconda3\\lib\\site-packages\\fil_finder\\filament.py:326: UserWarning: Graph pruning reached max iterations.\n",
      "  warnings.warn(\"Graph pruning reached max iterations.\")\n"
     ]
    },
    {
     "name": "stdout",
     "output_type": "stream",
     "text": [
      "dipole gene= 1.6281955802731136\n",
      "elongation= 138\n",
      "aspect ratio= 1.3636363636363635\n",
      "centroid= [1998  624]\n"
     ]
    },
    {
     "name": "stderr",
     "output_type": "stream",
     "text": [
      "C:\\Users\\heito\\anaconda3\\lib\\site-packages\\fil_finder\\filfinder2D.py:138: UserWarning: No beam width given. Using 0 pixels.\n",
      "  warnings.warn(\"No beam width given. Using 0 pixels.\")\n",
      "C:\\Users\\heito\\anaconda3\\lib\\site-packages\\astropy\\units\\quantity.py:479: RuntimeWarning: divide by zero encountered in true_divide\n",
      "  result = super().__array_ufunc__(function, method, *arrays, **kwargs)\n",
      "C:\\Users\\heito\\anaconda3\\lib\\site-packages\\astropy\\units\\quantity.py:479: RuntimeWarning: invalid value encountered in true_divide\n",
      "  result = super().__array_ufunc__(function, method, *arrays, **kwargs)\n",
      "C:\\Users\\heito\\anaconda3\\lib\\site-packages\\fil_finder\\filfinder2D.py:288: UserWarning: Using inputted mask. Skipping creation of anew mask.\n",
      "  warnings.warn(\"Using inputted mask. Skipping creation of a\"\n",
      "C:\\Users\\heito\\anaconda3\\lib\\site-packages\\fil_finder\\filament.py:326: UserWarning: Graph pruning reached max iterations.\n",
      "  warnings.warn(\"Graph pruning reached max iterations.\")\n"
     ]
    },
    {
     "name": "stdout",
     "output_type": "stream",
     "text": [
      "dipole gene= 0.011412945920187123\n",
      "elongation= 17\n",
      "aspect ratio= 0.968\n",
      "centroid= [1997 1822]\n",
      "dipole gene= 0.00375284165076472\n",
      "elongation= 34\n",
      "aspect ratio= 0.8676470588235294\n",
      "centroid= [2004 1530]\n",
      "dipole gene= 0.015465879713197662\n",
      "elongation= 21\n",
      "aspect ratio= 0.8272727272727273\n",
      "centroid= [1989 2177]\n"
     ]
    },
    {
     "name": "stderr",
     "output_type": "stream",
     "text": [
      "C:\\Users\\heito\\anaconda3\\lib\\site-packages\\fil_finder\\filfinder2D.py:138: UserWarning: No beam width given. Using 0 pixels.\n",
      "  warnings.warn(\"No beam width given. Using 0 pixels.\")\n",
      "C:\\Users\\heito\\anaconda3\\lib\\site-packages\\astropy\\units\\quantity.py:479: RuntimeWarning: divide by zero encountered in true_divide\n",
      "  result = super().__array_ufunc__(function, method, *arrays, **kwargs)\n",
      "C:\\Users\\heito\\anaconda3\\lib\\site-packages\\astropy\\units\\quantity.py:479: RuntimeWarning: invalid value encountered in true_divide\n",
      "  result = super().__array_ufunc__(function, method, *arrays, **kwargs)\n",
      "C:\\Users\\heito\\anaconda3\\lib\\site-packages\\fil_finder\\filfinder2D.py:288: UserWarning: Using inputted mask. Skipping creation of anew mask.\n",
      "  warnings.warn(\"Using inputted mask. Skipping creation of a\"\n",
      "C:\\Users\\heito\\anaconda3\\lib\\site-packages\\fil_finder\\filament.py:326: UserWarning: Graph pruning reached max iterations.\n",
      "  warnings.warn(\"Graph pruning reached max iterations.\")\n"
     ]
    },
    {
     "name": "stdout",
     "output_type": "stream",
     "text": [
      "dipole gene= 0.024369663084332145\n",
      "elongation= 33\n",
      "aspect ratio= 0.8264462809917356\n",
      "centroid= [1990 2793]\n",
      "dipole gene= 0.01941191902701046\n",
      "elongation= 22\n",
      "aspect ratio= 0.8646616541353384\n",
      "centroid= [1988 3083]\n"
     ]
    },
    {
     "name": "stderr",
     "output_type": "stream",
     "text": [
      "C:\\Users\\heito\\anaconda3\\lib\\site-packages\\fil_finder\\filfinder2D.py:138: UserWarning: No beam width given. Using 0 pixels.\n",
      "  warnings.warn(\"No beam width given. Using 0 pixels.\")\n",
      "C:\\Users\\heito\\anaconda3\\lib\\site-packages\\astropy\\units\\quantity.py:479: RuntimeWarning: divide by zero encountered in true_divide\n",
      "  result = super().__array_ufunc__(function, method, *arrays, **kwargs)\n",
      "C:\\Users\\heito\\anaconda3\\lib\\site-packages\\astropy\\units\\quantity.py:479: RuntimeWarning: invalid value encountered in true_divide\n",
      "  result = super().__array_ufunc__(function, method, *arrays, **kwargs)\n",
      "C:\\Users\\heito\\anaconda3\\lib\\site-packages\\fil_finder\\filfinder2D.py:288: UserWarning: Using inputted mask. Skipping creation of anew mask.\n",
      "  warnings.warn(\"Using inputted mask. Skipping creation of a\"\n",
      "C:\\Users\\heito\\anaconda3\\lib\\site-packages\\fil_finder\\filament.py:326: UserWarning: Graph pruning reached max iterations.\n",
      "  warnings.warn(\"Graph pruning reached max iterations.\")\n"
     ]
    },
    {
     "name": "stdout",
     "output_type": "stream",
     "text": [
      "dipole gene= 0.04139645552227872\n",
      "elongation= 16\n",
      "aspect ratio= 0.9590163934426229\n",
      "centroid= [1969 3403]\n",
      "dipole gene= 0.02098493424756574\n",
      "elongation= 21\n",
      "aspect ratio= 0.8625954198473282\n",
      "centroid= [1964 2502]\n"
     ]
    },
    {
     "name": "stderr",
     "output_type": "stream",
     "text": [
      "C:\\Users\\heito\\anaconda3\\lib\\site-packages\\fil_finder\\filfinder2D.py:138: UserWarning: No beam width given. Using 0 pixels.\n",
      "  warnings.warn(\"No beam width given. Using 0 pixels.\")\n",
      "C:\\Users\\heito\\anaconda3\\lib\\site-packages\\astropy\\units\\quantity.py:479: RuntimeWarning: divide by zero encountered in true_divide\n",
      "  result = super().__array_ufunc__(function, method, *arrays, **kwargs)\n",
      "C:\\Users\\heito\\anaconda3\\lib\\site-packages\\astropy\\units\\quantity.py:479: RuntimeWarning: invalid value encountered in true_divide\n",
      "  result = super().__array_ufunc__(function, method, *arrays, **kwargs)\n",
      "C:\\Users\\heito\\anaconda3\\lib\\site-packages\\fil_finder\\filfinder2D.py:288: UserWarning: Using inputted mask. Skipping creation of anew mask.\n",
      "  warnings.warn(\"Using inputted mask. Skipping creation of a\"\n"
     ]
    },
    {
     "name": "stdout",
     "output_type": "stream",
     "text": [
      "dipole gene= 0.013998208659143887\n",
      "elongation= 7\n",
      "aspect ratio= 0.9915254237288136\n",
      "centroid= [1938 3742]\n"
     ]
    },
    {
     "name": "stderr",
     "output_type": "stream",
     "text": [
      "C:\\Users\\heito\\anaconda3\\lib\\site-packages\\fil_finder\\filament.py:326: UserWarning: Graph pruning reached max iterations.\n",
      "  warnings.warn(\"Graph pruning reached max iterations.\")\n"
     ]
    },
    {
     "name": "stdout",
     "output_type": "stream",
     "text": [
      "dipole gene= 0.0028435054018896753\n",
      "elongation= 48\n",
      "aspect ratio= 0.7372881355932204\n",
      "centroid= [1934 4379]\n",
      "dipole gene= 0.2593536303016686\n",
      "elongation= 39\n",
      "aspect ratio= 0.837037037037037\n",
      "centroid= [1911 4936]\n",
      "dipole gene= 0.0328848232946772\n",
      "elongation= 48\n",
      "aspect ratio= 0.785234899328859\n",
      "centroid= [1915 4018]\n"
     ]
    },
    {
     "name": "stderr",
     "output_type": "stream",
     "text": [
      "C:\\Users\\heito\\anaconda3\\lib\\site-packages\\fil_finder\\filfinder2D.py:138: UserWarning: No beam width given. Using 0 pixels.\n",
      "  warnings.warn(\"No beam width given. Using 0 pixels.\")\n",
      "C:\\Users\\heito\\anaconda3\\lib\\site-packages\\astropy\\units\\quantity.py:479: RuntimeWarning: divide by zero encountered in true_divide\n",
      "  result = super().__array_ufunc__(function, method, *arrays, **kwargs)\n",
      "C:\\Users\\heito\\anaconda3\\lib\\site-packages\\astropy\\units\\quantity.py:479: RuntimeWarning: invalid value encountered in true_divide\n",
      "  result = super().__array_ufunc__(function, method, *arrays, **kwargs)\n",
      "C:\\Users\\heito\\anaconda3\\lib\\site-packages\\fil_finder\\filfinder2D.py:288: UserWarning: Using inputted mask. Skipping creation of anew mask.\n",
      "  warnings.warn(\"Using inputted mask. Skipping creation of a\"\n",
      "C:\\Users\\heito\\anaconda3\\lib\\site-packages\\fil_finder\\filament.py:326: UserWarning: Graph pruning reached max iterations.\n",
      "  warnings.warn(\"Graph pruning reached max iterations.\")\n"
     ]
    },
    {
     "name": "stdout",
     "output_type": "stream",
     "text": [
      "dipole gene= 0.18144577703119344\n",
      "elongation= 37\n",
      "aspect ratio= 0.7265625\n",
      "centroid= [1904 4621]\n",
      "dipole gene= 1.970301015771041\n",
      "elongation= 173\n",
      "aspect ratio= 1.3161290322580645\n",
      "centroid= [1873 5320]\n"
     ]
    },
    {
     "name": "stderr",
     "output_type": "stream",
     "text": [
      "C:\\Users\\heito\\anaconda3\\lib\\site-packages\\fil_finder\\filfinder2D.py:138: UserWarning: No beam width given. Using 0 pixels.\n",
      "  warnings.warn(\"No beam width given. Using 0 pixels.\")\n",
      "C:\\Users\\heito\\anaconda3\\lib\\site-packages\\astropy\\units\\quantity.py:479: RuntimeWarning: divide by zero encountered in true_divide\n",
      "  result = super().__array_ufunc__(function, method, *arrays, **kwargs)\n",
      "C:\\Users\\heito\\anaconda3\\lib\\site-packages\\astropy\\units\\quantity.py:479: RuntimeWarning: invalid value encountered in true_divide\n",
      "  result = super().__array_ufunc__(function, method, *arrays, **kwargs)\n",
      "C:\\Users\\heito\\anaconda3\\lib\\site-packages\\fil_finder\\filfinder2D.py:288: UserWarning: Using inputted mask. Skipping creation of anew mask.\n",
      "  warnings.warn(\"Using inputted mask. Skipping creation of a\"\n",
      "C:\\Users\\heito\\anaconda3\\lib\\site-packages\\fil_finder\\filament.py:326: UserWarning: Graph pruning reached max iterations.\n",
      "  warnings.warn(\"Graph pruning reached max iterations.\")\n"
     ]
    },
    {
     "name": "stdout",
     "output_type": "stream",
     "text": [
      "dipole gene= 0.3141012670986369\n",
      "elongation= 53\n",
      "aspect ratio= 0.7746478873239436\n",
      "centroid= [1746  906]\n"
     ]
    },
    {
     "name": "stderr",
     "output_type": "stream",
     "text": [
      "C:\\Users\\heito\\anaconda3\\lib\\site-packages\\fil_finder\\filfinder2D.py:138: UserWarning: No beam width given. Using 0 pixels.\n",
      "  warnings.warn(\"No beam width given. Using 0 pixels.\")\n",
      "C:\\Users\\heito\\anaconda3\\lib\\site-packages\\astropy\\units\\quantity.py:479: RuntimeWarning: divide by zero encountered in true_divide\n",
      "  result = super().__array_ufunc__(function, method, *arrays, **kwargs)\n",
      "C:\\Users\\heito\\anaconda3\\lib\\site-packages\\astropy\\units\\quantity.py:479: RuntimeWarning: invalid value encountered in true_divide\n",
      "  result = super().__array_ufunc__(function, method, *arrays, **kwargs)\n",
      "C:\\Users\\heito\\anaconda3\\lib\\site-packages\\fil_finder\\filfinder2D.py:288: UserWarning: Using inputted mask. Skipping creation of anew mask.\n",
      "  warnings.warn(\"Using inputted mask. Skipping creation of a\"\n",
      "C:\\Users\\heito\\anaconda3\\lib\\site-packages\\fil_finder\\filament.py:326: UserWarning: Graph pruning reached max iterations.\n",
      "  warnings.warn(\"Graph pruning reached max iterations.\")\n"
     ]
    },
    {
     "name": "stdout",
     "output_type": "stream",
     "text": [
      "dipole gene= 0.019859496363611086\n",
      "elongation= 33\n",
      "aspect ratio= 0.87248322147651\n",
      "centroid= [1743 1521]\n",
      "dipole gene= 0.011973771841707325\n",
      "elongation= 9\n",
      "aspect ratio= 0.9754098360655737\n",
      "centroid= [1721 1180]\n"
     ]
    },
    {
     "name": "stderr",
     "output_type": "stream",
     "text": [
      "C:\\Users\\heito\\anaconda3\\lib\\site-packages\\fil_finder\\filfinder2D.py:138: UserWarning: No beam width given. Using 0 pixels.\n",
      "  warnings.warn(\"No beam width given. Using 0 pixels.\")\n",
      "C:\\Users\\heito\\anaconda3\\lib\\site-packages\\astropy\\units\\quantity.py:479: RuntimeWarning: divide by zero encountered in true_divide\n",
      "  result = super().__array_ufunc__(function, method, *arrays, **kwargs)\n",
      "C:\\Users\\heito\\anaconda3\\lib\\site-packages\\astropy\\units\\quantity.py:479: RuntimeWarning: invalid value encountered in true_divide\n",
      "  result = super().__array_ufunc__(function, method, *arrays, **kwargs)\n",
      "C:\\Users\\heito\\anaconda3\\lib\\site-packages\\fil_finder\\filfinder2D.py:288: UserWarning: Using inputted mask. Skipping creation of anew mask.\n",
      "  warnings.warn(\"Using inputted mask. Skipping creation of a\"\n",
      "C:\\Users\\heito\\anaconda3\\lib\\site-packages\\fil_finder\\filament.py:326: UserWarning: Graph pruning reached max iterations.\n",
      "  warnings.warn(\"Graph pruning reached max iterations.\")\n"
     ]
    },
    {
     "name": "stdout",
     "output_type": "stream",
     "text": [
      "dipole gene= 0.018175922538877138\n",
      "elongation= 27\n",
      "aspect ratio= 0.8467153284671532\n",
      "centroid= [1719 1844]\n"
     ]
    },
    {
     "name": "stderr",
     "output_type": "stream",
     "text": [
      "C:\\Users\\heito\\anaconda3\\lib\\site-packages\\fil_finder\\filfinder2D.py:138: UserWarning: No beam width given. Using 0 pixels.\n",
      "  warnings.warn(\"No beam width given. Using 0 pixels.\")\n",
      "C:\\Users\\heito\\anaconda3\\lib\\site-packages\\astropy\\units\\quantity.py:479: RuntimeWarning: divide by zero encountered in true_divide\n",
      "  result = super().__array_ufunc__(function, method, *arrays, **kwargs)\n",
      "C:\\Users\\heito\\anaconda3\\lib\\site-packages\\astropy\\units\\quantity.py:479: RuntimeWarning: invalid value encountered in true_divide\n",
      "  result = super().__array_ufunc__(function, method, *arrays, **kwargs)\n",
      "C:\\Users\\heito\\anaconda3\\lib\\site-packages\\fil_finder\\filfinder2D.py:288: UserWarning: Using inputted mask. Skipping creation of anew mask.\n",
      "  warnings.warn(\"Using inputted mask. Skipping creation of a\"\n",
      "C:\\Users\\heito\\anaconda3\\lib\\site-packages\\fil_finder\\filament.py:326: UserWarning: Graph pruning reached max iterations.\n",
      "  warnings.warn(\"Graph pruning reached max iterations.\")\n"
     ]
    },
    {
     "name": "stdout",
     "output_type": "stream",
     "text": [
      "dipole gene= 2.9482076445943273\n",
      "elongation= 212\n",
      "aspect ratio= 2.3583333333333334\n",
      "centroid= [1705  554]\n"
     ]
    },
    {
     "name": "stderr",
     "output_type": "stream",
     "text": [
      "C:\\Users\\heito\\anaconda3\\lib\\site-packages\\fil_finder\\filfinder2D.py:138: UserWarning: No beam width given. Using 0 pixels.\n",
      "  warnings.warn(\"No beam width given. Using 0 pixels.\")\n",
      "C:\\Users\\heito\\anaconda3\\lib\\site-packages\\astropy\\units\\quantity.py:479: RuntimeWarning: divide by zero encountered in true_divide\n",
      "  result = super().__array_ufunc__(function, method, *arrays, **kwargs)\n",
      "C:\\Users\\heito\\anaconda3\\lib\\site-packages\\astropy\\units\\quantity.py:479: RuntimeWarning: invalid value encountered in true_divide\n",
      "  result = super().__array_ufunc__(function, method, *arrays, **kwargs)\n",
      "C:\\Users\\heito\\anaconda3\\lib\\site-packages\\fil_finder\\filfinder2D.py:288: UserWarning: Using inputted mask. Skipping creation of anew mask.\n",
      "  warnings.warn(\"Using inputted mask. Skipping creation of a\"\n",
      "C:\\Users\\heito\\anaconda3\\lib\\site-packages\\fil_finder\\filament.py:326: UserWarning: Graph pruning reached max iterations.\n",
      "  warnings.warn(\"Graph pruning reached max iterations.\")\n"
     ]
    },
    {
     "name": "stdout",
     "output_type": "stream",
     "text": [
      "dipole gene= 0.02836644850191091\n",
      "elongation= 29\n",
      "aspect ratio= 0.9375\n",
      "centroid= [1700 2431]\n",
      "dipole gene= 0.017373695960410555\n",
      "elongation= 11\n",
      "aspect ratio= 1.117117117117117\n",
      "centroid= [1694 2166]\n",
      "dipole gene= 0.016373127503646178\n",
      "elongation= 22\n",
      "aspect ratio= 0.8828125\n",
      "centroid= [1699 2800]\n"
     ]
    },
    {
     "name": "stderr",
     "output_type": "stream",
     "text": [
      "C:\\Users\\heito\\anaconda3\\lib\\site-packages\\fil_finder\\filfinder2D.py:138: UserWarning: No beam width given. Using 0 pixels.\n",
      "  warnings.warn(\"No beam width given. Using 0 pixels.\")\n",
      "C:\\Users\\heito\\anaconda3\\lib\\site-packages\\astropy\\units\\quantity.py:479: RuntimeWarning: divide by zero encountered in true_divide\n",
      "  result = super().__array_ufunc__(function, method, *arrays, **kwargs)\n",
      "C:\\Users\\heito\\anaconda3\\lib\\site-packages\\astropy\\units\\quantity.py:479: RuntimeWarning: invalid value encountered in true_divide\n",
      "  result = super().__array_ufunc__(function, method, *arrays, **kwargs)\n",
      "C:\\Users\\heito\\anaconda3\\lib\\site-packages\\fil_finder\\filfinder2D.py:288: UserWarning: Using inputted mask. Skipping creation of anew mask.\n",
      "  warnings.warn(\"Using inputted mask. Skipping creation of a\"\n",
      "C:\\Users\\heito\\anaconda3\\lib\\site-packages\\fil_finder\\filament.py:326: UserWarning: Graph pruning reached max iterations.\n",
      "  warnings.warn(\"Graph pruning reached max iterations.\")\n"
     ]
    },
    {
     "name": "stdout",
     "output_type": "stream",
     "text": [
      "dipole gene= 0.022474501077309115\n",
      "elongation= 14\n",
      "aspect ratio= 1.1057692307692308\n",
      "centroid= [1678 3103]\n"
     ]
    },
    {
     "name": "stderr",
     "output_type": "stream",
     "text": [
      "C:\\Users\\heito\\anaconda3\\lib\\site-packages\\fil_finder\\filfinder2D.py:138: UserWarning: No beam width given. Using 0 pixels.\n",
      "  warnings.warn(\"No beam width given. Using 0 pixels.\")\n",
      "C:\\Users\\heito\\anaconda3\\lib\\site-packages\\astropy\\units\\quantity.py:479: RuntimeWarning: divide by zero encountered in true_divide\n",
      "  result = super().__array_ufunc__(function, method, *arrays, **kwargs)\n",
      "C:\\Users\\heito\\anaconda3\\lib\\site-packages\\astropy\\units\\quantity.py:479: RuntimeWarning: invalid value encountered in true_divide\n",
      "  result = super().__array_ufunc__(function, method, *arrays, **kwargs)\n",
      "C:\\Users\\heito\\anaconda3\\lib\\site-packages\\fil_finder\\filfinder2D.py:288: UserWarning: Using inputted mask. Skipping creation of anew mask.\n",
      "  warnings.warn(\"Using inputted mask. Skipping creation of a\"\n",
      "C:\\Users\\heito\\anaconda3\\lib\\site-packages\\fil_finder\\filament.py:326: UserWarning: Graph pruning reached max iterations.\n",
      "  warnings.warn(\"Graph pruning reached max iterations.\")\n",
      "<ipython-input-87-db5abb40a3bd>:167: RankWarning: Polyfit may be poorly conditioned\n",
      "  side1, edge1, edge2, arr1 = get_intersection(hey,mid_point,eps,contour)\n"
     ]
    },
    {
     "name": "stdout",
     "output_type": "stream",
     "text": [
      "dipole gene= 0.025729731252592623\n",
      "elongation= 56\n",
      "aspect ratio= 1.28125\n",
      "centroid= [1661 4340]\n",
      "dipole gene= 0.16761799939325156\n",
      "elongation= 43\n",
      "aspect ratio= 1.165289256198347\n",
      "centroid= [1671 3666]\n"
     ]
    },
    {
     "name": "stderr",
     "output_type": "stream",
     "text": [
      "C:\\Users\\heito\\anaconda3\\lib\\site-packages\\fil_finder\\filfinder2D.py:138: UserWarning: No beam width given. Using 0 pixels.\n",
      "  warnings.warn(\"No beam width given. Using 0 pixels.\")\n",
      "C:\\Users\\heito\\anaconda3\\lib\\site-packages\\astropy\\units\\quantity.py:479: RuntimeWarning: divide by zero encountered in true_divide\n",
      "  result = super().__array_ufunc__(function, method, *arrays, **kwargs)\n",
      "C:\\Users\\heito\\anaconda3\\lib\\site-packages\\astropy\\units\\quantity.py:479: RuntimeWarning: invalid value encountered in true_divide\n",
      "  result = super().__array_ufunc__(function, method, *arrays, **kwargs)\n",
      "C:\\Users\\heito\\anaconda3\\lib\\site-packages\\fil_finder\\filfinder2D.py:288: UserWarning: Using inputted mask. Skipping creation of anew mask.\n",
      "  warnings.warn(\"Using inputted mask. Skipping creation of a\"\n",
      "C:\\Users\\heito\\anaconda3\\lib\\site-packages\\fil_finder\\filament.py:326: UserWarning: Graph pruning reached max iterations.\n",
      "  warnings.warn(\"Graph pruning reached max iterations.\")\n"
     ]
    },
    {
     "name": "stdout",
     "output_type": "stream",
     "text": [
      "dipole gene= 0.36816438297154214\n",
      "elongation= 69\n",
      "aspect ratio= 0.7591240875912408\n",
      "centroid= [1678 3372]\n"
     ]
    },
    {
     "name": "stderr",
     "output_type": "stream",
     "text": [
      "C:\\Users\\heito\\anaconda3\\lib\\site-packages\\fil_finder\\filfinder2D.py:138: UserWarning: No beam width given. Using 0 pixels.\n",
      "  warnings.warn(\"No beam width given. Using 0 pixels.\")\n",
      "C:\\Users\\heito\\anaconda3\\lib\\site-packages\\astropy\\units\\quantity.py:479: RuntimeWarning: divide by zero encountered in true_divide\n",
      "  result = super().__array_ufunc__(function, method, *arrays, **kwargs)\n",
      "C:\\Users\\heito\\anaconda3\\lib\\site-packages\\astropy\\units\\quantity.py:479: RuntimeWarning: invalid value encountered in true_divide\n",
      "  result = super().__array_ufunc__(function, method, *arrays, **kwargs)\n",
      "C:\\Users\\heito\\anaconda3\\lib\\site-packages\\fil_finder\\filfinder2D.py:288: UserWarning: Using inputted mask. Skipping creation of anew mask.\n",
      "  warnings.warn(\"Using inputted mask. Skipping creation of a\"\n",
      "C:\\Users\\heito\\anaconda3\\lib\\site-packages\\fil_finder\\filament.py:326: UserWarning: Graph pruning reached max iterations.\n",
      "  warnings.warn(\"Graph pruning reached max iterations.\")\n"
     ]
    },
    {
     "name": "stdout",
     "output_type": "stream",
     "text": [
      "dipole gene= 0.06904390717495656\n",
      "elongation= 21\n",
      "aspect ratio= 0.9090909090909091\n",
      "centroid= [1643 3984]\n"
     ]
    },
    {
     "name": "stderr",
     "output_type": "stream",
     "text": [
      "C:\\Users\\heito\\anaconda3\\lib\\site-packages\\fil_finder\\filfinder2D.py:138: UserWarning: No beam width given. Using 0 pixels.\n",
      "  warnings.warn(\"No beam width given. Using 0 pixels.\")\n",
      "C:\\Users\\heito\\anaconda3\\lib\\site-packages\\astropy\\units\\quantity.py:479: RuntimeWarning: divide by zero encountered in true_divide\n",
      "  result = super().__array_ufunc__(function, method, *arrays, **kwargs)\n",
      "C:\\Users\\heito\\anaconda3\\lib\\site-packages\\astropy\\units\\quantity.py:479: RuntimeWarning: invalid value encountered in true_divide\n",
      "  result = super().__array_ufunc__(function, method, *arrays, **kwargs)\n",
      "C:\\Users\\heito\\anaconda3\\lib\\site-packages\\fil_finder\\filfinder2D.py:288: UserWarning: Using inputted mask. Skipping creation of anew mask.\n",
      "  warnings.warn(\"Using inputted mask. Skipping creation of a\"\n",
      "C:\\Users\\heito\\anaconda3\\lib\\site-packages\\fil_finder\\filament.py:326: UserWarning: Graph pruning reached max iterations.\n",
      "  warnings.warn(\"Graph pruning reached max iterations.\")\n"
     ]
    },
    {
     "name": "stdout",
     "output_type": "stream",
     "text": [
      "dipole gene= 0.4581025177441633\n",
      "elongation= 57\n",
      "aspect ratio= 0.9013157894736842\n",
      "centroid= [1656 4954]\n"
     ]
    },
    {
     "name": "stderr",
     "output_type": "stream",
     "text": [
      "C:\\Users\\heito\\anaconda3\\lib\\site-packages\\fil_finder\\filfinder2D.py:138: UserWarning: No beam width given. Using 0 pixels.\n",
      "  warnings.warn(\"No beam width given. Using 0 pixels.\")\n",
      "C:\\Users\\heito\\anaconda3\\lib\\site-packages\\astropy\\units\\quantity.py:479: RuntimeWarning: divide by zero encountered in true_divide\n",
      "  result = super().__array_ufunc__(function, method, *arrays, **kwargs)\n",
      "C:\\Users\\heito\\anaconda3\\lib\\site-packages\\astropy\\units\\quantity.py:479: RuntimeWarning: invalid value encountered in true_divide\n",
      "  result = super().__array_ufunc__(function, method, *arrays, **kwargs)\n",
      "C:\\Users\\heito\\anaconda3\\lib\\site-packages\\fil_finder\\filfinder2D.py:288: UserWarning: Using inputted mask. Skipping creation of anew mask.\n",
      "  warnings.warn(\"Using inputted mask. Skipping creation of a\"\n",
      "C:\\Users\\heito\\anaconda3\\lib\\site-packages\\fil_finder\\filament.py:326: UserWarning: Graph pruning reached max iterations.\n",
      "  warnings.warn(\"Graph pruning reached max iterations.\")\n"
     ]
    },
    {
     "name": "stdout",
     "output_type": "stream",
     "text": [
      "dipole gene= 0.10095912740787648\n",
      "elongation= 33\n",
      "aspect ratio= 0.8823529411764706\n",
      "centroid= [1633 4681]\n",
      "dipole gene= 3.9699187220508505\n",
      "elongation= 257\n",
      "aspect ratio= 1.4729064039408868\n",
      "centroid= [1683 5357]\n"
     ]
    },
    {
     "name": "stderr",
     "output_type": "stream",
     "text": [
      "C:\\Users\\heito\\anaconda3\\lib\\site-packages\\fil_finder\\filfinder2D.py:138: UserWarning: No beam width given. Using 0 pixels.\n",
      "  warnings.warn(\"No beam width given. Using 0 pixels.\")\n",
      "C:\\Users\\heito\\anaconda3\\lib\\site-packages\\astropy\\units\\quantity.py:479: RuntimeWarning: divide by zero encountered in true_divide\n",
      "  result = super().__array_ufunc__(function, method, *arrays, **kwargs)\n",
      "C:\\Users\\heito\\anaconda3\\lib\\site-packages\\astropy\\units\\quantity.py:479: RuntimeWarning: invalid value encountered in true_divide\n",
      "  result = super().__array_ufunc__(function, method, *arrays, **kwargs)\n",
      "C:\\Users\\heito\\anaconda3\\lib\\site-packages\\fil_finder\\filfinder2D.py:288: UserWarning: Using inputted mask. Skipping creation of anew mask.\n",
      "  warnings.warn(\"Using inputted mask. Skipping creation of a\"\n",
      "C:\\Users\\heito\\anaconda3\\lib\\site-packages\\fil_finder\\filament.py:326: UserWarning: Graph pruning reached max iterations.\n",
      "  warnings.warn(\"Graph pruning reached max iterations.\")\n"
     ]
    },
    {
     "name": "stdout",
     "output_type": "stream",
     "text": [
      "dipole gene= 0.2333520819571583\n",
      "elongation= 30\n",
      "aspect ratio= 0.75\n",
      "centroid= [1592 1534]\n"
     ]
    },
    {
     "name": "stderr",
     "output_type": "stream",
     "text": [
      "C:\\Users\\heito\\anaconda3\\lib\\site-packages\\fil_finder\\filfinder2D.py:138: UserWarning: No beam width given. Using 0 pixels.\n",
      "  warnings.warn(\"No beam width given. Using 0 pixels.\")\n",
      "C:\\Users\\heito\\anaconda3\\lib\\site-packages\\astropy\\units\\quantity.py:479: RuntimeWarning: divide by zero encountered in true_divide\n",
      "  result = super().__array_ufunc__(function, method, *arrays, **kwargs)\n",
      "C:\\Users\\heito\\anaconda3\\lib\\site-packages\\astropy\\units\\quantity.py:479: RuntimeWarning: invalid value encountered in true_divide\n",
      "  result = super().__array_ufunc__(function, method, *arrays, **kwargs)\n",
      "C:\\Users\\heito\\anaconda3\\lib\\site-packages\\fil_finder\\filfinder2D.py:288: UserWarning: Using inputted mask. Skipping creation of anew mask.\n",
      "  warnings.warn(\"Using inputted mask. Skipping creation of a\"\n",
      "C:\\Users\\heito\\anaconda3\\lib\\site-packages\\fil_finder\\filament.py:326: UserWarning: Graph pruning reached max iterations.\n",
      "  warnings.warn(\"Graph pruning reached max iterations.\")\n"
     ]
    },
    {
     "name": "stdout",
     "output_type": "stream",
     "text": [
      "dipole gene= 0.16821493758878409\n",
      "elongation= 30\n",
      "aspect ratio= 0.7338709677419355\n",
      "centroid= [1568 1173]\n",
      "dipole gene= 0.26824773440597244\n",
      "elongation= 53\n",
      "aspect ratio= 0.920863309352518\n",
      "centroid= [1573  934]\n"
     ]
    },
    {
     "name": "stderr",
     "output_type": "stream",
     "text": [
      "C:\\Users\\heito\\anaconda3\\lib\\site-packages\\fil_finder\\filfinder2D.py:138: UserWarning: No beam width given. Using 0 pixels.\n",
      "  warnings.warn(\"No beam width given. Using 0 pixels.\")\n",
      "C:\\Users\\heito\\anaconda3\\lib\\site-packages\\astropy\\units\\quantity.py:479: RuntimeWarning: divide by zero encountered in true_divide\n",
      "  result = super().__array_ufunc__(function, method, *arrays, **kwargs)\n",
      "C:\\Users\\heito\\anaconda3\\lib\\site-packages\\astropy\\units\\quantity.py:479: RuntimeWarning: invalid value encountered in true_divide\n",
      "  result = super().__array_ufunc__(function, method, *arrays, **kwargs)\n",
      "C:\\Users\\heito\\anaconda3\\lib\\site-packages\\fil_finder\\filfinder2D.py:288: UserWarning: Using inputted mask. Skipping creation of anew mask.\n",
      "  warnings.warn(\"Using inputted mask. Skipping creation of a\"\n",
      "C:\\Users\\heito\\anaconda3\\lib\\site-packages\\fil_finder\\filament.py:326: UserWarning: Graph pruning reached max iterations.\n",
      "  warnings.warn(\"Graph pruning reached max iterations.\")\n"
     ]
    },
    {
     "name": "stdout",
     "output_type": "stream",
     "text": [
      "dipole gene= 0.014317205668319094\n",
      "elongation= 45\n",
      "aspect ratio= 0.8115942028985508\n",
      "centroid= [1566 2780]\n"
     ]
    },
    {
     "name": "stderr",
     "output_type": "stream",
     "text": [
      "C:\\Users\\heito\\anaconda3\\lib\\site-packages\\fil_finder\\filfinder2D.py:138: UserWarning: No beam width given. Using 0 pixels.\n",
      "  warnings.warn(\"No beam width given. Using 0 pixels.\")\n",
      "C:\\Users\\heito\\anaconda3\\lib\\site-packages\\astropy\\units\\quantity.py:479: RuntimeWarning: divide by zero encountered in true_divide\n",
      "  result = super().__array_ufunc__(function, method, *arrays, **kwargs)\n",
      "C:\\Users\\heito\\anaconda3\\lib\\site-packages\\astropy\\units\\quantity.py:479: RuntimeWarning: invalid value encountered in true_divide\n",
      "  result = super().__array_ufunc__(function, method, *arrays, **kwargs)\n",
      "C:\\Users\\heito\\anaconda3\\lib\\site-packages\\fil_finder\\filfinder2D.py:288: UserWarning: Using inputted mask. Skipping creation of anew mask.\n",
      "  warnings.warn(\"Using inputted mask. Skipping creation of a\"\n",
      "C:\\Users\\heito\\anaconda3\\lib\\site-packages\\fil_finder\\filament.py:326: UserWarning: Graph pruning reached max iterations.\n",
      "  warnings.warn(\"Graph pruning reached max iterations.\")\n"
     ]
    },
    {
     "name": "stdout",
     "output_type": "stream",
     "text": [
      "dipole gene= 0.003193251554105184\n",
      "elongation= 44\n",
      "aspect ratio= 0.8580645161290322\n",
      "centroid= [1571 1853]\n"
     ]
    },
    {
     "name": "stderr",
     "output_type": "stream",
     "text": [
      "C:\\Users\\heito\\anaconda3\\lib\\site-packages\\fil_finder\\filfinder2D.py:138: UserWarning: No beam width given. Using 0 pixels.\n",
      "  warnings.warn(\"No beam width given. Using 0 pixels.\")\n",
      "C:\\Users\\heito\\anaconda3\\lib\\site-packages\\astropy\\units\\quantity.py:479: RuntimeWarning: divide by zero encountered in true_divide\n",
      "  result = super().__array_ufunc__(function, method, *arrays, **kwargs)\n",
      "C:\\Users\\heito\\anaconda3\\lib\\site-packages\\astropy\\units\\quantity.py:479: RuntimeWarning: invalid value encountered in true_divide\n",
      "  result = super().__array_ufunc__(function, method, *arrays, **kwargs)\n",
      "C:\\Users\\heito\\anaconda3\\lib\\site-packages\\fil_finder\\filfinder2D.py:288: UserWarning: Using inputted mask. Skipping creation of anew mask.\n",
      "  warnings.warn(\"Using inputted mask. Skipping creation of a\"\n",
      "C:\\Users\\heito\\anaconda3\\lib\\site-packages\\fil_finder\\filament.py:326: UserWarning: Graph pruning reached max iterations.\n",
      "  warnings.warn(\"Graph pruning reached max iterations.\")\n"
     ]
    },
    {
     "name": "stdout",
     "output_type": "stream",
     "text": [
      "dipole gene= 0.13521947059190845\n",
      "elongation= 28\n",
      "aspect ratio= 0.9349593495934959\n",
      "centroid= [1542 3368]\n",
      "dipole gene= 0.20488884634968993\n",
      "elongation= 54\n",
      "aspect ratio= 0.8208955223880597\n",
      "centroid= [1541 2421]\n"
     ]
    },
    {
     "name": "stderr",
     "output_type": "stream",
     "text": [
      "C:\\Users\\heito\\anaconda3\\lib\\site-packages\\fil_finder\\filfinder2D.py:138: UserWarning: No beam width given. Using 0 pixels.\n",
      "  warnings.warn(\"No beam width given. Using 0 pixels.\")\n",
      "C:\\Users\\heito\\anaconda3\\lib\\site-packages\\astropy\\units\\quantity.py:479: RuntimeWarning: divide by zero encountered in true_divide\n",
      "  result = super().__array_ufunc__(function, method, *arrays, **kwargs)\n",
      "C:\\Users\\heito\\anaconda3\\lib\\site-packages\\astropy\\units\\quantity.py:479: RuntimeWarning: invalid value encountered in true_divide\n",
      "  result = super().__array_ufunc__(function, method, *arrays, **kwargs)\n",
      "C:\\Users\\heito\\anaconda3\\lib\\site-packages\\fil_finder\\filfinder2D.py:288: UserWarning: Using inputted mask. Skipping creation of anew mask.\n",
      "  warnings.warn(\"Using inputted mask. Skipping creation of a\"\n",
      "C:\\Users\\heito\\anaconda3\\lib\\site-packages\\fil_finder\\filament.py:326: UserWarning: Graph pruning reached max iterations.\n",
      "  warnings.warn(\"Graph pruning reached max iterations.\")\n"
     ]
    },
    {
     "name": "stdout",
     "output_type": "stream",
     "text": [
      "dipole gene= 0.20059089562226523\n",
      "elongation= 52\n",
      "aspect ratio= 0.7339449541284404\n",
      "centroid= [1513 4657]\n",
      "dipole gene= 0.13767381030731007\n",
      "elongation= 37\n",
      "aspect ratio= 0.9112903225806451\n",
      "centroid= [1519 3080]\n",
      "dipole gene= 0.007381236256090033\n",
      "elongation= 9\n",
      "aspect ratio= 1.0155038759689923\n",
      "centroid= [1517 2148]\n"
     ]
    },
    {
     "name": "stderr",
     "output_type": "stream",
     "text": [
      "C:\\Users\\heito\\anaconda3\\lib\\site-packages\\fil_finder\\filfinder2D.py:138: UserWarning: No beam width given. Using 0 pixels.\n",
      "  warnings.warn(\"No beam width given. Using 0 pixels.\")\n",
      "C:\\Users\\heito\\anaconda3\\lib\\site-packages\\astropy\\units\\quantity.py:479: RuntimeWarning: divide by zero encountered in true_divide\n",
      "  result = super().__array_ufunc__(function, method, *arrays, **kwargs)\n",
      "C:\\Users\\heito\\anaconda3\\lib\\site-packages\\astropy\\units\\quantity.py:479: RuntimeWarning: invalid value encountered in true_divide\n",
      "  result = super().__array_ufunc__(function, method, *arrays, **kwargs)\n",
      "C:\\Users\\heito\\anaconda3\\lib\\site-packages\\fil_finder\\filfinder2D.py:288: UserWarning: Using inputted mask. Skipping creation of anew mask.\n",
      "  warnings.warn(\"Using inputted mask. Skipping creation of a\"\n",
      "C:\\Users\\heito\\anaconda3\\lib\\site-packages\\fil_finder\\filament.py:326: UserWarning: Graph pruning reached max iterations.\n",
      "  warnings.warn(\"Graph pruning reached max iterations.\")\n"
     ]
    },
    {
     "name": "stdout",
     "output_type": "stream",
     "text": [
      "dipole gene= 0.20320656605966986\n",
      "elongation= 28\n",
      "aspect ratio= 0.9736842105263158\n",
      "centroid= [1504 4013]\n",
      "dipole gene= 0.298007131862501\n",
      "elongation= 26\n",
      "aspect ratio= 0.7983870967741935\n",
      "centroid= [1508 3710]\n",
      "dipole gene= 0.26138354696601734\n",
      "elongation= 14\n",
      "aspect ratio= 0.8925619834710744\n",
      "centroid= [1500 4354]\n"
     ]
    },
    {
     "name": "stderr",
     "output_type": "stream",
     "text": [
      "C:\\Users\\heito\\anaconda3\\lib\\site-packages\\fil_finder\\filfinder2D.py:138: UserWarning: No beam width given. Using 0 pixels.\n",
      "  warnings.warn(\"No beam width given. Using 0 pixels.\")\n",
      "C:\\Users\\heito\\anaconda3\\lib\\site-packages\\astropy\\units\\quantity.py:479: RuntimeWarning: divide by zero encountered in true_divide\n",
      "  result = super().__array_ufunc__(function, method, *arrays, **kwargs)\n",
      "C:\\Users\\heito\\anaconda3\\lib\\site-packages\\astropy\\units\\quantity.py:479: RuntimeWarning: invalid value encountered in true_divide\n",
      "  result = super().__array_ufunc__(function, method, *arrays, **kwargs)\n",
      "C:\\Users\\heito\\anaconda3\\lib\\site-packages\\fil_finder\\filfinder2D.py:288: UserWarning: Using inputted mask. Skipping creation of anew mask.\n",
      "  warnings.warn(\"Using inputted mask. Skipping creation of a\"\n",
      "C:\\Users\\heito\\anaconda3\\lib\\site-packages\\fil_finder\\filament.py:326: UserWarning: Graph pruning reached max iterations.\n",
      "  warnings.warn(\"Graph pruning reached max iterations.\")\n"
     ]
    },
    {
     "name": "stdout",
     "output_type": "stream",
     "text": [
      "dipole gene= 4.219186672898297\n",
      "elongation= 227\n",
      "aspect ratio= 0.891566265060241\n",
      "centroid= [1548  586]\n"
     ]
    },
    {
     "name": "stderr",
     "output_type": "stream",
     "text": [
      "C:\\Users\\heito\\anaconda3\\lib\\site-packages\\fil_finder\\filfinder2D.py:138: UserWarning: No beam width given. Using 0 pixels.\n",
      "  warnings.warn(\"No beam width given. Using 0 pixels.\")\n",
      "C:\\Users\\heito\\anaconda3\\lib\\site-packages\\astropy\\units\\quantity.py:479: RuntimeWarning: divide by zero encountered in true_divide\n",
      "  result = super().__array_ufunc__(function, method, *arrays, **kwargs)\n",
      "C:\\Users\\heito\\anaconda3\\lib\\site-packages\\astropy\\units\\quantity.py:479: RuntimeWarning: invalid value encountered in true_divide\n",
      "  result = super().__array_ufunc__(function, method, *arrays, **kwargs)\n",
      "C:\\Users\\heito\\anaconda3\\lib\\site-packages\\fil_finder\\filfinder2D.py:288: UserWarning: Using inputted mask. Skipping creation of anew mask.\n",
      "  warnings.warn(\"Using inputted mask. Skipping creation of a\"\n",
      "C:\\Users\\heito\\anaconda3\\lib\\site-packages\\fil_finder\\filament.py:326: UserWarning: Graph pruning reached max iterations.\n",
      "  warnings.warn(\"Graph pruning reached max iterations.\")\n",
      "<ipython-input-87-db5abb40a3bd>:167: RankWarning: Polyfit may be poorly conditioned\n",
      "  side1, edge1, edge2, arr1 = get_intersection(hey,mid_point,eps,contour)\n"
     ]
    },
    {
     "name": "stdout",
     "output_type": "stream",
     "text": [
      "dipole gene= 0.40558263641284126\n",
      "elongation= 66\n",
      "aspect ratio= 1.5473684210526315\n",
      "centroid= [1442 4992]\n"
     ]
    },
    {
     "name": "stderr",
     "output_type": "stream",
     "text": [
      "C:\\Users\\heito\\anaconda3\\lib\\site-packages\\fil_finder\\filfinder2D.py:138: UserWarning: No beam width given. Using 0 pixels.\n",
      "  warnings.warn(\"No beam width given. Using 0 pixels.\")\n",
      "C:\\Users\\heito\\anaconda3\\lib\\site-packages\\astropy\\units\\quantity.py:479: RuntimeWarning: divide by zero encountered in true_divide\n",
      "  result = super().__array_ufunc__(function, method, *arrays, **kwargs)\n",
      "C:\\Users\\heito\\anaconda3\\lib\\site-packages\\astropy\\units\\quantity.py:479: RuntimeWarning: invalid value encountered in true_divide\n",
      "  result = super().__array_ufunc__(function, method, *arrays, **kwargs)\n",
      "C:\\Users\\heito\\anaconda3\\lib\\site-packages\\fil_finder\\filfinder2D.py:288: UserWarning: Using inputted mask. Skipping creation of anew mask.\n",
      "  warnings.warn(\"Using inputted mask. Skipping creation of a\"\n",
      "C:\\Users\\heito\\anaconda3\\lib\\site-packages\\fil_finder\\filament.py:326: UserWarning: Graph pruning reached max iterations.\n",
      "  warnings.warn(\"Graph pruning reached max iterations.\")\n"
     ]
    },
    {
     "name": "stdout",
     "output_type": "stream",
     "text": [
      "dipole gene= 4.267126418816885\n",
      "elongation= 272\n",
      "aspect ratio= 1.0669456066945606\n",
      "centroid= [1409 5319]\n"
     ]
    },
    {
     "name": "stderr",
     "output_type": "stream",
     "text": [
      "C:\\Users\\heito\\anaconda3\\lib\\site-packages\\fil_finder\\filfinder2D.py:138: UserWarning: No beam width given. Using 0 pixels.\n",
      "  warnings.warn(\"No beam width given. Using 0 pixels.\")\n",
      "C:\\Users\\heito\\anaconda3\\lib\\site-packages\\astropy\\units\\quantity.py:479: RuntimeWarning: divide by zero encountered in true_divide\n",
      "  result = super().__array_ufunc__(function, method, *arrays, **kwargs)\n",
      "C:\\Users\\heito\\anaconda3\\lib\\site-packages\\astropy\\units\\quantity.py:479: RuntimeWarning: invalid value encountered in true_divide\n",
      "  result = super().__array_ufunc__(function, method, *arrays, **kwargs)\n",
      "C:\\Users\\heito\\anaconda3\\lib\\site-packages\\fil_finder\\filfinder2D.py:288: UserWarning: Using inputted mask. Skipping creation of anew mask.\n",
      "  warnings.warn(\"Using inputted mask. Skipping creation of a\"\n",
      "C:\\Users\\heito\\anaconda3\\lib\\site-packages\\fil_finder\\filament.py:326: UserWarning: Graph pruning reached max iterations.\n",
      "  warnings.warn(\"Graph pruning reached max iterations.\")\n"
     ]
    },
    {
     "name": "stdout",
     "output_type": "stream",
     "text": [
      "dipole gene= 0.19294605774044282\n",
      "elongation= 34\n",
      "aspect ratio= 0.7984496124031008\n",
      "centroid= [1312 2137]\n",
      "dipole gene= 0.018247362781913738\n",
      "elongation= 33\n",
      "aspect ratio= 0.9166666666666666\n",
      "centroid= [1313 1862]\n",
      "dipole gene= 0.3092907972347537\n",
      "elongation= 35\n",
      "aspect ratio= 0.9918032786885246\n",
      "centroid= [1286 1521]\n",
      "dipole gene= 2.8865756122084067\n",
      "elongation= 199\n",
      "aspect ratio= 2.263157894736842\n",
      "centroid= [1269  821]\n"
     ]
    },
    {
     "name": "stderr",
     "output_type": "stream",
     "text": [
      "C:\\Users\\heito\\anaconda3\\lib\\site-packages\\fil_finder\\filfinder2D.py:138: UserWarning: No beam width given. Using 0 pixels.\n",
      "  warnings.warn(\"No beam width given. Using 0 pixels.\")\n",
      "C:\\Users\\heito\\anaconda3\\lib\\site-packages\\astropy\\units\\quantity.py:479: RuntimeWarning: divide by zero encountered in true_divide\n",
      "  result = super().__array_ufunc__(function, method, *arrays, **kwargs)\n",
      "C:\\Users\\heito\\anaconda3\\lib\\site-packages\\astropy\\units\\quantity.py:479: RuntimeWarning: invalid value encountered in true_divide\n",
      "  result = super().__array_ufunc__(function, method, *arrays, **kwargs)\n",
      "C:\\Users\\heito\\anaconda3\\lib\\site-packages\\fil_finder\\filfinder2D.py:288: UserWarning: Using inputted mask. Skipping creation of anew mask.\n",
      "  warnings.warn(\"Using inputted mask. Skipping creation of a\"\n",
      "C:\\Users\\heito\\anaconda3\\lib\\site-packages\\fil_finder\\filament.py:326: UserWarning: Graph pruning reached max iterations.\n",
      "  warnings.warn(\"Graph pruning reached max iterations.\")\n"
     ]
    },
    {
     "name": "stdout",
     "output_type": "stream",
     "text": [
      "dipole gene= 0.06475846919697634\n",
      "elongation= 54\n",
      "aspect ratio= 0.8509316770186336\n",
      "centroid= [1300 1176]\n",
      "dipole gene= 0.02028379326472667\n",
      "elongation= 25\n",
      "aspect ratio= 1.0350877192982457\n",
      "centroid= [1247 2424]\n",
      "dipole gene= 0.32145903138629955\n",
      "elongation= 44\n",
      "aspect ratio= 0.9619047619047619\n",
      "centroid= [1240 4012]\n"
     ]
    },
    {
     "name": "stderr",
     "output_type": "stream",
     "text": [
      "C:\\Users\\heito\\anaconda3\\lib\\site-packages\\fil_finder\\filfinder2D.py:138: UserWarning: No beam width given. Using 0 pixels.\n",
      "  warnings.warn(\"No beam width given. Using 0 pixels.\")\n",
      "C:\\Users\\heito\\anaconda3\\lib\\site-packages\\astropy\\units\\quantity.py:479: RuntimeWarning: divide by zero encountered in true_divide\n",
      "  result = super().__array_ufunc__(function, method, *arrays, **kwargs)\n",
      "C:\\Users\\heito\\anaconda3\\lib\\site-packages\\astropy\\units\\quantity.py:479: RuntimeWarning: invalid value encountered in true_divide\n",
      "  result = super().__array_ufunc__(function, method, *arrays, **kwargs)\n",
      "C:\\Users\\heito\\anaconda3\\lib\\site-packages\\fil_finder\\filfinder2D.py:288: UserWarning: Using inputted mask. Skipping creation of anew mask.\n",
      "  warnings.warn(\"Using inputted mask. Skipping creation of a\"\n",
      "C:\\Users\\heito\\anaconda3\\lib\\site-packages\\fil_finder\\filament.py:326: UserWarning: Graph pruning reached max iterations.\n",
      "  warnings.warn(\"Graph pruning reached max iterations.\")\n"
     ]
    },
    {
     "name": "stdout",
     "output_type": "stream",
     "text": [
      "dipole gene= 0.2536081828310327\n",
      "elongation= 43\n",
      "aspect ratio= 0.7464788732394366\n",
      "centroid= [1254 2765]\n",
      "dipole gene= 0.4575489361987859\n",
      "elongation= 58\n",
      "aspect ratio= 0.8017241379310345\n",
      "centroid= [1238 4317]\n",
      "dipole gene= 0.09609353595687042\n",
      "elongation= 24\n",
      "aspect ratio= 1.2065217391304348\n",
      "centroid= [1214 3349]\n",
      "dipole gene= 0.4175356982650004\n",
      "elongation= 64\n",
      "aspect ratio= 0.7341772151898734\n",
      "centroid= [1233 4657]\n"
     ]
    },
    {
     "name": "stderr",
     "output_type": "stream",
     "text": [
      "C:\\Users\\heito\\anaconda3\\lib\\site-packages\\fil_finder\\filfinder2D.py:138: UserWarning: No beam width given. Using 0 pixels.\n",
      "  warnings.warn(\"No beam width given. Using 0 pixels.\")\n",
      "C:\\Users\\heito\\anaconda3\\lib\\site-packages\\astropy\\units\\quantity.py:479: RuntimeWarning: divide by zero encountered in true_divide\n",
      "  result = super().__array_ufunc__(function, method, *arrays, **kwargs)\n",
      "C:\\Users\\heito\\anaconda3\\lib\\site-packages\\astropy\\units\\quantity.py:479: RuntimeWarning: invalid value encountered in true_divide\n",
      "  result = super().__array_ufunc__(function, method, *arrays, **kwargs)\n",
      "C:\\Users\\heito\\anaconda3\\lib\\site-packages\\fil_finder\\filfinder2D.py:288: UserWarning: Using inputted mask. Skipping creation of anew mask.\n",
      "  warnings.warn(\"Using inputted mask. Skipping creation of a\"\n",
      "C:\\Users\\heito\\anaconda3\\lib\\site-packages\\fil_finder\\filament.py:326: UserWarning: Graph pruning reached max iterations.\n",
      "  warnings.warn(\"Graph pruning reached max iterations.\")\n"
     ]
    },
    {
     "name": "stdout",
     "output_type": "stream",
     "text": [
      "dipole gene= 0.3489044254781035\n",
      "elongation= 22\n",
      "aspect ratio= 0.9423076923076923\n",
      "centroid= [1205 3644]\n",
      "dipole gene= 0.06674248813086216\n",
      "elongation= 22\n",
      "aspect ratio= 0.8174603174603174\n",
      "centroid= [1205 3069]\n",
      "dipole gene= 2.791496418144276\n",
      "elongation= 232\n",
      "aspect ratio= 2.1313868613138687\n",
      "centroid= [1203 5324]\n"
     ]
    },
    {
     "name": "stderr",
     "output_type": "stream",
     "text": [
      "C:\\Users\\heito\\anaconda3\\lib\\site-packages\\fil_finder\\filfinder2D.py:138: UserWarning: No beam width given. Using 0 pixels.\n",
      "  warnings.warn(\"No beam width given. Using 0 pixels.\")\n",
      "C:\\Users\\heito\\anaconda3\\lib\\site-packages\\astropy\\units\\quantity.py:479: RuntimeWarning: divide by zero encountered in true_divide\n",
      "  result = super().__array_ufunc__(function, method, *arrays, **kwargs)\n",
      "C:\\Users\\heito\\anaconda3\\lib\\site-packages\\astropy\\units\\quantity.py:479: RuntimeWarning: invalid value encountered in true_divide\n",
      "  result = super().__array_ufunc__(function, method, *arrays, **kwargs)\n",
      "C:\\Users\\heito\\anaconda3\\lib\\site-packages\\fil_finder\\filfinder2D.py:288: UserWarning: Using inputted mask. Skipping creation of anew mask.\n",
      "  warnings.warn(\"Using inputted mask. Skipping creation of a\"\n",
      "C:\\Users\\heito\\anaconda3\\lib\\site-packages\\fil_finder\\filament.py:326: UserWarning: Graph pruning reached max iterations.\n",
      "  warnings.warn(\"Graph pruning reached max iterations.\")\n"
     ]
    },
    {
     "name": "stdout",
     "output_type": "stream",
     "text": [
      "dipole gene= 0.2389649537574053\n",
      "elongation= 44\n",
      "aspect ratio= 1.0317460317460319\n",
      "centroid= [1178 4963]\n"
     ]
    },
    {
     "name": "stderr",
     "output_type": "stream",
     "text": [
      "C:\\Users\\heito\\anaconda3\\lib\\site-packages\\fil_finder\\filfinder2D.py:138: UserWarning: No beam width given. Using 0 pixels.\n",
      "  warnings.warn(\"No beam width given. Using 0 pixels.\")\n",
      "C:\\Users\\heito\\anaconda3\\lib\\site-packages\\astropy\\units\\quantity.py:479: RuntimeWarning: divide by zero encountered in true_divide\n",
      "  result = super().__array_ufunc__(function, method, *arrays, **kwargs)\n",
      "C:\\Users\\heito\\anaconda3\\lib\\site-packages\\astropy\\units\\quantity.py:479: RuntimeWarning: invalid value encountered in true_divide\n",
      "  result = super().__array_ufunc__(function, method, *arrays, **kwargs)\n",
      "C:\\Users\\heito\\anaconda3\\lib\\site-packages\\fil_finder\\filfinder2D.py:288: UserWarning: Using inputted mask. Skipping creation of anew mask.\n",
      "  warnings.warn(\"Using inputted mask. Skipping creation of a\"\n",
      "C:\\Users\\heito\\anaconda3\\lib\\site-packages\\fil_finder\\filament.py:326: UserWarning: Graph pruning reached max iterations.\n",
      "  warnings.warn(\"Graph pruning reached max iterations.\")\n"
     ]
    },
    {
     "name": "stdout",
     "output_type": "stream",
     "text": [
      "dipole gene= 0.0830338065744276\n",
      "elongation= 65\n",
      "aspect ratio= 0.6917293233082706\n",
      "centroid= [1168 1832]\n"
     ]
    },
    {
     "name": "stderr",
     "output_type": "stream",
     "text": [
      "C:\\Users\\heito\\anaconda3\\lib\\site-packages\\fil_finder\\filfinder2D.py:138: UserWarning: No beam width given. Using 0 pixels.\n",
      "  warnings.warn(\"No beam width given. Using 0 pixels.\")\n",
      "C:\\Users\\heito\\anaconda3\\lib\\site-packages\\astropy\\units\\quantity.py:479: RuntimeWarning: divide by zero encountered in true_divide\n",
      "  result = super().__array_ufunc__(function, method, *arrays, **kwargs)\n",
      "C:\\Users\\heito\\anaconda3\\lib\\site-packages\\astropy\\units\\quantity.py:479: RuntimeWarning: invalid value encountered in true_divide\n",
      "  result = super().__array_ufunc__(function, method, *arrays, **kwargs)\n",
      "C:\\Users\\heito\\anaconda3\\lib\\site-packages\\fil_finder\\filfinder2D.py:288: UserWarning: Using inputted mask. Skipping creation of anew mask.\n",
      "  warnings.warn(\"Using inputted mask. Skipping creation of a\"\n",
      "C:\\Users\\heito\\anaconda3\\lib\\site-packages\\fil_finder\\filament.py:326: UserWarning: Graph pruning reached max iterations.\n",
      "  warnings.warn(\"Graph pruning reached max iterations.\")\n"
     ]
    },
    {
     "name": "stdout",
     "output_type": "stream",
     "text": [
      "dipole gene= 0.0029499556399272147\n",
      "elongation= 53\n",
      "aspect ratio= 0.7364864864864865\n",
      "centroid= [1170 2133]\n"
     ]
    },
    {
     "name": "stderr",
     "output_type": "stream",
     "text": [
      "C:\\Users\\heito\\anaconda3\\lib\\site-packages\\fil_finder\\filfinder2D.py:138: UserWarning: No beam width given. Using 0 pixels.\n",
      "  warnings.warn(\"No beam width given. Using 0 pixels.\")\n",
      "C:\\Users\\heito\\anaconda3\\lib\\site-packages\\astropy\\units\\quantity.py:479: RuntimeWarning: divide by zero encountered in true_divide\n",
      "  result = super().__array_ufunc__(function, method, *arrays, **kwargs)\n",
      "C:\\Users\\heito\\anaconda3\\lib\\site-packages\\astropy\\units\\quantity.py:479: RuntimeWarning: invalid value encountered in true_divide\n",
      "  result = super().__array_ufunc__(function, method, *arrays, **kwargs)\n",
      "C:\\Users\\heito\\anaconda3\\lib\\site-packages\\fil_finder\\filfinder2D.py:288: UserWarning: Using inputted mask. Skipping creation of anew mask.\n",
      "  warnings.warn(\"Using inputted mask. Skipping creation of a\"\n",
      "C:\\Users\\heito\\anaconda3\\lib\\site-packages\\fil_finder\\filament.py:326: UserWarning: Graph pruning reached max iterations.\n",
      "  warnings.warn(\"Graph pruning reached max iterations.\")\n"
     ]
    },
    {
     "name": "stdout",
     "output_type": "stream",
     "text": [
      "dipole gene= 0.9981762083507565\n",
      "elongation= 64\n",
      "aspect ratio= 0.888\n",
      "centroid= [1156 1510]\n"
     ]
    },
    {
     "name": "stderr",
     "output_type": "stream",
     "text": [
      "C:\\Users\\heito\\anaconda3\\lib\\site-packages\\fil_finder\\filfinder2D.py:138: UserWarning: No beam width given. Using 0 pixels.\n",
      "  warnings.warn(\"No beam width given. Using 0 pixels.\")\n",
      "C:\\Users\\heito\\anaconda3\\lib\\site-packages\\astropy\\units\\quantity.py:479: RuntimeWarning: divide by zero encountered in true_divide\n",
      "  result = super().__array_ufunc__(function, method, *arrays, **kwargs)\n",
      "C:\\Users\\heito\\anaconda3\\lib\\site-packages\\astropy\\units\\quantity.py:479: RuntimeWarning: invalid value encountered in true_divide\n",
      "  result = super().__array_ufunc__(function, method, *arrays, **kwargs)\n",
      "C:\\Users\\heito\\anaconda3\\lib\\site-packages\\fil_finder\\filfinder2D.py:288: UserWarning: Using inputted mask. Skipping creation of anew mask.\n",
      "  warnings.warn(\"Using inputted mask. Skipping creation of a\"\n",
      "C:\\Users\\heito\\anaconda3\\lib\\site-packages\\fil_finder\\filament.py:326: UserWarning: Graph pruning reached max iterations.\n",
      "  warnings.warn(\"Graph pruning reached max iterations.\")\n"
     ]
    },
    {
     "name": "stdout",
     "output_type": "stream",
     "text": [
      "dipole gene= 0.0004908069716638925\n",
      "elongation= 23\n",
      "aspect ratio= 0.9393939393939394\n",
      "centroid= [1127 2442]\n"
     ]
    },
    {
     "name": "stderr",
     "output_type": "stream",
     "text": [
      "C:\\Users\\heito\\anaconda3\\lib\\site-packages\\fil_finder\\filfinder2D.py:138: UserWarning: No beam width given. Using 0 pixels.\n",
      "  warnings.warn(\"No beam width given. Using 0 pixels.\")\n",
      "C:\\Users\\heito\\anaconda3\\lib\\site-packages\\astropy\\units\\quantity.py:479: RuntimeWarning: divide by zero encountered in true_divide\n",
      "  result = super().__array_ufunc__(function, method, *arrays, **kwargs)\n",
      "C:\\Users\\heito\\anaconda3\\lib\\site-packages\\astropy\\units\\quantity.py:479: RuntimeWarning: invalid value encountered in true_divide\n",
      "  result = super().__array_ufunc__(function, method, *arrays, **kwargs)\n",
      "C:\\Users\\heito\\anaconda3\\lib\\site-packages\\fil_finder\\filfinder2D.py:288: UserWarning: Using inputted mask. Skipping creation of anew mask.\n",
      "  warnings.warn(\"Using inputted mask. Skipping creation of a\"\n",
      "C:\\Users\\heito\\anaconda3\\lib\\site-packages\\fil_finder\\filament.py:326: UserWarning: Graph pruning reached max iterations.\n",
      "  warnings.warn(\"Graph pruning reached max iterations.\")\n"
     ]
    },
    {
     "name": "stdout",
     "output_type": "stream",
     "text": [
      "dipole gene= 0.6988933292705257\n",
      "elongation= 42\n",
      "aspect ratio= 0.7007299270072993\n",
      "centroid= [1108 3391]\n"
     ]
    },
    {
     "name": "stderr",
     "output_type": "stream",
     "text": [
      "C:\\Users\\heito\\anaconda3\\lib\\site-packages\\fil_finder\\filfinder2D.py:138: UserWarning: No beam width given. Using 0 pixels.\n",
      "  warnings.warn(\"No beam width given. Using 0 pixels.\")\n",
      "C:\\Users\\heito\\anaconda3\\lib\\site-packages\\astropy\\units\\quantity.py:479: RuntimeWarning: divide by zero encountered in true_divide\n",
      "  result = super().__array_ufunc__(function, method, *arrays, **kwargs)\n",
      "C:\\Users\\heito\\anaconda3\\lib\\site-packages\\astropy\\units\\quantity.py:479: RuntimeWarning: invalid value encountered in true_divide\n",
      "  result = super().__array_ufunc__(function, method, *arrays, **kwargs)\n",
      "C:\\Users\\heito\\anaconda3\\lib\\site-packages\\fil_finder\\filfinder2D.py:288: UserWarning: Using inputted mask. Skipping creation of anew mask.\n",
      "  warnings.warn(\"Using inputted mask. Skipping creation of a\"\n",
      "C:\\Users\\heito\\anaconda3\\lib\\site-packages\\fil_finder\\filament.py:326: UserWarning: Graph pruning reached max iterations.\n",
      "  warnings.warn(\"Graph pruning reached max iterations.\")\n"
     ]
    },
    {
     "name": "stdout",
     "output_type": "stream",
     "text": [
      "dipole gene= 0.005662871095386736\n",
      "elongation= 42\n",
      "aspect ratio= 0.7954545454545454\n",
      "centroid= [1080 3036]\n",
      "dipole gene= 0.304454970402323\n",
      "elongation= 35\n",
      "aspect ratio= 0.8195488721804511\n",
      "centroid= [1078 3711]\n"
     ]
    },
    {
     "name": "stderr",
     "output_type": "stream",
     "text": [
      "C:\\Users\\heito\\anaconda3\\lib\\site-packages\\fil_finder\\filfinder2D.py:138: UserWarning: No beam width given. Using 0 pixels.\n",
      "  warnings.warn(\"No beam width given. Using 0 pixels.\")\n",
      "C:\\Users\\heito\\anaconda3\\lib\\site-packages\\astropy\\units\\quantity.py:479: RuntimeWarning: divide by zero encountered in true_divide\n",
      "  result = super().__array_ufunc__(function, method, *arrays, **kwargs)\n",
      "C:\\Users\\heito\\anaconda3\\lib\\site-packages\\astropy\\units\\quantity.py:479: RuntimeWarning: invalid value encountered in true_divide\n",
      "  result = super().__array_ufunc__(function, method, *arrays, **kwargs)\n",
      "C:\\Users\\heito\\anaconda3\\lib\\site-packages\\fil_finder\\filfinder2D.py:288: UserWarning: Using inputted mask. Skipping creation of anew mask.\n",
      "  warnings.warn(\"Using inputted mask. Skipping creation of a\"\n",
      "C:\\Users\\heito\\anaconda3\\lib\\site-packages\\fil_finder\\filament.py:326: UserWarning: Graph pruning reached max iterations.\n",
      "  warnings.warn(\"Graph pruning reached max iterations.\")\n"
     ]
    },
    {
     "name": "stdout",
     "output_type": "stream",
     "text": [
      "dipole gene= 0.15594520429499148\n",
      "elongation= 55\n",
      "aspect ratio= 0.738255033557047\n",
      "centroid= [1081 3989]\n"
     ]
    },
    {
     "name": "stderr",
     "output_type": "stream",
     "text": [
      "C:\\Users\\heito\\anaconda3\\lib\\site-packages\\fil_finder\\filfinder2D.py:138: UserWarning: No beam width given. Using 0 pixels.\n",
      "  warnings.warn(\"No beam width given. Using 0 pixels.\")\n",
      "C:\\Users\\heito\\anaconda3\\lib\\site-packages\\astropy\\units\\quantity.py:479: RuntimeWarning: divide by zero encountered in true_divide\n",
      "  result = super().__array_ufunc__(function, method, *arrays, **kwargs)\n",
      "C:\\Users\\heito\\anaconda3\\lib\\site-packages\\astropy\\units\\quantity.py:479: RuntimeWarning: invalid value encountered in true_divide\n",
      "  result = super().__array_ufunc__(function, method, *arrays, **kwargs)\n",
      "C:\\Users\\heito\\anaconda3\\lib\\site-packages\\fil_finder\\filfinder2D.py:288: UserWarning: Using inputted mask. Skipping creation of anew mask.\n",
      "  warnings.warn(\"Using inputted mask. Skipping creation of a\"\n"
     ]
    },
    {
     "name": "stdout",
     "output_type": "stream",
     "text": [
      "dipole gene= 0.02357400681626379\n",
      "elongation= 7\n",
      "aspect ratio= 0.9328358208955224\n",
      "centroid= [1073 2788]\n"
     ]
    },
    {
     "name": "stderr",
     "output_type": "stream",
     "text": [
      "C:\\Users\\heito\\anaconda3\\lib\\site-packages\\fil_finder\\filament.py:326: UserWarning: Graph pruning reached max iterations.\n",
      "  warnings.warn(\"Graph pruning reached max iterations.\")\n"
     ]
    },
    {
     "name": "stdout",
     "output_type": "stream",
     "text": [
      "dipole gene= 3.7139819901141977\n",
      "elongation= 244\n",
      "aspect ratio= 0.3470790378006873\n",
      "centroid= [1088  894]\n"
     ]
    },
    {
     "name": "stderr",
     "output_type": "stream",
     "text": [
      "C:\\Users\\heito\\anaconda3\\lib\\site-packages\\fil_finder\\filfinder2D.py:138: UserWarning: No beam width given. Using 0 pixels.\n",
      "  warnings.warn(\"No beam width given. Using 0 pixels.\")\n",
      "C:\\Users\\heito\\anaconda3\\lib\\site-packages\\astropy\\units\\quantity.py:479: RuntimeWarning: divide by zero encountered in true_divide\n",
      "  result = super().__array_ufunc__(function, method, *arrays, **kwargs)\n",
      "C:\\Users\\heito\\anaconda3\\lib\\site-packages\\astropy\\units\\quantity.py:479: RuntimeWarning: invalid value encountered in true_divide\n",
      "  result = super().__array_ufunc__(function, method, *arrays, **kwargs)\n",
      "C:\\Users\\heito\\anaconda3\\lib\\site-packages\\fil_finder\\filfinder2D.py:288: UserWarning: Using inputted mask. Skipping creation of anew mask.\n",
      "  warnings.warn(\"Using inputted mask. Skipping creation of a\"\n",
      "C:\\Users\\heito\\anaconda3\\lib\\site-packages\\fil_finder\\filament.py:326: UserWarning: Graph pruning reached max iterations.\n",
      "  warnings.warn(\"Graph pruning reached max iterations.\")\n"
     ]
    },
    {
     "name": "stdout",
     "output_type": "stream",
     "text": [
      "dipole gene= 1.0810474792294624\n",
      "elongation= 90\n",
      "aspect ratio= 1.1597222222222223\n",
      "centroid= [ 998 4962]\n",
      "dipole gene= 0.4049372717502168\n",
      "elongation= 77\n",
      "aspect ratio= 0.6623376623376623\n",
      "centroid= [1008 4361]\n"
     ]
    },
    {
     "name": "stderr",
     "output_type": "stream",
     "text": [
      "C:\\Users\\heito\\anaconda3\\lib\\site-packages\\fil_finder\\filfinder2D.py:138: UserWarning: No beam width given. Using 0 pixels.\n",
      "  warnings.warn(\"No beam width given. Using 0 pixels.\")\n",
      "C:\\Users\\heito\\anaconda3\\lib\\site-packages\\astropy\\units\\quantity.py:479: RuntimeWarning: divide by zero encountered in true_divide\n",
      "  result = super().__array_ufunc__(function, method, *arrays, **kwargs)\n",
      "C:\\Users\\heito\\anaconda3\\lib\\site-packages\\astropy\\units\\quantity.py:479: RuntimeWarning: invalid value encountered in true_divide\n",
      "  result = super().__array_ufunc__(function, method, *arrays, **kwargs)\n",
      "C:\\Users\\heito\\anaconda3\\lib\\site-packages\\fil_finder\\filfinder2D.py:288: UserWarning: Using inputted mask. Skipping creation of anew mask.\n",
      "  warnings.warn(\"Using inputted mask. Skipping creation of a\"\n",
      "C:\\Users\\heito\\anaconda3\\lib\\site-packages\\fil_finder\\filament.py:326: UserWarning: Graph pruning reached max iterations.\n",
      "  warnings.warn(\"Graph pruning reached max iterations.\")\n"
     ]
    },
    {
     "name": "stdout",
     "output_type": "stream",
     "text": [
      "dipole gene= 3.3303256757394304\n",
      "elongation= 212\n",
      "aspect ratio= 0.3433962264150943\n",
      "centroid= [1062 1204]\n"
     ]
    },
    {
     "name": "stderr",
     "output_type": "stream",
     "text": [
      "C:\\Users\\heito\\anaconda3\\lib\\site-packages\\fil_finder\\filfinder2D.py:138: UserWarning: No beam width given. Using 0 pixels.\n",
      "  warnings.warn(\"No beam width given. Using 0 pixels.\")\n",
      "C:\\Users\\heito\\anaconda3\\lib\\site-packages\\astropy\\units\\quantity.py:479: RuntimeWarning: divide by zero encountered in true_divide\n",
      "  result = super().__array_ufunc__(function, method, *arrays, **kwargs)\n",
      "C:\\Users\\heito\\anaconda3\\lib\\site-packages\\astropy\\units\\quantity.py:479: RuntimeWarning: invalid value encountered in true_divide\n",
      "  result = super().__array_ufunc__(function, method, *arrays, **kwargs)\n",
      "C:\\Users\\heito\\anaconda3\\lib\\site-packages\\fil_finder\\filfinder2D.py:288: UserWarning: Using inputted mask. Skipping creation of anew mask.\n",
      "  warnings.warn(\"Using inputted mask. Skipping creation of a\"\n",
      "C:\\Users\\heito\\anaconda3\\lib\\site-packages\\fil_finder\\filament.py:326: UserWarning: Graph pruning reached max iterations.\n",
      "  warnings.warn(\"Graph pruning reached max iterations.\")\n"
     ]
    },
    {
     "name": "stdout",
     "output_type": "stream",
     "text": [
      "dipole gene= 0.49025993362270714\n",
      "elongation= 74\n",
      "aspect ratio= 0.6097560975609756\n",
      "centroid= [ 999 4611]\n"
     ]
    },
    {
     "name": "stderr",
     "output_type": "stream",
     "text": [
      "C:\\Users\\heito\\anaconda3\\lib\\site-packages\\fil_finder\\filfinder2D.py:138: UserWarning: No beam width given. Using 0 pixels.\n",
      "  warnings.warn(\"No beam width given. Using 0 pixels.\")\n",
      "C:\\Users\\heito\\anaconda3\\lib\\site-packages\\astropy\\units\\quantity.py:479: RuntimeWarning: divide by zero encountered in true_divide\n",
      "  result = super().__array_ufunc__(function, method, *arrays, **kwargs)\n",
      "C:\\Users\\heito\\anaconda3\\lib\\site-packages\\astropy\\units\\quantity.py:479: RuntimeWarning: invalid value encountered in true_divide\n",
      "  result = super().__array_ufunc__(function, method, *arrays, **kwargs)\n",
      "C:\\Users\\heito\\anaconda3\\lib\\site-packages\\fil_finder\\filfinder2D.py:288: UserWarning: Using inputted mask. Skipping creation of anew mask.\n",
      "  warnings.warn(\"Using inputted mask. Skipping creation of a\"\n",
      "C:\\Users\\heito\\anaconda3\\lib\\site-packages\\fil_finder\\filament.py:326: UserWarning: Graph pruning reached max iterations.\n",
      "  warnings.warn(\"Graph pruning reached max iterations.\")\n"
     ]
    },
    {
     "name": "stdout",
     "output_type": "stream",
     "text": [
      "dipole gene= 1.5622059595199016\n",
      "elongation= 190\n",
      "aspect ratio= 0.6009174311926605\n",
      "centroid= [ 998 5316]\n"
     ]
    },
    {
     "name": "stderr",
     "output_type": "stream",
     "text": [
      "C:\\Users\\heito\\anaconda3\\lib\\site-packages\\fil_finder\\filfinder2D.py:138: UserWarning: No beam width given. Using 0 pixels.\n",
      "  warnings.warn(\"No beam width given. Using 0 pixels.\")\n",
      "C:\\Users\\heito\\anaconda3\\lib\\site-packages\\astropy\\units\\quantity.py:479: RuntimeWarning: divide by zero encountered in true_divide\n",
      "  result = super().__array_ufunc__(function, method, *arrays, **kwargs)\n",
      "C:\\Users\\heito\\anaconda3\\lib\\site-packages\\astropy\\units\\quantity.py:479: RuntimeWarning: invalid value encountered in true_divide\n",
      "  result = super().__array_ufunc__(function, method, *arrays, **kwargs)\n",
      "C:\\Users\\heito\\anaconda3\\lib\\site-packages\\fil_finder\\filfinder2D.py:288: UserWarning: Using inputted mask. Skipping creation of anew mask.\n",
      "  warnings.warn(\"Using inputted mask. Skipping creation of a\"\n",
      "C:\\Users\\heito\\anaconda3\\lib\\site-packages\\fil_finder\\filament.py:326: UserWarning: Graph pruning reached max iterations.\n",
      "  warnings.warn(\"Graph pruning reached max iterations.\")\n"
     ]
    },
    {
     "name": "stdout",
     "output_type": "stream",
     "text": [
      "dipole gene= 1.825820176110291\n",
      "elongation= 139\n",
      "aspect ratio= 1.7826086956521738\n",
      "centroid= [ 855 1493]\n"
     ]
    },
    {
     "name": "stderr",
     "output_type": "stream",
     "text": [
      "C:\\Users\\heito\\anaconda3\\lib\\site-packages\\fil_finder\\filfinder2D.py:138: UserWarning: No beam width given. Using 0 pixels.\n",
      "  warnings.warn(\"No beam width given. Using 0 pixels.\")\n",
      "C:\\Users\\heito\\anaconda3\\lib\\site-packages\\astropy\\units\\quantity.py:479: RuntimeWarning: divide by zero encountered in true_divide\n",
      "  result = super().__array_ufunc__(function, method, *arrays, **kwargs)\n",
      "C:\\Users\\heito\\anaconda3\\lib\\site-packages\\astropy\\units\\quantity.py:479: RuntimeWarning: invalid value encountered in true_divide\n",
      "  result = super().__array_ufunc__(function, method, *arrays, **kwargs)\n",
      "C:\\Users\\heito\\anaconda3\\lib\\site-packages\\fil_finder\\filfinder2D.py:288: UserWarning: Using inputted mask. Skipping creation of anew mask.\n",
      "  warnings.warn(\"Using inputted mask. Skipping creation of a\"\n",
      "C:\\Users\\heito\\anaconda3\\lib\\site-packages\\fil_finder\\filament.py:326: UserWarning: Graph pruning reached max iterations.\n",
      "  warnings.warn(\"Graph pruning reached max iterations.\")\n"
     ]
    },
    {
     "name": "stdout",
     "output_type": "stream",
     "text": [
      "dipole gene= 0.14788951472109668\n",
      "elongation= 27\n",
      "aspect ratio= 1.2523364485981308\n",
      "centroid= [ 841 2145]\n",
      "dipole gene= 0.09657601053226952\n",
      "elongation= 41\n",
      "aspect ratio= 1.044776119402985\n",
      "centroid= [ 833 2720]\n"
     ]
    },
    {
     "name": "stderr",
     "output_type": "stream",
     "text": [
      "C:\\Users\\heito\\anaconda3\\lib\\site-packages\\fil_finder\\filfinder2D.py:138: UserWarning: No beam width given. Using 0 pixels.\n",
      "  warnings.warn(\"No beam width given. Using 0 pixels.\")\n",
      "C:\\Users\\heito\\anaconda3\\lib\\site-packages\\astropy\\units\\quantity.py:479: RuntimeWarning: divide by zero encountered in true_divide\n",
      "  result = super().__array_ufunc__(function, method, *arrays, **kwargs)\n",
      "C:\\Users\\heito\\anaconda3\\lib\\site-packages\\astropy\\units\\quantity.py:479: RuntimeWarning: invalid value encountered in true_divide\n",
      "  result = super().__array_ufunc__(function, method, *arrays, **kwargs)\n",
      "C:\\Users\\heito\\anaconda3\\lib\\site-packages\\fil_finder\\filfinder2D.py:288: UserWarning: Using inputted mask. Skipping creation of anew mask.\n",
      "  warnings.warn(\"Using inputted mask. Skipping creation of a\"\n",
      "C:\\Users\\heito\\anaconda3\\lib\\site-packages\\fil_finder\\filament.py:326: UserWarning: Graph pruning reached max iterations.\n",
      "  warnings.warn(\"Graph pruning reached max iterations.\")\n"
     ]
    },
    {
     "name": "stdout",
     "output_type": "stream",
     "text": [
      "dipole gene= 0.10111496250682034\n",
      "elongation= 23\n",
      "aspect ratio= 1.18348623853211\n",
      "centroid= [ 812 2459]\n",
      "dipole gene= 0.2675581898716707\n",
      "elongation= 55\n",
      "aspect ratio= 1.0588235294117647\n",
      "centroid= [ 809 1808]\n"
     ]
    },
    {
     "name": "stderr",
     "output_type": "stream",
     "text": [
      "C:\\Users\\heito\\anaconda3\\lib\\site-packages\\fil_finder\\filfinder2D.py:138: UserWarning: No beam width given. Using 0 pixels.\n",
      "  warnings.warn(\"No beam width given. Using 0 pixels.\")\n",
      "C:\\Users\\heito\\anaconda3\\lib\\site-packages\\astropy\\units\\quantity.py:479: RuntimeWarning: divide by zero encountered in true_divide\n",
      "  result = super().__array_ufunc__(function, method, *arrays, **kwargs)\n",
      "C:\\Users\\heito\\anaconda3\\lib\\site-packages\\astropy\\units\\quantity.py:479: RuntimeWarning: invalid value encountered in true_divide\n",
      "  result = super().__array_ufunc__(function, method, *arrays, **kwargs)\n",
      "C:\\Users\\heito\\anaconda3\\lib\\site-packages\\fil_finder\\filfinder2D.py:288: UserWarning: Using inputted mask. Skipping creation of anew mask.\n",
      "  warnings.warn(\"Using inputted mask. Skipping creation of a\"\n",
      "C:\\Users\\heito\\anaconda3\\lib\\site-packages\\fil_finder\\filament.py:326: UserWarning: Graph pruning reached max iterations.\n",
      "  warnings.warn(\"Graph pruning reached max iterations.\")\n"
     ]
    },
    {
     "name": "stdout",
     "output_type": "stream",
     "text": [
      "dipole gene= 1.7819776903964692\n",
      "elongation= 159\n",
      "aspect ratio= 1.8235294117647058\n",
      "centroid= [ 802 4380]\n"
     ]
    },
    {
     "name": "stderr",
     "output_type": "stream",
     "text": [
      "C:\\Users\\heito\\anaconda3\\lib\\site-packages\\fil_finder\\filfinder2D.py:138: UserWarning: No beam width given. Using 0 pixels.\n",
      "  warnings.warn(\"No beam width given. Using 0 pixels.\")\n",
      "C:\\Users\\heito\\anaconda3\\lib\\site-packages\\astropy\\units\\quantity.py:479: RuntimeWarning: divide by zero encountered in true_divide\n",
      "  result = super().__array_ufunc__(function, method, *arrays, **kwargs)\n",
      "C:\\Users\\heito\\anaconda3\\lib\\site-packages\\astropy\\units\\quantity.py:479: RuntimeWarning: invalid value encountered in true_divide\n",
      "  result = super().__array_ufunc__(function, method, *arrays, **kwargs)\n",
      "C:\\Users\\heito\\anaconda3\\lib\\site-packages\\fil_finder\\filfinder2D.py:288: UserWarning: Using inputted mask. Skipping creation of anew mask.\n",
      "  warnings.warn(\"Using inputted mask. Skipping creation of a\"\n",
      "C:\\Users\\heito\\anaconda3\\lib\\site-packages\\fil_finder\\filament.py:326: UserWarning: Graph pruning reached max iterations.\n",
      "  warnings.warn(\"Graph pruning reached max iterations.\")\n"
     ]
    },
    {
     "name": "stdout",
     "output_type": "stream",
     "text": [
      "dipole gene= 0.031848353518594254\n",
      "elongation= 71\n",
      "aspect ratio= 0.6688741721854304\n",
      "centroid= [ 796 3068]\n"
     ]
    },
    {
     "name": "stderr",
     "output_type": "stream",
     "text": [
      "C:\\Users\\heito\\anaconda3\\lib\\site-packages\\fil_finder\\filfinder2D.py:138: UserWarning: No beam width given. Using 0 pixels.\n",
      "  warnings.warn(\"No beam width given. Using 0 pixels.\")\n",
      "C:\\Users\\heito\\anaconda3\\lib\\site-packages\\astropy\\units\\quantity.py:479: RuntimeWarning: divide by zero encountered in true_divide\n",
      "  result = super().__array_ufunc__(function, method, *arrays, **kwargs)\n",
      "C:\\Users\\heito\\anaconda3\\lib\\site-packages\\astropy\\units\\quantity.py:479: RuntimeWarning: invalid value encountered in true_divide\n",
      "  result = super().__array_ufunc__(function, method, *arrays, **kwargs)\n",
      "C:\\Users\\heito\\anaconda3\\lib\\site-packages\\fil_finder\\filfinder2D.py:288: UserWarning: Using inputted mask. Skipping creation of anew mask.\n",
      "  warnings.warn(\"Using inputted mask. Skipping creation of a\"\n",
      "C:\\Users\\heito\\anaconda3\\lib\\site-packages\\fil_finder\\filament.py:326: UserWarning: Graph pruning reached max iterations.\n",
      "  warnings.warn(\"Graph pruning reached max iterations.\")\n"
     ]
    },
    {
     "name": "stdout",
     "output_type": "stream",
     "text": [
      "dipole gene= 0.728932980914225\n",
      "elongation= 88\n",
      "aspect ratio= 1.2814814814814814\n",
      "centroid= [ 783 3447]\n"
     ]
    },
    {
     "name": "stderr",
     "output_type": "stream",
     "text": [
      "C:\\Users\\heito\\anaconda3\\lib\\site-packages\\fil_finder\\filfinder2D.py:138: UserWarning: No beam width given. Using 0 pixels.\n",
      "  warnings.warn(\"No beam width given. Using 0 pixels.\")\n",
      "C:\\Users\\heito\\anaconda3\\lib\\site-packages\\astropy\\units\\quantity.py:479: RuntimeWarning: divide by zero encountered in true_divide\n",
      "  result = super().__array_ufunc__(function, method, *arrays, **kwargs)\n",
      "C:\\Users\\heito\\anaconda3\\lib\\site-packages\\astropy\\units\\quantity.py:479: RuntimeWarning: invalid value encountered in true_divide\n",
      "  result = super().__array_ufunc__(function, method, *arrays, **kwargs)\n",
      "C:\\Users\\heito\\anaconda3\\lib\\site-packages\\fil_finder\\filfinder2D.py:288: UserWarning: Using inputted mask. Skipping creation of anew mask.\n",
      "  warnings.warn(\"Using inputted mask. Skipping creation of a\"\n",
      "C:\\Users\\heito\\anaconda3\\lib\\site-packages\\fil_finder\\filament.py:326: UserWarning: Graph pruning reached max iterations.\n",
      "  warnings.warn(\"Graph pruning reached max iterations.\")\n"
     ]
    },
    {
     "name": "stdout",
     "output_type": "stream",
     "text": [
      "dipole gene= 1.6438541010245717\n",
      "elongation= 101\n",
      "aspect ratio= 1.302325581395349\n",
      "centroid= [ 764 4558]\n"
     ]
    },
    {
     "name": "stderr",
     "output_type": "stream",
     "text": [
      "C:\\Users\\heito\\anaconda3\\lib\\site-packages\\fil_finder\\filfinder2D.py:138: UserWarning: No beam width given. Using 0 pixels.\n",
      "  warnings.warn(\"No beam width given. Using 0 pixels.\")\n",
      "C:\\Users\\heito\\anaconda3\\lib\\site-packages\\astropy\\units\\quantity.py:479: RuntimeWarning: divide by zero encountered in true_divide\n",
      "  result = super().__array_ufunc__(function, method, *arrays, **kwargs)\n",
      "C:\\Users\\heito\\anaconda3\\lib\\site-packages\\astropy\\units\\quantity.py:479: RuntimeWarning: invalid value encountered in true_divide\n",
      "  result = super().__array_ufunc__(function, method, *arrays, **kwargs)\n",
      "C:\\Users\\heito\\anaconda3\\lib\\site-packages\\fil_finder\\filfinder2D.py:288: UserWarning: Using inputted mask. Skipping creation of anew mask.\n",
      "  warnings.warn(\"Using inputted mask. Skipping creation of a\"\n",
      "C:\\Users\\heito\\anaconda3\\lib\\site-packages\\fil_finder\\filament.py:326: UserWarning: Graph pruning reached max iterations.\n",
      "  warnings.warn(\"Graph pruning reached max iterations.\")\n"
     ]
    },
    {
     "name": "stdout",
     "output_type": "stream",
     "text": [
      "dipole gene= 0.2721257653253471\n",
      "elongation= 29\n",
      "aspect ratio= 1.190909090909091\n",
      "centroid= [ 748 3726]\n",
      "dipole gene= 0.0651111522834524\n",
      "elongation= 58\n",
      "aspect ratio= 0.7358490566037735\n",
      "centroid= [ 770 4033]\n"
     ]
    },
    {
     "name": "stderr",
     "output_type": "stream",
     "text": [
      "C:\\Users\\heito\\anaconda3\\lib\\site-packages\\fil_finder\\filfinder2D.py:138: UserWarning: No beam width given. Using 0 pixels.\n",
      "  warnings.warn(\"No beam width given. Using 0 pixels.\")\n",
      "C:\\Users\\heito\\anaconda3\\lib\\site-packages\\astropy\\units\\quantity.py:479: RuntimeWarning: divide by zero encountered in true_divide\n",
      "  result = super().__array_ufunc__(function, method, *arrays, **kwargs)\n",
      "C:\\Users\\heito\\anaconda3\\lib\\site-packages\\astropy\\units\\quantity.py:479: RuntimeWarning: invalid value encountered in true_divide\n",
      "  result = super().__array_ufunc__(function, method, *arrays, **kwargs)\n",
      "C:\\Users\\heito\\anaconda3\\lib\\site-packages\\fil_finder\\filfinder2D.py:288: UserWarning: Using inputted mask. Skipping creation of anew mask.\n",
      "  warnings.warn(\"Using inputted mask. Skipping creation of a\"\n",
      "C:\\Users\\heito\\anaconda3\\lib\\site-packages\\fil_finder\\filament.py:326: UserWarning: Graph pruning reached max iterations.\n",
      "  warnings.warn(\"Graph pruning reached max iterations.\")\n"
     ]
    },
    {
     "name": "stdout",
     "output_type": "stream",
     "text": [
      "dipole gene= 2.4885807037652268\n",
      "elongation= 223\n",
      "aspect ratio= 1.084033613445378\n",
      "centroid= [ 754 1149]\n"
     ]
    },
    {
     "name": "stderr",
     "output_type": "stream",
     "text": [
      "C:\\Users\\heito\\anaconda3\\lib\\site-packages\\fil_finder\\filfinder2D.py:138: UserWarning: No beam width given. Using 0 pixels.\n",
      "  warnings.warn(\"No beam width given. Using 0 pixels.\")\n",
      "C:\\Users\\heito\\anaconda3\\lib\\site-packages\\astropy\\units\\quantity.py:479: RuntimeWarning: divide by zero encountered in true_divide\n",
      "  result = super().__array_ufunc__(function, method, *arrays, **kwargs)\n",
      "C:\\Users\\heito\\anaconda3\\lib\\site-packages\\astropy\\units\\quantity.py:479: RuntimeWarning: invalid value encountered in true_divide\n",
      "  result = super().__array_ufunc__(function, method, *arrays, **kwargs)\n",
      "C:\\Users\\heito\\anaconda3\\lib\\site-packages\\fil_finder\\filfinder2D.py:288: UserWarning: Using inputted mask. Skipping creation of anew mask.\n",
      "  warnings.warn(\"Using inputted mask. Skipping creation of a\"\n",
      "C:\\Users\\heito\\anaconda3\\lib\\site-packages\\fil_finder\\filament.py:326: UserWarning: Graph pruning reached max iterations.\n",
      "  warnings.warn(\"Graph pruning reached max iterations.\")\n"
     ]
    },
    {
     "name": "stdout",
     "output_type": "stream",
     "text": [
      "dipole gene= 1.9485304087114859\n",
      "elongation= 172\n",
      "aspect ratio= 0.6875\n",
      "centroid= [ 586 3657]\n"
     ]
    },
    {
     "name": "stderr",
     "output_type": "stream",
     "text": [
      "C:\\Users\\heito\\anaconda3\\lib\\site-packages\\fil_finder\\filfinder2D.py:138: UserWarning: No beam width given. Using 0 pixels.\n",
      "  warnings.warn(\"No beam width given. Using 0 pixels.\")\n",
      "C:\\Users\\heito\\anaconda3\\lib\\site-packages\\astropy\\units\\quantity.py:479: RuntimeWarning: divide by zero encountered in true_divide\n",
      "  result = super().__array_ufunc__(function, method, *arrays, **kwargs)\n",
      "C:\\Users\\heito\\anaconda3\\lib\\site-packages\\astropy\\units\\quantity.py:479: RuntimeWarning: invalid value encountered in true_divide\n",
      "  result = super().__array_ufunc__(function, method, *arrays, **kwargs)\n",
      "C:\\Users\\heito\\anaconda3\\lib\\site-packages\\fil_finder\\filfinder2D.py:288: UserWarning: Using inputted mask. Skipping creation of anew mask.\n",
      "  warnings.warn(\"Using inputted mask. Skipping creation of a\"\n",
      "C:\\Users\\heito\\anaconda3\\lib\\site-packages\\fil_finder\\filament.py:326: UserWarning: Graph pruning reached max iterations.\n",
      "  warnings.warn(\"Graph pruning reached max iterations.\")\n"
     ]
    },
    {
     "name": "stdout",
     "output_type": "stream",
     "text": [
      "dipole gene= 4.183770389801416\n",
      "elongation= 276\n",
      "aspect ratio= 0.4817073170731707\n",
      "centroid= [ 631 1465]\n"
     ]
    },
    {
     "name": "stderr",
     "output_type": "stream",
     "text": [
      "C:\\Users\\heito\\anaconda3\\lib\\site-packages\\fil_finder\\filfinder2D.py:138: UserWarning: No beam width given. Using 0 pixels.\n",
      "  warnings.warn(\"No beam width given. Using 0 pixels.\")\n",
      "C:\\Users\\heito\\anaconda3\\lib\\site-packages\\astropy\\units\\quantity.py:479: RuntimeWarning: divide by zero encountered in true_divide\n",
      "  result = super().__array_ufunc__(function, method, *arrays, **kwargs)\n",
      "C:\\Users\\heito\\anaconda3\\lib\\site-packages\\astropy\\units\\quantity.py:479: RuntimeWarning: invalid value encountered in true_divide\n",
      "  result = super().__array_ufunc__(function, method, *arrays, **kwargs)\n",
      "C:\\Users\\heito\\anaconda3\\lib\\site-packages\\fil_finder\\filfinder2D.py:288: UserWarning: Using inputted mask. Skipping creation of anew mask.\n",
      "  warnings.warn(\"Using inputted mask. Skipping creation of a\"\n",
      "C:\\Users\\heito\\anaconda3\\lib\\site-packages\\fil_finder\\filament.py:326: UserWarning: Graph pruning reached max iterations.\n",
      "  warnings.warn(\"Graph pruning reached max iterations.\")\n"
     ]
    },
    {
     "name": "stdout",
     "output_type": "stream",
     "text": [
      "dipole gene= 4.6896361246507885\n",
      "elongation= 247\n",
      "aspect ratio= 0.40273037542662116\n",
      "centroid= [ 617 2444]\n"
     ]
    },
    {
     "name": "stderr",
     "output_type": "stream",
     "text": [
      "C:\\Users\\heito\\anaconda3\\lib\\site-packages\\fil_finder\\filfinder2D.py:138: UserWarning: No beam width given. Using 0 pixels.\n",
      "  warnings.warn(\"No beam width given. Using 0 pixels.\")\n",
      "C:\\Users\\heito\\anaconda3\\lib\\site-packages\\astropy\\units\\quantity.py:479: RuntimeWarning: divide by zero encountered in true_divide\n",
      "  result = super().__array_ufunc__(function, method, *arrays, **kwargs)\n",
      "C:\\Users\\heito\\anaconda3\\lib\\site-packages\\astropy\\units\\quantity.py:479: RuntimeWarning: invalid value encountered in true_divide\n",
      "  result = super().__array_ufunc__(function, method, *arrays, **kwargs)\n",
      "C:\\Users\\heito\\anaconda3\\lib\\site-packages\\fil_finder\\filfinder2D.py:288: UserWarning: Using inputted mask. Skipping creation of anew mask.\n",
      "  warnings.warn(\"Using inputted mask. Skipping creation of a\"\n",
      "C:\\Users\\heito\\anaconda3\\lib\\site-packages\\fil_finder\\filament.py:326: UserWarning: Graph pruning reached max iterations.\n",
      "  warnings.warn(\"Graph pruning reached max iterations.\")\n"
     ]
    },
    {
     "name": "stdout",
     "output_type": "stream",
     "text": [
      "dipole gene= 2.5842773427850396\n",
      "elongation= 195\n",
      "aspect ratio= 0.41434262948207173\n",
      "centroid= [ 589 3045]\n"
     ]
    },
    {
     "name": "stderr",
     "output_type": "stream",
     "text": [
      "C:\\Users\\heito\\anaconda3\\lib\\site-packages\\fil_finder\\filfinder2D.py:138: UserWarning: No beam width given. Using 0 pixels.\n",
      "  warnings.warn(\"No beam width given. Using 0 pixels.\")\n",
      "C:\\Users\\heito\\anaconda3\\lib\\site-packages\\astropy\\units\\quantity.py:479: RuntimeWarning: divide by zero encountered in true_divide\n",
      "  result = super().__array_ufunc__(function, method, *arrays, **kwargs)\n",
      "C:\\Users\\heito\\anaconda3\\lib\\site-packages\\astropy\\units\\quantity.py:479: RuntimeWarning: invalid value encountered in true_divide\n",
      "  result = super().__array_ufunc__(function, method, *arrays, **kwargs)\n",
      "C:\\Users\\heito\\anaconda3\\lib\\site-packages\\fil_finder\\filfinder2D.py:288: UserWarning: Using inputted mask. Skipping creation of anew mask.\n",
      "  warnings.warn(\"Using inputted mask. Skipping creation of a\"\n",
      "C:\\Users\\heito\\anaconda3\\lib\\site-packages\\fil_finder\\filament.py:326: UserWarning: Graph pruning reached max iterations.\n",
      "  warnings.warn(\"Graph pruning reached max iterations.\")\n"
     ]
    },
    {
     "name": "stdout",
     "output_type": "stream",
     "text": [
      "dipole gene= 3.0839144252063533\n",
      "elongation= 260\n",
      "aspect ratio= 0.37209302325581395\n",
      "centroid= [ 607 1819]\n"
     ]
    },
    {
     "name": "stderr",
     "output_type": "stream",
     "text": [
      "C:\\Users\\heito\\anaconda3\\lib\\site-packages\\fil_finder\\filfinder2D.py:138: UserWarning: No beam width given. Using 0 pixels.\n",
      "  warnings.warn(\"No beam width given. Using 0 pixels.\")\n",
      "C:\\Users\\heito\\anaconda3\\lib\\site-packages\\astropy\\units\\quantity.py:479: RuntimeWarning: divide by zero encountered in true_divide\n",
      "  result = super().__array_ufunc__(function, method, *arrays, **kwargs)\n",
      "C:\\Users\\heito\\anaconda3\\lib\\site-packages\\astropy\\units\\quantity.py:479: RuntimeWarning: invalid value encountered in true_divide\n",
      "  result = super().__array_ufunc__(function, method, *arrays, **kwargs)\n",
      "C:\\Users\\heito\\anaconda3\\lib\\site-packages\\fil_finder\\filfinder2D.py:288: UserWarning: Using inputted mask. Skipping creation of anew mask.\n",
      "  warnings.warn(\"Using inputted mask. Skipping creation of a\"\n",
      "C:\\Users\\heito\\anaconda3\\lib\\site-packages\\fil_finder\\filament.py:326: UserWarning: Graph pruning reached max iterations.\n",
      "  warnings.warn(\"Graph pruning reached max iterations.\")\n"
     ]
    },
    {
     "name": "stdout",
     "output_type": "stream",
     "text": [
      "dipole gene= 0.8312868580690588\n",
      "elongation= 167\n",
      "aspect ratio= 0.4409090909090909\n",
      "centroid= [ 544 4914]\n"
     ]
    },
    {
     "name": "stderr",
     "output_type": "stream",
     "text": [
      "C:\\Users\\heito\\anaconda3\\lib\\site-packages\\fil_finder\\filfinder2D.py:138: UserWarning: No beam width given. Using 0 pixels.\n",
      "  warnings.warn(\"No beam width given. Using 0 pixels.\")\n",
      "C:\\Users\\heito\\anaconda3\\lib\\site-packages\\astropy\\units\\quantity.py:479: RuntimeWarning: divide by zero encountered in true_divide\n",
      "  result = super().__array_ufunc__(function, method, *arrays, **kwargs)\n",
      "C:\\Users\\heito\\anaconda3\\lib\\site-packages\\astropy\\units\\quantity.py:479: RuntimeWarning: invalid value encountered in true_divide\n",
      "  result = super().__array_ufunc__(function, method, *arrays, **kwargs)\n",
      "C:\\Users\\heito\\anaconda3\\lib\\site-packages\\fil_finder\\filfinder2D.py:288: UserWarning: Using inputted mask. Skipping creation of anew mask.\n",
      "  warnings.warn(\"Using inputted mask. Skipping creation of a\"\n",
      "C:\\Users\\heito\\anaconda3\\lib\\site-packages\\fil_finder\\filament.py:326: UserWarning: Graph pruning reached max iterations.\n",
      "  warnings.warn(\"Graph pruning reached max iterations.\")\n"
     ]
    },
    {
     "name": "stdout",
     "output_type": "stream",
     "text": [
      "dipole gene= 5.660617955216288\n",
      "elongation= 292\n",
      "aspect ratio= 0.3971830985915493\n",
      "centroid= [ 612 2130]\n"
     ]
    },
    {
     "name": "stderr",
     "output_type": "stream",
     "text": [
      "C:\\Users\\heito\\anaconda3\\lib\\site-packages\\fil_finder\\filfinder2D.py:138: UserWarning: No beam width given. Using 0 pixels.\n",
      "  warnings.warn(\"No beam width given. Using 0 pixels.\")\n",
      "C:\\Users\\heito\\anaconda3\\lib\\site-packages\\astropy\\units\\quantity.py:479: RuntimeWarning: divide by zero encountered in true_divide\n",
      "  result = super().__array_ufunc__(function, method, *arrays, **kwargs)\n",
      "C:\\Users\\heito\\anaconda3\\lib\\site-packages\\astropy\\units\\quantity.py:479: RuntimeWarning: invalid value encountered in true_divide\n",
      "  result = super().__array_ufunc__(function, method, *arrays, **kwargs)\n",
      "C:\\Users\\heito\\anaconda3\\lib\\site-packages\\fil_finder\\filfinder2D.py:288: UserWarning: Using inputted mask. Skipping creation of anew mask.\n",
      "  warnings.warn(\"Using inputted mask. Skipping creation of a\"\n",
      "C:\\Users\\heito\\anaconda3\\lib\\site-packages\\fil_finder\\filament.py:326: UserWarning: Graph pruning reached max iterations.\n",
      "  warnings.warn(\"Graph pruning reached max iterations.\")\n"
     ]
    },
    {
     "name": "stdout",
     "output_type": "stream",
     "text": [
      "dipole gene= 3.086809884374953\n",
      "elongation= 219\n",
      "aspect ratio= 0.5018050541516246\n",
      "centroid= [ 558 4337]\n"
     ]
    },
    {
     "name": "stderr",
     "output_type": "stream",
     "text": [
      "C:\\Users\\heito\\anaconda3\\lib\\site-packages\\fil_finder\\filfinder2D.py:138: UserWarning: No beam width given. Using 0 pixels.\n",
      "  warnings.warn(\"No beam width given. Using 0 pixels.\")\n",
      "C:\\Users\\heito\\anaconda3\\lib\\site-packages\\astropy\\units\\quantity.py:479: RuntimeWarning: divide by zero encountered in true_divide\n",
      "  result = super().__array_ufunc__(function, method, *arrays, **kwargs)\n",
      "C:\\Users\\heito\\anaconda3\\lib\\site-packages\\astropy\\units\\quantity.py:479: RuntimeWarning: invalid value encountered in true_divide\n",
      "  result = super().__array_ufunc__(function, method, *arrays, **kwargs)\n",
      "C:\\Users\\heito\\anaconda3\\lib\\site-packages\\fil_finder\\filfinder2D.py:288: UserWarning: Using inputted mask. Skipping creation of anew mask.\n",
      "  warnings.warn(\"Using inputted mask. Skipping creation of a\"\n",
      "C:\\Users\\heito\\anaconda3\\lib\\site-packages\\fil_finder\\filament.py:326: UserWarning: Graph pruning reached max iterations.\n",
      "  warnings.warn(\"Graph pruning reached max iterations.\")\n"
     ]
    },
    {
     "name": "stdout",
     "output_type": "stream",
     "text": [
      "dipole gene= 4.92794055673578\n",
      "elongation= 277\n",
      "aspect ratio= 0.3902439024390244\n",
      "centroid= [ 592 2774]\n"
     ]
    },
    {
     "name": "stderr",
     "output_type": "stream",
     "text": [
      "C:\\Users\\heito\\anaconda3\\lib\\site-packages\\fil_finder\\filfinder2D.py:138: UserWarning: No beam width given. Using 0 pixels.\n",
      "  warnings.warn(\"No beam width given. Using 0 pixels.\")\n",
      "C:\\Users\\heito\\anaconda3\\lib\\site-packages\\astropy\\units\\quantity.py:479: RuntimeWarning: divide by zero encountered in true_divide\n",
      "  result = super().__array_ufunc__(function, method, *arrays, **kwargs)\n",
      "C:\\Users\\heito\\anaconda3\\lib\\site-packages\\astropy\\units\\quantity.py:479: RuntimeWarning: invalid value encountered in true_divide\n",
      "  result = super().__array_ufunc__(function, method, *arrays, **kwargs)\n",
      "C:\\Users\\heito\\anaconda3\\lib\\site-packages\\fil_finder\\filfinder2D.py:288: UserWarning: Using inputted mask. Skipping creation of anew mask.\n",
      "  warnings.warn(\"Using inputted mask. Skipping creation of a\"\n",
      "C:\\Users\\heito\\anaconda3\\lib\\site-packages\\fil_finder\\filament.py:326: UserWarning: Graph pruning reached max iterations.\n",
      "  warnings.warn(\"Graph pruning reached max iterations.\")\n"
     ]
    },
    {
     "name": "stdout",
     "output_type": "stream",
     "text": [
      "dipole gene= 2.7235744672548305\n",
      "elongation= 240\n",
      "aspect ratio= 0.4014336917562724\n",
      "centroid= [ 553 4025]\n"
     ]
    },
    {
     "name": "stderr",
     "output_type": "stream",
     "text": [
      "C:\\Users\\heito\\anaconda3\\lib\\site-packages\\fil_finder\\filfinder2D.py:138: UserWarning: No beam width given. Using 0 pixels.\n",
      "  warnings.warn(\"No beam width given. Using 0 pixels.\")\n",
      "C:\\Users\\heito\\anaconda3\\lib\\site-packages\\astropy\\units\\quantity.py:479: RuntimeWarning: divide by zero encountered in true_divide\n",
      "  result = super().__array_ufunc__(function, method, *arrays, **kwargs)\n",
      "C:\\Users\\heito\\anaconda3\\lib\\site-packages\\astropy\\units\\quantity.py:479: RuntimeWarning: invalid value encountered in true_divide\n",
      "  result = super().__array_ufunc__(function, method, *arrays, **kwargs)\n",
      "C:\\Users\\heito\\anaconda3\\lib\\site-packages\\fil_finder\\filfinder2D.py:288: UserWarning: Using inputted mask. Skipping creation of anew mask.\n",
      "  warnings.warn(\"Using inputted mask. Skipping creation of a\"\n",
      "C:\\Users\\heito\\anaconda3\\lib\\site-packages\\fil_finder\\filament.py:326: UserWarning: Graph pruning reached max iterations.\n",
      "  warnings.warn(\"Graph pruning reached max iterations.\")\n"
     ]
    },
    {
     "name": "stdout",
     "output_type": "stream",
     "text": [
      "dipole gene= 4.465056653032843\n",
      "elongation= 276\n",
      "aspect ratio= 0.569078947368421\n",
      "centroid= [ 565 3373]\n"
     ]
    },
    {
     "name": "stderr",
     "output_type": "stream",
     "text": [
      "C:\\Users\\heito\\anaconda3\\lib\\site-packages\\fil_finder\\filfinder2D.py:138: UserWarning: No beam width given. Using 0 pixels.\n",
      "  warnings.warn(\"No beam width given. Using 0 pixels.\")\n",
      "C:\\Users\\heito\\anaconda3\\lib\\site-packages\\astropy\\units\\quantity.py:479: RuntimeWarning: divide by zero encountered in true_divide\n",
      "  result = super().__array_ufunc__(function, method, *arrays, **kwargs)\n",
      "C:\\Users\\heito\\anaconda3\\lib\\site-packages\\astropy\\units\\quantity.py:479: RuntimeWarning: invalid value encountered in true_divide\n",
      "  result = super().__array_ufunc__(function, method, *arrays, **kwargs)\n",
      "C:\\Users\\heito\\anaconda3\\lib\\site-packages\\fil_finder\\filfinder2D.py:288: UserWarning: Using inputted mask. Skipping creation of anew mask.\n",
      "  warnings.warn(\"Using inputted mask. Skipping creation of a\"\n",
      "C:\\Users\\heito\\anaconda3\\lib\\site-packages\\fil_finder\\filament.py:326: UserWarning: Graph pruning reached max iterations.\n",
      "  warnings.warn(\"Graph pruning reached max iterations.\")\n"
     ]
    },
    {
     "name": "stdout",
     "output_type": "stream",
     "text": [
      "dipole gene= 3.0797605213243724\n",
      "elongation= 280\n",
      "aspect ratio= 0.34076433121019106\n",
      "centroid= [ 540 4603]\n",
      "0.0003591999993659556\n"
     ]
    }
   ],
   "source": [
    "# Grayscale\n",
    "gray = cv2.cvtColor(img, cv2.COLOR_BGR2GRAY)\n",
    "\n",
    "# Find Canny edges\n",
    "edged = cv2.Canny(img, 30, 200)\n",
    "\n",
    "contours, hierarchy = cv2.findContours(edged, cv2.RETR_EXTERNAL, cv2.CHAIN_APPROX_NONE)\n",
    "start = timeit.timeit()\n",
    "dipole_list=np.empty([1,0])\n",
    "elongation_list=np.empty([1,0])\n",
    "aspect_ratio_list=np.empty([1,0])\n",
    "centroid_list=[[1,1], [1,1]]\n",
    "true_org=np.empty([1,0])\n",
    "\n",
    "for ii in range(np.shape(contours)[0]):\n",
    "    \n",
    "    M = cv2.moments(contours[ii])\n",
    "    if M[\"m00\"] == 0:\n",
    "        true_org=np.append(true_org,0)\n",
    "    else:\n",
    "        true_org=np.append(true_org,1)\n",
    "\n",
    "\n",
    "for ii in range(np.shape(contours)[0]):\n",
    "    \n",
    "    if true_org[ii]==1:\n",
    "        im_zer = np.zeros( (img.shape[0],img.shape[1]) ) # create a single channel 200x200 pixel black image \n",
    "        filled_array = cv2.fillPoly(im_zer, pts =[contours[ii]], color=(255))\n",
    "\n",
    "        obj = np.argwhere(filled_array == 255)\n",
    "\n",
    "        \n",
    "\n",
    "        bin_arr = np.where(filled_array > 0, 1, 0)\n",
    "    \n",
    "        image = bin_arr\n",
    "\n",
    "    # perform skeletonization\n",
    "    \n",
    "        skeleton1 = skeletonize(image)\n",
    "\n",
    "\n",
    "        binSkel = skeleton1*1\n",
    "        skelObj = np.argwhere(binSkel == 1)\n",
    "\n",
    "        fil = FilFinder2D(binSkel, distance=250 * u.pc, mask=skeleton1)\n",
    "        fil.preprocess_image(flatten_percent=85)\n",
    "        fil.create_mask(border_masking=True, verbose=False,\n",
    "        use_existing_mask=True)\n",
    "        fil.medskel(verbose=False)\n",
    "        fil.analyze_skeletons(branch_thresh=40* u.pix, skel_thresh=10 * u.pix, prune_criteria='length')\n",
    "        skeleton_length=fil.lengths()\n",
    "        #plt.plot(obj[:,0],obj[:,1], 'bo')\n",
    "        #plt.plot(skelObj[:,0],skelObj[:,1], 'ko')\n",
    "\n",
    "\n",
    "        x,y,w,h = cv2.boundingRect(contours[ii])\n",
    "        aspect_ratio = float(w)/h\n",
    "        M = cv2.moments(contours[ii])\n",
    "        cX = int(M[\"m10\"] / M[\"m00\"])\n",
    "        cY = int(M[\"m01\"] / M[\"m00\"])\n",
    "        centroid=np.array([cY,cX])\n",
    "        hey_1 = np.argwhere(fil.skeleton_longpath==1)\n",
    "        if hey_1.size==0:\n",
    "            hey_1=skelObj\n",
    "        im_zer = np.zeros( (img.shape[0],img.shape[1]) )\n",
    "        skele_im=im_zer\n",
    "        skele_im[hey_1[:,0],hey_1[:,1]]=255\n",
    "        n=0\n",
    "        ma=np.array([1,1,1])\n",
    "        ok2=0\n",
    "        while ok2==0:\n",
    "            \n",
    "            in_x=hey_1[n,0]\n",
    "            in_y=hey_1[n,1]\n",
    "            ma=skele_im[in_x-1:in_x+2,in_y-1:in_y+2]\n",
    "            n=n+1\n",
    "            if np.sum(ma)<255*3:\n",
    "                ok2=1\n",
    "        skeleton=np.array([[0,1],[in_x, in_y]])\n",
    "        ok=0\n",
    "        x_prev=1\n",
    "        y_prev=1\n",
    "        neighbors=skele_im[in_x-1:in_x+2,in_y-1:in_y+2]\n",
    "        center_y=in_y\n",
    "        center_x=in_x\n",
    "        n=0\n",
    "        while ok==0:\n",
    "        \n",
    "        \n",
    "            neighbors[x_prev,y_prev]=0\n",
    "            neighbors[1,1]=0\n",
    "            res=np.where(neighbors==255)\n",
    "            if res[0].size==0 :\n",
    "         \n",
    "                break\n",
    "        \n",
    "            y_next=res[1]\n",
    "            x_next=res[0]\n",
    "            skeleton=np.append(skeleton, [[x_next[0]-1+center_x, y_next[0]-1+center_y]], axis=0)\n",
    "            y_prev=2-y_next[0]\n",
    "            x_prev=2-x_next[0]\n",
    "        \n",
    "            center_y=center_y+y_next[0]-1\n",
    "            center_x=center_x+x_next[0]-1\n",
    "        \n",
    "            neighbors=skele_im[-1+center_x:2+center_x,-1+center_y:2+center_y]\n",
    "        \n",
    "\n",
    "        skeleton=np.delete(skeleton, 0,0)\n",
    "        hey=skeleton\n",
    "        epsilon=20\n",
    "        if np.shape(hey)[0]<6:\n",
    "            hey=np.concatenate(([[hey[0,0]-1,hey[0,1]-1]],hey,[[hey[-1,0]+1,hey[-1,1]+1]]))\n",
    "            hey=np.concatenate(([[hey[0,0]-1,hey[0,1]-1]],hey,[[hey[-1,0]+1,hey[-1,1]+1]]))\n",
    "        elongation=np.shape(hey)[0]\n",
    "        dipole=get_gene_dipole(hey,contours[ii],epsilon,img_gene1,img_gene2)\n",
    "        dipole_list=np.append(dipole_list,dipole)\n",
    "        elongation_list=np.append(elongation_list,elongation)\n",
    "        aspect_ratio_list=np.append(aspect_ratio_list,aspect_ratio)\n",
    "        centroid_list=np.append(centroid_list,[centroid],axis=0)\n",
    "        print('dipole gene=',dipole)\n",
    "        print('elongation=',elongation)\n",
    "        print('aspect ratio=',aspect_ratio)\n",
    "        print('centroid=',centroid)\n",
    "centroid_list=np.delete(centroid_list, [0,1],0)\n",
    "end = timeit.timeit()\n",
    "print(end - start)"
   ]
  },
  {
   "cell_type": "code",
   "execution_count": 70,
   "id": "8c38f51e",
   "metadata": {},
   "outputs": [
    {
     "name": "stderr",
     "output_type": "stream",
     "text": [
      "<ipython-input-70-5de38e942b9f>:2: RuntimeWarning: invalid value encountered in long_scalars\n",
      "  dip_1=gene1/np.max(gene1)*(position-np.shape(hey)[0]/2)\n"
     ]
    },
    {
     "ename": "NameError",
     "evalue": "name 'position' is not defined",
     "output_type": "error",
     "traceback": [
      "\u001b[1;31m---------------------------------------------------------------------------\u001b[0m",
      "\u001b[1;31mNameError\u001b[0m                                 Traceback (most recent call last)",
      "\u001b[1;32m<ipython-input-70-5de38e942b9f>\u001b[0m in \u001b[0;36m<module>\u001b[1;34m\u001b[0m\n\u001b[0;32m      1\u001b[0m \u001b[0mgene1\u001b[0m\u001b[1;33m=\u001b[0m\u001b[1;36m0\u001b[0m\u001b[1;33m\u001b[0m\u001b[1;33m\u001b[0m\u001b[0m\n\u001b[1;32m----> 2\u001b[1;33m \u001b[0mdip_1\u001b[0m\u001b[1;33m=\u001b[0m\u001b[0mgene1\u001b[0m\u001b[1;33m/\u001b[0m\u001b[0mnp\u001b[0m\u001b[1;33m.\u001b[0m\u001b[0mmax\u001b[0m\u001b[1;33m(\u001b[0m\u001b[0mgene1\u001b[0m\u001b[1;33m)\u001b[0m\u001b[1;33m*\u001b[0m\u001b[1;33m(\u001b[0m\u001b[0mposition\u001b[0m\u001b[1;33m-\u001b[0m\u001b[0mnp\u001b[0m\u001b[1;33m.\u001b[0m\u001b[0mshape\u001b[0m\u001b[1;33m(\u001b[0m\u001b[0mhey\u001b[0m\u001b[1;33m)\u001b[0m\u001b[1;33m[\u001b[0m\u001b[1;36m0\u001b[0m\u001b[1;33m]\u001b[0m\u001b[1;33m/\u001b[0m\u001b[1;36m2\u001b[0m\u001b[1;33m)\u001b[0m\u001b[1;33m\u001b[0m\u001b[1;33m\u001b[0m\u001b[0m\n\u001b[0m\u001b[0;32m      3\u001b[0m \u001b[0mdip_2\u001b[0m\u001b[1;33m=\u001b[0m\u001b[0mgene2\u001b[0m\u001b[1;33m/\u001b[0m\u001b[0mnp\u001b[0m\u001b[1;33m.\u001b[0m\u001b[0mmax\u001b[0m\u001b[1;33m(\u001b[0m\u001b[0mgene2\u001b[0m\u001b[1;33m)\u001b[0m\u001b[1;33m*\u001b[0m\u001b[1;33m(\u001b[0m\u001b[0mposition\u001b[0m\u001b[1;33m-\u001b[0m\u001b[0mnp\u001b[0m\u001b[1;33m.\u001b[0m\u001b[0mshape\u001b[0m\u001b[1;33m(\u001b[0m\u001b[0mhey\u001b[0m\u001b[1;33m)\u001b[0m\u001b[1;33m[\u001b[0m\u001b[1;36m0\u001b[0m\u001b[1;33m]\u001b[0m\u001b[1;33m/\u001b[0m\u001b[1;36m2\u001b[0m\u001b[1;33m)\u001b[0m\u001b[1;33m\u001b[0m\u001b[1;33m\u001b[0m\u001b[0m\n\u001b[0;32m      4\u001b[0m \u001b[0mdipole\u001b[0m\u001b[1;33m=\u001b[0m\u001b[0mnp\u001b[0m\u001b[1;33m.\u001b[0m\u001b[0mabs\u001b[0m\u001b[1;33m(\u001b[0m\u001b[0mnp\u001b[0m\u001b[1;33m.\u001b[0m\u001b[0msum\u001b[0m\u001b[1;33m(\u001b[0m\u001b[0mdip_1\u001b[0m\u001b[1;33m)\u001b[0m\u001b[1;33m-\u001b[0m\u001b[0mnp\u001b[0m\u001b[1;33m.\u001b[0m\u001b[0msum\u001b[0m\u001b[1;33m(\u001b[0m\u001b[0mdip_2\u001b[0m\u001b[1;33m)\u001b[0m\u001b[1;33m)\u001b[0m\u001b[1;33m/\u001b[0m\u001b[1;33m(\u001b[0m\u001b[0mnp\u001b[0m\u001b[1;33m.\u001b[0m\u001b[0mshape\u001b[0m\u001b[1;33m(\u001b[0m\u001b[0mhey\u001b[0m\u001b[1;33m)\u001b[0m\u001b[1;33m[\u001b[0m\u001b[1;36m0\u001b[0m\u001b[1;33m]\u001b[0m\u001b[1;33m/\u001b[0m\u001b[1;36m2\u001b[0m\u001b[1;33m)\u001b[0m\u001b[1;33m\u001b[0m\u001b[1;33m\u001b[0m\u001b[0m\n",
      "\u001b[1;31mNameError\u001b[0m: name 'position' is not defined"
     ]
    }
   ],
   "source": [
    "gene1=0\n",
    "dip_1=gene1/np.max(gene1)*(position-np.shape(hey)[0]/2)\n",
    "dip_2=gene2/np.max(gene2)*(position-np.shape(hey)[0]/2)    \n",
    "dipole=np.abs(np.sum(dip_1)-np.sum(dip_2))/(np.shape(hey)[0]/2)"
   ]
  },
  {
   "cell_type": "code",
   "execution_count": 113,
   "id": "1852a7b9",
   "metadata": {},
   "outputs": [
    {
     "data": {
      "text/plain": [
       "array([1, 2])"
      ]
     },
     "execution_count": 113,
     "metadata": {},
     "output_type": "execute_result"
    }
   ],
   "source": [
    "a=np.array([[1,1],[2,2]])\n",
    "a[:,1]"
   ]
  },
  {
   "cell_type": "code",
   "execution_count": 126,
   "id": "9ca67327",
   "metadata": {},
   "outputs": [
    {
     "data": {
      "text/html": [
       "<div>\n",
       "<style scoped>\n",
       "    .dataframe tbody tr th:only-of-type {\n",
       "        vertical-align: middle;\n",
       "    }\n",
       "\n",
       "    .dataframe tbody tr th {\n",
       "        vertical-align: top;\n",
       "    }\n",
       "\n",
       "    .dataframe thead th {\n",
       "        text-align: right;\n",
       "    }\n",
       "</style>\n",
       "<table border=\"1\" class=\"dataframe\">\n",
       "  <thead>\n",
       "    <tr style=\"text-align: right;\">\n",
       "      <th></th>\n",
       "      <th>Dipole</th>\n",
       "      <th>Elongation</th>\n",
       "      <th>Aspect_Ratio</th>\n",
       "      <th>Centroid_x</th>\n",
       "      <th>Centroid_y</th>\n",
       "    </tr>\n",
       "  </thead>\n",
       "  <tbody>\n",
       "    <tr>\n",
       "      <th>0</th>\n",
       "      <td>0.951783</td>\n",
       "      <td>137.0</td>\n",
       "      <td>0.637681</td>\n",
       "      <td>5985</td>\n",
       "      <td>1971</td>\n",
       "    </tr>\n",
       "    <tr>\n",
       "      <th>1</th>\n",
       "      <td>0.950630</td>\n",
       "      <td>222.0</td>\n",
       "      <td>0.369176</td>\n",
       "      <td>5790</td>\n",
       "      <td>1609</td>\n",
       "    </tr>\n",
       "    <tr>\n",
       "      <th>2</th>\n",
       "      <td>0.877684</td>\n",
       "      <td>300.0</td>\n",
       "      <td>0.409836</td>\n",
       "      <td>5821</td>\n",
       "      <td>1886</td>\n",
       "    </tr>\n",
       "    <tr>\n",
       "      <th>3</th>\n",
       "      <td>0.843055</td>\n",
       "      <td>298.0</td>\n",
       "      <td>0.344729</td>\n",
       "      <td>5769</td>\n",
       "      <td>2206</td>\n",
       "    </tr>\n",
       "    <tr>\n",
       "      <th>4</th>\n",
       "      <td>0.858235</td>\n",
       "      <td>263.0</td>\n",
       "      <td>0.429032</td>\n",
       "      <td>5747</td>\n",
       "      <td>3140</td>\n",
       "    </tr>\n",
       "    <tr>\n",
       "      <th>...</th>\n",
       "      <td>...</td>\n",
       "      <td>...</td>\n",
       "      <td>...</td>\n",
       "      <td>...</td>\n",
       "      <td>...</td>\n",
       "    </tr>\n",
       "    <tr>\n",
       "      <th>345</th>\n",
       "      <td>0.847661</td>\n",
       "      <td>219.0</td>\n",
       "      <td>0.501805</td>\n",
       "      <td>558</td>\n",
       "      <td>4337</td>\n",
       "    </tr>\n",
       "    <tr>\n",
       "      <th>346</th>\n",
       "      <td>0.722961</td>\n",
       "      <td>277.0</td>\n",
       "      <td>0.390244</td>\n",
       "      <td>592</td>\n",
       "      <td>2774</td>\n",
       "    </tr>\n",
       "    <tr>\n",
       "      <th>347</th>\n",
       "      <td>0.905684</td>\n",
       "      <td>240.0</td>\n",
       "      <td>0.401434</td>\n",
       "      <td>553</td>\n",
       "      <td>4025</td>\n",
       "    </tr>\n",
       "    <tr>\n",
       "      <th>348</th>\n",
       "      <td>0.851038</td>\n",
       "      <td>276.0</td>\n",
       "      <td>0.569079</td>\n",
       "      <td>565</td>\n",
       "      <td>3373</td>\n",
       "    </tr>\n",
       "    <tr>\n",
       "      <th>349</th>\n",
       "      <td>0.907431</td>\n",
       "      <td>280.0</td>\n",
       "      <td>0.340764</td>\n",
       "      <td>540</td>\n",
       "      <td>4603</td>\n",
       "    </tr>\n",
       "  </tbody>\n",
       "</table>\n",
       "<p>350 rows × 5 columns</p>\n",
       "</div>"
      ],
      "text/plain": [
       "       Dipole  Elongation  Aspect_Ratio  Centroid_x  Centroid_y\n",
       "0    0.951783       137.0      0.637681        5985        1971\n",
       "1    0.950630       222.0      0.369176        5790        1609\n",
       "2    0.877684       300.0      0.409836        5821        1886\n",
       "3    0.843055       298.0      0.344729        5769        2206\n",
       "4    0.858235       263.0      0.429032        5747        3140\n",
       "..        ...         ...           ...         ...         ...\n",
       "345  0.847661       219.0      0.501805         558        4337\n",
       "346  0.722961       277.0      0.390244         592        2774\n",
       "347  0.905684       240.0      0.401434         553        4025\n",
       "348  0.851038       276.0      0.569079         565        3373\n",
       "349  0.907431       280.0      0.340764         540        4603\n",
       "\n",
       "[350 rows x 5 columns]"
      ]
     },
     "execution_count": 126,
     "metadata": {},
     "output_type": "execute_result"
    }
   ],
   "source": [
    "# save data, there is probably a better way to do this, but I am not sure\n",
    "d = {'Dipole': dipole_list, 'Elongation': elongation_list, 'Aspect_Ratio': aspect_ratio_list, 'Centroid_x':centroid_list[:,0] , 'Centroid_y': centroid_list[:,1]}\n",
    "df = pd.DataFrame(data=d)\n",
    "\n",
    "df.to_csv('exported_metrics.cvs', index=False)\n",
    "df"
   ]
  },
  {
   "cell_type": "code",
   "execution_count": 90,
   "id": "cddcfe44",
   "metadata": {},
   "outputs": [
    {
     "name": "stderr",
     "output_type": "stream",
     "text": [
      "<ipython-input-90-cc0806cfed32>:13: MatplotlibDeprecationWarning: You are modifying the state of a globally registered colormap. In future versions, you will not be able to modify a registered colormap in-place. To remove this warning, you can make a copy of the colormap first. cmap = copy.copy(mpl.cm.get_cmap(\"jet\"))\n",
      "  cmap.set_bad(color = 'k', alpha = 1)\n"
     ]
    },
    {
     "data": {
      "text/plain": [
       "<matplotlib.colorbar.Colorbar at 0x2ca0968b940>"
      ]
     },
     "execution_count": 90,
     "metadata": {},
     "output_type": "execute_result"
    },
    {
     "data": {
      "image/png": "[encoded data removed]",
      "text/plain": [
       "<Figure size 720x720 with 2 Axes>"
      ]
     },
     "metadata": {
      "needs_background": "light"
     },
     "output_type": "display_data"
    }
   ],
   "source": [
    "im_color=np.zeros( (img.shape[0],img.shape[1]) )\n",
    "for ii in range(np.shape(dipole_list)[0]):\n",
    "    \n",
    "    if true_org[ii]==1:\n",
    "        im_zer = np.zeros( (img.shape[0],img.shape[1]) ) # create a single channel 200x200 pixel black image \n",
    "        filled_array = cv2.fillPoly(im_zer, pts =[contours[ii]], color=(255))\n",
    "        \n",
    "        obj = np.argwhere(filled_array == 255)\n",
    "        im_color[obj[:,0],obj[:,1]]=dipole_list[ii]\n",
    "plt.figure(figsize=(10,10))\n",
    "im_color[im_color==0]=np.nan\n",
    "cmap = plt.cm.get_cmap(\"jet\")\n",
    "cmap.set_bad(color = 'k', alpha = 1)\n",
    "im = plt.imshow(im_color, cmap=cmap)\n",
    "\n",
    "plt.colorbar(im)\n",
    "\n",
    "\n"
   ]
  },
  {
   "cell_type": "code",
   "execution_count": 89,
   "id": "099c5fad",
   "metadata": {},
   "outputs": [
    {
     "name": "stderr",
     "output_type": "stream",
     "text": [
      "<ipython-input-89-5c45a8e04ae0>:4: MatplotlibDeprecationWarning: You are modifying the state of a globally registered colormap. In future versions, you will not be able to modify a registered colormap in-place. To remove this warning, you can make a copy of the colormap first. cmap = copy.copy(mpl.cm.get_cmap(\"jet\"))\n",
      "  cmap.set_bad(color = 'k', alpha = 1)\n"
     ]
    },
    {
     "data": {
      "text/plain": [
       "<matplotlib.colorbar.Colorbar at 0x2ca0a1f2ca0>"
      ]
     },
     "execution_count": 89,
     "metadata": {},
     "output_type": "execute_result"
    },
    {
     "data": {
      "image/png": "[encoded data removed]",
      "text/plain": [
       "<Figure size 720x720 with 2 Axes>"
      ]
     },
     "metadata": {
      "needs_background": "light"
     },
     "output_type": "display_data"
    }
   ],
   "source": []
  },
  {
   "cell_type": "code",
   "execution_count": 135,
   "id": "37245dce",
   "metadata": {
    "scrolled": true
   },
   "outputs": [
    {
     "data": {
      "text/plain": [
       "[<matplotlib.lines.Line2D at 0x1ec14cabbb0>]"
      ]
     },
     "execution_count": 135,
     "metadata": {},
     "output_type": "execute_result"
    },
    {
     "data": {
      "image/png": "[encoded data removed]",
      "text/plain": [
       "<Figure size 432x288 with 1 Axes>"
      ]
     },
     "metadata": {
      "needs_background": "light"
     },
     "output_type": "display_data"
    }
   ],
   "source": [
    "repe=np.repeat([[3186, 3186]],np.shape(centroid_list)[0],axis=0)\n",
    "dist=np.sqrt((repe[:,0]-centroid_list[:,0])**2+(repe[:,1]-centroid_list[:,1])**2)\n",
    "plt.plot(dist,dipole_list,'k.')"
   ]
  },
  {
   "cell_type": "code",
   "execution_count": 133,
   "id": "ce3abd89",
   "metadata": {},
   "outputs": [
    {
     "data": {
      "text/plain": [
       "[<matplotlib.lines.Line2D at 0x1ec146c9e80>]"
      ]
     },
     "execution_count": 133,
     "metadata": {},
     "output_type": "execute_result"
    },
    {
     "data": {
      "image/png": "[encoded data removed]",
      "text/plain": [
       "<Figure size 432x288 with 1 Axes>"
      ]
     },
     "metadata": {
      "needs_background": "light"
     },
     "output_type": "display_data"
    }
   ],
   "source": [
    "plt.plot(dist,elongation_list,'b.')"
   ]
  },
  {
   "cell_type": "code",
   "execution_count": 134,
   "id": "83aede9c",
   "metadata": {},
   "outputs": [
    {
     "data": {
      "text/plain": [
       "[<matplotlib.lines.Line2D at 0x1ec005e4b20>]"
      ]
     },
     "execution_count": 134,
     "metadata": {},
     "output_type": "execute_result"
    },
    {
     "data": {
      "image/png": "[encoded data removed]",
      "text/plain": [
       "<Figure size 432x288 with 1 Axes>"
      ]
     },
     "metadata": {
      "needs_background": "light"
     },
     "output_type": "display_data"
    }
   ],
   "source": [
    "plt.plot(dipole_list,elongation_list,'r.')"
   ]
  },
  {
   "cell_type": "code",
   "execution_count": 138,
   "id": "aae82d6a",
   "metadata": {},
   "outputs": [
    {
     "data": {
      "text/plain": [
       "(282.25, 6018.75, 267.75, 6257.25)"
      ]
     },
     "execution_count": 138,
     "metadata": {},
     "output_type": "execute_result"
    },
    {
     "data": {
      "image/png": "[encoded data removed]",
      "text/plain": [
       "<Figure size 432x288 with 1 Axes>"
      ]
     },
     "metadata": {
      "needs_background": "light"
     },
     "output_type": "display_data"
    }
   ],
   "source": [
    "plt.plot(centroid_list[:,1],centroid_list[:,0],'r.')\n",
    "plt.axis('equal')"
   ]
  },
  {
   "cell_type": "code",
   "execution_count": null,
   "id": "727db525",
   "metadata": {},
   "outputs": [],
   "source": []
  }
 ],
 "metadata": {
  "kernelspec": {
   "display_name": "Python 3",
   "language": "python",
   "name": "python3"
  },
  "language_info": {
   "codemirror_mode": {
    "name": "ipython",
    "version": 3
   },
   "file_extension": ".py",
   "mimetype": "text/x-python",
   "name": "python",
   "nbconvert_exporter": "python",
   "pygments_lexer": "ipython3",
   "version": "3.8.8"
  }
 },
 "nbformat": 4,
 "nbformat_minor": 5
}
