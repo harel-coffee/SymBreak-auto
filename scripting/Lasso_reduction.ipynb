{
 "cells": [
  {
   "cell_type": "code",
   "execution_count": 1,
   "id": "cea4b361",
   "metadata": {},
   "outputs": [],
   "source": [
    "import matplotlib.pyplot as plt\n",
    "import numpy as np\n",
    "import pandas as pd\n",
    "from scipy.spatial.distance import cdist\n",
    "from scipy import ndimage, misc\n",
    "import cv2\n",
    "from skimage.morphology import skeletonize\n",
    "from fil_finder import FilFinder2D\n",
    "import astropy.units as u\n",
    "from sklearn import linear_model\n",
    "import gc"
   ]
  },
  {
   "cell_type": "code",
   "execution_count": 3,
   "id": "1c8567ac",
   "metadata": {},
   "outputs": [
    {
     "name": "stdout",
     "output_type": "stream",
     "text": [
      "C:\\Users\\heito\\Desktop\\Harvard\\Sharad Lab\\G1\\Random_7\n"
     ]
    }
   ],
   "source": [
    "# import initial image and metrics data\n",
    "%cd C:\\Users\\heito\\Desktop\\Harvard\\Sharad Lab\\G1\\Random_7 \n",
    "    \n",
    "img =cv2.imread('random_7_init_crop_masks.tif') #segmented and eroded image\n",
    "metrics=pd.read_csv('exported_metrics_new.csv')"
   ]
  },
  {
   "cell_type": "code",
   "execution_count": 19,
   "id": "d7fbff55",
   "metadata": {},
   "outputs": [
    {
     "name": "stderr",
     "output_type": "stream",
     "text": [
      "C:\\Users\\heito\\anaconda3\\lib\\site-packages\\numpy\\core\\_asarray.py:102: VisibleDeprecationWarning: Creating an ndarray from ragged nested sequences (which is a list-or-tuple of lists-or-tuples-or ndarrays with different lengths or shapes) is deprecated. If you meant to do this, you must specify 'dtype=object' when creating the ndarray.\n",
      "  return array(a, dtype, copy=False, order=order)\n"
     ]
    },
    {
     "name": "stdout",
     "output_type": "stream",
     "text": [
      "[0.         0.11723626 0.18968253 0.00576337 0.         0.\n",
      " 0.        ]\n"
     ]
    }
   ],
   "source": [
    "#calculate density, del and del^2 of regions given a window size\n",
    "window_radius=[100, 250, 400, 500, 600, 750, 1000]\n",
    "y=metrics.to_numpy()[:,0]\n",
    "cx=metrics.to_numpy()[:,3]\n",
    "cy=metrics.to_numpy()[:,4]\n",
    "# Find Canny edges\n",
    "edged = cv2.Canny(img, 30, 200)\n",
    "\n",
    "contours, hierarchy = cv2.findContours(edged, cv2.RETR_EXTERNAL, cv2.CHAIN_APPROX_NONE)\n",
    "\n",
    "number_mat=np.zeros([np.shape(contours)[0],np.size(window_radius)])\n",
    "density=np.zeros([np.shape(contours)[0],np.size(window_radius)])\n",
    "grad=np.zeros([np.shape(contours)[0],np.size(window_radius)])\n",
    "for ii in range(np.shape(contours)[0]):\n",
    "\n",
    "    repe=np.repeat([[cx[ii],cy[ii]]],np.shape(cx)[0], axis=0)\n",
    "    dist=np.sqrt((cx[:]-repe[:,0])**2+(cy[:]-repe[:,1])**2)\n",
    "    for jj in range(np.size(window_radius)):\n",
    "        number=np.size(np.argwhere(dist<window_radius[jj])) #include self?\n",
    "        \n",
    "        number_mat[ii,jj]=number\n",
    "        density[ii,jj]=number/(np.pi*window_radius[jj]**2)*100**2\n",
    "        #grad[ii,jj]=1/(np.max(dist[np.argwhere(dist<window_radius[jj])]))\n",
    "ok=0       \n",
    "while ok==0:    \n",
    "    alpha=np.random.rand(1)\n",
    "    clf = linear_model.Lasso(alpha=alpha)\n",
    "    clf.fit(density, y)\n",
    "    if np.size(np.where(clf.coef_!=0))==3:\n",
    "        ok=1\n",
    "        \n",
    "print(clf.coef_)        "
   ]
  },
  {
   "cell_type": "code",
   "execution_count": 20,
   "id": "1598713c",
   "metadata": {},
   "outputs": [
    {
     "data": {
      "text/plain": [
       "array([0.00021977])"
      ]
     },
     "execution_count": 20,
     "metadata": {},
     "output_type": "execute_result"
    }
   ],
   "source": [
    "alpha"
   ]
  },
  {
   "cell_type": "code",
   "execution_count": 100,
   "id": "fc44abcb",
   "metadata": {},
   "outputs": [
    {
     "data": {
      "text/plain": [
       "(array([1, 2, 3, 4], dtype=int64),)"
      ]
     },
     "execution_count": 100,
     "metadata": {},
     "output_type": "execute_result"
    }
   ],
   "source": [
    "np.where(clf.coef_!=0)"
   ]
  },
  {
   "cell_type": "code",
   "execution_count": null,
   "id": "6e8568f2",
   "metadata": {},
   "outputs": [],
   "source": []
  }
 ],
 "metadata": {
  "kernelspec": {
   "display_name": "Python 3",
   "language": "python",
   "name": "python3"
  },
  "language_info": {
   "codemirror_mode": {
    "name": "ipython",
    "version": 3
   },
   "file_extension": ".py",
   "mimetype": "text/x-python",
   "name": "python",
   "nbconvert_exporter": "python",
   "pygments_lexer": "ipython3",
   "version": "3.8.8"
  }
 },
 "nbformat": 4,
 "nbformat_minor": 5
}
