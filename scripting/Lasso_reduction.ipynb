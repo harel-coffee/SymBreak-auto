{
 "cells": [
  {
   "cell_type": "code",
   "execution_count": 11,
   "id": "cea4b361",
   "metadata": {},
   "outputs": [],
   "source": [
    "import matplotlib.pyplot as plt\n",
    "import numpy as np\n",
    "import pandas as pd\n",
    "from scipy.spatial.distance import cdist\n",
    "from scipy import ndimage, misc\n",
    "import cv2\n",
    "from skimage.morphology import skeletonize\n",
    "from fil_finder import FilFinder2D\n",
    "import astropy.units as u\n",
    "from sklearn import linear_model\n",
    "from sklearn import model_selection \n",
    "import gc"
   ]
  },
  {
   "cell_type": "code",
   "execution_count": 12,
   "id": "1c8567ac",
   "metadata": {},
   "outputs": [
    {
     "name": "stdout",
     "output_type": "stream",
     "text": [
      "C:\\Users\\heito\\Desktop\\Harvard\\Sharad Lab\\G1\\Random_7\n"
     ]
    }
   ],
   "source": [
    "# import initial image and metrics data\n",
    "%cd C:\\Users\\heito\\Desktop\\Harvard\\Sharad Lab\\G1\\Random_7 \n",
    "    \n",
    "img =cv2.imread('random_7_final_crop_masks.tif') #segmented and eroded image\n",
    "metrics=pd.read_csv('exported_metrics_new.csv')"
   ]
  },
  {
   "cell_type": "code",
   "execution_count": 25,
   "id": "d7fbff55",
   "metadata": {},
   "outputs": [
    {
     "name": "stdout",
     "output_type": "stream",
     "text": [
      "{'alpha': 0.0004}\n",
      "[0.         0.12575606 0.14344557 0.         0.         0.\n",
      " 0.        ]\n"
     ]
    }
   ],
   "source": [
    "#calculate density, del and del^2 of regions given a window size\n",
    "window_radius=[100, 250, 400, 500, 600, 750, 1000]\n",
    "y=metrics.to_numpy()[:,0]\n",
    "cx=metrics.to_numpy()[:,3]\n",
    "cy=metrics.to_numpy()[:,4]\n",
    "# Find Canny edges\n",
    "edged = cv2.Canny(img, 30, 200)\n",
    "\n",
    "contours, hierarchy = cv2.findContours(edged, cv2.RETR_EXTERNAL, cv2.CHAIN_APPROX_NONE)\n",
    "\n",
    "number_mat=np.zeros([np.shape(cx)[0],np.size(window_radius)])\n",
    "density=np.zeros([np.shape(cx)[0],np.size(window_radius)])\n",
    "grad=np.zeros([np.shape(cx)[0],np.size(window_radius)])\n",
    "for ii in range(np.shape(cx)[0]):\n",
    "\n",
    "    repe=np.repeat([[cx[ii],cy[ii]]],np.shape(cx)[0], axis=0)\n",
    "    dist=np.sqrt((cx[:]-repe[:,0])**2+(cy[:]-repe[:,1])**2)\n",
    "    for jj in range(np.size(window_radius)):\n",
    "        number=np.size(np.argwhere(dist<window_radius[jj])) #include self?\n",
    "        \n",
    "        number_mat[ii,jj]=number\n",
    "        density[ii,jj]=number/(np.pi*window_radius[jj]**2)*100**2\n",
    "        #grad[ii,jj]=1/(np.max(dist[np.argwhere(dist<window_radius[jj])]))\n",
    "'''\n",
    "ok=0       \n",
    "while ok==0:    \n",
    "    alpha=np.random.rand(1)\n",
    "    clf = linear_model.Lasso(alpha=alpha)\n",
    "    clf.fit(density, y)\n",
    "    if np.size(np.where(clf.coef_!=0))==3:\n",
    "        ok=1\n",
    "'''\n",
    "\n",
    "model = linear_model.Lasso()\n",
    "# define model evaluation method\n",
    "cv = model_selection.RepeatedKFold(n_splits=10, n_repeats=3, random_state=1)\n",
    "# define grid\n",
    "grid = dict()\n",
    "grid['alpha'] = np.arange(0, 0.1, 0.0001)\n",
    "# define search\n",
    "search = model_selection.GridSearchCV(model, grid, scoring='neg_mean_absolute_error', cv=cv, n_jobs=-1)\n",
    "# perform the search\n",
    "results = search.fit(density, y)\n",
    "print(results.best_params_)   \n",
    "\n",
    "alpha=0.0004\n",
    "clf = linear_model.Lasso(alpha=alpha)\n",
    "clf.fit(density, y)\n",
    "print(clf.coef_)"
   ]
  },
  {
   "cell_type": "code",
   "execution_count": 49,
   "id": "1598713c",
   "metadata": {},
   "outputs": [
    {
     "data": {
      "text/plain": [
       "<matplotlib.image.AxesImage at 0x29ad8e96c10>"
      ]
     },
     "execution_count": 49,
     "metadata": {},
     "output_type": "execute_result"
    },
    {
     "data": {
      "image/png": "[encoded data removed]",
      "text/plain": [
       "<Figure size 720x720 with 1 Axes>"
      ]
     },
     "metadata": {
      "needs_background": "light"
     },
     "output_type": "display_data"
    }
   ],
   "source": [
    "img =cv2.imread('random_7_init_crop_masks.tif')\n",
    "img[img==255]=1\n",
    "np.array(img)\n",
    "img_sobel=ndimage.sobel(img[:,:,0])\n",
    "plt.figure(figsize=(10,10))\n",
    "plt.imshow(img_sobel)"
   ]
  },
  {
   "cell_type": "code",
   "execution_count": 42,
   "id": "fc44abcb",
   "metadata": {},
   "outputs": [
    {
     "data": {
      "text/plain": [
       "array([[-1, -4, -2,  4,  3],\n",
       "       [-1, -3,  0,  4,  2],\n",
       "       [ 1, -1,  0,  3,  1],\n",
       "       [ 1,  0,  2,  2, -1],\n",
       "       [ 0,  0,  4,  3, -1]])"
      ]
     },
     "execution_count": 42,
     "metadata": {},
     "output_type": "execute_result"
    }
   ],
   "source": [
    "a=np.random.randint(2,size=[5,5])\n",
    "ndimage.sobel(a)"
   ]
  },
  {
   "cell_type": "code",
   "execution_count": 47,
   "id": "6e8568f2",
   "metadata": {},
   "outputs": [
    {
     "data": {
      "text/plain": [
       "array([[[0, 0, 0],\n",
       "        [0, 0, 0],\n",
       "        [0, 0, 0],\n",
       "        ...,\n",
       "        [0, 0, 0],\n",
       "        [0, 0, 0],\n",
       "        [0, 0, 0]],\n",
       "\n",
       "       [[0, 0, 0],\n",
       "        [0, 0, 0],\n",
       "        [0, 0, 0],\n",
       "        ...,\n",
       "        [0, 0, 0],\n",
       "        [0, 0, 0],\n",
       "        [0, 0, 0]],\n",
       "\n",
       "       [[0, 0, 0],\n",
       "        [0, 0, 0],\n",
       "        [0, 0, 0],\n",
       "        ...,\n",
       "        [0, 0, 0],\n",
       "        [0, 0, 0],\n",
       "        [0, 0, 0]],\n",
       "\n",
       "       ...,\n",
       "\n",
       "       [[0, 0, 0],\n",
       "        [0, 0, 0],\n",
       "        [0, 0, 0],\n",
       "        ...,\n",
       "        [0, 0, 0],\n",
       "        [0, 0, 0],\n",
       "        [0, 0, 0]],\n",
       "\n",
       "       [[0, 0, 0],\n",
       "        [0, 0, 0],\n",
       "        [0, 0, 0],\n",
       "        ...,\n",
       "        [0, 0, 0],\n",
       "        [0, 0, 0],\n",
       "        [0, 0, 0]],\n",
       "\n",
       "       [[0, 0, 0],\n",
       "        [0, 0, 0],\n",
       "        [0, 0, 0],\n",
       "        ...,\n",
       "        [0, 0, 0],\n",
       "        [0, 0, 0],\n",
       "        [0, 0, 0]]], dtype=uint8)"
      ]
     },
     "execution_count": 47,
     "metadata": {},
     "output_type": "execute_result"
    }
   ],
   "source": [
    "np.array(img)"
   ]
  },
  {
   "cell_type": "code",
   "execution_count": null,
   "id": "ff9a7a1a",
   "metadata": {},
   "outputs": [],
   "source": []
  }
 ],
 "metadata": {
  "kernelspec": {
   "display_name": "Python 3",
   "language": "python",
   "name": "python3"
  },
  "language_info": {
   "codemirror_mode": {
    "name": "ipython",
    "version": 3
   },
   "file_extension": ".py",
   "mimetype": "text/x-python",
   "name": "python",
   "nbconvert_exporter": "python",
   "pygments_lexer": "ipython3",
   "version": "3.8.8"
  }
 },
 "nbformat": 4,
 "nbformat_minor": 5
}
