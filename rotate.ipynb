{
 "cells": [
  {
   "cell_type": "code",
   "execution_count": 2,
   "id": "61f1ada2",
   "metadata": {},
   "outputs": [],
   "source": [
    "import numpy as np\n",
    "import pandas as pd\n",
    "import matplotlib.pyplot as plt\n",
    "import sklearn"
   ]
  },
  {
   "cell_type": "code",
   "execution_count": 9,
   "id": "d093a970",
   "metadata": {},
   "outputs": [],
   "source": [
    "d = np.load(\"datasets/random3_design/coordsRewardRandom3.npy\")"
   ]
  },
  {
   "cell_type": "code",
   "execution_count": 22,
   "id": "79162fd6",
   "metadata": {},
   "outputs": [],
   "source": [
    "df3 = np.load(\"datasets/random3_design/localsAndRewards.npy\")\n",
    "df4 = np.load(\"datasets/random4_design/localsAndRewards.npy\")\n",
    "df7 = np.load(\"datasets/random7_design/localsAndRewards.npy\")\n",
    "df8 = np.load(\"datasets/random8_design/localsAndRewards.npy\")"
   ]
  },
  {
   "cell_type": "code",
   "execution_count": 29,
   "id": "21ec7fbd",
   "metadata": {},
   "outputs": [],
   "source": [
    "def getRotations(df):\n",
    "    X = df[:, :-1]\n",
    "    rot90 = []\n",
    "    rot180 = []\n",
    "    rot270 = []\n",
    "\n",
    "    for i in range(X.shape[0]):\n",
    "        rot90.append(np.rot90(X[i].reshape(11,11), 1).flatten())\n",
    "        rot180.append(np.rot90(X[i].reshape(11,11), 2).flatten())\n",
    "        rot270.append(np.rot90(X[i].reshape(11,11), 3).flatten())\n",
    "\n",
    "    allRotX = np.vstack((X, np.array(rot90), np.array(rot180), np.array(rot270)))\n",
    "    y = df[:,-1]\n",
    "    bigY = np.tile(y, 4)\n",
    "    allRotDf = np.hstack((allRotX, bigY.reshape(-1,1)))\n",
    "    \n",
    "    return allRotDf"
   ]
  },
  {
   "cell_type": "code",
   "execution_count": 34,
   "id": "3acde471",
   "metadata": {},
   "outputs": [],
   "source": [
    "df3Rot = getRotations(df3)\n",
    "df4Rot = getRotations(df4)\n",
    "df7Rot = getRotations(df7)\n",
    "df8Rot = getRotations(df8)"
   ]
  },
  {
   "cell_type": "code",
   "execution_count": 41,
   "id": "c16c0ebb",
   "metadata": {},
   "outputs": [],
   "source": [
    "dfRandomVer1Rot90Dipole = np.vstack((df3Rot, df4Rot, df7Rot, df8Rot))"
   ]
  },
  {
   "cell_type": "code",
   "execution_count": 44,
   "id": "09938d88",
   "metadata": {},
   "outputs": [
    {
     "data": {
      "text/plain": [
       "(1468, 122)"
      ]
     },
     "execution_count": 44,
     "metadata": {},
     "output_type": "execute_result"
    }
   ],
   "source": [
    "dfRandomVer1Rot90Dipole.shape"
   ]
  },
  {
   "cell_type": "code",
   "execution_count": 46,
   "id": "c72fc790",
   "metadata": {},
   "outputs": [
    {
     "data": {
      "text/plain": [
       "367.0"
      ]
     },
     "execution_count": 46,
     "metadata": {},
     "output_type": "execute_result"
    }
   ],
   "source": []
  },
  {
   "cell_type": "code",
   "execution_count": 43,
   "id": "3d945549",
   "metadata": {},
   "outputs": [],
   "source": [
    "np.save('dfRandomVer1Rot90Dipole', dfRandomVer1Rot90Dipole)"
   ]
  },
  {
   "cell_type": "code",
   "execution_count": 27,
   "id": "278527ca",
   "metadata": {
    "scrolled": true
   },
   "outputs": [
    {
     "data": {
      "text/plain": [
       "((85, 122), (88, 122), (105, 122), (89, 122))"
      ]
     },
     "execution_count": 27,
     "metadata": {},
     "output_type": "execute_result"
    }
   ],
   "source": [
    "df3.shape, df4.shape, df7.shape, df8.shape"
   ]
  },
  {
   "cell_type": "code",
   "execution_count": 23,
   "id": "f236d226",
   "metadata": {},
   "outputs": [
    {
     "data": {
      "text/plain": [
       "array([2.95418130e-03, 4.26577624e-03, 1.58007388e-02, 4.83353951e-03,\n",
       "       0.00000000e+00, 3.03559228e-03, 1.77385498e-02, 6.37052847e-02,\n",
       "       1.07574507e-02, 6.67638785e-02, 7.20454858e-02, 3.50101602e-02,\n",
       "       2.28943927e-03, 2.16666916e-02, 3.14431925e-02, 8.37280114e-04,\n",
       "       1.13614019e-02, 1.23486830e-02, 1.49566105e-02, 1.23240010e-02,\n",
       "       2.98782983e-02, 3.84695336e-02, 6.02171070e-03, 5.15299402e-03,\n",
       "       2.87434161e-02, 6.76287215e-03, 7.88120615e-04, 8.33118544e-03,\n",
       "       1.54758267e-02, 1.80582308e-02, 1.81820452e-02, 9.84322546e-03,\n",
       "       3.07427203e-02, 6.84616799e-04, 9.07605897e-02, 1.12930048e-02,\n",
       "       1.52827463e-02, 5.53325878e-03, 6.90321747e-04, 2.54020546e-02,\n",
       "       9.92434428e-02, 3.18464137e-02, 1.81326934e-03, 3.81784236e-02,\n",
       "       8.19611913e-03, 1.22692901e-03, 2.95216495e-02, 1.78296929e-03,\n",
       "       1.95032898e-02, 2.39497427e-02, 4.17183418e-03, 1.58611090e-02,\n",
       "       1.28452676e-02, 2.15247004e-02, 9.63557767e-03, 2.31064383e-04,\n",
       "       3.96357583e-03, 1.45726239e-02, 4.54969837e-04, 2.74920630e-02,\n",
       "       8.48602538e-05, 2.22081273e-02, 2.51567904e-02, 5.52101827e-03,\n",
       "       5.92290122e-02, 9.03717532e-03, 3.17996748e-02, 2.82027068e-03,\n",
       "       9.36296729e-03, 3.07618561e-02, 4.98950424e-02, 6.74577257e-03,\n",
       "       3.37086061e-02, 7.85687738e-03, 8.06975718e-02, 4.58542713e-02,\n",
       "       1.05877748e-02, 2.62501230e-02, 2.51570879e-02, 1.32211918e-02,\n",
       "       2.63547174e-02, 8.70964128e-03, 1.42410280e-02, 2.91521268e-03,\n",
       "       6.62197057e-02])"
      ]
     },
     "execution_count": 23,
     "metadata": {},
     "output_type": "execute_result"
    }
   ],
   "source": [
    "df3[:,-1]"
   ]
  },
  {
   "cell_type": "code",
   "execution_count": 24,
   "id": "bde57c81",
   "metadata": {},
   "outputs": [
    {
     "data": {
      "text/plain": [
       "array([0.03591461, 0.0219377 , 0.10659951, 0.02196219, 0.03169562,\n",
       "       0.00422678, 0.01211101, 0.00587078, 0.0851691 , 0.05992403,\n",
       "       0.02238596, 0.0688743 , 0.01481661, 0.04805439, 0.02426165,\n",
       "       0.03674286, 0.01922143, 0.04947052, 0.07148403, 0.02324496,\n",
       "       0.22979435, 0.0676815 , 0.03368334, 0.08508633, 0.04920477,\n",
       "       0.11195208, 0.03565225, 0.06837061, 0.08753293, 0.04770226,\n",
       "       0.28347473, 0.01614577, 0.01942113, 0.08106001, 0.05765414,\n",
       "       0.03283129, 0.12237398, 0.0460656 , 0.16793034, 0.13983701,\n",
       "       0.03575517, 0.01467686, 0.05578067, 0.00180873, 0.05373696,\n",
       "       0.27739062, 0.17780216, 0.20994954, 0.38476748, 0.00897375,\n",
       "       0.02119097, 0.00888823, 0.00707965, 0.0192766 , 0.05248137,\n",
       "       0.00560111, 0.00210016, 0.02704202, 0.00751424, 0.01730959,\n",
       "       0.10747982, 0.03210199, 0.00351165, 0.02367933, 0.0923527 ,\n",
       "       0.00714507, 0.02685037, 0.09398572, 0.03786976, 0.00085115,\n",
       "       0.00053228, 0.14856048, 0.04719524, 0.0121474 , 0.00512128,\n",
       "       0.06929496, 0.00429534, 0.00329244, 0.05603945, 0.0157502 ,\n",
       "       0.11776001, 0.04679645, 0.05314744, 0.02225024, 0.00738398,\n",
       "       0.05873678, 0.14010595, 0.02976626])"
      ]
     },
     "execution_count": 24,
     "metadata": {},
     "output_type": "execute_result"
    }
   ],
   "source": [
    "df4[:,-1]"
   ]
  },
  {
   "cell_type": "code",
   "execution_count": 25,
   "id": "a22b3c0b",
   "metadata": {},
   "outputs": [
    {
     "data": {
      "text/plain": [
       "array([0.02888724, 0.01657332, 0.0179497 , 0.02586894, 0.00217425,\n",
       "       0.0217008 , 0.02493678, 0.00338111, 0.02803104, 0.04222518,\n",
       "       0.01654452, 0.0139516 , 0.06366197, 0.13540632, 0.00417228,\n",
       "       0.18010006, 0.08304541, 0.03659248, 0.04869956, 0.06476977,\n",
       "       0.00283134, 0.14091504, 0.0162235 , 0.02687688, 0.0223039 ,\n",
       "       0.1707856 , 0.20369677, 0.01622576, 0.00096657, 0.14428521,\n",
       "       0.03880627, 0.00608514, 0.03319528, 0.05316993, 0.01900468,\n",
       "       0.00068167, 0.02808225, 0.01078028, 0.10112621, 0.00030615,\n",
       "       0.00530164, 0.02667453, 0.03514506, 0.01209376, 0.00505374,\n",
       "       0.04682875, 0.04565726, 0.00512642, 0.02310515, 0.01781368,\n",
       "       0.03760012, 0.01795045, 0.00535457, 0.02714392, 0.00793602,\n",
       "       0.10518836, 0.03433333, 0.02768357, 0.00125242, 0.09468883,\n",
       "       0.00111494, 0.0024033 , 0.00063118, 0.01110093, 0.00069005,\n",
       "       0.00383412, 0.00206897, 0.00450629, 0.0105322 , 0.0022454 ,\n",
       "       0.03210416, 0.0257602 , 0.01746932, 0.01143059, 0.01823788,\n",
       "       0.01707455, 0.0263668 , 0.00118269, 0.00475686, 0.00445904,\n",
       "       0.022311  , 0.0152744 , 0.00547176, 0.0038246 , 0.00169316,\n",
       "       0.08352405, 0.0065342 , 0.00800447, 0.05802129, 0.06694602,\n",
       "       0.02379786, 0.04219972, 0.05320806, 0.05864414, 0.06458476,\n",
       "       0.00957146, 0.04439447, 0.        , 0.02116429, 0.00255963,\n",
       "       0.01485144, 0.00899259, 0.01558079, 0.02759486, 0.03360843])"
      ]
     },
     "execution_count": 25,
     "metadata": {},
     "output_type": "execute_result"
    }
   ],
   "source": [
    "df7[:,-1]"
   ]
  },
  {
   "cell_type": "code",
   "execution_count": 26,
   "id": "b2ed9c03",
   "metadata": {},
   "outputs": [
    {
     "data": {
      "text/plain": [
       "array([0.02894024, 0.00748158, 0.00963477, 0.00268818, 0.02177887,\n",
       "       0.00523986, 0.03037841, 0.00052251, 0.00075917, 0.04435336,\n",
       "       0.01534641, 0.02346031, 0.00806429, 0.01770237, 0.02108812,\n",
       "       0.00696438, 0.02065203, 0.02290087, 0.00734753, 0.02314518,\n",
       "       0.06015564, 0.02123487, 0.00676515, 0.00456777, 0.0181856 ,\n",
       "       0.01507559, 0.00092379, 0.01094525, 0.        , 0.00968065,\n",
       "       0.02625507, 0.00833953, 0.01557715, 0.04900859, 0.06594404,\n",
       "       0.03122408, 0.00189872, 0.00916851, 0.04166842, 0.01169266,\n",
       "       0.024011  , 0.01893944, 0.01141501, 0.00088722, 0.0177058 ,\n",
       "       0.01428109, 0.02934322, 0.04370657, 0.05104952, 0.01613959,\n",
       "       0.00193557, 0.02198345, 0.10647915, 0.02079793, 0.01044382,\n",
       "       0.05430922, 0.01413222, 0.01801741, 0.03557864, 0.03637107,\n",
       "       0.0290754 , 0.0154195 , 0.00976135, 0.00469416, 0.02086803,\n",
       "       0.00520906, 0.01238799, 0.00027921, 0.0243068 , 0.01096623,\n",
       "       0.02747273, 0.02257205, 0.068721  , 0.02463822, 0.03295624,\n",
       "       0.04090646, 0.00483395, 0.01273578, 0.13723472, 0.0015478 ,\n",
       "       0.00498918, 0.09875777, 0.00343394, 0.00270243, 0.00427522,\n",
       "       0.07316215, 0.02157643, 0.05569865, 0.01496254])"
      ]
     },
     "execution_count": 26,
     "metadata": {},
     "output_type": "execute_result"
    }
   ],
   "source": [
    "df8[:,-1]"
   ]
  },
  {
   "cell_type": "code",
   "execution_count": null,
   "id": "dede8c3b",
   "metadata": {},
   "outputs": [],
   "source": []
  },
  {
   "cell_type": "code",
   "execution_count": 6,
   "id": "419fad8d",
   "metadata": {},
   "outputs": [
    {
     "data": {
      "text/plain": [
       "(85, 122)"
      ]
     },
     "execution_count": 6,
     "metadata": {},
     "output_type": "execute_result"
    }
   ],
   "source": [
    "df.shape"
   ]
  },
  {
   "cell_type": "code",
   "execution_count": 5,
   "id": "13e0e965",
   "metadata": {},
   "outputs": [],
   "source": []
  },
  {
   "cell_type": "code",
   "execution_count": 8,
   "id": "0b46f39e",
   "metadata": {},
   "outputs": [
    {
     "data": {
      "text/plain": [
       "array([[0., 0., 0., 0., 0., 0., 0., 0., 0., 0., 0.],\n",
       "       [0., 0., 0., 0., 0., 0., 0., 0., 0., 0., 0.],\n",
       "       [0., 0., 0., 0., 0., 0., 0., 0., 0., 0., 0.],\n",
       "       [0., 0., 0., 0., 0., 0., 0., 0., 0., 0., 0.],\n",
       "       [0., 0., 0., 0., 0., 0., 0., 0., 0., 0., 0.],\n",
       "       [0., 0., 0., 0., 0., 1., 0., 0., 0., 0., 0.],\n",
       "       [0., 1., 0., 0., 0., 0., 0., 0., 1., 0., 0.],\n",
       "       [0., 0., 0., 0., 0., 0., 0., 0., 0., 0., 0.],\n",
       "       [0., 0., 0., 0., 0., 0., 0., 0., 1., 0., 0.],\n",
       "       [0., 0., 0., 0., 0., 0., 0., 0., 0., 0., 0.],\n",
       "       [1., 0., 0., 0., 0., 0., 0., 0., 0., 0., 0.]])"
      ]
     },
     "execution_count": 8,
     "metadata": {},
     "output_type": "execute_result"
    }
   ],
   "source": [
    "X[0].reshape(11,11)"
   ]
  },
  {
   "cell_type": "code",
   "execution_count": 14,
   "id": "945d5b58",
   "metadata": {},
   "outputs": [
    {
     "data": {
      "text/plain": [
       "array([[0., 0., 0., 0., 0., 0., 0., 0., 0., 0., 0.],\n",
       "       [0., 0., 0., 0., 0., 0., 0., 0., 0., 0., 0.],\n",
       "       [0., 0., 0., 0., 0., 0., 1., 0., 1., 0., 0.],\n",
       "       [0., 0., 0., 0., 0., 0., 0., 0., 0., 0., 0.],\n",
       "       [0., 0., 0., 0., 0., 0., 0., 0., 0., 0., 0.],\n",
       "       [0., 0., 0., 0., 0., 1., 0., 0., 0., 0., 0.],\n",
       "       [0., 0., 0., 0., 0., 0., 0., 0., 0., 0., 0.],\n",
       "       [0., 0., 0., 0., 0., 0., 0., 0., 0., 0., 0.],\n",
       "       [0., 0., 0., 0., 0., 0., 0., 0., 0., 0., 0.],\n",
       "       [0., 0., 0., 0., 0., 0., 1., 0., 0., 0., 0.],\n",
       "       [0., 0., 0., 0., 0., 0., 0., 0., 0., 0., 1.]])"
      ]
     },
     "execution_count": 14,
     "metadata": {},
     "output_type": "execute_result"
    }
   ],
   "source": [
    "np.rot90(X[0].reshape(11,11), 1)"
   ]
  },
  {
   "cell_type": "code",
   "execution_count": 15,
   "id": "4c8bc491",
   "metadata": {},
   "outputs": [
    {
     "data": {
      "text/plain": [
       "array([[0., 0., 0., 0., 0., 0., 0., 0., 0., 0., 1.],\n",
       "       [0., 0., 0., 0., 0., 0., 0., 0., 0., 0., 0.],\n",
       "       [0., 0., 1., 0., 0., 0., 0., 0., 0., 0., 0.],\n",
       "       [0., 0., 0., 0., 0., 0., 0., 0., 0., 0., 0.],\n",
       "       [0., 0., 1., 0., 0., 0., 0., 0., 0., 1., 0.],\n",
       "       [0., 0., 0., 0., 0., 1., 0., 0., 0., 0., 0.],\n",
       "       [0., 0., 0., 0., 0., 0., 0., 0., 0., 0., 0.],\n",
       "       [0., 0., 0., 0., 0., 0., 0., 0., 0., 0., 0.],\n",
       "       [0., 0., 0., 0., 0., 0., 0., 0., 0., 0., 0.],\n",
       "       [0., 0., 0., 0., 0., 0., 0., 0., 0., 0., 0.],\n",
       "       [0., 0., 0., 0., 0., 0., 0., 0., 0., 0., 0.]])"
      ]
     },
     "execution_count": 15,
     "metadata": {},
     "output_type": "execute_result"
    }
   ],
   "source": [
    "np.rot90(X[0].reshape(11,11), 2)"
   ]
  },
  {
   "cell_type": "code",
   "execution_count": 18,
   "id": "312f0cd4",
   "metadata": {},
   "outputs": [
    {
     "data": {
      "text/plain": [
       "array([[1., 0., 0., 0., 0., 0., 0., 0., 0., 0., 0.],\n",
       "       [0., 0., 0., 0., 1., 0., 0., 0., 0., 0., 0.],\n",
       "       [0., 0., 0., 0., 0., 0., 0., 0., 0., 0., 0.],\n",
       "       [0., 0., 0., 0., 0., 0., 0., 0., 0., 0., 0.],\n",
       "       [0., 0., 0., 0., 0., 0., 0., 0., 0., 0., 0.],\n",
       "       [0., 0., 0., 0., 0., 1., 0., 0., 0., 0., 0.],\n",
       "       [0., 0., 0., 0., 0., 0., 0., 0., 0., 0., 0.],\n",
       "       [0., 0., 0., 0., 0., 0., 0., 0., 0., 0., 0.],\n",
       "       [0., 0., 1., 0., 1., 0., 0., 0., 0., 0., 0.],\n",
       "       [0., 0., 0., 0., 0., 0., 0., 0., 0., 0., 0.],\n",
       "       [0., 0., 0., 0., 0., 0., 0., 0., 0., 0., 0.]])"
      ]
     },
     "execution_count": 18,
     "metadata": {},
     "output_type": "execute_result"
    }
   ],
   "source": [
    "np.rot90(X[0].reshape(11,11), 3)"
   ]
  },
  {
   "cell_type": "code",
   "execution_count": 30,
   "id": "de7a0faa",
   "metadata": {},
   "outputs": [],
   "source": [
    "allRotX = np.vstack((X, np.array(rot90), np.array(rot180), np.array(rot270)))"
   ]
  },
  {
   "cell_type": "code",
   "execution_count": 31,
   "id": "a7686fc5",
   "metadata": {},
   "outputs": [],
   "source": [
    "y = df[:,-1]"
   ]
  },
  {
   "cell_type": "code",
   "execution_count": 35,
   "id": "f5c61d6d",
   "metadata": {},
   "outputs": [],
   "source": [
    "bigY = np.tile(y, 4)"
   ]
  },
  {
   "cell_type": "code",
   "execution_count": 41,
   "id": "693fe7bf",
   "metadata": {},
   "outputs": [],
   "source": [
    "allRotDf = np.hstack((allRotX, bigY.reshape(-1,1)))"
   ]
  },
  {
   "cell_type": "code",
   "execution_count": 43,
   "id": "21716ce3",
   "metadata": {},
   "outputs": [
    {
     "data": {
      "text/plain": [
       "array([  0.,   0.,   0.,   0.,   0.,   0.,   0.,   0.,   0.,   0.,   0.,\n",
       "         0.,   0.,   0.,   0.,   0.,   0.,   0.,   0.,   0.,   0.,   0.,\n",
       "         0.,   0.,   0.,   0.,   0.,   0.,   0.,   0.,   0.,   0.,   0.,\n",
       "         0.,   0.,   0.,   0.,   0.,   0.,   0.,   0.,   0.,   0.,   0.,\n",
       "         0.,   0.,   0.,   0.,   0.,   0.,   0.,   0.,   1.,   0.,   0.,\n",
       "         0.,   0.,   0.,   0.,   0.,   1.,   0.,   0.,   0.,   0.,   0.,\n",
       "         0.,   0.,   0.,   0.,   0.,   0.,   0.,   0.,   0.,   0.,   0.,\n",
       "         0.,   1.,   0.,   0.,   0.,   0.,   1.,   0.,   0.,   0.,   0.,\n",
       "         0.,   0.,   0.,   0.,   0.,   0.,   0.,   1.,   0.,   0.,   0.,\n",
       "         0.,   0.,   0.,   0.,   1.,   0.,   0.,   1.,   0.,   0.,   0.,\n",
       "         0.,   0.,   0.,   0.,   0.,   1.,   1.,   0.,   0.,   0.,   0.,\n",
       "       158.])"
      ]
     },
     "execution_count": 43,
     "metadata": {},
     "output_type": "execute_result"
    }
   ],
   "source": [
    "allRotDf[3]"
   ]
  },
  {
   "cell_type": "code",
   "execution_count": 44,
   "id": "ece06b04",
   "metadata": {},
   "outputs": [
    {
     "data": {
      "text/plain": [
       "array([  0.,   0.,   0.,   0.,   0.,   0.,   0.,   0.,   0.,   0.,   0.,\n",
       "         0.,   0.,   0.,   0.,   0.,   0.,   0.,   0.,   0.,   0.,   0.,\n",
       "         0.,   0.,   1.,   0.,   0.,   0.,   0.,   0.,   0.,   0.,   0.,\n",
       "         0.,   0.,   0.,   0.,   0.,   1.,   0.,   0.,   0.,   0.,   0.,\n",
       "         0.,   0.,   0.,   0.,   0.,   0.,   0.,   0.,   0.,   0.,   0.,\n",
       "         0.,   0.,   0.,   0.,   0.,   1.,   0.,   0.,   1.,   1.,   0.,\n",
       "         0.,   0.,   0.,   0.,   0.,   0.,   0.,   0.,   0.,   0.,   0.,\n",
       "         0.,   0.,   0.,   0.,   0.,   0.,   0.,   0.,   0.,   0.,   0.,\n",
       "         0.,   0.,   0.,   0.,   0.,   1.,   0.,   0.,   0.,   0.,   0.,\n",
       "         0.,   0.,   0.,   0.,   0.,   1.,   0.,   1.,   0.,   0.,   0.,\n",
       "         0.,   0.,   0.,   0.,   0.,   0.,   0.,   0.,   0.,   0.,   0.,\n",
       "       141.])"
      ]
     },
     "execution_count": 44,
     "metadata": {},
     "output_type": "execute_result"
    }
   ],
   "source": [
    "allRotDf[7]"
   ]
  },
  {
   "cell_type": "code",
   "execution_count": 45,
   "id": "c493aaf4",
   "metadata": {},
   "outputs": [
    {
     "data": {
      "text/plain": [
       "array([  0.,   0.,   0.,   0.,   0.,   0.,   0.,   0.,   0.,   0.,   0.,\n",
       "         0.,   0.,   0.,   0.,   0.,   0.,   0.,   0.,   0.,   0.,   0.,\n",
       "         0.,   0.,   0.,   0.,   0.,   0.,   0.,   0.,   0.,   0.,   0.,\n",
       "         0.,   0.,   1.,   0.,   0.,   0.,   0.,   0.,   0.,   0.,   0.,\n",
       "         0.,   0.,   0.,   0.,   0.,   0.,   0.,   0.,   1.,   0.,   0.,\n",
       "         0.,   0.,   1.,   0.,   0.,   1.,   1.,   0.,   0.,   0.,   1.,\n",
       "         0.,   0.,   0.,   0.,   0.,   0.,   0.,   0.,   0.,   0.,   0.,\n",
       "         0.,   0.,   0.,   0.,   0.,   0.,   0.,   0.,   0.,   0.,   0.,\n",
       "         0.,   0.,   1.,   0.,   0.,   0.,   0.,   0.,   0.,   0.,   0.,\n",
       "         0.,   0.,   1.,   0.,   1.,   0.,   0.,   0.,   0.,   0.,   0.,\n",
       "         0.,   0.,   0.,   0.,   0.,   0.,   0.,   0.,   0.,   0.,   0.,\n",
       "       141.])"
      ]
     },
     "execution_count": 45,
     "metadata": {},
     "output_type": "execute_result"
    }
   ],
   "source": [
    "allRotDf[8]"
   ]
  },
  {
   "cell_type": "code",
   "execution_count": 46,
   "id": "36c1a2f5",
   "metadata": {},
   "outputs": [
    {
     "data": {
      "text/plain": [
       "array([  0.,   0.,   0.,   0.,   0.,   0.,   0.,   0.,   0.,   0.,   0.,\n",
       "         0.,   0.,   0.,   0.,   0.,   0.,   0.,   0.,   0.,   0.,   0.,\n",
       "         0.,   0.,   0.,   0.,   0.,   0.,   0.,   0.,   0.,   0.,   0.,\n",
       "         0.,   1.,   0.,   0.,   0.,   0.,   0.,   0.,   0.,   0.,   0.,\n",
       "         0.,   0.,   0.,   0.,   0.,   0.,   0.,   1.,   0.,   0.,   1.,\n",
       "         0.,   1.,   0.,   0.,   1.,   1.,   0.,   0.,   0.,   1.,   0.,\n",
       "         0.,   0.,   0.,   0.,   0.,   0.,   0.,   0.,   0.,   0.,   0.,\n",
       "         0.,   0.,   0.,   0.,   0.,   0.,   0.,   0.,   0.,   0.,   0.,\n",
       "         0.,   1.,   0.,   0.,   0.,   0.,   0.,   0.,   0.,   0.,   1.,\n",
       "         0.,   1.,   0.,   1.,   0.,   0.,   0.,   0.,   0.,   0.,   0.,\n",
       "         0.,   0.,   0.,   0.,   0.,   0.,   0.,   0.,   0.,   0.,   1.,\n",
       "       141.])"
      ]
     },
     "execution_count": 46,
     "metadata": {},
     "output_type": "execute_result"
    }
   ],
   "source": [
    "allRotDf[9]"
   ]
  },
  {
   "cell_type": "code",
   "execution_count": 47,
   "id": "d765566a",
   "metadata": {},
   "outputs": [
    {
     "data": {
      "text/plain": [
       "array([  0.,   0.,   0.,   0.,   0.,   0.,   0.,   0.,   0.,   0.,   0.,\n",
       "         0.,   0.,   0.,   0.,   0.,   0.,   0.,   0.,   0.,   0.,   0.,\n",
       "         0.,   0.,   0.,   0.,   0.,   0.,   0.,   0.,   0.,   0.,   0.,\n",
       "         0.,   0.,   0.,   0.,   0.,   0.,   0.,   0.,   0.,   0.,   0.,\n",
       "         0.,   0.,   0.,   1.,   0.,   0.,   1.,   0.,   0.,   0.,   0.,\n",
       "         1.,   1.,   0.,   0.,   0.,   1.,   0.,   0.,   0.,   0.,   0.,\n",
       "         0.,   0.,   0.,   0.,   0.,   0.,   0.,   0.,   0.,   0.,   0.,\n",
       "         0.,   0.,   0.,   0.,   0.,   0.,   0.,   0.,   0.,   0.,   0.,\n",
       "         0.,   0.,   0.,   0.,   0.,   0.,   1.,   0.,   0.,   0.,   0.,\n",
       "         0.,   0.,   0.,   0.,   0.,   0.,   0.,   0.,   0.,   0.,   0.,\n",
       "         0.,   0.,   0.,   0.,   0.,   0.,   1.,   0.,   0.,   0.,   0.,\n",
       "       141.])"
      ]
     },
     "execution_count": 47,
     "metadata": {},
     "output_type": "execute_result"
    }
   ],
   "source": [
    "allRotDf[10]"
   ]
  },
  {
   "cell_type": "code",
   "execution_count": null,
   "id": "279b4006",
   "metadata": {},
   "outputs": [],
   "source": [
    "# thinking about graphs"
   ]
  },
  {
   "cell_type": "code",
   "execution_count": 49,
   "id": "76ae5d59",
   "metadata": {},
   "outputs": [],
   "source": [
    "cntArcLength = []\n",
    "for i in range(X.shape[0]):\n",
    "    cntArcLength.append((np.sum(X[i].reshape(11,11)), y[i]))"
   ]
  },
  {
   "cell_type": "code",
   "execution_count": 51,
   "id": "7a29e517",
   "metadata": {},
   "outputs": [],
   "source": [
    "cntArcArray = np.array(cntArcLength)"
   ]
  },
  {
   "cell_type": "code",
   "execution_count": null,
   "id": "47ca42a6",
   "metadata": {},
   "outputs": [],
   "source": []
  },
  {
   "cell_type": "code",
   "execution_count": 12,
   "id": "bd2434a4",
   "metadata": {},
   "outputs": [
    {
     "data": {
      "text/plain": [
       "<matplotlib.image.AxesImage at 0x11a22b850>"
      ]
     },
     "execution_count": 12,
     "metadata": {},
     "output_type": "execute_result"
    },
    {
     "data": {
      "image/png": "[encoded data removed]",
      "text/plain": [
       "<Figure size 432x288 with 1 Axes>"
      ]
     },
     "metadata": {
      "needs_background": "light"
     },
     "output_type": "display_data"
    }
   ],
   "source": [
    "plt.imshow(X[13].reshape(11,11))"
   ]
  },
  {
   "cell_type": "code",
   "execution_count": null,
   "id": "07b367fa",
   "metadata": {},
   "outputs": [],
   "source": []
  }
 ],
 "metadata": {
  "kernelspec": {
   "display_name": "neuralTube",
   "language": "python",
   "name": "neuraltube"
  },
  "language_info": {
   "codemirror_mode": {
    "name": "ipython",
    "version": 3
   },
   "file_extension": ".py",
   "mimetype": "text/x-python",
   "name": "python",
   "nbconvert_exporter": "python",
   "pygments_lexer": "ipython3",
   "version": "3.9.6"
  }
 },
 "nbformat": 4,
 "nbformat_minor": 5
}
