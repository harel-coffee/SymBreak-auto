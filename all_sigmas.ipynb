{
 "cells": [
  {
   "cell_type": "code",
   "execution_count": 1,
   "id": "fc78a680",
   "metadata": {},
   "outputs": [],
   "source": [
    "import matplotlib.pyplot as plt\n",
    "import numpy as np\n",
    "import pandas as pd\n",
    "from scipy.spatial.distance import cdist\n",
    "from scipy import ndimage, misc\n",
    "from skimage.morphology import skeletonize\n",
    "import sklearn\n",
    "from sklearn import linear_model\n",
    "from sklearn import model_selection \n",
    "from tqdm import tqdm\n",
    "import cv2\n",
    "import tifffile\n",
    "import cupy as cp\n",
    "import matplotlib\n",
    "from cupyx.scipy import ndimage\n",
    "from sklearn.ensemble import RandomForestRegressor\n",
    "from sklearn.preprocessing import StandardScaler\n",
    "from sklearn.svm import SVR\n",
    "from sklearn.model_selection import cross_val_score\n",
    "from sklearn.gaussian_process import GaussianProcessRegressor\n",
    "from sklearn.gaussian_process.kernels import DotProduct, WhiteKernel\n",
    "from sklearn.ensemble import GradientBoostingRegressor\n",
    "from sklearn import linear_model\n",
    "import random\n",
    "import time\n",
    "from PIL import Image\n",
    "import pickle\n",
    "import itertools"
   ]
  },
  {
   "cell_type": "code",
   "execution_count": 11,
   "id": "39442696",
   "metadata": {},
   "outputs": [],
   "source": [
    "def extract_features(image, sigma, centroids):\n",
    "    mempool = cp.get_default_memory_pool()\n",
    "    pinned_mempool = cp.get_default_pinned_memory_pool()\n",
    "\n",
    "    im_blur = ndimage.gaussian_filter(cp.array(image), sigma=sigma, mode='constant',cval=0)\n",
    "    \n",
    "    im_blur_norm=im_blur*sigma*cp.sqrt(np.pi)\n",
    "\n",
    "    im_sx = ndimage.sobel(im_blur_norm, axis=1, mode='reflect')\n",
    "    im_sy = ndimage.sobel(im_blur_norm, axis=0, mode='reflect')\n",
    "    im_sobel=np.hypot(im_sx, im_sy)\n",
    "\n",
    "    feats = []\n",
    "   \n",
    "    for centroid in centroids:\n",
    "        x, y = centroid[0], centroid[1]\n",
    "        density = cp.nanmean(im_blur_norm[x-75: x+75, y-75: y+75])\n",
    "        grad = cp.nanmean(im_sobel[x-75: x+75, y-75: y+75])\n",
    "        feats.append([density.get(), grad.get()])\n",
    "\n",
    "    mempool.free_all_blocks()\n",
    "    pinned_mempool.free_all_blocks()\n",
    "\n",
    "    feats = np.array(feats)\n",
    "    return feats\n",
    "\n",
    "def generate_window(window_size, p, pad, seed):\n",
    "    np.random.seed(seed)\n",
    "    start = time.time()\n",
    "    random_pattern = np.random.rand(window_size, window_size)\n",
    "    binary_pattern = np.where(random_pattern < p, 1, 0)\n",
    "\n",
    "    org_locs = np.argwhere(binary_pattern == 1)\n",
    "\n",
    "    org_locs_scaled = org_locs*200+pad\n",
    "    pattern_dim_scaled = window_size*200+2*pad\n",
    "    \n",
    "    centroids = []\n",
    "    im = np.zeros((pattern_dim_scaled, pattern_dim_scaled))\n",
    "\n",
    "    for y, x in org_locs_scaled:\n",
    "        im[y:y+150,x:x+150] = 255\n",
    "        centroids.append((y+75, x+75))\n",
    "    \n",
    "    return im, centroids, pattern_dim_scaled"
   ]
  },
  {
   "cell_type": "code",
   "execution_count": 12,
   "id": "b8d6debf",
   "metadata": {},
   "outputs": [],
   "source": [
    "seeds = [3,4,7,8,11,12]\n",
    "#sigmas = list(range(200, 3000, 400))"
   ]
  },
  {
   "cell_type": "code",
   "execution_count": 13,
   "id": "7d0d66f1",
   "metadata": {},
   "outputs": [],
   "source": [
    "sigmas_add = [400, 800]"
   ]
  },
  {
   "cell_type": "code",
   "execution_count": 15,
   "id": "49dfaa68",
   "metadata": {},
   "outputs": [
    {
     "name": "stderr",
     "output_type": "stream",
     "text": [
      "100%|███████████████████████████████████████████████████████| 6/6 [01:53<00:00, 18.85s/it]\n"
     ]
    }
   ],
   "source": [
    "window_size = 40\n",
    "p = 1/16\n",
    "pad = 1000\n",
    "\n",
    "all_feats = []\n",
    "cents = []\n",
    "\n",
    "for seed in tqdm(seeds):\n",
    "    testim, cs, _ = generate_window(window_size, p, pad, seed)\n",
    "    cents.append(cs)\n",
    "    for sigma in sigmas_add:\n",
    "        all_feats.append(extract_features(testim, sigma, cs))\n",
    "        "
   ]
  },
  {
   "cell_type": "code",
   "execution_count": 20,
   "id": "c6607e26",
   "metadata": {},
   "outputs": [],
   "source": [
    "df = []\n",
    "lengths = []\n",
    "centers = []"
   ]
  },
  {
   "cell_type": "code",
   "execution_count": 21,
   "id": "126efd78",
   "metadata": {},
   "outputs": [],
   "source": [
    "centroids_vec = list(itertools.chain.from_iterable(cents))"
   ]
  },
  {
   "cell_type": "code",
   "execution_count": 22,
   "id": "6b36ddd2",
   "metadata": {},
   "outputs": [],
   "source": [
    "x, y = np.array(centroids_vec)[:,0], np.array(centroids_vec)[:,1]"
   ]
  },
  {
   "cell_type": "code",
   "execution_count": 23,
   "id": "08c99555",
   "metadata": {},
   "outputs": [],
   "source": [
    "for i in range(6):\n",
    "    seedx = np.hstack(all_feats[i*2:2*(i+1)])\n",
    "    df.append(seedx)\n",
    "    lengths.append(len(seedx))"
   ]
  },
  {
   "cell_type": "code",
   "execution_count": 24,
   "id": "22c51183",
   "metadata": {},
   "outputs": [
    {
     "data": {
      "text/plain": [
       "[86, 95, 105, 101, 92, 89]"
      ]
     },
     "execution_count": 24,
     "metadata": {},
     "output_type": "execute_result"
    }
   ],
   "source": [
    "lengths"
   ]
  },
  {
   "cell_type": "code",
   "execution_count": 25,
   "id": "bd71f696",
   "metadata": {},
   "outputs": [],
   "source": [
    "seeds_vec = [[seed]*lengths[ix] for ix, seed in enumerate(seeds)]"
   ]
  },
  {
   "cell_type": "code",
   "execution_count": 26,
   "id": "5779ba54",
   "metadata": {},
   "outputs": [],
   "source": [
    "seeds_vec = list(itertools.chain.from_iterable(seeds_vec))"
   ]
  },
  {
   "cell_type": "code",
   "execution_count": 33,
   "id": "08d0d610",
   "metadata": {},
   "outputs": [],
   "source": [
    "sigmas_df = pd.DataFrame(np.vstack(df))"
   ]
  },
  {
   "cell_type": "code",
   "execution_count": 34,
   "id": "e55b9b67",
   "metadata": {},
   "outputs": [
    {
     "data": {
      "text/plain": [
       "(568, 4)"
      ]
     },
     "execution_count": 34,
     "metadata": {},
     "output_type": "execute_result"
    }
   ],
   "source": [
    "sigmas_df.shape"
   ]
  },
  {
   "cell_type": "code",
   "execution_count": 35,
   "id": "c96c8c89",
   "metadata": {},
   "outputs": [],
   "source": [
    "sigmas_df[\"seeds\"] = seeds_vec\n",
    "sigmas_df[\"cx\"] = x\n",
    "sigmas_df[\"cy\"] = y"
   ]
  },
  {
   "cell_type": "code",
   "execution_count": 36,
   "id": "7d371f0d",
   "metadata": {},
   "outputs": [
    {
     "data": {
      "text/html": [
       "<div>\n",
       "<style scoped>\n",
       "    .dataframe tbody tr th:only-of-type {\n",
       "        vertical-align: middle;\n",
       "    }\n",
       "\n",
       "    .dataframe tbody tr th {\n",
       "        vertical-align: top;\n",
       "    }\n",
       "\n",
       "    .dataframe thead th {\n",
       "        text-align: right;\n",
       "    }\n",
       "</style>\n",
       "<table border=\"1\" class=\"dataframe\">\n",
       "  <thead>\n",
       "    <tr style=\"text-align: right;\">\n",
       "      <th></th>\n",
       "      <th>0</th>\n",
       "      <th>1</th>\n",
       "      <th>2</th>\n",
       "      <th>3</th>\n",
       "      <th>seeds</th>\n",
       "      <th>cx</th>\n",
       "      <th>cy</th>\n",
       "    </tr>\n",
       "  </thead>\n",
       "  <tbody>\n",
       "    <tr>\n",
       "      <th>0</th>\n",
       "      <td>7597.341244</td>\n",
       "      <td>70.007968</td>\n",
       "      <td>7265.171755</td>\n",
       "      <td>42.114888</td>\n",
       "      <td>3</td>\n",
       "      <td>1075</td>\n",
       "      <td>2675</td>\n",
       "    </tr>\n",
       "    <tr>\n",
       "      <th>1</th>\n",
       "      <td>7611.521379</td>\n",
       "      <td>67.579849</td>\n",
       "      <td>7536.277455</td>\n",
       "      <td>38.268426</td>\n",
       "      <td>3</td>\n",
       "      <td>1075</td>\n",
       "      <td>3075</td>\n",
       "    </tr>\n",
       "    <tr>\n",
       "      <th>2</th>\n",
       "      <td>4215.056702</td>\n",
       "      <td>13.497684</td>\n",
       "      <td>6278.532303</td>\n",
       "      <td>46.010267</td>\n",
       "      <td>3</td>\n",
       "      <td>1075</td>\n",
       "      <td>4275</td>\n",
       "    </tr>\n",
       "    <tr>\n",
       "      <th>3</th>\n",
       "      <td>6942.516611</td>\n",
       "      <td>95.255350</td>\n",
       "      <td>8365.924466</td>\n",
       "      <td>67.548575</td>\n",
       "      <td>3</td>\n",
       "      <td>1275</td>\n",
       "      <td>6275</td>\n",
       "    </tr>\n",
       "    <tr>\n",
       "      <th>4</th>\n",
       "      <td>5505.440377</td>\n",
       "      <td>46.367691</td>\n",
       "      <td>5316.481195</td>\n",
       "      <td>40.382193</td>\n",
       "      <td>3</td>\n",
       "      <td>1475</td>\n",
       "      <td>8875</td>\n",
       "    </tr>\n",
       "  </tbody>\n",
       "</table>\n",
       "</div>"
      ],
      "text/plain": [
       "             0          1            2          3  seeds    cx    cy\n",
       "0  7597.341244  70.007968  7265.171755  42.114888      3  1075  2675\n",
       "1  7611.521379  67.579849  7536.277455  38.268426      3  1075  3075\n",
       "2  4215.056702  13.497684  6278.532303  46.010267      3  1075  4275\n",
       "3  6942.516611  95.255350  8365.924466  67.548575      3  1275  6275\n",
       "4  5505.440377  46.367691  5316.481195  40.382193      3  1475  8875"
      ]
     },
     "execution_count": 36,
     "metadata": {},
     "output_type": "execute_result"
    }
   ],
   "source": [
    "sigmas_df.head()"
   ]
  },
  {
   "cell_type": "code",
   "execution_count": 37,
   "id": "b40ad60d",
   "metadata": {},
   "outputs": [],
   "source": [
    "titles = [str(sigma)+\"_\"+feat for sigma in sigmas_add for feat in [\"density\", \"grad\"]]"
   ]
  },
  {
   "cell_type": "code",
   "execution_count": 38,
   "id": "a1364686",
   "metadata": {},
   "outputs": [],
   "source": [
    "titles.extend([\"seeds\", \"cx\", \"cy\"])"
   ]
  },
  {
   "cell_type": "code",
   "execution_count": 39,
   "id": "d03c7b1e",
   "metadata": {},
   "outputs": [
    {
     "data": {
      "text/plain": [
       "['400_density', '400_grad', '800_density', '800_grad', 'seeds', 'cx', 'cy']"
      ]
     },
     "execution_count": 39,
     "metadata": {},
     "output_type": "execute_result"
    }
   ],
   "source": [
    "titles"
   ]
  },
  {
   "cell_type": "code",
   "execution_count": 40,
   "id": "6c0edcdd",
   "metadata": {},
   "outputs": [],
   "source": [
    "sigmas_df.columns = titles"
   ]
  },
  {
   "cell_type": "code",
   "execution_count": 41,
   "id": "32fbb7c0",
   "metadata": {},
   "outputs": [
    {
     "data": {
      "text/html": [
       "<div>\n",
       "<style scoped>\n",
       "    .dataframe tbody tr th:only-of-type {\n",
       "        vertical-align: middle;\n",
       "    }\n",
       "\n",
       "    .dataframe tbody tr th {\n",
       "        vertical-align: top;\n",
       "    }\n",
       "\n",
       "    .dataframe thead th {\n",
       "        text-align: right;\n",
       "    }\n",
       "</style>\n",
       "<table border=\"1\" class=\"dataframe\">\n",
       "  <thead>\n",
       "    <tr style=\"text-align: right;\">\n",
       "      <th></th>\n",
       "      <th>400_density</th>\n",
       "      <th>400_grad</th>\n",
       "      <th>800_density</th>\n",
       "      <th>800_grad</th>\n",
       "      <th>seeds</th>\n",
       "      <th>cx</th>\n",
       "      <th>cy</th>\n",
       "    </tr>\n",
       "  </thead>\n",
       "  <tbody>\n",
       "    <tr>\n",
       "      <th>0</th>\n",
       "      <td>7597.341244</td>\n",
       "      <td>70.007968</td>\n",
       "      <td>7265.171755</td>\n",
       "      <td>42.114888</td>\n",
       "      <td>3</td>\n",
       "      <td>1075</td>\n",
       "      <td>2675</td>\n",
       "    </tr>\n",
       "    <tr>\n",
       "      <th>1</th>\n",
       "      <td>7611.521379</td>\n",
       "      <td>67.579849</td>\n",
       "      <td>7536.277455</td>\n",
       "      <td>38.268426</td>\n",
       "      <td>3</td>\n",
       "      <td>1075</td>\n",
       "      <td>3075</td>\n",
       "    </tr>\n",
       "    <tr>\n",
       "      <th>2</th>\n",
       "      <td>4215.056702</td>\n",
       "      <td>13.497684</td>\n",
       "      <td>6278.532303</td>\n",
       "      <td>46.010267</td>\n",
       "      <td>3</td>\n",
       "      <td>1075</td>\n",
       "      <td>4275</td>\n",
       "    </tr>\n",
       "    <tr>\n",
       "      <th>3</th>\n",
       "      <td>6942.516611</td>\n",
       "      <td>95.255350</td>\n",
       "      <td>8365.924466</td>\n",
       "      <td>67.548575</td>\n",
       "      <td>3</td>\n",
       "      <td>1275</td>\n",
       "      <td>6275</td>\n",
       "    </tr>\n",
       "    <tr>\n",
       "      <th>4</th>\n",
       "      <td>5505.440377</td>\n",
       "      <td>46.367691</td>\n",
       "      <td>5316.481195</td>\n",
       "      <td>40.382193</td>\n",
       "      <td>3</td>\n",
       "      <td>1475</td>\n",
       "      <td>8875</td>\n",
       "    </tr>\n",
       "  </tbody>\n",
       "</table>\n",
       "</div>"
      ],
      "text/plain": [
       "   400_density   400_grad  800_density   800_grad  seeds    cx    cy\n",
       "0  7597.341244  70.007968  7265.171755  42.114888      3  1075  2675\n",
       "1  7611.521379  67.579849  7536.277455  38.268426      3  1075  3075\n",
       "2  4215.056702  13.497684  6278.532303  46.010267      3  1075  4275\n",
       "3  6942.516611  95.255350  8365.924466  67.548575      3  1275  6275\n",
       "4  5505.440377  46.367691  5316.481195  40.382193      3  1475  8875"
      ]
     },
     "execution_count": 41,
     "metadata": {},
     "output_type": "execute_result"
    }
   ],
   "source": [
    "sigmas_df.head()"
   ]
  },
  {
   "cell_type": "code",
   "execution_count": 42,
   "id": "c13d9890",
   "metadata": {},
   "outputs": [],
   "source": [
    "sigmas_df.to_csv(\"sigmas_400_800_df.csv\", index=False)"
   ]
  },
  {
   "cell_type": "code",
   "execution_count": 43,
   "id": "08b75312",
   "metadata": {},
   "outputs": [],
   "source": [
    "df = pd.read_csv(\"sigmas_400_800_df.csv\")"
   ]
  },
  {
   "cell_type": "code",
   "execution_count": 44,
   "id": "a5646bb8",
   "metadata": {},
   "outputs": [
    {
     "data": {
      "text/html": [
       "<div>\n",
       "<style scoped>\n",
       "    .dataframe tbody tr th:only-of-type {\n",
       "        vertical-align: middle;\n",
       "    }\n",
       "\n",
       "    .dataframe tbody tr th {\n",
       "        vertical-align: top;\n",
       "    }\n",
       "\n",
       "    .dataframe thead th {\n",
       "        text-align: right;\n",
       "    }\n",
       "</style>\n",
       "<table border=\"1\" class=\"dataframe\">\n",
       "  <thead>\n",
       "    <tr style=\"text-align: right;\">\n",
       "      <th></th>\n",
       "      <th>400_density</th>\n",
       "      <th>400_grad</th>\n",
       "      <th>800_density</th>\n",
       "      <th>800_grad</th>\n",
       "      <th>seeds</th>\n",
       "      <th>cx</th>\n",
       "      <th>cy</th>\n",
       "    </tr>\n",
       "  </thead>\n",
       "  <tbody>\n",
       "    <tr>\n",
       "      <th>0</th>\n",
       "      <td>7597.341244</td>\n",
       "      <td>70.007968</td>\n",
       "      <td>7265.171755</td>\n",
       "      <td>42.114888</td>\n",
       "      <td>3</td>\n",
       "      <td>1075</td>\n",
       "      <td>2675</td>\n",
       "    </tr>\n",
       "    <tr>\n",
       "      <th>1</th>\n",
       "      <td>7611.521379</td>\n",
       "      <td>67.579849</td>\n",
       "      <td>7536.277455</td>\n",
       "      <td>38.268426</td>\n",
       "      <td>3</td>\n",
       "      <td>1075</td>\n",
       "      <td>3075</td>\n",
       "    </tr>\n",
       "    <tr>\n",
       "      <th>2</th>\n",
       "      <td>4215.056702</td>\n",
       "      <td>13.497684</td>\n",
       "      <td>6278.532303</td>\n",
       "      <td>46.010267</td>\n",
       "      <td>3</td>\n",
       "      <td>1075</td>\n",
       "      <td>4275</td>\n",
       "    </tr>\n",
       "    <tr>\n",
       "      <th>3</th>\n",
       "      <td>6942.516611</td>\n",
       "      <td>95.255350</td>\n",
       "      <td>8365.924466</td>\n",
       "      <td>67.548575</td>\n",
       "      <td>3</td>\n",
       "      <td>1275</td>\n",
       "      <td>6275</td>\n",
       "    </tr>\n",
       "    <tr>\n",
       "      <th>4</th>\n",
       "      <td>5505.440377</td>\n",
       "      <td>46.367691</td>\n",
       "      <td>5316.481195</td>\n",
       "      <td>40.382193</td>\n",
       "      <td>3</td>\n",
       "      <td>1475</td>\n",
       "      <td>8875</td>\n",
       "    </tr>\n",
       "  </tbody>\n",
       "</table>\n",
       "</div>"
      ],
      "text/plain": [
       "   400_density   400_grad  800_density   800_grad  seeds    cx    cy\n",
       "0  7597.341244  70.007968  7265.171755  42.114888      3  1075  2675\n",
       "1  7611.521379  67.579849  7536.277455  38.268426      3  1075  3075\n",
       "2  4215.056702  13.497684  6278.532303  46.010267      3  1075  4275\n",
       "3  6942.516611  95.255350  8365.924466  67.548575      3  1275  6275\n",
       "4  5505.440377  46.367691  5316.481195  40.382193      3  1475  8875"
      ]
     },
     "execution_count": 44,
     "metadata": {},
     "output_type": "execute_result"
    }
   ],
   "source": [
    "df.head()"
   ]
  },
  {
   "cell_type": "code",
   "execution_count": 45,
   "id": "aea424e5",
   "metadata": {},
   "outputs": [
    {
     "data": {
      "text/html": [
       "<div>\n",
       "<style scoped>\n",
       "    .dataframe tbody tr th:only-of-type {\n",
       "        vertical-align: middle;\n",
       "    }\n",
       "\n",
       "    .dataframe tbody tr th {\n",
       "        vertical-align: top;\n",
       "    }\n",
       "\n",
       "    .dataframe thead th {\n",
       "        text-align: right;\n",
       "    }\n",
       "</style>\n",
       "<table border=\"1\" class=\"dataframe\">\n",
       "  <thead>\n",
       "    <tr style=\"text-align: right;\">\n",
       "      <th></th>\n",
       "      <th>400_density</th>\n",
       "      <th>400_grad</th>\n",
       "      <th>800_density</th>\n",
       "      <th>800_grad</th>\n",
       "      <th>seeds</th>\n",
       "      <th>cx</th>\n",
       "      <th>cy</th>\n",
       "    </tr>\n",
       "  </thead>\n",
       "  <tbody>\n",
       "    <tr>\n",
       "      <th>count</th>\n",
       "      <td>568.000000</td>\n",
       "      <td>568.000000</td>\n",
       "      <td>568.000000</td>\n",
       "      <td>568.000000</td>\n",
       "      <td>568.000000</td>\n",
       "      <td>568.000000</td>\n",
       "      <td>568.000000</td>\n",
       "    </tr>\n",
       "    <tr>\n",
       "      <th>mean</th>\n",
       "      <td>9270.414653</td>\n",
       "      <td>59.281641</td>\n",
       "      <td>11907.524348</td>\n",
       "      <td>35.422275</td>\n",
       "      <td>7.501761</td>\n",
       "      <td>4878.169014</td>\n",
       "      <td>5043.661972</td>\n",
       "    </tr>\n",
       "    <tr>\n",
       "      <th>std</th>\n",
       "      <td>3298.936463</td>\n",
       "      <td>35.139654</td>\n",
       "      <td>3266.924160</td>\n",
       "      <td>18.138519</td>\n",
       "      <td>3.221948</td>\n",
       "      <td>2326.457858</td>\n",
       "      <td>2322.211659</td>\n",
       "    </tr>\n",
       "    <tr>\n",
       "      <th>min</th>\n",
       "      <td>3975.720227</td>\n",
       "      <td>8.630093</td>\n",
       "      <td>3202.038211</td>\n",
       "      <td>2.673049</td>\n",
       "      <td>3.000000</td>\n",
       "      <td>1075.000000</td>\n",
       "      <td>1075.000000</td>\n",
       "    </tr>\n",
       "    <tr>\n",
       "      <th>25%</th>\n",
       "      <td>6974.096415</td>\n",
       "      <td>35.240284</td>\n",
       "      <td>9754.310177</td>\n",
       "      <td>20.725176</td>\n",
       "      <td>4.000000</td>\n",
       "      <td>2825.000000</td>\n",
       "      <td>3025.000000</td>\n",
       "    </tr>\n",
       "    <tr>\n",
       "      <th>50%</th>\n",
       "      <td>8766.101162</td>\n",
       "      <td>52.777908</td>\n",
       "      <td>11748.281796</td>\n",
       "      <td>34.296799</td>\n",
       "      <td>7.000000</td>\n",
       "      <td>4675.000000</td>\n",
       "      <td>5075.000000</td>\n",
       "    </tr>\n",
       "    <tr>\n",
       "      <th>75%</th>\n",
       "      <td>11069.085007</td>\n",
       "      <td>74.072266</td>\n",
       "      <td>14059.979495</td>\n",
       "      <td>48.209166</td>\n",
       "      <td>11.000000</td>\n",
       "      <td>7075.000000</td>\n",
       "      <td>7075.000000</td>\n",
       "    </tr>\n",
       "    <tr>\n",
       "      <th>max</th>\n",
       "      <td>26235.030301</td>\n",
       "      <td>235.986109</td>\n",
       "      <td>22290.200567</td>\n",
       "      <td>104.498116</td>\n",
       "      <td>12.000000</td>\n",
       "      <td>8875.000000</td>\n",
       "      <td>8875.000000</td>\n",
       "    </tr>\n",
       "  </tbody>\n",
       "</table>\n",
       "</div>"
      ],
      "text/plain": [
       "        400_density    400_grad   800_density    800_grad       seeds  \\\n",
       "count    568.000000  568.000000    568.000000  568.000000  568.000000   \n",
       "mean    9270.414653   59.281641  11907.524348   35.422275    7.501761   \n",
       "std     3298.936463   35.139654   3266.924160   18.138519    3.221948   \n",
       "min     3975.720227    8.630093   3202.038211    2.673049    3.000000   \n",
       "25%     6974.096415   35.240284   9754.310177   20.725176    4.000000   \n",
       "50%     8766.101162   52.777908  11748.281796   34.296799    7.000000   \n",
       "75%    11069.085007   74.072266  14059.979495   48.209166   11.000000   \n",
       "max    26235.030301  235.986109  22290.200567  104.498116   12.000000   \n",
       "\n",
       "                cx           cy  \n",
       "count   568.000000   568.000000  \n",
       "mean   4878.169014  5043.661972  \n",
       "std    2326.457858  2322.211659  \n",
       "min    1075.000000  1075.000000  \n",
       "25%    2825.000000  3025.000000  \n",
       "50%    4675.000000  5075.000000  \n",
       "75%    7075.000000  7075.000000  \n",
       "max    8875.000000  8875.000000  "
      ]
     },
     "execution_count": 45,
     "metadata": {},
     "output_type": "execute_result"
    }
   ],
   "source": [
    "df.describe()"
   ]
  },
  {
   "cell_type": "code",
   "execution_count": null,
   "id": "ed7197b8",
   "metadata": {},
   "outputs": [],
   "source": []
  }
 ],
 "metadata": {
  "kernelspec": {
   "display_name": "pytorch",
   "language": "python",
   "name": "pytorch"
  },
  "language_info": {
   "codemirror_mode": {
    "name": "ipython",
    "version": 3
   },
   "file_extension": ".py",
   "mimetype": "text/x-python",
   "name": "python",
   "nbconvert_exporter": "python",
   "pygments_lexer": "ipython3",
   "version": "3.9.7"
  }
 },
 "nbformat": 4,
 "nbformat_minor": 5
}
