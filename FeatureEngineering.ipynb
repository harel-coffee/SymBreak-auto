{
 "cells": [
  {
   "cell_type": "code",
   "execution_count": 1,
   "id": "36dfa913",
   "metadata": {},
   "outputs": [],
   "source": [
    "import numpy as np\n",
    "import pandas as pd\n",
    "import matplotlib.pyplot as plt\n",
    "import cv2 as cv\n",
    "import cupy as cp\n",
    "from cupyx.scipy import ndimage\n",
    "import matplotlib\n",
    "from sklearn.preprocessing import StandardScaler"
   ]
  },
  {
   "cell_type": "code",
   "execution_count": 31,
   "id": "851c8ceb",
   "metadata": {},
   "outputs": [],
   "source": [
    "def avg_morphology(im, centroids, org_rad, sigma):\n",
    "    feats = []\n",
    "    \n",
    "    d = org_rad + sigma\n",
    "    for (c1, c2) in centroids:\n",
    "        x = int(c2)\n",
    "        y = int(c1)\n",
    "        avg = np.mean(im[x-d: x+d, y-d: y+d])\n",
    "        assert(~np.isnan(avg))\n",
    "        feats.append(avg.get())\n",
    "\n",
    "    feats = np.array(feats).reshape(-1,1)\n",
    "    return feats"
   ]
  },
  {
   "cell_type": "code",
   "execution_count": 32,
   "id": "68de4516",
   "metadata": {},
   "outputs": [],
   "source": [
    "from skimage.measure import block_reduce\n",
    "def avg_pooling(im, centroids, org_rad, sigma, name=None):\n",
    "    feats = []\n",
    "    d = org_rad + sigma\n",
    "    \n",
    "    feats = []\n",
    "    for (c1, c2) in centroids:\n",
    "        x = int(c2)\n",
    "        y = int(c1)\n",
    "        window = im[x-d: x+d, y-d: y+d]\n",
    "        window = window.get()\n",
    "        \n",
    "        # incoming 550 by 550 image\n",
    "        window_reduc = block_reduce(window, (2,2), np.mean)\n",
    "        window_reduc = block_reduce(window_reduc, (11,11), np.mean)\n",
    "        window_reduc = block_reduce(window_reduc, (5,5), np.mean)\n",
    "        # output 5 by 5 image\n",
    "        \n",
    "        feats.append(window_reduc.flatten())\n",
    "        \n",
    "                \n",
    "    return np.array(feats)"
   ]
  },
  {
   "cell_type": "code",
   "execution_count": 33,
   "id": "358d9339",
   "metadata": {},
   "outputs": [],
   "source": [
    "def extract_features(sigma, centroids, pad=500, org_rad=75):\n",
    "    mempool = cp.get_default_memory_pool()\n",
    "    pinned_mempool = cp.get_default_pinned_memory_pool()\n",
    "    \n",
    "    max_coord = int(np.max(centroids))\n",
    "    min_coord = int(np.min(centroids))\n",
    "    \n",
    "    image = np.zeros((max_coord + min_coord + pad*2, max_coord + min_coord + pad*2))\n",
    "    dCentroids_scaled = centroids+pad\n",
    "    \n",
    "    for (c1, c2) in dCentroids_scaled:\n",
    "        x = int(c2)\n",
    "        y = int(c1)\n",
    "        image[x-org_rad:x+org_rad, y-org_rad:y+org_rad] = 255\n",
    "    \n",
    "    im = cp.array(image)\n",
    "    im_blur = ndimage.gaussian_filter(im, sigma=sigma, mode = 'constant')\n",
    "    sobel = ndimage.gaussian_gradient_magnitude(im, sigma=sigma, mode = 'constant')\n",
    "    laplace = ndimage.gaussian_laplace(im, sigma=sigma, mode = 'constant')\n",
    "\n",
    "    dfeats = avg_morphology(im_blur, dCentroids_scaled, org_rad, sigma)\n",
    "    gfeats = avg_morphology(sobel, dCentroids_scaled, org_rad, sigma)\n",
    "    lfeats = avg_morphology(laplace, dCentroids_scaled, org_rad, sigma)\n",
    "    \n",
    "    feats = np.hstack([dfeats, gfeats, lfeats])\n",
    "    return feats"
   ]
  },
  {
   "cell_type": "markdown",
   "id": "abf952fc",
   "metadata": {},
   "source": [
    "# Round 1 "
   ]
  },
  {
   "cell_type": "code",
   "execution_count": 34,
   "id": "8f019c0a",
   "metadata": {},
   "outputs": [],
   "source": [
    "density_cols = [\"d\"+str(i) for i in range(1,26)]\n",
    "grad_cols = [\"g\"+str(i) for i in range(1,26)]"
   ]
  },
  {
   "cell_type": "code",
   "execution_count": 35,
   "id": "825db3c9",
   "metadata": {},
   "outputs": [],
   "source": [
    "all_cols = density_cols + grad_cols"
   ]
  },
  {
   "cell_type": "code",
   "execution_count": 36,
   "id": "468de13c",
   "metadata": {},
   "outputs": [],
   "source": [
    "df1 = pd.read_csv(\"datasets/round_1/combined/big_df1.csv\")\n",
    "df2 = pd.read_csv(\"datasets/round_1/combined/big_df2.csv\")\n",
    "df3 = pd.read_csv(\"datasets/round_1/combined/big_df3.csv\")\n",
    "df4 = pd.read_csv(\"datasets/round_1/combined/big_df4.csv\")\n",
    "df5 = pd.read_csv(\"datasets/round_1/combined/big_df5.csv\")\n",
    "df6 = pd.read_csv(\"datasets/round_1/combined/big_df6.csv\")"
   ]
  },
  {
   "cell_type": "code",
   "execution_count": 42,
   "id": "fbcd0722",
   "metadata": {},
   "outputs": [],
   "source": [
    "dfs = [df1, df2, df3, df4, df5, df6]\n",
    "all_feats = []\n",
    "all_targets = []\n",
    "for df in dfs:\n",
    "    dcoords = np.array(list(zip(df.dx.values, df.dy.values)))\n",
    "    sigma_feats = []\n",
    "    for sigma in [100, 200, 300, 400, 500]:\n",
    "        feats = extract_features(sigma, dcoords)\n",
    "        sigma_feats.append(feats)\n",
    "    targs = df.iloc[:, 14:16].values\n",
    "    sigma_feats = np.hstack(sigma_feats)\n",
    "    all_feats.append(sigma_feats)\n",
    "    all_targets.append(targs)\n",
    "\n",
    "all_feats = np.vstack(all_feats)\n",
    "all_targets = np.vstack(all_targets)"
   ]
  },
  {
   "cell_type": "code",
   "execution_count": 43,
   "id": "4f3822d2",
   "metadata": {},
   "outputs": [
    {
     "data": {
      "text/plain": [
       "(1826, 15)"
      ]
     },
     "execution_count": 43,
     "metadata": {},
     "output_type": "execute_result"
    }
   ],
   "source": [
    "all_feats.shape"
   ]
  },
  {
   "cell_type": "code",
   "execution_count": 44,
   "id": "95457680",
   "metadata": {},
   "outputs": [
    {
     "data": {
      "text/plain": [
       "(1826, 2)"
      ]
     },
     "execution_count": 44,
     "metadata": {},
     "output_type": "execute_result"
    }
   ],
   "source": [
    "all_targets.shape"
   ]
  },
  {
   "cell_type": "code",
   "execution_count": 54,
   "id": "5c8d013f",
   "metadata": {},
   "outputs": [],
   "source": [
    "scaler = StandardScaler()"
   ]
  },
  {
   "cell_type": "code",
   "execution_count": 55,
   "id": "1672d64a",
   "metadata": {},
   "outputs": [],
   "source": [
    "names = []\n",
    "for sig in [100, 200, 300, 400, 500]:\n",
    "    dname = 'd'+str(sig)\n",
    "    gname = 'g'+str(sig)\n",
    "    lname = 'l'+str(sig)\n",
    "    names.append(dname)\n",
    "    names.append(gname)\n",
    "    names.append(lname)"
   ]
  },
  {
   "cell_type": "code",
   "execution_count": 56,
   "id": "91ba541b",
   "metadata": {},
   "outputs": [
    {
     "data": {
      "text/plain": [
       "15"
      ]
     },
     "execution_count": 56,
     "metadata": {},
     "output_type": "execute_result"
    }
   ],
   "source": [
    "len(names)"
   ]
  },
  {
   "cell_type": "code",
   "execution_count": 57,
   "id": "cd20fd98",
   "metadata": {},
   "outputs": [],
   "source": [
    "round1_avg_dens_grad_targs = pd.DataFrame(np.hstack([all_feats, all_targets]), columns=names+[\"Dipole\"]+[\"Elongation\"])"
   ]
  },
  {
   "cell_type": "code",
   "execution_count": 58,
   "id": "637cd25e",
   "metadata": {},
   "outputs": [],
   "source": [
    "round1_avg_dens_grad_targs_stdScl = pd.DataFrame(np.hstack([scaler.fit_transform(all_feats), all_targets]), columns=names+[\"Dipole\"]+[\"Elongation\"])"
   ]
  },
  {
   "cell_type": "code",
   "execution_count": 29,
   "id": "449a9bed",
   "metadata": {},
   "outputs": [],
   "source": [
    "#avg_dens_grad_targs = pd.DataFrame(np.hstack([all_feats, all_targets]), columns=all_cols+[\"Dipole\"]+[\"Elongation\"])\n",
    "avg_dens_grad_dipole = pd.DataFrame(np.hstack([all_feats, all_targets[:, 0].reshape(-1,1)]), columns=all_cols+[\"Dipole\"])\n",
    "#avg_dens_grad_elong = pd.DataFrame(np.hstack([all_feats, all_targets[:, 1].reshape(-1,1)]), columns=all_cols+[\"Elongation\"])\n",
    "#avg_dens_dipole = pd.DataFrame(np.hstack([all_feats[:, :25], all_targets[:, 0].reshape(-1,1)]), columns=all_cols[:25]+[\"Dipole\"])\n",
    "#avg_dens_elong = pd.DataFrame(np.hstack([all_feats[:,:25], all_targets[:, 1].reshape(-1,1)]), columns=all_cols[:25]+[\"Elongation\"])\n",
    "#avg_grad_dipole = pd.DataFrame(np.hstack([all_feats[:,25:], all_targets[:, 0].reshape(-1,1)]), columns=all_cols[25:]+[\"Dipole\"])\n",
    "#avg_grad_elong = pd.DataFrame(np.hstack([all_feats[:,25:], all_targets[:, 1].reshape(-1,1)]), columns=all_cols[25:]+[\"Elongation\"])\n"
   ]
  },
  {
   "cell_type": "code",
   "execution_count": 59,
   "id": "3ac36991",
   "metadata": {},
   "outputs": [],
   "source": [
    "round1_avg_dens_grad_targs.to_csv(\"round1_avg_dens_grad_targs.csv\", index=False)"
   ]
  },
  {
   "cell_type": "code",
   "execution_count": 60,
   "id": "67536e0b",
   "metadata": {},
   "outputs": [],
   "source": [
    "round1_avg_dens_grad_targs_stdScl.to_csv(\"round1_avg_dens_grad_targs_stdScl.csv\", index=False)"
   ]
  },
  {
   "cell_type": "code",
   "execution_count": 61,
   "id": "939c1d0e",
   "metadata": {},
   "outputs": [
    {
     "data": {
      "text/plain": [
       "(1826, 17)"
      ]
     },
     "execution_count": 61,
     "metadata": {},
     "output_type": "execute_result"
    }
   ],
   "source": [
    "round1_avg_dens_grad_targs_stdScl.shape"
   ]
  },
  {
   "cell_type": "markdown",
   "id": "9ff7039b",
   "metadata": {},
   "source": [
    "# Repeat for Round 0"
   ]
  },
  {
   "cell_type": "code",
   "execution_count": 67,
   "id": "2a25537c",
   "metadata": {},
   "outputs": [],
   "source": [
    "df0 = pd.read_csv(\"datasets/round_0/combined/all_sigmas_df_comb.csv\")"
   ]
  },
  {
   "cell_type": "code",
   "execution_count": 68,
   "id": "cc310d34",
   "metadata": {},
   "outputs": [],
   "source": [
    "useeds = np.unique(df0.seeds)"
   ]
  },
  {
   "cell_type": "code",
   "execution_count": 69,
   "id": "75f219b9",
   "metadata": {
    "scrolled": true
   },
   "outputs": [],
   "source": [
    "all_feats = []\n",
    "all_targets = []\n",
    "for seed in useeds:\n",
    "    df = df0[df0.seeds == seed]\n",
    "    dcoords = np.array(list(zip(df.cx.values, df.cy.values)))\n",
    "    \n",
    "    sigma_feats = []\n",
    "    for sigma in [100, 200, 300, 400, 500]:\n",
    "        feats = extract_features(200, dcoords)\n",
    "        sigma_feats.append(feats)\n",
    "    \n",
    "    targs = df.iloc[:, -1].values\n",
    "    all_feats.append(np.hstack(sigma_feats))\n",
    "    all_targets.append(targs)"
   ]
  },
  {
   "cell_type": "code",
   "execution_count": 70,
   "id": "2c6a135e",
   "metadata": {},
   "outputs": [],
   "source": [
    "all_feats = np.vstack(all_feats)"
   ]
  },
  {
   "cell_type": "code",
   "execution_count": 71,
   "id": "3b686951",
   "metadata": {},
   "outputs": [
    {
     "data": {
      "text/plain": [
       "(568, 15)"
      ]
     },
     "execution_count": 71,
     "metadata": {},
     "output_type": "execute_result"
    }
   ],
   "source": [
    "all_feats.shape"
   ]
  },
  {
   "cell_type": "code",
   "execution_count": 75,
   "id": "75224c6b",
   "metadata": {},
   "outputs": [],
   "source": [
    "all_targs = np.concatenate(all_targets, axis = 0)"
   ]
  },
  {
   "cell_type": "code",
   "execution_count": 76,
   "id": "20fe12f7",
   "metadata": {},
   "outputs": [
    {
     "data": {
      "text/plain": [
       "(568,)"
      ]
     },
     "execution_count": 76,
     "metadata": {},
     "output_type": "execute_result"
    }
   ],
   "source": [
    "all_targs.shape"
   ]
  },
  {
   "cell_type": "code",
   "execution_count": 82,
   "id": "09dc8ff2",
   "metadata": {},
   "outputs": [],
   "source": [
    "round_0 = pd.DataFrame(np.hstack([all_feats, all_targs.reshape(-1,1)]), columns=names+[\"Dipole\"])"
   ]
  },
  {
   "cell_type": "code",
   "execution_count": 83,
   "id": "1a4e7f53",
   "metadata": {},
   "outputs": [],
   "source": [
    "round_0.to_csv(\"datasets/round_0/combined/round0_avg_dens_grad_lap_dipole.csv\", index=False)"
   ]
  },
  {
   "cell_type": "code",
   "execution_count": 84,
   "id": "f81266ba",
   "metadata": {},
   "outputs": [],
   "source": [
    "round_0scl = pd.DataFrame(np.hstack([scaler.fit_transform(all_feats), all_targs.reshape(-1,1)]), columns=names+[\"Dipole\"])"
   ]
  },
  {
   "cell_type": "code",
   "execution_count": 85,
   "id": "f19d04e1",
   "metadata": {},
   "outputs": [],
   "source": [
    "round_0scl.to_csv(\"datasets/round_0/combined/round0_avg_dens_grad_lap_dipole_stdScl.csv\", index=False)"
   ]
  },
  {
   "cell_type": "markdown",
   "id": "81e5e76d",
   "metadata": {},
   "source": [
    "# Pooling: Combine Round0 and Round1 "
   ]
  },
  {
   "cell_type": "code",
   "execution_count": 139,
   "id": "5e8e002c",
   "metadata": {},
   "outputs": [],
   "source": [
    "df1 = pd.read_csv(\"datasets/round_1/combined/round1_pool_dens_grad_dipole.csv\")"
   ]
  },
  {
   "cell_type": "code",
   "execution_count": 140,
   "id": "330f99b1",
   "metadata": {},
   "outputs": [
    {
     "data": {
      "text/plain": [
       "(1826, 51)"
      ]
     },
     "execution_count": 140,
     "metadata": {},
     "output_type": "execute_result"
    }
   ],
   "source": [
    "df1.shape"
   ]
  },
  {
   "cell_type": "code",
   "execution_count": 141,
   "id": "880d8bd2",
   "metadata": {},
   "outputs": [],
   "source": [
    "df_c = pd.concat([round_0, df1], axis = 0)"
   ]
  },
  {
   "cell_type": "code",
   "execution_count": 109,
   "id": "54a3c43a",
   "metadata": {},
   "outputs": [],
   "source": [
    "df_c.to_csv(\"datasets/round_1/combined/combined_pool_dens_grad_dipole.csv\", index = False)"
   ]
  },
  {
   "cell_type": "code",
   "execution_count": 110,
   "id": "fbfe746b",
   "metadata": {},
   "outputs": [],
   "source": [
    "df_c_d = pd.concat([df_c.iloc[:, :25], df_c.iloc[:, -1]], axis = 1)"
   ]
  },
  {
   "cell_type": "code",
   "execution_count": 111,
   "id": "8fa32419",
   "metadata": {},
   "outputs": [],
   "source": [
    "df_c_g = df_c.iloc[:, 25:]"
   ]
  },
  {
   "cell_type": "code",
   "execution_count": 112,
   "id": "db7813da",
   "metadata": {},
   "outputs": [],
   "source": [
    "df_c_d.to_csv(\"datasets/round_1/combined/combined_pool_dens_dipole.csv\", index = False)"
   ]
  },
  {
   "cell_type": "code",
   "execution_count": 113,
   "id": "0599d051",
   "metadata": {},
   "outputs": [],
   "source": [
    "df_c_g.to_csv(\"datasets/round_1/combined/combined_pool_grad_dipole.csv\", index = False)"
   ]
  },
  {
   "cell_type": "code",
   "execution_count": null,
   "id": "bde595fb",
   "metadata": {},
   "outputs": [],
   "source": []
  },
  {
   "cell_type": "markdown",
   "id": "08f542f8",
   "metadata": {},
   "source": [
    "# Averaging: Combine Round 0 and 1"
   ]
  },
  {
   "cell_type": "code",
   "execution_count": 88,
   "id": "24a48658",
   "metadata": {},
   "outputs": [],
   "source": [
    "df1 = pd.read_csv(\"datasets/round_1/combined/round1_avg_dens_grad_lap_targs.csv\")"
   ]
  },
  {
   "cell_type": "code",
   "execution_count": 89,
   "id": "0b6d9bed",
   "metadata": {},
   "outputs": [],
   "source": [
    "df0 = pd.read_csv(\"datasets/round_0/combined/round0_avg_dens_grad_lap_dipole.csv\")"
   ]
  },
  {
   "cell_type": "code",
   "execution_count": 90,
   "id": "9ccfa17c",
   "metadata": {},
   "outputs": [],
   "source": [
    "df1_scl = pd.read_csv(\"datasets/round_1/combined/round1_avg_dens_grad_lap_targs_stdScl.csv\")"
   ]
  },
  {
   "cell_type": "code",
   "execution_count": 91,
   "id": "04287153",
   "metadata": {},
   "outputs": [],
   "source": [
    "df0_scl = pd.read_csv(\"datasets/round_0/combined/round0_avg_dens_grad_lap_dipole_stdScl.csv\")"
   ]
  },
  {
   "cell_type": "code",
   "execution_count": null,
   "id": "cd83a780",
   "metadata": {},
   "outputs": [],
   "source": []
  },
  {
   "cell_type": "code",
   "execution_count": 92,
   "id": "282bfe65",
   "metadata": {},
   "outputs": [],
   "source": [
    "df_c = pd.concat([df1.iloc[:, :-1], df0], axis = 0)"
   ]
  },
  {
   "cell_type": "code",
   "execution_count": 93,
   "id": "98ccd238",
   "metadata": {},
   "outputs": [],
   "source": [
    "df_c.to_csv(\"datasets/round_1/combined/comb_avg_dens_grad_lap_dipole.csv\", index = False)"
   ]
  },
  {
   "cell_type": "code",
   "execution_count": 94,
   "id": "f9e07b92",
   "metadata": {},
   "outputs": [],
   "source": [
    "df_c_scl = pd.concat([df1_scl.iloc[:, :-1], df0_scl], axis = 0)"
   ]
  },
  {
   "cell_type": "code",
   "execution_count": 96,
   "id": "4aaf06d2",
   "metadata": {},
   "outputs": [],
   "source": [
    "df_c_scl.to_csv(\"datasets/round_1/combined/comb_avg_dens_grad_lap_dipole_stdScl.csv\", index = False)"
   ]
  },
  {
   "cell_type": "code",
   "execution_count": 97,
   "id": "ff9c430c",
   "metadata": {},
   "outputs": [
    {
     "data": {
      "text/plain": [
       "(2394, 16)"
      ]
     },
     "execution_count": 97,
     "metadata": {},
     "output_type": "execute_result"
    }
   ],
   "source": [
    "df_c_scl.shape"
   ]
  },
  {
   "cell_type": "code",
   "execution_count": 98,
   "id": "f27a2a41",
   "metadata": {},
   "outputs": [
    {
     "data": {
      "text/html": [
       "<div>\n",
       "<style scoped>\n",
       "    .dataframe tbody tr th:only-of-type {\n",
       "        vertical-align: middle;\n",
       "    }\n",
       "\n",
       "    .dataframe tbody tr th {\n",
       "        vertical-align: top;\n",
       "    }\n",
       "\n",
       "    .dataframe thead th {\n",
       "        text-align: right;\n",
       "    }\n",
       "</style>\n",
       "<table border=\"1\" class=\"dataframe\">\n",
       "  <thead>\n",
       "    <tr style=\"text-align: right;\">\n",
       "      <th></th>\n",
       "      <th>d100</th>\n",
       "      <th>g100</th>\n",
       "      <th>l100</th>\n",
       "      <th>d200</th>\n",
       "      <th>g200</th>\n",
       "      <th>l200</th>\n",
       "      <th>d300</th>\n",
       "      <th>g300</th>\n",
       "      <th>l300</th>\n",
       "      <th>d400</th>\n",
       "      <th>g400</th>\n",
       "      <th>l400</th>\n",
       "      <th>d500</th>\n",
       "      <th>g500</th>\n",
       "      <th>l500</th>\n",
       "      <th>Dipole</th>\n",
       "    </tr>\n",
       "  </thead>\n",
       "  <tbody>\n",
       "    <tr>\n",
       "      <th>d100</th>\n",
       "      <td>1.000000</td>\n",
       "      <td>0.490458</td>\n",
       "      <td>-0.249930</td>\n",
       "      <td>0.908464</td>\n",
       "      <td>0.768262</td>\n",
       "      <td>-0.748517</td>\n",
       "      <td>0.777883</td>\n",
       "      <td>0.614512</td>\n",
       "      <td>-0.701005</td>\n",
       "      <td>0.685522</td>\n",
       "      <td>0.456177</td>\n",
       "      <td>-0.617269</td>\n",
       "      <td>0.629384</td>\n",
       "      <td>0.351240</td>\n",
       "      <td>-0.538410</td>\n",
       "      <td>-0.013954</td>\n",
       "    </tr>\n",
       "    <tr>\n",
       "      <th>g100</th>\n",
       "      <td>0.490458</td>\n",
       "      <td>1.000000</td>\n",
       "      <td>-0.738292</td>\n",
       "      <td>0.272261</td>\n",
       "      <td>0.553306</td>\n",
       "      <td>-0.463244</td>\n",
       "      <td>0.203798</td>\n",
       "      <td>0.326340</td>\n",
       "      <td>-0.294512</td>\n",
       "      <td>0.187226</td>\n",
       "      <td>0.255517</td>\n",
       "      <td>-0.233864</td>\n",
       "      <td>0.183647</td>\n",
       "      <td>0.242947</td>\n",
       "      <td>-0.213101</td>\n",
       "      <td>0.169461</td>\n",
       "    </tr>\n",
       "    <tr>\n",
       "      <th>l100</th>\n",
       "      <td>-0.249930</td>\n",
       "      <td>-0.738292</td>\n",
       "      <td>1.000000</td>\n",
       "      <td>0.088786</td>\n",
       "      <td>-0.324943</td>\n",
       "      <td>0.473639</td>\n",
       "      <td>0.175419</td>\n",
       "      <td>-0.121104</td>\n",
       "      <td>0.151869</td>\n",
       "      <td>0.170033</td>\n",
       "      <td>-0.106533</td>\n",
       "      <td>0.055577</td>\n",
       "      <td>0.150605</td>\n",
       "      <td>-0.133817</td>\n",
       "      <td>0.035352</td>\n",
       "      <td>-0.205866</td>\n",
       "    </tr>\n",
       "    <tr>\n",
       "      <th>d200</th>\n",
       "      <td>0.908464</td>\n",
       "      <td>0.272261</td>\n",
       "      <td>0.088786</td>\n",
       "      <td>1.000000</td>\n",
       "      <td>0.647773</td>\n",
       "      <td>-0.521919</td>\n",
       "      <td>0.952450</td>\n",
       "      <td>0.610716</td>\n",
       "      <td>-0.652609</td>\n",
       "      <td>0.878192</td>\n",
       "      <td>0.475894</td>\n",
       "      <td>-0.657631</td>\n",
       "      <td>0.820163</td>\n",
       "      <td>0.366686</td>\n",
       "      <td>-0.620404</td>\n",
       "      <td>-0.101592</td>\n",
       "    </tr>\n",
       "    <tr>\n",
       "      <th>g200</th>\n",
       "      <td>0.768262</td>\n",
       "      <td>0.553306</td>\n",
       "      <td>-0.324943</td>\n",
       "      <td>0.647773</td>\n",
       "      <td>1.000000</td>\n",
       "      <td>-0.752803</td>\n",
       "      <td>0.499187</td>\n",
       "      <td>0.824079</td>\n",
       "      <td>-0.681564</td>\n",
       "      <td>0.408074</td>\n",
       "      <td>0.609195</td>\n",
       "      <td>-0.566266</td>\n",
       "      <td>0.361013</td>\n",
       "      <td>0.471765</td>\n",
       "      <td>-0.461482</td>\n",
       "      <td>0.140213</td>\n",
       "    </tr>\n",
       "    <tr>\n",
       "      <th>l200</th>\n",
       "      <td>-0.748517</td>\n",
       "      <td>-0.463244</td>\n",
       "      <td>0.473639</td>\n",
       "      <td>-0.521919</td>\n",
       "      <td>-0.752803</td>\n",
       "      <td>1.000000</td>\n",
       "      <td>-0.276582</td>\n",
       "      <td>-0.559540</td>\n",
       "      <td>0.833979</td>\n",
       "      <td>-0.148410</td>\n",
       "      <td>-0.417021</td>\n",
       "      <td>0.609733</td>\n",
       "      <td>-0.094118</td>\n",
       "      <td>-0.340109</td>\n",
       "      <td>0.437195</td>\n",
       "      <td>-0.137300</td>\n",
       "    </tr>\n",
       "    <tr>\n",
       "      <th>d300</th>\n",
       "      <td>0.777883</td>\n",
       "      <td>0.203798</td>\n",
       "      <td>0.175419</td>\n",
       "      <td>0.952450</td>\n",
       "      <td>0.499187</td>\n",
       "      <td>-0.276582</td>\n",
       "      <td>1.000000</td>\n",
       "      <td>0.509141</td>\n",
       "      <td>-0.442727</td>\n",
       "      <td>0.977941</td>\n",
       "      <td>0.408556</td>\n",
       "      <td>-0.529472</td>\n",
       "      <td>0.941461</td>\n",
       "      <td>0.318008</td>\n",
       "      <td>-0.566584</td>\n",
       "      <td>-0.160749</td>\n",
       "    </tr>\n",
       "    <tr>\n",
       "      <th>g300</th>\n",
       "      <td>0.614512</td>\n",
       "      <td>0.326340</td>\n",
       "      <td>-0.121104</td>\n",
       "      <td>0.610716</td>\n",
       "      <td>0.824079</td>\n",
       "      <td>-0.559540</td>\n",
       "      <td>0.509141</td>\n",
       "      <td>1.000000</td>\n",
       "      <td>-0.664071</td>\n",
       "      <td>0.413380</td>\n",
       "      <td>0.899868</td>\n",
       "      <td>-0.639198</td>\n",
       "      <td>0.352788</td>\n",
       "      <td>0.730187</td>\n",
       "      <td>-0.547210</td>\n",
       "      <td>0.143620</td>\n",
       "    </tr>\n",
       "    <tr>\n",
       "      <th>l300</th>\n",
       "      <td>-0.701005</td>\n",
       "      <td>-0.294512</td>\n",
       "      <td>0.151869</td>\n",
       "      <td>-0.652609</td>\n",
       "      <td>-0.681564</td>\n",
       "      <td>0.833979</td>\n",
       "      <td>-0.442727</td>\n",
       "      <td>-0.664071</td>\n",
       "      <td>1.000000</td>\n",
       "      <td>-0.268835</td>\n",
       "      <td>-0.555001</td>\n",
       "      <td>0.904358</td>\n",
       "      <td>-0.168619</td>\n",
       "      <td>-0.457392</td>\n",
       "      <td>0.722855</td>\n",
       "      <td>-0.102768</td>\n",
       "    </tr>\n",
       "    <tr>\n",
       "      <th>d400</th>\n",
       "      <td>0.685522</td>\n",
       "      <td>0.187226</td>\n",
       "      <td>0.170033</td>\n",
       "      <td>0.878192</td>\n",
       "      <td>0.408074</td>\n",
       "      <td>-0.148410</td>\n",
       "      <td>0.977941</td>\n",
       "      <td>0.413380</td>\n",
       "      <td>-0.268835</td>\n",
       "      <td>1.000000</td>\n",
       "      <td>0.326568</td>\n",
       "      <td>-0.368495</td>\n",
       "      <td>0.989850</td>\n",
       "      <td>0.252646</td>\n",
       "      <td>-0.446851</td>\n",
       "      <td>-0.188580</td>\n",
       "    </tr>\n",
       "    <tr>\n",
       "      <th>g400</th>\n",
       "      <td>0.456177</td>\n",
       "      <td>0.255517</td>\n",
       "      <td>-0.106533</td>\n",
       "      <td>0.475894</td>\n",
       "      <td>0.609195</td>\n",
       "      <td>-0.417021</td>\n",
       "      <td>0.408556</td>\n",
       "      <td>0.899868</td>\n",
       "      <td>-0.555001</td>\n",
       "      <td>0.326568</td>\n",
       "      <td>1.000000</td>\n",
       "      <td>-0.599818</td>\n",
       "      <td>0.265751</td>\n",
       "      <td>0.931127</td>\n",
       "      <td>-0.557876</td>\n",
       "      <td>0.175669</td>\n",
       "    </tr>\n",
       "    <tr>\n",
       "      <th>l400</th>\n",
       "      <td>-0.617269</td>\n",
       "      <td>-0.233864</td>\n",
       "      <td>0.055577</td>\n",
       "      <td>-0.657631</td>\n",
       "      <td>-0.566266</td>\n",
       "      <td>0.609733</td>\n",
       "      <td>-0.529472</td>\n",
       "      <td>-0.639198</td>\n",
       "      <td>0.904358</td>\n",
       "      <td>-0.368495</td>\n",
       "      <td>-0.599818</td>\n",
       "      <td>1.000000</td>\n",
       "      <td>-0.247931</td>\n",
       "      <td>-0.527549</td>\n",
       "      <td>0.931832</td>\n",
       "      <td>-0.076440</td>\n",
       "    </tr>\n",
       "    <tr>\n",
       "      <th>d500</th>\n",
       "      <td>0.629384</td>\n",
       "      <td>0.183647</td>\n",
       "      <td>0.150605</td>\n",
       "      <td>0.820163</td>\n",
       "      <td>0.361013</td>\n",
       "      <td>-0.094118</td>\n",
       "      <td>0.941461</td>\n",
       "      <td>0.352788</td>\n",
       "      <td>-0.168619</td>\n",
       "      <td>0.989850</td>\n",
       "      <td>0.265751</td>\n",
       "      <td>-0.247931</td>\n",
       "      <td>1.000000</td>\n",
       "      <td>0.198272</td>\n",
       "      <td>-0.332346</td>\n",
       "      <td>-0.200058</td>\n",
       "    </tr>\n",
       "    <tr>\n",
       "      <th>g500</th>\n",
       "      <td>0.351240</td>\n",
       "      <td>0.242947</td>\n",
       "      <td>-0.133817</td>\n",
       "      <td>0.366686</td>\n",
       "      <td>0.471765</td>\n",
       "      <td>-0.340109</td>\n",
       "      <td>0.318008</td>\n",
       "      <td>0.730187</td>\n",
       "      <td>-0.457392</td>\n",
       "      <td>0.252646</td>\n",
       "      <td>0.931127</td>\n",
       "      <td>-0.527549</td>\n",
       "      <td>0.198272</td>\n",
       "      <td>1.000000</td>\n",
       "      <td>-0.532467</td>\n",
       "      <td>0.194386</td>\n",
       "    </tr>\n",
       "    <tr>\n",
       "      <th>l500</th>\n",
       "      <td>-0.538410</td>\n",
       "      <td>-0.213101</td>\n",
       "      <td>0.035352</td>\n",
       "      <td>-0.620404</td>\n",
       "      <td>-0.461482</td>\n",
       "      <td>0.437195</td>\n",
       "      <td>-0.566584</td>\n",
       "      <td>-0.547210</td>\n",
       "      <td>0.722855</td>\n",
       "      <td>-0.446851</td>\n",
       "      <td>-0.557876</td>\n",
       "      <td>0.931832</td>\n",
       "      <td>-0.332346</td>\n",
       "      <td>-0.532467</td>\n",
       "      <td>1.000000</td>\n",
       "      <td>-0.052437</td>\n",
       "    </tr>\n",
       "    <tr>\n",
       "      <th>Dipole</th>\n",
       "      <td>-0.013954</td>\n",
       "      <td>0.169461</td>\n",
       "      <td>-0.205866</td>\n",
       "      <td>-0.101592</td>\n",
       "      <td>0.140213</td>\n",
       "      <td>-0.137300</td>\n",
       "      <td>-0.160749</td>\n",
       "      <td>0.143620</td>\n",
       "      <td>-0.102768</td>\n",
       "      <td>-0.188580</td>\n",
       "      <td>0.175669</td>\n",
       "      <td>-0.076440</td>\n",
       "      <td>-0.200058</td>\n",
       "      <td>0.194386</td>\n",
       "      <td>-0.052437</td>\n",
       "      <td>1.000000</td>\n",
       "    </tr>\n",
       "  </tbody>\n",
       "</table>\n",
       "</div>"
      ],
      "text/plain": [
       "            d100      g100      l100      d200      g200      l200      d300  \\\n",
       "d100    1.000000  0.490458 -0.249930  0.908464  0.768262 -0.748517  0.777883   \n",
       "g100    0.490458  1.000000 -0.738292  0.272261  0.553306 -0.463244  0.203798   \n",
       "l100   -0.249930 -0.738292  1.000000  0.088786 -0.324943  0.473639  0.175419   \n",
       "d200    0.908464  0.272261  0.088786  1.000000  0.647773 -0.521919  0.952450   \n",
       "g200    0.768262  0.553306 -0.324943  0.647773  1.000000 -0.752803  0.499187   \n",
       "l200   -0.748517 -0.463244  0.473639 -0.521919 -0.752803  1.000000 -0.276582   \n",
       "d300    0.777883  0.203798  0.175419  0.952450  0.499187 -0.276582  1.000000   \n",
       "g300    0.614512  0.326340 -0.121104  0.610716  0.824079 -0.559540  0.509141   \n",
       "l300   -0.701005 -0.294512  0.151869 -0.652609 -0.681564  0.833979 -0.442727   \n",
       "d400    0.685522  0.187226  0.170033  0.878192  0.408074 -0.148410  0.977941   \n",
       "g400    0.456177  0.255517 -0.106533  0.475894  0.609195 -0.417021  0.408556   \n",
       "l400   -0.617269 -0.233864  0.055577 -0.657631 -0.566266  0.609733 -0.529472   \n",
       "d500    0.629384  0.183647  0.150605  0.820163  0.361013 -0.094118  0.941461   \n",
       "g500    0.351240  0.242947 -0.133817  0.366686  0.471765 -0.340109  0.318008   \n",
       "l500   -0.538410 -0.213101  0.035352 -0.620404 -0.461482  0.437195 -0.566584   \n",
       "Dipole -0.013954  0.169461 -0.205866 -0.101592  0.140213 -0.137300 -0.160749   \n",
       "\n",
       "            g300      l300      d400      g400      l400      d500      g500  \\\n",
       "d100    0.614512 -0.701005  0.685522  0.456177 -0.617269  0.629384  0.351240   \n",
       "g100    0.326340 -0.294512  0.187226  0.255517 -0.233864  0.183647  0.242947   \n",
       "l100   -0.121104  0.151869  0.170033 -0.106533  0.055577  0.150605 -0.133817   \n",
       "d200    0.610716 -0.652609  0.878192  0.475894 -0.657631  0.820163  0.366686   \n",
       "g200    0.824079 -0.681564  0.408074  0.609195 -0.566266  0.361013  0.471765   \n",
       "l200   -0.559540  0.833979 -0.148410 -0.417021  0.609733 -0.094118 -0.340109   \n",
       "d300    0.509141 -0.442727  0.977941  0.408556 -0.529472  0.941461  0.318008   \n",
       "g300    1.000000 -0.664071  0.413380  0.899868 -0.639198  0.352788  0.730187   \n",
       "l300   -0.664071  1.000000 -0.268835 -0.555001  0.904358 -0.168619 -0.457392   \n",
       "d400    0.413380 -0.268835  1.000000  0.326568 -0.368495  0.989850  0.252646   \n",
       "g400    0.899868 -0.555001  0.326568  1.000000 -0.599818  0.265751  0.931127   \n",
       "l400   -0.639198  0.904358 -0.368495 -0.599818  1.000000 -0.247931 -0.527549   \n",
       "d500    0.352788 -0.168619  0.989850  0.265751 -0.247931  1.000000  0.198272   \n",
       "g500    0.730187 -0.457392  0.252646  0.931127 -0.527549  0.198272  1.000000   \n",
       "l500   -0.547210  0.722855 -0.446851 -0.557876  0.931832 -0.332346 -0.532467   \n",
       "Dipole  0.143620 -0.102768 -0.188580  0.175669 -0.076440 -0.200058  0.194386   \n",
       "\n",
       "            l500    Dipole  \n",
       "d100   -0.538410 -0.013954  \n",
       "g100   -0.213101  0.169461  \n",
       "l100    0.035352 -0.205866  \n",
       "d200   -0.620404 -0.101592  \n",
       "g200   -0.461482  0.140213  \n",
       "l200    0.437195 -0.137300  \n",
       "d300   -0.566584 -0.160749  \n",
       "g300   -0.547210  0.143620  \n",
       "l300    0.722855 -0.102768  \n",
       "d400   -0.446851 -0.188580  \n",
       "g400   -0.557876  0.175669  \n",
       "l400    0.931832 -0.076440  \n",
       "d500   -0.332346 -0.200058  \n",
       "g500   -0.532467  0.194386  \n",
       "l500    1.000000 -0.052437  \n",
       "Dipole -0.052437  1.000000  "
      ]
     },
     "execution_count": 98,
     "metadata": {},
     "output_type": "execute_result"
    }
   ],
   "source": [
    "df_c_scl.corr()"
   ]
  },
  {
   "cell_type": "markdown",
   "id": "c8e8695c",
   "metadata": {},
   "source": [
    "# Rotations and scaling"
   ]
  },
  {
   "cell_type": "code",
   "execution_count": 114,
   "id": "c84afe7b",
   "metadata": {},
   "outputs": [],
   "source": [
    "from sklearn.preprocessing import StandardScaler"
   ]
  },
  {
   "cell_type": "code",
   "execution_count": 115,
   "id": "ac3ee110",
   "metadata": {},
   "outputs": [],
   "source": [
    "df_c = pd.read_csv(\"datasets/round_1/combined/combined_pool_dens_grad_dipole.csv\")"
   ]
  },
  {
   "cell_type": "code",
   "execution_count": 116,
   "id": "af234bf4",
   "metadata": {},
   "outputs": [],
   "source": [
    "scaler = StandardScaler()"
   ]
  },
  {
   "cell_type": "code",
   "execution_count": 117,
   "id": "7ea6c3a0",
   "metadata": {},
   "outputs": [],
   "source": [
    "df_c_scaled = pd.DataFrame(np.hstack([scaler.fit_transform(df_c.values[:, :-1]), df_c.values[:, -1].reshape(-1,1)]), columns = df_c.columns)"
   ]
  },
  {
   "cell_type": "code",
   "execution_count": 118,
   "id": "679d7cf3",
   "metadata": {},
   "outputs": [],
   "source": [
    "df_c_scaled.to_csv(\"datasets/round_1/combined/combined_pool_dens_grad_dipole_stdScl.csv\")"
   ]
  },
  {
   "cell_type": "code",
   "execution_count": 119,
   "id": "2e73e53e",
   "metadata": {},
   "outputs": [
    {
     "data": {
      "text/plain": [
       "array([-1.25979306, -1.27440644, -1.282043  , -1.27063146, -1.23901579,\n",
       "       -1.24809412, -1.26304917, -1.27225439, -1.24155821, -1.17778719,\n",
       "       -1.17861172, -1.15642666, -1.14491955, -1.10784537, -1.03331318,\n",
       "       -1.01820497, -0.89036518, -0.81848277, -0.81919263, -0.80767035,\n",
       "       -0.80163351, -0.55220731, -0.42272924, -0.47814541, -0.57749089])"
      ]
     },
     "execution_count": 119,
     "metadata": {},
     "output_type": "execute_result"
    }
   ],
   "source": [
    "df_c_scaled.values[0][:25]"
   ]
  },
  {
   "cell_type": "code",
   "execution_count": 120,
   "id": "2a19ddb2",
   "metadata": {},
   "outputs": [],
   "source": [
    "def rotate(vec):\n",
    "    rotations = []\n",
    "    rotations.append(vec)\n",
    "    \n",
    "    m = vec.reshape(5,5)\n",
    "    for i in range(1,4):\n",
    "        rotations.append(np.rot90(m, i).flatten())\n",
    "        \n",
    "    return rotations\n",
    "\n",
    "def get_rotations(arr):\n",
    "    new_targs = []\n",
    "    feats = []\n",
    "    \n",
    "    for row in arr:\n",
    "        new_targs += [row[-1]]*16\n",
    "        \n",
    "        dens = row[:25]\n",
    "        grad = row[25:-1]\n",
    "        \n",
    "        drots = rotate(dens)\n",
    "        grots = rotate(grad)\n",
    "        \n",
    "        for drot in drots:\n",
    "            for grot in grots:\n",
    "                rot_feats = np.hstack([drot, grot])\n",
    "                assert(len(rot_feats) == 50)\n",
    "                feats.append(rot_feats)\n",
    "                \n",
    "    return feats, new_targs\n",
    "                "
   ]
  },
  {
   "cell_type": "code",
   "execution_count": 121,
   "id": "7dea5be0",
   "metadata": {},
   "outputs": [],
   "source": [
    "feats, targs = get_rotations(df_c_scaled.values)"
   ]
  },
  {
   "cell_type": "code",
   "execution_count": 122,
   "id": "769087e9",
   "metadata": {},
   "outputs": [],
   "source": [
    "rot_df_c_scaled = np.hstack([np.vstack(feats), np.array(targs).reshape(-1,1)])"
   ]
  },
  {
   "cell_type": "code",
   "execution_count": 123,
   "id": "9f614334",
   "metadata": {},
   "outputs": [],
   "source": [
    "rot_df_c_scaled = pd.DataFrame(rot_df_c_scaled, columns=df_c_scaled.columns)"
   ]
  },
  {
   "cell_type": "code",
   "execution_count": 124,
   "id": "c94cb0f3",
   "metadata": {},
   "outputs": [],
   "source": [
    "rot_df_c_scaled.to_csv(\"datasets/round_1/combined/combined_pool_dens_grad_dipole_stdScl_rot.csv\", index = False)"
   ]
  },
  {
   "cell_type": "code",
   "execution_count": 125,
   "id": "522be10d",
   "metadata": {},
   "outputs": [
    {
     "data": {
      "text/plain": [
       "(38304, 51)"
      ]
     },
     "execution_count": 125,
     "metadata": {},
     "output_type": "execute_result"
    }
   ],
   "source": [
    "rot_df_c_scaled.shape"
   ]
  },
  {
   "cell_type": "markdown",
   "id": "c055e711",
   "metadata": {},
   "source": [
    "# other"
   ]
  },
  {
   "cell_type": "code",
   "execution_count": 68,
   "id": "c54704b6",
   "metadata": {},
   "outputs": [],
   "source": [
    "def minmax_scale(im, newmin, newmax):\n",
    "    print(im.shape)\n",
    "    im_min = np.min(im)\n",
    "    im_max = np.max(im)\n",
    "    \n",
    "    newim = newmin + ((im - im_min)*(newmax-newmin))/(im_max-im_min)\n",
    "    \n",
    "    \n",
    "    return newim\n",
    "    "
   ]
  },
  {
   "cell_type": "code",
   "execution_count": 99,
   "id": "bb75e47c",
   "metadata": {},
   "outputs": [],
   "source": [
    "def print_features(sigma, centroids, pad=500, org_rad=75):\n",
    "    mempool = cp.get_default_memory_pool()\n",
    "    pinned_mempool = cp.get_default_pinned_memory_pool()\n",
    "    \n",
    "    max_coord = int(np.max(centroids))\n",
    "    min_coord = int(np.min(centroids))\n",
    "    \n",
    "    image = np.zeros((max_coord + min_coord + pad*2, max_coord + min_coord + pad*2))\n",
    "    dCentroids_scaled = centroids+pad\n",
    "    \n",
    "    for (c1, c2) in dCentroids_scaled:\n",
    "        x = int(c2)\n",
    "        y = int(c1)\n",
    "        image[x-org_rad:x+org_rad, y-org_rad:y+org_rad] = 255\n",
    "    \n",
    "    im = cp.array(image)\n",
    "\n",
    "    im_blur = ndimage.gaussian_filter(im, sigma=sigma, mode = 'constant')\n",
    "    \n",
    "    sobel = ndimage.gaussian_gradient_magnitude(im, sigma=sigma, mode = 'constant')\n",
    "    \n",
    "    laplace = ndimage.gaussian_laplace(im, sigma=sigma, mode = 'constant')\n",
    "\n",
    "    avg_pooling(im_blur, dCentroids_scaled, org_rad, sigma, \"Gaussian Blur\")\n",
    "    \n",
    "    avg_pooling(sobel, dCentroids_scaled, org_rad, sigma, \"Sobel\")\n",
    "    \n",
    "    avg_pooling(laplace, dCentroids_scaled, org_rad, sigma, \"Laplace\")\n",
    "    \n",
    "    \"\"\"\n",
    "    im2 = avg_pooling(sobel, centroids, org_rad, sigma)\n",
    "    \n",
    "    plt.imshow(im1.get())\n",
    "    plt.show()\n",
    "    \n",
    "    plt.imshow(im2.get())\n",
    "    plt.show()\n",
    "    \n",
    "    mempool.free_all_blocks()\n",
    "    pinned_mempool.free_all_blocks()\"\"\""
   ]
  },
  {
   "cell_type": "code",
   "execution_count": null,
   "id": "9d746115",
   "metadata": {},
   "outputs": [],
   "source": [
    "from sklearn import preprocessing\n",
    "min_max_scaler = preprocessing.MinMaxScaler()"
   ]
  }
 ],
 "metadata": {
  "kernelspec": {
   "display_name": "pytorch",
   "language": "python",
   "name": "pytorch"
  },
  "language_info": {
   "codemirror_mode": {
    "name": "ipython",
    "version": 3
   },
   "file_extension": ".py",
   "mimetype": "text/x-python",
   "name": "python",
   "nbconvert_exporter": "python",
   "pygments_lexer": "ipython3",
   "version": "3.9.7"
  }
 },
 "nbformat": 4,
 "nbformat_minor": 5
}
