{
 "cells": [
  {
   "cell_type": "code",
   "execution_count": 1,
   "id": "8d731985",
   "metadata": {},
   "outputs": [],
   "source": [
    "import matplotlib.pyplot as plt\n",
    "import numpy as np\n",
    "import pandas as pd\n",
    "from tqdm import tqdm\n",
    "import cupy as cp\n",
    "from cupyx.scipy import ndimage\n",
    "from sklearn.svm import SVR\n",
    "from sklearn.model_selection import cross_val_score\n",
    "import random\n",
    "import time\n",
    "from PIL import Image\n",
    "import pickle\n",
    "import os\n",
    "import re\n",
    "from collections import Counter"
   ]
  },
  {
   "cell_type": "code",
   "execution_count": 44,
   "id": "9ed936fd",
   "metadata": {},
   "outputs": [],
   "source": [
    "# configs\n",
    "curr_dir = os.path.abspath(os.getcwd())\n",
    "save_dir = os.path.join(curr_dir, \"modeling/disc_gen_outputs\")\n",
    "seeds = [3]#[3, 4, 7, 8, 11, 12]\n",
    "niter = 1000\n",
    "perturb_len = 100\n",
    "epsilon = 0\n",
    "window_size = 3400\n",
    "pattern_dim = 40\n",
    "p = 1/16\n",
    "pad = 100"
   ]
  },
  {
   "cell_type": "code",
   "execution_count": 45,
   "id": "69e00504",
   "metadata": {},
   "outputs": [],
   "source": [
    "# functions\n",
    "\n",
    "def generate_window(seed):\n",
    "    np.random.seed(seed)\n",
    "    start = time.time()\n",
    "    random_pattern = np.random.rand(pattern_dim, pattern_dim)\n",
    "    binary_pattern = np.where(random_pattern < p, 1, 0)\n",
    "\n",
    "    org_locs = np.argwhere(binary_pattern == 1)\n",
    "\n",
    "    org_locs_scaled = org_locs*200+pad\n",
    "    pattern_dim_scaled = pattern_dim*200+2*pad\n",
    "    \n",
    "    centroids = []\n",
    "    im = np.zeros((pattern_dim_scaled, pattern_dim_scaled))\n",
    "\n",
    "    for y, x in org_locs_scaled:\n",
    "        im[y:y+150,x:x+150] = 255\n",
    "        centroids.append((y+75, x+75))\n",
    "    \n",
    "    return im, centroids\n",
    "\n",
    "def get_image(seed):\n",
    "    im, centroids = generate_window(seed)\n",
    "    while not len(centroids) > 2:\n",
    "        im, centroids = generate_window(seed)\n",
    "    return im, centroids\n",
    "\n",
    "def extract_features(image, sigma, centroids):\n",
    "\n",
    "    im_blur = ndimage.gaussian_filter(cp.array(image), sigma=sigma, mode='constant',cval=0)\n",
    "    plt.imshow(im_blur.get())\n",
    "    im_blur_norm=im_blur*sigma*cp.sqrt(np.pi)\n",
    "\n",
    "    im_sx = ndimage.sobel(im_blur_norm, axis=1, mode='reflect')\n",
    "    im_sy = ndimage.sobel(im_blur_norm, axis=0, mode='reflect')\n",
    "    im_sobel=np.hypot(im_sx, im_sy)\n",
    "\n",
    "    feats = []\n",
    "   \n",
    "    for centroid in centroids:\n",
    "        x, y = centroid[0], centroid[1]\n",
    "        density = cp.mean(im_blur_norm[x-75: x+75, y-75: y+75])\n",
    "        grad = cp.mean(im_sobel[x-75: x+75, y-75: y+75])\n",
    "        feats.append([density.get(), grad.get()])\n",
    "\n",
    "    cp._default_memory_pool.free_all_blocks()\n",
    "\n",
    "    feats = np.array(feats)\n",
    "    return feats\n",
    "\n",
    "def simulate(image, centers):\n",
    "    test_img = image.copy()\n",
    "    test_centers = centers.copy()\n",
    "    \n",
    "    nx, ny, ix = random_move(test_centers)\n",
    "    old_x, old_y = test_centers[ix]\n",
    "    test_img[old_x-75: old_x+75, old_y-75:old_y+75] = 50\n",
    "    test_img[nx-75:nx+75, ny-75:ny+75] = 255\n",
    "    test_centers[ix] = (nx, ny)\n",
    "    \n",
    "    new_score = evaluate(test_img, test_centers)\n",
    "    \n",
    "    return test_img, test_centers, new_score\n",
    "\n",
    "def random_move(centers):\n",
    "    found_valid_move = False\n",
    "    newx, newy, random_index = 0, 0, 0\n",
    "    \n",
    "    while not found_valid_move:\n",
    "        random_index = random.randint(0,len(centroids)-1)\n",
    "        \n",
    "        angle = np.pi * np.random.uniform(0, 2)\n",
    "        dx, dy = perturb_len*np.cos(angle), perturb_len*np.sin(angle)\n",
    "        dx, dy = np.rint(dx), np.rint(dy)\n",
    "        newx, newy = int(centers[random_index][0] + dx), int(centers[random_index][1] + dy)\n",
    "\n",
    "        nbors = centers[:random_index] + centers[random_index+1:]\n",
    "        \n",
    "        found_valid_move = validate(newx, newy, nbors)\n",
    "    \n",
    "    return newx, newy, random_index\n",
    "\n",
    "def validate(cx, cy, centroids):   \n",
    "    cxbool = out_of_bounds_check(cx)\n",
    "    cybool = out_of_bounds_check(cy)\n",
    "    \n",
    "    rep = np.tile(np.array([cx, cy]).reshape(-1,2), [len(centroids), 1])\n",
    "    centroids_arr = np.array(centroids)\n",
    "    dist = np.sqrt(np.sum((rep-centroids_arr)**2, axis = 1))\n",
    "    min_dist = 2*(75*np.sqrt(2)+25)\n",
    "    valid = np.all(dist > min_dist)\n",
    "    \n",
    "    check = cxbool and cybool and valid\n",
    "    \n",
    "    return check\n",
    "\n",
    "def out_of_bounds_check(coord):\n",
    "    if (coord < 200) or (coord > window_size - 200):\n",
    "        return False\n",
    "    else:\n",
    "        return True\n",
    "\n",
    "def evaluate(im_pattern, centroids):\n",
    "    new_feats = []\n",
    "\n",
    "    for sigma in uniq_sigs:\n",
    "        feats = extract_features(im_pattern, sigma, centroids)\n",
    "        new_feats.append(feats[:, 0].reshape(-1,1))\n",
    "        new_feats.append(feats[:, 1].reshape(-1,1))\n",
    "\n",
    "    new_feats = [new_feats[ix] for ix in ix_sigs]\n",
    "    new_feats = np.hstack(new_feats)\n",
    "    preds = model.predict(new_feats)\n",
    "    pred_mean = np.mean(preds)\n",
    "        \n",
    "    return pred_mean\n",
    "\n",
    "def backward_elim(X_iter, y, n_feats):\n",
    "    n_iter = X_iter.shape[1]\n",
    "    \n",
    "    while n_iter > n_feats:\n",
    "        feat_ix = list(range(X_iter.shape[1]))\n",
    "    \n",
    "        min_ix = 0\n",
    "        min_error = -np.infty\n",
    "        for ix in feat_ix:\n",
    "            cols = feat_ix[:ix] + feat_ix[ix+1:]\n",
    "            temp_df = X_iter.iloc[:, cols]\n",
    "            temp_error = cross_val_score(model, temp_df, y, cv = 5, scoring = \"neg_mean_squared_error\").mean()\n",
    "            if temp_error > min_error:\n",
    "                min_ix = ix\n",
    "                min_error = temp_error\n",
    "\n",
    "        cols = feat_ix[:min_ix] + feat_ix[min_ix+1:]\n",
    "        X_iter = X_iter.iloc[:, cols]\n",
    "        n_iter = X_iter.shape[1]\n",
    "        \n",
    "    return X_iter"
   ]
  },
  {
   "cell_type": "code",
   "execution_count": 42,
   "id": "71f35f57",
   "metadata": {},
   "outputs": [],
   "source": [
    "# train discriminator\n",
    "df = pd.read_csv(\"all_sigmas_df_comb.csv\")\n",
    "X, y = df.iloc[:, :-4], df.iloc[:, -1] \n",
    "model = SVR(kernel='rbf')\n",
    "X_reduc = backward_elim(X, y, 3)\n",
    "model = model.fit(X_reduc, y)\n",
    "\n",
    "# get features from backward elimination\n",
    "cols = X_reduc.columns.values\n",
    "sigmas = [int(''.join(filter(str.isdigit, item))) for item in X_reduc.columns.values]\n",
    "uniq_sigs = sorted(list(set(sigmas)))\n",
    "f_density = lambda x: str(x) + \"_density\"\n",
    "f_grad = lambda x: str(x) + \"_grad\"\n",
    "all_feats = [f(sigma) for sigma in uniq_sigs for f in (f_density, f_grad)]\n",
    "ix_sigs = [all_feats.index(col) for col in cols]"
   ]
  },
  {
   "cell_type": "markdown",
   "id": "60ab9c5b",
   "metadata": {},
   "source": [
    "# generate small window"
   ]
  },
  {
   "cell_type": "code",
   "execution_count": 7,
   "id": "88744050",
   "metadata": {},
   "outputs": [],
   "source": [
    "seed = 3\n",
    "im, centroids  = get_image(seed)\n",
    "im_init = Image.fromarray(im.astype(np.uint8))\n",
    "im_init.save(os.path.join(save_dir,\"init_seed_\" + str(seed) + \".png\"))"
   ]
  },
  {
   "cell_type": "code",
   "execution_count": 8,
   "id": "12944449",
   "metadata": {},
   "outputs": [
    {
     "data": {
      "text/plain": [
       "<matplotlib.image.AxesImage at 0x7f7ec77de910>"
      ]
     },
     "execution_count": 8,
     "metadata": {},
     "output_type": "execute_result"
    },
    {
     "data": {
      "image/png": "[encoded data removed]",
      "text/plain": [
       "<Figure size 432x288 with 1 Axes>"
      ]
     },
     "metadata": {
      "needs_background": "light"
     },
     "output_type": "display_data"
    }
   ],
   "source": [
    "plt.imshow(im)"
   ]
  },
  {
   "cell_type": "code",
   "execution_count": 9,
   "id": "88868c28",
   "metadata": {},
   "outputs": [],
   "source": [
    "hi = np.lib.stride_tricks.sliding_window_view(im, (3000, 3000))"
   ]
  },
  {
   "cell_type": "code",
   "execution_count": 10,
   "id": "6f59eb85",
   "metadata": {},
   "outputs": [
    {
     "data": {
      "text/plain": [
       "<matplotlib.image.AxesImage at 0x7f7ec6fc3610>"
      ]
     },
     "execution_count": 10,
     "metadata": {},
     "output_type": "execute_result"
    },
    {
     "data": {
      "image/png": "[encoded data removed]",
      "text/plain": [
       "<Figure size 432x288 with 1 Axes>"
      ]
     },
     "metadata": {
      "needs_background": "light"
     },
     "output_type": "display_data"
    }
   ],
   "source": [
    "examp_3 = hi[1250][4000]\n",
    "plt.imshow(examp_3)"
   ]
  },
  {
   "cell_type": "code",
   "execution_count": 20,
   "id": "24dc41f7",
   "metadata": {},
   "outputs": [],
   "source": [
    "import cv2\n",
    "\n",
    "blurred = cv2.GaussianBlur(examp_3.astype(np.uint8), (5, 5), 0)\n",
    "thresh = cv2.threshold(blurred, 60, 255, cv2.THRESH_BINARY)[1]\n",
    "\n",
    "# find contours in the thresholded image\n",
    "cnts = cv2.findContours(thresh.copy(), cv2.RETR_EXTERNAL, cv2.CHAIN_APPROX_SIMPLE)\n",
    "\n",
    "centers = []\n",
    "# loop over the contours\n",
    "for c in cnts[0]:\n",
    "    # compute the center of the contour\n",
    "    M = cv2.moments(c)\n",
    "    cX = int(M[\"m10\"] / M[\"m00\"])\n",
    "    cY = int(M[\"m01\"] / M[\"m00\"])\n",
    "    centers.append((cX, cY))\n",
    "    # draw the contour and center of the shape on the image"
   ]
  },
  {
   "cell_type": "code",
   "execution_count": 21,
   "id": "76241bd7",
   "metadata": {},
   "outputs": [],
   "source": [
    "centers = [(x+1+200, y+1+200) for x,y in centers]\n",
    "mask = np.zeros((3400, 3400))\n",
    "for x, y in centers:\n",
    "    mask[y-75: y+75, x-75:x+75] = 255"
   ]
  },
  {
   "cell_type": "code",
   "execution_count": 22,
   "id": "82e0ea14",
   "metadata": {},
   "outputs": [
    {
     "data": {
      "text/plain": [
       "<matplotlib.image.AxesImage at 0x7f7e78259eb0>"
      ]
     },
     "execution_count": 22,
     "metadata": {},
     "output_type": "execute_result"
    },
    {
     "data": {
      "image/png": "[encoded data removed]",
      "text/plain": [
       "<Figure size 432x288 with 1 Axes>"
      ]
     },
     "metadata": {
      "needs_background": "light"
     },
     "output_type": "display_data"
    }
   ],
   "source": [
    "plt.imshow(mask)"
   ]
  },
  {
   "cell_type": "code",
   "execution_count": 23,
   "id": "e8d99dcb",
   "metadata": {},
   "outputs": [
    {
     "data": {
      "image/png": "[encoded data removed]",
      "text/plain": [
       "<Figure size 432x288 with 1 Axes>"
      ]
     },
     "metadata": {
      "needs_background": "light"
     },
     "output_type": "display_data"
    }
   ],
   "source": [
    "plt.imshow(mask)\n",
    "for x,y in centers:\n",
    "    plt.scatter(x,y, s = 5)\n",
    "plt.show()"
   ]
  },
  {
   "cell_type": "code",
   "execution_count": 26,
   "id": "94ff4b4b",
   "metadata": {},
   "outputs": [
    {
     "name": "stdout",
     "output_type": "stream",
     "text": [
      "[255.]\n",
      "[255.]\n",
      "[255.]\n",
      "[255.]\n",
      "[255.]\n",
      "[255.]\n",
      "[255.]\n",
      "[255.]\n",
      "[255.]\n",
      "[255.]\n",
      "[255.]\n",
      "[255.]\n",
      "[255.]\n",
      "[255.]\n",
      "[255.]\n",
      "[255.]\n",
      "[255.]\n",
      "[255.]\n"
     ]
    }
   ],
   "source": [
    "for x,y in centers:\n",
    "    print(np.unique(mask[y-75:y+75, x-75:x+75]))"
   ]
  },
  {
   "cell_type": "code",
   "execution_count": 28,
   "id": "08d00142",
   "metadata": {},
   "outputs": [],
   "source": [
    "# CRUCIAL TO FLIP!\n",
    "centers = [(y,x) for x,y in centers]"
   ]
  },
  {
   "cell_type": "markdown",
   "id": "62a72182",
   "metadata": {},
   "source": [
    "# vanilla simulated annealling on small window"
   ]
  },
  {
   "cell_type": "code",
   "execution_count": 47,
   "id": "4374e0e8",
   "metadata": {},
   "outputs": [
    {
     "data": {
      "text/plain": [
       "<matplotlib.image.AxesImage at 0x7f7e78400340>"
      ]
     },
     "execution_count": 47,
     "metadata": {},
     "output_type": "execute_result"
    },
    {
     "data": {
      "image/png": "[encoded data removed]",
      "text/plain": [
       "<Figure size 432x288 with 1 Axes>"
      ]
     },
     "metadata": {
      "needs_background": "light"
     },
     "output_type": "display_data"
    }
   ],
   "source": [
    "plt.imshow(mask)"
   ]
  },
  {
   "cell_type": "code",
   "execution_count": 187,
   "id": "b93c0dd2",
   "metadata": {},
   "outputs": [
    {
     "data": {
      "text/plain": [
       "(3400, 3400)"
      ]
     },
     "execution_count": 187,
     "metadata": {},
     "output_type": "execute_result"
    }
   ],
   "source": [
    "mask.shape"
   ]
  },
  {
   "cell_type": "code",
   "execution_count": null,
   "id": "c1e9a830",
   "metadata": {
    "scrolled": false
   },
   "outputs": [],
   "source": [
    "im = mask\n",
    "centroids = centers # make sure that centroids are flipped in y and x (shown above)\n",
    "\n",
    "for seed in seeds:\n",
    "    # save initial image\n",
    "    #im, centroids  = get_image(seed)\n",
    "    #im_init = Image.fromarray(im.astype(np.uint8))\n",
    "    #im_init.save(os.path.join(save_dir,\"init_seed_\" + str(seed) + \".png\"))\n",
    "\n",
    "    log = []\n",
    "\n",
    "    # run simulated annealing\n",
    "    for _ in tqdm(range(niter)):\n",
    "        plt.imshow(im)\n",
    "        plt.show()\n",
    "\n",
    "        curr_score = evaluate(im, centroids)\n",
    "\n",
    "        new_im, new_centroids, new_score = simulate(im, centroids)\n",
    "\n",
    "        log.append((curr_score, new_score, centroids))\n",
    "\n",
    "        if new_score - curr_score > epsilon:\n",
    "            print(\"improved\")\n",
    "            im, centroids, curr_score = new_im, new_centroids, new_score\n",
    "\n",
    "    # save log and final image\n",
    "    with open(os.path.join(save_dir, \"log\" + str(seed) + \".txt\"), \"wb\") as fp: \n",
    "        pickle.dump(log, fp)\n",
    "\n",
    "    im_final = Image.fromarray(im.astype(np.uint8))\n",
    "    im_final.save(os.path.join(save_dir, \"final_seed_\" + str(seed)+ \".png\"))"
   ]
  },
  {
   "cell_type": "code",
   "execution_count": 50,
   "id": "e8672cd5",
   "metadata": {},
   "outputs": [
    {
     "data": {
      "text/plain": [
       "Text(0.5, 0, 'Iteration')"
      ]
     },
     "execution_count": 50,
     "metadata": {},
     "output_type": "execute_result"
    },
    {
     "data": {
      "image/png": "[encoded data removed]",
      "text/plain": [
       "<Figure size 432x288 with 1 Axes>"
      ]
     },
     "metadata": {
      "needs_background": "light"
     },
     "output_type": "display_data"
    }
   ],
   "source": [
    "scores = [item[0] for item in log]\n",
    "plt.plot(scores)\n",
    "plt.title(\"3400 Pix Image, Step Size 100, 1000 Iterations\")\n",
    "plt.ylabel(\"Predicted Dipole\")\n",
    "plt.xlabel(\"Iteration\")"
   ]
  },
  {
   "cell_type": "code",
   "execution_count": 58,
   "id": "52678290",
   "metadata": {},
   "outputs": [
    {
     "data": {
      "text/plain": [
       "(0.43322293250926025,\n",
       " 0.4311551558005079,\n",
       " [(2797, 2356),\n",
       "  (2873, 1112),\n",
       "  (2925, 575),\n",
       "  (2725, 575),\n",
       "  (3022, 2494),\n",
       "  (1208, 1142),\n",
       "  (2717, 1327),\n",
       "  (2500, 721),\n",
       "  (2876, 835),\n",
       "  (1085, 1409),\n",
       "  (1446, 2198),\n",
       "  (1422, 1894),\n",
       "  (1152, 2025),\n",
       "  (1019, 949),\n",
       "  (758, 980),\n",
       "  (1193, 2302),\n",
       "  (837, 1232),\n",
       "  (469, 2960)])"
      ]
     },
     "execution_count": 58,
     "metadata": {},
     "output_type": "execute_result"
    }
   ],
   "source": [
    "log[-1]"
   ]
  },
  {
   "cell_type": "markdown",
   "id": "c78cfc62",
   "metadata": {},
   "source": [
    "# accelerated simulated annealing"
   ]
  },
  {
   "cell_type": "code",
   "execution_count": 66,
   "id": "4b81c1b6",
   "metadata": {},
   "outputs": [],
   "source": [
    "with open(os.path.join(save_dir, \"log\" + str(seed) + \".txt\"), 'rb') as f:\n",
    "    yerr = pickle.load(f)"
   ]
  },
  {
   "cell_type": "code",
   "execution_count": 69,
   "id": "53500aae",
   "metadata": {},
   "outputs": [
    {
     "data": {
      "text/plain": [
       "(0.11117671630832901,\n",
       " 0.11115611508010846,\n",
       " [(2925, 2775),\n",
       "  (2925, 1375),\n",
       "  (2925, 575),\n",
       "  (2725, 575),\n",
       "  (2525, 2175),\n",
       "  (2525, 1775),\n",
       "  (2525, 1375),\n",
       "  (2525, 575),\n",
       "  (2325, 975),\n",
       "  (1925, 775),\n",
       "  (1525, 2375),\n",
       "  (1525, 1975),\n",
       "  (1125, 1975),\n",
       "  (1125, 1175),\n",
       "  (925, 775),\n",
       "  (725, 2375),\n",
       "  (725, 1175),\n",
       "  (325, 2975)])"
      ]
     },
     "execution_count": 69,
     "metadata": {},
     "output_type": "execute_result"
    }
   ],
   "source": [
    "yerr[0]"
   ]
  },
  {
   "cell_type": "code",
   "execution_count": null,
   "id": "7d372cc6",
   "metadata": {},
   "outputs": [],
   "source": []
  }
 ],
 "metadata": {
  "kernelspec": {
   "display_name": "pytorch",
   "language": "python",
   "name": "pytorch"
  },
  "language_info": {
   "codemirror_mode": {
    "name": "ipython",
    "version": 3
   },
   "file_extension": ".py",
   "mimetype": "text/x-python",
   "name": "python",
   "nbconvert_exporter": "python",
   "pygments_lexer": "ipython3",
   "version": "3.9.7"
  }
 },
 "nbformat": 4,
 "nbformat_minor": 5
}
