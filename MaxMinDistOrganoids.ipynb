{
 "cells": [
  {
   "cell_type": "code",
   "execution_count": 1,
   "id": "8c090379",
   "metadata": {},
   "outputs": [],
   "source": [
    "import pandas as pd\n",
    "import matplotlib.pyplot as plt\n",
    "import numpy as np"
   ]
  },
  {
   "cell_type": "code",
   "execution_count": 2,
   "id": "d99e78c4",
   "metadata": {},
   "outputs": [],
   "source": [
    "df = pd.read_csv(\"all_sigmas_df_comb.csv\")"
   ]
  },
  {
   "cell_type": "code",
   "execution_count": 3,
   "id": "8be0d2fc",
   "metadata": {},
   "outputs": [
    {
     "data": {
      "text/html": [
       "<div>\n",
       "<style scoped>\n",
       "    .dataframe tbody tr th:only-of-type {\n",
       "        vertical-align: middle;\n",
       "    }\n",
       "\n",
       "    .dataframe tbody tr th {\n",
       "        vertical-align: top;\n",
       "    }\n",
       "\n",
       "    .dataframe thead th {\n",
       "        text-align: right;\n",
       "    }\n",
       "</style>\n",
       "<table border=\"1\" class=\"dataframe\">\n",
       "  <thead>\n",
       "    <tr style=\"text-align: right;\">\n",
       "      <th></th>\n",
       "      <th>200_density</th>\n",
       "      <th>200_grad</th>\n",
       "      <th>400_density</th>\n",
       "      <th>400_grad</th>\n",
       "      <th>600_density</th>\n",
       "      <th>600_grad</th>\n",
       "      <th>800_density</th>\n",
       "      <th>800_grad</th>\n",
       "      <th>1000_density</th>\n",
       "      <th>1000_grad</th>\n",
       "      <th>...</th>\n",
       "      <th>1800_density</th>\n",
       "      <th>1800_grad</th>\n",
       "      <th>2200_density</th>\n",
       "      <th>2200_grad</th>\n",
       "      <th>2600_density</th>\n",
       "      <th>2600_grad</th>\n",
       "      <th>seeds</th>\n",
       "      <th>cx</th>\n",
       "      <th>cy</th>\n",
       "      <th>dipole</th>\n",
       "    </tr>\n",
       "  </thead>\n",
       "  <tbody>\n",
       "    <tr>\n",
       "      <th>0</th>\n",
       "      <td>8656.933030</td>\n",
       "      <td>112.218825</td>\n",
       "      <td>7597.341244</td>\n",
       "      <td>70.007968</td>\n",
       "      <td>7041.797754</td>\n",
       "      <td>44.197520</td>\n",
       "      <td>7265.171755</td>\n",
       "      <td>42.114888</td>\n",
       "      <td>7931.179657</td>\n",
       "      <td>43.053865</td>\n",
       "      <td>...</td>\n",
       "      <td>10715.253790</td>\n",
       "      <td>39.167871</td>\n",
       "      <td>12088.08867</td>\n",
       "      <td>38.284992</td>\n",
       "      <td>13368.23758</td>\n",
       "      <td>36.751678</td>\n",
       "      <td>3</td>\n",
       "      <td>1075</td>\n",
       "      <td>2675</td>\n",
       "      <td>0.009339</td>\n",
       "    </tr>\n",
       "    <tr>\n",
       "      <th>1</th>\n",
       "      <td>8656.933030</td>\n",
       "      <td>112.218825</td>\n",
       "      <td>7611.521379</td>\n",
       "      <td>67.579849</td>\n",
       "      <td>7140.335794</td>\n",
       "      <td>37.316788</td>\n",
       "      <td>7536.277455</td>\n",
       "      <td>38.268426</td>\n",
       "      <td>8386.931213</td>\n",
       "      <td>42.054073</td>\n",
       "      <td>...</td>\n",
       "      <td>11651.165790</td>\n",
       "      <td>40.665506</td>\n",
       "      <td>13123.98494</td>\n",
       "      <td>39.661475</td>\n",
       "      <td>14406.29518</td>\n",
       "      <td>37.682455</td>\n",
       "      <td>3</td>\n",
       "      <td>1075</td>\n",
       "      <td>3075</td>\n",
       "      <td>0.030979</td>\n",
       "    </tr>\n",
       "    <tr>\n",
       "      <th>2</th>\n",
       "      <td>7391.419336</td>\n",
       "      <td>80.107744</td>\n",
       "      <td>4215.056702</td>\n",
       "      <td>13.497684</td>\n",
       "      <td>4638.139568</td>\n",
       "      <td>35.613095</td>\n",
       "      <td>6278.532303</td>\n",
       "      <td>46.010267</td>\n",
       "      <td>8048.149879</td>\n",
       "      <td>48.104070</td>\n",
       "      <td>...</td>\n",
       "      <td>13602.005500</td>\n",
       "      <td>46.229137</td>\n",
       "      <td>15450.36451</td>\n",
       "      <td>43.322769</td>\n",
       "      <td>16751.73490</td>\n",
       "      <td>39.498419</td>\n",
       "      <td>3</td>\n",
       "      <td>1075</td>\n",
       "      <td>4275</td>\n",
       "      <td>0.055079</td>\n",
       "    </tr>\n",
       "    <tr>\n",
       "      <th>3</th>\n",
       "      <td>7590.690018</td>\n",
       "      <td>75.739903</td>\n",
       "      <td>6942.516611</td>\n",
       "      <td>95.255350</td>\n",
       "      <td>7384.879493</td>\n",
       "      <td>74.448795</td>\n",
       "      <td>8365.924466</td>\n",
       "      <td>67.548575</td>\n",
       "      <td>9861.872469</td>\n",
       "      <td>64.893983</td>\n",
       "      <td>...</td>\n",
       "      <td>15294.051010</td>\n",
       "      <td>51.938276</td>\n",
       "      <td>16943.45854</td>\n",
       "      <td>45.582341</td>\n",
       "      <td>18011.32870</td>\n",
       "      <td>40.099268</td>\n",
       "      <td>3</td>\n",
       "      <td>1275</td>\n",
       "      <td>6275</td>\n",
       "      <td>0.023477</td>\n",
       "    </tr>\n",
       "    <tr>\n",
       "      <th>4</th>\n",
       "      <td>7582.769376</td>\n",
       "      <td>76.460920</td>\n",
       "      <td>5505.440377</td>\n",
       "      <td>46.367691</td>\n",
       "      <td>5126.986000</td>\n",
       "      <td>42.229020</td>\n",
       "      <td>5316.481195</td>\n",
       "      <td>40.382193</td>\n",
       "      <td>5820.748546</td>\n",
       "      <td>40.637919</td>\n",
       "      <td>...</td>\n",
       "      <td>9131.239665</td>\n",
       "      <td>42.066584</td>\n",
       "      <td>10666.51744</td>\n",
       "      <td>39.934947</td>\n",
       "      <td>11996.08287</td>\n",
       "      <td>37.338831</td>\n",
       "      <td>3</td>\n",
       "      <td>1475</td>\n",
       "      <td>8875</td>\n",
       "      <td>0.000000</td>\n",
       "    </tr>\n",
       "  </tbody>\n",
       "</table>\n",
       "<p>5 rows × 22 columns</p>\n",
       "</div>"
      ],
      "text/plain": [
       "   200_density    200_grad  400_density   400_grad  600_density   600_grad  \\\n",
       "0  8656.933030  112.218825  7597.341244  70.007968  7041.797754  44.197520   \n",
       "1  8656.933030  112.218825  7611.521379  67.579849  7140.335794  37.316788   \n",
       "2  7391.419336   80.107744  4215.056702  13.497684  4638.139568  35.613095   \n",
       "3  7590.690018   75.739903  6942.516611  95.255350  7384.879493  74.448795   \n",
       "4  7582.769376   76.460920  5505.440377  46.367691  5126.986000  42.229020   \n",
       "\n",
       "   800_density   800_grad  1000_density  1000_grad  ...  1800_density  \\\n",
       "0  7265.171755  42.114888   7931.179657  43.053865  ...  10715.253790   \n",
       "1  7536.277455  38.268426   8386.931213  42.054073  ...  11651.165790   \n",
       "2  6278.532303  46.010267   8048.149879  48.104070  ...  13602.005500   \n",
       "3  8365.924466  67.548575   9861.872469  64.893983  ...  15294.051010   \n",
       "4  5316.481195  40.382193   5820.748546  40.637919  ...   9131.239665   \n",
       "\n",
       "   1800_grad  2200_density  2200_grad  2600_density  2600_grad  seeds    cx  \\\n",
       "0  39.167871   12088.08867  38.284992   13368.23758  36.751678      3  1075   \n",
       "1  40.665506   13123.98494  39.661475   14406.29518  37.682455      3  1075   \n",
       "2  46.229137   15450.36451  43.322769   16751.73490  39.498419      3  1075   \n",
       "3  51.938276   16943.45854  45.582341   18011.32870  40.099268      3  1275   \n",
       "4  42.066584   10666.51744  39.934947   11996.08287  37.338831      3  1475   \n",
       "\n",
       "     cy    dipole  \n",
       "0  2675  0.009339  \n",
       "1  3075  0.030979  \n",
       "2  4275  0.055079  \n",
       "3  6275  0.023477  \n",
       "4  8875  0.000000  \n",
       "\n",
       "[5 rows x 22 columns]"
      ]
     },
     "execution_count": 3,
     "metadata": {},
     "output_type": "execute_result"
    }
   ],
   "source": [
    "df.head()"
   ]
  },
  {
   "cell_type": "code",
   "execution_count": 11,
   "id": "ebfd44cd",
   "metadata": {},
   "outputs": [
    {
     "data": {
      "image/png": "[encoded data removed]",
      "text/plain": [
       "<Figure size 432x288 with 1 Axes>"
      ]
     },
     "metadata": {
      "needs_background": "light"
     },
     "output_type": "display_data"
    }
   ],
   "source": [
    "plt.scatter(df[df.seeds==3].cy.values, df[df.seeds==3].cx.values)\n",
    "plt.gca().invert_yaxis()"
   ]
  },
  {
   "cell_type": "code",
   "execution_count": 39,
   "id": "e0cd6110",
   "metadata": {},
   "outputs": [],
   "source": [
    "max_min_dist = 0\n",
    "for seed in [3,4,7,8,11,12]:\n",
    "    seed_coords = np.array(list(zip(df[df.seeds==3].cy.values, df[df.seeds==3].cx.values)))\n",
    "    \n",
    "    for coord in range(len(seed_coords)):\n",
    "        ref = hi[coord]\n",
    "        tiled_ref = np.tile(ref, (len(hi), 1))\n",
    "        norms_ref = np.linalg.norm(tiled_ref - hi, axis = 1)\n",
    "        min_dist = sorted(norms_ref)[1]\n",
    "        if min_dist > max_min_dist:\n",
    "            max_min_dist = min_dist"
   ]
  },
  {
   "cell_type": "code",
   "execution_count": 40,
   "id": "479f03af",
   "metadata": {},
   "outputs": [
    {
     "data": {
      "text/plain": [
       "1077.0329614269008"
      ]
     },
     "execution_count": 40,
     "metadata": {},
     "output_type": "execute_result"
    }
   ],
   "source": [
    "max_min_dist"
   ]
  },
  {
   "cell_type": "code",
   "execution_count": null,
   "id": "34a6b7b0",
   "metadata": {},
   "outputs": [],
   "source": []
  }
 ],
 "metadata": {
  "kernelspec": {
   "display_name": "pytorch",
   "language": "python",
   "name": "pytorch"
  },
  "language_info": {
   "codemirror_mode": {
    "name": "ipython",
    "version": 3
   },
   "file_extension": ".py",
   "mimetype": "text/x-python",
   "name": "python",
   "nbconvert_exporter": "python",
   "pygments_lexer": "ipython3",
   "version": "3.9.7"
  }
 },
 "nbformat": 4,
 "nbformat_minor": 5
}
