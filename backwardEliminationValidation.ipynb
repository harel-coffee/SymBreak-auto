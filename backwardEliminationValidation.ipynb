{
 "cells": [
  {
   "cell_type": "code",
   "execution_count": 1,
   "id": "d782bd05",
   "metadata": {},
   "outputs": [],
   "source": [
    "import numpy as np\n",
    "import pandas as pd\n",
    "from tqdm import tqdm\n",
    "import cupy as cp\n",
    "from cupyx.scipy import ndimage\n",
    "from sklearn.svm import SVR\n",
    "from sklearn.model_selection import cross_val_score\n",
    "from datetime import datetime\n",
    "from PIL import Image\n",
    "import pickle\n",
    "import os\n",
    "import sys\n",
    "import matplotlib.pyplot as plt\n",
    "import itertools\n",
    "import matplotlib\n",
    "import matplotlib.cm as cmx\n",
    "from mpl_toolkits.mplot3d import Axes3D\n",
    "\n",
    "\n",
    "def backward_elim(X_iter, y, n_feats):\n",
    "    n_iter = X_iter.shape[1]\n",
    "    save = []\n",
    "    cv = cross_val_score(model, X_iter, y, cv = 5, scoring = \"neg_mean_squared_error\")\n",
    "    temp_error = cv.mean()\n",
    "    temp_std = cv.std()\n",
    "    save.append((temp_error, temp_std))\n",
    "    \n",
    "    while n_iter > n_feats:\n",
    "        feat_ix = list(range(X_iter.shape[1]))\n",
    "    \n",
    "        min_ix = 0\n",
    "        min_error = -np.infty\n",
    "        min_std = np.infty\n",
    "        for ix in feat_ix:\n",
    "            cols = feat_ix[:ix] + feat_ix[ix+1:]\n",
    "            temp_df = X_iter.iloc[:, cols]\n",
    "            cv = cross_val_score(model, temp_df, y, cv = 5, scoring = \"neg_mean_squared_error\")\n",
    "            temp_error = cv.mean()\n",
    "            temp_std = cv.std()\n",
    "            if temp_error > min_error:\n",
    "                min_ix = ix\n",
    "                min_error = temp_error\n",
    "                min_std = temp_std\n",
    "        save.append((min_error, min_std))\n",
    "        cols = feat_ix[:min_ix] + feat_ix[min_ix+1:]\n",
    "        X_iter = X_iter.iloc[:, cols]\n",
    "        print(X_iter.columns)\n",
    "        n_iter = X_iter.shape[1]\n",
    "        \n",
    "    return X_iter, save"
   ]
  },
  {
   "cell_type": "code",
   "execution_count": null,
   "id": "984296c3",
   "metadata": {},
   "outputs": [],
   "source": [
    "from sklearn.gaussian_process import GaussianProcessRegressor\n",
    "from sklearn.gaussian_process.kernels import ConstantKernel, RBF\n",
    "from sklearn.preprocessing import StandardScaler\n",
    "from sklearn.model_selection import cross_val_score\n",
    "X = labeled_df.iloc[:, 0].values.reshape(-1,1)\n",
    "y = labeled_df.iloc[:, -1]\n",
    "\n",
    "scaler = StandardScaler()\n",
    "X = scaler.fit_transform(X)\n",
    "\n",
    "kernel = RBF(length_scale=0.1)\n",
    "gpr = GaussianProcessRegressor()\n",
    "scores = cross_val_score(gpr, X, y, cv=5, scoring=\"neg_mean_squared_error\")\n",
    "print(scores.mean())"
   ]
  },
  {
   "cell_type": "code",
   "execution_count": 3,
   "id": "e04c6897",
   "metadata": {},
   "outputs": [
    {
     "name": "stdout",
     "output_type": "stream",
     "text": [
      "Index(['200_density', '200_grad', '400_grad', '600_density', '600_grad',\n",
      "       '800_density', '800_grad', '1000_density', '1000_grad', '1400_density',\n",
      "       '1400_grad', '1800_density', '1800_grad', '2200_density', '2200_grad',\n",
      "       '2600_density', '2600_grad'],\n",
      "      dtype='object')\n",
      "Index(['200_density', '200_grad', '400_grad', '600_density', '600_grad',\n",
      "       '800_density', '800_grad', '1000_density', '1000_grad', '1400_density',\n",
      "       '1400_grad', '1800_grad', '2200_density', '2200_grad', '2600_density',\n",
      "       '2600_grad'],\n",
      "      dtype='object')\n",
      "Index(['200_density', '200_grad', '400_grad', '600_grad', '800_density',\n",
      "       '800_grad', '1000_density', '1000_grad', '1400_density', '1400_grad',\n",
      "       '1800_grad', '2200_density', '2200_grad', '2600_density', '2600_grad'],\n",
      "      dtype='object')\n",
      "Index(['200_density', '200_grad', '400_grad', '600_grad', '800_density',\n",
      "       '800_grad', '1000_density', '1000_grad', '1400_density', '1400_grad',\n",
      "       '1800_grad', '2200_grad', '2600_density', '2600_grad'],\n",
      "      dtype='object')\n",
      "Index(['200_density', '200_grad', '400_grad', '600_grad', '800_grad',\n",
      "       '1000_density', '1000_grad', '1400_density', '1400_grad', '1800_grad',\n",
      "       '2200_grad', '2600_density', '2600_grad'],\n",
      "      dtype='object')\n",
      "Index(['200_density', '200_grad', '400_grad', '600_grad', '800_grad',\n",
      "       '1000_density', '1000_grad', '1400_density', '1400_grad', '1800_grad',\n",
      "       '2200_grad', '2600_grad'],\n",
      "      dtype='object')\n",
      "Index(['200_density', '200_grad', '400_grad', '600_grad', '800_grad',\n",
      "       '1000_density', '1000_grad', '1400_grad', '1800_grad', '2200_grad',\n",
      "       '2600_grad'],\n",
      "      dtype='object')\n",
      "Index(['200_density', '200_grad', '400_grad', '600_grad', '800_grad',\n",
      "       '1000_density', '1000_grad', '1400_grad', '2200_grad', '2600_grad'],\n",
      "      dtype='object')\n",
      "Index(['200_density', '200_grad', '400_grad', '800_grad', '1000_density',\n",
      "       '1000_grad', '1400_grad', '2200_grad', '2600_grad'],\n",
      "      dtype='object')\n",
      "Index(['200_density', '200_grad', '400_grad', '800_grad', '1000_density',\n",
      "       '1000_grad', '1400_grad', '2200_grad'],\n",
      "      dtype='object')\n",
      "Index(['200_density', '200_grad', '400_grad', '800_grad', '1000_density',\n",
      "       '1000_grad', '2200_grad'],\n",
      "      dtype='object')\n",
      "Index(['200_density', '200_grad', '400_grad', '800_grad', '1000_density',\n",
      "       '1000_grad'],\n",
      "      dtype='object')\n",
      "Index(['200_density', '200_grad', '800_grad', '1000_density', '1000_grad'], dtype='object')\n",
      "Index(['200_density', '200_grad', '1000_density', '1000_grad'], dtype='object')\n",
      "Index(['200_density', '200_grad', '1000_density'], dtype='object')\n",
      "Index(['200_density', '1000_density'], dtype='object')\n",
      "Index(['200_density'], dtype='object')\n"
     ]
    },
    {
     "data": {
      "text/html": [
       "<div>\n",
       "<style scoped>\n",
       "    .dataframe tbody tr th:only-of-type {\n",
       "        vertical-align: middle;\n",
       "    }\n",
       "\n",
       "    .dataframe tbody tr th {\n",
       "        vertical-align: top;\n",
       "    }\n",
       "\n",
       "    .dataframe thead th {\n",
       "        text-align: right;\n",
       "    }\n",
       "</style>\n",
       "<table border=\"1\" class=\"dataframe\">\n",
       "  <thead>\n",
       "    <tr style=\"text-align: right;\">\n",
       "      <th></th>\n",
       "      <th>200_density</th>\n",
       "    </tr>\n",
       "  </thead>\n",
       "  <tbody>\n",
       "    <tr>\n",
       "      <th>0</th>\n",
       "      <td>8656.933030</td>\n",
       "    </tr>\n",
       "    <tr>\n",
       "      <th>1</th>\n",
       "      <td>8656.933030</td>\n",
       "    </tr>\n",
       "    <tr>\n",
       "      <th>2</th>\n",
       "      <td>7391.419336</td>\n",
       "    </tr>\n",
       "    <tr>\n",
       "      <th>3</th>\n",
       "      <td>7590.690018</td>\n",
       "    </tr>\n",
       "    <tr>\n",
       "      <th>4</th>\n",
       "      <td>7582.769376</td>\n",
       "    </tr>\n",
       "    <tr>\n",
       "      <th>...</th>\n",
       "      <td>...</td>\n",
       "    </tr>\n",
       "    <tr>\n",
       "      <th>563</th>\n",
       "      <td>7391.488390</td>\n",
       "    </tr>\n",
       "    <tr>\n",
       "      <th>564</th>\n",
       "      <td>7467.671663</td>\n",
       "    </tr>\n",
       "    <tr>\n",
       "      <th>565</th>\n",
       "      <td>7588.002272</td>\n",
       "    </tr>\n",
       "    <tr>\n",
       "      <th>566</th>\n",
       "      <td>10359.303730</td>\n",
       "    </tr>\n",
       "    <tr>\n",
       "      <th>567</th>\n",
       "      <td>10359.983770</td>\n",
       "    </tr>\n",
       "  </tbody>\n",
       "</table>\n",
       "<p>568 rows × 1 columns</p>\n",
       "</div>"
      ],
      "text/plain": [
       "      200_density\n",
       "0     8656.933030\n",
       "1     8656.933030\n",
       "2     7391.419336\n",
       "3     7590.690018\n",
       "4     7582.769376\n",
       "..            ...\n",
       "563   7391.488390\n",
       "564   7467.671663\n",
       "565   7588.002272\n",
       "566  10359.303730\n",
       "567  10359.983770\n",
       "\n",
       "[568 rows x 1 columns]"
      ]
     },
     "execution_count": 3,
     "metadata": {},
     "output_type": "execute_result"
    }
   ],
   "source": [
    "# train discriminator\n",
    "from sklearn.preprocessing import StandardScaler, RobustScaler, MinMaxScaler\n",
    "\n",
    "scaler = MinMaxScaler()\n",
    "df = pd.read_csv(\"all_sigmas_df_comb.csv\")\n",
    "#df = np.log(df+1e-5)\n",
    "#df_scaled = scaler.fit_transform(df.iloc[:, :-4])\n",
    "#X = pd.DataFrame(df_scaled)\n",
    "#X.columns = df.iloc[:, :-4].columns.values\n",
    "X = df.iloc[:, :-4]\n",
    "y = df.iloc[:, -1] \n",
    "#model = MLPRegressor(max_iter=500) #\n",
    "model = SVR(kernel='rbf', C=1)\n",
    "\n",
    "\n",
    "X_reduc, log = backward_elim(X, y, 1)\n",
    "df[X_reduc.columns.values]\n",
    "#model = model.fit(X_reduc, y)"
   ]
  },
  {
   "cell_type": "code",
   "execution_count": 4,
   "id": "acc01760",
   "metadata": {},
   "outputs": [
    {
     "name": "stdout",
     "output_type": "stream",
     "text": [
      "['200_density']\n",
      "[200]\n"
     ]
    },
    {
     "data": {
      "text/plain": [
       "array(['200_density'], dtype=object)"
      ]
     },
     "execution_count": 4,
     "metadata": {},
     "output_type": "execute_result"
    }
   ],
   "source": [
    "# get features from backward elimination\n",
    "cols = X_reduc.columns.values\n",
    "print(cols)\n",
    "sigmas = [int(''.join(filter(str.isdigit, item))) for item in X_reduc.columns.values]\n",
    "uniq_sigs = sorted(list(set(sigmas)))\n",
    "print(uniq_sigs)\n",
    "f_density = lambda x: str(x) + \"_density\"\n",
    "f_grad = lambda x: str(x) + \"_grad\"\n",
    "all_feats = [f(sigma) for sigma in uniq_sigs for f in (f_density, f_grad)]\n",
    "ix_sigs = [all_feats.index(col) for col in cols]\n",
    "\n",
    "X_reduc.columns.values"
   ]
  },
  {
   "cell_type": "code",
   "execution_count": 5,
   "id": "b68e4df0",
   "metadata": {},
   "outputs": [
    {
     "data": {
      "text/plain": [
       "<AxesSubplot:>"
      ]
     },
     "execution_count": 5,
     "metadata": {},
     "output_type": "execute_result"
    },
    {
     "data": {
      "image/png": "[encoded data removed]",
      "text/plain": [
       "<Figure size 720x720 with 1 Axes>"
      ]
     },
     "metadata": {
      "needs_background": "light"
     },
     "output_type": "display_data"
    }
   ],
   "source": [
    "plt.figure(figsize=(10,10))\n",
    "X.boxplot(rot=45)"
   ]
  },
  {
   "cell_type": "code",
   "execution_count": 44,
   "id": "33f7a8a3",
   "metadata": {},
   "outputs": [
    {
     "data": {
      "text/plain": [
       "<AxesSubplot:>"
      ]
     },
     "execution_count": 44,
     "metadata": {},
     "output_type": "execute_result"
    },
    {
     "data": {
      "image/png": "[encoded data removed]",
      "text/plain": [
       "<Figure size 720x720 with 1 Axes>"
      ]
     },
     "metadata": {
      "needs_background": "light"
     },
     "output_type": "display_data"
    }
   ],
   "source": [
    "plt.figure(figsize=(10,10))\n",
    "X.boxplot(rot=45)"
   ]
  },
  {
   "cell_type": "code",
   "execution_count": 42,
   "id": "7eaaddb8",
   "metadata": {},
   "outputs": [
    {
     "data": {
      "text/plain": [
       "<AxesSubplot:>"
      ]
     },
     "execution_count": 42,
     "metadata": {},
     "output_type": "execute_result"
    },
    {
     "data": {
      "image/png": "[encoded data removed]",
      "text/plain": [
       "<Figure size 720x720 with 1 Axes>"
      ]
     },
     "metadata": {
      "needs_background": "light"
     },
     "output_type": "display_data"
    }
   ],
   "source": [
    "plt.figure(figsize=(10,10))\n",
    "X.boxplot(rot=45)"
   ]
  },
  {
   "cell_type": "code",
   "execution_count": 39,
   "id": "389bc699",
   "metadata": {},
   "outputs": [
    {
     "data": {
      "text/plain": [
       "<AxesSubplot:>"
      ]
     },
     "execution_count": 39,
     "metadata": {},
     "output_type": "execute_result"
    },
    {
     "data": {
      "image/png": "[encoded data removed]",
      "text/plain": [
       "<Figure size 720x720 with 1 Axes>"
      ]
     },
     "metadata": {
      "needs_background": "light"
     },
     "output_type": "display_data"
    }
   ],
   "source": [
    "plt.figure(figsize=(10,10))\n",
    "X.boxplot(rot=45)"
   ]
  },
  {
   "cell_type": "code",
   "execution_count": 7,
   "id": "1ad93b2d",
   "metadata": {},
   "outputs": [
    {
     "data": {
      "text/plain": [
       "(array([ 92., 172., 139.,  98.,  40.,  11.,   9.,   3.,   2.,   2.]),\n",
       " array([-1.60638481, -0.93104805, -0.2557113 ,  0.41962546,  1.09496221,\n",
       "         1.77029897,  2.44563572,  3.12097248,  3.79630923,  4.47164599,\n",
       "         5.14698274]),\n",
       " <BarContainer object of 10 artists>)"
      ]
     },
     "execution_count": 7,
     "metadata": {},
     "output_type": "execute_result"
    },
    {
     "data": {
      "image/png": "[encoded data removed]",
      "text/plain": [
       "<Figure size 432x288 with 1 Axes>"
      ]
     },
     "metadata": {
      "needs_background": "light"
     },
     "output_type": "display_data"
    }
   ],
   "source": [
    "# standard\n",
    "plt.hist(X[\"200_density\"].values, alpha=0.5)\n",
    "plt.hist(X[\"400_density\"].values, alpha=0.5)"
   ]
  },
  {
   "cell_type": "code",
   "execution_count": 5,
   "id": "85ad22df",
   "metadata": {},
   "outputs": [
    {
     "data": {
      "text/plain": [
       "(array([ 92., 172., 139.,  98.,  40.,  11.,   9.,   3.,   2.,   2.]),\n",
       " array([-1.16981545, -0.62624104, -0.08266663,  0.46090778,  1.00448219,\n",
       "         1.5480566 ,  2.09163101,  2.63520542,  3.17877983,  3.72235424,\n",
       "         4.26592865]),\n",
       " <BarContainer object of 10 artists>)"
      ]
     },
     "execution_count": 5,
     "metadata": {},
     "output_type": "execute_result"
    },
    {
     "data": {
      "image/png": "[encoded data removed]",
      "text/plain": [
       "<Figure size 432x288 with 1 Axes>"
      ]
     },
     "metadata": {
      "needs_background": "light"
     },
     "output_type": "display_data"
    }
   ],
   "source": [
    "# robust\n",
    "plt.hist(X[\"200_density\"].values, alpha=0.5)\n",
    "plt.hist(X[\"400_density\"].values, alpha=0.5)"
   ]
  },
  {
   "cell_type": "code",
   "execution_count": 9,
   "id": "fd5b3e73",
   "metadata": {},
   "outputs": [
    {
     "data": {
      "text/plain": [
       "(array([ 92., 172., 139.,  98.,  40.,  11.,   9.,   3.,   2.,   2.]),\n",
       " array([0. , 0.1, 0.2, 0.3, 0.4, 0.5, 0.6, 0.7, 0.8, 0.9, 1. ]),\n",
       " <BarContainer object of 10 artists>)"
      ]
     },
     "execution_count": 9,
     "metadata": {},
     "output_type": "execute_result"
    },
    {
     "data": {
      "image/png": "[encoded data removed]",
      "text/plain": [
       "<Figure size 432x288 with 1 Axes>"
      ]
     },
     "metadata": {
      "needs_background": "light"
     },
     "output_type": "display_data"
    }
   ],
   "source": [
    "# minmax\n",
    "plt.hist(X[\"200_density\"].values, alpha=0.5)\n",
    "plt.hist(X[\"400_density\"].values, alpha=0.5)"
   ]
  },
  {
   "cell_type": "code",
   "execution_count": 31,
   "id": "f927c257",
   "metadata": {},
   "outputs": [
    {
     "data": {
      "text/plain": [
       "array([[1.      , 0.456301],\n",
       "       [0.456301, 1.      ]])"
      ]
     },
     "execution_count": 31,
     "metadata": {},
     "output_type": "execute_result"
    }
   ],
   "source": [
    "np.corrcoef(X[\"200_density\"].values, y)"
   ]
  },
  {
   "cell_type": "code",
   "execution_count": 34,
   "id": "a0401b53",
   "metadata": {},
   "outputs": [
    {
     "data": {
      "text/plain": [
       "array([[ 1.        , -0.04292004],\n",
       "       [-0.04292004,  1.        ]])"
      ]
     },
     "execution_count": 34,
     "metadata": {},
     "output_type": "execute_result"
    }
   ],
   "source": [
    "np.corrcoef(X[\"1800_grad\"].values, y)"
   ]
  },
  {
   "cell_type": "code",
   "execution_count": 33,
   "id": "61d4e91c",
   "metadata": {},
   "outputs": [
    {
     "data": {
      "text/plain": [
       "[(-0.029711157234178394, 0.014904548833683659),\n",
       " (-0.028606095597034864, 0.015241198887826895),\n",
       " (-0.028094901983341542, 0.014776654661325047),\n",
       " (-0.027643364596096655, 0.014396257448731395),\n",
       " (-0.027352977909457843, 0.014170575503517087),\n",
       " (-0.027208458508663085, 0.014455725504211196),\n",
       " (-0.02670508064336203, 0.014291607359303397),\n",
       " (-0.02641399382180374, 0.014262465299874523),\n",
       " (-0.02610096243411993, 0.014125926003911415),\n",
       " (-0.025566140570129896, 0.01388867084398673),\n",
       " (-0.025411800431892707, 0.013197676923437993),\n",
       " (-0.025140454396923022, 0.0130690232608612),\n",
       " (-0.024846287079760783, 0.01311395788664731),\n",
       " (-0.024422491964907554, 0.01393787255982922),\n",
       " (-0.02411384634592083, 0.013661157604598049),\n",
       " (-0.024094419011294797, 0.014293453521078543),\n",
       " (-0.02409805758861842, 0.015047774615660332),\n",
       " (-0.024129485573749204, 0.015832191861537087)]"
      ]
     },
     "execution_count": 33,
     "metadata": {},
     "output_type": "execute_result"
    }
   ],
   "source": [
    "log"
   ]
  },
  {
   "cell_type": "code",
   "execution_count": 51,
   "id": "70f01b22",
   "metadata": {},
   "outputs": [
    {
     "data": {
      "text/plain": [
       "<ErrorbarContainer object of 3 artists>"
      ]
     },
     "execution_count": 51,
     "metadata": {},
     "output_type": "execute_result"
    },
    {
     "data": {
      "image/png": "[encoded data removed]",
      "text/plain": [
       "<Figure size 432x288 with 1 Axes>"
      ]
     },
     "metadata": {
      "needs_background": "light"
     },
     "output_type": "display_data"
    }
   ],
   "source": [
    "mean_scores = [item[0] for item in log]\n",
    "std_scores = [item[1] for item in log]\n",
    "\n",
    "std_scores\n",
    "\n",
    "x = list(range(len(mean_scores)))\n",
    "plt.errorbar(x, -1*np.array(mean_scores), yerr = std_scores)"
   ]
  },
  {
   "cell_type": "code",
   "execution_count": 52,
   "id": "d2130d23",
   "metadata": {
    "scrolled": true
   },
   "outputs": [
    {
     "data": {
      "image/png": "[encoded data removed]",
      "text/plain": [
       "<Figure size 432x288 with 1 Axes>"
      ]
     },
     "metadata": {
      "needs_background": "light"
     },
     "output_type": "display_data"
    }
   ],
   "source": [
    "hi = list(X.shape[1] - np.array(list(range(len(mean_scores)))))\n",
    "hi = [str(x) for x in hi]\n",
    "\n",
    "plt.rc('font', family='sans-serif')\n",
    "plt.plot(-1*np.array(mean_scores), marker = 'o')\n",
    "plt.title(\"Backward Elimination\")\n",
    "plt.ylabel(\"Mean 5-Fold CV MSE\")\n",
    "plt.xlabel(\"Number of Features\")\n",
    "plt.xticks(list(range(len(log))), hi)\n",
    "#plt.yticks(-1*np.array(log))\n",
    "plt.savefig(\"backward_elim.jpeg\", bbox_inches=\"tight\", dpi=200)\n",
    "plt.show()"
   ]
  },
  {
   "cell_type": "code",
   "execution_count": 12,
   "id": "bee8ecac",
   "metadata": {},
   "outputs": [
    {
     "data": {
      "text/plain": [
       "<AxesSubplot:>"
      ]
     },
     "execution_count": 12,
     "metadata": {},
     "output_type": "execute_result"
    },
    {
     "data": {
      "image/png": "[encoded data removed]",
      "text/plain": [
       "<Figure size 720x720 with 1 Axes>"
      ]
     },
     "metadata": {
      "needs_background": "light"
     },
     "output_type": "display_data"
    }
   ],
   "source": [
    "# Standard scaling (best feats: ['400_density' '1800_grad'])\n",
    "plt.figure(figsize=(10,10))\n",
    "X.boxplot(rot=45)"
   ]
  },
  {
   "cell_type": "code",
   "execution_count": 9,
   "id": "442ef4f9",
   "metadata": {},
   "outputs": [
    {
     "data": {
      "text/plain": [
       "<AxesSubplot:>"
      ]
     },
     "execution_count": 9,
     "metadata": {},
     "output_type": "execute_result"
    },
    {
     "data": {
      "image/png": "[encoded data removed]",
      "text/plain": [
       "<Figure size 720x720 with 1 Axes>"
      ]
     },
     "metadata": {
      "needs_background": "light"
     },
     "output_type": "display_data"
    }
   ],
   "source": [
    "# Robust scaling (best feats: ['200_density' '2600_grad'])\n",
    "plt.figure(figsize=(10,10))\n",
    "X.boxplot(rot=45)"
   ]
  },
  {
   "cell_type": "code",
   "execution_count": null,
   "id": "e1c9fb31",
   "metadata": {},
   "outputs": [],
   "source": [
    "# Standard scaling (best feats: ['400_density' '1800_grad'])\n",
    "plt.figure(figsize=(10,10))\n",
    "X.boxplot(rot=45)"
   ]
  },
  {
   "cell_type": "code",
   "execution_count": 5,
   "id": "f1daace9",
   "metadata": {},
   "outputs": [
    {
     "data": {
      "text/plain": [
       "<AxesSubplot:>"
      ]
     },
     "execution_count": 5,
     "metadata": {},
     "output_type": "execute_result"
    },
    {
     "data": {
      "image/png": "[encoded data removed]",
      "text/plain": [
       "<Figure size 720x720 with 1 Axes>"
      ]
     },
     "metadata": {
      "needs_background": "light"
     },
     "output_type": "display_data"
    }
   ],
   "source": [
    "# Min Max Scaling (best feats: ['200_density' '1800_density'])\n",
    "plt.figure(figsize=(10,10))\n",
    "X.boxplot(rot=45)"
   ]
  },
  {
   "cell_type": "code",
   "execution_count": 46,
   "id": "bd0752e8",
   "metadata": {},
   "outputs": [
    {
     "data": {
      "image/png": "[encoded data removed]",
      "text/plain": [
       "<Figure size 432x288 with 1 Axes>"
      ]
     },
     "metadata": {
      "needs_background": "light"
     },
     "output_type": "display_data"
    }
   ],
   "source": [
    "plt.plot(X_reduc.iloc[:,0].values, model.predict(x.reshape(-1,1)), \"o\")\n",
    "plt.xlabel(\"Standardized Density 400\")\n",
    "plt.ylabel(\"Predicted Dipole\")\n",
    "plt.title(\"Single Feature Prediction\")\n",
    "plt.show()"
   ]
  },
  {
   "cell_type": "code",
   "execution_count": 92,
   "id": "4abfc2de",
   "metadata": {},
   "outputs": [
    {
     "data": {
      "image/png": "[encoded data removed]",
      "text/plain": [
       "<Figure size 432x288 with 2 Axes>"
      ]
     },
     "metadata": {
      "needs_background": "light"
     },
     "output_type": "display_data"
    }
   ],
   "source": [
    "def scatter2d(x,y, cs, colorsMap='jet'):\n",
    "    cm = plt.get_cmap(colorsMap)\n",
    "    cNorm = matplotlib.colors.Normalize(vmin=min(cs), vmax=max(cs))\n",
    "    scalarMap = cmx.ScalarMappable(norm=cNorm, cmap=cm)\n",
    "    plt.scatter(x, y, c=scalarMap.to_rgba(cs))\n",
    "    plt.xlabel('Density 400')\n",
    "    plt.ylabel('Grad 1800')\n",
    "    scalarMap.set_array(cs)\n",
    "    plt.colorbar(scalarMap, pad=0.1)\n",
    "    plt.show()\n",
    "\n",
    "xref = X_reduc.iloc[:, 0]\n",
    "yref = X_reduc.iloc[:, 1]    \n",
    "\n",
    "xstd = np.std(xref)\n",
    "ystd = np.std(yref)\n",
    "\n",
    "xmin, xmax = min(xref), max(xref)\n",
    "ymin, ymax = min(yref), max(yref)\n",
    "\n",
    "x = np.linspace(xmin - 3*xstd, xmax + 3*xstd, 100)\n",
    "y = np.linspace(ymin - 3*ystd, ymax + 3*ystd, 100)\n",
    "\n",
    "\n",
    "a = [x,y]\n",
    "points = np.array(list(itertools.product(*a)))\n",
    "\n",
    "preds = model.predict(points)\n",
    "\n",
    "scatter2d(points[:, 0], points[:, 1], preds)"
   ]
  },
  {
   "cell_type": "code",
   "execution_count": null,
   "id": "348eb790",
   "metadata": {},
   "outputs": [],
   "source": [
    "%matplotlib notebook\n",
    "\n",
    "\n",
    "\n",
    "def scatter3d(x, y, z, cs, colorsMap='jet'):\n",
    "    cm = plt.get_cmap(colorsMap)\n",
    "    cNorm = matplotlib.colors.Normalize(vmin=min(cs), vmax=max(cs))\n",
    "    scalarMap = cmx.ScalarMappable(norm=cNorm, cmap=cm)\n",
    "    fig = plt.figure()\n",
    "    ax = Axes3D(fig, auto_add_to_figure=False)\n",
    "    fig.add_axes(ax)\n",
    "    ax.scatter(x, y, z, c=scalarMap.to_rgba(cs))\n",
    "    ax.set_xlabel('Grada 2600')\n",
    "    ax.set_ylabel('Grad 1800')\n",
    "    ax.set_zlabel('Density 400')\n",
    "    scalarMap.set_array(cs)\n",
    "    fig.colorbar(scalarMap, pad=0.2)\n",
    "    plt.show()\n",
    "    \n",
    "xref = X_reduc.iloc[:, 2]\n",
    "yref = X_reduc.iloc[:, 1]\n",
    "zref = X_reduc.iloc[:, 0]\n",
    "\n",
    "xstd = np.std(xref)\n",
    "ystd = np.std(yref)\n",
    "zstd = np.std(zref)\n",
    "\n",
    "xmin, xmax = min(xref), max(xref)\n",
    "ymin, ymax = min(yref), max(yref)\n",
    "zmin, zmax = min(zref), max(zref)\n",
    "\n",
    "std_mult = 0\n",
    "x = np.linspace(xmin - std_mult*xstd, xmax + std_mult*xstd, 100)\n",
    "y = np.linspace(ymin - std_mult*ystd, ymax + std_mult*ystd, 100)\n",
    "z = np.linspace(zmin - std_mult*zstd, zmax + std_mult*zstd, 100)\n",
    "\n",
    "a = [x,y,z]\n",
    "points = np.array(list(itertools.product(*a)))\n",
    "\n",
    "preds = model.predict(points)\n",
    "\n",
    "scatter3d(points[:, 0], points[:, 1], points[:, 2], preds)"
   ]
  },
  {
   "cell_type": "code",
   "execution_count": null,
   "id": "282ab0dd",
   "metadata": {},
   "outputs": [],
   "source": []
  },
  {
   "cell_type": "code",
   "execution_count": null,
   "id": "24c2ab64",
   "metadata": {},
   "outputs": [],
   "source": []
  },
  {
   "cell_type": "code",
   "execution_count": null,
   "id": "e6ed4b33",
   "metadata": {},
   "outputs": [],
   "source": []
  },
  {
   "cell_type": "code",
   "execution_count": null,
   "id": "58c91729",
   "metadata": {},
   "outputs": [],
   "source": []
  },
  {
   "cell_type": "code",
   "execution_count": null,
   "id": "cfed66e0",
   "metadata": {},
   "outputs": [],
   "source": []
  },
  {
   "cell_type": "code",
   "execution_count": null,
   "id": "21f1aabc",
   "metadata": {},
   "outputs": [],
   "source": []
  },
  {
   "cell_type": "code",
   "execution_count": null,
   "id": "06aa417e",
   "metadata": {},
   "outputs": [],
   "source": []
  },
  {
   "cell_type": "code",
   "execution_count": null,
   "id": "d21dfbe2",
   "metadata": {},
   "outputs": [],
   "source": [
    "from sklearn.preprocessing import StandardScaler\n",
    "from sklearn.preprocessing import MinMaxScaler"
   ]
  },
  {
   "cell_type": "code",
   "execution_count": null,
   "id": "e2ce8a0e",
   "metadata": {},
   "outputs": [],
   "source": [
    "scaler = StandardScaler()\n",
    "scale = MinMaxScaler()"
   ]
  },
  {
   "cell_type": "code",
   "execution_count": null,
   "id": "d8416933",
   "metadata": {},
   "outputs": [],
   "source": [
    "X_reduce_scale = scaler.fit_transform(X_reduc)\n",
    "X_red_scale = scale.fit_transform(X_reduc)"
   ]
  },
  {
   "cell_type": "code",
   "execution_count": null,
   "id": "a40dd3cd",
   "metadata": {},
   "outputs": [],
   "source": [
    "pd.DataFrame(X_red_scale).describe()"
   ]
  },
  {
   "cell_type": "code",
   "execution_count": null,
   "id": "4f616de8",
   "metadata": {},
   "outputs": [],
   "source": [
    "model.fit(X_red_scale, y)"
   ]
  },
  {
   "cell_type": "code",
   "execution_count": null,
   "id": "cceda3dc",
   "metadata": {},
   "outputs": [],
   "source": [
    "ye = np.linspace(0,1,10)"
   ]
  },
  {
   "cell_type": "code",
   "execution_count": null,
   "id": "d79c3265",
   "metadata": {},
   "outputs": [],
   "source": []
  },
  {
   "cell_type": "code",
   "execution_count": null,
   "id": "9b7a22c5",
   "metadata": {},
   "outputs": [],
   "source": [
    "preds = model.predict(points)"
   ]
  },
  {
   "cell_type": "code",
   "execution_count": null,
   "id": "10df072f",
   "metadata": {},
   "outputs": [],
   "source": [
    "from mpl_toolkits import mplot3d\n",
    "%matplotlib inline\n",
    "import numpy as np\n",
    "import matplotlib.pyplot as plt\n",
    "\n",
    "fig = plt.figure()\n",
    "ax = plt.axes(projection='3d')\n",
    "ax.plot_trisurf(points[:, 0], points[:, 1], points[:, 2], cmap='viridis', edgecolor='none')"
   ]
  },
  {
   "cell_type": "code",
   "execution_count": null,
   "id": "e654c4cb",
   "metadata": {},
   "outputs": [],
   "source": [
    "X_reduc"
   ]
  },
  {
   "cell_type": "code",
   "execution_count": null,
   "id": "07ac53d6",
   "metadata": {},
   "outputs": [],
   "source": []
  },
  {
   "cell_type": "code",
   "execution_count": null,
   "id": "8ab31bc3",
   "metadata": {},
   "outputs": [],
   "source": []
  },
  {
   "cell_type": "code",
   "execution_count": null,
   "id": "d5ecdbdd",
   "metadata": {},
   "outputs": [],
   "source": []
  },
  {
   "cell_type": "code",
   "execution_count": null,
   "id": "4300b045",
   "metadata": {},
   "outputs": [],
   "source": []
  },
  {
   "cell_type": "code",
   "execution_count": null,
   "id": "dd4aedb9",
   "metadata": {},
   "outputs": [],
   "source": []
  },
  {
   "cell_type": "code",
   "execution_count": null,
   "id": "c86b0a09",
   "metadata": {},
   "outputs": [],
   "source": [
    "X_plot = X_reduc.round(0)"
   ]
  },
  {
   "cell_type": "code",
   "execution_count": null,
   "id": "6d11e1dd",
   "metadata": {},
   "outputs": [],
   "source": [
    "X_plot"
   ]
  },
  {
   "cell_type": "code",
   "execution_count": null,
   "id": "79beda13",
   "metadata": {},
   "outputs": [],
   "source": []
  },
  {
   "cell_type": "code",
   "execution_count": null,
   "id": "4fe1fccf",
   "metadata": {},
   "outputs": [],
   "source": [
    "stepd200, stepg200, stepd1000"
   ]
  },
  {
   "cell_type": "code",
   "execution_count": null,
   "id": "15921bca",
   "metadata": {},
   "outputs": [],
   "source": []
  },
  {
   "cell_type": "code",
   "execution_count": null,
   "id": "ccd7b9da",
   "metadata": {},
   "outputs": [],
   "source": [
    "data"
   ]
  },
  {
   "cell_type": "code",
   "execution_count": null,
   "id": "648daaf1",
   "metadata": {},
   "outputs": [],
   "source": [
    "import matplotlib.pyplot as plt\n",
    "import numpy as np\n",
    "\n",
    "# Define dimensions\n",
    "#Nx, Ny, Nz = 100, 300, 500\n",
    "X, Y, Z = np.meshgrid(np.arange(min_d200, max_d200, stepd200), np.arange(min_g200, max_g200, stepg200), np.arange(min_d1000, max_d1000, stepd1000))\n",
    "# Create fake data\n",
    "data = (((X+100)**2 + (Y-20)**2 + 2*Z)/1000+1)\n",
    "\n",
    "kw = {\n",
    "    'vmin': data.min(),\n",
    "    'vmax': data.max(),\n",
    "    'levels': np.linspace(data.min(), data.max(), 10),\n",
    "}\n",
    "\n",
    "# Create a figure with 3D ax\n",
    "fig = plt.figure(figsize=(5, 4))\n",
    "ax = fig.add_subplot(111, projection='3d')\n",
    "\n",
    "# Plot contour surfaces\n",
    "_ = ax.contourf(\n",
    "    X[:, :, -1], Y[:, :, -1], data[:, :, -1],\n",
    "    zdir='z', offset=0, **kw\n",
    ")\n",
    "_ = ax.contourf(\n",
    "    X[0, :, :], data[0, :, :], Z[0, :, :],\n",
    "    zdir='y', offset=0, **kw\n",
    ")\n",
    "C = ax.contourf(\n",
    "    data[:, -1, :], Y[:, -1, :], Z[:, -1, :],\n",
    "    zdir='x', offset=X.max(), **kw\n",
    ")\n",
    "# --\n",
    "\n",
    "\n",
    "# Set limits of the plot from coord limits\n",
    "xmin, xmax = X.min(), X.max()\n",
    "ymin, ymax = Y.min(), Y.max()\n",
    "zmin, zmax = Z.min(), Z.max()\n",
    "ax.set(xlim=[xmin, xmax], ylim=[ymin, ymax], zlim=[zmin, zmax])\n",
    "\n",
    "# Plot edges\n",
    "edges_kw = dict(color='0.4', linewidth=1, zorder=1e3)\n",
    "ax.plot([xmax, xmax], [ymin, ymax], 1000, **edges_kw)\n",
    "ax.plot([xmin, xmax], [ymin, ymin], 1000, **edges_kw)\n",
    "ax.plot([xmax, xmax], [ymin, ymin], [zmin, zmax], **edges_kw)\n",
    "\n",
    "# Set labels and zticks\n",
    "ax.set(\n",
    "    xlabel='X [km]',\n",
    "    ylabel='Y [km]',\n",
    "    zlabel='Z [m]',\n",
    ")\n",
    "\n",
    "# Set distance and angle view\n",
    "ax.view_init(40, -30)\n",
    "ax.dist = 11\n",
    "\n",
    "# Colorbar\n",
    "fig.colorbar(C, ax=ax, fraction=0.02, pad=0.1, label='Name [units]')\n",
    "\n",
    "# Show Figure\n",
    "plt.show()"
   ]
  },
  {
   "cell_type": "code",
   "execution_count": null,
   "id": "51046561",
   "metadata": {},
   "outputs": [],
   "source": [
    "from mpl_toolkits.mplot3d import axes3d\n",
    "import matplotlib.pyplot as plt\n",
    "from matplotlib import cm\n",
    "\n",
    "ax = plt.figure(figsize=(10,10)).add_subplot(projection='3d')\n",
    "X, Y, Z = axes3d.get_test_data(0.05)\n",
    "\n",
    "# Plot the 3D surface\n",
    "ax.plot_surface(X, Y, Z, rstride=8, cstride=8, alpha=0.3)\n",
    "\n",
    "# Plot projections of the contours for each dimension.  By choosing offsets\n",
    "# that match the appropriate axes limits, the projected contours will sit on\n",
    "# the 'walls' of the graph\n",
    "cset = ax.contour(X, Y, Z, zdir='z', offset=-100, cmap=cm.coolwarm)\n",
    "cset = ax.contour(X, Y, Z, zdir='x', offset=-40, cmap=cm.coolwarm)\n",
    "cset = ax.contour(X, Y, Z, zdir='y', offset=40, cmap=cm.coolwarm)\n",
    "\n",
    "ax.set_xlim(-40, 40)\n",
    "ax.set_ylim(-40, 40)\n",
    "ax.set_zlim(-100, 100)\n",
    "\n",
    "ax.set_xlabel('X')\n",
    "ax.set_ylabel('Y')\n",
    "ax.set_zlabel('Z')\n",
    "\n",
    "plt.show()"
   ]
  },
  {
   "cell_type": "code",
   "execution_count": null,
   "id": "d05f4b73",
   "metadata": {},
   "outputs": [],
   "source": []
  },
  {
   "cell_type": "code",
   "execution_count": null,
   "id": "55d2bd0c",
   "metadata": {},
   "outputs": [],
   "source": [
    "from mpl_toolkits.mplot3d import axes3d\n",
    "import matplotlib.pyplot as plt\n",
    "\n",
    "fig = plt.figure()\n",
    "ax = fig.add_subplot(projection='3d')\n",
    "\n",
    "# load some test data for demonstration and plot a wireframe\n",
    "ax.plot_wireframe(points[:, 0], points[:, 1], points[:, 2], rstride=5, cstride=5)\n",
    "\n",
    "# rotate the axes and update\n",
    "for angle in range(0, 360):\n",
    "    ax.view_init(30, angle)\n",
    "    plt.draw()\n",
    "    plt.pause(.001)"
   ]
  },
  {
   "cell_type": "code",
   "execution_count": null,
   "id": "448d1742",
   "metadata": {},
   "outputs": [],
   "source": []
  },
  {
   "cell_type": "code",
   "execution_count": null,
   "id": "9bcd26b4",
   "metadata": {},
   "outputs": [],
   "source": [
    "import pickle\n",
    "import numpy as np\n",
    "import pandas as pd\n",
    "import matplotlib.pyplot as plt\n",
    "from PIL import Image\n",
    "from cupyx.scipy import ndimage\n",
    "import cupy as cp"
   ]
  },
  {
   "cell_type": "code",
   "execution_count": null,
   "id": "e62e7a07",
   "metadata": {},
   "outputs": [],
   "source": [
    "with open(\"log3.txt\", \"rb\") as fp:\n",
    "    log3 = pickle.load(fp)\n",
    "\n",
    "image3 = Image.open('final_seed_3.png')"
   ]
  },
  {
   "cell_type": "code",
   "execution_count": null,
   "id": "dff6f766",
   "metadata": {},
   "outputs": [],
   "source": [
    "im3 = np.asarray(image3)\n",
    "centroids3 = log3[-1][-1]"
   ]
  },
  {
   "cell_type": "code",
   "execution_count": null,
   "id": "431bccc3",
   "metadata": {},
   "outputs": [],
   "source": [
    "df = pd.read_csv(\"random_features_dipole_v3.csv\")"
   ]
  },
  {
   "cell_type": "code",
   "execution_count": null,
   "id": "a486f3ba",
   "metadata": {},
   "outputs": [],
   "source": [
    "df.iloc[:, :-3].reindex(sorted(df.iloc[:, :-4]), axis=1).corr()"
   ]
  },
  {
   "cell_type": "code",
   "execution_count": null,
   "id": "5606c8c6",
   "metadata": {},
   "outputs": [],
   "source": [
    "cols = ['density200', 'grad200', 'density400', 'grad400', 'density600',\n",
    "       'grad600', 'density800', 'grad800','dipole']"
   ]
  },
  {
   "cell_type": "code",
   "execution_count": null,
   "id": "c56616b1",
   "metadata": {},
   "outputs": [],
   "source": [
    "df[cols].corr()"
   ]
  },
  {
   "cell_type": "code",
   "execution_count": null,
   "id": "05411c0c",
   "metadata": {},
   "outputs": [],
   "source": [
    "from sklearn.svm import SVR\n",
    "\n",
    "regr = SVR()\n",
    "\n",
    "X = df[cols[:-1]]\n",
    "\n",
    "y = df[cols[-1]]\n",
    "\n",
    "regr.fit(X, y)"
   ]
  },
  {
   "cell_type": "code",
   "execution_count": null,
   "id": "1bc2206e",
   "metadata": {},
   "outputs": [],
   "source": [
    "regr."
   ]
  },
  {
   "cell_type": "code",
   "execution_count": null,
   "id": "c52af0d7",
   "metadata": {},
   "outputs": [],
   "source": [
    "i, c, d = generate_window(40, 1/16, 100, 3)"
   ]
  },
  {
   "cell_type": "code",
   "execution_count": null,
   "id": "8b3ff4a0",
   "metadata": {},
   "outputs": [],
   "source": [
    "hih = np.array(c)\n",
    "plt.scatter(hih[:, 1]//200, hih[:, 0]//200)"
   ]
  },
  {
   "cell_type": "code",
   "execution_count": null,
   "id": "06fb952a",
   "metadata": {},
   "outputs": [],
   "source": [
    "plt.scatter(df[df.seeds == 3].cy, df[df.seeds == 3].cx)"
   ]
  },
  {
   "cell_type": "code",
   "execution_count": null,
   "id": "8954b524",
   "metadata": {},
   "outputs": [],
   "source": [
    "ya = df[df.seeds == 7]\n",
    "plt.hist(ya.density400)\n",
    "plt.show()\n",
    "plt.hist(ya.grad400)\n",
    "plt.show()"
   ]
  },
  {
   "cell_type": "code",
   "execution_count": null,
   "id": "f084db62",
   "metadata": {},
   "outputs": [],
   "source": [
    "def generate_window(window_size, p, pad, seed):\n",
    "    np.random.seed(seed)\n",
    "    random_pattern = np.random.rand(window_size, window_size)\n",
    "    binary_pattern = np.where(random_pattern < p, 1, 0)\n",
    "\n",
    "    org_locs = np.argwhere(binary_pattern == 1)\n",
    "\n",
    "    org_locs_scaled = org_locs*200+pad\n",
    "    pattern_dim_scaled = window_size*200+2*pad\n",
    "    \n",
    "    centroids = []\n",
    "    im = np.zeros((pattern_dim_scaled, pattern_dim_scaled))\n",
    "\n",
    "    for y, x in org_locs_scaled:\n",
    "        im[y:y+150,x:x+150] = 255\n",
    "        centroids.append((y+75, x+75))\n",
    "    \n",
    "    return im, centroids, pattern_dim_scaled"
   ]
  },
  {
   "cell_type": "code",
   "execution_count": null,
   "id": "156b1b34",
   "metadata": {},
   "outputs": [],
   "source": [
    "plt.imshow(hi)"
   ]
  },
  {
   "cell_type": "code",
   "execution_count": null,
   "id": "e5d514b0",
   "metadata": {},
   "outputs": [],
   "source": [
    "hifeats = extract_features(hi, 400, centroids)"
   ]
  },
  {
   "cell_type": "code",
   "execution_count": null,
   "id": "dddde837",
   "metadata": {},
   "outputs": [],
   "source": [
    "plt.hist(hifeats[:, 0])\n",
    "plt.show()"
   ]
  },
  {
   "cell_type": "code",
   "execution_count": null,
   "id": "a41fe621",
   "metadata": {},
   "outputs": [],
   "source": [
    "hifeats[:, 0].shape"
   ]
  },
  {
   "cell_type": "code",
   "execution_count": null,
   "id": "ffc5f4b3",
   "metadata": {},
   "outputs": [],
   "source": [
    "np.sum(hifeats[:, 0] > 14000)"
   ]
  },
  {
   "cell_type": "code",
   "execution_count": null,
   "id": "a413b833",
   "metadata": {},
   "outputs": [],
   "source": [
    "def extract_features(image, sigma, centroids):\n",
    "    mempool = cp.get_default_memory_pool()\n",
    "    pinned_mempool = cp.get_default_pinned_memory_pool()\n",
    "\n",
    "    im_blur = ndimage.gaussian_filter(cp.array(image), sigma=sigma, mode='constant',cval=0)\n",
    "\n",
    "    im_blur_norm=im_blur*sigma*cp.sqrt(np.pi)\n",
    "\n",
    "    im_sx = ndimage.sobel(im_blur_norm, axis=1, mode='reflect')\n",
    "    im_sy = ndimage.sobel(im_blur_norm, axis=0, mode='reflect')\n",
    "    im_sobel=np.hypot(im_sx, im_sy)\n",
    "\n",
    "    feats = []\n",
    "   \n",
    "    for centroid in centroids:\n",
    "        y, x = centroid[0], centroid[1]\n",
    "        density = cp.nanmean(im_blur_norm[x-75: x+75, y-75: y+75])\n",
    "        grad = cp.nanmean(im_sobel[x-75: x+75, y-75: y+75])\n",
    "        feats.append([density.get(), grad.get()])\n",
    "\n",
    "    mempool.free_all_blocks()\n",
    "    pinned_mempool.free_all_blocks()\n",
    "\n",
    "    feats = np.array(feats)\n",
    "    return feats"
   ]
  },
  {
   "cell_type": "code",
   "execution_count": null,
   "id": "6d24aa3e",
   "metadata": {},
   "outputs": [],
   "source": [
    "with open(\"log3.txt\", \"rb\") as fp:\n",
    "    log3 = pickle.load(fp)\n",
    "\n",
    "image3 = Image.open('final_seed_3.png')\n",
    "\n",
    "im3 = np.asarray(image3)\n",
    "centroids3 = log3[-1][-1]\n",
    "\n",
    "feats3 = extract_features(im3.astype(np.float64), 400, centroids3)\n",
    "\n",
    "plt.imshow(im3)\n",
    "plt.scatter(centroids3[0][1], centroids3[0][0], c = \"red\", s=10)\n",
    "plt.scatter(centroids3[1][1], centroids3[1][0], c = \"red\", s=10)\n",
    "plt.show()\n",
    "\n",
    "hi, centroids, _ = generate_window(40, 1/16, 100, 3)\n",
    "o3 = extract_features(hi, 400, centroids)\n",
    "\n",
    "fig, axs = plt.subplots(2, 2)\n",
    "fig.set_size_inches(18.5, 12)\n",
    "axs[0, 0].hist(o3[:, 0])\n",
    "axs[0, 0].set_title(\"Ground Truth Iter 1: Density Sigma 400 Histogram\")\n",
    "axs[0, 1].hist(feats3[:, 0])\n",
    "axs[0, 1].set_title('Generated Iter 1: Density Sigma 400 Histogram')\n",
    "axs[1, 0].hist(o3[:, 1])\n",
    "axs[1, 0].set_title('Ground Truth Iter 1: Grad Sigma 400 Histogram')\n",
    "axs[1, 1].hist(feats3[:, 1])\n",
    "axs[1, 1].set_title('Generated Iter 1: Grad Sigma 400 Histogram')\n",
    "plt.show()"
   ]
  },
  {
   "cell_type": "code",
   "execution_count": null,
   "id": "cb9654d8",
   "metadata": {},
   "outputs": [],
   "source": [
    "with open(\"log4.txt\", \"rb\") as fp:\n",
    "    log4 = pickle.load(fp)\n",
    "\n",
    "image4 = Image.open('final_seed_4.png')\n",
    "\n",
    "im4 = np.asarray(image4)\n",
    "centroids4 = log4[-1][-1]\n",
    "\n",
    "feats4 = extract_features(im4.astype(np.float64), 400, centroids4)\n",
    "\n",
    "plt.imshow(im4)\n",
    "plt.scatter(centroids4[0][1], centroids4[0][0], c = \"red\", s=10)\n",
    "plt.scatter(centroids4[1][1], centroids4[1][0], c = \"red\", s=10)\n",
    "plt.show()\n",
    "\n",
    "hi, centroids, _ = generate_window(40, 1/16, 100, 4)\n",
    "o4 = extract_features(hi, 400, centroids)\n",
    "\n",
    "fig, axs = plt.subplots(2, 2)\n",
    "fig.set_size_inches(18.5, 12)\n",
    "axs[0, 0].hist(o4[:, 0])\n",
    "axs[0, 0].set_title(\"Ground Truth Iter 1: Density Sigma 400 Histogram\")\n",
    "axs[0, 1].hist(feats4[:, 0])\n",
    "axs[0, 1].set_title('Generated Iter 1: Density Sigma 400 Histogram')\n",
    "axs[1, 0].hist(o4[:, 1])\n",
    "axs[1, 0].set_title('Ground Truth Iter 1: Grad Sigma 400 Histogram')\n",
    "axs[1, 1].hist(feats4[:, 1])\n",
    "axs[1, 1].set_title('Generated Iter 1: Grad Sigma 400 Histogram')\n",
    "plt.show()"
   ]
  },
  {
   "cell_type": "code",
   "execution_count": null,
   "id": "6fc41c78",
   "metadata": {},
   "outputs": [],
   "source": [
    "plt.imshow(hi)"
   ]
  },
  {
   "cell_type": "code",
   "execution_count": null,
   "id": "4aef3e35",
   "metadata": {},
   "outputs": [],
   "source": [
    "with open(\"log7.txt\", \"rb\") as fp:\n",
    "    log7 = pickle.load(fp)\n",
    "\n",
    "image7 = Image.open('final_seed_7.png')\n",
    "\n",
    "im7 = np.asarray(image7)\n",
    "centroids7 = log7[-1][-1]\n",
    "\n",
    "feats7 = extract_features(im7.astype(np.float64), 400, centroids7)\n",
    "\n",
    "plt.imshow(im7)\n",
    "plt.scatter(centroids7[0][1], centroids7[0][0], c = \"red\", s=10)\n",
    "plt.scatter(centroids7[1][1], centroids7[1][0], c = \"red\", s=10)\n",
    "plt.show()\n",
    "\n",
    "yo, c7, _ = generate_window(40, 1/16, 100, 7)\n",
    "o7 = extract_features(yo, 400, c7)\n",
    "\n",
    "fig, axs = plt.subplots(2, 2)\n",
    "fig.set_size_inches(18.5, 12)\n",
    "axs[0, 0].hist(o7[:, 0])\n",
    "axs[0, 0].set_title(\"Ground Truth Iter 1: Density Sigma 400 Histogram\")\n",
    "axs[0, 1].hist(feats7[:, 0])\n",
    "axs[0, 1].set_title('Generated Iter 1: Density Sigma 400 Histogram')\n",
    "axs[1, 0].hist(o7[:, 1])\n",
    "axs[1, 0].set_title('Ground Truth Iter 1: Grad Sigma 400 Histogram')\n",
    "axs[1, 1].hist(feats7[:, 1])\n",
    "axs[1, 1].set_title('Generated Iter 1: Grad Sigma 400 Histogram')\n",
    "plt.show()"
   ]
  },
  {
   "cell_type": "code",
   "execution_count": null,
   "id": "c42af84f",
   "metadata": {},
   "outputs": [],
   "source": []
  },
  {
   "cell_type": "code",
   "execution_count": null,
   "id": "cb20aed7",
   "metadata": {},
   "outputs": [],
   "source": []
  },
  {
   "cell_type": "code",
   "execution_count": null,
   "id": "12e7a95a",
   "metadata": {},
   "outputs": [],
   "source": []
  },
  {
   "cell_type": "code",
   "execution_count": null,
   "id": "0d20552c",
   "metadata": {},
   "outputs": [],
   "source": [
    "np.sum(df[df.seeds == 3].density400 > 14000)"
   ]
  },
  {
   "cell_type": "code",
   "execution_count": null,
   "id": "2d010df6",
   "metadata": {},
   "outputs": [],
   "source": [
    "np.sum(feats3[:, 0] > 14000)"
   ]
  },
  {
   "cell_type": "code",
   "execution_count": null,
   "id": "750dfa66",
   "metadata": {},
   "outputs": [],
   "source": [
    "np.sum(df[df.seeds == 3].grad400 > 120)"
   ]
  },
  {
   "cell_type": "code",
   "execution_count": null,
   "id": "d7ec7007",
   "metadata": {},
   "outputs": [],
   "source": [
    "np.sum(feats3[:, 1] > 120)"
   ]
  },
  {
   "cell_type": "code",
   "execution_count": null,
   "id": "70607a53",
   "metadata": {},
   "outputs": [],
   "source": []
  },
  {
   "cell_type": "code",
   "execution_count": null,
   "id": "c9051eee",
   "metadata": {},
   "outputs": [],
   "source": []
  },
  {
   "cell_type": "code",
   "execution_count": null,
   "id": "2c9940e5",
   "metadata": {},
   "outputs": [],
   "source": [
    "plt.hist(df[df.seeds == 4].grad400.values)\n",
    "plt.title(\"Ground Truth Iter 1: Gradient Sigma 400 Histogram\")\n",
    "plt.show()\n",
    "\n",
    "plt.hist(df[df.seeds == 4].density400)\n",
    "plt.title(\"Ground Truth Iter 1: Density Sigma 400 Histogram\")\n",
    "plt.show()"
   ]
  },
  {
   "cell_type": "code",
   "execution_count": null,
   "id": "14782882",
   "metadata": {},
   "outputs": [],
   "source": [
    "with open(\"log4.txt\", \"rb\") as fp:\n",
    "    log4 = pickle.load(fp)\n",
    "\n",
    "image4 = Image.open('final_seed_4.png')\n",
    "\n",
    "im4 = np.asarray(image4)\n",
    "centroids4 = log4[-1][-1]\n",
    "\n",
    "feats4 = extract_features(im4, 400, centroids4)\n",
    "\n",
    "plt.imshow(im4)\n",
    "plt.scatter(centroids4[0][1], centroids4[0][0], c = \"red\", s=10)\n",
    "plt.scatter(centroids4[1][1], centroids4[1][0], c = \"red\", s=10)\n",
    "plt.show()\n",
    "\n",
    "plt.hist(feats4[:, 0])\n",
    "plt.show()\n",
    "\n",
    "plt.hist(feats4[:, 1])\n",
    "plt.show()"
   ]
  },
  {
   "cell_type": "code",
   "execution_count": null,
   "id": "b3c1dbaf",
   "metadata": {},
   "outputs": [],
   "source": [
    "with open(\"log7.txt\", \"rb\") as fp:\n",
    "    log7 = pickle.load(fp)\n",
    "\n",
    "image7 = Image.open('final_seed_7.png')\n",
    "\n",
    "im7 = np.asarray(image7)\n",
    "centroids7 = log7[-1][-1]\n",
    "\n",
    "feats7 = extract_features(im7, 400, centroids7)\n",
    "\n",
    "plt.imshow(im7)\n",
    "plt.scatter(centroids7[0][1], centroids7[0][0], c = \"red\", s=10)\n",
    "plt.scatter(centroids7[1][1], centroids7[1][0], c = \"red\", s=10)\n",
    "plt.show()\n",
    "\n",
    "plt.hist(feats7[:, 0])\n",
    "plt.show()\n",
    "\n",
    "plt.hist(feats7[:, 1])\n",
    "plt.show()"
   ]
  },
  {
   "cell_type": "code",
   "execution_count": null,
   "id": "23785763",
   "metadata": {},
   "outputs": [],
   "source": [
    "density347 = np.vstack([feats3[:, 0].reshape(-1,1), feats4[:, 0].reshape(-1,1), feats7[:, 0].reshape(-1,1)])\n",
    "grad347 = np.vstack([feats3[:, 1].reshape(-1,1), feats4[:, 1].reshape(-1,1), feats7[:, 1].reshape(-1,1)])"
   ]
  },
  {
   "cell_type": "code",
   "execution_count": null,
   "id": "f60a6a5c",
   "metadata": {},
   "outputs": [],
   "source": [
    "plt.hist(density347)\n",
    "plt.show()\n",
    "\n",
    "plt.hist(grad347)\n",
    "plt.show()"
   ]
  },
  {
   "cell_type": "code",
   "execution_count": null,
   "id": "5a883399",
   "metadata": {},
   "outputs": [],
   "source": [
    "np.sum(density347 > 15000)"
   ]
  },
  {
   "cell_type": "code",
   "execution_count": null,
   "id": "c848a0b1",
   "metadata": {},
   "outputs": [],
   "source": [
    "np.sum(grad347 > 150)"
   ]
  },
  {
   "cell_type": "code",
   "execution_count": null,
   "id": "a200ed62",
   "metadata": {},
   "outputs": [],
   "source": [
    "len(density347)"
   ]
  },
  {
   "cell_type": "code",
   "execution_count": null,
   "id": "75e93825",
   "metadata": {},
   "outputs": [],
   "source": [
    "%matplotlib inline\n",
    "import matplotlib.pyplot as plt\n",
    "import numpy as np\n",
    "import pandas as pd\n",
    "from scipy.spatial.distance import cdist\n",
    "from scipy import ndimage, misc\n",
    "from skimage.morphology import skeletonize\n",
    "import sklearn\n",
    "from sklearn import linear_model\n",
    "from sklearn import model_selection \n",
    "from tqdm import tqdm\n",
    "import cv2\n",
    "import tifffile\n",
    "import cupy as cp\n",
    "import matplotlib\n",
    "from cupyx.scipy import ndimage\n",
    "from sklearn.ensemble import RandomForestRegressor\n",
    "from sklearn.preprocessing import StandardScaler\n",
    "from sklearn.svm import SVR\n",
    "from sklearn.model_selection import cross_val_score\n",
    "from sklearn.gaussian_process import GaussianProcessRegressor\n",
    "from sklearn.gaussian_process.kernels import DotProduct, WhiteKernel\n",
    "from sklearn.ensemble import GradientBoostingRegressor\n",
    "from sklearn import linear_model\n",
    "import random\n",
    "import time\n",
    "from PIL import Image\n",
    "import pickle\n"
   ]
  },
  {
   "cell_type": "code",
   "execution_count": null,
   "id": "cab58975",
   "metadata": {},
   "outputs": [],
   "source": [
    "dfHeitorRandom = pd.read_csv(\"random_features_dipole.csv\")\n",
    "rX, ry = dfHeitorRandom.iloc[:, :-1], dfHeitorRandom.iloc[:, -1]\n",
    "rxSub = rX[[\"density_400\", \"grad_400\"]]\n",
    "scaler = StandardScaler()\n",
    "rxSubScale = scaler.fit_transform(rxSub)\n",
    "x, y = rxSubScale[:, 0], rxSubScale[:, 1]\n",
    "\n",
    "svc = SVR(kernel='linear').fit(rxSubScale, ry.ravel())\n",
    "rbf_svc = SVR(kernel='rbf').fit(rxSubScale, ry.ravel())\n",
    "poly_svc = SVR(kernel='poly').fit(rxSubScale, ry.ravel())\n",
    "sig_svc = SVR(kernel='sigmoid').fit(rxSubScale, ry.ravel())\n",
    "\n",
    "\n",
    "h = .01\n",
    "x_min, x_max = x.min() - 1, x.max() + 1\n",
    "y_min, y_max = y.min() - 1, y.max() + 1\n",
    "xx, yy = np.meshgrid(np.arange(x_min, x_max, h),\n",
    "                     np.arange(y_min, y_max, h))\n",
    "\n",
    "titles = ['SVR with linear kernel',\n",
    "          'SVR with RBF kernel',\n",
    "          'SVR with polynomial (degree 3) kernel',\n",
    "          'SVR with sigmoid kernel']\n",
    "\n",
    "plt.figure(figsize=(16,4))\n",
    "for i, regr in enumerate((svc, rbf_svc, poly_svc)):\n",
    "    plt.subplot(1, 3, i + 1)\n",
    "    plt.subplots_adjust(wspace=0.2, hspace=0.2)\n",
    "    \n",
    "    Z = regr.predict(np.c_[xx.ravel(), yy.ravel()])\n",
    "\n",
    "    # Put the result into a color plot\n",
    "    Z = Z.reshape(xx.shape)\n",
    "    plt.contourf(xx, yy, Z, cmap=plt.cm.coolwarm, alpha=0.8)\n",
    "\n",
    "    # Plot also the training points\n",
    "    plt.scatter(x, y, c=ry.ravel(), cmap=plt.cm.coolwarm)\n",
    "    plt.xlabel('Density 400')\n",
    "    plt.ylabel('Grad 400')\n",
    "    plt.xlim(xx.min(), xx.max())\n",
    "    plt.ylim(yy.min(), yy.max())\n",
    "    plt.colorbar()\n",
    "    plt.title(titles[i])\n",
    "\n",
    "plt.show()"
   ]
  },
  {
   "cell_type": "code",
   "execution_count": null,
   "id": "ee508260",
   "metadata": {},
   "outputs": [],
   "source": [
    "bool4density = feats4[:, 0] > 12500\n",
    "bool4grad = feats4[:, 1] > 100"
   ]
  },
  {
   "cell_type": "code",
   "execution_count": null,
   "id": "afc7faa7",
   "metadata": {},
   "outputs": [],
   "source": [
    "feats4scaled = scaler.transform(feats4)"
   ]
  },
  {
   "cell_type": "code",
   "execution_count": null,
   "id": "ccd015d2",
   "metadata": {},
   "outputs": [],
   "source": [
    "np.unique(feats4scaled[bool4density][:,0]) "
   ]
  },
  {
   "cell_type": "code",
   "execution_count": null,
   "id": "fe2b76df",
   "metadata": {},
   "outputs": [],
   "source": []
  },
  {
   "cell_type": "code",
   "execution_count": null,
   "id": "96389131",
   "metadata": {},
   "outputs": [],
   "source": [
    "len(feats4scaled)"
   ]
  },
  {
   "cell_type": "code",
   "execution_count": null,
   "id": "ea16c90c",
   "metadata": {},
   "outputs": [],
   "source": [
    "np.unique(feats4scaled[bool4grad][:, 1])"
   ]
  },
  {
   "cell_type": "code",
   "execution_count": null,
   "id": "3f066f5f",
   "metadata": {},
   "outputs": [],
   "source": []
  },
  {
   "cell_type": "code",
   "execution_count": null,
   "id": "26ae33bc",
   "metadata": {},
   "outputs": [],
   "source": [
    "bX = pd.read_csv(\"dfXFilterHeitor.csv\")\n",
    "\n",
    "by = pd.read_csv(\"dfyFilterHeitor.csv\").values\n",
    "\n",
    "bxSub = bX[[\"density_400\", \"grad_400\"]]\n",
    "scaler = StandardScaler()\n",
    "bxSubScale = scaler.fit_transform(bxSub)\n",
    "\n",
    "x, y, z = bxSubScale[:, 0], bxSubScale[:, 1], by\n",
    "\n",
    "svc = SVR(kernel='linear').fit(bxSubScale, by.ravel())\n",
    "rbf_svc = SVR(kernel='rbf').fit(bxSubScale, by.ravel())\n",
    "poly_svc = SVR(kernel='poly').fit(bxSubScale, by.ravel())\n",
    "sig_svc = SVR(kernel='sigmoid').fit(bxSubScale, by.ravel())\n",
    "\n",
    "\n",
    "h = .01\n",
    "x_min, x_max = x.min() - 1, x.max() + 1\n",
    "y_min, y_max = y.min() - 1, y.max() + 1\n",
    "xx, yy = np.meshgrid(np.arange(x_min, x_max, h),\n",
    "                     np.arange(y_min, y_max, h))\n",
    "\n",
    "titles = ['SVR with linear kernel',\n",
    "          'SVR with RBF kernel',\n",
    "          'SVR with polynomial (degree 3) kernel',\n",
    "          'SVR with sigmoid kernel']\n",
    "\n",
    "plt.figure(figsize=(16,4))\n",
    "for i, regr in enumerate((svc, rbf_svc, poly_svc)):\n",
    "    plt.subplot(1, 3, i + 1)\n",
    "    plt.subplots_adjust(wspace=0.2, hspace=0.2)\n",
    "    \n",
    "    Z = regr.predict(np.c_[xx.ravel(), yy.ravel()])\n",
    "\n",
    "    # Put the result into a color plot\n",
    "    Z = Z.reshape(xx.shape)\n",
    "    plt.contourf(xx, yy, Z, cmap=plt.cm.coolwarm, alpha=0.8)\n",
    "\n",
    "    # Plot also the training points\n",
    "    plt.scatter(x, y, c=by.ravel(), cmap=plt.cm.coolwarm)\n",
    "    plt.xlabel('Density 400')\n",
    "    plt.ylabel('Grad 400')\n",
    "    plt.xlim(xx.min(), xx.max())\n",
    "    plt.ylim(yy.min(), yy.max())\n",
    "    plt.colorbar()\n",
    "    plt.title(titles[i])\n",
    "\n",
    "plt.show()"
   ]
  },
  {
   "cell_type": "code",
   "execution_count": null,
   "id": "ce817309",
   "metadata": {},
   "outputs": [],
   "source": []
  }
 ],
 "metadata": {
  "kernelspec": {
   "display_name": "pytorch",
   "language": "python",
   "name": "pytorch"
  },
  "language_info": {
   "codemirror_mode": {
    "name": "ipython",
    "version": 3
   },
   "file_extension": ".py",
   "mimetype": "text/x-python",
   "name": "python",
   "nbconvert_exporter": "python",
   "pygments_lexer": "ipython3",
   "version": "3.9.7"
  }
 },
 "nbformat": 4,
 "nbformat_minor": 5
}
